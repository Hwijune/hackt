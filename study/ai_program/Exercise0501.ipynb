{
 "cells": [
  {
   "cell_type": "markdown",
   "id": "c7baec8a",
   "metadata": {},
   "source": [
    " ## <span style=\"color:#004f9f\"> 1. 함수 연습 </span>"
   ]
  },
  {
   "cell_type": "markdown",
   "id": "51d91069",
   "metadata": {},
   "source": [
    "**문항1]** 다음 2개의 행렬을 더하는 함수 my_addition을 작성하여 다음과 같이 정상적으로 출력되도록 하세요.\n",
    "\n",
    "[[4, 9], [7, 4]]"
   ]
  },
  {
   "cell_type": "code",
   "execution_count": 2,
   "id": "b5c11f1e",
   "metadata": {},
   "outputs": [
    {
     "data": {
      "text/plain": [
       "[[4, 9], [7, 4]]"
      ]
     },
     "execution_count": 2,
     "metadata": {},
     "output_type": "execute_result"
    }
   ],
   "source": [
    "def my_addtion(x, y):\n",
    "    res = []\n",
    "    #행\n",
    "    for x_i,y_i in zip(x,y):\n",
    "        row_list = []\n",
    "        #열\n",
    "        for x_j, y_j in zip(x_i, y_i): \n",
    "            row_list.append(x_j+y_j)\n",
    "        res.append(row_list)\n",
    "    return res\n",
    "    \n",
    "matrix_x = [[2,5], [2,1]]\n",
    "matrix_y = [[2,4], [5,3]]\n",
    "my_addtion(matrix_x, matrix_y)"
   ]
  },
  {
   "cell_type": "markdown",
   "id": "4b7bc640",
   "metadata": {},
   "source": [
    "**문항2]** FizzBuzz 함수 만들기\n",
    "- 시작값과 끝값을 인자로 받는 함수\n",
    "- 시작값부터 끝값까지 순서대로 출력\n",
    "- 3의 배수인 경우는 Fizz 출력\n",
    "- 5의 배수인 경우는 Buzz 출력\n",
    "- 15의 배수인 경우는 FizzBuzz출력\n",
    "- 예] 1, 16을 입력한 경우 : 1 2 Fizz 4 Buzz Fizz 7 8 Fizz 10 11 Fizz 13 14 FizzBuzz 16"
   ]
  },
  {
   "cell_type": "code",
   "execution_count": 5,
   "id": "c513e617",
   "metadata": {},
   "outputs": [
    {
     "name": "stdout",
     "output_type": "stream",
     "text": [
      "['1', '16']\n"
     ]
    },
    {
     "data": {
      "text/plain": [
       "'1 2 Fizz 4 Buzz Fizz 7 8 Fizz Buzz 11 Fizz 13 14 FizzBuzz 16 '"
      ]
     },
     "execution_count": 5,
     "metadata": {},
     "output_type": "execute_result"
    }
   ],
   "source": [
    "def FizzBuzz(first_num, last_num):\n",
    "    res = \"\"\n",
    "    for i in range(first_num, last_num+1, 1):\n",
    "        if(i%15 == 0):\n",
    "            res = res + \"FizzBuzz \"\n",
    "        elif(i%3 == 0):\n",
    "            res = res + \"Fizz \"\n",
    "        elif(i%5 == 0):\n",
    "            res = res + \"Buzz \"\n",
    "        else:\n",
    "            res = res + str(i) + \" \"\n",
    "        \n",
    "    return res    \n",
    "   \n",
    "nums = input(\"시작과 끝값을 입력하세요. 예시) 1, 16 -> \")\n",
    "nums_list = nums.split(', ')\n",
    "print(nums_list)\n",
    "FizzBuzz(int(nums_list[0]), int(nums_list[1]))"
   ]
  },
  {
   "cell_type": "markdown",
   "id": "24c6a8fa",
   "metadata": {},
   "source": [
    " ## <span style=\"color:#004f9f\"> 2. 구구단 계산기 VER02 </span>\n",
    " - 사용자가 원하는 구구단을 출력\n",
    " - 1~9단이 아닌 경우에는 재입력\n",
    " - 숫자를 입력하지 않은 경우에는 재입력\n",
    " - 0을 입력할 경우 종료"
   ]
  },
  {
   "cell_type": "code",
   "execution_count": 6,
   "id": "c584aaa8",
   "metadata": {},
   "outputs": [
    {
     "name": "stdout",
     "output_type": "stream",
     "text": [
      "2 * 1 = 2\n",
      "2 * 2 = 4\n",
      "2 * 3 = 6\n",
      "2 * 4 = 8\n",
      "2 * 5 = 10\n",
      "2 * 6 = 12\n",
      "2 * 7 = 14\n",
      "2 * 8 = 16\n",
      "2 * 9 = 18\n",
      "3 * 1 = 3\n",
      "3 * 2 = 6\n",
      "3 * 3 = 9\n",
      "3 * 4 = 12\n",
      "3 * 5 = 15\n",
      "3 * 6 = 18\n",
      "3 * 7 = 21\n",
      "3 * 8 = 24\n",
      "3 * 9 = 27\n",
      "다시 입력하세요.\n",
      "종료\n"
     ]
    }
   ],
   "source": [
    "check_flag = True\n",
    "while check_flag:\n",
    "    try:\n",
    "        num = int(input(\"단을 입력하세요.\"))\n",
    "        if(num >= 1 and num <= 9):\n",
    "            for i in range(1, 10, 1):\n",
    "                print(num, \"*\", i, \"=\", num*i)\n",
    "        elif(num == 0):\n",
    "            print(\"종료\")\n",
    "            check_flag = False\n",
    "        else:\n",
    "            print(\"다시 입력하세요.\")\n",
    "            continue\n",
    "    except:\n",
    "        print(\"다시 입력하세요.\")"
   ]
  },
  {
   "cell_type": "code",
   "execution_count": null,
   "id": "4c45a296",
   "metadata": {},
   "outputs": [],
   "source": []
  }
 ],
 "metadata": {
  "kernelspec": {
   "display_name": "hwi",
   "language": "python",
   "name": "hwi"
  },
  "language_info": {
   "codemirror_mode": {
    "name": "ipython",
    "version": 3
   },
   "file_extension": ".py",
   "mimetype": "text/x-python",
   "name": "python",
   "nbconvert_exporter": "python",
   "pygments_lexer": "ipython3",
   "version": "3.7.0"
  }
 },
 "nbformat": 4,
 "nbformat_minor": 5
}
