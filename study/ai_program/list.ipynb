{
 "cells": [
  {
   "cell_type": "code",
   "execution_count": 15,
   "id": "7f815245",
   "metadata": {},
   "outputs": [
    {
     "name": "stdout",
     "output_type": "stream",
     "text": [
      "[7, 8, 9, 4, 5]\n"
     ]
    }
   ],
   "source": [
    "y = [1,2,3,4,5]\n",
    "\n",
    "y[:3] = [7,8,9]\n",
    "print(y)"
   ]
  },
  {
   "cell_type": "code",
   "execution_count": 16,
   "id": "f0b7bf90",
   "metadata": {},
   "outputs": [
    {
     "name": "stdout",
     "output_type": "stream",
     "text": [
      "[0, 10, 4, 5]\n"
     ]
    }
   ],
   "source": [
    "y = [1,2,3,4,5]\n",
    "\n",
    "y[:3] = [0, 10]\n",
    "print(y)"
   ]
  },
  {
   "cell_type": "code",
   "execution_count": 17,
   "id": "ebdcd0bf",
   "metadata": {},
   "outputs": [
    {
     "name": "stdout",
     "output_type": "stream",
     "text": [
      "[7, 8, 9, 10, 4, 5]\n"
     ]
    }
   ],
   "source": [
    "y = [1,2,3,4,5]\n",
    "\n",
    "y[:3] = [7,8,9,10]\n",
    "print(y)"
   ]
  },
  {
   "cell_type": "code",
   "execution_count": 18,
   "id": "989313be",
   "metadata": {},
   "outputs": [],
   "source": [
    "city = ['서울', '부산', '인천', '대구', '대전', '광주', '울산', '수원']"
   ]
  },
  {
   "cell_type": "code",
   "execution_count": 19,
   "id": "2cf2ef61",
   "metadata": {},
   "outputs": [
    {
     "data": {
      "text/plain": [
       "list"
      ]
     },
     "execution_count": 19,
     "metadata": {},
     "output_type": "execute_result"
    }
   ],
   "source": [
    "type(city)"
   ]
  },
  {
   "cell_type": "code",
   "execution_count": 20,
   "id": "cab152c5",
   "metadata": {},
   "outputs": [
    {
     "name": "stdout",
     "output_type": "stream",
     "text": [
      "['서울', '부산', '인천', '대구', '대전', '광주', '울산', '수원']\n"
     ]
    }
   ],
   "source": [
    "a = print(city)"
   ]
  },
  {
   "cell_type": "markdown",
   "id": "496af2be",
   "metadata": {},
   "source": [
    "* 인덱싱"
   ]
  },
  {
   "cell_type": "code",
   "execution_count": 21,
   "id": "79ce66ee",
   "metadata": {},
   "outputs": [
    {
     "data": {
      "text/plain": [
       "'인천'"
      ]
     },
     "execution_count": 21,
     "metadata": {},
     "output_type": "execute_result"
    }
   ],
   "source": [
    "city[2]"
   ]
  },
  {
   "cell_type": "code",
   "execution_count": 22,
   "id": "10d4ed24",
   "metadata": {},
   "outputs": [
    {
     "data": {
      "text/plain": [
       "str"
      ]
     },
     "execution_count": 22,
     "metadata": {},
     "output_type": "execute_result"
    }
   ],
   "source": [
    "type(city[2])"
   ]
  },
  {
   "cell_type": "code",
   "execution_count": 23,
   "id": "b9d889b2",
   "metadata": {},
   "outputs": [
    {
     "data": {
      "text/plain": [
       "'울산'"
      ]
     },
     "execution_count": 23,
     "metadata": {},
     "output_type": "execute_result"
    }
   ],
   "source": [
    "city[-2]"
   ]
  },
  {
   "cell_type": "code",
   "execution_count": 24,
   "id": "ed877a5d",
   "metadata": {},
   "outputs": [
    {
     "data": {
      "text/plain": [
       "['부산', '인천', '대전']"
      ]
     },
     "execution_count": 24,
     "metadata": {},
     "output_type": "execute_result"
    }
   ],
   "source": [
    "[city[1], city[2] ,city[4]]"
   ]
  },
  {
   "cell_type": "code",
   "execution_count": 25,
   "id": "c4a2dd18",
   "metadata": {},
   "outputs": [
    {
     "data": {
      "text/plain": [
       "['부산', '인천', '대구']"
      ]
     },
     "execution_count": 25,
     "metadata": {},
     "output_type": "execute_result"
    }
   ],
   "source": [
    "city[1:4]"
   ]
  },
  {
   "cell_type": "code",
   "execution_count": 26,
   "id": "aa819a64",
   "metadata": {},
   "outputs": [
    {
     "data": {
      "text/plain": [
       "['서울', '부산', '인천']"
      ]
     },
     "execution_count": 26,
     "metadata": {},
     "output_type": "execute_result"
    }
   ],
   "source": [
    "city[:3]"
   ]
  },
  {
   "cell_type": "code",
   "execution_count": 27,
   "id": "88c04095",
   "metadata": {},
   "outputs": [
    {
     "data": {
      "text/plain": [
       "8"
      ]
     },
     "execution_count": 27,
     "metadata": {},
     "output_type": "execute_result"
    }
   ],
   "source": [
    "len(city)"
   ]
  },
  {
   "cell_type": "code",
   "execution_count": 28,
   "id": "7410199a",
   "metadata": {},
   "outputs": [
    {
     "data": {
      "text/plain": [
       "['광주', '울산', '수원']"
      ]
     },
     "execution_count": 28,
     "metadata": {},
     "output_type": "execute_result"
    }
   ],
   "source": [
    "city[5:]"
   ]
  },
  {
   "cell_type": "code",
   "execution_count": 29,
   "id": "a6340ac1",
   "metadata": {},
   "outputs": [
    {
     "data": {
      "text/plain": [
       "['광주', '울산', '수원']"
      ]
     },
     "execution_count": 29,
     "metadata": {},
     "output_type": "execute_result"
    }
   ],
   "source": [
    "city[-3:]"
   ]
  },
  {
   "cell_type": "code",
   "execution_count": 30,
   "id": "5add73a9",
   "metadata": {},
   "outputs": [
    {
     "data": {
      "text/plain": [
       "['서울', '부산', '인천', '대구', '대전', '광주', '울산', '수원']"
      ]
     },
     "execution_count": 30,
     "metadata": {},
     "output_type": "execute_result"
    }
   ],
   "source": [
    "city"
   ]
  },
  {
   "cell_type": "code",
   "execution_count": 31,
   "id": "07815d74",
   "metadata": {},
   "outputs": [
    {
     "data": {
      "text/plain": [
       "['인천', '대구', '대전', '광주']"
      ]
     },
     "execution_count": 31,
     "metadata": {},
     "output_type": "execute_result"
    }
   ],
   "source": [
    "city[2:6]"
   ]
  },
  {
   "cell_type": "code",
   "execution_count": 32,
   "id": "ac82409c",
   "metadata": {},
   "outputs": [
    {
     "data": {
      "text/plain": [
       "['인천', '대전']"
      ]
     },
     "execution_count": 32,
     "metadata": {},
     "output_type": "execute_result"
    }
   ],
   "source": [
    "city[2:6:2]"
   ]
  },
  {
   "cell_type": "code",
   "execution_count": 33,
   "id": "937abd3f",
   "metadata": {},
   "outputs": [
    {
     "data": {
      "text/plain": [
       "['수원', '울산', '광주', '대전', '대구', '인천', '부산', '서울']"
      ]
     },
     "execution_count": 33,
     "metadata": {},
     "output_type": "execute_result"
    }
   ],
   "source": [
    "city[::-1] #reverse"
   ]
  },
  {
   "cell_type": "code",
   "execution_count": 34,
   "id": "cd488e0a",
   "metadata": {},
   "outputs": [
    {
     "data": {
      "text/plain": [
       "['부산', '인천', '대구']"
      ]
     },
     "execution_count": 34,
     "metadata": {},
     "output_type": "execute_result"
    }
   ],
   "source": [
    "city[1:4]"
   ]
  },
  {
   "cell_type": "code",
   "execution_count": 35,
   "id": "e08a9820",
   "metadata": {},
   "outputs": [
    {
     "data": {
      "text/plain": [
       "['대구', '인천', '부산']"
      ]
     },
     "execution_count": 35,
     "metadata": {},
     "output_type": "execute_result"
    }
   ],
   "source": [
    "city[1:4][::-1]"
   ]
  },
  {
   "cell_type": "code",
   "execution_count": 41,
   "id": "5d4f46f2",
   "metadata": {},
   "outputs": [
    {
     "data": {
      "text/plain": [
       "['대구', '인천', '부산']"
      ]
     },
     "execution_count": 41,
     "metadata": {},
     "output_type": "execute_result"
    }
   ],
   "source": [
    "city[3:0:-1]"
   ]
  },
  {
   "cell_type": "code",
   "execution_count": 42,
   "id": "34718cd0",
   "metadata": {},
   "outputs": [
    {
     "data": {
      "text/plain": [
       "['울산', '광주']"
      ]
     },
     "execution_count": 42,
     "metadata": {},
     "output_type": "execute_result"
    }
   ],
   "source": [
    "city[-2:-4:-1]"
   ]
  },
  {
   "cell_type": "code",
   "execution_count": 43,
   "id": "62c29a7b",
   "metadata": {},
   "outputs": [
    {
     "data": {
      "text/plain": [
       "['서울', '부산', '인천', '대구', '대전', '광주', '울산', '수원']"
      ]
     },
     "execution_count": 43,
     "metadata": {},
     "output_type": "execute_result"
    }
   ],
   "source": [
    "city"
   ]
  },
  {
   "cell_type": "code",
   "execution_count": 44,
   "id": "4c3567bb",
   "metadata": {},
   "outputs": [
    {
     "data": {
      "text/plain": [
       "['강남구', '부산', '인천', '대구', '대전', '광주', '울산', '수원']"
      ]
     },
     "execution_count": 44,
     "metadata": {},
     "output_type": "execute_result"
    }
   ],
   "source": [
    "city[0] = '강남구'\n",
    "city"
   ]
  },
  {
   "cell_type": "code",
   "execution_count": 47,
   "id": "9d76ec4c",
   "metadata": {},
   "outputs": [
    {
     "data": {
      "text/plain": [
       "[['성북구', '서초구'], '부산', '인천', '대구', '대전', '광주', '울산', '수원']"
      ]
     },
     "execution_count": 47,
     "metadata": {},
     "output_type": "execute_result"
    }
   ],
   "source": [
    "city[0] = ['성북구', '서초구']\n",
    "city"
   ]
  },
  {
   "cell_type": "code",
   "execution_count": 48,
   "id": "fc4a8a18",
   "metadata": {},
   "outputs": [
    {
     "data": {
      "text/plain": [
       "'서초구'"
      ]
     },
     "execution_count": 48,
     "metadata": {},
     "output_type": "execute_result"
    }
   ],
   "source": [
    "city[0][1]"
   ]
  },
  {
   "cell_type": "code",
   "execution_count": 49,
   "id": "c50948c8",
   "metadata": {},
   "outputs": [],
   "source": [
    "city[0] = '서울'"
   ]
  },
  {
   "cell_type": "code",
   "execution_count": 52,
   "id": "6de3a013",
   "metadata": {},
   "outputs": [
    {
     "data": {
      "text/plain": [
       "['서울특별시', '부산광역시', '인천', '대구', '대전', '광주', '울산', '수원']"
      ]
     },
     "execution_count": 52,
     "metadata": {},
     "output_type": "execute_result"
    }
   ],
   "source": [
    "city[:2] = ['서울특별시', '부산광역시']\n",
    "city"
   ]
  },
  {
   "cell_type": "code",
   "execution_count": 54,
   "id": "36c15bf5",
   "metadata": {},
   "outputs": [
    {
     "data": {
      "text/plain": [
       "['서울', '부산', '대전', '광주', '울산', '수원']"
      ]
     },
     "execution_count": 54,
     "metadata": {},
     "output_type": "execute_result"
    }
   ],
   "source": [
    "city[:3] = ['서울', '부산']\n",
    "city"
   ]
  },
  {
   "cell_type": "code",
   "execution_count": 56,
   "id": "3a59ef8e",
   "metadata": {},
   "outputs": [
    {
     "data": {
      "text/plain": [
       "['서울', '부산', '인천', '인천', '대전', '광주', '울산', '수원']"
      ]
     },
     "execution_count": 56,
     "metadata": {},
     "output_type": "execute_result"
    }
   ],
   "source": [
    "city[:2] = ['서울', '부산', '인천']\n",
    "city"
   ]
  },
  {
   "cell_type": "code",
   "execution_count": 57,
   "id": "2a7ba9e6",
   "metadata": {},
   "outputs": [
    {
     "data": {
      "text/plain": [
       "[0, '인천', '인천', '대전', '광주', '울산', '수원']"
      ]
     },
     "execution_count": 57,
     "metadata": {},
     "output_type": "execute_result"
    }
   ],
   "source": [
    "city[:2] = [0]\n",
    "city"
   ]
  },
  {
   "cell_type": "code",
   "execution_count": 61,
   "id": "2955a593",
   "metadata": {},
   "outputs": [
    {
     "data": {
      "text/plain": [
       "0"
      ]
     },
     "execution_count": 61,
     "metadata": {},
     "output_type": "execute_result"
    }
   ],
   "source": [
    "city[0]"
   ]
  },
  {
   "cell_type": "code",
   "execution_count": 62,
   "id": "faf1c30a",
   "metadata": {},
   "outputs": [
    {
     "data": {
      "text/plain": [
       "[0]"
      ]
     },
     "execution_count": 62,
     "metadata": {},
     "output_type": "execute_result"
    }
   ],
   "source": [
    "city[:1]"
   ]
  },
  {
   "cell_type": "code",
   "execution_count": 64,
   "id": "6b5cbaa6",
   "metadata": {},
   "outputs": [
    {
     "data": {
      "text/plain": [
       "['서울', '부산', '부산', '인천', '인천', '대전', '광주', '울산', '수원']"
      ]
     },
     "execution_count": 64,
     "metadata": {},
     "output_type": "execute_result"
    }
   ],
   "source": [
    "city[:1] = ['서울', '부산']\n",
    "city"
   ]
  },
  {
   "cell_type": "code",
   "execution_count": 65,
   "id": "05131987",
   "metadata": {},
   "outputs": [],
   "source": [
    "xs = [1,3,5,7,9]\n",
    "ys = [100, 200, 300]"
   ]
  },
  {
   "cell_type": "code",
   "execution_count": 66,
   "id": "f8f386fb",
   "metadata": {},
   "outputs": [
    {
     "data": {
      "text/plain": [
       "[1, 3, 5, 7, 9, 100, 200, 300]"
      ]
     },
     "execution_count": 66,
     "metadata": {},
     "output_type": "execute_result"
    }
   ],
   "source": [
    "xs + ys"
   ]
  },
  {
   "cell_type": "code",
   "execution_count": 67,
   "id": "e1073a22",
   "metadata": {},
   "outputs": [
    {
     "data": {
      "text/plain": [
       "[1, 3, 5, 7, 9, 1, 3, 5, 7, 9, 1, 3, 5, 7, 9]"
      ]
     },
     "execution_count": 67,
     "metadata": {},
     "output_type": "execute_result"
    }
   ],
   "source": [
    "xs * 3"
   ]
  },
  {
   "cell_type": "code",
   "execution_count": 68,
   "id": "19f030f6",
   "metadata": {},
   "outputs": [
    {
     "data": {
      "text/plain": [
       "False"
      ]
     },
     "execution_count": 68,
     "metadata": {},
     "output_type": "execute_result"
    }
   ],
   "source": [
    "2 in xs"
   ]
  },
  {
   "cell_type": "code",
   "execution_count": 69,
   "id": "b48bdcb1",
   "metadata": {},
   "outputs": [
    {
     "data": {
      "text/plain": [
       "True"
      ]
     },
     "execution_count": 69,
     "metadata": {},
     "output_type": "execute_result"
    }
   ],
   "source": [
    "3 in xs"
   ]
  },
  {
   "cell_type": "code",
   "execution_count": 70,
   "id": "5d3f0a41",
   "metadata": {},
   "outputs": [
    {
     "ename": "ValueError",
     "evalue": "too many values to unpack (expected 2)",
     "output_type": "error",
     "traceback": [
      "\u001b[0;31m---------------------------------------------------------------------------\u001b[0m",
      "\u001b[0;31mValueError\u001b[0m                                Traceback (most recent call last)",
      "Input \u001b[0;32mIn [70]\u001b[0m, in \u001b[0;36m<cell line: 1>\u001b[0;34m()\u001b[0m\n\u001b[0;32m----> 1\u001b[0m a, b \u001b[38;5;241m=\u001b[39m [\u001b[38;5;241m1\u001b[39m, \u001b[38;5;241m2\u001b[39m, \u001b[38;5;241m3\u001b[39m]\n",
      "\u001b[0;31mValueError\u001b[0m: too many values to unpack (expected 2)"
     ]
    }
   ],
   "source": [
    "a, b = [1, 2, 3]"
   ]
  },
  {
   "cell_type": "code",
   "execution_count": 71,
   "id": "b7b7b9f7",
   "metadata": {},
   "outputs": [],
   "source": [
    "a, b, _ = [1, 2, 3]"
   ]
  },
  {
   "cell_type": "code",
   "execution_count": 72,
   "id": "f9e33c8f",
   "metadata": {},
   "outputs": [
    {
     "data": {
      "text/plain": [
       "1"
      ]
     },
     "execution_count": 72,
     "metadata": {},
     "output_type": "execute_result"
    }
   ],
   "source": [
    "a"
   ]
  },
  {
   "cell_type": "code",
   "execution_count": 73,
   "id": "c6db2b8c",
   "metadata": {},
   "outputs": [
    {
     "data": {
      "text/plain": [
       "2"
      ]
     },
     "execution_count": 73,
     "metadata": {},
     "output_type": "execute_result"
    }
   ],
   "source": [
    "b"
   ]
  },
  {
   "cell_type": "code",
   "execution_count": 74,
   "id": "ba2277d1",
   "metadata": {},
   "outputs": [],
   "source": [
    "a, _, b, _ = [1,2,3,4]"
   ]
  },
  {
   "cell_type": "code",
   "execution_count": 75,
   "id": "4c9ed308",
   "metadata": {},
   "outputs": [
    {
     "data": {
      "text/plain": [
       "1"
      ]
     },
     "execution_count": 75,
     "metadata": {},
     "output_type": "execute_result"
    }
   ],
   "source": [
    "a"
   ]
  },
  {
   "cell_type": "code",
   "execution_count": 76,
   "id": "2306facc",
   "metadata": {},
   "outputs": [
    {
     "data": {
      "text/plain": [
       "3"
      ]
     },
     "execution_count": 76,
     "metadata": {},
     "output_type": "execute_result"
    }
   ],
   "source": [
    "b"
   ]
  },
  {
   "cell_type": "code",
   "execution_count": 77,
   "id": "5062a703",
   "metadata": {},
   "outputs": [
    {
     "data": {
      "text/plain": [
       "[1, 3, 5, 7, 9]"
      ]
     },
     "execution_count": 77,
     "metadata": {},
     "output_type": "execute_result"
    }
   ],
   "source": [
    "xs"
   ]
  },
  {
   "cell_type": "code",
   "execution_count": 78,
   "id": "42f74ee1",
   "metadata": {},
   "outputs": [
    {
     "data": {
      "text/plain": [
       "[100, 200, 300]"
      ]
     },
     "execution_count": 78,
     "metadata": {},
     "output_type": "execute_result"
    }
   ],
   "source": [
    "ys"
   ]
  },
  {
   "cell_type": "code",
   "execution_count": 81,
   "id": "8b956892",
   "metadata": {},
   "outputs": [
    {
     "data": {
      "text/plain": [
       "[1, 3, 5, 7, 9, 11, 11, 11]"
      ]
     },
     "execution_count": 81,
     "metadata": {},
     "output_type": "execute_result"
    }
   ],
   "source": [
    "xs.append(11)\n",
    "xs"
   ]
  },
  {
   "cell_type": "code",
   "execution_count": 82,
   "id": "c95e5a0c",
   "metadata": {},
   "outputs": [
    {
     "data": {
      "text/plain": [
       "[1, 3, 5, 7, 9, 11, 11, 11, [13, 15]]"
      ]
     },
     "execution_count": 82,
     "metadata": {},
     "output_type": "execute_result"
    }
   ],
   "source": [
    "xs.append([13, 15])\n",
    "xs"
   ]
  },
  {
   "cell_type": "code",
   "execution_count": 84,
   "id": "111e42e6",
   "metadata": {},
   "outputs": [
    {
     "data": {
      "text/plain": [
       "[1, 3, 5, 7, 9, 11, 11, 11, [13, 15], 17, 19, 17, 19]"
      ]
     },
     "execution_count": 84,
     "metadata": {},
     "output_type": "execute_result"
    }
   ],
   "source": [
    "xs.extend([17, 19])\n",
    "xs"
   ]
  },
  {
   "cell_type": "code",
   "execution_count": 86,
   "id": "1b798e6b",
   "metadata": {},
   "outputs": [
    {
     "data": {
      "text/plain": [
       "[1, 3, 5, 7, 9, 11, 11, 11, [13, 15], 17, 19, 17, 19, 13, 15, 13, 15]"
      ]
     },
     "execution_count": 86,
     "metadata": {},
     "output_type": "execute_result"
    }
   ],
   "source": [
    "xs = xs + [13, 15]\n",
    "xs"
   ]
  },
  {
   "cell_type": "code",
   "execution_count": 93,
   "id": "230b3f1f",
   "metadata": {},
   "outputs": [],
   "source": [
    "xs.insert(11, 2)"
   ]
  },
  {
   "cell_type": "code",
   "execution_count": 94,
   "id": "3ada434d",
   "metadata": {},
   "outputs": [],
   "source": [
    "xs.remove(3)"
   ]
  },
  {
   "cell_type": "code",
   "execution_count": 95,
   "id": "1b616234",
   "metadata": {},
   "outputs": [
    {
     "data": {
      "text/plain": [
       "[1, 5, 7, 11, 11, 11, [13, 15], 17, 19, 17, 2, 2, 19, 13, 15, 13, 15]"
      ]
     },
     "execution_count": 95,
     "metadata": {},
     "output_type": "execute_result"
    }
   ],
   "source": [
    "xs"
   ]
  },
  {
   "cell_type": "code",
   "execution_count": 96,
   "id": "43c33d9f",
   "metadata": {},
   "outputs": [],
   "source": [
    "del xs"
   ]
  },
  {
   "cell_type": "code",
   "execution_count": 97,
   "id": "b1de81d6",
   "metadata": {},
   "outputs": [],
   "source": [
    "del ys[0]"
   ]
  },
  {
   "cell_type": "code",
   "execution_count": 98,
   "id": "c1d1af49",
   "metadata": {},
   "outputs": [
    {
     "data": {
      "text/plain": [
       "[200, 300]"
      ]
     },
     "execution_count": 98,
     "metadata": {},
     "output_type": "execute_result"
    }
   ],
   "source": [
    "ys"
   ]
  },
  {
   "cell_type": "code",
   "execution_count": 100,
   "id": "b443e262",
   "metadata": {},
   "outputs": [],
   "source": [
    "xs = [1,2,3,4,5,6,7,8,9,10]"
   ]
  },
  {
   "cell_type": "code",
   "execution_count": 101,
   "id": "3760b9a2",
   "metadata": {},
   "outputs": [
    {
     "data": {
      "text/plain": [
       "[1, 5, 6, 7, 8, 9, 10]"
      ]
     },
     "execution_count": 101,
     "metadata": {},
     "output_type": "execute_result"
    }
   ],
   "source": [
    "del xs[1:4]\n",
    "xs"
   ]
  },
  {
   "cell_type": "code",
   "execution_count": 102,
   "id": "26960b34",
   "metadata": {},
   "outputs": [],
   "source": [
    "z = xs.pop()"
   ]
  },
  {
   "cell_type": "code",
   "execution_count": 103,
   "id": "6bfc2fb8",
   "metadata": {},
   "outputs": [
    {
     "data": {
      "text/plain": [
       "10"
      ]
     },
     "execution_count": 103,
     "metadata": {},
     "output_type": "execute_result"
    }
   ],
   "source": [
    "z"
   ]
  },
  {
   "cell_type": "code",
   "execution_count": 104,
   "id": "39d42baa",
   "metadata": {},
   "outputs": [
    {
     "data": {
      "text/plain": [
       "6"
      ]
     },
     "execution_count": 104,
     "metadata": {},
     "output_type": "execute_result"
    }
   ],
   "source": [
    "xs.pop(2)"
   ]
  },
  {
   "cell_type": "code",
   "execution_count": 105,
   "id": "b4b5703f",
   "metadata": {},
   "outputs": [
    {
     "data": {
      "text/plain": [
       "[1, 5, 7, 8, 9]"
      ]
     },
     "execution_count": 105,
     "metadata": {},
     "output_type": "execute_result"
    }
   ],
   "source": [
    "xs"
   ]
  },
  {
   "cell_type": "code",
   "execution_count": 1,
   "id": "770bf1ae",
   "metadata": {},
   "outputs": [],
   "source": [
    "a = [3, 8, 1, 4, 5, True, False]\n",
    "b = ['영희', '철수', '길동']\n",
    "c = ['영희', 3, '철수', 1]"
   ]
  },
  {
   "cell_type": "code",
   "execution_count": 2,
   "id": "a9f9730b",
   "metadata": {},
   "outputs": [
    {
     "data": {
      "text/plain": [
       "[False, 1, True, 3, 4, 5, 8]"
      ]
     },
     "execution_count": 2,
     "metadata": {},
     "output_type": "execute_result"
    }
   ],
   "source": [
    "sorted(a)"
   ]
  },
  {
   "cell_type": "code",
   "execution_count": 3,
   "id": "639a038e",
   "metadata": {},
   "outputs": [
    {
     "data": {
      "text/plain": [
       "[8, 5, 4, 3, 1, True, False]"
      ]
     },
     "execution_count": 3,
     "metadata": {},
     "output_type": "execute_result"
    }
   ],
   "source": [
    "sorted(a, reverse=True)"
   ]
  },
  {
   "cell_type": "code",
   "execution_count": 4,
   "id": "85e18819",
   "metadata": {},
   "outputs": [],
   "source": [
    "b.sort()"
   ]
  },
  {
   "cell_type": "code",
   "execution_count": 5,
   "id": "76bf2d23",
   "metadata": {},
   "outputs": [
    {
     "data": {
      "text/plain": [
       "['길동', '영희', '철수']"
      ]
     },
     "execution_count": 5,
     "metadata": {},
     "output_type": "execute_result"
    }
   ],
   "source": [
    "b"
   ]
  },
  {
   "cell_type": "code",
   "execution_count": 6,
   "id": "9cee83b4",
   "metadata": {},
   "outputs": [
    {
     "ename": "TypeError",
     "evalue": "'<' not supported between instances of 'int' and 'str'",
     "output_type": "error",
     "traceback": [
      "\u001b[0;31m---------------------------------------------------------------------------\u001b[0m",
      "\u001b[0;31mTypeError\u001b[0m                                 Traceback (most recent call last)",
      "Input \u001b[0;32mIn [6]\u001b[0m, in \u001b[0;36m<cell line: 1>\u001b[0;34m()\u001b[0m\n\u001b[0;32m----> 1\u001b[0m \u001b[38;5;28;43msorted\u001b[39;49m\u001b[43m(\u001b[49m\u001b[43mc\u001b[49m\u001b[43m)\u001b[49m\n",
      "\u001b[0;31mTypeError\u001b[0m: '<' not supported between instances of 'int' and 'str'"
     ]
    }
   ],
   "source": [
    "sorted(c)"
   ]
  },
  {
   "cell_type": "code",
   "execution_count": null,
   "id": "59ded47a",
   "metadata": {},
   "outputs": [],
   "source": []
  }
 ],
 "metadata": {
  "celltoolbar": "Raw Cell Format",
  "kernelspec": {
   "display_name": "Python 3 (ipykernel)",
   "language": "python",
   "name": "python3"
  },
  "language_info": {
   "codemirror_mode": {
    "name": "ipython",
    "version": 3
   },
   "file_extension": ".py",
   "mimetype": "text/x-python",
   "name": "python",
   "nbconvert_exporter": "python",
   "pygments_lexer": "ipython3",
   "version": "3.8.10"
  }
 },
 "nbformat": 4,
 "nbformat_minor": 5
}
