{
 "cells": [
  {
   "cell_type": "code",
   "execution_count": 2,
   "id": "64c544b3",
   "metadata": {},
   "outputs": [],
   "source": [
    "import numpy as np"
   ]
  },
  {
   "cell_type": "code",
   "execution_count": 3,
   "id": "0e5ff59f",
   "metadata": {},
   "outputs": [
    {
     "name": "stdout",
     "output_type": "stream",
     "text": [
      "[-1 -4 12]\n",
      "7\n",
      "7\n",
      "7\n",
      "7\n"
     ]
    }
   ],
   "source": [
    "#내적 계산 *벡터 크기가 같아야함\n",
    "a = np.array([-1, 2, 3])\n",
    "b = np.array([1, -2, 4])\n",
    "\n",
    "#원소별 곱 벡터\n",
    "print(a * b)\n",
    "\n",
    "#원소별 곱 벡터합, 전치하고 곱하면 모든 행 다 더해야함.\n",
    "print(np.sum(a*b))\n",
    "\n",
    "#함수 이용\n",
    "print(np.inner(a,b))\n",
    "print(np.dot(a,b))\n",
    "print(a.dot(b))"
   ]
  },
  {
   "cell_type": "code",
   "execution_count": 5,
   "id": "e8c0357c",
   "metadata": {},
   "outputs": [
    {
     "data": {
      "text/plain": [
       "True"
      ]
     },
     "execution_count": 5,
     "metadata": {},
     "output_type": "execute_result"
    }
   ],
   "source": [
    "#교환 법칙\n",
    "np.dot(a,b) == np.dot(b,a)"
   ]
  },
  {
   "cell_type": "code",
   "execution_count": 6,
   "id": "064a0a35",
   "metadata": {},
   "outputs": [
    {
     "data": {
      "text/plain": [
       "True"
      ]
     },
     "execution_count": 6,
     "metadata": {},
     "output_type": "execute_result"
    }
   ],
   "source": [
    "#결합 법칙\n",
    "alpha = 0.5\n",
    "np.dot(alpha * a, b) == alpha * np.dot(a,b)"
   ]
  },
  {
   "cell_type": "code",
   "execution_count": 8,
   "id": "d8674fb0",
   "metadata": {},
   "outputs": [
    {
     "data": {
      "text/plain": [
       "True"
      ]
     },
     "execution_count": 8,
     "metadata": {},
     "output_type": "execute_result"
    }
   ],
   "source": [
    "#분배 법칙\n",
    "c = np.array([1, 2, 3])\n",
    "np.dot(a+b, c) == np.dot(a,c) + np.dot(b,c)"
   ]
  },
  {
   "cell_type": "code",
   "execution_count": 9,
   "id": "aa9d7359",
   "metadata": {},
   "outputs": [
    {
     "data": {
      "text/plain": [
       "6.0"
      ]
     },
     "execution_count": 9,
     "metadata": {},
     "output_type": "execute_result"
    }
   ],
   "source": [
    "#내적의 활용\n",
    "a = np.array([1,2,3])\n",
    "size = len(a)\n",
    "ones = np.ones(shape=(size,))\n",
    "\n",
    "#벡터 원소합\n",
    "np.dot(ones, a)"
   ]
  },
  {
   "cell_type": "code",
   "execution_count": 10,
   "id": "9719c2ec",
   "metadata": {},
   "outputs": [
    {
     "data": {
      "text/plain": [
       "14"
      ]
     },
     "execution_count": 10,
     "metadata": {},
     "output_type": "execute_result"
    }
   ],
   "source": [
    "#벡터 원소 제곱합\n",
    "np.dot(a,a)"
   ]
  },
  {
   "cell_type": "code",
   "execution_count": 11,
   "id": "fea5ca2c",
   "metadata": {},
   "outputs": [
    {
     "data": {
      "text/plain": [
       "2.0"
      ]
     },
     "execution_count": 11,
     "metadata": {},
     "output_type": "execute_result"
    }
   ],
   "source": [
    "#벡터 원소 평균\n",
    "np.dot(ones, a) / len(a)"
   ]
  },
  {
   "cell_type": "code",
   "execution_count": null,
   "id": "4a8517d3",
   "metadata": {},
   "outputs": [],
   "source": [
    "#total sum of square\n",
    "#np.dot(ai - (np.dot(ones, a) / len(a)), ai - (np.dot(ones, a) / len(a))"
   ]
  }
 ],
 "metadata": {
  "kernelspec": {
   "display_name": "Python 3 (ipykernel)",
   "language": "python",
   "name": "python3"
  },
  "language_info": {
   "codemirror_mode": {
    "name": "ipython",
    "version": 3
   },
   "file_extension": ".py",
   "mimetype": "text/x-python",
   "name": "python",
   "nbconvert_exporter": "python",
   "pygments_lexer": "ipython3",
   "version": "3.8.10"
  }
 },
 "nbformat": 4,
 "nbformat_minor": 5
}
