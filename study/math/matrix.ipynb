{
 "cells": [
  {
   "cell_type": "code",
   "execution_count": 2,
   "id": "7663e871",
   "metadata": {},
   "outputs": [],
   "source": [
    "import numpy as np"
   ]
  },
  {
   "cell_type": "code",
   "execution_count": 3,
   "id": "df157c33",
   "metadata": {},
   "outputs": [
    {
     "data": {
      "text/plain": [
       "array([[-1.086,  0.997,  0.283, -1.506],\n",
       "       [-0.579,  1.651, -2.427, -0.429],\n",
       "       [ 1.266, -0.867, -0.679, -0.095],\n",
       "       [ 1.491, -0.639, -0.444, -0.434]])"
      ]
     },
     "execution_count": 3,
     "metadata": {},
     "output_type": "execute_result"
    }
   ],
   "source": [
    "A = np.array([[-1.086, 0.997, 0.283, -1.506], \n",
    "              [-0.579, 1.651, -2.427, -0.429], \n",
    "              [ 1.266, -0.867, -0.679, -0.095], \n",
    "              [ 1.491, -0.639, -0.444, -0.434]]) \n",
    "A"
   ]
  },
  {
   "cell_type": "code",
   "execution_count": 5,
   "id": "27a69771",
   "metadata": {},
   "outputs": [
    {
     "data": {
      "text/plain": [
       "array([['a', 'c'],\n",
       "       ['b', 'd']], dtype=object)"
      ]
     },
     "execution_count": 5,
     "metadata": {},
     "output_type": "execute_result"
    }
   ],
   "source": [
    "B = np.array([['a', 'c'], \n",
    "              ['b', 'd']], dtype='object') \n",
    "B"
   ]
  },
  {
   "cell_type": "code",
   "execution_count": 6,
   "id": "f1dffd38",
   "metadata": {},
   "outputs": [
    {
     "data": {
      "text/plain": [
       "(3, 4)"
      ]
     },
     "execution_count": 6,
     "metadata": {},
     "output_type": "execute_result"
    }
   ],
   "source": [
    "A = np.array([[ 3, 3, 7, 2], \n",
    "              [ 4, 11, 10, 7], \n",
    "              [ 2, 1, 2, 10]]) \n",
    "A.shape"
   ]
  },
  {
   "cell_type": "code",
   "execution_count": 9,
   "id": "5be99bc1",
   "metadata": {},
   "outputs": [
    {
     "data": {
      "text/plain": [
       "12"
      ]
     },
     "execution_count": 9,
     "metadata": {},
     "output_type": "execute_result"
    }
   ],
   "source": [
    "A.size"
   ]
  },
  {
   "cell_type": "code",
   "execution_count": 11,
   "id": "a2f6815c",
   "metadata": {},
   "outputs": [
    {
     "data": {
      "text/plain": [
       "array([3, 3, 7, 2])"
      ]
     },
     "execution_count": 11,
     "metadata": {},
     "output_type": "execute_result"
    }
   ],
   "source": [
    "# 행 벡터\n",
    "A[0,:]"
   ]
  },
  {
   "cell_type": "code",
   "execution_count": 12,
   "id": "a04fb886",
   "metadata": {},
   "outputs": [
    {
     "data": {
      "text/plain": [
       "array([3, 4, 2])"
      ]
     },
     "execution_count": 12,
     "metadata": {},
     "output_type": "execute_result"
    }
   ],
   "source": [
    "# 열 벡터\n",
    "A[:,0]"
   ]
  },
  {
   "cell_type": "code",
   "execution_count": 13,
   "id": "8db890ef",
   "metadata": {},
   "outputs": [
    {
     "data": {
      "text/plain": [
       "3"
      ]
     },
     "execution_count": 13,
     "metadata": {},
     "output_type": "execute_result"
    }
   ],
   "source": [
    "A[0, 0]"
   ]
  },
  {
   "cell_type": "code",
   "execution_count": 14,
   "id": "9ae0fa29",
   "metadata": {},
   "outputs": [
    {
     "data": {
      "text/plain": [
       "7"
      ]
     },
     "execution_count": 14,
     "metadata": {},
     "output_type": "execute_result"
    }
   ],
   "source": [
    "A[1,3]"
   ]
  },
  {
   "cell_type": "markdown",
   "id": "71a50b20",
   "metadata": {},
   "source": [
    "과제 06\n",
    "1) 행렬 A = [3 3 7 2 \n",
    "           4 11 10 7\n",
    "           2 1 2 10]\n",
    "에서 1번째와 2번째 열벡터의 내적을 구해보자. \n",
    "\n",
    "(.dot inner product)\n"
   ]
  },
  {
   "cell_type": "markdown",
   "id": "ac17fdfc",
   "metadata": {},
   "source": [
    "2) 행렬 A =\n",
    "3 3 7 2\n",
    "4 11 10 7\n",
    "2 1 2 10\n",
    "에서 모든 행벡터의 노름을 구해보자. \n",
    "\n",
    "a1, a2, a3 norm\n"
   ]
  },
  {
   "cell_type": "markdown",
   "id": "088cea2a",
   "metadata": {},
   "source": [
    "3) 행렬 A =\n",
    "3 3 7 2\n",
    "4 11 10 7\n",
    "2 1 2 10\n",
    "에서 [𝑎22 ,𝑎24] 의 값을 찾기 위한 파이썬 프로그 램을 구성해보자.\n",
    "\n",
    "A[A[1,1], A[1,3]]"
   ]
  },
  {
   "cell_type": "code",
   "execution_count": 15,
   "id": "83272420",
   "metadata": {},
   "outputs": [
    {
     "data": {
      "text/plain": [
       "array([[ True,  True],\n",
       "       [ True,  True],\n",
       "       [ True,  True]])"
      ]
     },
     "execution_count": 15,
     "metadata": {},
     "output_type": "execute_result"
    }
   ],
   "source": [
    "# 행렬 전치의 성질\n",
    "A = np.arange(1, 7).reshape(2, 3) \n",
    "B = np.arange(3, 9).reshape(2, 3)\n",
    "A.T + B.T == (A + B).T"
   ]
  },
  {
   "cell_type": "code",
   "execution_count": 17,
   "id": "b315f73a",
   "metadata": {},
   "outputs": [
    {
     "name": "stdout",
     "output_type": "stream",
     "text": [
      "[[1 2 3]\n",
      " [4 5 6]]\n",
      "[[3 4 5]\n",
      " [6 7 8]]\n"
     ]
    }
   ],
   "source": [
    "print(A)\n",
    "print(B)"
   ]
  },
  {
   "cell_type": "code",
   "execution_count": 16,
   "id": "06ac7b1c",
   "metadata": {},
   "outputs": [
    {
     "data": {
      "text/plain": [
       "array([[ True,  True],\n",
       "       [ True,  True],\n",
       "       [ True,  True]])"
      ]
     },
     "execution_count": 16,
     "metadata": {},
     "output_type": "execute_result"
    }
   ],
   "source": [
    "c = 0.1\n",
    "(c*A).T == c*A.T"
   ]
  },
  {
   "cell_type": "markdown",
   "id": "45456f12",
   "metadata": {},
   "source": [
    "1) 행렬 A =\n",
    "1 2 3\n",
    "4 5 6\n",
    ", B =\n",
    "3 4 5\n",
    "6 7 8\n",
    "에 대하여 A + 0.1B를 구해보 자."
   ]
  },
  {
   "cell_type": "markdown",
   "id": "badb7a0e",
   "metadata": {},
   "source": [
    "2) 행렬 B =\n",
    "3 4 5\n",
    "6 7 8\n",
    "에 대하여 0.1B T = 0.1B T 임을 알아보자."
   ]
  },
  {
   "cell_type": "code",
   "execution_count": null,
   "id": "b798be74",
   "metadata": {},
   "outputs": [],
   "source": []
  },
  {
   "cell_type": "code",
   "execution_count": null,
   "id": "7db87dbf",
   "metadata": {},
   "outputs": [],
   "source": []
  }
 ],
 "metadata": {
  "kernelspec": {
   "display_name": "Python 3 (ipykernel)",
   "language": "python",
   "name": "python3"
  },
  "language_info": {
   "codemirror_mode": {
    "name": "ipython",
    "version": 3
   },
   "file_extension": ".py",
   "mimetype": "text/x-python",
   "name": "python",
   "nbconvert_exporter": "python",
   "pygments_lexer": "ipython3",
   "version": "3.8.10"
  }
 },
 "nbformat": 4,
 "nbformat_minor": 5
}
