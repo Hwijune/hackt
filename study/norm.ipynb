{
 "cells": [
  {
   "cell_type": "code",
   "execution_count": 2,
   "id": "955b2383",
   "metadata": {},
   "outputs": [],
   "source": [
    "import numpy as np\n",
    "from scipy import linalg as la"
   ]
  },
  {
   "cell_type": "code",
   "execution_count": 6,
   "id": "60e0c26d",
   "metadata": {},
   "outputs": [
    {
     "data": {
      "text/plain": [
       "3.605551275463989"
      ]
     },
     "execution_count": 6,
     "metadata": {},
     "output_type": "execute_result"
    }
   ],
   "source": [
    "#L2 norm, euclidean norm\n",
    "a = np.array([2,3])\n",
    "np.sqrt(np.sum(np.dot(a, a)))"
   ]
  },
  {
   "cell_type": "code",
   "execution_count": 7,
   "id": "4859cdb2",
   "metadata": {},
   "outputs": [
    {
     "data": {
      "text/plain": [
       "3.605551275463989"
      ]
     },
     "execution_count": 7,
     "metadata": {},
     "output_type": "execute_result"
    }
   ],
   "source": [
    "la.norm(a)"
   ]
  },
  {
   "cell_type": "code",
   "execution_count": 11,
   "id": "107fb826",
   "metadata": {},
   "outputs": [],
   "source": [
    "#aT = [1, 2, 3, 4]에 대하여 a / ||a|| 값 구하기\n",
    "#벡터 표준화\n",
    "a = np.array([1,2,3,4])\n",
    "res = a / la.norm(a)"
   ]
  },
  {
   "cell_type": "code",
   "execution_count": 12,
   "id": "6a70f79a",
   "metadata": {},
   "outputs": [
    {
     "data": {
      "text/plain": [
       "0.9999999999999999"
      ]
     },
     "execution_count": 12,
     "metadata": {},
     "output_type": "execute_result"
    }
   ],
   "source": [
    "# a / ||a||에 대하여 || a / || a || ||값 구하기 #시험\n",
    "# normalization\n",
    "# 어떤 벡타가 들어와도 결과는 1\n",
    "la.norm(res)"
   ]
  },
  {
   "cell_type": "code",
   "execution_count": 3,
   "id": "a5e9f1b8",
   "metadata": {},
   "outputs": [
    {
     "data": {
      "text/plain": [
       "True"
      ]
     },
     "execution_count": 3,
     "metadata": {},
     "output_type": "execute_result"
    }
   ],
   "source": [
    "#벡터 노름의 성질\n",
    "a = np.array([-1, 2, 3])\n",
    "b = np.array([1, -2, 4])\n",
    "\n",
    "#스칼라 곱\n",
    "beta = 0.5\n",
    "la.norm(beta * a) == np.abs(beta) * la.norm(a)"
   ]
  },
  {
   "cell_type": "code",
   "execution_count": 4,
   "id": "9a997534",
   "metadata": {},
   "outputs": [
    {
     "data": {
      "text/plain": [
       "True"
      ]
     },
     "execution_count": 4,
     "metadata": {},
     "output_type": "execute_result"
    }
   ],
   "source": [
    "#삼각형의 한 변의 길이는 다른 두변의 길이 합보다 작다.\n",
    "la.norm(a+b) <= la.norm(a) + la.norm(b)"
   ]
  },
  {
   "cell_type": "code",
   "execution_count": 5,
   "id": "3b822647",
   "metadata": {},
   "outputs": [
    {
     "data": {
      "text/plain": [
       "True"
      ]
     },
     "execution_count": 5,
     "metadata": {},
     "output_type": "execute_result"
    }
   ],
   "source": [
    "la.norm(a) >= 0"
   ]
  },
  {
   "cell_type": "code",
   "execution_count": 7,
   "id": "3b020ec9",
   "metadata": {},
   "outputs": [
    {
     "data": {
      "text/plain": [
       "[0.5999999999999999, 53.13010235415599]"
      ]
     },
     "execution_count": 7,
     "metadata": {},
     "output_type": "execute_result"
    }
   ],
   "source": [
    "#코사인 theta 구하기\n",
    "#데이터 구성\n",
    "a = np.array([1,3])\n",
    "b = np.array([3,1])\n",
    "\n",
    "cos_theta_rad = np.dot(a,b) / (la.norm(a)*la.norm(b))\n",
    "\n",
    "#theta_rad값 구하기\n",
    "theta_rad = np.arccos(cos_theta_rad)\n",
    "\n",
    "# 각도 전환: pi radian = 180 degree\n",
    "theta = theta_rad * (180/np.pi)\n",
    "[cos_theta_rad, theta]"
   ]
  },
  {
   "cell_type": "code",
   "execution_count": 8,
   "id": "95f9de1e",
   "metadata": {},
   "outputs": [
    {
     "data": {
      "text/plain": [
       "[0.0, 90.0]"
      ]
     },
     "execution_count": 8,
     "metadata": {},
     "output_type": "execute_result"
    }
   ],
   "source": [
    "#코사인 theta 구하기\n",
    "#데이터 구성\n",
    "a = np.array([0,1])\n",
    "b = np.array([1,0])\n",
    "\n",
    "cos_theta_rad = np.dot(a,b) / (la.norm(a)*la.norm(b))\n",
    "\n",
    "#theta_rad값 구하기\n",
    "theta_rad = np.arccos(cos_theta_rad)\n",
    "\n",
    "# 각도 전환: pi radian = 180 degree\n",
    "theta = theta_rad * (180/np.pi)\n",
    "[cos_theta_rad, theta]"
   ]
  },
  {
   "cell_type": "code",
   "execution_count": 9,
   "id": "43ad4c8d",
   "metadata": {},
   "outputs": [
    {
     "data": {
      "text/plain": [
       "[-0.7071067811865475, 135.0]"
      ]
     },
     "execution_count": 9,
     "metadata": {},
     "output_type": "execute_result"
    }
   ],
   "source": [
    "#코사인 theta 구하기\n",
    "#데이터 구성\n",
    "a = np.array([-1,-1])\n",
    "b = np.array([1,0])\n",
    "\n",
    "cos_theta_rad = np.dot(a,b) / (la.norm(a)*la.norm(b))\n",
    "\n",
    "#theta_rad값 구하기\n",
    "theta_rad = np.arccos(cos_theta_rad)\n",
    "\n",
    "# 각도 전환: pi radian = 180 degree\n",
    "theta = theta_rad * (180/np.pi)\n",
    "[cos_theta_rad, theta]"
   ]
  },
  {
   "cell_type": "code",
   "execution_count": null,
   "id": "afee18e1",
   "metadata": {},
   "outputs": [],
   "source": []
  }
 ],
 "metadata": {
  "kernelspec": {
   "display_name": "Python 3 (ipykernel)",
   "language": "python",
   "name": "python3"
  },
  "language_info": {
   "codemirror_mode": {
    "name": "ipython",
    "version": 3
   },
   "file_extension": ".py",
   "mimetype": "text/x-python",
   "name": "python",
   "nbconvert_exporter": "python",
   "pygments_lexer": "ipython3",
   "version": "3.8.10"
  }
 },
 "nbformat": 4,
 "nbformat_minor": 5
}
