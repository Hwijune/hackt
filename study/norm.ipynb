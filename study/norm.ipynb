{
 "cells": [
  {
   "cell_type": "code",
   "execution_count": 5,
   "id": "955b2383",
   "metadata": {},
   "outputs": [],
   "source": [
    "import numpy as np\n",
    "from scipy import linalg as la"
   ]
  },
  {
   "cell_type": "code",
   "execution_count": 6,
   "id": "60e0c26d",
   "metadata": {},
   "outputs": [
    {
     "data": {
      "text/plain": [
       "3.605551275463989"
      ]
     },
     "execution_count": 6,
     "metadata": {},
     "output_type": "execute_result"
    }
   ],
   "source": [
    "#L2 norm, euclidean norm\n",
    "a = np.array([2,3])\n",
    "np.sqrt(np.sum(np.dot(a, a)))"
   ]
  },
  {
   "cell_type": "code",
   "execution_count": 7,
   "id": "4859cdb2",
   "metadata": {},
   "outputs": [
    {
     "data": {
      "text/plain": [
       "3.605551275463989"
      ]
     },
     "execution_count": 7,
     "metadata": {},
     "output_type": "execute_result"
    }
   ],
   "source": [
    "la.norm(a)"
   ]
  },
  {
   "cell_type": "code",
   "execution_count": 11,
   "id": "107fb826",
   "metadata": {},
   "outputs": [],
   "source": [
    "#aT = [1, 2, 3, 4]에 대하여 a / ||a|| 값 구하기\n",
    "a = np.array([1,2,3,4])\n",
    "res = a / la.norm(a)"
   ]
  },
  {
   "cell_type": "code",
   "execution_count": 12,
   "id": "6a70f79a",
   "metadata": {},
   "outputs": [
    {
     "data": {
      "text/plain": [
       "0.9999999999999999"
      ]
     },
     "execution_count": 12,
     "metadata": {},
     "output_type": "execute_result"
    }
   ],
   "source": [
    "# a / ||a||에 대하여 || a / || a || ||값 구하기\n",
    "la.norm(res)"
   ]
  },
  {
   "cell_type": "code",
   "execution_count": null,
   "id": "a5e9f1b8",
   "metadata": {},
   "outputs": [],
   "source": []
  }
 ],
 "metadata": {
  "kernelspec": {
   "display_name": "Python 3 (ipykernel)",
   "language": "python",
   "name": "python3"
  },
  "language_info": {
   "codemirror_mode": {
    "name": "ipython",
    "version": 3
   },
   "file_extension": ".py",
   "mimetype": "text/x-python",
   "name": "python",
   "nbconvert_exporter": "python",
   "pygments_lexer": "ipython3",
   "version": "3.8.10"
  }
 },
 "nbformat": 4,
 "nbformat_minor": 5
}
