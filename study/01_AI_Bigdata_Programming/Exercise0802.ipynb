{
 "cells": [
  {
   "cell_type": "markdown",
   "metadata": {},
   "source": [
    "#### <span style=\"color: #00a470\"> [Exercise01] 필터링 연습 </span>"
   ]
  },
  {
   "cell_type": "code",
   "execution_count": 2,
   "metadata": {},
   "outputs": [],
   "source": [
    "import numpy as np\n",
    "import pandas as pd"
   ]
  },
  {
   "cell_type": "code",
   "execution_count": 3,
   "metadata": {},
   "outputs": [
    {
     "data": {
      "text/html": [
       "<div>\n",
       "<style scoped>\n",
       "    .dataframe tbody tr th:only-of-type {\n",
       "        vertical-align: middle;\n",
       "    }\n",
       "\n",
       "    .dataframe tbody tr th {\n",
       "        vertical-align: top;\n",
       "    }\n",
       "\n",
       "    .dataframe thead th {\n",
       "        text-align: right;\n",
       "    }\n",
       "</style>\n",
       "<table border=\"1\" class=\"dataframe\">\n",
       "  <thead>\n",
       "    <tr style=\"text-align: right;\">\n",
       "      <th></th>\n",
       "      <th>사고번호</th>\n",
       "      <th>사고년도</th>\n",
       "      <th>사고월</th>\n",
       "      <th>사고일</th>\n",
       "      <th>사고시각</th>\n",
       "      <th>사고요일</th>\n",
       "      <th>시군구_대범주</th>\n",
       "      <th>시군구_소범주</th>\n",
       "      <th>사고내용</th>\n",
       "      <th>사망자수</th>\n",
       "      <th>...</th>\n",
       "      <th>도로형태_대범주</th>\n",
       "      <th>도로형태_소범주</th>\n",
       "      <th>가해운전자차종</th>\n",
       "      <th>가해운전자성별</th>\n",
       "      <th>가해운전자연령</th>\n",
       "      <th>가해운전자상해정도</th>\n",
       "      <th>피해운전자차종</th>\n",
       "      <th>피해운전자성별</th>\n",
       "      <th>피해운전자연령</th>\n",
       "      <th>피해운전자상해정도</th>\n",
       "    </tr>\n",
       "  </thead>\n",
       "  <tbody>\n",
       "    <tr>\n",
       "      <th>0</th>\n",
       "      <td>A2019010100100001</td>\n",
       "      <td>2019</td>\n",
       "      <td>1</td>\n",
       "      <td>1</td>\n",
       "      <td>0</td>\n",
       "      <td>1</td>\n",
       "      <td>강서구</td>\n",
       "      <td>강서구 방화동</td>\n",
       "      <td>경상사고</td>\n",
       "      <td>0</td>\n",
       "      <td>...</td>\n",
       "      <td>교차로</td>\n",
       "      <td>교차로 - 교차로횡단보도내</td>\n",
       "      <td>승용</td>\n",
       "      <td>남</td>\n",
       "      <td>26.0</td>\n",
       "      <td>상해없음</td>\n",
       "      <td>보행자</td>\n",
       "      <td>남</td>\n",
       "      <td>40.0</td>\n",
       "      <td>경상</td>\n",
       "    </tr>\n",
       "    <tr>\n",
       "      <th>1</th>\n",
       "      <td>A2019010100100002</td>\n",
       "      <td>2019</td>\n",
       "      <td>1</td>\n",
       "      <td>1</td>\n",
       "      <td>0</td>\n",
       "      <td>1</td>\n",
       "      <td>구로구</td>\n",
       "      <td>구로구 고척동</td>\n",
       "      <td>경상사고</td>\n",
       "      <td>0</td>\n",
       "      <td>...</td>\n",
       "      <td>단일로</td>\n",
       "      <td>단일로 - 기타</td>\n",
       "      <td>이륜</td>\n",
       "      <td>남</td>\n",
       "      <td>23.0</td>\n",
       "      <td>상해없음</td>\n",
       "      <td>승용</td>\n",
       "      <td>남</td>\n",
       "      <td>71.0</td>\n",
       "      <td>경상</td>\n",
       "    </tr>\n",
       "    <tr>\n",
       "      <th>2</th>\n",
       "      <td>A2019010100100003</td>\n",
       "      <td>2019</td>\n",
       "      <td>1</td>\n",
       "      <td>1</td>\n",
       "      <td>0</td>\n",
       "      <td>1</td>\n",
       "      <td>서초구</td>\n",
       "      <td>서초구 서초동</td>\n",
       "      <td>경상사고</td>\n",
       "      <td>0</td>\n",
       "      <td>...</td>\n",
       "      <td>기타</td>\n",
       "      <td>기타 - 기타</td>\n",
       "      <td>승용</td>\n",
       "      <td>남</td>\n",
       "      <td>33.0</td>\n",
       "      <td>상해없음</td>\n",
       "      <td>화물</td>\n",
       "      <td>남</td>\n",
       "      <td>51.0</td>\n",
       "      <td>경상</td>\n",
       "    </tr>\n",
       "    <tr>\n",
       "      <th>3</th>\n",
       "      <td>A2019010100100019</td>\n",
       "      <td>2019</td>\n",
       "      <td>1</td>\n",
       "      <td>1</td>\n",
       "      <td>1</td>\n",
       "      <td>1</td>\n",
       "      <td>중구</td>\n",
       "      <td>중구 회현동2가</td>\n",
       "      <td>경상사고</td>\n",
       "      <td>0</td>\n",
       "      <td>...</td>\n",
       "      <td>단일로</td>\n",
       "      <td>단일로 - 터널</td>\n",
       "      <td>승용</td>\n",
       "      <td>남</td>\n",
       "      <td>58.0</td>\n",
       "      <td>상해없음</td>\n",
       "      <td>승용</td>\n",
       "      <td>남</td>\n",
       "      <td>62.0</td>\n",
       "      <td>경상</td>\n",
       "    </tr>\n",
       "    <tr>\n",
       "      <th>4</th>\n",
       "      <td>A2019010100100020</td>\n",
       "      <td>2019</td>\n",
       "      <td>1</td>\n",
       "      <td>1</td>\n",
       "      <td>1</td>\n",
       "      <td>1</td>\n",
       "      <td>성동구</td>\n",
       "      <td>성동구 행당동</td>\n",
       "      <td>경상사고</td>\n",
       "      <td>0</td>\n",
       "      <td>...</td>\n",
       "      <td>교차로</td>\n",
       "      <td>교차로 - 교차로부근</td>\n",
       "      <td>승용</td>\n",
       "      <td>남</td>\n",
       "      <td>30.0</td>\n",
       "      <td>상해없음</td>\n",
       "      <td>보행자</td>\n",
       "      <td>남</td>\n",
       "      <td>32.0</td>\n",
       "      <td>경상</td>\n",
       "    </tr>\n",
       "  </tbody>\n",
       "</table>\n",
       "<p>5 rows × 29 columns</p>\n",
       "</div>"
      ],
      "text/plain": [
       "                사고번호  사고년도  사고월  사고일  사고시각  사고요일 시군구_대범주   시군구_소범주  사고내용  \\\n",
       "0  A2019010100100001  2019    1    1     0     1     강서구   강서구 방화동  경상사고   \n",
       "1  A2019010100100002  2019    1    1     0     1     구로구   구로구 고척동  경상사고   \n",
       "2  A2019010100100003  2019    1    1     0     1     서초구   서초구 서초동  경상사고   \n",
       "3  A2019010100100019  2019    1    1     1     1      중구  중구 회현동2가  경상사고   \n",
       "4  A2019010100100020  2019    1    1     1     1     성동구   성동구 행당동  경상사고   \n",
       "\n",
       "   사망자수  ...  도로형태_대범주        도로형태_소범주  가해운전자차종 가해운전자성별 가해운전자연령 가해운전자상해정도  \\\n",
       "0     0  ...       교차로  교차로 - 교차로횡단보도내       승용       남    26.0      상해없음   \n",
       "1     0  ...       단일로        단일로 - 기타       이륜       남    23.0      상해없음   \n",
       "2     0  ...        기타         기타 - 기타       승용       남    33.0      상해없음   \n",
       "3     0  ...       단일로        단일로 - 터널       승용       남    58.0      상해없음   \n",
       "4     0  ...       교차로     교차로 - 교차로부근       승용       남    30.0      상해없음   \n",
       "\n",
       "  피해운전자차종 피해운전자성별 피해운전자연령 피해운전자상해정도  \n",
       "0     보행자       남    40.0        경상  \n",
       "1      승용       남    71.0        경상  \n",
       "2      화물       남    51.0        경상  \n",
       "3      승용       남    62.0        경상  \n",
       "4     보행자       남    32.0        경상  \n",
       "\n",
       "[5 rows x 29 columns]"
      ]
     },
     "execution_count": 3,
     "metadata": {},
     "output_type": "execute_result"
    }
   ],
   "source": [
    "df = pd.read_csv('data/02_seoul_accident_clean.csv')\n",
    "df.head()"
   ]
  },
  {
   "cell_type": "code",
   "execution_count": 13,
   "metadata": {},
   "outputs": [
    {
     "name": "stdout",
     "output_type": "stream",
     "text": [
      "<class 'pandas.core.frame.DataFrame'>\n",
      "RangeIndex: 74485 entries, 0 to 74484\n",
      "Data columns (total 29 columns):\n",
      " #   Column     Non-Null Count  Dtype  \n",
      "---  ------     --------------  -----  \n",
      " 0   사고번호       74485 non-null  object \n",
      " 1   사고년도       74485 non-null  int64  \n",
      " 2   사고월        74485 non-null  int64  \n",
      " 3   사고일        74485 non-null  int64  \n",
      " 4   사고시각       74485 non-null  int64  \n",
      " 5   사고요일       74485 non-null  int64  \n",
      " 6   시군구_대범주    74485 non-null  object \n",
      " 7   시군구_소범주    74485 non-null  object \n",
      " 8   사고내용       74485 non-null  object \n",
      " 9   사망자수       74485 non-null  int64  \n",
      " 10  중상자수       74485 non-null  int64  \n",
      " 11  경상자수       74485 non-null  int64  \n",
      " 12  부상신고자수     74485 non-null  int64  \n",
      " 13  사고유형_대범주   74485 non-null  object \n",
      " 14  사고유형_소범주   74485 non-null  object \n",
      " 15  법규위반       74485 non-null  object \n",
      " 16  노면상태_대범주   74485 non-null  object \n",
      " 17  노면상태_소범주   74485 non-null  object \n",
      " 18  기상상태       73575 non-null  object \n",
      " 19  도로형태_대범주   74485 non-null  object \n",
      " 20  도로형태_소범주   74485 non-null  object \n",
      " 21  가해운전자차종    72734 non-null  object \n",
      " 22  가해운전자성별    72738 non-null  object \n",
      " 23  가해운전자연령    72727 non-null  float64\n",
      " 24  가해운전자상해정도  70172 non-null  object \n",
      " 25  피해운전자차종    72225 non-null  object \n",
      " 26  피해운전자성별    72225 non-null  object \n",
      " 27  피해운전자연령    72049 non-null  float64\n",
      " 28  피해운전자상해정도  72225 non-null  object \n",
      "dtypes: float64(2), int64(9), object(18)\n",
      "memory usage: 16.5+ MB\n"
     ]
    }
   ],
   "source": [
    "df.info()"
   ]
  },
  {
   "cell_type": "markdown",
   "metadata": {},
   "source": [
    "- 6~8월 사이의 사고의 중상자수와 경상자수"
   ]
  },
  {
   "cell_type": "code",
   "execution_count": 15,
   "metadata": {},
   "outputs": [
    {
     "data": {
      "text/html": [
       "<div>\n",
       "<style scoped>\n",
       "    .dataframe tbody tr th:only-of-type {\n",
       "        vertical-align: middle;\n",
       "    }\n",
       "\n",
       "    .dataframe tbody tr th {\n",
       "        vertical-align: top;\n",
       "    }\n",
       "\n",
       "    .dataframe thead th {\n",
       "        text-align: right;\n",
       "    }\n",
       "</style>\n",
       "<table border=\"1\" class=\"dataframe\">\n",
       "  <thead>\n",
       "    <tr style=\"text-align: right;\">\n",
       "      <th></th>\n",
       "      <th>사고월</th>\n",
       "      <th>중상자수</th>\n",
       "      <th>경상자수</th>\n",
       "    </tr>\n",
       "  </thead>\n",
       "  <tbody>\n",
       "    <tr>\n",
       "      <th>15344</th>\n",
       "      <td>6</td>\n",
       "      <td>1</td>\n",
       "      <td>1</td>\n",
       "    </tr>\n",
       "    <tr>\n",
       "      <th>15345</th>\n",
       "      <td>6</td>\n",
       "      <td>1</td>\n",
       "      <td>0</td>\n",
       "    </tr>\n",
       "    <tr>\n",
       "      <th>15346</th>\n",
       "      <td>6</td>\n",
       "      <td>1</td>\n",
       "      <td>1</td>\n",
       "    </tr>\n",
       "    <tr>\n",
       "      <th>15347</th>\n",
       "      <td>6</td>\n",
       "      <td>0</td>\n",
       "      <td>1</td>\n",
       "    </tr>\n",
       "    <tr>\n",
       "      <th>15348</th>\n",
       "      <td>6</td>\n",
       "      <td>0</td>\n",
       "      <td>1</td>\n",
       "    </tr>\n",
       "    <tr>\n",
       "      <th>...</th>\n",
       "      <td>...</td>\n",
       "      <td>...</td>\n",
       "      <td>...</td>\n",
       "    </tr>\n",
       "    <tr>\n",
       "      <th>62741</th>\n",
       "      <td>8</td>\n",
       "      <td>0</td>\n",
       "      <td>1</td>\n",
       "    </tr>\n",
       "    <tr>\n",
       "      <th>62742</th>\n",
       "      <td>8</td>\n",
       "      <td>0</td>\n",
       "      <td>0</td>\n",
       "    </tr>\n",
       "    <tr>\n",
       "      <th>62743</th>\n",
       "      <td>8</td>\n",
       "      <td>0</td>\n",
       "      <td>1</td>\n",
       "    </tr>\n",
       "    <tr>\n",
       "      <th>62744</th>\n",
       "      <td>8</td>\n",
       "      <td>0</td>\n",
       "      <td>1</td>\n",
       "    </tr>\n",
       "    <tr>\n",
       "      <th>62745</th>\n",
       "      <td>8</td>\n",
       "      <td>1</td>\n",
       "      <td>0</td>\n",
       "    </tr>\n",
       "  </tbody>\n",
       "</table>\n",
       "<p>19325 rows × 3 columns</p>\n",
       "</div>"
      ],
      "text/plain": [
       "       사고월  중상자수  경상자수\n",
       "15344    6     1     1\n",
       "15345    6     1     0\n",
       "15346    6     1     1\n",
       "15347    6     0     1\n",
       "15348    6     0     1\n",
       "...    ...   ...   ...\n",
       "62741    8     0     1\n",
       "62742    8     0     0\n",
       "62743    8     0     1\n",
       "62744    8     0     1\n",
       "62745    8     1     0\n",
       "\n",
       "[19325 rows x 3 columns]"
      ]
     },
     "execution_count": 15,
     "metadata": {},
     "output_type": "execute_result"
    }
   ],
   "source": [
    "mm = [6,7,8]\n",
    "nums = ['사고월', '중상자수','경상자수']\n",
    "c = (df['사고월'].isin(mm))\n",
    "df.loc[c, nums]"
   ]
  },
  {
   "cell_type": "code",
   "execution_count": 26,
   "metadata": {},
   "outputs": [
    {
     "data": {
      "text/plain": [
       "중상자수    10\n",
       "dtype: int64"
      ]
     },
     "execution_count": 26,
     "metadata": {},
     "output_type": "execute_result"
    }
   ],
   "source": [
    "df.loc[c, ['중상자수']].sum()"
   ]
  },
  {
   "cell_type": "code",
   "execution_count": 27,
   "metadata": {},
   "outputs": [
    {
     "data": {
      "text/plain": [
       "경상자수    65\n",
       "dtype: int64"
      ]
     },
     "execution_count": 27,
     "metadata": {},
     "output_type": "execute_result"
    }
   ],
   "source": [
    "df.loc[c, ['경상자수']].sum()"
   ]
  },
  {
   "cell_type": "markdown",
   "metadata": {},
   "source": [
    "- 포장도로가 아닌 도로의 가해운전자차종 종류 및 수"
   ]
  },
  {
   "cell_type": "code",
   "execution_count": 85,
   "metadata": {},
   "outputs": [
    {
     "name": "stdout",
     "output_type": "stream",
     "text": [
      "가해운전자차종 종류 ->  ['이륜' '승용' '화물' '자전거' '건설기계']\n",
      "가해운전자차종 수 ->  5\n"
     ]
    }
   ],
   "source": [
    "c = df['노면상태_대범주'] != '포장'\n",
    "\n",
    "print(\"가해운전자차종 종류 -> \", df.loc[c,'가해운전자차종'].dropna().unique())\n",
    "print(\"가해운전자차종 수 -> \", len(df.loc[c,'가해운전자차종'].dropna().unique()))"
   ]
  },
  {
   "cell_type": "markdown",
   "metadata": {},
   "source": [
    "- 기상상태가 눈이나 비인 경우 가해운전자연령의 평균"
   ]
  },
  {
   "cell_type": "code",
   "execution_count": 74,
   "metadata": {},
   "outputs": [
    {
     "data": {
      "text/plain": [
       "0        눈\n",
       "1        눈\n",
       "2        눈\n",
       "3        눈\n",
       "4        눈\n",
       "        ..\n",
       "74480    눈\n",
       "74481    눈\n",
       "74482    눈\n",
       "74483    눈\n",
       "74484    눈\n",
       "Name: 기상상태, Length: 74485, dtype: object"
      ]
     },
     "execution_count": 74,
     "metadata": {},
     "output_type": "execute_result"
    }
   ],
   "source": [
    "df['기상상태']"
   ]
  },
  {
   "cell_type": "code",
   "execution_count": 82,
   "metadata": {},
   "outputs": [
    {
     "data": {
      "text/html": [
       "<div>\n",
       "<style scoped>\n",
       "    .dataframe tbody tr th:only-of-type {\n",
       "        vertical-align: middle;\n",
       "    }\n",
       "\n",
       "    .dataframe tbody tr th {\n",
       "        vertical-align: top;\n",
       "    }\n",
       "\n",
       "    .dataframe thead th {\n",
       "        text-align: right;\n",
       "    }\n",
       "</style>\n",
       "<table border=\"1\" class=\"dataframe\">\n",
       "  <thead>\n",
       "    <tr style=\"text-align: right;\">\n",
       "      <th></th>\n",
       "      <th>기상상태</th>\n",
       "      <th>가해운전자연령</th>\n",
       "    </tr>\n",
       "  </thead>\n",
       "  <tbody>\n",
       "    <tr>\n",
       "      <th>0</th>\n",
       "      <td>눈</td>\n",
       "      <td>26.0</td>\n",
       "    </tr>\n",
       "    <tr>\n",
       "      <th>1</th>\n",
       "      <td>눈</td>\n",
       "      <td>23.0</td>\n",
       "    </tr>\n",
       "    <tr>\n",
       "      <th>2</th>\n",
       "      <td>눈</td>\n",
       "      <td>33.0</td>\n",
       "    </tr>\n",
       "    <tr>\n",
       "      <th>3</th>\n",
       "      <td>눈</td>\n",
       "      <td>58.0</td>\n",
       "    </tr>\n",
       "    <tr>\n",
       "      <th>4</th>\n",
       "      <td>눈</td>\n",
       "      <td>30.0</td>\n",
       "    </tr>\n",
       "    <tr>\n",
       "      <th>...</th>\n",
       "      <td>...</td>\n",
       "      <td>...</td>\n",
       "    </tr>\n",
       "    <tr>\n",
       "      <th>74480</th>\n",
       "      <td>눈</td>\n",
       "      <td>35.0</td>\n",
       "    </tr>\n",
       "    <tr>\n",
       "      <th>74481</th>\n",
       "      <td>눈</td>\n",
       "      <td>61.0</td>\n",
       "    </tr>\n",
       "    <tr>\n",
       "      <th>74482</th>\n",
       "      <td>눈</td>\n",
       "      <td>55.0</td>\n",
       "    </tr>\n",
       "    <tr>\n",
       "      <th>74483</th>\n",
       "      <td>눈</td>\n",
       "      <td>62.0</td>\n",
       "    </tr>\n",
       "    <tr>\n",
       "      <th>74484</th>\n",
       "      <td>눈</td>\n",
       "      <td>61.0</td>\n",
       "    </tr>\n",
       "  </tbody>\n",
       "</table>\n",
       "<p>74485 rows × 2 columns</p>\n",
       "</div>"
      ],
      "text/plain": [
       "      기상상태  가해운전자연령\n",
       "0        눈     26.0\n",
       "1        눈     23.0\n",
       "2        눈     33.0\n",
       "3        눈     58.0\n",
       "4        눈     30.0\n",
       "...    ...      ...\n",
       "74480    눈     35.0\n",
       "74481    눈     61.0\n",
       "74482    눈     55.0\n",
       "74483    눈     62.0\n",
       "74484    눈     61.0\n",
       "\n",
       "[74485 rows x 2 columns]"
      ]
     },
     "execution_count": 82,
     "metadata": {},
     "output_type": "execute_result"
    }
   ],
   "source": [
    "c = df['기상상태'].isin(['눈', '비'])\n",
    "\n",
    "df.loc[c,['기상상태','가해운전자연령']]"
   ]
  },
  {
   "cell_type": "code",
   "execution_count": 84,
   "metadata": {},
   "outputs": [
    {
     "data": {
      "text/plain": [
       "48.06349773811652"
      ]
     },
     "execution_count": 84,
     "metadata": {},
     "output_type": "execute_result"
    }
   ],
   "source": [
    "df.loc[c,'가해운전자연령'].mean()"
   ]
  }
 ],
 "metadata": {
  "kernelspec": {
   "display_name": "Python 3 (ipykernel)",
   "language": "python",
   "name": "python3"
  },
  "language_info": {
   "codemirror_mode": {
    "name": "ipython",
    "version": 3
   },
   "file_extension": ".py",
   "mimetype": "text/x-python",
   "name": "python",
   "nbconvert_exporter": "python",
   "pygments_lexer": "ipython3",
   "version": "3.8.10"
  },
  "orig_nbformat": 4
 },
 "nbformat": 4,
 "nbformat_minor": 2
}
