{
 "cells": [
  {
   "cell_type": "markdown",
   "id": "5ea04afb",
   "metadata": {},
   "source": [
    "- 리스트 컴프리헨션"
   ]
  },
  {
   "cell_type": "code",
   "execution_count": 1,
   "id": "43b87c7d",
   "metadata": {},
   "outputs": [],
   "source": [
    "x = [1,2,3,4,5,6,7,8,9,10]"
   ]
  },
  {
   "cell_type": "code",
   "execution_count": 2,
   "id": "393429e4",
   "metadata": {},
   "outputs": [
    {
     "data": {
      "text/plain": [
       "[1, 2, 3, 4, 5, 6, 7, 8, 9, 10, 1, 2, 3, 4, 5, 6, 7, 8, 9, 10]"
      ]
     },
     "execution_count": 2,
     "metadata": {},
     "output_type": "execute_result"
    }
   ],
   "source": [
    "x*2"
   ]
  },
  {
   "cell_type": "code",
   "execution_count": 4,
   "id": "f88e5597",
   "metadata": {},
   "outputs": [],
   "source": [
    "result = []\n",
    "for i in x :\n",
    "    result.append(i*2)"
   ]
  },
  {
   "cell_type": "code",
   "execution_count": 5,
   "id": "f5fa6e27",
   "metadata": {},
   "outputs": [
    {
     "data": {
      "text/plain": [
       "[2, 4, 6, 8, 10, 12, 14, 16, 18, 20]"
      ]
     },
     "execution_count": 5,
     "metadata": {},
     "output_type": "execute_result"
    }
   ],
   "source": [
    "result"
   ]
  },
  {
   "cell_type": "code",
   "execution_count": 6,
   "id": "fe983012",
   "metadata": {},
   "outputs": [
    {
     "data": {
      "text/plain": [
       "[2, 4, 6, 8, 10, 12, 14, 16, 18, 20]"
      ]
     },
     "execution_count": 6,
     "metadata": {},
     "output_type": "execute_result"
    }
   ],
   "source": [
    "[i*2 for i in x]"
   ]
  },
  {
   "cell_type": "code",
   "execution_count": 7,
   "id": "dc4d67d9",
   "metadata": {},
   "outputs": [
    {
     "data": {
      "text/plain": [
       "(2, 4, 6, 8, 10, 12, 14, 16, 18, 20)"
      ]
     },
     "execution_count": 7,
     "metadata": {},
     "output_type": "execute_result"
    }
   ],
   "source": [
    "tuple([i*2 for i in x])"
   ]
  },
  {
   "cell_type": "code",
   "execution_count": 8,
   "id": "78f3e32f",
   "metadata": {},
   "outputs": [
    {
     "data": {
      "text/plain": [
       "{2, 4, 6, 8, 10, 12, 14, 16, 18, 20}"
      ]
     },
     "execution_count": 8,
     "metadata": {},
     "output_type": "execute_result"
    }
   ],
   "source": [
    "set([i*2 for i in x])"
   ]
  },
  {
   "cell_type": "code",
   "execution_count": 10,
   "id": "1c6117de",
   "metadata": {},
   "outputs": [
    {
     "data": {
      "text/plain": [
       "{2, 4, 6, 8, 10, 12, 14, 16, 18, 20}"
      ]
     },
     "execution_count": 10,
     "metadata": {},
     "output_type": "execute_result"
    }
   ],
   "source": [
    "{i*2 for i in x}"
   ]
  },
  {
   "cell_type": "code",
   "execution_count": 12,
   "id": "75da122a",
   "metadata": {},
   "outputs": [
    {
     "data": {
      "text/plain": [
       "{1: 2, 2: 4, 3: 6, 4: 8, 5: 10, 6: 12, 7: 14, 8: 16, 9: 18, 10: 20}"
      ]
     },
     "execution_count": 12,
     "metadata": {},
     "output_type": "execute_result"
    }
   ],
   "source": [
    "{i:i*2 for i in x} #dict key:value"
   ]
  },
  {
   "cell_type": "code",
   "execution_count": 14,
   "id": "54d5af18",
   "metadata": {},
   "outputs": [
    {
     "data": {
      "text/plain": [
       "[2, 4, 6, 8, 10]"
      ]
     },
     "execution_count": 14,
     "metadata": {},
     "output_type": "execute_result"
    }
   ],
   "source": [
    "result = []\n",
    "for i in x:\n",
    "    if i%2 == 0:\n",
    "        result.append(i)\n",
    "        \n",
    "result"
   ]
  },
  {
   "cell_type": "code",
   "execution_count": 15,
   "id": "ce31e18d",
   "metadata": {},
   "outputs": [
    {
     "data": {
      "text/plain": [
       "[2, 4, 6, 8, 10]"
      ]
     },
     "execution_count": 15,
     "metadata": {},
     "output_type": "execute_result"
    }
   ],
   "source": [
    "[i for i in x if(i%2==0)] #출력값 반복문 //조건은 상황에 따라서 앞뒤로"
   ]
  },
  {
   "cell_type": "code",
   "execution_count": 16,
   "id": "aa46998d",
   "metadata": {},
   "outputs": [
    {
     "data": {
      "text/plain": [
       "[4, 8, 12, 16, 20]"
      ]
     },
     "execution_count": 16,
     "metadata": {},
     "output_type": "execute_result"
    }
   ],
   "source": [
    "[i*2 for i in x if(i%2==0)]"
   ]
  },
  {
   "cell_type": "code",
   "execution_count": 17,
   "id": "b625199f",
   "metadata": {},
   "outputs": [
    {
     "data": {
      "text/plain": [
       "[1, 4, 3, 8, 5, 12, 7, 16, 9, 20]"
      ]
     },
     "execution_count": 17,
     "metadata": {},
     "output_type": "execute_result"
    }
   ],
   "source": [
    "[i*2 if(i%2==0) else i for i in x]"
   ]
  },
  {
   "cell_type": "code",
   "execution_count": 18,
   "id": "2face467",
   "metadata": {},
   "outputs": [
    {
     "data": {
      "text/plain": [
       "[0, 4, 0, 8, 0, 12, 0, 16, 0, 20]"
      ]
     },
     "execution_count": 18,
     "metadata": {},
     "output_type": "execute_result"
    }
   ],
   "source": [
    "[i*2 if(i%2==0) else 0 for i in x]"
   ]
  },
  {
   "cell_type": "markdown",
   "id": "392a8b9d",
   "metadata": {},
   "source": [
    "- enumerate"
   ]
  },
  {
   "cell_type": "code",
   "execution_count": 19,
   "id": "f6d42c1a",
   "metadata": {},
   "outputs": [],
   "source": [
    "x = ['tic', 'tac', 'toe']"
   ]
  },
  {
   "cell_type": "code",
   "execution_count": 23,
   "id": "a807c54d",
   "metadata": {},
   "outputs": [
    {
     "data": {
      "text/plain": [
       "{0: 'tic', 1: 'tac', 2: 'toe'}"
      ]
     },
     "execution_count": 23,
     "metadata": {},
     "output_type": "execute_result"
    }
   ],
   "source": [
    "x = dict(enumerate(x))\n",
    "x"
   ]
  },
  {
   "cell_type": "code",
   "execution_count": 26,
   "id": "5ff73d2a",
   "metadata": {},
   "outputs": [
    {
     "data": {
      "text/plain": [
       "{'tic': 0, 'tac': 1, 'toe': 2}"
      ]
     },
     "execution_count": 26,
     "metadata": {},
     "output_type": "execute_result"
    }
   ],
   "source": [
    "{v:i for i, v in x.items()} #key, value 뒤집기"
   ]
  },
  {
   "cell_type": "code",
   "execution_count": 28,
   "id": "530af09f",
   "metadata": {},
   "outputs": [
    {
     "name": "stdout",
     "output_type": "stream",
     "text": [
      "tic\n",
      "tac\n",
      "toe\n"
     ]
    }
   ],
   "source": [
    "x = ['tic', 'tac', 'toe']\n",
    "for i in x:\n",
    "    print(i)"
   ]
  },
  {
   "cell_type": "code",
   "execution_count": 31,
   "id": "c96ac159",
   "metadata": {},
   "outputs": [
    {
     "name": "stdout",
     "output_type": "stream",
     "text": [
      "0 tic\n",
      "1 tac\n",
      "2 toe\n"
     ]
    }
   ],
   "source": [
    "for i, v in enumerate(x):\n",
    "    print(i, v)"
   ]
  },
  {
   "cell_type": "code",
   "execution_count": 32,
   "id": "0e883f78",
   "metadata": {},
   "outputs": [
    {
     "name": "stdout",
     "output_type": "stream",
     "text": [
      "(0, 'tic')\n",
      "(1, 'tac')\n",
      "(2, 'toe')\n"
     ]
    }
   ],
   "source": [
    "for i in enumerate(x):\n",
    "    print(i)"
   ]
  },
  {
   "cell_type": "code",
   "execution_count": 36,
   "id": "c3e430e4",
   "metadata": {},
   "outputs": [
    {
     "name": "stdout",
     "output_type": "stream",
     "text": [
      "(0, (0, 'tic'))\n",
      "(1, (1, 'tac'))\n",
      "(2, (2, 'toe'))\n"
     ]
    }
   ],
   "source": [
    "x = ['tic', 'tac', 'toe']\n",
    "x = dict(enumerate(x))\n",
    "for i in enumerate(x.items()):\n",
    "    print(i)"
   ]
  },
  {
   "cell_type": "code",
   "execution_count": 37,
   "id": "54e0fa5d",
   "metadata": {},
   "outputs": [
    {
     "name": "stdout",
     "output_type": "stream",
     "text": [
      "0 (0, 'tic')\n",
      "1 (1, 'tac')\n",
      "2 (2, 'toe')\n"
     ]
    }
   ],
   "source": [
    "x = ['tic', 'tac', 'toe']\n",
    "x = dict(enumerate(x))\n",
    "for i,v in enumerate(x.items()):\n",
    "    print(i,v)"
   ]
  },
  {
   "cell_type": "code",
   "execution_count": 38,
   "id": "e5f6ac9b",
   "metadata": {},
   "outputs": [
    {
     "name": "stdout",
     "output_type": "stream",
     "text": [
      "0 0 tic\n",
      "1 1 tac\n",
      "2 2 toe\n"
     ]
    }
   ],
   "source": [
    "x = ['tic', 'tac', 'toe']\n",
    "x = dict(enumerate(x))\n",
    "for i,(v,k) in enumerate(x.items()):\n",
    "    print(i,v,k)"
   ]
  },
  {
   "cell_type": "code",
   "execution_count": 39,
   "id": "b06bc2ad",
   "metadata": {},
   "outputs": [
    {
     "data": {
      "text/plain": [
       "['tic', 'tac', 'toe']"
      ]
     },
     "execution_count": 39,
     "metadata": {},
     "output_type": "execute_result"
    }
   ],
   "source": [
    "x = ['tic', 'tac', 'toe']\n",
    "x"
   ]
  },
  {
   "cell_type": "code",
   "execution_count": 40,
   "id": "f6f530bd",
   "metadata": {},
   "outputs": [
    {
     "data": {
      "text/plain": [
       "['tic', 'toe']"
      ]
     },
     "execution_count": 40,
     "metadata": {},
     "output_type": "execute_result"
    }
   ],
   "source": [
    "[v for i, v in enumerate(x) if i%2 == 0]"
   ]
  },
  {
   "cell_type": "markdown",
   "id": "d69eed3a",
   "metadata": {},
   "source": [
    "- zip"
   ]
  },
  {
   "cell_type": "code",
   "execution_count": 41,
   "id": "66f790c6",
   "metadata": {},
   "outputs": [
    {
     "name": "stdout",
     "output_type": "stream",
     "text": [
      "[10, 20, 30]\n",
      "[1, 2, 3]\n"
     ]
    }
   ],
   "source": [
    "xs = [10, 20, 30]\n",
    "ys = [1,2,3]\n",
    "for x in xs, ys:\n",
    "    print(x)"
   ]
  },
  {
   "cell_type": "code",
   "execution_count": 42,
   "id": "e841d219",
   "metadata": {},
   "outputs": [
    {
     "name": "stdout",
     "output_type": "stream",
     "text": [
      "(10, 1)\n",
      "(20, 2)\n",
      "(30, 3)\n"
     ]
    }
   ],
   "source": [
    "for i in zip(xs, ys):\n",
    "    print(i)"
   ]
  },
  {
   "cell_type": "code",
   "execution_count": 43,
   "id": "6b2a8d6c",
   "metadata": {},
   "outputs": [
    {
     "name": "stdout",
     "output_type": "stream",
     "text": [
      "(10, 1, 100)\n",
      "(20, 2, 200)\n",
      "(30, 3, 300)\n"
     ]
    }
   ],
   "source": [
    "#길이가 제일 짧은 리스트 기준\n",
    "zs = [100, 200, 300, 400]\n",
    "for i in zip(xs, ys, zs):\n",
    "    print(i)\n",
    "    "
   ]
  },
  {
   "cell_type": "code",
   "execution_count": 45,
   "id": "44210e0d",
   "metadata": {},
   "outputs": [
    {
     "name": "stdout",
     "output_type": "stream",
     "text": [
      "111\n",
      "222\n",
      "333\n"
     ]
    }
   ],
   "source": [
    "for x,y,z in zip(xs, ys, zs):\n",
    "    print(x+y+z)"
   ]
  },
  {
   "cell_type": "code",
   "execution_count": 46,
   "id": "5c0e02cd",
   "metadata": {},
   "outputs": [
    {
     "data": {
      "text/plain": [
       "[111, 222, 333]"
      ]
     },
     "execution_count": 46,
     "metadata": {},
     "output_type": "execute_result"
    }
   ],
   "source": [
    "[x+y+z for x,y,z in zip(xs,ys,zs)]"
   ]
  },
  {
   "cell_type": "markdown",
   "id": "b1a12743",
   "metadata": {},
   "source": [
    "- 과목별 평균 구하기"
   ]
  },
  {
   "cell_type": "code",
   "execution_count": 53,
   "id": "81e21d9c",
   "metadata": {},
   "outputs": [
    {
     "name": "stdout",
     "output_type": "stream",
     "text": [
      "영어 과목평균: 85.0\n",
      "수학 과목평균: 77.5\n",
      "과학 과목평균: 90.0\n"
     ]
    }
   ],
   "source": [
    "s = ['영어', '수학', '과학']\n",
    "철수 = [100, 80, 90, 60]\n",
    "영희 = [90, 100, 80]\n",
    "길동 = [70, 60, 100]\n",
    "국민 = [80, 70, 90]\n",
    "for i, x, y, z, q in zip(s, 철수, 영희, 길동, 국민):\n",
    "    print(i, '과목평균', end=': ')\n",
    "    print((x+y+z+q)/4)"
   ]
  },
  {
   "cell_type": "code",
   "execution_count": 56,
   "id": "79f911e7",
   "metadata": {},
   "outputs": [
    {
     "name": "stdout",
     "output_type": "stream",
     "text": [
      "(100, 90, 70, 80)\n",
      "340\n",
      "(80, 100, 60, 70)\n",
      "310\n",
      "(90, 80, 100, 90)\n",
      "360\n"
     ]
    }
   ],
   "source": [
    "for x in zip(철수, 영희, 길동, 국민):\n",
    "    print(x)\n",
    "    print(sum(x))"
   ]
  },
  {
   "cell_type": "code",
   "execution_count": 59,
   "id": "7b96d010",
   "metadata": {},
   "outputs": [
    {
     "name": "stdout",
     "output_type": "stream",
     "text": [
      "('영어', 100, 90, 70, 80)\n",
      "영어 과목평균: 85.0\n",
      "('수학', 80, 100, 60, 70)\n",
      "수학 과목평균: 77.5\n",
      "('과학', 90, 80, 100, 90)\n",
      "과학 과목평균: 90.0\n"
     ]
    }
   ],
   "source": [
    "for i in zip(s, 철수, 영희, 길동, 국민):\n",
    "    print(i)\n",
    "    print(i[0], '과목평균', end=': ')\n",
    "    print(sum(i[1:])/4)"
   ]
  },
  {
   "cell_type": "code",
   "execution_count": null,
   "id": "6d23d566",
   "metadata": {},
   "outputs": [],
   "source": []
  }
 ],
 "metadata": {
  "kernelspec": {
   "display_name": "Python 3 (ipykernel)",
   "language": "python",
   "name": "python3"
  },
  "language_info": {
   "codemirror_mode": {
    "name": "ipython",
    "version": 3
   },
   "file_extension": ".py",
   "mimetype": "text/x-python",
   "name": "python",
   "nbconvert_exporter": "python",
   "pygments_lexer": "ipython3",
   "version": "3.8.10"
  }
 },
 "nbformat": 4,
 "nbformat_minor": 5
}
