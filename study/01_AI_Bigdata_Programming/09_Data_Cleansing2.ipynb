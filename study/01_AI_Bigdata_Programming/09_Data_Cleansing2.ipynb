{
 "cells": [
  {
   "cell_type": "markdown",
   "metadata": {},
   "source": [
    "## 1.1 결측치 확인"
   ]
  },
  {
   "cell_type": "code",
   "execution_count": 1,
   "metadata": {},
   "outputs": [
    {
     "data": {
      "text/html": [
       "<div>\n",
       "<style scoped>\n",
       "    .dataframe tbody tr th:only-of-type {\n",
       "        vertical-align: middle;\n",
       "    }\n",
       "\n",
       "    .dataframe tbody tr th {\n",
       "        vertical-align: top;\n",
       "    }\n",
       "\n",
       "    .dataframe thead th {\n",
       "        text-align: right;\n",
       "    }\n",
       "</style>\n",
       "<table border=\"1\" class=\"dataframe\">\n",
       "  <thead>\n",
       "    <tr style=\"text-align: right;\">\n",
       "      <th></th>\n",
       "      <th>사고번호</th>\n",
       "      <th>사고년도</th>\n",
       "      <th>사고월</th>\n",
       "      <th>사고일</th>\n",
       "      <th>사고시각</th>\n",
       "      <th>사고요일</th>\n",
       "      <th>시군구_대범주</th>\n",
       "      <th>시군구_소범주</th>\n",
       "      <th>사고내용</th>\n",
       "      <th>사망자수</th>\n",
       "      <th>...</th>\n",
       "      <th>도로형태_대범주</th>\n",
       "      <th>도로형태_소범주</th>\n",
       "      <th>가해운전자차종</th>\n",
       "      <th>가해운전자성별</th>\n",
       "      <th>가해운전자연령</th>\n",
       "      <th>가해운전자상해정도</th>\n",
       "      <th>피해운전자차종</th>\n",
       "      <th>피해운전자성별</th>\n",
       "      <th>피해운전자연령</th>\n",
       "      <th>피해운전자상해정도</th>\n",
       "    </tr>\n",
       "  </thead>\n",
       "  <tbody>\n",
       "    <tr>\n",
       "      <th>0</th>\n",
       "      <td>A2019010100100001</td>\n",
       "      <td>2019</td>\n",
       "      <td>1</td>\n",
       "      <td>1</td>\n",
       "      <td>0</td>\n",
       "      <td>1</td>\n",
       "      <td>강서구</td>\n",
       "      <td>강서구 방화동</td>\n",
       "      <td>경상사고</td>\n",
       "      <td>0</td>\n",
       "      <td>...</td>\n",
       "      <td>교차로</td>\n",
       "      <td>교차로 - 교차로횡단보도내</td>\n",
       "      <td>승용</td>\n",
       "      <td>남</td>\n",
       "      <td>26.0</td>\n",
       "      <td>상해없음</td>\n",
       "      <td>보행자</td>\n",
       "      <td>남</td>\n",
       "      <td>40.0</td>\n",
       "      <td>경상</td>\n",
       "    </tr>\n",
       "    <tr>\n",
       "      <th>1</th>\n",
       "      <td>A2019010100100002</td>\n",
       "      <td>2019</td>\n",
       "      <td>1</td>\n",
       "      <td>1</td>\n",
       "      <td>0</td>\n",
       "      <td>1</td>\n",
       "      <td>구로구</td>\n",
       "      <td>구로구 고척동</td>\n",
       "      <td>경상사고</td>\n",
       "      <td>0</td>\n",
       "      <td>...</td>\n",
       "      <td>단일로</td>\n",
       "      <td>단일로 - 기타</td>\n",
       "      <td>이륜</td>\n",
       "      <td>남</td>\n",
       "      <td>23.0</td>\n",
       "      <td>상해없음</td>\n",
       "      <td>승용</td>\n",
       "      <td>남</td>\n",
       "      <td>71.0</td>\n",
       "      <td>경상</td>\n",
       "    </tr>\n",
       "    <tr>\n",
       "      <th>2</th>\n",
       "      <td>A2019010100100003</td>\n",
       "      <td>2019</td>\n",
       "      <td>1</td>\n",
       "      <td>1</td>\n",
       "      <td>0</td>\n",
       "      <td>1</td>\n",
       "      <td>서초구</td>\n",
       "      <td>서초구 서초동</td>\n",
       "      <td>경상사고</td>\n",
       "      <td>0</td>\n",
       "      <td>...</td>\n",
       "      <td>기타</td>\n",
       "      <td>기타 - 기타</td>\n",
       "      <td>승용</td>\n",
       "      <td>남</td>\n",
       "      <td>33.0</td>\n",
       "      <td>상해없음</td>\n",
       "      <td>화물</td>\n",
       "      <td>남</td>\n",
       "      <td>51.0</td>\n",
       "      <td>경상</td>\n",
       "    </tr>\n",
       "    <tr>\n",
       "      <th>3</th>\n",
       "      <td>A2019010100100019</td>\n",
       "      <td>2019</td>\n",
       "      <td>1</td>\n",
       "      <td>1</td>\n",
       "      <td>1</td>\n",
       "      <td>1</td>\n",
       "      <td>중구</td>\n",
       "      <td>중구 회현동2가</td>\n",
       "      <td>경상사고</td>\n",
       "      <td>0</td>\n",
       "      <td>...</td>\n",
       "      <td>단일로</td>\n",
       "      <td>단일로 - 터널</td>\n",
       "      <td>승용</td>\n",
       "      <td>남</td>\n",
       "      <td>58.0</td>\n",
       "      <td>상해없음</td>\n",
       "      <td>승용</td>\n",
       "      <td>남</td>\n",
       "      <td>62.0</td>\n",
       "      <td>경상</td>\n",
       "    </tr>\n",
       "    <tr>\n",
       "      <th>4</th>\n",
       "      <td>A2019010100100020</td>\n",
       "      <td>2019</td>\n",
       "      <td>1</td>\n",
       "      <td>1</td>\n",
       "      <td>1</td>\n",
       "      <td>1</td>\n",
       "      <td>성동구</td>\n",
       "      <td>성동구 행당동</td>\n",
       "      <td>경상사고</td>\n",
       "      <td>0</td>\n",
       "      <td>...</td>\n",
       "      <td>교차로</td>\n",
       "      <td>교차로 - 교차로부근</td>\n",
       "      <td>승용</td>\n",
       "      <td>남</td>\n",
       "      <td>30.0</td>\n",
       "      <td>상해없음</td>\n",
       "      <td>보행자</td>\n",
       "      <td>남</td>\n",
       "      <td>32.0</td>\n",
       "      <td>경상</td>\n",
       "    </tr>\n",
       "  </tbody>\n",
       "</table>\n",
       "<p>5 rows × 29 columns</p>\n",
       "</div>"
      ],
      "text/plain": [
       "                사고번호  사고년도  사고월  사고일  사고시각  사고요일 시군구_대범주   시군구_소범주  사고내용  \\\n",
       "0  A2019010100100001  2019    1    1     0     1     강서구   강서구 방화동  경상사고   \n",
       "1  A2019010100100002  2019    1    1     0     1     구로구   구로구 고척동  경상사고   \n",
       "2  A2019010100100003  2019    1    1     0     1     서초구   서초구 서초동  경상사고   \n",
       "3  A2019010100100019  2019    1    1     1     1      중구  중구 회현동2가  경상사고   \n",
       "4  A2019010100100020  2019    1    1     1     1     성동구   성동구 행당동  경상사고   \n",
       "\n",
       "   사망자수    ...     도로형태_대범주        도로형태_소범주  가해운전자차종 가해운전자성별 가해운전자연령  \\\n",
       "0     0    ...          교차로  교차로 - 교차로횡단보도내       승용       남    26.0   \n",
       "1     0    ...          단일로        단일로 - 기타       이륜       남    23.0   \n",
       "2     0    ...           기타         기타 - 기타       승용       남    33.0   \n",
       "3     0    ...          단일로        단일로 - 터널       승용       남    58.0   \n",
       "4     0    ...          교차로     교차로 - 교차로부근       승용       남    30.0   \n",
       "\n",
       "  가해운전자상해정도 피해운전자차종 피해운전자성별 피해운전자연령 피해운전자상해정도  \n",
       "0      상해없음     보행자       남    40.0        경상  \n",
       "1      상해없음      승용       남    71.0        경상  \n",
       "2      상해없음      화물       남    51.0        경상  \n",
       "3      상해없음      승용       남    62.0        경상  \n",
       "4      상해없음     보행자       남    32.0        경상  \n",
       "\n",
       "[5 rows x 29 columns]"
      ]
     },
     "execution_count": 1,
     "metadata": {},
     "output_type": "execute_result"
    }
   ],
   "source": [
    "import pandas as pd\n",
    "import numpy as np\n",
    "df = pd.read_csv('data/02_seoul_accident_clean.csv')\n",
    "df.head()"
   ]
  },
  {
   "cell_type": "code",
   "execution_count": 2,
   "metadata": {},
   "outputs": [
    {
     "data": {
      "text/plain": [
       "0        False\n",
       "1        False\n",
       "2        False\n",
       "3        False\n",
       "4        False\n",
       "5        False\n",
       "6        False\n",
       "7        False\n",
       "8        False\n",
       "9        False\n",
       "10       False\n",
       "11       False\n",
       "12       False\n",
       "13       False\n",
       "14       False\n",
       "15       False\n",
       "16       False\n",
       "17       False\n",
       "18       False\n",
       "19       False\n",
       "20       False\n",
       "21       False\n",
       "22       False\n",
       "23       False\n",
       "24       False\n",
       "25       False\n",
       "26       False\n",
       "27       False\n",
       "28       False\n",
       "29       False\n",
       "         ...  \n",
       "74455    False\n",
       "74456    False\n",
       "74457    False\n",
       "74458    False\n",
       "74459    False\n",
       "74460    False\n",
       "74461    False\n",
       "74462    False\n",
       "74463    False\n",
       "74464    False\n",
       "74465    False\n",
       "74466    False\n",
       "74467    False\n",
       "74468    False\n",
       "74469    False\n",
       "74470    False\n",
       "74471    False\n",
       "74472    False\n",
       "74473    False\n",
       "74474    False\n",
       "74475    False\n",
       "74476    False\n",
       "74477    False\n",
       "74478    False\n",
       "74479    False\n",
       "74480    False\n",
       "74481    False\n",
       "74482    False\n",
       "74483    False\n",
       "74484    False\n",
       "Name: 기상상태, Length: 74485, dtype: bool"
      ]
     },
     "execution_count": 2,
     "metadata": {},
     "output_type": "execute_result"
    }
   ],
   "source": [
    "df['기상상태'].isnull()"
   ]
  },
  {
   "cell_type": "code",
   "execution_count": 3,
   "metadata": {},
   "outputs": [
    {
     "data": {
      "text/plain": [
       "910"
      ]
     },
     "execution_count": 3,
     "metadata": {},
     "output_type": "execute_result"
    }
   ],
   "source": [
    "df['기상상태'].isnull().sum() #결측치 개수"
   ]
  },
  {
   "cell_type": "code",
   "execution_count": 4,
   "metadata": {},
   "outputs": [
    {
     "data": {
      "text/plain": [
       "0.012217224944619721"
      ]
     },
     "execution_count": 4,
     "metadata": {},
     "output_type": "execute_result"
    }
   ],
   "source": [
    "df['기상상태'].isnull().mean() #결측치의 비율 -- 결측치/전체개수"
   ]
  },
  {
   "cell_type": "code",
   "execution_count": 5,
   "metadata": {},
   "outputs": [
    {
     "data": {
      "text/plain": [
       "사고번호         74485\n",
       "사고년도         74485\n",
       "사고월          74485\n",
       "사고일          74485\n",
       "사고시각         74485\n",
       "사고요일         74485\n",
       "시군구_대범주      74485\n",
       "시군구_소범주      74485\n",
       "사고내용         74485\n",
       "사망자수         74485\n",
       "중상자수         74485\n",
       "경상자수         74485\n",
       "부상신고자수       74485\n",
       "사고유형_대범주     74485\n",
       "사고유형_소범주     74485\n",
       "법규위반         74485\n",
       "노면상태_대범주     74485\n",
       "노면상태_소범주     74485\n",
       "기상상태         73575\n",
       "도로형태_대범주     74485\n",
       "도로형태_소범주     74485\n",
       "가해운전자차종      72734\n",
       "가해운전자성별      72738\n",
       "가해운전자연령      72727\n",
       "가해운전자상해정도    70172\n",
       "피해운전자차종      72225\n",
       "피해운전자성별      72225\n",
       "피해운전자연령      72049\n",
       "피해운전자상해정도    72225\n",
       "dtype: int64"
      ]
     },
     "execution_count": 5,
     "metadata": {},
     "output_type": "execute_result"
    }
   ],
   "source": [
    "(~df.isnull()).sum() #결측치 아닌 것의 개수"
   ]
  },
  {
   "cell_type": "code",
   "execution_count": 6,
   "metadata": {},
   "outputs": [
    {
     "data": {
      "text/plain": [
       "사고번호         0.000000\n",
       "사고년도         0.000000\n",
       "사고월          0.000000\n",
       "사고일          0.000000\n",
       "사고시각         0.000000\n",
       "사고요일         0.000000\n",
       "시군구_대범주      0.000000\n",
       "시군구_소범주      0.000000\n",
       "사고내용         0.000000\n",
       "사망자수         0.000000\n",
       "중상자수         0.000000\n",
       "경상자수         0.000000\n",
       "부상신고자수       0.000000\n",
       "사고유형_대범주     0.000000\n",
       "사고유형_소범주     0.000000\n",
       "법규위반         0.000000\n",
       "노면상태_대범주     0.000000\n",
       "노면상태_소범주     0.000000\n",
       "기상상태         0.012217\n",
       "도로형태_대범주     0.000000\n",
       "도로형태_소범주     0.000000\n",
       "가해운전자차종      0.023508\n",
       "가해운전자성별      0.023454\n",
       "가해운전자연령      0.023602\n",
       "가해운전자상해정도    0.057904\n",
       "피해운전자차종      0.030342\n",
       "피해운전자성별      0.030342\n",
       "피해운전자연령      0.032705\n",
       "피해운전자상해정도    0.030342\n",
       "dtype: float64"
      ]
     },
     "execution_count": 6,
     "metadata": {},
     "output_type": "execute_result"
    }
   ],
   "source": [
    "df.isnull().mean()"
   ]
  },
  {
   "cell_type": "code",
   "execution_count": 7,
   "metadata": {},
   "outputs": [],
   "source": [
    "## 1.2. 결측치의 제거"
   ]
  },
  {
   "cell_type": "code",
   "execution_count": 8,
   "metadata": {},
   "outputs": [
    {
     "data": {
      "text/plain": [
       "(74485, 29)"
      ]
     },
     "execution_count": 8,
     "metadata": {},
     "output_type": "execute_result"
    }
   ],
   "source": [
    "df.shape"
   ]
  },
  {
   "cell_type": "code",
   "execution_count": 9,
   "metadata": {},
   "outputs": [
    {
     "data": {
      "text/plain": [
       "(66940, 29)"
      ]
     },
     "execution_count": 9,
     "metadata": {},
     "output_type": "execute_result"
    }
   ],
   "source": [
    "df.dropna().shape"
   ]
  },
  {
   "cell_type": "code",
   "execution_count": 10,
   "metadata": {},
   "outputs": [],
   "source": [
    "## 1.3. 결측치 대체"
   ]
  },
  {
   "cell_type": "code",
   "execution_count": 11,
   "metadata": {},
   "outputs": [
    {
     "data": {
      "text/plain": [
       "맑음    65872\n",
       "비      4686\n",
       "흐림     2894\n",
       "눈       119\n",
       "안개        4\n",
       "Name: 기상상태, dtype: int64"
      ]
     },
     "execution_count": 11,
     "metadata": {},
     "output_type": "execute_result"
    }
   ],
   "source": [
    "df['기상상태'].value_counts()"
   ]
  },
  {
   "cell_type": "code",
   "execution_count": 12,
   "metadata": {},
   "outputs": [
    {
     "data": {
      "text/plain": [
       "맑음     0.884366\n",
       "비      0.062912\n",
       "흐림     0.038853\n",
       "NaN    0.012217\n",
       "눈      0.001598\n",
       "안개     0.000054\n",
       "Name: 기상상태, dtype: float64"
      ]
     },
     "execution_count": 12,
     "metadata": {},
     "output_type": "execute_result"
    }
   ],
   "source": [
    "df['기상상태'].value_counts(normalize=True, dropna=False) #결측치 비율"
   ]
  },
  {
   "cell_type": "code",
   "execution_count": 13,
   "metadata": {},
   "outputs": [],
   "source": [
    "# [기상상태] 결측치를 새로운 범주로 생성"
   ]
  },
  {
   "cell_type": "code",
   "execution_count": 14,
   "metadata": {},
   "outputs": [
    {
     "data": {
      "text/plain": [
       "맑음    0.884366\n",
       "비     0.062912\n",
       "흐림    0.038853\n",
       "기타    0.012217\n",
       "눈     0.001598\n",
       "안개    0.000054\n",
       "Name: 기상상태, dtype: float64"
      ]
     },
     "execution_count": 14,
     "metadata": {},
     "output_type": "execute_result"
    }
   ],
   "source": [
    "df['기상상태'] = df['기상상태'].fillna('기타')\n",
    "df['기상상태'].value_counts(normalize=True, dropna=False) #결측치 비율"
   ]
  },
  {
   "cell_type": "code",
   "execution_count": 15,
   "metadata": {},
   "outputs": [
    {
     "data": {
      "text/plain": [
       "남      0.799356\n",
       "여      0.177190\n",
       "NaN    0.023454\n",
       "Name: 가해운전자성별, dtype: float64"
      ]
     },
     "execution_count": 15,
     "metadata": {},
     "output_type": "execute_result"
    }
   ],
   "source": [
    "# [가해운전자성별]\n",
    "df['가해운전자성별'].value_counts(normalize=True, dropna=False)"
   ]
  },
  {
   "cell_type": "code",
   "execution_count": 16,
   "metadata": {},
   "outputs": [
    {
     "data": {
      "text/plain": [
       "남    0.82281\n",
       "여    0.17719\n",
       "Name: 가해운전자성별, dtype: float64"
      ]
     },
     "execution_count": 16,
     "metadata": {},
     "output_type": "execute_result"
    }
   ],
   "source": [
    "df['가해운전자성별'] = df['가해운전자성별'].fillna('남')\n",
    "df['가해운전자성별'].value_counts(normalize=True, dropna=False)"
   ]
  },
  {
   "cell_type": "code",
   "execution_count": 17,
   "metadata": {},
   "outputs": [
    {
     "data": {
      "text/plain": [
       "0        26.0\n",
       "1        23.0\n",
       "2        33.0\n",
       "3        58.0\n",
       "4        30.0\n",
       "5        31.0\n",
       "6        49.0\n",
       "7        29.0\n",
       "8        28.0\n",
       "9        30.0\n",
       "10       56.0\n",
       "11       51.0\n",
       "12        NaN\n",
       "13       29.0\n",
       "14       50.0\n",
       "15       67.0\n",
       "16       61.0\n",
       "17       31.0\n",
       "18       27.0\n",
       "19       62.0\n",
       "20       52.0\n",
       "21       46.0\n",
       "22       73.0\n",
       "23       29.0\n",
       "24       20.0\n",
       "25       36.0\n",
       "26       68.0\n",
       "27       62.0\n",
       "28       39.0\n",
       "29       60.0\n",
       "         ... \n",
       "74455    30.0\n",
       "74456    48.0\n",
       "74457    48.0\n",
       "74458    52.0\n",
       "74459    54.0\n",
       "74460    59.0\n",
       "74461    51.0\n",
       "74462    34.0\n",
       "74463    56.0\n",
       "74464    50.0\n",
       "74465    55.0\n",
       "74466    47.0\n",
       "74467    37.0\n",
       "74468    51.0\n",
       "74469    42.0\n",
       "74470    27.0\n",
       "74471    17.0\n",
       "74472    39.0\n",
       "74473    27.0\n",
       "74474    62.0\n",
       "74475    18.0\n",
       "74476    70.0\n",
       "74477    46.0\n",
       "74478     NaN\n",
       "74479    24.0\n",
       "74480    35.0\n",
       "74481    61.0\n",
       "74482    55.0\n",
       "74483    62.0\n",
       "74484    61.0\n",
       "Name: 가해운전자연령, Length: 74485, dtype: float64"
      ]
     },
     "execution_count": 17,
     "metadata": {},
     "output_type": "execute_result"
    }
   ],
   "source": [
    "# [가해운전자연령] -> 중앙값 대체\n",
    "df['가해운전자연령']"
   ]
  },
  {
   "cell_type": "code",
   "execution_count": 18,
   "metadata": {},
   "outputs": [
    {
     "data": {
      "text/plain": [
       "50.0"
      ]
     },
     "execution_count": 18,
     "metadata": {},
     "output_type": "execute_result"
    }
   ],
   "source": [
    "df['가해운전자연령'].median()"
   ]
  },
  {
   "cell_type": "code",
   "execution_count": 19,
   "metadata": {},
   "outputs": [
    {
     "data": {
      "text/plain": [
       "0"
      ]
     },
     "execution_count": 19,
     "metadata": {},
     "output_type": "execute_result"
    }
   ],
   "source": [
    "df['가해운전자연령'] = df['가해운전자연령'].fillna(df['가해운전자연령'].median())\n",
    "df['가해운전자연령'] = df['가해운전자연령'].astype('int')\n",
    "df['가해운전자연령'].isnull().sum()"
   ]
  },
  {
   "cell_type": "code",
   "execution_count": null,
   "metadata": {},
   "outputs": [],
   "source": []
  }
 ],
 "metadata": {
  "kernelspec": {
   "display_name": "hwi",
   "language": "python",
   "name": "hwi"
  },
  "language_info": {
   "codemirror_mode": {
    "name": "ipython",
    "version": 3
   },
   "file_extension": ".py",
   "mimetype": "text/x-python",
   "name": "python",
   "nbconvert_exporter": "python",
   "pygments_lexer": "ipython3",
   "version": "3.7.0"
  },
  "orig_nbformat": 4
 },
 "nbformat": 4,
 "nbformat_minor": 2
}
