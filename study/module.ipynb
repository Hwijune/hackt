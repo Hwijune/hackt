{
 "cells": [
  {
   "cell_type": "code",
   "execution_count": 1,
   "id": "5e879aa5",
   "metadata": {},
   "outputs": [],
   "source": [
    "answer = str(1234)\n",
    "a_input = str(1732)\n",
    "\n",
    "s = 0\n",
    "b = 0\n",
    "for i, a in enumerate(answer):\n",
    "    if a == a_input[i]:\n",
    "        s += 1\n",
    "    elif a in a_input:\n",
    "        b += 1"
   ]
  },
  {
   "cell_type": "code",
   "execution_count": 2,
   "id": "684b6a6d",
   "metadata": {},
   "outputs": [],
   "source": [
    "def sb_count(answer, a_input):\n",
    "    s = 0\n",
    "    b = 0\n",
    "    for i, a in enumerate(answer):\n",
    "        if a == a_input[i]:\n",
    "            s += 1\n",
    "        elif a in a_input:\n",
    "            b += 1\n",
    "    return s,b"
   ]
  },
  {
   "cell_type": "code",
   "execution_count": 3,
   "id": "a7c53b02",
   "metadata": {},
   "outputs": [
    {
     "data": {
      "text/plain": [
       "(2, 1)"
      ]
     },
     "execution_count": 3,
     "metadata": {},
     "output_type": "execute_result"
    }
   ],
   "source": [
    "sb_count('1234','1732')"
   ]
  },
  {
   "cell_type": "code",
   "execution_count": 6,
   "id": "58b29532",
   "metadata": {},
   "outputs": [
    {
     "name": "stdout",
     "output_type": "stream",
     "text": [
      "2S1B\n"
     ]
    }
   ],
   "source": [
    "x = sb_count('1234','1732')\n",
    "print(str(x[0]) + 'S' + str(x[1]) + 'B')"
   ]
  },
  {
   "cell_type": "code",
   "execution_count": 7,
   "id": "79b0a29d",
   "metadata": {},
   "outputs": [
    {
     "data": {
      "text/plain": [
       "(2, 1)"
      ]
     },
     "execution_count": 7,
     "metadata": {},
     "output_type": "execute_result"
    }
   ],
   "source": [
    "sb_count(answer='1234', a_input='1732')"
   ]
  },
  {
   "cell_type": "code",
   "execution_count": 8,
   "id": "014854ba",
   "metadata": {},
   "outputs": [
    {
     "data": {
      "text/plain": [
       "(2, 1)"
      ]
     },
     "execution_count": 8,
     "metadata": {},
     "output_type": "execute_result"
    }
   ],
   "source": [
    "sb_count(a_input='1732', answer='1234')"
   ]
  },
  {
   "cell_type": "code",
   "execution_count": 9,
   "id": "53145ea6",
   "metadata": {},
   "outputs": [],
   "source": [
    "def sb_count(answer, a_input='1732'):\n",
    "    s = 0\n",
    "    b = 0\n",
    "    for i, a in enumerate(answer):\n",
    "        if a == a_input[i]:\n",
    "            s += 1\n",
    "        elif a in a_input:\n",
    "            b += 1\n",
    "    return s,b"
   ]
  },
  {
   "cell_type": "code",
   "execution_count": 10,
   "id": "ff31333c",
   "metadata": {},
   "outputs": [
    {
     "data": {
      "text/plain": [
       "(2, 1)"
      ]
     },
     "execution_count": 10,
     "metadata": {},
     "output_type": "execute_result"
    }
   ],
   "source": [
    "sb_count('1234')"
   ]
  },
  {
   "cell_type": "code",
   "execution_count": 11,
   "id": "6a34343b",
   "metadata": {},
   "outputs": [],
   "source": [
    "def 가변인자테스트(*args):\n",
    "    print(args)\n",
    "    print(len(args))"
   ]
  },
  {
   "cell_type": "code",
   "execution_count": 13,
   "id": "cca45a8e",
   "metadata": {},
   "outputs": [
    {
     "name": "stdout",
     "output_type": "stream",
     "text": [
      "(3, 5, 6, 2)\n",
      "4\n"
     ]
    }
   ],
   "source": [
    "가변인자테스트(3,5,6,2) # output이 tuple"
   ]
  },
  {
   "cell_type": "code",
   "execution_count": 14,
   "id": "813e8437",
   "metadata": {},
   "outputs": [],
   "source": [
    "def 가변인자테스트(x, y, *args):\n",
    "    print(x, y)\n",
    "    print(args)"
   ]
  },
  {
   "cell_type": "code",
   "execution_count": 15,
   "id": "0dddbedd",
   "metadata": {},
   "outputs": [
    {
     "name": "stdout",
     "output_type": "stream",
     "text": [
      "3 5\n",
      "(6, 2)\n"
     ]
    }
   ],
   "source": [
    "가변인자테스트(3,5,6,2)"
   ]
  },
  {
   "cell_type": "code",
   "execution_count": 16,
   "id": "e7a43687",
   "metadata": {},
   "outputs": [],
   "source": [
    "def 키워드(**kwargs):\n",
    "    print(kwargs)"
   ]
  },
  {
   "cell_type": "code",
   "execution_count": 19,
   "id": "a08af182",
   "metadata": {},
   "outputs": [
    {
     "name": "stdout",
     "output_type": "stream",
     "text": [
      "{'x': 1, 'y': 2}\n"
     ]
    }
   ],
   "source": [
    "키워드(x=1, y=2) # output이 dict, matplotlib에서 많이 씀"
   ]
  },
  {
   "cell_type": "code",
   "execution_count": 20,
   "id": "548784af",
   "metadata": {},
   "outputs": [],
   "source": [
    "def 키워드(**kwargs):\n",
    "    print(kwargs['first'])\n",
    "    print(kwargs['second'])\n",
    "    print(kwargs['last'])"
   ]
  },
  {
   "cell_type": "code",
   "execution_count": 21,
   "id": "489b0f25",
   "metadata": {},
   "outputs": [
    {
     "name": "stdout",
     "output_type": "stream",
     "text": [
      "100\n",
      "20\n",
      "80\n"
     ]
    }
   ],
   "source": [
    "키워드(first=100, second=20, last=80)"
   ]
  },
  {
   "cell_type": "code",
   "execution_count": 22,
   "id": "0909d0f2",
   "metadata": {},
   "outputs": [],
   "source": [
    "#kwargs default처리\n",
    "def 키워드(**kwargs): \n",
    "    print(kwargs.get('first', 0))\n",
    "    print(kwargs.get('second', 0))\n",
    "    print(kwargs.get('last', 0))"
   ]
  },
  {
   "cell_type": "code",
   "execution_count": 23,
   "id": "9fc61457",
   "metadata": {},
   "outputs": [
    {
     "name": "stdout",
     "output_type": "stream",
     "text": [
      "100\n",
      "20\n",
      "0\n"
     ]
    }
   ],
   "source": [
    "키워드(first=100, second=20)"
   ]
  },
  {
   "cell_type": "markdown",
   "id": "22ef487a",
   "metadata": {},
   "source": [
    "- 리스트 컴프리헨션과 결합"
   ]
  },
  {
   "cell_type": "code",
   "execution_count": 24,
   "id": "8cc838ab",
   "metadata": {},
   "outputs": [],
   "source": [
    "x = [1,2,3,4,5]"
   ]
  },
  {
   "cell_type": "code",
   "execution_count": 25,
   "id": "6fb95588",
   "metadata": {},
   "outputs": [
    {
     "data": {
      "text/plain": [
       "[31, 34, 39, 46, 55]"
      ]
     },
     "execution_count": 25,
     "metadata": {},
     "output_type": "execute_result"
    }
   ],
   "source": [
    "[i**2+30 for i in x]"
   ]
  },
  {
   "cell_type": "code",
   "execution_count": 26,
   "id": "3ed55a3d",
   "metadata": {},
   "outputs": [],
   "source": [
    "def f(x):\n",
    "    t = x ** 2\n",
    "    t = t + 30\n",
    "    return t"
   ]
  },
  {
   "cell_type": "code",
   "execution_count": 27,
   "id": "5764c7bd",
   "metadata": {},
   "outputs": [
    {
     "data": {
      "text/plain": [
       "[31, 34, 39, 46, 55]"
      ]
     },
     "execution_count": 27,
     "metadata": {},
     "output_type": "execute_result"
    }
   ],
   "source": [
    "[f(i) for i in x]"
   ]
  },
  {
   "cell_type": "code",
   "execution_count": 28,
   "id": "2814bc07",
   "metadata": {},
   "outputs": [],
   "source": [
    "del x"
   ]
  },
  {
   "cell_type": "code",
   "execution_count": 29,
   "id": "497c14d5",
   "metadata": {},
   "outputs": [
    {
     "ename": "NameError",
     "evalue": "name 'x' is not defined",
     "output_type": "error",
     "traceback": [
      "\u001b[0;31m---------------------------------------------------------------------------\u001b[0m",
      "\u001b[0;31mNameError\u001b[0m                                 Traceback (most recent call last)",
      "Input \u001b[0;32mIn [29]\u001b[0m, in \u001b[0;36m<cell line: 1>\u001b[0;34m()\u001b[0m\n\u001b[0;32m----> 1\u001b[0m \u001b[43mx\u001b[49m\n",
      "\u001b[0;31mNameError\u001b[0m: name 'x' is not defined"
     ]
    }
   ],
   "source": [
    "x"
   ]
  },
  {
   "cell_type": "code",
   "execution_count": null,
   "id": "89fede7d",
   "metadata": {},
   "outputs": [],
   "source": []
  }
 ],
 "metadata": {
  "kernelspec": {
   "display_name": "Python 3 (ipykernel)",
   "language": "python",
   "name": "python3"
  },
  "language_info": {
   "codemirror_mode": {
    "name": "ipython",
    "version": 3
   },
   "file_extension": ".py",
   "mimetype": "text/x-python",
   "name": "python",
   "nbconvert_exporter": "python",
   "pygments_lexer": "ipython3",
   "version": "3.8.10"
  }
 },
 "nbformat": 4,
 "nbformat_minor": 5
}
