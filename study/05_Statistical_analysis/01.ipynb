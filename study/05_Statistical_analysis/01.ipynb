{
 "cells": [
  {
   "cell_type": "code",
   "execution_count": 9,
   "metadata": {},
   "outputs": [],
   "source": [
    "import pandas as pd\n",
    "import numpy as np\n",
    "import matplotlib.pyplot as plt\n",
    "import seaborn as sns\n",
    "import xlrd"
   ]
  },
  {
   "cell_type": "code",
   "execution_count": 15,
   "metadata": {},
   "outputs": [],
   "source": [
    "Brand = pd.read_excel(\"./data/SoftDrink.xlsx\", header=0, usecols=[0])"
   ]
  },
  {
   "cell_type": "code",
   "execution_count": 16,
   "metadata": {},
   "outputs": [
    {
     "data": {
      "text/html": [
       "<div>\n",
       "<style scoped>\n",
       "    .dataframe tbody tr th:only-of-type {\n",
       "        vertical-align: middle;\n",
       "    }\n",
       "\n",
       "    .dataframe tbody tr th {\n",
       "        vertical-align: top;\n",
       "    }\n",
       "\n",
       "    .dataframe thead th {\n",
       "        text-align: right;\n",
       "    }\n",
       "</style>\n",
       "<table border=\"1\" class=\"dataframe\">\n",
       "  <thead>\n",
       "    <tr style=\"text-align: right;\">\n",
       "      <th></th>\n",
       "      <th>Brand Purchased</th>\n",
       "    </tr>\n",
       "  </thead>\n",
       "  <tbody>\n",
       "    <tr>\n",
       "      <th>0</th>\n",
       "      <td>Coke Classic</td>\n",
       "    </tr>\n",
       "    <tr>\n",
       "      <th>1</th>\n",
       "      <td>Diet Coke</td>\n",
       "    </tr>\n",
       "    <tr>\n",
       "      <th>2</th>\n",
       "      <td>Pepsi</td>\n",
       "    </tr>\n",
       "    <tr>\n",
       "      <th>3</th>\n",
       "      <td>Diet Coke</td>\n",
       "    </tr>\n",
       "    <tr>\n",
       "      <th>4</th>\n",
       "      <td>Coke Classic</td>\n",
       "    </tr>\n",
       "  </tbody>\n",
       "</table>\n",
       "</div>"
      ],
      "text/plain": [
       "  Brand Purchased\n",
       "0    Coke Classic\n",
       "1       Diet Coke\n",
       "2           Pepsi\n",
       "3       Diet Coke\n",
       "4    Coke Classic"
      ]
     },
     "execution_count": 16,
     "metadata": {},
     "output_type": "execute_result"
    }
   ],
   "source": [
    "Brand.head()"
   ]
  },
  {
   "cell_type": "code",
   "execution_count": 17,
   "metadata": {},
   "outputs": [
    {
     "data": {
      "text/plain": [
       "0     Coke Classic\n",
       "1        Diet Coke\n",
       "2            Pepsi\n",
       "3        Diet Coke\n",
       "4     Coke Classic\n",
       "5     Coke Classic\n",
       "6       Dr. Pepper\n",
       "7        Diet Coke\n",
       "8            Pepsi\n",
       "9            Pepsi\n",
       "10    Coke Classic\n",
       "11      Dr. Pepper\n",
       "12          Sprite\n",
       "13    Coke Classic\n",
       "14       Diet Coke\n",
       "15    Coke Classic\n",
       "16    Coke Classic\n",
       "17          Sprite\n",
       "18    Coke Classic\n",
       "19       Diet Coke\n",
       "20    Coke Classic\n",
       "21       Diet Coke\n",
       "22    Coke Classic\n",
       "23          Sprite\n",
       "24           Pepsi\n",
       "25    Coke Classic\n",
       "26    Coke Classic\n",
       "27    Coke Classic\n",
       "28           Pepsi\n",
       "29    Coke Classic\n",
       "30          Sprite\n",
       "31      Dr. Pepper\n",
       "32           Pepsi\n",
       "33       Diet Coke\n",
       "34           Pepsi\n",
       "35    Coke Classic\n",
       "36    Coke Classic\n",
       "37    Coke Classic\n",
       "38           Pepsi\n",
       "39      Dr. Pepper\n",
       "40    Coke Classic\n",
       "41       Diet Coke\n",
       "42           Pepsi\n",
       "43           Pepsi\n",
       "44           Pepsi\n",
       "45           Pepsi\n",
       "46    Coke Classic\n",
       "47      Dr. Pepper\n",
       "48           Pepsi\n",
       "49          Sprite\n",
       "Name: Brand Purchased, dtype: object"
      ]
     },
     "execution_count": 17,
     "metadata": {},
     "output_type": "execute_result"
    }
   ],
   "source": [
    "brands = Brand['Brand Purchased']\n",
    "brands"
   ]
  },
  {
   "cell_type": "code",
   "execution_count": 19,
   "metadata": {},
   "outputs": [
    {
     "data": {
      "text/plain": [
       "(array(['Coke Classic', 'Diet Coke', 'Dr. Pepper', 'Pepsi', 'Sprite'],\n",
       "       dtype=object),\n",
       " array([19,  8,  5, 13,  5]))"
      ]
     },
     "execution_count": 19,
     "metadata": {},
     "output_type": "execute_result"
    }
   ],
   "source": [
    "brand, counts = np.unique(brands, return_counts=True)\n",
    "brand, counts"
   ]
  },
  {
   "cell_type": "code",
   "execution_count": 21,
   "metadata": {},
   "outputs": [
    {
     "data": {
      "text/plain": [
       "Coke Classic    19\n",
       "Pepsi           13\n",
       "Diet Coke        8\n",
       "Dr. Pepper       5\n",
       "Sprite           5\n",
       "Name: Brand Purchased, dtype: int64"
      ]
     },
     "execution_count": 21,
     "metadata": {},
     "output_type": "execute_result"
    }
   ],
   "source": [
    "#도수\n",
    "column1 = brands.value_counts()\n",
    "column1"
   ]
  },
  {
   "cell_type": "code",
   "execution_count": 23,
   "metadata": {},
   "outputs": [
    {
     "data": {
      "text/plain": [
       "Coke Classic    0.38\n",
       "Pepsi           0.26\n",
       "Diet Coke       0.16\n",
       "Dr. Pepper      0.10\n",
       "Sprite          0.10\n",
       "Name: Brand Purchased, dtype: float64"
      ]
     },
     "execution_count": 23,
     "metadata": {},
     "output_type": "execute_result"
    }
   ],
   "source": [
    "#상대도수\n",
    "n = len(brands)\n",
    "column2 = column1 / n\n",
    "column2\n"
   ]
  },
  {
   "cell_type": "code",
   "execution_count": 25,
   "metadata": {},
   "outputs": [
    {
     "data": {
      "text/html": [
       "<div>\n",
       "<style scoped>\n",
       "    .dataframe tbody tr th:only-of-type {\n",
       "        vertical-align: middle;\n",
       "    }\n",
       "\n",
       "    .dataframe tbody tr th {\n",
       "        vertical-align: top;\n",
       "    }\n",
       "\n",
       "    .dataframe thead th {\n",
       "        text-align: right;\n",
       "    }\n",
       "</style>\n",
       "<table border=\"1\" class=\"dataframe\">\n",
       "  <thead>\n",
       "    <tr style=\"text-align: right;\">\n",
       "      <th></th>\n",
       "      <th>freq</th>\n",
       "      <th>rel_freq</th>\n",
       "    </tr>\n",
       "  </thead>\n",
       "  <tbody>\n",
       "    <tr>\n",
       "      <th>Coke Classic</th>\n",
       "      <td>19</td>\n",
       "      <td>0.38</td>\n",
       "    </tr>\n",
       "    <tr>\n",
       "      <th>Pepsi</th>\n",
       "      <td>13</td>\n",
       "      <td>0.26</td>\n",
       "    </tr>\n",
       "    <tr>\n",
       "      <th>Diet Coke</th>\n",
       "      <td>8</td>\n",
       "      <td>0.16</td>\n",
       "    </tr>\n",
       "    <tr>\n",
       "      <th>Dr. Pepper</th>\n",
       "      <td>5</td>\n",
       "      <td>0.10</td>\n",
       "    </tr>\n",
       "    <tr>\n",
       "      <th>Sprite</th>\n",
       "      <td>5</td>\n",
       "      <td>0.10</td>\n",
       "    </tr>\n",
       "  </tbody>\n",
       "</table>\n",
       "</div>"
      ],
      "text/plain": [
       "              freq  rel_freq\n",
       "Coke Classic    19      0.38\n",
       "Pepsi           13      0.26\n",
       "Diet Coke        8      0.16\n",
       "Dr. Pepper       5      0.10\n",
       "Sprite           5      0.10"
      ]
     },
     "execution_count": 25,
     "metadata": {},
     "output_type": "execute_result"
    }
   ],
   "source": [
    "pd.DataFrame({'freq': column1, 'rel_freq': column2})"
   ]
  },
  {
   "cell_type": "code",
   "execution_count": 28,
   "metadata": {},
   "outputs": [
    {
     "data": {
      "text/plain": [
       "<function matplotlib.pyplot.show(close=None, block=None)>"
      ]
     },
     "execution_count": 28,
     "metadata": {},
     "output_type": "execute_result"
    },
    {
     "data": {
      "image/png": "[encoded data removed]",
      "text/plain": [
       "<Figure size 640x480 with 1 Axes>"
      ]
     },
     "metadata": {},
     "output_type": "display_data"
    }
   ],
   "source": [
    "plt.bar(brand, counts)\n",
    "plt.xlabel('Brands')\n",
    "plt.ylabel('freqency')\n",
    "plt.show"
   ]
  },
  {
   "cell_type": "code",
   "execution_count": 33,
   "metadata": {},
   "outputs": [
    {
     "data": {
      "text/plain": [
       "<function matplotlib.pyplot.show(close=None, block=None)>"
      ]
     },
     "execution_count": 33,
     "metadata": {},
     "output_type": "execute_result"
    },
    {
     "data": {
      "image/png": "[encoded data removed]",
      "text/plain": [
       "<Figure size 640x480 with 1 Axes>"
      ]
     },
     "metadata": {},
     "output_type": "display_data"
    }
   ],
   "source": [
    "plt.pie(counts, labels=brand, autopct='%.1f%%')\n",
    "plt.show"
   ]
  },
  {
   "attachments": {},
   "cell_type": "markdown",
   "metadata": {},
   "source": [
    "범주형 데이터 요약"
   ]
  },
  {
   "cell_type": "code",
   "execution_count": 34,
   "metadata": {},
   "outputs": [
    {
     "data": {
      "text/html": [
       "<div>\n",
       "<style scoped>\n",
       "    .dataframe tbody tr th:only-of-type {\n",
       "        vertical-align: middle;\n",
       "    }\n",
       "\n",
       "    .dataframe tbody tr th {\n",
       "        vertical-align: top;\n",
       "    }\n",
       "\n",
       "    .dataframe thead th {\n",
       "        text-align: right;\n",
       "    }\n",
       "</style>\n",
       "<table border=\"1\" class=\"dataframe\">\n",
       "  <thead>\n",
       "    <tr style=\"text-align: right;\">\n",
       "      <th></th>\n",
       "      <th>Audit Time</th>\n",
       "    </tr>\n",
       "  </thead>\n",
       "  <tbody>\n",
       "    <tr>\n",
       "      <th>0</th>\n",
       "      <td>12</td>\n",
       "    </tr>\n",
       "    <tr>\n",
       "      <th>1</th>\n",
       "      <td>14</td>\n",
       "    </tr>\n",
       "    <tr>\n",
       "      <th>2</th>\n",
       "      <td>14</td>\n",
       "    </tr>\n",
       "    <tr>\n",
       "      <th>3</th>\n",
       "      <td>13</td>\n",
       "    </tr>\n",
       "    <tr>\n",
       "      <th>4</th>\n",
       "      <td>15</td>\n",
       "    </tr>\n",
       "  </tbody>\n",
       "</table>\n",
       "</div>"
      ],
      "text/plain": [
       "   Audit Time\n",
       "0          12\n",
       "1          14\n",
       "2          14\n",
       "3          13\n",
       "4          15"
      ]
     },
     "execution_count": 34,
     "metadata": {},
     "output_type": "execute_result"
    }
   ],
   "source": [
    "Audit = pd.read_excel('./data/Audit.xlsx', header=0, usecols=[0])\n",
    "Audit.head()"
   ]
  },
  {
   "cell_type": "code",
   "execution_count": 36,
   "metadata": {},
   "outputs": [
    {
     "name": "stdout",
     "output_type": "stream",
     "text": [
      "min 12\n",
      "max 33\n"
     ]
    }
   ],
   "source": [
    "audit = Audit['Audit Time']\n",
    "print(\"min\", audit.min())\n",
    "print(\"max\", audit.max())"
   ]
  },
  {
   "cell_type": "code",
   "execution_count": 37,
   "metadata": {},
   "outputs": [],
   "source": [
    "audit_group = np.where(audit<=14, \"10일~14일\", \n",
    "                np.where(audit<=19, \"15일~19일\",\n",
    "                np.where(audit<=24, \"20일~24일\",\n",
    "                np.where(audit<=29, \"25일~29일\", \"30일~34일\"))))"
   ]
  },
  {
   "cell_type": "code",
   "execution_count": 40,
   "metadata": {},
   "outputs": [
    {
     "data": {
      "text/html": [
       "<div>\n",
       "<style scoped>\n",
       "    .dataframe tbody tr th:only-of-type {\n",
       "        vertical-align: middle;\n",
       "    }\n",
       "\n",
       "    .dataframe tbody tr th {\n",
       "        vertical-align: top;\n",
       "    }\n",
       "\n",
       "    .dataframe thead th {\n",
       "        text-align: right;\n",
       "    }\n",
       "</style>\n",
       "<table border=\"1\" class=\"dataframe\">\n",
       "  <thead>\n",
       "    <tr style=\"text-align: right;\">\n",
       "      <th></th>\n",
       "      <th>freq</th>\n",
       "    </tr>\n",
       "  </thead>\n",
       "  <tbody>\n",
       "    <tr>\n",
       "      <th>10일~14일</th>\n",
       "      <td>4</td>\n",
       "    </tr>\n",
       "    <tr>\n",
       "      <th>15일~19일</th>\n",
       "      <td>8</td>\n",
       "    </tr>\n",
       "    <tr>\n",
       "      <th>20일~24일</th>\n",
       "      <td>5</td>\n",
       "    </tr>\n",
       "    <tr>\n",
       "      <th>25일~29일</th>\n",
       "      <td>2</td>\n",
       "    </tr>\n",
       "    <tr>\n",
       "      <th>30일~34일</th>\n",
       "      <td>1</td>\n",
       "    </tr>\n",
       "  </tbody>\n",
       "</table>\n",
       "</div>"
      ],
      "text/plain": [
       "         freq\n",
       "10일~14일     4\n",
       "15일~19일     8\n",
       "20일~24일     5\n",
       "25일~29일     2\n",
       "30일~34일     1"
      ]
     },
     "execution_count": 40,
     "metadata": {},
     "output_type": "execute_result"
    }
   ],
   "source": [
    "audit_counts = pd.Series(audit_group).value_counts()\n",
    "audit_table = pd.DataFrame(audit_counts, columns=['freq'])\n",
    "audit_table.sort_index(inplace=True)\n",
    "audit_table"
   ]
  },
  {
   "cell_type": "code",
   "execution_count": 43,
   "metadata": {},
   "outputs": [
    {
     "data": {
      "text/html": [
       "<div>\n",
       "<style scoped>\n",
       "    .dataframe tbody tr th:only-of-type {\n",
       "        vertical-align: middle;\n",
       "    }\n",
       "\n",
       "    .dataframe tbody tr th {\n",
       "        vertical-align: top;\n",
       "    }\n",
       "\n",
       "    .dataframe thead th {\n",
       "        text-align: right;\n",
       "    }\n",
       "</style>\n",
       "<table border=\"1\" class=\"dataframe\">\n",
       "  <thead>\n",
       "    <tr style=\"text-align: right;\">\n",
       "      <th></th>\n",
       "      <th>freq</th>\n",
       "      <th>ratio</th>\n",
       "      <th>percentage_ratio</th>\n",
       "    </tr>\n",
       "  </thead>\n",
       "  <tbody>\n",
       "    <tr>\n",
       "      <th>10일~14일</th>\n",
       "      <td>4</td>\n",
       "      <td>0.20</td>\n",
       "      <td>20.0</td>\n",
       "    </tr>\n",
       "    <tr>\n",
       "      <th>15일~19일</th>\n",
       "      <td>8</td>\n",
       "      <td>0.40</td>\n",
       "      <td>40.0</td>\n",
       "    </tr>\n",
       "    <tr>\n",
       "      <th>20일~24일</th>\n",
       "      <td>5</td>\n",
       "      <td>0.25</td>\n",
       "      <td>25.0</td>\n",
       "    </tr>\n",
       "    <tr>\n",
       "      <th>25일~29일</th>\n",
       "      <td>2</td>\n",
       "      <td>0.10</td>\n",
       "      <td>10.0</td>\n",
       "    </tr>\n",
       "    <tr>\n",
       "      <th>30일~34일</th>\n",
       "      <td>1</td>\n",
       "      <td>0.05</td>\n",
       "      <td>5.0</td>\n",
       "    </tr>\n",
       "  </tbody>\n",
       "</table>\n",
       "</div>"
      ],
      "text/plain": [
       "         freq  ratio  percentage_ratio\n",
       "10일~14일     4   0.20              20.0\n",
       "15일~19일     8   0.40              40.0\n",
       "20일~24일     5   0.25              25.0\n",
       "25일~29일     2   0.10              10.0\n",
       "30일~34일     1   0.05               5.0"
      ]
     },
     "execution_count": 43,
     "metadata": {},
     "output_type": "execute_result"
    }
   ],
   "source": [
    "audit_table['ratio'] = np.round(audit_table.freq/sum(audit_table.freq), 2)\n",
    "audit_table[\"percentage_ratio\"] = np.round(audit_table.freq/sum(audit_table.freq)*100, 2)\n",
    "audit_table"
   ]
  },
  {
   "cell_type": "code",
   "execution_count": 44,
   "metadata": {},
   "outputs": [
    {
     "data": {
      "text/plain": [
       "<function matplotlib.pyplot.show(close=None, block=None)>"
      ]
     },
     "execution_count": 44,
     "metadata": {},
     "output_type": "execute_result"
    },
    {
     "data": {
      "image/png": "[encoded data removed]",
      "text/plain": [
       "<Figure size 640x480 with 1 Axes>"
      ]
     },
     "metadata": {},
     "output_type": "display_data"
    }
   ],
   "source": [
    "plt.hist(Audit['Audit Time'], bins=[0,15,20,25,30,35])\n",
    "plt.xlim(10, 35)\n",
    "plt.xlabel('days')\n",
    "plt.ylabel('frequency')\n",
    "plt.show"
   ]
  },
  {
   "cell_type": "code",
   "execution_count": 45,
   "metadata": {},
   "outputs": [
    {
     "data": {
      "text/html": [
       "<div>\n",
       "<style scoped>\n",
       "    .dataframe tbody tr th:only-of-type {\n",
       "        vertical-align: middle;\n",
       "    }\n",
       "\n",
       "    .dataframe tbody tr th {\n",
       "        vertical-align: top;\n",
       "    }\n",
       "\n",
       "    .dataframe thead th {\n",
       "        text-align: right;\n",
       "    }\n",
       "</style>\n",
       "<table border=\"1\" class=\"dataframe\">\n",
       "  <thead>\n",
       "    <tr style=\"text-align: right;\">\n",
       "      <th></th>\n",
       "      <th>freq</th>\n",
       "      <th>ratio</th>\n",
       "      <th>percentage_ratio</th>\n",
       "      <th>cum_freq</th>\n",
       "      <th>cum_ratio</th>\n",
       "    </tr>\n",
       "  </thead>\n",
       "  <tbody>\n",
       "    <tr>\n",
       "      <th>10일~14일</th>\n",
       "      <td>4</td>\n",
       "      <td>0.20</td>\n",
       "      <td>20.0</td>\n",
       "      <td>4</td>\n",
       "      <td>0.20</td>\n",
       "    </tr>\n",
       "    <tr>\n",
       "      <th>15일~19일</th>\n",
       "      <td>8</td>\n",
       "      <td>0.40</td>\n",
       "      <td>40.0</td>\n",
       "      <td>12</td>\n",
       "      <td>0.60</td>\n",
       "    </tr>\n",
       "    <tr>\n",
       "      <th>20일~24일</th>\n",
       "      <td>5</td>\n",
       "      <td>0.25</td>\n",
       "      <td>25.0</td>\n",
       "      <td>17</td>\n",
       "      <td>0.85</td>\n",
       "    </tr>\n",
       "    <tr>\n",
       "      <th>25일~29일</th>\n",
       "      <td>2</td>\n",
       "      <td>0.10</td>\n",
       "      <td>10.0</td>\n",
       "      <td>19</td>\n",
       "      <td>0.95</td>\n",
       "    </tr>\n",
       "    <tr>\n",
       "      <th>30일~34일</th>\n",
       "      <td>1</td>\n",
       "      <td>0.05</td>\n",
       "      <td>5.0</td>\n",
       "      <td>20</td>\n",
       "      <td>1.00</td>\n",
       "    </tr>\n",
       "  </tbody>\n",
       "</table>\n",
       "</div>"
      ],
      "text/plain": [
       "         freq  ratio  percentage_ratio  cum_freq  cum_ratio\n",
       "10일~14일     4   0.20              20.0         4       0.20\n",
       "15일~19일     8   0.40              40.0        12       0.60\n",
       "20일~24일     5   0.25              25.0        17       0.85\n",
       "25일~29일     2   0.10              10.0        19       0.95\n",
       "30일~34일     1   0.05               5.0        20       1.00"
      ]
     },
     "execution_count": 45,
     "metadata": {},
     "output_type": "execute_result"
    }
   ],
   "source": [
    "audit_table[\"cum_freq\"] = np.cumsum(audit_table.freq)\n",
    "audit_table[\"cum_ratio\"] = np.cumsum(audit_table.ratio)\n",
    "audit_table"
   ]
  },
  {
   "cell_type": "code",
   "execution_count": 50,
   "metadata": {},
   "outputs": [
    {
     "data": {
      "text/plain": [
       "[<matplotlib.lines.Line2D at 0x7fc706c793f0>]"
      ]
     },
     "execution_count": 50,
     "metadata": {},
     "output_type": "execute_result"
    },
    {
     "data": {
      "image/png": "[encoded data removed]",
      "text/plain": [
       "<Figure size 640x480 with 1 Axes>"
      ]
     },
     "metadata": {},
     "output_type": "display_data"
    }
   ],
   "source": [
    "x_value = np.arange(9.5, 39.5, 5)\n",
    "y_value = audit_table['cum_freq'].to_list()\n",
    "y_value.insert(0,0)\n",
    "plt.plot(x_value, y_value, marker='o')"
   ]
  }
 ],
 "metadata": {
  "kernelspec": {
   "display_name": "Python 3 (ipykernel)",
   "language": "python",
   "name": "python3"
  },
  "language_info": {
   "codemirror_mode": {
    "name": "ipython",
    "version": 3
   },
   "file_extension": ".py",
   "mimetype": "text/x-python",
   "name": "python",
   "nbconvert_exporter": "python",
   "pygments_lexer": "ipython3",
   "version": "3.10.6"
  },
  "orig_nbformat": 4
 },
 "nbformat": 4,
 "nbformat_minor": 2
}
