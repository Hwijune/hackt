{
 "cells": [
  {
   "cell_type": "code",
   "execution_count": 1,
   "id": "b98a83bf",
   "metadata": {},
   "outputs": [],
   "source": [
    "import numpy as np\n",
    "from scipy import linalg as la"
   ]
  },
  {
   "cell_type": "markdown",
   "id": "dfb71687",
   "metadata": {},
   "source": [
    "### 1) A의 행렬식인 |A|를 구해보자"
   ]
  },
  {
   "cell_type": "code",
   "execution_count": 3,
   "id": "b024c0ab",
   "metadata": {},
   "outputs": [
    {
     "data": {
      "text/plain": [
       "-12.0"
      ]
     },
     "execution_count": 3,
     "metadata": {},
     "output_type": "execute_result"
    }
   ],
   "source": [
    "A = np.array(([2,2,6],\n",
    "              [1,3,9],\n",
    "              [6,1,0]))\n",
    "np.round(la.det(A))"
   ]
  },
  {
   "cell_type": "markdown",
   "id": "55048c5c",
   "metadata": {},
   "source": [
    "### 2) A의 첫번째 행과 두번째 행을 바꾸는 행렬 𝐸1 를 구한 후 |𝐸1A| 를 구해보자."
   ]
  },
  {
   "cell_type": "code",
   "execution_count": 25,
   "id": "4f238d6e",
   "metadata": {},
   "outputs": [
    {
     "name": "stdout",
     "output_type": "stream",
     "text": [
      "**행렬 A\n",
      "[[2 2 6]\n",
      " [1 3 9]\n",
      " [6 1 0]]\n",
      "**A의 첫번째 행과 두번째 행을 바꾸는 행렬 E1\n",
      "[[0 1 0]\n",
      " [1 0 0]\n",
      " [0 0 1]]\n",
      "**E1@A\n",
      "[[1 3 9]\n",
      " [2 2 6]\n",
      " [6 1 0]]\n",
      "============\n",
      "**|E1A| 결과 값\n",
      "11.999999999999996\n",
      "-> detA = -detA`\n"
     ]
    }
   ],
   "source": [
    "#첫번째 행과 두번째 행 교환 - 치환행렬\n",
    "E1 = np.array(([0,1,0],\n",
    "               [1,0,0],\n",
    "               [0,0,1]))\n",
    "print(\"**행렬 A\")\n",
    "print(A)\n",
    "print(\"**A의 첫번째 행과 두번째 행을 바꾸는 행렬 E1\")\n",
    "print(E1)\n",
    "print(\"**E1@A\")\n",
    "print(E1@A)\n",
    "print(\"============\")\n",
    "print(\"**|E1A| 결과 값\")\n",
    "print(la.det(E1@A))\n",
    "print(\"-> detA = -detA`\")"
   ]
  },
  {
   "cell_type": "markdown",
   "id": "fbc5f008",
   "metadata": {},
   "source": [
    "### 3) A의 첫번째 행을 1/2배 하는 행렬 𝐸2 을 구한 후 |𝐸2A| 구해보자."
   ]
  },
  {
   "cell_type": "code",
   "execution_count": 24,
   "id": "d23212de",
   "metadata": {},
   "outputs": [
    {
     "name": "stdout",
     "output_type": "stream",
     "text": [
      "**행렬 A\n",
      "[[2 2 6]\n",
      " [1 3 9]\n",
      " [6 1 0]]\n",
      "**A의 첫번째 행을 1/2배 하는 행렬 𝐸2\n",
      "[[0.5 0.  0. ]\n",
      " [0.  1.  0. ]\n",
      " [0.  0.  1. ]]\n",
      "**E2@A\n",
      "[[1. 1. 3.]\n",
      " [1. 3. 9.]\n",
      " [6. 1. 0.]]\n",
      "============\n",
      "**|E2A| 결과 값\n",
      "-6.000000000000002\n"
     ]
    }
   ],
   "source": [
    "E2 = np.array(([0.5,0,0],\n",
    "               [0,1,0],\n",
    "               [0,0,1]))\n",
    "print(\"**행렬 A\")\n",
    "print(A)\n",
    "print(\"**A의 첫번째 행을 1/2배 하는 행렬 𝐸2\")\n",
    "print(E2)\n",
    "print(\"**E2@A\")\n",
    "print(E2@A)\n",
    "print(\"============\")\n",
    "print(\"**|E2A| 결과 값\")\n",
    "print(la.det(E2@A))"
   ]
  },
  {
   "cell_type": "markdown",
   "id": "407ce5d3",
   "metadata": {},
   "source": [
    "### 4) A의 첫번째 행을 1/2배 한 후 두번째 행에 그 값을 더하는 행렬 𝐸3 를 구한 후 |𝐸3A| 을구해보자"
   ]
  },
  {
   "cell_type": "code",
   "execution_count": 28,
   "id": "50c980c3",
   "metadata": {},
   "outputs": [
    {
     "name": "stdout",
     "output_type": "stream",
     "text": [
      "**행렬 A\n",
      "[[2 2 6]\n",
      " [1 3 9]\n",
      " [6 1 0]]\n",
      "**A의 첫번째 행을 1/2배 한 행렬\n",
      "[[1. 1. 3.]\n",
      " [1. 3. 9.]\n",
      " [6. 1. 0.]]\n",
      "**A의 첫번째 행을 1/2배 한 후 두번째 행에 그 값을 더하는 행렬 𝐸3\n",
      "[[1.  0.  0. ]\n",
      " [0.5 1.  0. ]\n",
      " [0.  0.  1. ]]\n",
      "**E3@A\n",
      "[[ 2.  2.  6.]\n",
      " [ 2.  4. 12.]\n",
      " [ 6.  1.  0.]]\n",
      "============\n",
      "**|E3A| 결과 값\n",
      "-12.000000000000005\n",
      "-> detA = detA`\n"
     ]
    }
   ],
   "source": [
    "E3 = np.array(([1,0,0],\n",
    "               [0.5,1,0],\n",
    "               [0,0,1]))\n",
    "\n",
    "print(\"**행렬 A\")\n",
    "print(A)\n",
    "print(\"**A의 첫번째 행을 1/2배 한 행렬\")\n",
    "print(E2@A)\n",
    "print(\"**A의 첫번째 행을 1/2배 한 후 두번째 행에 그 값을 더하는 행렬 𝐸3\")\n",
    "print(E3)\n",
    "print(\"**E3@A\")\n",
    "print(E3@A)\n",
    "print(\"============\")\n",
    "print(\"**|E3A| 결과 값\")\n",
    "print(la.det(E3@A))\n",
    "print(\"-> detA = detA`\")"
   ]
  },
  {
   "cell_type": "markdown",
   "id": "f83808fe",
   "metadata": {},
   "source": [
    "### 5) 고유값을 구해보자."
   ]
  },
  {
   "cell_type": "code",
   "execution_count": 29,
   "id": "b6ada979",
   "metadata": {},
   "outputs": [
    {
     "data": {
      "text/plain": [
       "array([[1., 0.],\n",
       "       [0., 1.]])"
      ]
     },
     "execution_count": 29,
     "metadata": {},
     "output_type": "execute_result"
    }
   ],
   "source": [
    "I = np.eye(2)\n",
    "I"
   ]
  },
  {
   "cell_type": "code",
   "execution_count": 32,
   "id": "6d1004cb",
   "metadata": {},
   "outputs": [
    {
     "name": "stdout",
     "output_type": "stream",
     "text": [
      "고유값\n",
      "[1.+0.j 1.+0.j]\n"
     ]
    }
   ],
   "source": [
    "w, v = la.eig(I)\n",
    "print(\"고유값\")\n",
    "print(w)"
   ]
  },
  {
   "cell_type": "markdown",
   "id": "13c596f3",
   "metadata": {},
   "source": [
    "### 6) 서로 직교하면서 각각의 노름이 1인 고유벡터 2개를 구해보자"
   ]
  },
  {
   "cell_type": "code",
   "execution_count": 44,
   "id": "045251d3",
   "metadata": {},
   "outputs": [
    {
     "name": "stdout",
     "output_type": "stream",
     "text": [
      "고유 벡터 2개\n",
      "V1 -> [1. 0.]\n",
      "V2 -> [0. 1.]\n",
      "V1 norm -> 1.0\n",
      "V2 norm -> 1.0\n",
      "직교 여부\n",
      "V1.T @ V2 -> 0.0\n",
      "V1 @ V2.T -> 0.0\n",
      "V2.T @ V1 -> 0.0\n",
      "V2.T @ V1 -> 0.0\n"
     ]
    }
   ],
   "source": [
    "print(\"고유 벡터 2개\")\n",
    "print(\"V1 ->\",v[0])\n",
    "print(\"V2 ->\",v[1])\n",
    "\n",
    "print(\"V1 norm ->\", la.norm(v[0]))\n",
    "print(\"V2 norm ->\", la.norm(v[1]))\n",
    "print(\"직교 여부\")\n",
    "print(\"V1.T @ V2 ->\",v[0].T @ v[1])\n",
    "print(\"V1 @ V2.T ->\",v[0] @ v[1].T)\n",
    "print(\"V2.T @ V1 ->\",v[1].T @ v[0])\n",
    "print(\"V2.T @ V1 ->\",v[1].T @ v[0])"
   ]
  },
  {
   "cell_type": "markdown",
   "id": "e1158a10",
   "metadata": {},
   "source": []
  }
 ],
 "metadata": {
  "kernelspec": {
   "display_name": "hwi",
   "language": "python",
   "name": "hwi"
  },
  "language_info": {
   "codemirror_mode": {
    "name": "ipython",
    "version": 3
   },
   "file_extension": ".py",
   "mimetype": "text/x-python",
   "name": "python",
   "nbconvert_exporter": "python",
   "pygments_lexer": "ipython3",
   "version": "3.7.0"
  }
 },
 "nbformat": 4,
 "nbformat_minor": 5
}
