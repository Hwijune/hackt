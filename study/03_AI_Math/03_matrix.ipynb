{
 "cells": [
  {
   "cell_type": "code",
   "execution_count": 11,
   "id": "7663e871",
   "metadata": {},
   "outputs": [],
   "source": [
    "import numpy as np"
   ]
  },
  {
   "cell_type": "code",
   "execution_count": 3,
   "id": "df157c33",
   "metadata": {},
   "outputs": [
    {
     "data": {
      "text/plain": [
       "array([[-1.086,  0.997,  0.283, -1.506],\n",
       "       [-0.579,  1.651, -2.427, -0.429],\n",
       "       [ 1.266, -0.867, -0.679, -0.095],\n",
       "       [ 1.491, -0.639, -0.444, -0.434]])"
      ]
     },
     "execution_count": 3,
     "metadata": {},
     "output_type": "execute_result"
    }
   ],
   "source": [
    "A = np.array([[-1.086, 0.997, 0.283, -1.506], \n",
    "              [-0.579, 1.651, -2.427, -0.429], \n",
    "              [ 1.266, -0.867, -0.679, -0.095], \n",
    "              [ 1.491, -0.639, -0.444, -0.434]]) \n",
    "A"
   ]
  },
  {
   "cell_type": "code",
   "execution_count": 5,
   "id": "27a69771",
   "metadata": {},
   "outputs": [
    {
     "data": {
      "text/plain": [
       "array([['a', 'c'],\n",
       "       ['b', 'd']], dtype=object)"
      ]
     },
     "execution_count": 5,
     "metadata": {},
     "output_type": "execute_result"
    }
   ],
   "source": [
    "B = np.array([['a', 'c'], \n",
    "              ['b', 'd']], dtype='object') \n",
    "B"
   ]
  },
  {
   "cell_type": "code",
   "execution_count": 6,
   "id": "f1dffd38",
   "metadata": {},
   "outputs": [
    {
     "data": {
      "text/plain": [
       "(3, 4)"
      ]
     },
     "execution_count": 6,
     "metadata": {},
     "output_type": "execute_result"
    }
   ],
   "source": [
    "A = np.array([[ 3, 3, 7, 2], \n",
    "              [ 4, 11, 10, 7], \n",
    "              [ 2, 1, 2, 10]]) \n",
    "A.shape"
   ]
  },
  {
   "cell_type": "code",
   "execution_count": 9,
   "id": "5be99bc1",
   "metadata": {},
   "outputs": [
    {
     "data": {
      "text/plain": [
       "12"
      ]
     },
     "execution_count": 9,
     "metadata": {},
     "output_type": "execute_result"
    }
   ],
   "source": [
    "A.size"
   ]
  },
  {
   "cell_type": "code",
   "execution_count": 11,
   "id": "a2f6815c",
   "metadata": {},
   "outputs": [
    {
     "data": {
      "text/plain": [
       "array([3, 3, 7, 2])"
      ]
     },
     "execution_count": 11,
     "metadata": {},
     "output_type": "execute_result"
    }
   ],
   "source": [
    "# 행 벡터\n",
    "A[0,:]"
   ]
  },
  {
   "cell_type": "code",
   "execution_count": 12,
   "id": "a04fb886",
   "metadata": {},
   "outputs": [
    {
     "data": {
      "text/plain": [
       "array([3, 4, 2])"
      ]
     },
     "execution_count": 12,
     "metadata": {},
     "output_type": "execute_result"
    }
   ],
   "source": [
    "# 열 벡터\n",
    "A[:,0]"
   ]
  },
  {
   "cell_type": "code",
   "execution_count": 13,
   "id": "8db890ef",
   "metadata": {},
   "outputs": [
    {
     "data": {
      "text/plain": [
       "3"
      ]
     },
     "execution_count": 13,
     "metadata": {},
     "output_type": "execute_result"
    }
   ],
   "source": [
    "A[0, 0]"
   ]
  },
  {
   "cell_type": "code",
   "execution_count": 14,
   "id": "9ae0fa29",
   "metadata": {},
   "outputs": [
    {
     "data": {
      "text/plain": [
       "7"
      ]
     },
     "execution_count": 14,
     "metadata": {},
     "output_type": "execute_result"
    }
   ],
   "source": [
    "A[1,3]"
   ]
  },
  {
   "cell_type": "code",
   "execution_count": 13,
   "id": "f40f0df4",
   "metadata": {},
   "outputs": [
    {
     "data": {
      "text/plain": [
       "55"
      ]
     },
     "execution_count": 13,
     "metadata": {},
     "output_type": "execute_result"
    }
   ],
   "source": [
    "# 과제 6.1 \n",
    "# 1번째와 2번째 열벡터의 내적을 구해보자.\n",
    "A = np.array([[ 3, 3, 7, 2], \n",
    "              [ 4, 11, 10, 7], \n",
    "              [ 2, 1, 2, 10]]) \n",
    "\n",
    "A_col1 = A[:,0]\n",
    "A_col2 = A[:,1]\n",
    "np.dot(A_col1, A_col2)"
   ]
  },
  {
   "cell_type": "code",
   "execution_count": 17,
   "id": "b1c4c07e",
   "metadata": {},
   "outputs": [
    {
     "name": "stdout",
     "output_type": "stream",
     "text": [
      "8.426149773176359\n",
      "16.911534525287763\n",
      "10.44030650891055\n"
     ]
    }
   ],
   "source": [
    "# 과제 6.2\n",
    "# 모든 행 벡터의 노름을 구해보자.\n",
    "A_row1 = A[0,:]\n",
    "A_row2 = A[1,:]\n",
    "A_row3 = A[2,:]\n",
    "print(la.norm(A_row1))\n",
    "print(la.norm(A_row2))\n",
    "print(la.norm(A_row3))\n"
   ]
  },
  {
   "cell_type": "code",
   "execution_count": 19,
   "id": "ec8b0f02",
   "metadata": {},
   "outputs": [
    {
     "name": "stdout",
     "output_type": "stream",
     "text": [
      "11 7\n"
     ]
    }
   ],
   "source": [
    "# 과제 6.3\n",
    "# 𝑎22 ,𝑎24의 값을 찾기 위한 파이썬 프로그램을 구성해보자.\n",
    "print(A[1,1], A[1,3])"
   ]
  },
  {
   "cell_type": "code",
   "execution_count": 15,
   "id": "83272420",
   "metadata": {},
   "outputs": [
    {
     "data": {
      "text/plain": [
       "array([[ True,  True],\n",
       "       [ True,  True],\n",
       "       [ True,  True]])"
      ]
     },
     "execution_count": 15,
     "metadata": {},
     "output_type": "execute_result"
    }
   ],
   "source": [
    "# 행렬 전치의 성질\n",
    "A = np.arange(1, 7).reshape(2, 3) \n",
    "B = np.arange(3, 9).reshape(2, 3)\n",
    "A.T + B.T == (A + B).T"
   ]
  },
  {
   "cell_type": "code",
   "execution_count": 17,
   "id": "b315f73a",
   "metadata": {},
   "outputs": [
    {
     "name": "stdout",
     "output_type": "stream",
     "text": [
      "[[1 2 3]\n",
      " [4 5 6]]\n",
      "[[3 4 5]\n",
      " [6 7 8]]\n"
     ]
    }
   ],
   "source": [
    "print(A)\n",
    "print(B)"
   ]
  },
  {
   "cell_type": "code",
   "execution_count": 16,
   "id": "06ac7b1c",
   "metadata": {
    "scrolled": true
   },
   "outputs": [
    {
     "data": {
      "text/plain": [
       "array([[ True,  True],\n",
       "       [ True,  True],\n",
       "       [ True,  True]])"
      ]
     },
     "execution_count": 16,
     "metadata": {},
     "output_type": "execute_result"
    }
   ],
   "source": [
    "c = 0.1\n",
    "(c*A).T == c*A.T"
   ]
  },
  {
   "cell_type": "code",
   "execution_count": 20,
   "id": "644f6579",
   "metadata": {},
   "outputs": [
    {
     "name": "stdout",
     "output_type": "stream",
     "text": [
      "[[1.3 2.4 3.5]\n",
      " [4.6 5.7 6.8]]\n"
     ]
    }
   ],
   "source": [
    "# 과제 7.1\n",
    "# A + 0.1B를 구해보자\n",
    "\n",
    "A = np.array([[ 1, 2, 3], \n",
    "              [ 4, 5, 6]]) \n",
    "\n",
    "B = np.array([[ 3, 4, 5 ], \n",
    "              [ 6, 7, 8 ]])\n",
    "\n",
    "print(A + 0.1*B)\n"
   ]
  },
  {
   "cell_type": "code",
   "execution_count": 21,
   "id": "4d5f6a36",
   "metadata": {},
   "outputs": [
    {
     "name": "stdout",
     "output_type": "stream",
     "text": [
      "[[ True  True]\n",
      " [ True  True]\n",
      " [ True  True]]\n"
     ]
    }
   ],
   "source": [
    "# 과제 7.2\n",
    "# (0.1B)T = 0.1BT 임을 알아보자.\n",
    "\n",
    "print((0.1*B).T == 0.1*B.T)"
   ]
  },
  {
   "cell_type": "markdown",
   "id": "c7993ebc",
   "metadata": {},
   "source": [
    "- 행렬 곱"
   ]
  },
  {
   "cell_type": "code",
   "execution_count": 6,
   "id": "b798be74",
   "metadata": {},
   "outputs": [],
   "source": [
    "import numpy as np\n",
    "A = np.array([[1,2,3],[4,5,6]])\n",
    "B = np.array([[1,2],[3,4],[5,6]])"
   ]
  },
  {
   "cell_type": "code",
   "execution_count": 7,
   "id": "7db87dbf",
   "metadata": {},
   "outputs": [
    {
     "data": {
      "text/plain": [
       "array([[22, 28],\n",
       "       [49, 64]])"
      ]
     },
     "execution_count": 7,
     "metadata": {},
     "output_type": "execute_result"
    }
   ],
   "source": [
    "A @ B"
   ]
  },
  {
   "cell_type": "code",
   "execution_count": 8,
   "id": "d9708eb5",
   "metadata": {},
   "outputs": [
    {
     "data": {
      "text/plain": [
       "array([[22, 28],\n",
       "       [49, 64]])"
      ]
     },
     "execution_count": 8,
     "metadata": {},
     "output_type": "execute_result"
    }
   ],
   "source": [
    "np.matmul(A, B)"
   ]
  },
  {
   "cell_type": "code",
   "execution_count": 9,
   "id": "ee42d671",
   "metadata": {},
   "outputs": [
    {
     "data": {
      "text/plain": [
       "array([[22, 28],\n",
       "       [49, 64]])"
      ]
     },
     "execution_count": 9,
     "metadata": {},
     "output_type": "execute_result"
    }
   ],
   "source": [
    "A.dot(B)"
   ]
  },
  {
   "cell_type": "code",
   "execution_count": 11,
   "id": "7d83f6d9",
   "metadata": {},
   "outputs": [],
   "source": [
    "A = np.array([[1,2],[3,4]])\n",
    "B = np.array([[5,6],[7,8]])"
   ]
  },
  {
   "cell_type": "code",
   "execution_count": 12,
   "id": "ce6dc61f",
   "metadata": {},
   "outputs": [
    {
     "data": {
      "text/plain": [
       "array([[19, 22],\n",
       "       [43, 50]])"
      ]
     },
     "execution_count": 12,
     "metadata": {},
     "output_type": "execute_result"
    }
   ],
   "source": [
    "A @ B"
   ]
  },
  {
   "cell_type": "code",
   "execution_count": 13,
   "id": "e3a099a5",
   "metadata": {},
   "outputs": [
    {
     "data": {
      "text/plain": [
       "array([[23, 34],\n",
       "       [31, 46]])"
      ]
     },
     "execution_count": 13,
     "metadata": {},
     "output_type": "execute_result"
    }
   ],
   "source": [
    "B @ A"
   ]
  },
  {
   "cell_type": "code",
   "execution_count": 14,
   "id": "4e46ffd3",
   "metadata": {},
   "outputs": [
    {
     "data": {
      "text/plain": [
       "array([[19, 43],\n",
       "       [22, 50]])"
      ]
     },
     "execution_count": 14,
     "metadata": {},
     "output_type": "execute_result"
    }
   ],
   "source": [
    "(A @ B).T"
   ]
  },
  {
   "cell_type": "code",
   "execution_count": 15,
   "id": "14cc2574",
   "metadata": {},
   "outputs": [
    {
     "data": {
      "text/plain": [
       "array([[19, 43],\n",
       "       [22, 50]])"
      ]
     },
     "execution_count": 15,
     "metadata": {},
     "output_type": "execute_result"
    }
   ],
   "source": [
    "B.T @ A.T"
   ]
  },
  {
   "cell_type": "code",
   "execution_count": 30,
   "id": "d8881e46",
   "metadata": {},
   "outputs": [],
   "source": [
    "A = np.array([[1,2,3],[4,5,6]])\n",
    "B = np.array([[3,4,5],[6,7,8]])"
   ]
  },
  {
   "cell_type": "code",
   "execution_count": 31,
   "id": "cb4285ed",
   "metadata": {},
   "outputs": [
    {
     "data": {
      "text/plain": [
       "array([[27, 32, 37],\n",
       "       [36, 43, 50],\n",
       "       [45, 54, 63]])"
      ]
     },
     "execution_count": 31,
     "metadata": {},
     "output_type": "execute_result"
    }
   ],
   "source": [
    "# 과제 8.1\n",
    "A.T @ B"
   ]
  },
  {
   "cell_type": "code",
   "execution_count": 32,
   "id": "4d864d9b",
   "metadata": {},
   "outputs": [
    {
     "data": {
      "text/plain": [
       "array([[ True,  True,  True],\n",
       "       [ True,  True,  True],\n",
       "       [ True,  True,  True]])"
      ]
     },
     "execution_count": 32,
     "metadata": {},
     "output_type": "execute_result"
    }
   ],
   "source": [
    "# 과제 8.2\n",
    "result1 = (A.T @ B).T\n",
    "result2 = B.T @ A\n",
    "result1 == result2"
   ]
  },
  {
   "cell_type": "markdown",
   "id": "56aebb35",
   "metadata": {},
   "source": [
    "- 부분 행렬"
   ]
  },
  {
   "cell_type": "code",
   "execution_count": 34,
   "id": "68785964",
   "metadata": {},
   "outputs": [],
   "source": [
    "A = np.array([[1,2,3],[4,5,6],[7,8,9],[10,11,12]])"
   ]
  },
  {
   "cell_type": "code",
   "execution_count": 35,
   "id": "80a50b2e",
   "metadata": {},
   "outputs": [
    {
     "data": {
      "text/plain": [
       "array([[2, 3],\n",
       "       [5, 6]])"
      ]
     },
     "execution_count": 35,
     "metadata": {},
     "output_type": "execute_result"
    }
   ],
   "source": [
    "A[0:2, 1:3]"
   ]
  },
  {
   "cell_type": "code",
   "execution_count": 37,
   "id": "a8d6f546",
   "metadata": {},
   "outputs": [
    {
     "data": {
      "text/plain": [
       "array([[ 2,  3],\n",
       "       [ 5,  6],\n",
       "       [ 8,  9],\n",
       "       [11, 12]])"
      ]
     },
     "execution_count": 37,
     "metadata": {},
     "output_type": "execute_result"
    }
   ],
   "source": [
    "A[:, 1:3]"
   ]
  },
  {
   "cell_type": "code",
   "execution_count": 38,
   "id": "1d10b959",
   "metadata": {},
   "outputs": [
    {
     "data": {
      "text/plain": [
       "array([[2, 3],\n",
       "       [8, 9]])"
      ]
     },
     "execution_count": 38,
     "metadata": {},
     "output_type": "execute_result"
    }
   ],
   "source": [
    "A[[0,2], :][:, [1,2]]"
   ]
  },
  {
   "cell_type": "code",
   "execution_count": 22,
   "id": "88c52753",
   "metadata": {},
   "outputs": [],
   "source": [
    "A = np.array([[1,2,3],[4,5,6],[7,8,9],[10,11,12]])"
   ]
  },
  {
   "cell_type": "code",
   "execution_count": 23,
   "id": "73481179",
   "metadata": {},
   "outputs": [
    {
     "name": "stdout",
     "output_type": "stream",
     "text": [
      "5\n",
      "9\n"
     ]
    }
   ],
   "source": [
    "# 과제 9.1\n",
    "print(A[1,1])\n",
    "print(A[2,2])"
   ]
  },
  {
   "cell_type": "code",
   "execution_count": 29,
   "id": "c212b0d6",
   "metadata": {},
   "outputs": [
    {
     "name": "stdout",
     "output_type": "stream",
     "text": [
      "[[ 8  9]\n",
      " [11 12]]\n"
     ]
    }
   ],
   "source": [
    "#과제 9.2\n",
    "print(A[2:4, 1:4])"
   ]
  },
  {
   "cell_type": "markdown",
   "id": "796f312b",
   "metadata": {},
   "source": [
    "- 특별한 행렬"
   ]
  },
  {
   "cell_type": "code",
   "execution_count": 46,
   "id": "cd4b069f",
   "metadata": {},
   "outputs": [
    {
     "data": {
      "text/plain": [
       "array([[0., 0., 0.],\n",
       "       [0., 0., 0.],\n",
       "       [0., 0., 0.]])"
      ]
     },
     "execution_count": 46,
     "metadata": {},
     "output_type": "execute_result"
    }
   ],
   "source": [
    "#영 행렬\n",
    "size = 3\n",
    "np.zeros(shape=(size, size))"
   ]
  },
  {
   "cell_type": "code",
   "execution_count": 47,
   "id": "c41aee23",
   "metadata": {},
   "outputs": [
    {
     "data": {
      "text/plain": [
       "array([[1., 0., 0.],\n",
       "       [0., 1., 0.],\n",
       "       [0., 0., 1.]])"
      ]
     },
     "execution_count": 47,
     "metadata": {},
     "output_type": "execute_result"
    }
   ],
   "source": [
    "#항등 행렬\n",
    "np.identity(n=size)"
   ]
  },
  {
   "cell_type": "code",
   "execution_count": 50,
   "id": "188e564c",
   "metadata": {},
   "outputs": [
    {
     "data": {
      "text/plain": [
       "array([[1., 0., 0.],\n",
       "       [0., 1., 0.],\n",
       "       [0., 0., 1.]])"
      ]
     },
     "execution_count": 50,
     "metadata": {},
     "output_type": "execute_result"
    }
   ],
   "source": [
    "#항등 행렬\n",
    "size = 3\n",
    "np.eye(N=size)"
   ]
  },
  {
   "cell_type": "code",
   "execution_count": 51,
   "id": "759d4ef9",
   "metadata": {},
   "outputs": [
    {
     "data": {
      "text/plain": [
       "array([[1, 0, 0],\n",
       "       [0, 2, 0],\n",
       "       [0, 0, 3]])"
      ]
     },
     "execution_count": 51,
     "metadata": {},
     "output_type": "execute_result"
    }
   ],
   "source": [
    "#대각 행렬\n",
    "np.diag([1,2,3])"
   ]
  },
  {
   "cell_type": "code",
   "execution_count": 55,
   "id": "2bad77e2",
   "metadata": {},
   "outputs": [
    {
     "data": {
      "text/plain": [
       "array([ 2,  2, 10])"
      ]
     },
     "execution_count": 55,
     "metadata": {},
     "output_type": "execute_result"
    }
   ],
   "source": [
    "np.diag([[2,3,2],[1,2,7],[8,9,10]]) #대각선 값만 받아옴"
   ]
  },
  {
   "cell_type": "code",
   "execution_count": 56,
   "id": "3471d638",
   "metadata": {},
   "outputs": [
    {
     "data": {
      "text/plain": [
       "array([[1, 2, 3],\n",
       "       [0, 2, 7],\n",
       "       [0, 0, 5]])"
      ]
     },
     "execution_count": 56,
     "metadata": {},
     "output_type": "execute_result"
    }
   ],
   "source": [
    "#삼각 행렬\n",
    "np.triu([[1,2,3],\n",
    "         [1,2,7],\n",
    "         [7,8,5]], k=0) #upper triangle"
   ]
  },
  {
   "cell_type": "code",
   "execution_count": 61,
   "id": "e5fb79e6",
   "metadata": {},
   "outputs": [
    {
     "data": {
      "text/plain": [
       "array([[1, 0, 0],\n",
       "       [1, 2, 0],\n",
       "       [7, 8, 5]])"
      ]
     },
     "execution_count": 61,
     "metadata": {},
     "output_type": "execute_result"
    }
   ],
   "source": [
    "np.tril([[1,2,3],\n",
    "         [1,2,7],\n",
    "         [7,8,5]], k=0) #lower triangle"
   ]
  },
  {
   "cell_type": "code",
   "execution_count": 62,
   "id": "9ba4b524",
   "metadata": {},
   "outputs": [],
   "source": [
    "A = np.array([[1,0],[0,-1]])"
   ]
  },
  {
   "cell_type": "code",
   "execution_count": 63,
   "id": "5180f9de",
   "metadata": {},
   "outputs": [
    {
     "data": {
      "text/plain": [
       "array([[1, 0],\n",
       "       [0, 1]])"
      ]
     },
     "execution_count": 63,
     "metadata": {},
     "output_type": "execute_result"
    }
   ],
   "source": [
    "A.T @ A"
   ]
  },
  {
   "cell_type": "code",
   "execution_count": 64,
   "id": "ca63adc5",
   "metadata": {},
   "outputs": [
    {
     "data": {
      "text/plain": [
       "array([[1, 0],\n",
       "       [0, 1]])"
      ]
     },
     "execution_count": 64,
     "metadata": {},
     "output_type": "execute_result"
    }
   ],
   "source": [
    "A @ A.T"
   ]
  },
  {
   "cell_type": "code",
   "execution_count": 75,
   "id": "47a43774",
   "metadata": {},
   "outputs": [
    {
     "data": {
      "text/plain": [
       "array([[7, 0, 0],\n",
       "       [0, 1, 0],\n",
       "       [0, 0, 3]])"
      ]
     },
     "execution_count": 75,
     "metadata": {},
     "output_type": "execute_result"
    }
   ],
   "source": [
    "# 과제 10.1 대각 원소로 구성된 대각행렬 구하기\n",
    "A = np.array(([7,2,0],[2,1,3],[4,8,3]))\n",
    "A = np.diag(A)\n",
    "np.diag(A)"
   ]
  },
  {
   "cell_type": "code",
   "execution_count": 31,
   "id": "3a89bca2",
   "metadata": {},
   "outputs": [
    {
     "name": "stdout",
     "output_type": "stream",
     "text": [
      "[[69 48 18]\n",
      " [48 69 27]\n",
      " [18 27 18]]\n",
      "[[69 48 18]\n",
      " [48 69 27]\n",
      " [18 27 18]]\n"
     ]
    }
   ],
   "source": [
    "# 과제 10.2 아무 A행렬로 B행렬이 대칭행렬인지 확인하기\n",
    "A = np.array(([7,2,0],\n",
    "              [2,1,3],\n",
    "              [4,8,3]))\n",
    "B = A.T @ A\n",
    "print(B)\n",
    "print(B.T)"
   ]
  },
  {
   "cell_type": "code",
   "execution_count": 85,
   "id": "253acd56",
   "metadata": {},
   "outputs": [
    {
     "name": "stdout",
     "output_type": "stream",
     "text": [
      "[[1 0 0]\n",
      " [0 1 0]\n",
      " [0 0 1]]\n",
      "[[1 0 0]\n",
      " [0 1 0]\n",
      " [0 0 1]]\n",
      "[[ True  True  True]\n",
      " [ True  True  True]\n",
      " [ True  True  True]]\n"
     ]
    }
   ],
   "source": [
    "#10.3 A행렬이 직교행렬인지 확인하기\n",
    "A = np.array(([1,0,0],\n",
    "              [0,-1,0],\n",
    "              [0,0,-1]))\n",
    "print(A @ A.T) # A @ A.T = I\n",
    "print(A.T @ A) # A.T @ A = I\n",
    "print(A @ A.T == A @ A.T)"
   ]
  },
  {
   "cell_type": "markdown",
   "id": "3176041a",
   "metadata": {},
   "source": [
    "- 선형방정식과 QR분해 (Q:직교행렬, R:상삼각행렬)"
   ]
  },
  {
   "cell_type": "code",
   "execution_count": 88,
   "id": "c3a7b2b1",
   "metadata": {},
   "outputs": [
    {
     "data": {
      "text/plain": [
       "array([[ 1. ,  1. ],\n",
       "       [ 0.5, -1. ]])"
      ]
     },
     "execution_count": 88,
     "metadata": {},
     "output_type": "execute_result"
    }
   ],
   "source": [
    "A = np.array(([1,1],[1/2, -1]))\n",
    "A"
   ]
  },
  {
   "cell_type": "code",
   "execution_count": 93,
   "id": "fa8bee34",
   "metadata": {},
   "outputs": [],
   "source": [
    "Q,R = np.linalg.qr(A)"
   ]
  },
  {
   "cell_type": "code",
   "execution_count": 7,
   "id": "da4a7f34",
   "metadata": {},
   "outputs": [],
   "source": [
    "from scipy import linalg as la\n",
    "Q, R = la.qr(A)"
   ]
  },
  {
   "cell_type": "code",
   "execution_count": 90,
   "id": "564bee9f",
   "metadata": {},
   "outputs": [
    {
     "data": {
      "text/plain": [
       "array([[-0.89442719, -0.4472136 ],\n",
       "       [-0.4472136 ,  0.89442719]])"
      ]
     },
     "execution_count": 90,
     "metadata": {},
     "output_type": "execute_result"
    }
   ],
   "source": [
    "np.round(Q,3)"
   ]
  },
  {
   "cell_type": "code",
   "execution_count": 96,
   "id": "95051e43",
   "metadata": {},
   "outputs": [
    {
     "data": {
      "text/plain": [
       "array([[-1.118, -0.447],\n",
       "       [ 0.   , -1.342]])"
      ]
     },
     "execution_count": 96,
     "metadata": {},
     "output_type": "execute_result"
    }
   ],
   "source": [
    "np.round(R,3)"
   ]
  },
  {
   "cell_type": "code",
   "execution_count": 98,
   "id": "027713c0",
   "metadata": {},
   "outputs": [
    {
     "data": {
      "text/plain": [
       "array([[1.25, 0.5 ],\n",
       "       [0.5 , 2.  ]])"
      ]
     },
     "execution_count": 98,
     "metadata": {},
     "output_type": "execute_result"
    }
   ],
   "source": [
    "XTX = A.T@A\n",
    "XTX"
   ]
  },
  {
   "cell_type": "code",
   "execution_count": 99,
   "id": "99b7f082",
   "metadata": {},
   "outputs": [
    {
     "data": {
      "text/plain": [
       "array([[-1.35, -1.21],\n",
       "       [ 0.  ,  1.67]])"
      ]
     },
     "execution_count": 99,
     "metadata": {},
     "output_type": "execute_result"
    }
   ],
   "source": [
    "Q,R = la.qr(XTX)\n",
    "R.round(2)"
   ]
  },
  {
   "cell_type": "code",
   "execution_count": 100,
   "id": "ffcc6b5d",
   "metadata": {},
   "outputs": [
    {
     "data": {
      "text/plain": [
       "array([-4.46,  0.37])"
      ]
     },
     "execution_count": 100,
     "metadata": {},
     "output_type": "execute_result"
    }
   ],
   "source": [
    "b = np.array([4,2])\n",
    "np.round(Q.T @ b, 2)"
   ]
  },
  {
   "cell_type": "code",
   "execution_count": 48,
   "id": "88d0a5ad",
   "metadata": {},
   "outputs": [
    {
     "name": "stdout",
     "output_type": "stream",
     "text": [
      "[[5]\n",
      " [3]\n",
      " [2]]\n"
     ]
    },
    {
     "data": {
      "text/plain": [
       "array([[-1.164414],\n",
       "       [ 3.      ],\n",
       "       [ 2.      ]])"
      ]
     },
     "execution_count": 48,
     "metadata": {},
     "output_type": "execute_result"
    }
   ],
   "source": [
    "# 과제 11.1\n",
    "# u 벡터 구하기\n",
    "A = np.array(([5,1,5],\n",
    "              [3,9,8],\n",
    "              [2,1,4]))\n",
    "\n",
    "#첫 번째 열벡터 추출\n",
    "a = A[:,0].reshape(-1, 1)\n",
    "print(a)\n",
    "\n",
    "# 하우스홀더 행렬 Q1 생성\n",
    "size = A.shape[0]\n",
    "e1 = np.identity(n=size)[:,0].reshape(-1,1)\n",
    "\n",
    "#u 벡터 구성\n",
    "u = a - la.norm(a)*e1\n",
    "u"
   ]
  },
  {
   "cell_type": "code",
   "execution_count": 51,
   "id": "563cca28",
   "metadata": {},
   "outputs": [
    {
     "data": {
      "text/plain": [
       "array([[-0.30732141],\n",
       "       [ 0.79178387],\n",
       "       [ 0.52785591]])"
      ]
     },
     "execution_count": 51,
     "metadata": {},
     "output_type": "execute_result"
    }
   ],
   "source": [
    "# 과제 11.2\n",
    "# v 벡터 구하기\n",
    "v = u / la.norm(u)\n",
    "v"
   ]
  },
  {
   "cell_type": "code",
   "execution_count": 53,
   "id": "931a85df",
   "metadata": {},
   "outputs": [
    {
     "data": {
      "text/plain": [
       "array([[ 0.81,  0.49,  0.32],\n",
       "       [ 0.49, -0.25, -0.84],\n",
       "       [ 0.32, -0.84,  0.44]])"
      ]
     },
     "execution_count": 53,
     "metadata": {},
     "output_type": "execute_result"
    }
   ],
   "source": [
    "# 과제 11.3  \n",
    "# Q1 = I3 - 2vv.T\n",
    "Q1 = np.identity(n=size) -2 *v@v.T\n",
    "np.round(Q1,2)"
   ]
  },
  {
   "cell_type": "code",
   "execution_count": 54,
   "id": "bbe780ee",
   "metadata": {},
   "outputs": [
    {
     "data": {
      "text/plain": [
       "array([[ 6.16,  5.52,  9.25],\n",
       "       [-0.  , -2.63, -2.94],\n",
       "       [-0.  , -6.76, -3.29]])"
      ]
     },
     "execution_count": 54,
     "metadata": {},
     "output_type": "execute_result"
    }
   ],
   "source": [
    "# 과제 11.4\n",
    "# Q1A 값 구하기 -> 하우스-홀더 변환과 변환 후의 결과\n",
    "np.round(Q1 @ A, 2)"
   ]
  },
  {
   "cell_type": "markdown",
   "id": "aa247f76",
   "metadata": {},
   "source": [
    "- 역행렬"
   ]
  },
  {
   "cell_type": "code",
   "execution_count": 9,
   "id": "3632afea",
   "metadata": {},
   "outputs": [
    {
     "data": {
      "text/plain": [
       "array([[7, 6, 7],\n",
       "       [3, 5, 3],\n",
       "       [7, 2, 4]])"
      ]
     },
     "execution_count": 9,
     "metadata": {},
     "output_type": "execute_result"
    }
   ],
   "source": [
    "# 행렬의 계수\n",
    "A = np.random.RandomState(123).randint(1, 9, 9).reshape(3, 3) \n",
    "A"
   ]
  },
  {
   "cell_type": "code",
   "execution_count": 3,
   "id": "4a08d407",
   "metadata": {},
   "outputs": [
    {
     "data": {
      "text/plain": [
       "3"
      ]
     },
     "execution_count": 3,
     "metadata": {},
     "output_type": "execute_result"
    }
   ],
   "source": [
    "# 행렬 계수 구하기\n",
    "np.linalg.matrix_rank(A)\n",
    "\n",
    "#A = np.array(([7,2,0],[2,1,3],[7,2,0]))\n",
    "#np.linalg.matrix_rank(A)"
   ]
  },
  {
   "cell_type": "code",
   "execution_count": 10,
   "id": "516e9d19",
   "metadata": {},
   "outputs": [
    {
     "data": {
      "text/plain": [
       "array([[-0.27,  0.2 ,  0.33],\n",
       "       [-0.18,  0.41,  0.  ],\n",
       "       [ 0.57, -0.55, -0.33]])"
      ]
     },
     "execution_count": 10,
     "metadata": {},
     "output_type": "execute_result"
    }
   ],
   "source": [
    "# 역행렬 구하기\n",
    "A_inverse = la.inv(A) \n",
    "np.round(A_inverse, 2)"
   ]
  },
  {
   "cell_type": "code",
   "execution_count": 4,
   "id": "213c950b",
   "metadata": {},
   "outputs": [
    {
     "data": {
      "text/plain": [
       "2"
      ]
     },
     "execution_count": 4,
     "metadata": {},
     "output_type": "execute_result"
    }
   ],
   "source": [
    "#과제 12.1"
   ]
  },
  {
   "cell_type": "markdown",
   "id": "547104d6",
   "metadata": {},
   "source": []
  }
 ],
 "metadata": {
  "kernelspec": {
   "display_name": "hwi",
   "language": "python",
   "name": "hwi"
  },
  "language_info": {
   "codemirror_mode": {
    "name": "ipython",
    "version": 3
   },
   "file_extension": ".py",
   "mimetype": "text/x-python",
   "name": "python",
   "nbconvert_exporter": "python",
   "pygments_lexer": "ipython3",
   "version": "3.7.0"
  }
 },
 "nbformat": 4,
 "nbformat_minor": 5
}
