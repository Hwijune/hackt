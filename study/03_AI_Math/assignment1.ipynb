{
 "cells": [
  {
   "cell_type": "code",
   "execution_count": 6,
   "id": "b98a83bf",
   "metadata": {},
   "outputs": [],
   "source": [
    "import numpy as np\n",
    "from scipy import linalg as la"
   ]
  },
  {
   "cell_type": "markdown",
   "id": "dfb71687",
   "metadata": {},
   "source": [
    "# 과제 1"
   ]
  },
  {
   "cell_type": "code",
   "execution_count": 10,
   "id": "ebc2d790",
   "metadata": {},
   "outputs": [
    {
     "name": "stdout",
     "output_type": "stream",
     "text": [
      "[ 0. -0. -0.]\n"
     ]
    }
   ],
   "source": [
    "#과제 1\n",
    "#구성된 벡터는 서로 독립인지를 확인 해보자.\n",
    "a1 = np.array([1,2,3])\n",
    "a2 = np.array([1,1,2])\n",
    "a3 = np.array([0.5, 2, 1.5])\n",
    "\n",
    "A = np.array([[1,2,3],[1,1,2], [0.5, 2, 1.5]])\n",
    "B = np.array([0,0,0])\n",
    "C = np.linalg.solve(A, B)\n",
    "print(C)"
   ]
  },
  {
   "cell_type": "markdown",
   "id": "486c4783",
   "metadata": {},
   "source": [
    "# 과제2"
   ]
  },
  {
   "cell_type": "code",
   "execution_count": 11,
   "id": "5f4d1535",
   "metadata": {},
   "outputs": [
    {
     "name": "stdout",
     "output_type": "stream",
     "text": [
      "(2,0), (0,2)\n",
      "(x,0), (0,y) 꼴로 된 벡터는 기저가 될 수 있으며, 평면상 모든 점을 생성할 수 있다.\n"
     ]
    }
   ],
   "source": [
    "#과제 2\n",
    "#2차원 즉, 평면에서의 기저를 찾아보자.\n",
    "print(\"(2,0), (0,2)\")\n",
    "print(\"(x,0), (0,y) 꼴로 된 벡터는 기저가 될 수 있으며, 평면상 모든 점을 생성할 수 있다.\")"
   ]
  },
  {
   "cell_type": "markdown",
   "id": "fc793e07",
   "metadata": {},
   "source": [
    "# 과제3"
   ]
  },
  {
   "cell_type": "code",
   "execution_count": 12,
   "id": "8a9f76f3",
   "metadata": {},
   "outputs": [
    {
     "name": "stdout",
     "output_type": "stream",
     "text": [
      "각 벡터의 직교 여부\n",
      "a1.T @ a2 = [[0.]]\n",
      "a1.T @ a3 = [[0.]]\n",
      "a2.T @ a1 = [[0.]]\n",
      "a2.T @ a3 = [[0.]]\n",
      "a3.T @ a1 = [[0.]]\n",
      "a3.T @ a2 = [[0.]]\n",
      "\n",
      "각 벡터의 노름이 1\n",
      "a1 norm : 1.0\n",
      "a2 norm : 0.9999999999999999\n",
      "a3 norm : 0.9999999999999999\n",
      "[[ 1.  0.  0.]\n",
      " [ 0.  1. -0.]\n",
      " [ 0. -0.  1.]]\n"
     ]
    }
   ],
   "source": [
    "#과제 3\n",
    "# a1, a2, a3가 서로 직교 정교 벡터임을 확인해보자.\n",
    "\n",
    "#직교정규 벡터 확인\n",
    "a1 = np.array([0,0,1]).reshape(-1, 1)\n",
    "a2 = 1/np.sqrt(2) * np.array([1,1,0]).reshape(-1, 1)\n",
    "a3 = 1/np.sqrt(2) * np.array([1,-1,0]).reshape(-1, 1)\n",
    "\n",
    "#열의 곱 0\n",
    "print('각 벡터의 직교 여부')\n",
    "print(\"a1.T @ a2 =\",np.dot(a1.T,a2))\n",
    "print(\"a1.T @ a3 =\",np.dot(a1.T,a3))\n",
    "print(\"a2.T @ a1 =\",np.dot(a2.T,a1))\n",
    "print(\"a2.T @ a3 =\",np.dot(a2.T,a3))\n",
    "print(\"a3.T @ a1 =\",np.dot(a3.T,a1))\n",
    "print(\"a3.T @ a2 =\",np.dot(a3.T,a2))\n",
    "\n",
    "print()\n",
    "#노름 1\n",
    "print('각 벡터의 노름이 1')\n",
    "print(\"a1 norm :\",la.norm(a1))\n",
    "print(\"a2 norm :\",la.norm(a2))\n",
    "print(\"a3 norm :\",la.norm(a3))\n",
    "\n",
    "A = np.concatenate((a1,a2,a3), axis=1)\n",
    "print(np.round(A.T @ A, 3))"
   ]
  },
  {
   "cell_type": "code",
   "execution_count": null,
   "id": "ee79cc4f",
   "metadata": {},
   "outputs": [],
   "source": []
  }
 ],
 "metadata": {
  "kernelspec": {
   "display_name": "Python 3 (ipykernel)",
   "language": "python",
   "name": "python3"
  },
  "language_info": {
   "codemirror_mode": {
    "name": "ipython",
    "version": 3
   },
   "file_extension": ".py",
   "mimetype": "text/x-python",
   "name": "python",
   "nbconvert_exporter": "python",
   "pygments_lexer": "ipython3",
   "version": "3.8.10"
  }
 },
 "nbformat": 4,
 "nbformat_minor": 5
}
