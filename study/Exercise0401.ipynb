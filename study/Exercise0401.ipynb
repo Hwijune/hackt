{
 "cells": [
  {
   "cell_type": "markdown",
   "id": "4ccdf38e",
   "metadata": {},
   "source": [
    " ## <span style=\"color:#004f9f\"> 1. 자료 구조 심화 </span>"
   ]
  },
  {
   "cell_type": "markdown",
   "id": "42a01ee0",
   "metadata": {},
   "source": [
    "- 다음의 (과일이름, 과일개수) 튜플로 구성된 리스트를 활용하여 다음의 문항을 해결하세요"
   ]
  },
  {
   "cell_type": "code",
   "execution_count": 2,
   "id": "b59d8ac6",
   "metadata": {},
   "outputs": [],
   "source": [
    "import numpy as np\n",
    "\n",
    "fruit = [('apple', np.random.randint(1,11)), \n",
    "         ('banana', np.random.randint(1,11)),\n",
    "         ('cherry', np.random.randint(1,11)),\n",
    "         ('grape', np.random.randint(1,11)),\n",
    "         ('orange', np.random.randint(1,11)),\n",
    "         ('strawberry', np.random.randint(1,11)),\n",
    "         ('melon', np.random.randint(1,11))]"
   ]
  },
  {
   "cell_type": "markdown",
   "id": "2144ac11",
   "metadata": {},
   "source": [
    "**문항1]** fruit 리스트의 홀수번째 인덱스의 튜플만을 담은 fruit02 리스트를 만들고 출력하세요."
   ]
  },
  {
   "cell_type": "code",
   "execution_count": 9,
   "id": "e3006218",
   "metadata": {},
   "outputs": [
    {
     "data": {
      "text/plain": [
       "[('banana', 6), ('grape', 1), ('strawberry', 7)]"
      ]
     },
     "execution_count": 9,
     "metadata": {},
     "output_type": "execute_result"
    }
   ],
   "source": [
    "result02 = []\n",
    "for i,v in enumerate(fruit):\n",
    "    if(i%2 == 1):\n",
    "        result02.append(v)\n",
    "\n",
    "result02"
   ]
  },
  {
   "cell_type": "markdown",
   "id": "4d94204e",
   "metadata": {},
   "source": [
    "**문항2]** sum()함수를 사용하지 않고  fruit 리스트의 과일 개수의 합을 구하세요."
   ]
  },
  {
   "cell_type": "code",
   "execution_count": 21,
   "id": "f3f1c5be",
   "metadata": {},
   "outputs": [
    {
     "data": {
      "text/plain": [
       "45"
      ]
     },
     "execution_count": 21,
     "metadata": {},
     "output_type": "execute_result"
    }
   ],
   "source": [
    "fruit_sum = 0\n",
    "for i in fruit:\n",
    "    fruit_sum = fruit_sum + i[1]\n",
    "fruit_sum"
   ]
  },
  {
   "cell_type": "markdown",
   "id": "a202390b",
   "metadata": {},
   "source": [
    "**문항3]** sort()함수를 사용하지 않고 fruit리스트를 과일명순으로 정렬하여 fruit03리스트를 만드세요."
   ]
  },
  {
   "cell_type": "code",
   "execution_count": 36,
   "id": "3efc1e75",
   "metadata": {},
   "outputs": [
    {
     "data": {
      "text/plain": [
       "['apple', 'banana', 'cherry', 'grape', 'melon', 'orange', 'strawberry']"
      ]
     },
     "execution_count": 36,
     "metadata": {},
     "output_type": "execute_result"
    }
   ],
   "source": [
    "fruit = [('cherry', np.random.randint(1,11)),\n",
    "         ('apple', np.random.randint(1,11)),     \n",
    "         ('grape', np.random.randint(1,11)),\n",
    "         ('orange', np.random.randint(1,11)),\n",
    "         ('strawberry', np.random.randint(1,11)),\n",
    "         ('melon', np.random.randint(1,11)),\n",
    "         ('banana', np.random.randint(1,11))]\n",
    "\n",
    "fruit03 = [i[0] for i in fruit]\n",
    "\n",
    "for j in range(len(fruit03)):\n",
    "    k = len(fruit03) - j\n",
    "    for i in range(1, k):\n",
    "        if fruit03[i-1] >= fruit03[i]:\n",
    "            temp = fruit03[i-1]\n",
    "            fruit03[i-1] = fruit03[i]\n",
    "            fruit03[i] = temp\n",
    "            \n",
    "fruit03"
   ]
  },
  {
   "cell_type": "markdown",
   "id": "fe03ed3f",
   "metadata": {},
   "source": [
    "- 다음의 alist, blist를 활용하여 다음의 문항을 해결하세요."
   ]
  },
  {
   "cell_type": "markdown",
   "id": "2237fb63",
   "metadata": {},
   "source": [
    "**문항4]** alist의 값을 key로 blist의 값을 value로 하는 dictionary를 생성하여 my_dict에 저장하세요."
   ]
  },
  {
   "cell_type": "code",
   "execution_count": 38,
   "id": "6b0ec2a2",
   "metadata": {},
   "outputs": [
    {
     "data": {
      "text/plain": [
       "{'Korean': '100', 'English': '90', 'Math': '80'}"
      ]
     },
     "execution_count": 38,
     "metadata": {},
     "output_type": "execute_result"
    }
   ],
   "source": [
    "alist = ['Korean', 'English', 'Math']\n",
    "blist = ['100', '90', '80']\n",
    "\n",
    "my_dict = {}\n",
    "for a, b in zip(alist, blist):\n",
    "    my_dict[a] = b\n",
    "my_dict"
   ]
  },
  {
   "cell_type": "markdown",
   "id": "49877851",
   "metadata": {},
   "source": [
    " ## <span style=\"color:#004f9f\"> 2. 무작위로 4자리 숫자 생성하기 </span>"
   ]
  },
  {
   "cell_type": "markdown",
   "id": "a8affe3b",
   "metadata": {},
   "source": [
    "- 무작위의 4자리 숫자를 생성하는 프로그램\n",
    "- 단, 각 자리의 숫자가 모두 다르도록 생성\n",
    "- 예: 1234(O), 1222(X)\n",
    "- *[hint]* np.random.randint(시작위치, 끝위치)를 사용하면 해당 범위의 무작위값 생성(단, 끝위치는 포함하지 않음)"
   ]
  },
  {
   "cell_type": "code",
   "execution_count": 87,
   "id": "4b87d76f",
   "metadata": {},
   "outputs": [
    {
     "name": "stdout",
     "output_type": "stream",
     "text": [
      "2547\n"
     ]
    }
   ],
   "source": [
    "import numpy as np\n",
    "\n",
    "random_num = 0\n",
    "while True:\n",
    "    random_num = str(np.random.randint(1000, 10000))\n",
    "    num_length = len(set(random_num))\n",
    "    if(num_length == 4):\n",
    "        break\n",
    "print(random_num)\n",
    "\n"
   ]
  },
  {
   "cell_type": "markdown",
   "id": "9e49a2cc",
   "metadata": {},
   "source": [
    " ## <span style=\"color:#004f9f\"> 3. 숫자맞추기 야구게임 </span>"
   ]
  },
  {
   "cell_type": "markdown",
   "id": "89289522",
   "metadata": {},
   "source": [
    "- 프로그램이 시작되면 컴퓨터는 무작위로 모든 자리수의 숫자가 다른 4자리 숫자를 생성(2번 과제 활용)\n",
    "- 사용자는 4자리 숫자를 입력 : 4자리 숫자가 아닌 경우 다시 입력받음\n",
    "- 숫자가 전부 틀리면 '아웃'\n",
    "- 위치와 숫자가 모두 맞으면 S\n",
    "- 숫자는 맞지만 위치가 틀리면 B\n",
    "- 예시) 정답이 1234\n",
    "    - 사용자가 7892 입력 -> 1B\n",
    "    - 사용자가 1582 입력 -> 1S1B"
   ]
  },
  {
   "cell_type": "code",
   "execution_count": 18,
   "id": "083072df",
   "metadata": {},
   "outputs": [
    {
     "name": "stdout",
     "output_type": "stream",
     "text": [
      "랜덤 값 : 5278\n",
      "4자리 숫자를 입력하세요3333\n",
      "아웃\n"
     ]
    }
   ],
   "source": [
    "import numpy as np\n",
    "random_num = 0\n",
    "while True:\n",
    "    random_num = str(np.random.randint(1000, 10000))\n",
    "    num_length = len(set(random_num))\n",
    "    if(num_length == 4):\n",
    "        break\n",
    "print(\"랜덤 값 :\",random_num)\n",
    "\n",
    "check_flag = True\n",
    "while check_flag:\n",
    "    out_cnt = 0\n",
    "    ball_cnt = 0\n",
    "    strike_cnt = 0\n",
    "    \n",
    "    input_num = input('4자리 숫자를 입력하세요')\n",
    "\n",
    "    #네자리 인지 확인\n",
    "    if(len(input_num) == 4):\n",
    "        check_flag = False\n",
    "\n",
    "    for i in range(len(input_num)):\n",
    "        #아웃 조건\n",
    "        if(random_num[i] != input_num[i]):\n",
    "            out_cnt = out_cnt + 1\n",
    "        #볼 조건\n",
    "        if(random_num[i] in input_num):\n",
    "            ball_cnt = ball_cnt + 1\n",
    "        #스트라이크 조건\n",
    "        if(random_num[i] == input_num[i]):\n",
    "            strike_cnt = strike_cnt + 1\n",
    "            ball_cnt = ball_cnt - 1\n",
    "        \n",
    "       \n",
    "    if(out_cnt == 4 and ball_cnt == 0 and strike_cnt == 0):\n",
    "        print(\"아웃\")\n",
    "    if(strike_cnt > 0):\n",
    "        print(str(strike_cnt) + \"S\",end='')\n",
    "    if(ball_cnt > 0):\n",
    "        print(str(ball_cnt) + \"B\")"
   ]
  },
  {
   "cell_type": "code",
   "execution_count": null,
   "id": "d28d96ea",
   "metadata": {},
   "outputs": [],
   "source": []
  }
 ],
 "metadata": {
  "kernelspec": {
   "display_name": "Python 3 (ipykernel)",
   "language": "python",
   "name": "python3"
  },
  "language_info": {
   "codemirror_mode": {
    "name": "ipython",
    "version": 3
   },
   "file_extension": ".py",
   "mimetype": "text/x-python",
   "name": "python",
   "nbconvert_exporter": "python",
   "pygments_lexer": "ipython3",
   "version": "3.8.10"
  }
 },
 "nbformat": 4,
 "nbformat_minor": 5
}
