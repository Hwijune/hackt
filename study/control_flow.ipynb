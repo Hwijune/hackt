{
 "cells": [
  {
   "cell_type": "markdown",
   "id": "869217a4",
   "metadata": {},
   "source": [
    "- 조건문 기초"
   ]
  },
  {
   "cell_type": "code",
   "execution_count": 6,
   "id": "67a35291",
   "metadata": {},
   "outputs": [
    {
     "name": "stdout",
     "output_type": "stream",
     "text": [
      "같다\n"
     ]
    }
   ],
   "source": [
    "x = 3\n",
    "if x>3:\n",
    "    print(x)\n",
    "    print(\"크다\")\n",
    "elif x==3:\n",
    "    print('같다')\n",
    "else:\n",
    "    print(x)\n",
    "    print('작다')"
   ]
  },
  {
   "cell_type": "code",
   "execution_count": 7,
   "id": "77195a79",
   "metadata": {},
   "outputs": [],
   "source": [
    "if False:\n",
    "    print(x)"
   ]
  },
  {
   "cell_type": "code",
   "execution_count": 8,
   "id": "52a75132",
   "metadata": {},
   "outputs": [
    {
     "name": "stdout",
     "output_type": "stream",
     "text": [
      "3\n"
     ]
    }
   ],
   "source": [
    "if True:\n",
    "    print(x)"
   ]
  },
  {
   "cell_type": "code",
   "execution_count": 11,
   "id": "75ddb20a",
   "metadata": {},
   "outputs": [
    {
     "name": "stdout",
     "output_type": "stream",
     "text": [
      "3\n"
     ]
    }
   ],
   "source": [
    "#if 옆에 아무 값이나 들어오면 True 처리함\n",
    "if '영희':\n",
    "    print(x) "
   ]
  },
  {
   "cell_type": "code",
   "execution_count": 12,
   "id": "60d763ea",
   "metadata": {},
   "outputs": [
    {
     "name": "stdout",
     "output_type": "stream",
     "text": [
      "3\n"
     ]
    }
   ],
   "source": [
    "if 365:\n",
    "    print(x)"
   ]
  },
  {
   "cell_type": "code",
   "execution_count": 14,
   "id": "eebc49f1",
   "metadata": {},
   "outputs": [],
   "source": [
    "#dict get했을때 값이 있고 없고 여부에 사용함\n",
    "if None:\n",
    "    print(x)"
   ]
  },
  {
   "cell_type": "code",
   "execution_count": 16,
   "id": "1d366fdd",
   "metadata": {},
   "outputs": [],
   "source": [
    "if 0 : #1 True 0 False\n",
    "    print(x)"
   ]
  },
  {
   "cell_type": "markdown",
   "id": "fbab7153",
   "metadata": {},
   "source": [
    "- 반복문"
   ]
  },
  {
   "cell_type": "code",
   "execution_count": 18,
   "id": "b9f9e03f",
   "metadata": {},
   "outputs": [
    {
     "name": "stdout",
     "output_type": "stream",
     "text": [
      "5\n",
      "6\n",
      "7\n"
     ]
    }
   ],
   "source": [
    "for i in [5,6,7]:\n",
    "    print(i)"
   ]
  },
  {
   "cell_type": "code",
   "execution_count": 19,
   "id": "e6e1eba4",
   "metadata": {},
   "outputs": [
    {
     "name": "stdout",
     "output_type": "stream",
     "text": [
      "!\n",
      "!\n",
      "!\n"
     ]
    }
   ],
   "source": [
    "#tuple\n",
    "k = (3, 4, 5)\n",
    "for i in k :\n",
    "    print('!')"
   ]
  },
  {
   "cell_type": "code",
   "execution_count": 26,
   "id": "f8d26e09",
   "metadata": {},
   "outputs": [
    {
     "name": "stdout",
     "output_type": "stream",
     "text": [
      "8\n",
      "5\n",
      "6\n",
      "7\n"
     ]
    }
   ],
   "source": [
    "#set\n",
    "#set는 순서를 보존 안함. 내부적으로 인덱스가 없어서\n",
    "s = {8, 7, 6, 5}\n",
    "for i in s:\n",
    "    print(i)"
   ]
  },
  {
   "cell_type": "code",
   "execution_count": 27,
   "id": "36deeafa",
   "metadata": {},
   "outputs": [
    {
     "name": "stdout",
     "output_type": "stream",
     "text": [
      "1\n",
      "2\n",
      "3\n",
      "4\n",
      "5\n",
      "6\n",
      "7\n",
      "8\n"
     ]
    }
   ],
   "source": [
    "s = {8, 7, 6, 5, 4, 3, 2, 1}\n",
    "for i in s:\n",
    "    print(i)"
   ]
  },
  {
   "cell_type": "code",
   "execution_count": 28,
   "id": "c134a452",
   "metadata": {},
   "outputs": [
    {
     "name": "stdout",
     "output_type": "stream",
     "text": [
      "영희\n",
      "철수\n",
      "길동\n"
     ]
    }
   ],
   "source": [
    "d = {'영희':100, '철수':90, '길동':80}\n",
    "\n",
    "for i in d:\n",
    "    print(i)"
   ]
  },
  {
   "cell_type": "code",
   "execution_count": 29,
   "id": "c58c6e18",
   "metadata": {},
   "outputs": [
    {
     "data": {
      "text/plain": [
       "dict_keys(['영희', '철수', '길동'])"
      ]
     },
     "execution_count": 29,
     "metadata": {},
     "output_type": "execute_result"
    }
   ],
   "source": [
    "d.keys()"
   ]
  },
  {
   "cell_type": "code",
   "execution_count": 30,
   "id": "013e21b4",
   "metadata": {},
   "outputs": [
    {
     "name": "stdout",
     "output_type": "stream",
     "text": [
      "영희\n",
      "철수\n",
      "길동\n"
     ]
    }
   ],
   "source": [
    "for i in d.keys():\n",
    "    print(i)"
   ]
  },
  {
   "cell_type": "code",
   "execution_count": 32,
   "id": "01f7091c",
   "metadata": {},
   "outputs": [
    {
     "name": "stdout",
     "output_type": "stream",
     "text": [
      "100\n",
      "90\n",
      "80\n"
     ]
    }
   ],
   "source": [
    "for i in d.values():\n",
    "    print(i)"
   ]
  },
  {
   "cell_type": "code",
   "execution_count": 33,
   "id": "93c66b3b",
   "metadata": {},
   "outputs": [
    {
     "name": "stdout",
     "output_type": "stream",
     "text": [
      "('영희', 100)\n",
      "('철수', 90)\n",
      "('길동', 80)\n"
     ]
    }
   ],
   "source": [
    "for i in d.items():\n",
    "    print(i)"
   ]
  },
  {
   "cell_type": "code",
   "execution_count": 34,
   "id": "97cfd008",
   "metadata": {},
   "outputs": [
    {
     "data": {
      "text/plain": [
       "('길동', 80)"
      ]
     },
     "execution_count": 34,
     "metadata": {},
     "output_type": "execute_result"
    }
   ],
   "source": [
    "i"
   ]
  },
  {
   "cell_type": "code",
   "execution_count": 38,
   "id": "ae4ff347",
   "metadata": {},
   "outputs": [
    {
     "name": "stdout",
     "output_type": "stream",
     "text": [
      "영희 : 100\n",
      "철수 : 90\n",
      "길동 : 80\n"
     ]
    }
   ],
   "source": [
    "for name, score in d.items():\n",
    "    print(name, ':', score)"
   ]
  },
  {
   "cell_type": "markdown",
   "id": "9ae91355",
   "metadata": {},
   "source": [
    "- range 범위보기"
   ]
  },
  {
   "cell_type": "code",
   "execution_count": 36,
   "id": "17603b15",
   "metadata": {},
   "outputs": [
    {
     "data": {
      "text/plain": [
       "range(0, 10)"
      ]
     },
     "execution_count": 36,
     "metadata": {},
     "output_type": "execute_result"
    }
   ],
   "source": [
    "range(10)"
   ]
  },
  {
   "cell_type": "code",
   "execution_count": 37,
   "id": "8bbe99c5",
   "metadata": {},
   "outputs": [
    {
     "data": {
      "text/plain": [
       "[0, 1, 2, 3, 4, 5, 6, 7, 8, 9]"
      ]
     },
     "execution_count": 37,
     "metadata": {},
     "output_type": "execute_result"
    }
   ],
   "source": [
    "list(range(10))"
   ]
  },
  {
   "cell_type": "code",
   "execution_count": 54,
   "id": "f554126d",
   "metadata": {},
   "outputs": [
    {
     "name": "stdout",
     "output_type": "stream",
     "text": [
      "2 X 1 = 2\n",
      "2 X 2 = 4\n",
      "2 X 3 = 6\n",
      "2 X 4 = 8\n",
      "2 X 5 = 10\n",
      "2 X 6 = 12\n",
      "2 X 7 = 14\n",
      "2 X 8 = 16\n",
      "2 X 9 = 18\n",
      "\n",
      "3 X 1 = 3\n",
      "3 X 2 = 6\n",
      "3 X 3 = 9\n",
      "3 X 4 = 12\n",
      "3 X 5 = 15\n",
      "3 X 6 = 18\n",
      "3 X 7 = 21\n",
      "3 X 8 = 24\n",
      "3 X 9 = 27\n",
      "\n",
      "4 X 1 = 4\n",
      "4 X 2 = 8\n",
      "4 X 3 = 12\n",
      "4 X 4 = 16\n",
      "4 X 5 = 20\n",
      "4 X 6 = 24\n",
      "4 X 7 = 28\n",
      "4 X 8 = 32\n",
      "4 X 9 = 36\n",
      "\n",
      "5 X 1 = 5\n",
      "5 X 2 = 10\n",
      "5 X 3 = 15\n",
      "5 X 4 = 20\n",
      "5 X 5 = 25\n",
      "5 X 6 = 30\n",
      "5 X 7 = 35\n",
      "5 X 8 = 40\n",
      "5 X 9 = 45\n",
      "\n",
      "6 X 1 = 6\n",
      "6 X 2 = 12\n",
      "6 X 3 = 18\n",
      "6 X 4 = 24\n",
      "6 X 5 = 30\n",
      "6 X 6 = 36\n",
      "6 X 7 = 42\n",
      "6 X 8 = 48\n",
      "6 X 9 = 54\n",
      "\n",
      "7 X 1 = 7\n",
      "7 X 2 = 14\n",
      "7 X 3 = 21\n",
      "7 X 4 = 28\n",
      "7 X 5 = 35\n",
      "7 X 6 = 42\n",
      "7 X 7 = 49\n",
      "7 X 8 = 56\n",
      "7 X 9 = 63\n",
      "\n",
      "8 X 1 = 8\n",
      "8 X 2 = 16\n",
      "8 X 3 = 24\n",
      "8 X 4 = 32\n",
      "8 X 5 = 40\n",
      "8 X 6 = 48\n",
      "8 X 7 = 56\n",
      "8 X 8 = 64\n",
      "8 X 9 = 72\n",
      "\n",
      "9 X 1 = 9\n",
      "9 X 2 = 18\n",
      "9 X 3 = 27\n",
      "9 X 4 = 36\n",
      "9 X 5 = 45\n",
      "9 X 6 = 54\n",
      "9 X 7 = 63\n",
      "9 X 8 = 72\n",
      "9 X 9 = 81\n",
      "\n"
     ]
    }
   ],
   "source": [
    "for i in range(2, 10):\n",
    "    for j in range(1, 10):\n",
    "        print(i, \"X\", j, \"=\", i*j)\n",
    "    print()"
   ]
  },
  {
   "cell_type": "code",
   "execution_count": 46,
   "id": "b4aed8bf",
   "metadata": {},
   "outputs": [
    {
     "name": "stdout",
     "output_type": "stream",
     "text": [
      "!\n",
      "0\n",
      "!\n",
      "1\n",
      "!\n",
      "2\n"
     ]
    }
   ],
   "source": [
    "x = 0\n",
    "while x<3:\n",
    "    print('!')\n",
    "    print(x)\n",
    "    x += 1"
   ]
  },
  {
   "cell_type": "markdown",
   "id": "2c1bcd4b",
   "metadata": {},
   "source": [
    "- 문자열 역순 출력"
   ]
  },
  {
   "cell_type": "code",
   "execution_count": 47,
   "id": "f7940083",
   "metadata": {},
   "outputs": [
    {
     "data": {
      "text/plain": [
       "'!nohtyP evol I'"
      ]
     },
     "execution_count": 47,
     "metadata": {},
     "output_type": "execute_result"
    }
   ],
   "source": [
    "a = 'I love Python!'\n",
    "a[::-1]"
   ]
  },
  {
   "cell_type": "code",
   "execution_count": 48,
   "id": "fecb059d",
   "metadata": {},
   "outputs": [
    {
     "name": "stdout",
     "output_type": "stream",
     "text": [
      "I\n",
      " \n",
      "l\n",
      "o\n",
      "v\n",
      "e\n",
      " \n",
      "P\n",
      "y\n",
      "t\n",
      "h\n",
      "o\n",
      "n\n",
      "!\n"
     ]
    }
   ],
   "source": [
    "for i in a:\n",
    "    print(i)"
   ]
  },
  {
   "cell_type": "code",
   "execution_count": 49,
   "id": "29f03c97",
   "metadata": {},
   "outputs": [],
   "source": [
    "char = ''\n",
    "for i in a:\n",
    "    char = i + char\n"
   ]
  },
  {
   "cell_type": "code",
   "execution_count": 50,
   "id": "84756686",
   "metadata": {},
   "outputs": [
    {
     "name": "stdout",
     "output_type": "stream",
     "text": [
      "!nohtyP evol I\n"
     ]
    }
   ],
   "source": [
    "print(char)"
   ]
  },
  {
   "cell_type": "markdown",
   "id": "511dcf35",
   "metadata": {},
   "source": [
    "- 십진수를 이진수로 변환 : 2 -> 10, 10 -> 1010"
   ]
  },
  {
   "cell_type": "code",
   "execution_count": 55,
   "id": "c8386977",
   "metadata": {},
   "outputs": [
    {
     "data": {
      "text/plain": [
       "1010"
      ]
     },
     "execution_count": 55,
     "metadata": {},
     "output_type": "execute_result"
    }
   ],
   "source": [
    "d = 10\n",
    "result = ''\n",
    "while d > 0 :\n",
    "    r = d % 2\n",
    "    d = d // 2 #몫\n",
    "    result = str(r) + result\n",
    "int(result)"
   ]
  },
  {
   "cell_type": "code",
   "execution_count": 56,
   "id": "1e79743a",
   "metadata": {},
   "outputs": [
    {
     "data": {
      "text/plain": [
       "1010"
      ]
     },
     "execution_count": 56,
     "metadata": {},
     "output_type": "execute_result"
    }
   ],
   "source": [
    "d = 10\n",
    "result = 0\n",
    "i = 0\n",
    "while d > 0 :\n",
    "    r = d % 2\n",
    "    d = d // 2\n",
    "    result = result + r * (10 **i)\n",
    "    i += 1\n",
    "result"
   ]
  },
  {
   "cell_type": "markdown",
   "id": "af15b604",
   "metadata": {},
   "source": [
    "- 반복문 제어"
   ]
  },
  {
   "cell_type": "code",
   "execution_count": 59,
   "id": "d6b3a31a",
   "metadata": {},
   "outputs": [
    {
     "name": "stdout",
     "output_type": "stream",
     "text": [
      "0\n",
      "1\n",
      "2\n",
      "3\n",
      "4\n",
      "5\n",
      "6\n",
      "7\n",
      "8\n",
      "9\n",
      "끝\n"
     ]
    }
   ],
   "source": [
    "#for랑 esle 같이 쓸수있음\n",
    "\n",
    "for i in range(10):\n",
    "    if i>10:\n",
    "        break\n",
    "    print(i)\n",
    "else:\n",
    "    print('끝')"
   ]
  },
  {
   "cell_type": "code",
   "execution_count": 60,
   "id": "34d1db1e",
   "metadata": {},
   "outputs": [
    {
     "name": "stdout",
     "output_type": "stream",
     "text": [
      "1\n",
      "3\n",
      "5\n",
      "7\n",
      "9\n"
     ]
    }
   ],
   "source": [
    "for i in range(10):\n",
    "    if (i%2) == 0:\n",
    "        continue\n",
    "    print(i)"
   ]
  },
  {
   "cell_type": "code",
   "execution_count": 65,
   "id": "432e0e7e",
   "metadata": {},
   "outputs": [
    {
     "name": "stdout",
     "output_type": "stream",
     "text": [
      "1-9사이의 숫자를 입력하세요(0을 입력받으면 종료)5\n",
      "5 X 1 = 5\n",
      "5 X 2 = 10\n",
      "5 X 3 = 15\n",
      "5 X 4 = 20\n",
      "5 X 5 = 25\n",
      "5 X 6 = 30\n",
      "5 X 7 = 35\n",
      "5 X 8 = 40\n",
      "5 X 9 = 45\n",
      "1-9사이의 숫자를 입력하세요(0을 입력받으면 종료)15\n",
      "다시 입력하세요\n",
      "1-9사이의 숫자를 입력하세요(0을 입력받으면 종료)0\n",
      "끝났습니다\n"
     ]
    }
   ],
   "source": [
    "while True:\n",
    "    a = int(input('1-9사이의 숫자를 입력하세요(0을 입력받으면 종료)'))\n",
    "    if(a == 0):\n",
    "        print('끝났습니다')\n",
    "        break\n",
    "    if not (a>=1 and a<=9): #a<1 or a>9\n",
    "        print('다시 입력하세요')\n",
    "        continue\n",
    "    for i in range(1, 10):\n",
    "        print(a, 'X', i, '=', a*i)"
   ]
  },
  {
   "cell_type": "markdown",
   "id": "473a567e",
   "metadata": {},
   "source": []
  },
  {
   "cell_type": "code",
   "execution_count": null,
   "id": "1c75e5fc",
   "metadata": {},
   "outputs": [],
   "source": []
  }
 ],
 "metadata": {
  "kernelspec": {
   "display_name": "Python 3 (ipykernel)",
   "language": "python",
   "name": "python3"
  },
  "language_info": {
   "codemirror_mode": {
    "name": "ipython",
    "version": 3
   },
   "file_extension": ".py",
   "mimetype": "text/x-python",
   "name": "python",
   "nbconvert_exporter": "python",
   "pygments_lexer": "ipython3",
   "version": "3.8.10"
  }
 },
 "nbformat": 4,
 "nbformat_minor": 5
}
