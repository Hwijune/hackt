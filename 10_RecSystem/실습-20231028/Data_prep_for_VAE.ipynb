{
 "cells": [
  {
   "cell_type": "markdown",
   "id": "140be9fe",
   "metadata": {},
   "source": [
    "<font color='tomato'><font color=\"#CC3D3D\"><p>\n",
    "# Data Preprocessing for AE-based RecSys"
   ]
  },
  {
   "cell_type": "markdown",
   "id": "6d5c67f6",
   "metadata": {},
   "source": [
    "### Global Setting & Imports"
   ]
  },
  {
   "cell_type": "code",
   "execution_count": null,
   "id": "95d5e676",
   "metadata": {},
   "outputs": [],
   "source": [
    "import numpy as np\n",
    "import pandas as pd\n",
    "import sys, os\n",
    "from pathlib import Path\n",
    "import tensorflow as tf\n",
    "import warnings\n",
    "warnings.filterwarnings('ignore')\n",
    "\n",
    "sys.path.append('/home/work/yhcho/2023-02/RS')\n",
    "from msr.constants import (\n",
    "    DEFAULT_USER_COL,\n",
    "    DEFAULT_ITEM_COL,\n",
    "    DEFAULT_RATING_COL,\n",
    "    DEFAULT_TIMESTAMP_COL,\n",
    "    DEFAULT_PREDICTION_COL,\n",
    ")\n",
    "from msr.split_utils import min_rating_filter_pandas\n",
    "from msr.python_splitters import numpy_stratified_split\n",
    "from msr.python_evaluation import map_at_k, ndcg_at_k, precision_at_k, recall_at_k\n",
    "from msr.sparse import AffinityMatrix\n",
    "from msr.python_utils import binarize"
   ]
  },
  {
   "cell_type": "code",
   "execution_count": null,
   "id": "59608eb7",
   "metadata": {},
   "outputs": [],
   "source": [
    "HELDOUT_USERS = 600  # 검증 및 평가용 사용자 수\n",
    "SEED = 2023"
   ]
  },
  {
   "cell_type": "markdown",
   "id": "a573d4ab",
   "metadata": {},
   "source": [
    "### Data Loading"
   ]
  },
  {
   "cell_type": "code",
   "execution_count": null,
   "id": "60956127",
   "metadata": {},
   "outputs": [],
   "source": [
    "# MovieLens 1M 데이터 다운로드 & 압축 해제\n",
    "path = os.getcwd()\n",
    "movielens_zipped_file = tf.keras.utils.get_file(\n",
    "    path + \"/ml-1m.zip\", \n",
    "    \"http://files.grouplens.org/datasets/movielens/ml-1m.zip\", \n",
    "    extract=True, cache_subdir='movielens', cache_dir=path\n",
    ")"
   ]
  },
  {
   "cell_type": "code",
   "execution_count": null,
   "id": "b74e6d7c",
   "metadata": {},
   "outputs": [],
   "source": [
    "# 포맷에 맞춰 평점 데이터 로딩\n",
    "file_name = Path(path + '/movielens/ml-1m/ratings.dat')\n",
    "cols = [DEFAULT_USER_COL, DEFAULT_ITEM_COL, DEFAULT_RATING_COL, DEFAULT_TIMESTAMP_COL]\n",
    "df = pd.read_table(file_name, sep='::', header=None, names=cols, engine='python')\n",
    "df"
   ]
  },
  {
   "cell_type": "markdown",
   "id": "9e6623cb",
   "metadata": {},
   "source": [
    "### Data Filtering"
   ]
  },
  {
   "cell_type": "code",
   "execution_count": null,
   "id": "dfda2cd4",
   "metadata": {},
   "outputs": [],
   "source": [
    "# Binarize the data (only keep ratings >= 4)\n",
    "df_preferred = df[df['rating'] > 3.5]\n",
    "print (df_preferred.shape)\n",
    "df_low_rating = df[df['rating'] <= 3.5]\n",
    "\n",
    "df_preferred.head(10)"
   ]
  },
  {
   "cell_type": "code",
   "execution_count": null,
   "id": "05fc4e18",
   "metadata": {},
   "outputs": [],
   "source": [
    "# Keep users who clicked on at least 5 movies\n",
    "df = min_rating_filter_pandas(df_preferred, min_rating=5, filter_by=\"user\")\n",
    "\n",
    "# Keep movies that were clicked on by at least on 1 user\n",
    "df = min_rating_filter_pandas(df, min_rating=1, filter_by=\"item\")"
   ]
  },
  {
   "cell_type": "code",
   "execution_count": null,
   "id": "1a1157a1",
   "metadata": {},
   "outputs": [],
   "source": [
    "# Obtain both usercount and itemcount after filtering\n",
    "usercount = df[[DEFAULT_USER_COL]].groupby(DEFAULT_USER_COL, as_index = False).size()\n",
    "itemcount = df[[DEFAULT_ITEM_COL]].groupby(DEFAULT_ITEM_COL, as_index = False).size()\n",
    "\n",
    "# Compute sparsity after filtering\n",
    "sparsity = 1. * df.shape[0] / (usercount.shape[0] * itemcount.shape[0])\n",
    "\n",
    "print(\"After filtering, there are %d watching events from %d users and %d movies (sparsity: %.3f%%)\" % \n",
    "      (df.shape[0], usercount.shape[0], itemcount.shape[0], sparsity * 100))"
   ]
  },
  {
   "cell_type": "markdown",
   "id": "5d773c37",
   "metadata": {},
   "source": [
    "### Data Splitting"
   ]
  },
  {
   "cell_type": "code",
   "execution_count": null,
   "id": "d3b9779b",
   "metadata": {},
   "outputs": [],
   "source": [
    "unique_users = sorted(df[DEFAULT_USER_COL].unique())\n",
    "np.random.seed(SEED)\n",
    "unique_users = np.random.permutation(unique_users)"
   ]
  },
  {
   "cell_type": "code",
   "execution_count": null,
   "id": "a25c75bb",
   "metadata": {},
   "outputs": [],
   "source": [
    "# Create train/validation/test users\n",
    "n_users = len(unique_users)\n",
    "print(\"Number of unique users:\", n_users)\n",
    "\n",
    "train_users = unique_users[:(n_users - HELDOUT_USERS * 2)]\n",
    "print(\"\\nNumber of training users:\", len(train_users))\n",
    "\n",
    "val_users = unique_users[(n_users - HELDOUT_USERS * 2) : (n_users - HELDOUT_USERS)]\n",
    "print(\"\\nNumber of validation users:\", len(val_users))\n",
    "\n",
    "test_users = unique_users[(n_users - HELDOUT_USERS):]\n",
    "print(\"\\nNumber of test users:\", len(test_users))"
   ]
  },
  {
   "cell_type": "code",
   "execution_count": null,
   "id": "11a6d79a",
   "metadata": {},
   "outputs": [],
   "source": [
    "# For training set keep only users that are in train_users list\n",
    "train_set = df.loc[df[DEFAULT_USER_COL].isin(train_users)]\n",
    "print(\"Number of training observations: \", train_set.shape[0])\n",
    "\n",
    "# For validation set keep only users that are in val_users list\n",
    "val_set = df.loc[df[DEFAULT_USER_COL].isin(val_users)]\n",
    "print(\"\\nNumber of validation observations: \", val_set.shape[0])\n",
    "\n",
    "# For test set keep only users that are in test_users list\n",
    "test_set = df.loc[df[DEFAULT_USER_COL].isin(test_users)]\n",
    "print(\"\\nNumber of test observations: \", test_set.shape[0])\n",
    "\n",
    "# train_set/val_set/test_set contain user - movie interactions with rating 4 or 5 "
   ]
  },
  {
   "cell_type": "code",
   "execution_count": null,
   "id": "277df056",
   "metadata": {},
   "outputs": [],
   "source": [
    "# Obtain list of unique movies used in training set\n",
    "unique_train_items = pd.unique(train_set[DEFAULT_ITEM_COL])\n",
    "print(\"Number of unique movies that rated in training set\", unique_train_items.size)"
   ]
  },
  {
   "cell_type": "code",
   "execution_count": null,
   "id": "b6b72f9b",
   "metadata": {},
   "outputs": [],
   "source": [
    "# For validation set keep only movies that used in training set\n",
    "val_set = val_set.loc[val_set[DEFAULT_ITEM_COL].isin(unique_train_items)]\n",
    "print(\"Number of validation observations after filtering: \", val_set.shape[0])\n",
    "\n",
    "# For test set keep only movies that used in training set\n",
    "test_set = test_set.loc[test_set[DEFAULT_ITEM_COL].isin(unique_train_items)]\n",
    "print(\"\\nNumber of test observations after filtering: \", test_set.shape[0])"
   ]
  },
  {
   "cell_type": "markdown",
   "id": "c4874d48",
   "metadata": {},
   "source": [
    "### Click matrix (binary rating matrix) Generating"
   ]
  },
  {
   "cell_type": "code",
   "execution_count": null,
   "id": "ef31ead3",
   "metadata": {},
   "outputs": [],
   "source": [
    "# Instantiate the sparse matrix generation for train, validation and test sets\n",
    "# use list of unique items from training set for all sets\n",
    "train, _, _ = AffinityMatrix(df=train_set, items_list=unique_train_items).gen_affinity_matrix()\n",
    "valid, _, _ = AffinityMatrix(df=val_set, items_list=unique_train_items).gen_affinity_matrix()\n",
    "test, _, _  = AffinityMatrix(df=test_set, items_list=unique_train_items).gen_affinity_matrix()"
   ]
  },
  {
   "cell_type": "code",
   "execution_count": null,
   "id": "c4bd13da",
   "metadata": {},
   "outputs": [],
   "source": [
    "# Split test data into training and testing parts\n",
    "test_tr, test_te = numpy_stratified_split(test, ratio=0.75, seed=SEED)"
   ]
  },
  {
   "cell_type": "code",
   "execution_count": null,
   "id": "d963353d",
   "metadata": {},
   "outputs": [],
   "source": [
    "# Binarize train and validation\n",
    "train = binarize(a=train, threshold=3.5)\n",
    "valid = binarize(a=valid, threshold=3.5)\n",
    "\n",
    "# Binarize test data: training part \n",
    "test_tr = binarize(a=test_tr, threshold=3.5)\n",
    "# Binarize test data: testing part (save non-binary version in the separate object, will be used for calculating NDCG)"
   ]
  },
  {
   "cell_type": "code",
   "execution_count": null,
   "id": "67ffece4",
   "metadata": {},
   "outputs": [],
   "source": [
    "# Save data all together using pickle\n",
    "import pickle\n",
    "with open('MultiVAE_data_v2.pkl', 'wb') as f:\n",
    "    vae_data = (train, valid, test_tr, test_te)\n",
    "    pickle.dump(vae_data, f)"
   ]
  },
  {
   "cell_type": "markdown",
   "id": "10027bea",
   "metadata": {},
   "source": [
    "<font color='tomato'><font color=\"#CC3D3D\"><p>\n",
    "# End"
   ]
  }
 ],
 "metadata": {
  "kernelspec": {
   "display_name": "Pytorch2.0,Tensorflow2.12 (kaggle v135 23.07/ Python Conda 3.10,CUDA 11.8) on Backend.AI",
   "language": "python",
   "name": "python3"
  },
  "language_info": {
   "codemirror_mode": {
    "name": "ipython",
    "version": 3
   },
   "file_extension": ".py",
   "mimetype": "text/x-python",
   "name": "python",
   "nbconvert_exporter": "python",
   "pygments_lexer": "ipython3",
   "version": "3.10.12"
  }
 },
 "nbformat": 4,
 "nbformat_minor": 5
}
