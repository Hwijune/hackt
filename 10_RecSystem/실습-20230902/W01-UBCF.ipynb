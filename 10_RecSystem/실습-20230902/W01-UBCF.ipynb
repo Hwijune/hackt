{
 "cells": [
  {
   "cell_type": "markdown",
   "metadata": {},
   "source": [
    "<font color=\"#CC3D3D\"><p>\n",
    "# 사용자 기반 협업 필터링 (User-Based Collaborative Filtering)"
   ]
  },
  {
   "cell_type": "code",
   "execution_count": null,
   "metadata": {},
   "outputs": [],
   "source": [
    "import pandas as pd\n",
    "import numpy as np\n",
    "import seaborn as sns\n",
    "import matplotlib.pylab as plt\n",
    "%matplotlib inline\n",
    "\n",
    "from sklearn.metrics import mean_squared_error   # (실제값 - 예측값) 제곱의 평균을 계산하는 함수\n",
    "from datetime import datetime"
   ]
  },
  {
   "cell_type": "markdown",
   "metadata": {},
   "source": [
    "#### 데이터 읽기"
   ]
  },
  {
   "cell_type": "code",
   "execution_count": null,
   "metadata": {},
   "outputs": [],
   "source": [
    "movies = pd.read_csv('movies.csv')    # 영화 정보\n",
    "ratings = pd.read_csv('ratings.csv')  # 사용자가 영화에 대해 남긴 평점 데이터\n",
    "print(movies.shape)\n",
    "print(ratings.shape)"
   ]
  },
  {
   "cell_type": "markdown",
   "metadata": {},
   "source": [
    "#### 데이터 살펴보기"
   ]
  },
  {
   "cell_type": "code",
   "execution_count": null,
   "metadata": {},
   "outputs": [],
   "source": [
    "movies.head()"
   ]
  },
  {
   "cell_type": "code",
   "execution_count": null,
   "metadata": {},
   "outputs": [],
   "source": [
    "# 제목으로 영화 찾기\n",
    "movies[movies.title.str.contains(\"Die\", case = False)]"
   ]
  },
  {
   "cell_type": "code",
   "execution_count": null,
   "metadata": {},
   "outputs": [],
   "source": [
    "# 영화 장르 리스트\n",
    "{j for i in movies.genres.str.split('|') for j in i}"
   ]
  },
  {
   "cell_type": "code",
   "execution_count": null,
   "metadata": {},
   "outputs": [],
   "source": [
    "ratings.head()"
   ]
  },
  {
   "cell_type": "code",
   "execution_count": null,
   "metadata": {},
   "outputs": [],
   "source": [
    "# 사용자 수와 사용자 당 평점 횟수\n",
    "ratings.userId.nunique(), ratings.shape[0] / ratings.userId.nunique()"
   ]
  },
  {
   "cell_type": "code",
   "execution_count": null,
   "metadata": {},
   "outputs": [],
   "source": [
    "# 평점행렬의 일부만 살펴보면 평점 데이터가 일부 위치에만 존재하는 sparse 행렬임을 알 수 있음\n",
    "ratings.pivot_table('rating', index='userId', columns='movieId').iloc[212:222, 808:817].fillna(\"\")"
   ]
  },
  {
   "cell_type": "code",
   "execution_count": null,
   "metadata": {},
   "outputs": [],
   "source": [
    "plt.figure(figsize=(20,20))\n",
    "df = ratings.pivot_table('rating', index='userId', columns='movieId', fill_value=0)\n",
    "sns.heatmap(df, cmap='YlGnBu')\n",
    "plt.show()"
   ]
  },
  {
   "cell_type": "code",
   "execution_count": null,
   "metadata": {},
   "outputs": [],
   "source": [
    "# Density level (%)\n",
    "density = ratings.shape[0] / (ratings.userId.nunique() * ratings.movieId.nunique())\n",
    "f'{round(density*100,2)}%'"
   ]
  },
  {
   "cell_type": "code",
   "execution_count": null,
   "metadata": {},
   "outputs": [],
   "source": [
    "# 평점 분포\n",
    "print(ratings.describe().rating)\n",
    "sns.histplot(ratings.rating, bins=10, kde=True); plt.show() "
   ]
  },
  {
   "cell_type": "markdown",
   "metadata": {},
   "source": [
    "<font color=\"blue\"><p>\n",
    "### 나의 평점 입력하기"
   ]
  },
  {
   "cell_type": "code",
   "execution_count": null,
   "metadata": {},
   "outputs": [],
   "source": [
    "# 나의 사용자 ID\n",
    "myId = 611"
   ]
  },
  {
   "cell_type": "code",
   "execution_count": null,
   "metadata": {},
   "outputs": [],
   "source": [
    "print(\"제시되는 영화에 대해 10개까지 평점(1~5점)을 입력하시기 바랍니다.\")\n",
    "print(\"잘 모르는 영화일 경우 평점을 낮게 주시거나 Enter키를 치시면 됩니다.\")\n",
    "\n",
    "movies_for_rating = pd.read_csv('movies_for_rating.csv')\n",
    "my_ratings = []\n",
    "count = 0\n",
    "\n",
    "df = movies_for_rating.sample(frac=1)\n",
    "for i in range(df.shape[0]):\n",
    "    my_rating = input(f\"{df.iloc[i].title}: \")\n",
    "    try:\n",
    "        score = int(my_rating)\n",
    "        if score < 1 or score > 5:\n",
    "            continue\n",
    "        my_ratings.append((myId, df.iloc[i].movieId, score, int(datetime.now().timestamp())))\n",
    "        count += 1\n",
    "    except:\n",
    "        continue\n",
    "    if count >= 10:\n",
    "        break\n",
    "\n",
    "my_ratings = pd.DataFrame(my_ratings, columns=ratings.columns)\n",
    "my_ratings.to_csv('my_ratings.csv', index=False)\n",
    "print(\"\\nMy rating summary:\\n\", my_ratings.merge(df)[['title', 'genre', 'rating']])\n",
    "\n",
    "ratings = pd.concat([ratings, my_ratings]).reset_index(drop=True)"
   ]
  },
  {
   "cell_type": "markdown",
   "metadata": {},
   "source": [
    "### 추천 프로세스\n",
    "<img align='left' src='http://drive.google.com/uc?export=view&id=10QS0xBx21NahiKdlstDoh0gkQRyrC2vR'>"
   ]
  },
  {
   "cell_type": "markdown",
   "metadata": {},
   "source": [
    "#### 입력데이터 구성: 평점행렬 만들기"
   ]
  },
  {
   "cell_type": "code",
   "execution_count": null,
   "metadata": {},
   "outputs": [],
   "source": [
    "# title 컬럼을 얻기 이해 movies와 조인 수행\n",
    "rating_movies = pd.merge(ratings, movies, on='movieId')\n",
    "\n",
    "# 행은 userID, 열은 title로 pivoting 수행. rating이 없는 값(NaN)은 모두 0으로 변환\n",
    "ratings_matrix = rating_movies.pivot_table('rating', index='userId', columns='title', fill_value=0)\n",
    "\n",
    "print(ratings_matrix.shape)\n",
    "ratings_matrix.head()"
   ]
  },
  {
   "cell_type": "markdown",
   "metadata": {},
   "source": [
    "#### 유사집단 탐색: 사용자 간 유사도 산출"
   ]
  },
  {
   "cell_type": "code",
   "execution_count": null,
   "metadata": {},
   "outputs": [],
   "source": [
    "from sklearn.metrics.pairwise import cosine_similarity\n",
    "\n",
    "# cosine_similarity()는 행을 기준으로 유사도를 계산\n",
    "user_sim = cosine_similarity(ratings_matrix, ratings_matrix)\n",
    "\n",
    "# cosine_similarity()로 반환된 numpy 행렬에 영화명을 매핑하기 위해 DataFrame으로 변환\n",
    "user_sim = pd.DataFrame(user_sim, ratings_matrix.index, ratings_matrix.index)\n",
    "\n",
    "print(user_sim.shape)\n",
    "user_sim.head()"
   ]
  },
  {
   "cell_type": "code",
   "execution_count": null,
   "metadata": {},
   "outputs": [],
   "source": [
    "# 나와 유사도가 높은 상위 5명 리스트\n",
    "user_sim.loc[myId].sort_values(ascending=False)[1:6]"
   ]
  },
  {
   "cell_type": "markdown",
   "metadata": {},
   "source": [
    "#### 추천 상품 결정:  개인화된 영화 추천"
   ]
  },
  {
   "cell_type": "markdown",
   "metadata": {},
   "source": [
    "$$\n",
    "\\Large \\hat{R}_{u,j} = \\frac{\\sum_{i= 1}^{K}{S_{u,i}*R_{i,j}}} {\\sum_{i = 1}^{K}{\\left|S_{u,i}\\right|}} \n",
    "$$"
   ]
  },
  {
   "cell_type": "markdown",
   "metadata": {},
   "source": [
    "영화 평점 예측"
   ]
  },
  {
   "cell_type": "code",
   "execution_count": null,
   "metadata": {},
   "outputs": [],
   "source": [
    "# 유사도가 가장 높은 이웃의 수 설정\n",
    "K = 20"
   ]
  },
  {
   "cell_type": "code",
   "execution_count": null,
   "metadata": {},
   "outputs": [],
   "source": [
    "%%time\n",
    "\n",
    "# 위의 평점예측 수식을 아래와 같이 구현함\n",
    "R, S = ratings_matrix.values, user_sim.values\n",
    "\n",
    "# 사용자-아이템 평점 행렬 크기만큼 0으로 채운 예측 행렬 초기화\n",
    "ratings_pred = np.zeros(R.shape)\n",
    "\n",
    "# 사용자-아이템 평점 행렬의 열 크기만큼 Loop 수행. \n",
    "for u in range(R.shape[0]):\n",
    "    # 유사도 행렬에서 유사도가 큰 순으로 n개 데이터 행렬의 index 반환\n",
    "    top_k = np.argsort(S[:, u])[::-1][1:K+1]\n",
    "    # 개인화된 예측 평점을 계산\n",
    "    for i in range(R.shape[1]):\n",
    "        ratings_pred[u, i] = S[u, :][top_k].dot(R[:,i][top_k].T) \n",
    "        ratings_pred[u, i] /= np.sum(np.abs(S[u, :][top_k]))\n",
    "        \n",
    "ratings_pred = pd.DataFrame(ratings_pred, ratings_matrix.index, ratings_matrix.columns)\n",
    "ratings_pred"
   ]
  },
  {
   "cell_type": "markdown",
   "metadata": {},
   "source": [
    "Top-N 영화 추천"
   ]
  },
  {
   "cell_type": "code",
   "execution_count": null,
   "metadata": {},
   "outputs": [],
   "source": [
    "# 추천 영화의 수 (Top-K) & 추천 대상 설정\n",
    "N = 10\n",
    "uid = myId"
   ]
  },
  {
   "cell_type": "code",
   "execution_count": null,
   "metadata": {},
   "outputs": [],
   "source": [
    "# 내가 좋아하는 영화\n",
    "like_movies = ratings.query('userId == @uid and rating >= 4').movieId\n",
    "movies.query('movieId in @like_movies')"
   ]
  },
  {
   "cell_type": "code",
   "execution_count": null,
   "metadata": {},
   "outputs": [],
   "source": [
    "# id로 지정된 사용자의 모든 영화정보 추출하여 Series로 반환함\n",
    "# 반환된 user_rating은 영화명(title)을 index로 가지는 Series 객체임 \n",
    "user_rating = ratings_matrix.loc[uid,:]\n",
    "    \n",
    "# user_rating이 0보다 크면 기존에 관람한 영화임. 대상 index를 추출하여 list로 만듬\n",
    "already_seen = user_rating[user_rating > 0].index.tolist()\n",
    "   \n",
    "# list comprehension으로 already_seen에 해당하는 movie는 movies_list에서 제외함\n",
    "unseen_list = [movie for movie in ratings_matrix.columns.tolist() if movie not in already_seen]\n",
    "    \n",
    "# unseen_list에서 가장 평점이 높은 N개의 영화를 추천함 \n",
    "recomm_items = ratings_pred.loc[uid, unseen_list].sort_values(ascending=False)[:N]\n",
    "list(recomm_items.index)"
   ]
  },
  {
   "cell_type": "markdown",
   "metadata": {},
   "source": [
    "추천성능 평가"
   ]
  },
  {
   "cell_type": "code",
   "execution_count": null,
   "metadata": {},
   "outputs": [],
   "source": [
    "# 사용자가 평점을 부여한 영화에 대해서만 예측 성능 평가 RMSE를 구함\n",
    "actual, pred = ratings_matrix.values, ratings_pred.values     \n",
    "pred = pred[actual.nonzero()].flatten()\n",
    "actual = actual[actual.nonzero()].flatten()\n",
    "rmse = np.sqrt(mean_squared_error(pred, actual))\n",
    "print(f'RMSE:', rmse)"
   ]
  },
  {
   "cell_type": "markdown",
   "metadata": {},
   "source": [
    "<font color=\"#CC3D3D\"><p>\n",
    "# End"
   ]
  }
 ],
 "metadata": {
  "kernelspec": {
   "display_name": "Python 3 (ipykernel)",
   "language": "python",
   "name": "python3"
  },
  "language_info": {
   "codemirror_mode": {
    "name": "ipython",
    "version": 3
   },
   "file_extension": ".py",
   "mimetype": "text/x-python",
   "name": "python",
   "nbconvert_exporter": "python",
   "pygments_lexer": "ipython3",
   "version": "3.9.16"
  }
 },
 "nbformat": 4,
 "nbformat_minor": 2
}
