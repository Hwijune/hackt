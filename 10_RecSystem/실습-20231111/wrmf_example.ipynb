{
 "cells": [
  {
   "cell_type": "markdown",
   "id": "b4702c27",
   "metadata": {},
   "source": [
    "<font color='tomato'><font color=\"#CC3D3D\"><p>\n",
    "# A Tutorial on WRMF(Weighted Regularized Matrix Factorization)"
   ]
  },
  {
   "cell_type": "markdown",
   "id": "0f3b8867",
   "metadata": {},
   "source": [
    "이 튜토리얼은 아래 github에 구현된 Cornac-compatible WRMF 모델을 최신의 TF 버전으로 수정한 것임: TF 1.x => TF 2.x\n",
    "- https://github.com/ddoeunn/Weighted-Regularized-Matrix-Factorization"
   ]
  },
  {
   "cell_type": "markdown",
   "id": "1e0d985e",
   "metadata": {},
   "source": [
    "### Setup"
   ]
  },
  {
   "cell_type": "code",
   "execution_count": null,
   "id": "4a9584e0",
   "metadata": {},
   "outputs": [],
   "source": [
    "import pandas as pd\n",
    "import numpy as np\n",
    "\n",
    "# MS recommenders API \n",
    "import sys\n",
    "sys.path.append('/home/work/yhcho/2023-02/RS')  # 본인이 msr.zip 압축을 푼 위치를 확인(셀에서 pwd 명령어 실행) 후 변경해야 함. \n",
    "                                                # 윈도우에서는 폴더 구분자를 // 또는 \\\\로 해야 함.  \n",
    "from msr.cornac_utils import predict_ranking\n",
    "from msr.python_splitters import python_stratified_split\n",
    "\n",
    "# Cornac API \n",
    "import cornac\n",
    "print(f\"Cornac version: {cornac.__version__}\")\n",
    "from cornac.eval_methods import BaseMethod, RatioSplit, StratifiedSplit, CrossValidation\n",
    "from cornac.metrics import Precision, Recall, NDCG, AUC, MAP\n",
    "from cornac.data import FeatureModality\n",
    "from cornac.models import EASE\n",
    "\n",
    "# Custom models\n",
    "from recom_wrmf import WRMF"
   ]
  },
  {
   "cell_type": "code",
   "execution_count": null,
   "id": "86eecaea",
   "metadata": {},
   "outputs": [],
   "source": [
    "# Data column definition\n",
    "DEFAULT_USER_COL = 'resume_seq'\n",
    "DEFAULT_ITEM_COL = 'recruitment_seq'\n",
    "DEFAULT_RATING_COL = 'rating'\n",
    "DEFAULT_PREDICTION_COL = 'prediction'\n",
    "\n",
    "# Top k items to recommend\n",
    "TOP_K = 5\n",
    "\n",
    "# Random seed, Verbose, etc.\n",
    "SEED = 202311\n",
    "VERBOSE = True"
   ]
  },
  {
   "cell_type": "markdown",
   "id": "be84a3ae",
   "metadata": {},
   "source": [
    "### Preprocessing"
   ]
  },
  {
   "cell_type": "code",
   "execution_count": null,
   "id": "75e23a63",
   "metadata": {},
   "outputs": [],
   "source": [
    "# 데이터 로딩\n",
    "data = pd.read_csv('../kmu_comp/apply_train.csv')\n",
    "data[DEFAULT_RATING_COL] = 1  # Cornac에서 지정한 데이터형식(UIR: User, Item, Rating)에 따라\n",
    "\n",
    "# 데이터 분할\n",
    "train, test = python_stratified_split(\n",
    "    data, \n",
    "    filter_by=\"user\", \n",
    "    ratio=0.7,\n",
    "    col_user=DEFAULT_USER_COL, col_item=DEFAULT_ITEM_COL,\n",
    "    seed=SEED\n",
    ")"
   ]
  },
  {
   "cell_type": "markdown",
   "id": "927d3d41",
   "metadata": {},
   "source": [
    "### Modeling"
   ]
  },
  {
   "cell_type": "code",
   "execution_count": null,
   "id": "f61e73f5",
   "metadata": {},
   "outputs": [],
   "source": [
    "params = {\n",
    "    'name': \"WRMF-uniform_pos\",\n",
    "    'weight_strategy': \"uniform_pos\",\n",
    "    'data': train\n",
    "}\n",
    "\n",
    "wrmf_uniform_pos = WRMF(**params, seed=SEED, verbose=VERBOSE)"
   ]
  },
  {
   "cell_type": "code",
   "execution_count": null,
   "id": "e7234efd",
   "metadata": {},
   "outputs": [],
   "source": [
    "params = {\n",
    "    'name': \"WRMF-uniform_neg\",\n",
    "    'weight_strategy': \"uniform_neg\",\n",
    "    'data': train\n",
    "}\n",
    "\n",
    "wrmf_uniform_neg = WRMF(**params, seed=SEED, verbose=VERBOSE)"
   ]
  },
  {
   "cell_type": "code",
   "execution_count": null,
   "id": "df0e6592",
   "metadata": {},
   "outputs": [],
   "source": [
    "params = {\n",
    "    'name': \"WRMF-user-oriented\",\n",
    "    'weight_strategy': \"user_oriented\",\n",
    "    'data': train\n",
    "}\n",
    "\n",
    "wrmf_user_oriented = WRMF(**params, seed=SEED, verbose=VERBOSE)"
   ]
  },
  {
   "cell_type": "code",
   "execution_count": null,
   "id": "8db8c807",
   "metadata": {},
   "outputs": [],
   "source": [
    "params = {\n",
    "    'name': \"WRMF-item-oriented\",\n",
    "    'weight_strategy': \"item_oriented\",\n",
    "    'data': train\n",
    "}\n",
    "\n",
    "wrmf_item_oriented = WRMF(**params, seed=SEED, verbose=VERBOSE)"
   ]
  },
  {
   "cell_type": "code",
   "execution_count": null,
   "id": "a0e39581",
   "metadata": {},
   "outputs": [],
   "source": [
    "params = {\n",
    "    'name': \"WRMF-item-popularity\",\n",
    "    'weight_strategy': \"item_popularity\",\n",
    "    'data': train\n",
    "}\n",
    "\n",
    "wrmf_item_popularity = WRMF(**params, seed=SEED, verbose=VERBOSE)"
   ]
  },
  {
   "cell_type": "markdown",
   "id": "c77c92f6",
   "metadata": {},
   "source": [
    "### Evaluation"
   ]
  },
  {
   "cell_type": "code",
   "execution_count": null,
   "id": "cdb1d657",
   "metadata": {
    "scrolled": true
   },
   "outputs": [],
   "source": [
    "# 평가방법 설정\n",
    "eval_method = BaseMethod.from_splits(\n",
    "    train_data=np.array(train), \n",
    "    test_data=np.array(test), \n",
    "    exclude_unknowns=True,  # Unknown users and items will be ignored.\n",
    "    verbose=True\n",
    ")\n",
    "\n",
    "# 평가척도 설정\n",
    "metrics = [Recall(k=TOP_K), NDCG(k=TOP_K)]\n",
    "\n",
    "# 실험 수행\n",
    "cornac.Experiment(\n",
    "    eval_method=eval_method,\n",
    "    models=[wrmf_uniform_pos, wrmf_uniform_neg, wrmf_user_oriented, wrmf_item_oriented, wrmf_item_popularity],\n",
    "    metrics=metrics,\n",
    ").run()"
   ]
  },
  {
   "cell_type": "markdown",
   "id": "4d143939",
   "metadata": {},
   "source": [
    "### Deployment"
   ]
  },
  {
   "cell_type": "code",
   "execution_count": null,
   "id": "6fb27c54",
   "metadata": {},
   "outputs": [],
   "source": [
    "# 전체 데이터(rating/side-info)로 다시 학습\n",
    "# data.Dataset.from_uir()이 FeatureModality를 지원하지 않아 .fit()의 파라미터로 item feature를 전달\n",
    "full_data = cornac.data.Dataset.from_uir(data.itertuples(index=False), seed=SEED)\n",
    "\n",
    "model = WRMF(weight_strategy=\"item_popularity\", data=data, seed=SEED, verbose=VERBOSE)  \n",
    "model.fit(full_data)\n",
    "\n",
    "# 모든 item에 대한 예측값 생성\n",
    "all_pred = predict_ranking(\n",
    "    model, data, \n",
    "    usercol=DEFAULT_USER_COL, itemcol=DEFAULT_ITEM_COL, \n",
    "    remove_seen=True\n",
    ")\n",
    "\n",
    "# Top-K item 생성\n",
    "top_k = (\n",
    "    all_pred\n",
    "    .groupby(DEFAULT_USER_COL)\n",
    "    .apply(lambda x: x.nlargest(TOP_K, DEFAULT_PREDICTION_COL))\n",
    "    .reset_index(drop=True)\n",
    "    .drop(DEFAULT_PREDICTION_COL, axis=1)\n",
    "    .sort_values(by=DEFAULT_USER_COL)\n",
    ")\n",
    "\n",
    "# submission 화일 저장\n",
    "t = pd.Timestamp.now()\n",
    "fname = f\"submit_{model.name}_{t.month:02}{t.day:02}{t.hour:02}{t.minute:02}.csv\"\n",
    "top_k.to_csv(fname, index=False)"
   ]
  },
  {
   "cell_type": "markdown",
   "id": "eda7c9e4",
   "metadata": {},
   "source": [
    "<font color='tomato'><font color=\"#CC3D3D\"><p>\n",
    "# End"
   ]
  }
 ],
 "metadata": {
  "kernelspec": {
   "display_name": "Pytorch2.0,Tensorflow2.12 (kaggle v135 23.07/ Python Conda 3.10,CUDA 11.8) on Backend.AI",
   "language": "python",
   "name": "python3"
  },
  "language_info": {
   "codemirror_mode": {
    "name": "ipython",
    "version": 3
   },
   "file_extension": ".py",
   "mimetype": "text/x-python",
   "name": "python",
   "nbconvert_exporter": "python",
   "pygments_lexer": "ipython3",
   "version": "3.10.12"
  }
 },
 "nbformat": 4,
 "nbformat_minor": 5
}
