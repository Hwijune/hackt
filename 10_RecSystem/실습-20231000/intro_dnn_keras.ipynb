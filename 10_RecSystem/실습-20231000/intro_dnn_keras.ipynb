{
 "cells": [
  {
   "cell_type": "markdown",
   "id": "5da7e746",
   "metadata": {},
   "source": [
    "<font color=\"#CC3D3D\"><p>\n",
    "# Building a DNN Model with Keras"
   ]
  },
  {
   "cell_type": "markdown",
   "id": "56d30296",
   "metadata": {},
   "source": [
    "####  전역변수 설정"
   ]
  },
  {
   "cell_type": "code",
   "execution_count": null,
   "id": "fdd241e7",
   "metadata": {},
   "outputs": [],
   "source": [
    "DNN_VERSION = 1.0  # Model version\n",
    "SEED = 0           # random_state 지정"
   ]
  },
  {
   "cell_type": "code",
   "execution_count": null,
   "id": "753b3348",
   "metadata": {},
   "outputs": [],
   "source": [
    "#!pip install tensorflow"
   ]
  },
  {
   "cell_type": "code",
   "execution_count": null,
   "id": "b30716da",
   "metadata": {},
   "outputs": [],
   "source": [
    "%matplotlib inline\n",
    "import warnings\n",
    "warnings.filterwarnings(\"ignore\")\n",
    "\n",
    "import pandas as pd\n",
    "import numpy as np\n",
    "import matplotlib.pyplot as plt\n",
    "import seaborn as sns\n",
    "from sklearn.model_selection import train_test_split\n",
    "import random\n",
    "\n",
    "import tensorflow as tf\n",
    "from tensorflow import keras\n",
    "import kerastuner as kt\n",
    "print(tf.__version__)"
   ]
  },
  {
   "cell_type": "code",
   "execution_count": null,
   "id": "57bb9d53",
   "metadata": {},
   "outputs": [],
   "source": [
    "# 매번 모델링을 할 때마다 동일한 결과를 얻으려면 아래 코드를 실행해야 함.\n",
    "\n",
    "def reset_seeds(reset_graph_with_backend=None):\n",
    "    if reset_graph_with_backend is not None:\n",
    "        K = reset_graph_with_backend\n",
    "        K.clear_session()\n",
    "        tf.compat.v1.reset_default_graph()\n",
    "        print(\"KERAS AND TENSORFLOW GRAPHS RESET\")  # optional\n",
    "\n",
    "    np.random.seed(SEED)\n",
    "    random.seed(SEED)\n",
    "    tf.compat.v1.set_random_seed(SEED)\n",
    "#    os.environ['CUDA_VISIBLE_DEVICES'] = ''  # for GPU\n",
    "    print(\"RANDOM SEEDS RESET\")  # optional\n",
    "   \n",
    "reset_seeds()"
   ]
  },
  {
   "cell_type": "markdown",
   "id": "ba99e2ab",
   "metadata": {},
   "source": [
    "#### (전처리된) 데이터 로딩"
   ]
  },
  {
   "cell_type": "code",
   "execution_count": null,
   "id": "66e6b3f0",
   "metadata": {},
   "outputs": [],
   "source": [
    "# 학습 데이터\n",
    "X_train = pd.read_csv('X_train.csv').drop(columns='ID')\n",
    "y_train = pd.read_csv('y_train.csv').Salary\n",
    "\n",
    "# 평가 데이터\n",
    "X_test = pd.read_csv('X_test.csv')\n",
    "test_id = X_test.ID\n",
    "X_test = X_test.drop(columns='ID')"
   ]
  },
  {
   "cell_type": "code",
   "execution_count": null,
   "id": "3274ade7",
   "metadata": {},
   "outputs": [],
   "source": [
    "X_train"
   ]
  },
  {
   "cell_type": "code",
   "execution_count": null,
   "id": "2d66811f",
   "metadata": {},
   "outputs": [],
   "source": [
    "# 학습 데이터를 다시 학습과 검증 데이터로 분할\n",
    "X_train, X_valid, y_train, y_valid = train_test_split(X_train, y_train, test_size=0.1, random_state=SEED)"
   ]
  },
  {
   "cell_type": "markdown",
   "id": "3806eb8c",
   "metadata": {},
   "source": [
    "<font color=\"blue\"><p>\n",
    "#### DNN 모형 생성"
   ]
  },
  {
   "cell_type": "markdown",
   "id": "e4635c86",
   "metadata": {},
   "source": [
    "<font color=\"blue\"><p>\n",
    "- 1단계: 모형 정의하기 (입력층/은익층/출력층 쌓기)"
   ]
  },
  {
   "cell_type": "code",
   "execution_count": null,
   "id": "96e6937c",
   "metadata": {},
   "outputs": [],
   "source": [
    "inputs = keras.Input(shape=X_train.shape[1], )          # 입력층\n",
    "x = keras.layers.Dense(128, activation='relu')(inputs)  # 첫번째 은익층\n",
    "x = keras.layers.Dense(64, activation='relu')(x)        # 두번째 은익층\n",
    "output = keras.layers.Dense(1, activation='linear')(x)  # 출력층\n",
    "\n",
    "model = keras.Model(inputs=inputs, outputs=output)      # 입력층과 출력층을 지정함으로써 전체모형 정의"
   ]
  },
  {
   "cell_type": "code",
   "execution_count": null,
   "id": "c4e13cea",
   "metadata": {},
   "outputs": [],
   "source": [
    "# 모형 구조 출력: Total params가 많을수록 복잡한 모델임.\n",
    "model.summary()"
   ]
  },
  {
   "cell_type": "code",
   "execution_count": null,
   "id": "80d936f7",
   "metadata": {},
   "outputs": [],
   "source": [
    "# 연결 그래프 시각화: graphviz와 pydot 설치 필요 (graphviz 다운로드하고 설치한 후 pip install pydot)\n",
    "#keras.utils.plot_model(model, show_shapes=True)"
   ]
  },
  {
   "cell_type": "markdown",
   "id": "99835f67",
   "metadata": {},
   "source": [
    "<font color=\"blue\"><p>\n",
    "- 2단계: 학습방식(손실함수/옵티마이저/평가척도) 설정하기"
   ]
  },
  {
   "cell_type": "code",
   "execution_count": null,
   "id": "21657303",
   "metadata": {},
   "outputs": [],
   "source": [
    "model.compile(\n",
    "    loss='mse',\n",
    "    optimizer=keras.optimizers.RMSprop(),                     \n",
    "    metrics=[keras.metrics.RootMeanSquaredError(name='rmse')]\n",
    ")"
   ]
  },
  {
   "cell_type": "markdown",
   "id": "4fa9175e",
   "metadata": {},
   "source": [
    "<font color=\"blue\"><p>\n",
    "- 3단계: 모형 학습하기 (에포크, 배치사이즈, 조기중단 등 지정) "
   ]
  },
  {
   "cell_type": "code",
   "execution_count": null,
   "id": "2d6b4dda",
   "metadata": {},
   "outputs": [],
   "source": [
    "hist = model.fit(\n",
    "    x=X_train,\n",
    "    y=y_train,\n",
    "    validation_data=(X_valid,y_valid), # DNN 학습시 검증데이터가 필요함 => 미리 학습과 검증 데이터로 나누었을 경우\n",
    "#    validation_split=0.1,             # DNN 학습시 검증데이터가 필요함 => 미리 나누지 않을 경우\n",
    "    batch_size=64, \n",
    "    epochs=200, \n",
    "    callbacks=[keras.callbacks.EarlyStopping(monitor='val_loss', patience=5)], # 검증데이터의 Loss가 5회연속 감소하지 않으면 학습 중단.\n",
    "    shuffle=False,       # 재현을 위해 False로 설정.\n",
    "    verbose=2,\n",
    ")"
   ]
  },
  {
   "cell_type": "code",
   "execution_count": null,
   "id": "00d819fc",
   "metadata": {},
   "outputs": [],
   "source": [
    "# 러닝커브 그리기: 학습이 잘되었는지 어느정도 판단할 수 있음.\n",
    "\n",
    "plt.plot(hist.history['rmse'], label=\"train\")\n",
    "plt.plot(hist.history['val_rmse'], label=\"valid\")\n",
    "plt.xlabel('epoch')\n",
    "plt.ylabel('RMSE')\n",
    "plt.legend()\n",
    "plt.show()"
   ]
  },
  {
   "cell_type": "code",
   "execution_count": null,
   "id": "80548c74",
   "metadata": {},
   "outputs": [],
   "source": [
    "results = model.evaluate(X_valid, y_valid)\n",
    "print(\"valid loss, valid rmse:\", results)"
   ]
  },
  {
   "cell_type": "markdown",
   "id": "34f2fbba",
   "metadata": {},
   "source": [
    "<font color=\"blue\"><p>\n",
    "- 4단계: 예측하기"
   ]
  },
  {
   "cell_type": "code",
   "execution_count": null,
   "id": "9b91a1b1",
   "metadata": {},
   "outputs": [],
   "source": [
    "# 예측값 얻기: sklearn 과 달리 2차원 array로 출력 => 1차원으로 변경 필요.\n",
    "pred = model.predict(X_test).flatten()\n",
    "\n",
    "# submission 화일 생성\n",
    "filename = f'dnn_{DNN_VERSION}_{hist.history[\"val_rmse\"][-1]:.2f}.csv'\n",
    "pd.DataFrame({'ID':test_id, 'Salary':pred}).to_csv(filename, index=False)\n",
    "\n",
    "print(f'{filename} is ready to submit.')"
   ]
  },
  {
   "cell_type": "markdown",
   "id": "e79de56d",
   "metadata": {},
   "source": [
    "<font color=\"#CC3D3D\"><p>\n",
    "# End"
   ]
  }
 ],
 "metadata": {
  "kernelspec": {
   "display_name": "Pytorch2.0, Tensorflow2.11 (kaggle 23.05/Python 3.10 Conda, CUDA 11.3) on Backend.AI",
   "language": "python",
   "name": "python3"
  },
  "language_info": {
   "codemirror_mode": {
    "name": "ipython",
    "version": 3
   },
   "file_extension": ".py",
   "mimetype": "text/x-python",
   "name": "python",
   "nbconvert_exporter": "python",
   "pygments_lexer": "ipython3",
   "version": "3.10.10"
  }
 },
 "nbformat": 4,
 "nbformat_minor": 5
}
