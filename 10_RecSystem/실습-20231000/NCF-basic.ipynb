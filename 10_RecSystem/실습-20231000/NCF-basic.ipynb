{
 "cells": [
  {
   "cell_type": "markdown",
   "metadata": {},
   "source": [
    "<font color='tomato'><font color=\"#CC3D3D\"><p>\n",
    "# Neural Collaborative Filtering (NCF): Basic Model"
   ]
  },
  {
   "cell_type": "markdown",
   "metadata": {},
   "source": [
    "- 행렬분해(MF)의 MLP 변환    \n",
    "\n",
    "<img src='http://drive.google.com/uc?export=view&id=1X83rkwM3B1u0UAGYMIrRQnbeSyb_65Ge' align=\"left\" width=800>"
   ]
  },
  {
   "cell_type": "markdown",
   "metadata": {},
   "source": [
    "- NCF 아키텍처   \n",
    "\n",
    "<img src='http://drive.google.com/uc?export=view&id=1MXgP7nfGEzb_MpJ2DmU65KegOzI9hFCv' align=\"left\" width=800/>"
   ]
  },
  {
   "cell_type": "markdown",
   "metadata": {},
   "source": [
    "### Import modules"
   ]
  },
  {
   "cell_type": "code",
   "execution_count": null,
   "metadata": {},
   "outputs": [],
   "source": [
    "import pandas as pd\n",
    "import numpy as np\n",
    "import pickle, random, os\n",
    "import warnings; warnings.filterwarnings(\"ignore\")\n",
    "import matplotlib.pylab as plt\n",
    "%matplotlib inline\n",
    "\n",
    "from msr.python_splitters import (\n",
    "    python_random_split, \n",
    "    python_chrono_split, \n",
    "    python_stratified_split\n",
    ")\n",
    "\n",
    "from sklearn.model_selection import train_test_split\n",
    "from sklearn.metrics import mean_squared_error\n",
    "\n",
    "import tensorflow as tf\n",
    "from tensorflow import keras\n",
    "print(tf.__version__)"
   ]
  },
  {
   "cell_type": "markdown",
   "metadata": {},
   "source": [
    "### Set random seeds to make your results reproducible"
   ]
  },
  {
   "cell_type": "code",
   "execution_count": null,
   "metadata": {},
   "outputs": [],
   "source": [
    "# 매번 모델링을 할 때마다 동일한 결과를 얻으려면 아래 코드를 실행해야 함.\n",
    "\n",
    "def reset_seeds(reset_graph_with_backend=None):\n",
    "    if reset_graph_with_backend is not None:\n",
    "        K = reset_graph_with_backend\n",
    "        K.clear_session()\n",
    "        tf.compat.v1.reset_default_graph()\n",
    "        print(\"KERAS AND TENSORFLOW GRAPHS RESET\")\n",
    "\n",
    "    np.random.seed(1)\n",
    "    random.seed(2)\n",
    "    tf.compat.v1.set_random_seed(3)\n",
    "#    os.environ['CUDA_VISIBLE_DEVICES'] = ''  # for GPU\n",
    "    print(\"RANDOM SEEDS RESET\") \n",
    "   \n",
    "reset_seeds()"
   ]
  },
  {
   "cell_type": "markdown",
   "metadata": {},
   "source": [
    "### Step 1: Load and process the data"
   ]
  },
  {
   "cell_type": "markdown",
   "metadata": {},
   "source": [
    "##### Read data"
   ]
  },
  {
   "cell_type": "code",
   "execution_count": null,
   "metadata": {},
   "outputs": [],
   "source": [
    "movies = pd.read_csv('movies.csv')    # 영화 정보\n",
    "ratings = pd.read_csv('ratings.csv')  # 사용자가 영화에 대해 남긴 평점 데이터\n",
    "\n",
    "movies.shape, ratings.shape"
   ]
  },
  {
   "cell_type": "markdown",
   "metadata": {},
   "source": [
    "##### Split data into train & test set "
   ]
  },
  {
   "cell_type": "code",
   "execution_count": null,
   "metadata": {},
   "outputs": [],
   "source": [
    "#train, test = python_random_split(ratings, ratio=0.75)\n",
    "train, test = train_test_split(ratings, test_size=0.25, shuffle=True, random_state=0)"
   ]
  },
  {
   "cell_type": "markdown",
   "metadata": {},
   "source": [
    "### Step 2: Define the model architecture"
   ]
  },
  {
   "cell_type": "markdown",
   "metadata": {},
   "source": [
    "##### Stack layers from input to output"
   ]
  },
  {
   "cell_type": "code",
   "execution_count": null,
   "metadata": {},
   "outputs": [],
   "source": [
    "# Variable 초기화 \n",
    "K = 200                             # Latent factor 수 \n",
    "mu = train.rating.mean()            # 전체 평균 \n",
    "M = ratings.userId.nunique() + 1    # Number of users\n",
    "N = ratings.movieId.nunique() + 1   # Number of movies\n",
    "\n",
    "M, N"
   ]
  },
  {
   "cell_type": "code",
   "execution_count": null,
   "metadata": {},
   "outputs": [],
   "source": [
    "user = keras.Input(shape=(1, ))                          # User input: userID\n",
    "item = keras.Input(shape=(1, ))                          # Item input: movieId\n",
    "P_embedding = keras.layers.Embedding(M, K)(user)         # M: Number of users, K: Latent factor 수 \n",
    "Q_embedding = keras.layers.Embedding(N, K)(item)         # M: Number of movies, K: Latent factor 수 \n",
    "user_bias = keras.layers.Embedding(M, 1)(user)           # User bias term \n",
    "item_bias = keras.layers.Embedding(N, 1)(item)           # Item bias term\n",
    "\n",
    "R = keras.layers.Dot(axes=2)([P_embedding, Q_embedding]) # 행렬곱: P * Q \n",
    "R = keras.layers.Add()([R, user_bias, item_bias])\n",
    "R = keras.layers.Flatten()(R)\n",
    "\n",
    "#R = Dense(32, activation='relu')(R)\n",
    "#R = Dense(16, activation='relu')(R)\n",
    "#R = Dense(1, activation='linear')(R)\n",
    "\n",
    "model = keras.Model(inputs=[user, item], outputs=R)"
   ]
  },
  {
   "cell_type": "markdown",
   "metadata": {},
   "source": [
    "##### Summarize & visualize the model"
   ]
  },
  {
   "cell_type": "code",
   "execution_count": null,
   "metadata": {},
   "outputs": [],
   "source": [
    "model.summary()"
   ]
  },
  {
   "cell_type": "code",
   "execution_count": null,
   "metadata": {},
   "outputs": [],
   "source": [
    "# 연결 그래프 시각화: graphviz와 pydot 설치 필요 (graphviz 다운로드하고 설치한 후 pip install pydot)\n",
    "keras.utils.plot_model(model, show_shapes=True, rankdir='BT')"
   ]
  },
  {
   "cell_type": "markdown",
   "metadata": {},
   "source": [
    "### Step 3: Choose the optimizer and the cost function"
   ]
  },
  {
   "cell_type": "code",
   "execution_count": null,
   "metadata": {},
   "outputs": [],
   "source": [
    "# loss, optimizer, metrics 설정\n",
    "model.compile(\n",
    "    loss='mse',\n",
    "    optimizer=keras.optimizers.Adam(), \n",
    "    metrics=[keras.metrics.RootMeanSquaredError(name='rmse')]\n",
    ")"
   ]
  },
  {
   "cell_type": "markdown",
   "metadata": {},
   "source": [
    "### Step 4: Train the model"
   ]
  },
  {
   "cell_type": "markdown",
   "metadata": {},
   "source": [
    "##### Set learning conditions & fit the model "
   ]
  },
  {
   "cell_type": "code",
   "execution_count": null,
   "metadata": {},
   "outputs": [],
   "source": [
    "hist = model.fit(\n",
    "    x=[train.userId, train.movieId],\n",
    "    y=train.rating - mu,\n",
    "    validation_split=0.1,\n",
    "    batch_size=256, \n",
    "    epochs=50, \n",
    "    callbacks=[keras.callbacks.EarlyStopping(monitor='val_loss', patience=5)],\n",
    "    shuffle=False,\n",
    "    verbose=2\n",
    ")"
   ]
  },
  {
   "cell_type": "markdown",
   "metadata": {},
   "source": [
    "##### Visualize training history "
   ]
  },
  {
   "cell_type": "code",
   "execution_count": null,
   "metadata": {},
   "outputs": [],
   "source": [
    "# Plot RMSE\n",
    "\n",
    "plt.plot(hist.history['rmse'], label=\"train\")\n",
    "plt.plot(hist.history['val_rmse'], label=\"valid\")\n",
    "plt.xlabel('epoch')\n",
    "plt.ylabel('RMSE')\n",
    "plt.legend()\n",
    "plt.show()"
   ]
  },
  {
   "cell_type": "markdown",
   "metadata": {},
   "source": [
    "### Step 5: Make predictions"
   ]
  },
  {
   "cell_type": "markdown",
   "metadata": {},
   "source": [
    "##### Evaluate the model"
   ]
  },
  {
   "cell_type": "code",
   "execution_count": null,
   "metadata": {},
   "outputs": [],
   "source": [
    "# 평가데이터에 대한 RMSE 측정\n",
    "\n",
    "y_pred = model.predict([test.userId, test.movieId]) + mu\n",
    "y_pred = y_pred.flatten()\n",
    "y_true = test.rating\n",
    "\n",
    "rmse = np.sqrt(mean_squared_error(y_true, y_pred))\n",
    "print(f'RMSE = {rmse:.3f}')"
   ]
  },
  {
   "cell_type": "markdown",
   "metadata": {},
   "source": [
    "##### Make recommendations"
   ]
  },
  {
   "cell_type": "code",
   "execution_count": null,
   "metadata": {},
   "outputs": [],
   "source": [
    "# Top-N 영화 추천\n",
    "\n",
    "N = 10\n",
    "targetUser = 276\n",
    "\n",
    "# 본 영화 제외\n",
    "seen_movies = ratings.query('userId == @targetUser').movieId.unique()\n",
    "movie_ids = np.array(list(set(ratings.movieId.unique()) - set(seen_movies)))\n",
    "# 평점 예측 대상 영화수만큼 userId 반복\n",
    "user_ids = np.array([targetUser]*len(movie_ids))\n",
    "# 평점 예측\n",
    "predictions = model.predict([user_ids, movie_ids]) + mu\n",
    "\n",
    "# 가장 평점이 높은 N개의 영화를 추천\n",
    "pd.DataFrame({'movieId':movie_ids, 'pred': predictions.flatten()}).sort_values(by='pred', ascending=False).head(N)"
   ]
  },
  {
   "cell_type": "markdown",
   "metadata": {},
   "source": [
    "###  Step 6: Save the model"
   ]
  },
  {
   "cell_type": "code",
   "execution_count": null,
   "metadata": {},
   "outputs": [],
   "source": [
    "# pickle 형식으로 저장\n",
    "# with open('ncf_model.pkl', 'wb') as f:\n",
    "#    pickle.dump(model, f)\n",
    "\n",
    "# 추후 저장한 모형 불러올 때: \n",
    "# model = pd.read_pickle('ncf_model.pkl')"
   ]
  },
  {
   "cell_type": "markdown",
   "metadata": {},
   "source": [
    "<font color=\"#CC3D3D\"><p>\n",
    "# End"
   ]
  }
 ],
 "metadata": {
  "kernelspec": {
   "display_name": "Python 3 (ipykernel)",
   "language": "python",
   "name": "python3"
  },
  "language_info": {
   "codemirror_mode": {
    "name": "ipython",
    "version": 3
   },
   "file_extension": ".py",
   "mimetype": "text/x-python",
   "name": "python",
   "nbconvert_exporter": "python",
   "pygments_lexer": "ipython3",
   "version": "3.9.16"
  }
 },
 "nbformat": 4,
 "nbformat_minor": 4
}
