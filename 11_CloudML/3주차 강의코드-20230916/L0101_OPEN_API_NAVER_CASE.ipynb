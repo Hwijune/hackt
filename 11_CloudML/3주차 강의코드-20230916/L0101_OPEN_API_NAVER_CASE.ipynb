{
 "cells": [
  {
   "cell_type": "code",
   "execution_count": 1,
   "id": "7af11a1f",
   "metadata": {},
   "outputs": [],
   "source": [
    "my_id = 'TClQh6ZS7wtfcy1mexDR'\n",
    "my_key = '_cVKquf3bH'\n",
    "endpoint = 'https://openapi.naver.com/v1/papago/n2mt'"
   ]
  },
  {
   "cell_type": "code",
   "execution_count": 2,
   "id": "13636d10",
   "metadata": {},
   "outputs": [],
   "source": [
    "s = 'ko'\n",
    "t = 'en'\n",
    "txt = '만나서 반갑습니다.'"
   ]
  },
  {
   "cell_type": "code",
   "execution_count": 3,
   "id": "1bdd7388",
   "metadata": {},
   "outputs": [],
   "source": [
    "import urllib"
   ]
  },
  {
   "cell_type": "code",
   "execution_count": 4,
   "id": "9a483408",
   "metadata": {},
   "outputs": [],
   "source": [
    "txt = urllib.parse.quote(txt)"
   ]
  },
  {
   "cell_type": "code",
   "execution_count": 5,
   "id": "0f5b9e52",
   "metadata": {},
   "outputs": [
    {
     "data": {
      "text/plain": [
       "'source=ko&target=en&text=%EB%A7%8C%EB%82%98%EC%84%9C%20%EB%B0%98%EA%B0%91%EC%8A%B5%EB%8B%88%EB%8B%A4.'"
      ]
     },
     "execution_count": 5,
     "metadata": {},
     "output_type": "execute_result"
    }
   ],
   "source": [
    "param = 'source='+s+'&target='+t+'&text='+txt\n",
    "param"
   ]
  },
  {
   "cell_type": "code",
   "execution_count": 6,
   "id": "b041cd16",
   "metadata": {},
   "outputs": [],
   "source": [
    "res = urllib.request.Request(endpoint)\n",
    "res.add_header('X-Naver-Client-Id',my_id)\n",
    "res.add_header('X-Naver-Client-Secret',my_key)\n",
    "response = urllib.request.urlopen(res, data=param.encode('utf-8'))"
   ]
  },
  {
   "cell_type": "code",
   "execution_count": 7,
   "id": "e828295e",
   "metadata": {},
   "outputs": [
    {
     "name": "stdout",
     "output_type": "stream",
     "text": [
      "200\n"
     ]
    }
   ],
   "source": [
    "print(response.getcode())"
   ]
  },
  {
   "cell_type": "code",
   "execution_count": 8,
   "id": "a4f22f88",
   "metadata": {},
   "outputs": [
    {
     "data": {
      "text/plain": [
       "{'message': {'@type': 'response',\n",
       "  '@service': 'naverservice.nmt.proxy',\n",
       "  '@version': '1.0.0',\n",
       "  'result': {'srcLangType': 'ko',\n",
       "   'tarLangType': 'en',\n",
       "   'translatedText': 'Nice to meet you.',\n",
       "   'engineType': 'N2MT',\n",
       "   'pivot': None}}}"
      ]
     },
     "execution_count": 8,
     "metadata": {},
     "output_type": "execute_result"
    }
   ],
   "source": [
    "import json\n",
    "results = json.load(response)\n",
    "results"
   ]
  },
  {
   "cell_type": "code",
   "execution_count": 9,
   "id": "f40984b4",
   "metadata": {},
   "outputs": [
    {
     "data": {
      "text/plain": [
       "'Nice to meet you.'"
      ]
     },
     "execution_count": 9,
     "metadata": {},
     "output_type": "execute_result"
    }
   ],
   "source": [
    "results['message']['result']['translatedText']"
   ]
  },
  {
   "cell_type": "code",
   "execution_count": 10,
   "id": "c07e3ee4",
   "metadata": {},
   "outputs": [
    {
     "data": {
      "text/plain": [
       "'Nice to meet you.'"
      ]
     },
     "execution_count": 10,
     "metadata": {},
     "output_type": "execute_result"
    }
   ],
   "source": [
    "results.get('message').get('result').get('translatedText')"
   ]
  }
 ],
 "metadata": {
  "kernelspec": {
   "display_name": "Python 3 (ipykernel)",
   "language": "python",
   "name": "python3"
  },
  "language_info": {
   "codemirror_mode": {
    "name": "ipython",
    "version": 3
   },
   "file_extension": ".py",
   "mimetype": "text/x-python",
   "name": "python",
   "nbconvert_exporter": "python",
   "pygments_lexer": "ipython3",
   "version": "3.9.6"
  }
 },
 "nbformat": 4,
 "nbformat_minor": 5
}
