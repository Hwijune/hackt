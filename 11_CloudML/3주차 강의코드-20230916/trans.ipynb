{
 "cells": [
  {
   "cell_type": "code",
   "execution_count": 1,
   "id": "66a556c9",
   "metadata": {},
   "outputs": [],
   "source": [
    "from urllib import parse\n",
    "from urllib import request\n",
    "import json"
   ]
  },
  {
   "cell_type": "code",
   "execution_count": 2,
   "id": "6d38aa67",
   "metadata": {},
   "outputs": [],
   "source": [
    "def korean(txt):\n",
    "    my_id = 'TClQh6ZS7wtfcy1mexDR'\n",
    "    my_key = '_cVKquf3bH'\n",
    "    endpoint = 'https://openapi.naver.com/v1/papago/n2mt'\n",
    "    s = 'ko'\n",
    "    t = 'en'\n",
    "    txt = parse.quote(txt)\n",
    "    param = 'source='+s+'&target='+t+'&text='+txt\n",
    "    res = request.Request(endpoint)\n",
    "    res.add_header('X-Naver-Client-Id',my_id)\n",
    "    res.add_header('X-Naver-Client-Secret',my_key)\n",
    "    response = request.urlopen(res, data=param.encode('utf-8'))\n",
    "    results = json.load(response)\n",
    "    return results.get('message').get('result').get('translatedText')"
   ]
  },
  {
   "cell_type": "code",
   "execution_count": 3,
   "id": "e5ca8546",
   "metadata": {},
   "outputs": [
    {
     "name": "stdout",
     "output_type": "stream",
     "text": [
      "번역할 문장을 한글로 입력하세요: 안녕하세요\n",
      "Hello\n"
     ]
    }
   ],
   "source": [
    "if __name__=='__main__':\n",
    "    raw_txt = input('번역할 문장을 한글로 입력하세요: ')\n",
    "    print(korean(raw_txt))"
   ]
  }
 ],
 "metadata": {
  "kernelspec": {
   "display_name": "Python 3 (ipykernel)",
   "language": "python",
   "name": "python3"
  },
  "language_info": {
   "codemirror_mode": {
    "name": "ipython",
    "version": 3
   },
   "file_extension": ".py",
   "mimetype": "text/x-python",
   "name": "python",
   "nbconvert_exporter": "python",
   "pygments_lexer": "ipython3",
   "version": "3.9.6"
  }
 },
 "nbformat": 4,
 "nbformat_minor": 5
}
