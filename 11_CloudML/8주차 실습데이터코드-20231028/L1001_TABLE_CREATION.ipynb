{
 "cells": [
  {
   "cell_type": "code",
   "execution_count": 1,
   "metadata": {},
   "outputs": [],
   "source": [
    "import pymysql"
   ]
  },
  {
   "cell_type": "code",
   "execution_count": 2,
   "metadata": {},
   "outputs": [],
   "source": [
    "#DB 접속\n",
    "host = 'host'\n",
    "port = 3306\n",
    "username = 'username'\n",
    "database = 'production'\n",
    "pw = 'pw'\n",
    "\n",
    "conn = pymysql.connect(host=host, user=username, passwd=pw,\n",
    "                      db=database, port=port,\n",
    "                      use_unicode=True, charset='utf8')\n",
    "cursor = conn.cursor()"
   ]
  },
  {
   "cell_type": "code",
   "execution_count": 3,
   "metadata": {},
   "outputs": [
    {
     "data": {
      "text/plain": [
       "0"
      ]
     },
     "execution_count": 3,
     "metadata": {},
     "output_type": "execute_result"
    }
   ],
   "source": [
    "# Artists Table 생성\n",
    "qur = \"\"\"\n",
    "CREATE TABLE Artists (artist_id     VARCHAR(255), \n",
    "                      name          VARCHAR(255),\n",
    "                      followers     INTEGER,\n",
    "                      popularity    INTEGER,\n",
    "                      url           VARCHAR(255),\n",
    "                      image_url     VARCHAR(255),\n",
    "                      PRIMARY KEY(artist_id));\n",
    "\"\"\"\n",
    "cursor.execute(qur)"
   ]
  },
  {
   "cell_type": "code",
   "execution_count": 4,
   "metadata": {},
   "outputs": [
    {
     "data": {
      "text/plain": [
       "(('Artists',),)"
      ]
     },
     "execution_count": 4,
     "metadata": {},
     "output_type": "execute_result"
    }
   ],
   "source": [
    "# 생성 결과 확인\n",
    "qur = 'SHOW TABLES;'\n",
    "cursor.execute(qur)\n",
    "cursor.fetchall()"
   ]
  },
  {
   "cell_type": "code",
   "execution_count": 5,
   "metadata": {},
   "outputs": [
    {
     "data": {
      "text/plain": [
       "0"
      ]
     },
     "execution_count": 5,
     "metadata": {},
     "output_type": "execute_result"
    }
   ],
   "source": [
    "# Artist_genres Table 생성\n",
    "qur = \"\"\"\n",
    "CREATE TABLE Artist_genres (artist_id     VARCHAR(255), \n",
    "                            genre         VARCHAR(255),\n",
    "                            UNIQUE KEY (artist_id, genre),\n",
    "                            FOREIGN KEY (artist_id) REFERENCES Artists(artist_id) ON DELETE CASCADE);\n",
    "\"\"\"\n",
    "cursor.execute(qur)"
   ]
  },
  {
   "cell_type": "code",
   "execution_count": 6,
   "metadata": {},
   "outputs": [
    {
     "data": {
      "text/plain": [
       "(('Artist_genres',), ('Artists',))"
      ]
     },
     "execution_count": 6,
     "metadata": {},
     "output_type": "execute_result"
    }
   ],
   "source": [
    "# 생성 결과 확인\n",
    "qur = 'SHOW TABLES;'\n",
    "cursor.execute(qur)\n",
    "cursor.fetchall()"
   ]
  },
  {
   "cell_type": "code",
   "execution_count": 7,
   "metadata": {},
   "outputs": [],
   "source": [
    "#DB 접속 해제\n",
    "cursor.close()"
   ]
  }
 ],
 "metadata": {
  "kernelspec": {
   "display_name": "Python 3.10.5 ('my_tf')",
   "language": "python",
   "name": "python3"
  },
  "language_info": {
   "codemirror_mode": {
    "name": "ipython",
    "version": 3
   },
   "file_extension": ".py",
   "mimetype": "text/x-python",
   "name": "python",
   "nbconvert_exporter": "python",
   "pygments_lexer": "ipython3",
   "version": "3.10.5"
  },
  "orig_nbformat": 4,
  "vscode": {
   "interpreter": {
    "hash": "30ca5bf7960386bcc0b4d6d59db7b4a06e7cead9cf5ca74db0050f51292aab4f"
   }
  }
 },
 "nbformat": 4,
 "nbformat_minor": 2
}
