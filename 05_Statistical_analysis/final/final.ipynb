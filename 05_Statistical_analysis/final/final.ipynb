{
 "cells": [
  {
   "cell_type": "code",
   "execution_count": 203,
   "metadata": {},
   "outputs": [
    {
     "data": {
      "text/plain": [
       "'%.3f'"
      ]
     },
     "execution_count": 203,
     "metadata": {},
     "output_type": "execute_result"
    }
   ],
   "source": [
    "import numpy as np\n",
    "import pandas as pd\n",
    "import matplotlib.pyplot as plt\n",
    "import scipy.stats as stats\n",
    "\n",
    "%precision 3"
   ]
  },
  {
   "cell_type": "code",
   "execution_count": 204,
   "metadata": {},
   "outputs": [
    {
     "data": {
      "text/html": [
       "<div>\n",
       "<style scoped>\n",
       "    .dataframe tbody tr th:only-of-type {\n",
       "        vertical-align: middle;\n",
       "    }\n",
       "\n",
       "    .dataframe tbody tr th {\n",
       "        vertical-align: top;\n",
       "    }\n",
       "\n",
       "    .dataframe thead th {\n",
       "        text-align: right;\n",
       "    }\n",
       "</style>\n",
       "<table border=\"1\" class=\"dataframe\">\n",
       "  <thead>\n",
       "    <tr style=\"text-align: right;\">\n",
       "      <th></th>\n",
       "      <th>ID number</th>\n",
       "      <th>Area</th>\n",
       "      <th>Gender</th>\n",
       "      <th>Satisfaction</th>\n",
       "      <th>Salary</th>\n",
       "    </tr>\n",
       "  </thead>\n",
       "  <tbody>\n",
       "    <tr>\n",
       "      <th>0</th>\n",
       "      <td>1</td>\n",
       "      <td>Accounting</td>\n",
       "      <td>Female</td>\n",
       "      <td>3</td>\n",
       "      <td>51</td>\n",
       "    </tr>\n",
       "    <tr>\n",
       "      <th>1</th>\n",
       "      <td>2</td>\n",
       "      <td>Marketing</td>\n",
       "      <td>Female</td>\n",
       "      <td>3</td>\n",
       "      <td>38</td>\n",
       "    </tr>\n",
       "    <tr>\n",
       "      <th>2</th>\n",
       "      <td>3</td>\n",
       "      <td>etc</td>\n",
       "      <td>Female</td>\n",
       "      <td>3</td>\n",
       "      <td>51</td>\n",
       "    </tr>\n",
       "    <tr>\n",
       "      <th>3</th>\n",
       "      <td>4</td>\n",
       "      <td>Accounting</td>\n",
       "      <td>Female</td>\n",
       "      <td>1</td>\n",
       "      <td>52</td>\n",
       "    </tr>\n",
       "    <tr>\n",
       "      <th>4</th>\n",
       "      <td>5</td>\n",
       "      <td>Finance</td>\n",
       "      <td>Female</td>\n",
       "      <td>3</td>\n",
       "      <td>49</td>\n",
       "    </tr>\n",
       "  </tbody>\n",
       "</table>\n",
       "</div>"
      ],
      "text/plain": [
       "   ID number        Area  Gender  Satisfaction  Salary\n",
       "0          1  Accounting  Female             3      51\n",
       "1          2   Marketing  Female             3      38\n",
       "2          3         etc  Female             3      51\n",
       "3          4  Accounting  Female             1      52\n",
       "4          5     Finance  Female             3      49"
      ]
     },
     "execution_count": 204,
     "metadata": {},
     "output_type": "execute_result"
    }
   ],
   "source": [
    "graduate = pd.read_excel('./Graduate.xlsx')\n",
    "graduate.head()"
   ]
  },
  {
   "attachments": {},
   "cell_type": "markdown",
   "metadata": {},
   "source": [
    "1.1) Area에 대한 도수분포와 상대도수분포, 백분율도수분포를 포함한 표를 만들고, 백분율도수분포를 보여주기에 적절한 차트/그래프를 작성하시오"
   ]
  },
  {
   "cell_type": "code",
   "execution_count": 205,
   "metadata": {},
   "outputs": [
    {
     "data": {
      "text/plain": [
       "0      Accounting\n",
       "1       Marketing\n",
       "2             etc\n",
       "3      Accounting\n",
       "4         Finance\n",
       "          ...    \n",
       "248    Accounting\n",
       "249    Management\n",
       "250     Marketing\n",
       "251    Accounting\n",
       "252    Accounting\n",
       "Name: Area, Length: 253, dtype: object"
      ]
     },
     "execution_count": 205,
     "metadata": {},
     "output_type": "execute_result"
    }
   ],
   "source": [
    "areas = graduate['Area']\n",
    "areas"
   ]
  },
  {
   "cell_type": "code",
   "execution_count": 206,
   "metadata": {},
   "outputs": [
    {
     "data": {
      "text/html": [
       "<div>\n",
       "<style scoped>\n",
       "    .dataframe tbody tr th:only-of-type {\n",
       "        vertical-align: middle;\n",
       "    }\n",
       "\n",
       "    .dataframe tbody tr th {\n",
       "        vertical-align: top;\n",
       "    }\n",
       "\n",
       "    .dataframe thead th {\n",
       "        text-align: right;\n",
       "    }\n",
       "</style>\n",
       "<table border=\"1\" class=\"dataframe\">\n",
       "  <thead>\n",
       "    <tr style=\"text-align: right;\">\n",
       "      <th></th>\n",
       "      <th>freq</th>\n",
       "      <th>rel_freq</th>\n",
       "      <th>per_freq</th>\n",
       "    </tr>\n",
       "  </thead>\n",
       "  <tbody>\n",
       "    <tr>\n",
       "      <th>Accounting</th>\n",
       "      <td>73</td>\n",
       "      <td>0.288538</td>\n",
       "      <td>28.9</td>\n",
       "    </tr>\n",
       "    <tr>\n",
       "      <th>Marketing</th>\n",
       "      <td>64</td>\n",
       "      <td>0.252964</td>\n",
       "      <td>25.3</td>\n",
       "    </tr>\n",
       "    <tr>\n",
       "      <th>Finance</th>\n",
       "      <td>52</td>\n",
       "      <td>0.205534</td>\n",
       "      <td>20.6</td>\n",
       "    </tr>\n",
       "    <tr>\n",
       "      <th>Management</th>\n",
       "      <td>36</td>\n",
       "      <td>0.142292</td>\n",
       "      <td>14.2</td>\n",
       "    </tr>\n",
       "    <tr>\n",
       "      <th>etc</th>\n",
       "      <td>28</td>\n",
       "      <td>0.110672</td>\n",
       "      <td>11.1</td>\n",
       "    </tr>\n",
       "  </tbody>\n",
       "</table>\n",
       "</div>"
      ],
      "text/plain": [
       "            freq  rel_freq  per_freq\n",
       "Accounting    73  0.288538      28.9\n",
       "Marketing     64  0.252964      25.3\n",
       "Finance       52  0.205534      20.6\n",
       "Management    36  0.142292      14.2\n",
       "etc           28  0.110672      11.1"
      ]
     },
     "execution_count": 206,
     "metadata": {},
     "output_type": "execute_result"
    }
   ],
   "source": [
    "area, counts = np.unique(areas, return_counts=True)\n",
    "#area, counts\n",
    "\n",
    "#도수\n",
    "column1 = areas.value_counts()\n",
    "#column1\n",
    "\n",
    "# 상대도수\n",
    "n = len(areas)\n",
    "column2 = column1 / n\n",
    "#column2\n",
    "\n",
    "area_table = pd.DataFrame({'freq': column1, 'rel_freq': column2, 'per_freq': round(column2*100,1)})\n",
    "area_table"
   ]
  },
  {
   "cell_type": "code",
   "execution_count": 207,
   "metadata": {},
   "outputs": [
    {
     "data": {
      "image/png": "[encoded data removed]",
      "text/plain": [
       "<Figure size 640x480 with 1 Axes>"
      ]
     },
     "metadata": {},
     "output_type": "display_data"
    }
   ],
   "source": [
    "plt.pie(area_table['per_freq'], labels=area_table.index, autopct='%.1f%%')\n",
    "plt.show;"
   ]
  },
  {
   "attachments": {},
   "cell_type": "markdown",
   "metadata": {},
   "source": [
    "1.2) Salary에 대한 누적도수분포표(누적도수: cum_freq)를 만들고, 누적도수분포를 보여주기에 적절한 차트/그래프를 작성하시오"
   ]
  },
  {
   "cell_type": "code",
   "execution_count": 208,
   "metadata": {},
   "outputs": [
    {
     "data": {
      "text/html": [
       "<div>\n",
       "<style scoped>\n",
       "    .dataframe tbody tr th:only-of-type {\n",
       "        vertical-align: middle;\n",
       "    }\n",
       "\n",
       "    .dataframe tbody tr th {\n",
       "        vertical-align: top;\n",
       "    }\n",
       "\n",
       "    .dataframe thead th {\n",
       "        text-align: right;\n",
       "    }\n",
       "</style>\n",
       "<table border=\"1\" class=\"dataframe\">\n",
       "  <thead>\n",
       "    <tr style=\"text-align: right;\">\n",
       "      <th></th>\n",
       "      <th>cum_freq</th>\n",
       "    </tr>\n",
       "  </thead>\n",
       "  <tbody>\n",
       "    <tr>\n",
       "      <th>0</th>\n",
       "      <td>51</td>\n",
       "    </tr>\n",
       "    <tr>\n",
       "      <th>1</th>\n",
       "      <td>89</td>\n",
       "    </tr>\n",
       "    <tr>\n",
       "      <th>2</th>\n",
       "      <td>140</td>\n",
       "    </tr>\n",
       "    <tr>\n",
       "      <th>3</th>\n",
       "      <td>192</td>\n",
       "    </tr>\n",
       "    <tr>\n",
       "      <th>4</th>\n",
       "      <td>241</td>\n",
       "    </tr>\n",
       "    <tr>\n",
       "      <th>...</th>\n",
       "      <td>...</td>\n",
       "    </tr>\n",
       "    <tr>\n",
       "      <th>248</th>\n",
       "      <td>11727</td>\n",
       "    </tr>\n",
       "    <tr>\n",
       "      <th>249</th>\n",
       "      <td>11776</td>\n",
       "    </tr>\n",
       "    <tr>\n",
       "      <th>250</th>\n",
       "      <td>11824</td>\n",
       "    </tr>\n",
       "    <tr>\n",
       "      <th>251</th>\n",
       "      <td>11878</td>\n",
       "    </tr>\n",
       "    <tr>\n",
       "      <th>252</th>\n",
       "      <td>11923</td>\n",
       "    </tr>\n",
       "  </tbody>\n",
       "</table>\n",
       "<p>253 rows × 1 columns</p>\n",
       "</div>"
      ],
      "text/plain": [
       "     cum_freq\n",
       "0          51\n",
       "1          89\n",
       "2         140\n",
       "3         192\n",
       "4         241\n",
       "..        ...\n",
       "248     11727\n",
       "249     11776\n",
       "250     11824\n",
       "251     11878\n",
       "252     11923\n",
       "\n",
       "[253 rows x 1 columns]"
      ]
     },
     "execution_count": 208,
     "metadata": {},
     "output_type": "execute_result"
    }
   ],
   "source": [
    "salary = graduate['Salary']\n",
    "#salary\n",
    "\n",
    "salary_sumsum = pd.DataFrame({'cum_freq': np.cumsum(graduate['Salary'])})\n",
    "salary_sumsum"
   ]
  },
  {
   "cell_type": "code",
   "execution_count": 212,
   "metadata": {},
   "outputs": [
    {
     "data": {
      "image/png": "[encoded data removed]",
      "text/plain": [
       "<Figure size 640x480 with 1 Axes>"
      ]
     },
     "metadata": {},
     "output_type": "display_data"
    }
   ],
   "source": [
    "x_value = np.arange(0, 11940, 10)\n",
    "hist, edges = np.histogram(salary_sumsum['cum_freq'], bins=x_value)\n",
    "\n",
    "y_value = hist / sum(hist)\n",
    "y_value = np.cumsum(y_value).tolist()\n",
    "\n",
    "y_value.insert(0,0)\n",
    "plt.plot(x_value, y_value, marker='o')\n",
    "plt.show()\n",
    "# y_value = salary_sumsum['cum_freq'].to_list()\n",
    "# # #y_value.insert(0,0)\n",
    "# plt.plot(x_value, y_value, marker='o')\n",
    "\n",
    "# y_value = salary_sumsum['cum_freq'].to_list()\n",
    "# y_value.insert(0,0)\n",
    "# plt.plot(x_value, y_value, marker='o')\n",
    "# plt.show()"
   ]
  },
  {
   "attachments": {},
   "cell_type": "markdown",
   "metadata": {},
   "source": [
    "1.3) Gender 변수의 2가지 값 Female과 Male로 행을 나누고, Satisfaction 변수의 4가지 값 1,2,3,4로 나누어 결합확률분포표를 작성하시오"
   ]
  },
  {
   "cell_type": "code",
   "execution_count": 87,
   "metadata": {},
   "outputs": [
    {
     "data": {
      "text/html": [
       "<div>\n",
       "<style scoped>\n",
       "    .dataframe tbody tr th:only-of-type {\n",
       "        vertical-align: middle;\n",
       "    }\n",
       "\n",
       "    .dataframe tbody tr th {\n",
       "        vertical-align: top;\n",
       "    }\n",
       "\n",
       "    .dataframe thead th {\n",
       "        text-align: right;\n",
       "    }\n",
       "</style>\n",
       "<table border=\"1\" class=\"dataframe\">\n",
       "  <thead>\n",
       "    <tr style=\"text-align: right;\">\n",
       "      <th>Satisfaction</th>\n",
       "      <th>1</th>\n",
       "      <th>2</th>\n",
       "      <th>3</th>\n",
       "      <th>4</th>\n",
       "      <th>Sum</th>\n",
       "    </tr>\n",
       "    <tr>\n",
       "      <th>Gender</th>\n",
       "      <th></th>\n",
       "      <th></th>\n",
       "      <th></th>\n",
       "      <th></th>\n",
       "      <th></th>\n",
       "    </tr>\n",
       "  </thead>\n",
       "  <tbody>\n",
       "    <tr>\n",
       "      <th>Female</th>\n",
       "      <td>0.142292</td>\n",
       "      <td>0.225296</td>\n",
       "      <td>0.126482</td>\n",
       "      <td>0.023715</td>\n",
       "      <td>0.517787</td>\n",
       "    </tr>\n",
       "    <tr>\n",
       "      <th>Male</th>\n",
       "      <td>0.177866</td>\n",
       "      <td>0.177866</td>\n",
       "      <td>0.110672</td>\n",
       "      <td>0.015810</td>\n",
       "      <td>0.482213</td>\n",
       "    </tr>\n",
       "    <tr>\n",
       "      <th>Sum</th>\n",
       "      <td>0.320158</td>\n",
       "      <td>0.403162</td>\n",
       "      <td>0.237154</td>\n",
       "      <td>0.039526</td>\n",
       "      <td>1.000000</td>\n",
       "    </tr>\n",
       "  </tbody>\n",
       "</table>\n",
       "</div>"
      ],
      "text/plain": [
       "Satisfaction         1         2         3         4       Sum\n",
       "Gender                                                        \n",
       "Female        0.142292  0.225296  0.126482  0.023715  0.517787\n",
       "Male          0.177866  0.177866  0.110672  0.015810  0.482213\n",
       "Sum           0.320158  0.403162  0.237154  0.039526  1.000000"
      ]
     },
     "execution_count": 87,
     "metadata": {},
     "output_type": "execute_result"
    }
   ],
   "source": [
    "cross_table = pd.crosstab(index=graduate['Gender'], columns=graduate['Satisfaction'])\n",
    "#cross_table\n",
    "\n",
    "cross_table.loc['Sum'] = cross_table.sum(axis=0)\n",
    "cross_table['Sum'] = cross_table.sum(axis=1)\n",
    "\n",
    "cross_table = cross_table/253\n",
    "cross_table"
   ]
  },
  {
   "attachments": {},
   "cell_type": "markdown",
   "metadata": {},
   "source": [
    "1.4) Gender 변수의 값이 각각 Female과 Male인 경우를 조건으로 할 때, Satisfaction 변수의 값이 각각 1,2,3,4일 조건부 확률을 계산하고, 이 조건부확률을 이용하여 베이즈정리 Satisfcation 변수의 값이 4인경우 Gender의 값이 Female일 확률을 도출하여 제시하세요"
   ]
  },
  {
   "cell_type": "code",
   "execution_count": 96,
   "metadata": {},
   "outputs": [
    {
     "name": "stdout",
     "output_type": "stream",
     "text": [
      "조건부확률계산\n",
      "P(1|남자) =  0.3688535978913882\n",
      "P(2|남자) =  0.3688535978913882\n",
      "P(3|남자) =  0.2295085366839965\n",
      "P(4|남자) =  0.032786341305605614\n",
      "P(1|여자) =  0.27480798088789404\n",
      "P(2|여자) =  0.43511328017119005\n",
      "P(3|여자) =  0.2442741899661444\n",
      "P(4|여자) =  0.045800686382624516\n",
      "\n",
      "베이즈 정리 : Satisfaction이 4인경우, Gender가 Female일 확률\n",
      "P(4) * P(4|여자) =  0.0018103179299596166\n"
     ]
    }
   ],
   "source": [
    "print(\"조건부확률계산\")\n",
    "print(\"P(1|남자) = \", 0.177866/0.482213)\n",
    "print(\"P(2|남자) = \", 0.177866/0.482213)\n",
    "print(\"P(3|남자) = \", 0.110672/0.482213)\n",
    "print(\"P(4|남자) = \", 0.015810/0.482213)\n",
    "print(\"P(1|여자) = \", 0.142292/0.517787)\n",
    "print(\"P(2|여자) = \", 0.225296/0.517787)\n",
    "print(\"P(3|여자) = \", 0.126482/0.517787)\n",
    "print(\"P(4|여자) = \", 0.023715/0.517787)\n",
    "\n",
    "print(\"\")\n",
    "print(\"베이즈 정리 : Satisfaction이 4인경우, Gender가 Female일 확률\")\n",
    "print(\"P(4) * P(4|여자) = \",0.039526 *  (0.023715/0.517787))"
   ]
  },
  {
   "attachments": {},
   "cell_type": "markdown",
   "metadata": {},
   "source": [
    "1.5) 취업 2년차를 맞은 K대학교 경영대학 졸업생이 업무에 만족하지 않는 비율(Satisfaction = 1)은 27%로 알려져있습니다.\n",
    "(5% 유의수준)"
   ]
  },
  {
   "attachments": {},
   "cell_type": "markdown",
   "metadata": {},
   "source": [
    "- 모집단 평균 가설 검정 (분산을 모르는 경우)\n",
    "- 귀무가설 : p = 0.27 (업무에 만족하지 않는 비율은 27%임)\n",
    "- 대립가설 : p != 0.27 (업무에 만족하지 않는 비율은 27%가 아님)"
   ]
  },
  {
   "cell_type": "code",
   "execution_count": 202,
   "metadata": {},
   "outputs": [
    {
     "data": {
      "text/plain": [
       "(253,\n",
       " <scipy.stats._distn_infrastructure.rv_continuous_frozen at 0x7fa208d3e020>,\n",
       " 1.996,\n",
       " 0.847,\n",
       " 27,\n",
       " 0.050)"
      ]
     },
     "execution_count": 202,
     "metadata": {},
     "output_type": "execute_result"
    }
   ],
   "source": [
    "#모집단 평균 가설 검정 (분산을 모르는 경우)\n",
    "n = len(graduate['Satisfaction'])\n",
    "rv_t = stats.t(n-1)\n",
    "x_bar = np.mean(graduate['Satisfaction'])\n",
    "sample_std = np.std(graduate['Satisfaction'], ddof=1)\n",
    "mu_0 = 27\n",
    "alpha = 0.05\n",
    "\n",
    "n, rv_t, x_bar, sample_std, mu_0, alpha"
   ]
  },
  {
   "cell_type": "code",
   "execution_count": 201,
   "metadata": {},
   "outputs": [
    {
     "name": "stdout",
     "output_type": "stream",
     "text": [
      "p_value = 0.0000 < alpha =  0.05 \n",
      "따라서 귀무가설을 기각합니다.\n"
     ]
    }
   ],
   "source": [
    "def t_test_p(n, mu_0, x_bar, sample_std, alpha):\n",
    "    rv_t = stats.t(n-1)\n",
    "    t = (x_bar - mu_0) / (sample_std/np.sqrt(n))\n",
    "    \n",
    "    if t < 0:\n",
    "        p_value = rv_t.cdf(t)\n",
    "    else:\n",
    "        p_value = rv_t.sf(t) #survival function\n",
    "\n",
    "    if(p_value < alpha):\n",
    "        print(f\"p_value = {p_value:.4f} < alpha = {alpha: .2f} \\n따라서 귀무가설을 기각합니다.\")\n",
    "    else:\n",
    "        print(f\"p_value = {p_value:.4f} >= alpha = {alpha: .2f} \\n따라서 귀무가설을 기각하지 않습니다.\")\n",
    "\n",
    "t_test_p(n, mu_0, x_bar, sample_std, alpha)"
   ]
  },
  {
   "attachments": {},
   "cell_type": "markdown",
   "metadata": {},
   "source": [
    "2. K대학교 경영대학원 총동창회에서는 총 600명의 남자 졸업생과 400명의 여자 졸업생 중 10명을 추첨(랜덤 추출)하여 임원단을 구성하기로 했다. 임원단이 우연히 남녀 동수가 될 확률을 계산하세요"
   ]
  },
  {
   "attachments": {},
   "cell_type": "markdown",
   "metadata": {},
   "source": [
    "- 이항분포"
   ]
  },
  {
   "cell_type": "code",
   "execution_count": null,
   "metadata": {},
   "outputs": [
    {
     "ename": "",
     "evalue": "",
     "output_type": "error",
     "traceback": [
      "\u001b[1;31m현재 셀 또는 이전 셀에서 코드를 실행하는 동안 Kernel이 충돌했습니다. 셀의 코드를 검토하여 오류의 가능한 원인을 식별하세요. 자세한 내용을 보려면 <a href='https://aka.ms/vscodeJupyterKernelCrash'> 여기 </a> 를 클릭하세요. 자세한 내용은 Jupyter <a href='command:jupyter.viewOutput'>로그</a>를 참조하세요."
     ]
    },
    {
     "ename": "",
     "evalue": "",
     "output_type": "error",
     "traceback": [
      "\u001b[1;31mCanceled future for execute_request message before replies were done"
     ]
    }
   ],
   "source": [
    "from itertools import permutations, combinations\n",
    "\n",
    "def comb(a,b):\n",
    "    return len(list(combinations(np.arange(0,a), b)))\n",
    "\n",
    "def hyper(n, r, m, x):\n",
    "    return (comb(r, x) * comb(n-r, m-x)) / comb(n, m)\n",
    "\n",
    "n = 600\n",
    "r = 10\n",
    "m = 10\n",
    "x = 0\n",
    "\n",
    "hyper(n, r, m, x)\n",
    "hyper(400, 10, m, x)"
   ]
  },
  {
   "cell_type": "code",
   "execution_count": 191,
   "metadata": {},
   "outputs": [
    {
     "data": {
      "text/plain": [
       "(0.726, 0.655)"
      ]
     },
     "execution_count": 191,
     "metadata": {},
     "output_type": "execute_result"
    }
   ],
   "source": []
  },
  {
   "attachments": {},
   "cell_type": "markdown",
   "metadata": {},
   "source": [
    "3. 주사위를 100번 던져 나온 눈의 평균을 구하는 행위를 1만번 시행합니다. 표본평균의 히스토그램과 꺾은선 그래프를 그리세요"
   ]
  },
  {
   "cell_type": "code",
   "execution_count": 188,
   "metadata": {},
   "outputs": [
    {
     "data": {
      "image/png": "[encoded data removed]",
      "text/plain": [
       "<Figure size 640x480 with 1 Axes>"
      ]
     },
     "metadata": {},
     "output_type": "display_data"
    }
   ],
   "source": [
    "dice = [1,2,3,4,5,6]\n",
    "sample = []\n",
    "means = []\n",
    "\n",
    "for k in np.arange(0, 10000):\n",
    "    for i in np.arange(0, 100):\n",
    "        n = np.random.choice(dice)\n",
    "        sample.append(n)\n",
    "    means.append(np.mean(sample))\n",
    "    sample = []\n",
    "\n",
    "means.sort()\n",
    "\n",
    "hist, edges = np.histogram(means, bins=np.arange(0.85, 7.15, 0.1))\n",
    "dots = edges - 0.05\n",
    "dots = np.delete(dots, 0)\n",
    "\n",
    "plt.plot(dots, hist)\n",
    "plt.hist(means, bins=np.arange(0.85, 7.15, 0.1))\n",
    "plt.show()"
   ]
  },
  {
   "attachments": {},
   "cell_type": "markdown",
   "metadata": {},
   "source": [
    "4) LCL, UCL"
   ]
  },
  {
   "cell_type": "code",
   "execution_count": 169,
   "metadata": {},
   "outputs": [
    {
     "data": {
      "text/html": [
       "<div>\n",
       "<style scoped>\n",
       "    .dataframe tbody tr th:only-of-type {\n",
       "        vertical-align: middle;\n",
       "    }\n",
       "\n",
       "    .dataframe tbody tr th {\n",
       "        vertical-align: top;\n",
       "    }\n",
       "\n",
       "    .dataframe thead th {\n",
       "        text-align: right;\n",
       "    }\n",
       "</style>\n",
       "<table border=\"1\" class=\"dataframe\">\n",
       "  <thead>\n",
       "    <tr style=\"text-align: right;\">\n",
       "      <th></th>\n",
       "      <th>Weights</th>\n",
       "    </tr>\n",
       "  </thead>\n",
       "  <tbody>\n",
       "    <tr>\n",
       "      <th>0</th>\n",
       "      <td>1.05</td>\n",
       "    </tr>\n",
       "    <tr>\n",
       "      <th>1</th>\n",
       "      <td>1.03</td>\n",
       "    </tr>\n",
       "    <tr>\n",
       "      <th>2</th>\n",
       "      <td>0.98</td>\n",
       "    </tr>\n",
       "    <tr>\n",
       "      <th>3</th>\n",
       "      <td>1.00</td>\n",
       "    </tr>\n",
       "    <tr>\n",
       "      <th>4</th>\n",
       "      <td>0.99</td>\n",
       "    </tr>\n",
       "    <tr>\n",
       "      <th>5</th>\n",
       "      <td>0.97</td>\n",
       "    </tr>\n",
       "    <tr>\n",
       "      <th>6</th>\n",
       "      <td>1.01</td>\n",
       "    </tr>\n",
       "    <tr>\n",
       "      <th>7</th>\n",
       "      <td>0.96</td>\n",
       "    </tr>\n",
       "  </tbody>\n",
       "</table>\n",
       "</div>"
      ],
      "text/plain": [
       "   Weights\n",
       "0     1.05\n",
       "1     1.03\n",
       "2     0.98\n",
       "3     1.00\n",
       "4     0.99\n",
       "5     0.97\n",
       "6     1.01\n",
       "7     0.96"
      ]
     },
     "execution_count": 169,
     "metadata": {},
     "output_type": "execute_result"
    }
   ],
   "source": [
    "b_df = pd.read_excel('./Boxes.xlsx')\n",
    "b_weights = np.array(b_df['Weights'])\n",
    "b_df"
   ]
  },
  {
   "cell_type": "code",
   "execution_count": 170,
   "metadata": {},
   "outputs": [
    {
     "data": {
      "text/plain": [
       "(0.999, 0.030, 0.011)"
      ]
     },
     "execution_count": 170,
     "metadata": {},
     "output_type": "execute_result"
    }
   ],
   "source": [
    "n = len(b_weights)\n",
    "rv_t = stats.t(df = n-1)\n",
    "xbar = np.mean(b_weights)\n",
    "sample_std = np.std(b_weights, ddof=1)\n",
    "se = sample_std / np.sqrt(n)\n",
    "\n",
    "xbar, sample_std, se"
   ]
  },
  {
   "cell_type": "code",
   "execution_count": 171,
   "metadata": {},
   "outputs": [
    {
     "data": {
      "text/plain": [
       "0.025"
      ]
     },
     "execution_count": 171,
     "metadata": {},
     "output_type": "execute_result"
    }
   ],
   "source": [
    "e = rv_t.isf(0.025) * se\n",
    "e"
   ]
  },
  {
   "cell_type": "code",
   "execution_count": 172,
   "metadata": {},
   "outputs": [
    {
     "data": {
      "text/plain": [
       "(0.973, 1.024)"
      ]
     },
     "execution_count": 172,
     "metadata": {},
     "output_type": "execute_result"
    }
   ],
   "source": [
    "lcl = xbar - e\n",
    "ucl = xbar + e\n",
    "\n",
    "lcl, ucl"
   ]
  }
 ],
 "metadata": {
  "kernelspec": {
   "display_name": "Python 3 (ipykernel)",
   "language": "python",
   "name": "python3"
  },
  "language_info": {
   "codemirror_mode": {
    "name": "ipython",
    "version": 3
   },
   "file_extension": ".py",
   "mimetype": "text/x-python",
   "name": "python",
   "nbconvert_exporter": "python",
   "pygments_lexer": "ipython3",
   "version": "3.10.6"
  },
  "orig_nbformat": 4
 },
 "nbformat": 4,
 "nbformat_minor": 2
}
