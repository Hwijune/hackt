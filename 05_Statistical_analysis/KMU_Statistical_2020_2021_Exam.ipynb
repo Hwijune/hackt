{
 "cells": [
  {
   "attachments": {},
   "cell_type": "markdown",
   "metadata": {},
   "source": [
    "# 2020 출제문제 수정본"
   ]
  },
  {
   "attachments": {},
   "cell_type": "markdown",
   "metadata": {},
   "source": [
    "##### 문제1. 주어진 PGATour.xlsx 파일은 프로골프 선수들의 역대 상금, 그리고 비거리와 점수평균 등 경기 내 통계값을 정리한 데이터이다."
   ]
  },
  {
   "cell_type": "code",
   "execution_count": null,
   "metadata": {
    "vscode": {
     "languageId": "python"
    }
   },
   "outputs": [
    {
     "data": {
      "text/plain": [
       "'%.3f'"
      ]
     },
     "metadata": {},
     "output_type": "display_data"
    }
   ],
   "source": [
    "import numpy as np\n",
    "import pandas as pd\n",
    "import matplotlib.pyplot as plt\n",
    "import scipy.stats as stats\n",
    "\n",
    "%precision 3"
   ]
  },
  {
   "cell_type": "code",
   "execution_count": null,
   "metadata": {
    "vscode": {
     "languageId": "python"
    }
   },
   "outputs": [
    {
     "data": {
      "text/html": [
       "<div>\n",
       "<style scoped>\n",
       "    .dataframe tbody tr th:only-of-type {\n",
       "        vertical-align: middle;\n",
       "    }\n",
       "\n",
       "    .dataframe tbody tr th {\n",
       "        vertical-align: top;\n",
       "    }\n",
       "\n",
       "    .dataframe thead th {\n",
       "        text-align: right;\n",
       "    }\n",
       "</style>\n",
       "<table border=\"1\" class=\"dataframe\">\n",
       "  <thead>\n",
       "    <tr style=\"text-align: right;\">\n",
       "      <th></th>\n",
       "      <th>Rank</th>\n",
       "      <th>Player</th>\n",
       "      <th>Money ($)</th>\n",
       "      <th>Scoring Average</th>\n",
       "      <th>DrDist</th>\n",
       "      <th>DrAccu</th>\n",
       "      <th>GIR</th>\n",
       "    </tr>\n",
       "  </thead>\n",
       "  <tbody>\n",
       "    <tr>\n",
       "      <th>0</th>\n",
       "      <td>1</td>\n",
       "      <td>Vijay Singh</td>\n",
       "      <td>6601.094</td>\n",
       "      <td>70.27</td>\n",
       "      <td>297.8</td>\n",
       "      <td>59.45</td>\n",
       "      <td>68.45</td>\n",
       "    </tr>\n",
       "    <tr>\n",
       "      <th>1</th>\n",
       "      <td>2</td>\n",
       "      <td>Phil Mickelson</td>\n",
       "      <td>5188.875</td>\n",
       "      <td>70.28</td>\n",
       "      <td>295.7</td>\n",
       "      <td>55.27</td>\n",
       "      <td>65.81</td>\n",
       "    </tr>\n",
       "    <tr>\n",
       "      <th>2</th>\n",
       "      <td>3</td>\n",
       "      <td>Sergio Garcia</td>\n",
       "      <td>4858.224</td>\n",
       "      <td>70.60</td>\n",
       "      <td>294.6</td>\n",
       "      <td>59.39</td>\n",
       "      <td>67.06</td>\n",
       "    </tr>\n",
       "    <tr>\n",
       "      <th>3</th>\n",
       "      <td>4</td>\n",
       "      <td>Kenny Perry</td>\n",
       "      <td>4663.794</td>\n",
       "      <td>70.21</td>\n",
       "      <td>296.0</td>\n",
       "      <td>61.97</td>\n",
       "      <td>67.47</td>\n",
       "    </tr>\n",
       "    <tr>\n",
       "      <th>4</th>\n",
       "      <td>5</td>\n",
       "      <td>Anthony Kim</td>\n",
       "      <td>4656.265</td>\n",
       "      <td>70.22</td>\n",
       "      <td>300.9</td>\n",
       "      <td>58.34</td>\n",
       "      <td>65.78</td>\n",
       "    </tr>\n",
       "  </tbody>\n",
       "</table>\n",
       "</div>"
      ],
      "text/plain": [
       "   Rank          Player  Money ($)  Scoring Average  DrDist  DrAccu    GIR\n",
       "0     1     Vijay Singh   6601.094            70.27   297.8   59.45  68.45\n",
       "1     2  Phil Mickelson   5188.875            70.28   295.7   55.27  65.81\n",
       "2     3   Sergio Garcia   4858.224            70.60   294.6   59.39  67.06\n",
       "3     4     Kenny Perry   4663.794            70.21   296.0   61.97  67.47\n",
       "4     5     Anthony Kim   4656.265            70.22   300.9   58.34  65.78"
      ]
     },
     "metadata": {},
     "output_type": "display_data"
    }
   ],
   "source": [
    "tour = pd.read_excel('./PGATour.xlsx')\n",
    "tour.head()"
   ]
  },
  {
   "attachments": {},
   "cell_type": "markdown",
   "metadata": {},
   "source": [
    "1) 선수들의 상금 (데이터의 Money($) 열) 데이터를 불러온 뒤 히스토그램을 그리시오. (단, 계급은 0부터 8000까지 1000간격으로 총 8개로 나눔)"
   ]
  },
  {
   "cell_type": "code",
   "execution_count": null,
   "metadata": {
    "vscode": {
     "languageId": "python"
    }
   },
   "outputs": [
    {
     "data": {
      "image/png": "[encoded data removed]",
      "text/plain": [
       "<Figure size 432x288 with 1 Axes>"
      ]
     },
     "metadata": {},
     "output_type": "display_data"
    }
   ],
   "source": [
    "money = tour['Money ($)']\n",
    "plt.hist(money, bins = np.arange(0,9000,1000))\n",
    "plt.show()"
   ]
  },
  {
   "attachments": {},
   "cell_type": "markdown",
   "metadata": {},
   "source": [
    "2) 선수들의 상금의 히스토그램과 누적도수의 꺽은선그래프(ogive)를 함께 그리시오. (단, 계급은 0부터 8000까지 1000 간격으로 총 20개로 나눔. Ogive의 점 위치는 계급의 시작값으로 하세요.)"
   ]
  },
  {
   "cell_type": "code",
   "execution_count": null,
   "metadata": {
    "vscode": {
     "languageId": "python"
    }
   },
   "outputs": [
    {
     "data": {
      "image/png": "[encoded data removed]",
      "text/plain": [
       "<Figure size 432x288 with 1 Axes>"
      ]
     },
     "metadata": {},
     "output_type": "display_data"
    }
   ],
   "source": [
    "x_value = np.arange(0, 9000, 1000)\n",
    "hist, edges = np.histogram(money, bins=x_value)\n",
    "y_value = hist / sum(hist)\n",
    "y_value = np.cumsum(y_value).tolist()\n",
    "y_value.insert(0,0)\n",
    "plt.plot(x_value, y_value, marker='o')\n",
    "plt.show()"
   ]
  },
  {
   "attachments": {},
   "cell_type": "markdown",
   "metadata": {},
   "source": [
    "##### 문제2. 주어진 SalesSalary.xlsx 파일은 직원들의 연봉과 직책, 경력을 정리한 데이터이다. (단, 파일에 들은 데이터가 직원 전체, 즉 모집단이라 가정한다.)"
   ]
  },
  {
   "cell_type": "code",
   "execution_count": null,
   "metadata": {
    "vscode": {
     "languageId": "python"
    }
   },
   "outputs": [
    {
     "data": {
      "text/html": [
       "<div>\n",
       "<style scoped>\n",
       "    .dataframe tbody tr th:only-of-type {\n",
       "        vertical-align: middle;\n",
       "    }\n",
       "\n",
       "    .dataframe tbody tr th {\n",
       "        vertical-align: top;\n",
       "    }\n",
       "\n",
       "    .dataframe thead th {\n",
       "        text-align: right;\n",
       "    }\n",
       "</style>\n",
       "<table border=\"1\" class=\"dataframe\">\n",
       "  <thead>\n",
       "    <tr style=\"text-align: right;\">\n",
       "      <th></th>\n",
       "      <th>Observation</th>\n",
       "      <th>Salary ($)</th>\n",
       "      <th>Position</th>\n",
       "      <th>Experience</th>\n",
       "    </tr>\n",
       "  </thead>\n",
       "  <tbody>\n",
       "    <tr>\n",
       "      <th>0</th>\n",
       "      <td>1</td>\n",
       "      <td>53938</td>\n",
       "      <td>Inside</td>\n",
       "      <td>Medium</td>\n",
       "    </tr>\n",
       "    <tr>\n",
       "      <th>1</th>\n",
       "      <td>2</td>\n",
       "      <td>52694</td>\n",
       "      <td>Inside</td>\n",
       "      <td>Medium</td>\n",
       "    </tr>\n",
       "    <tr>\n",
       "      <th>2</th>\n",
       "      <td>3</td>\n",
       "      <td>70515</td>\n",
       "      <td>Outside</td>\n",
       "      <td>Low</td>\n",
       "    </tr>\n",
       "    <tr>\n",
       "      <th>3</th>\n",
       "      <td>4</td>\n",
       "      <td>52031</td>\n",
       "      <td>Inside</td>\n",
       "      <td>Medium</td>\n",
       "    </tr>\n",
       "    <tr>\n",
       "      <th>4</th>\n",
       "      <td>5</td>\n",
       "      <td>62283</td>\n",
       "      <td>Outside</td>\n",
       "      <td>Low</td>\n",
       "    </tr>\n",
       "  </tbody>\n",
       "</table>\n",
       "</div>"
      ],
      "text/plain": [
       "   Observation  Salary ($) Position Experience\n",
       "0            1       53938   Inside     Medium\n",
       "1            2       52694   Inside     Medium\n",
       "2            3       70515  Outside        Low\n",
       "3            4       52031   Inside     Medium\n",
       "4            5       62283  Outside        Low"
      ]
     },
     "metadata": {},
     "output_type": "display_data"
    }
   ],
   "source": [
    "salary_pd = pd.read_excel('./SalesSalary.xlsx')\n",
    "salary_pd.head()"
   ]
  },
  {
   "attachments": {},
   "cell_type": "markdown",
   "metadata": {},
   "source": [
    "5) 연봉 (데이터의 Salary ($) 열) 의 모분산을 구하시오."
   ]
  },
  {
   "cell_type": "code",
   "execution_count": null,
   "metadata": {
    "vscode": {
     "languageId": "python"
    }
   },
   "outputs": [
    {
     "data": {
      "text/plain": [
       "116497858.266"
      ]
     },
     "metadata": {},
     "output_type": "display_data"
    }
   ],
   "source": [
    "salary = salary_pd['Salary ($)']\n",
    "p_var = salary.var(ddof=0)\n",
    "p_var"
   ]
  },
  {
   "attachments": {},
   "cell_type": "markdown",
   "metadata": {},
   "source": [
    "6) Seed를 2023으로 고정하고 (코드 안에 random.seed(2023)라고 입력한 부분), 표본크기가 20인 표본의 표본평균을 구하시오."
   ]
  },
  {
   "cell_type": "code",
   "execution_count": null,
   "metadata": {
    "vscode": {
     "languageId": "python"
    }
   },
   "outputs": [
    {
     "data": {
      "text/plain": [
       "64062.250"
      ]
     },
     "metadata": {},
     "output_type": "display_data"
    }
   ],
   "source": [
    "np.random.seed(2023)\n",
    "sample = np.random.choice(salary, 20)\n",
    "s_mean = np.mean(sample)\n",
    "s_mean"
   ]
  },
  {
   "attachments": {},
   "cell_type": "markdown",
   "metadata": {},
   "source": [
    "7) 모집단평균에 대한 95% 신뢰구간을 구하시오."
   ]
  },
  {
   "cell_type": "code",
   "execution_count": null,
   "metadata": {
    "vscode": {
     "languageId": "python"
    }
   },
   "outputs": [
    {
     "data": {
      "text/plain": [
       "(59331.913, 68792.587)"
      ]
     },
     "metadata": {},
     "output_type": "display_data"
    }
   ],
   "source": [
    "n = 20\n",
    "rv = stats.norm()\n",
    "lcl = s_mean - rv.isf(0.025) * np.sqrt(p_var/n)\n",
    "ucl = s_mean - rv.isf(0.975) * np.sqrt(p_var/n)\n",
    "\n",
    "lcl, ucl"
   ]
  },
  {
   "attachments": {},
   "cell_type": "markdown",
   "metadata": {},
   "source": [
    "# 2021 출제문제 수정본"
   ]
  },
  {
   "attachments": {},
   "cell_type": "markdown",
   "metadata": {},
   "source": [
    "##### 문제1. 주어진 Morningstar.xlsx 파일은 펀드들의 순자산가치, 5년 간 평균 수익률, 운용 수수료 등의 통계를 정리한 데이터입니다. 해당 데이터를 이용해 제시된 조건에 맞추어 코드를 작성하세요."
   ]
  },
  {
   "cell_type": "code",
   "execution_count": 1,
   "metadata": {
    "vscode": {
     "languageId": "python"
    }
   },
   "outputs": [
    {
     "data": {
      "text/plain": [
       "'%.3f'"
      ]
     },
     "execution_count": 1,
     "metadata": {},
     "output_type": "execute_result"
    }
   ],
   "source": [
    "import numpy as np\n",
    "import pandas as pd\n",
    "import matplotlib.pyplot as plt\n",
    "from scipy import stats\n",
    "%precision 3"
   ]
  },
  {
   "cell_type": "code",
   "execution_count": 2,
   "metadata": {
    "vscode": {
     "languageId": "python"
    }
   },
   "outputs": [
    {
     "data": {
      "text/html": [
       "<div>\n",
       "<style scoped>\n",
       "    .dataframe tbody tr th:only-of-type {\n",
       "        vertical-align: middle;\n",
       "    }\n",
       "\n",
       "    .dataframe tbody tr th {\n",
       "        vertical-align: top;\n",
       "    }\n",
       "\n",
       "    .dataframe thead th {\n",
       "        text-align: right;\n",
       "    }\n",
       "</style>\n",
       "<table border=\"1\" class=\"dataframe\">\n",
       "  <thead>\n",
       "    <tr style=\"text-align: right;\">\n",
       "      <th></th>\n",
       "      <th>Fund Name</th>\n",
       "      <th>Net Asset Value</th>\n",
       "      <th>5 Year Average Return</th>\n",
       "      <th>Expense Ratio</th>\n",
       "    </tr>\n",
       "  </thead>\n",
       "  <tbody>\n",
       "    <tr>\n",
       "      <th>0</th>\n",
       "      <td>American Century Intl. Disc</td>\n",
       "      <td>14.37</td>\n",
       "      <td>30.53</td>\n",
       "      <td>1.41</td>\n",
       "    </tr>\n",
       "    <tr>\n",
       "      <th>1</th>\n",
       "      <td>American Century Tax-Free Bond</td>\n",
       "      <td>10.73</td>\n",
       "      <td>3.34</td>\n",
       "      <td>0.49</td>\n",
       "    </tr>\n",
       "    <tr>\n",
       "      <th>2</th>\n",
       "      <td>American Century Ultra</td>\n",
       "      <td>24.94</td>\n",
       "      <td>10.88</td>\n",
       "      <td>0.99</td>\n",
       "    </tr>\n",
       "    <tr>\n",
       "      <th>3</th>\n",
       "      <td>Artisan Small Cap</td>\n",
       "      <td>16.92</td>\n",
       "      <td>15.67</td>\n",
       "      <td>1.18</td>\n",
       "    </tr>\n",
       "    <tr>\n",
       "      <th>4</th>\n",
       "      <td>Brown Cap Small</td>\n",
       "      <td>35.73</td>\n",
       "      <td>15.85</td>\n",
       "      <td>1.20</td>\n",
       "    </tr>\n",
       "  </tbody>\n",
       "</table>\n",
       "</div>"
      ],
      "text/plain": [
       "                        Fund Name  Net Asset Value  5 Year Average Return  \\\n",
       "0     American Century Intl. Disc            14.37                  30.53   \n",
       "1  American Century Tax-Free Bond            10.73                   3.34   \n",
       "2          American Century Ultra            24.94                  10.88   \n",
       "3               Artisan Small Cap            16.92                  15.67   \n",
       "4                Brown Cap Small             35.73                  15.85   \n",
       "\n",
       "   Expense Ratio  \n",
       "0           1.41  \n",
       "1           0.49  \n",
       "2           0.99  \n",
       "3           1.18  \n",
       "4           1.20  "
      ]
     },
     "execution_count": 2,
     "metadata": {},
     "output_type": "execute_result"
    }
   ],
   "source": [
    "df = pd.read_excel('./Morningstar.xlsx')\n",
    "df.head()"
   ]
  },
  {
   "attachments": {},
   "cell_type": "markdown",
   "metadata": {},
   "source": [
    "1) 순자산가치와 5년간 평균 수익률 간의 관계를 보여주는 산점도를 그리세요."
   ]
  },
  {
   "cell_type": "code",
   "execution_count": 8,
   "metadata": {
    "vscode": {
     "languageId": "python"
    }
   },
   "outputs": [
    {
     "data": {
      "image/png": "[encoded data removed]",
      "text/plain": [
       "<Figure size 432x288 with 1 Axes>"
      ]
     },
     "metadata": {
      "needs_background": "light"
     },
     "output_type": "display_data"
    }
   ],
   "source": [
    "plt.scatter(df['Net Asset Value'], df['5 Year Average Return'])\n",
    "plt.xlabel('net_asset')\n",
    "plt.ylabel('five_year_average')\n",
    "plt.show()"
   ]
  },
  {
   "attachments": {},
   "cell_type": "markdown",
   "metadata": {},
   "source": [
    "##### 문제2.주어진 MetAreas.xlsx 파일은 미국 주요 도시들의 평점(Rating)을 모은 것입니다.(단, 파일에 들은 데이터가 미국 도시들의 전부, 즉 모집단이라 가정)"
   ]
  },
  {
   "cell_type": "code",
   "execution_count": 10,
   "metadata": {
    "vscode": {
     "languageId": "python"
    }
   },
   "outputs": [
    {
     "name": "stdout",
     "output_type": "stream",
     "text": [
      "  Metropolitan Area  Rating\n",
      "0        Albany, NY   64.18\n",
      "1   Albuquerque, NM   66.16\n",
      "2      Appleton, WI   60.56\n",
      "3       Atlanta, GA   69.97\n",
      "4        Austin, TX   71.48\n"
     ]
    },
    {
     "data": {
      "text/plain": [
       "array([64.18, 66.16, 60.56, 69.97, 71.48])"
      ]
     },
     "execution_count": 10,
     "metadata": {},
     "output_type": "execute_result"
    }
   ],
   "source": [
    "df = pd.read_excel('./MetAreas.xlsx')\n",
    "print(df.head())\n",
    "rating = np.array(df['Rating'])\n",
    "rating[:5]"
   ]
  },
  {
   "attachments": {},
   "cell_type": "markdown",
   "metadata": {},
   "source": [
    "1) 순자산가치와 5년간 평균 수익률 간의 관계를 보여주는 산점도를 그리세요."
   ]
  },
  {
   "cell_type": "code",
   "execution_count": 11,
   "metadata": {
    "vscode": {
     "languageId": "python"
    }
   },
   "outputs": [
    {
     "name": "stdout",
     "output_type": "stream",
     "text": [
      "67.5992 16.33376736\n"
     ]
    }
   ],
   "source": [
    "p_var = rating.var(ddof=0)\n",
    "p_mean = rating.mean()\n",
    "\n",
    "print(p_mean, p_var)"
   ]
  },
  {
   "attachments": {},
   "cell_type": "markdown",
   "metadata": {},
   "source": [
    "2) Seed를 2023 으로 고정하고, 표본크기가 10인 표본의 표본평균과 표본분산을 구하세요."
   ]
  },
  {
   "cell_type": "code",
   "execution_count": 12,
   "metadata": {
    "vscode": {
     "languageId": "python"
    }
   },
   "outputs": [
    {
     "name": "stdout",
     "output_type": "stream",
     "text": [
      "67.499 13.8214988888889\n"
     ]
    }
   ],
   "source": [
    "np.random.seed(2023)\n",
    "n = 10\n",
    "sample = np.random.choice(rating, n)\n",
    "s_var = sample.var(ddof=1)\n",
    "s_mean = sample.mean()\n",
    "\n",
    "print(s_mean, s_var)"
   ]
  },
  {
   "attachments": {},
   "cell_type": "markdown",
   "metadata": {},
   "source": [
    "3) 표본크기 10인 표본 1000개를 추출하여 구한 표본평균의 히스토그램을 그리세요. (조건: 계급 간격은 1로, 가장 작은 계급의 하한을 60, 가장 큰 계급의 상한을 80으로 하세요)"
   ]
  },
  {
   "cell_type": "code",
   "execution_count": 13,
   "metadata": {
    "vscode": {
     "languageId": "python"
    }
   },
   "outputs": [
    {
     "data": {
      "image/png": "[encoded data removed]",
      "text/plain": [
       "<Figure size 432x288 with 1 Axes>"
      ]
     },
     "metadata": {
      "needs_background": "light"
     },
     "output_type": "display_data"
    }
   ],
   "source": [
    "sample = []\n",
    "means = []\n",
    "\n",
    "for k in np.arange(0, 1000):\n",
    "    for i in np.arange(0, 10):\n",
    "        n = np.random.choice(rating)\n",
    "        sample.append(n)\n",
    "    means.append(np.mean(sample))\n",
    "    sample = []\n",
    "    \n",
    "plt.hist(means, bins=np.arange(60, 80, 1))\n",
    "plt.show()"
   ]
  },
  {
   "attachments": {},
   "cell_type": "markdown",
   "metadata": {},
   "source": [
    "4) 모집단평균에 대한 95% 신뢰구간을 구하세요. 표본크기는 위와 같이 10입니다."
   ]
  },
  {
   "cell_type": "code",
   "execution_count": 14,
   "metadata": {
    "vscode": {
     "languageId": "python"
    }
   },
   "outputs": [
    {
     "data": {
      "text/plain": [
       "(66.525, 68.473)"
      ]
     },
     "execution_count": 14,
     "metadata": {},
     "output_type": "execute_result"
    }
   ],
   "source": [
    "rv = stats.norm()\n",
    "\n",
    "lcl = s_mean - rv.isf(0.025) * np.sqrt(p_var/n)\n",
    "ucl = s_mean - rv.isf(0.975) * np.sqrt(p_var/n)\n",
    "\n",
    "lcl, ucl"
   ]
  },
  {
   "attachments": {},
   "cell_type": "markdown",
   "metadata": {},
   "source": [
    "##### 문제3. 주어진 Coffee.xlsx 파일은 한 커피 공장에서 생산된 커피 한 봉지의 무게(Weight) 표본 데이터입니다."
   ]
  },
  {
   "cell_type": "code",
   "execution_count": 15,
   "metadata": {
    "vscode": {
     "languageId": "python"
    }
   },
   "outputs": [
    {
     "data": {
      "text/plain": [
       "array([3.15, 2.76, 3.18, 2.77, 2.86, 2.66, 2.86, 2.54, 3.02, 3.13, 2.94,\n",
       "       2.74, 2.84, 2.6 , 2.94, 2.93, 3.18, 2.95, 2.86, 2.91, 2.96, 3.14,\n",
       "       2.65, 2.77, 2.96, 3.1 , 2.82, 3.05, 2.94, 2.82, 3.21, 3.11, 2.9 ,\n",
       "       3.05, 2.93, 2.89])"
      ]
     },
     "execution_count": 15,
     "metadata": {},
     "output_type": "execute_result"
    }
   ],
   "source": [
    "df = pd.read_excel('./Coffee.xlsx')\n",
    "coffee = np.array(df['Weight'])\n",
    "coffee"
   ]
  },
  {
   "attachments": {},
   "cell_type": "markdown",
   "metadata": {},
   "source": [
    "1) 이 커피공장에서는 커피 한 봉지의 무게를 3kg 에 맞추려 합니다. 표본 데이터를 이용하여 적합한 가설을 세워 유의수준 5% 로 검정하세요."
   ]
  },
  {
   "attachments": {},
   "cell_type": "markdown",
   "metadata": {},
   "source": [
    "$$ 귀무가설 : 커피 한 봉지의 평균 무게는 3kg 이다. $$\n",
    "\n",
    "$$ H_0 : \\mu = 3 $$"
   ]
  },
  {
   "attachments": {},
   "cell_type": "markdown",
   "metadata": {},
   "source": [
    "2. 조건 1. 귀무가설을 글이나 수식으로 작성입력하세요"
   ]
  },
  {
   "cell_type": "code",
   "execution_count": 16,
   "metadata": {
    "vscode": {
     "languageId": "python"
    }
   },
   "outputs": [
    {
     "name": "stdout",
     "output_type": "stream",
     "text": [
      "p_value = 0.0078 < alpha = 0.05 입니다.            \n",
      "따라서 귀무가설을 기각합니다.\n"
     ]
    }
   ],
   "source": [
    "def pmean_test(sample, mean0, alpha=0.05):\n",
    "    s_mean = np.mean(sample)\n",
    "    u_var = np.var(sample, ddof=1)\n",
    "    n = len(sample)\n",
    "    rv = stats.t(df=n-1)\n",
    "    \n",
    "    t = (s_mean - mean0) / np.sqrt(u_var/n)\n",
    "    \n",
    "    if t < 0:\n",
    "        p_value = rv.cdf(t) * 2\n",
    "    else:\n",
    "        p_value = rv.sf(t) * 2\n",
    "        \n",
    "    if p_value < alpha:\n",
    "        print(f'p_value = {p_value:.4f} < alpha = {alpha:.2f} 입니다.\\\n",
    "            \\n따라서 귀무가설을 기각합니다.')\n",
    "    else:\n",
    "        print(f'p_value = {p_value:.4f} >= alpha = {alpha:.2f} 입니다.\\\n",
    "            \\n따라서 귀무가설을 기각하지 않습니다.')\n",
    "        \n",
    "pmean_test(coffee, 3)"
   ]
  },
  {
   "attachments": {},
   "cell_type": "markdown",
   "metadata": {},
   "source": [
    "3) 위 가설 검정결과를 문제상황에 적용하여 구체적으로 설명하고, 그 내용을 텍스트로 작성, 입력하세요"
   ]
  },
  {
   "attachments": {},
   "cell_type": "markdown",
   "metadata": {},
   "source": [
    "(커피 한 봉지의 평균 무게는 3kg 이라는 귀무가설이 기각되었으므로) 이 커피 공장에서는 커피 한 봉지의 평균 무게를 3kg에 맞추지 못하고 있다."
   ]
  }
 ],
 "metadata": {
  "kernelspec": {
   "display_name": "Python 3 (ipykernel)",
   "language": "python",
   "name": "python3"
  },
  "orig_nbformat": 4,
  "vscode": {
   "interpreter": {
    "hash": "7a771907b6f26ff6e56c53897a61e58a0a4865cd6550ea6e0817c450bc043c72"
   }
  }
 },
 "nbformat": 4,
 "nbformat_minor": 2
}
