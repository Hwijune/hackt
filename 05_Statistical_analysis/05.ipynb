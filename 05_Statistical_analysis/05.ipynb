{
 "cells": [
  {
   "cell_type": "code",
   "execution_count": 1,
   "metadata": {},
   "outputs": [
    {
     "data": {
      "text/plain": [
       "'%.3f'"
      ]
     },
     "execution_count": 1,
     "metadata": {},
     "output_type": "execute_result"
    }
   ],
   "source": [
    "import numpy as np\n",
    "import pandas as pd\n",
    "import scipy.stats as stats\n",
    "import matplotlib.pyplot as plt\n",
    "from itertools import product\n",
    "\n",
    "%precision 3"
   ]
  },
  {
   "attachments": {},
   "cell_type": "markdown",
   "metadata": {},
   "source": [
    "모분포"
   ]
  },
  {
   "cell_type": "code",
   "execution_count": 3,
   "metadata": {},
   "outputs": [
    {
     "data": {
      "text/plain": [
       "0     64.18\n",
       "1     66.16\n",
       "2     60.56\n",
       "3     69.97\n",
       "4     71.48\n",
       "      ...  \n",
       "95    74.00\n",
       "96    65.66\n",
       "97    72.05\n",
       "98    74.82\n",
       "99    67.04\n",
       "Name: Rating, Length: 100, dtype: float64"
      ]
     },
     "execution_count": 3,
     "metadata": {},
     "output_type": "execute_result"
    }
   ],
   "source": [
    "df = pd.read_excel('./data/MetAreas.xlsx')\n",
    "rating = df['Rating']\n",
    "\n",
    "rating"
   ]
  },
  {
   "cell_type": "code",
   "execution_count": 5,
   "metadata": {},
   "outputs": [
    {
     "data": {
      "text/plain": [
       "array([73.72, 71.48, 72.3 , 66.79, 70.95, 69.56, 65.31, 65.69, 63.3 ,\n",
       "       64.52, 70.16, 60.37, 63.45, 70.54, 62.35, 70.69, 69.59, 66.73,\n",
       "       68.93, 70.88, 60.34, 71.61, 60.75, 66.07, 64.18, 70.54, 65.53,\n",
       "       73.94, 70.69, 68.4 ])"
      ]
     },
     "execution_count": 5,
     "metadata": {},
     "output_type": "execute_result"
    }
   ],
   "source": [
    "df_sample = pd.DataFrame()\n",
    "\n",
    "random1 = np.random.choice(rating, 30)\n",
    "random2 = np.random.choice(rating, 30)\n",
    "random3 = np.random.choice(rating, 30)\n",
    "random4 = np.random.choice(rating, 30)\n",
    "random5 = np.random.choice(rating, 30)\n",
    "\n",
    "random1"
   ]
  },
  {
   "cell_type": "code",
   "execution_count": 6,
   "metadata": {},
   "outputs": [
    {
     "data": {
      "text/plain": [
       "array([66.07, 72.43, 63.01, 75.57, 69.37, 70.19, 69.75, 66.16, 66.73,\n",
       "       70.88, 64.18, 70.88, 70.19, 66.54, 71.36, 66.41, 70.19, 61.69,\n",
       "       73.37, 70.19, 64.3 , 68.93, 63.45, 63.01, 63.83, 72.43, 70.88,\n",
       "       66.41, 66.79, 72.43])"
      ]
     },
     "execution_count": 6,
     "metadata": {},
     "output_type": "execute_result"
    }
   ],
   "source": [
    "random2"
   ]
  },
  {
   "cell_type": "code",
   "execution_count": 7,
   "metadata": {},
   "outputs": [
    {
     "data": {
      "text/plain": [
       "array([65.72, 68.93, 74.57, 70.16, 69.18, 70.88, 66.1 , 64.08, 62.35,\n",
       "       66.73, 70.63, 65.94, 64.97, 65.34, 68.36, 65.72, 68.59, 66.07,\n",
       "       73.34, 74.82, 63.45, 71.48, 68.4 , 63.45, 70.69, 66.07, 66.1 ,\n",
       "       66.1 , 66.07, 62.51])"
      ]
     },
     "execution_count": 7,
     "metadata": {},
     "output_type": "execute_result"
    }
   ],
   "source": [
    "random3"
   ]
  },
  {
   "cell_type": "code",
   "execution_count": 8,
   "metadata": {},
   "outputs": [
    {
     "data": {
      "text/plain": [
       "array([61.38, 68.99, 60.56, 70.69, 66.41, 72.3 , 70.88, 74.09, 68.36,\n",
       "       68.4 , 70.19, 62.89, 73.72, 72.05, 62.35, 72.05, 75.57, 74.  ,\n",
       "       69.02, 70.63, 62.64, 65.72, 61.5 , 63.01, 70.16, 62.89, 74.09,\n",
       "       72.99, 63.45, 74.03])"
      ]
     },
     "execution_count": 8,
     "metadata": {},
     "output_type": "execute_result"
    }
   ],
   "source": [
    "random4"
   ]
  },
  {
   "cell_type": "code",
   "execution_count": 9,
   "metadata": {},
   "outputs": [
    {
     "data": {
      "text/plain": [
       "array([66.79, 74.  , 70.98, 66.41, 68.93, 60.65, 72.68, 65.72, 70.54,\n",
       "       65.34, 69.12, 64.08, 65.09, 73.37, 69.18, 66.1 , 70.88, 68.14,\n",
       "       65.66, 74.57, 63.01, 67.01, 70.54, 71.61, 68.93, 61.88, 69.56,\n",
       "       68.4 , 75.57, 73.34])"
      ]
     },
     "execution_count": 9,
     "metadata": {},
     "output_type": "execute_result"
    }
   ],
   "source": [
    "random5"
   ]
  },
  {
   "cell_type": "code",
   "execution_count": 10,
   "metadata": {},
   "outputs": [
    {
     "data": {
      "text/html": [
       "<div>\n",
       "<style scoped>\n",
       "    .dataframe tbody tr th:only-of-type {\n",
       "        vertical-align: middle;\n",
       "    }\n",
       "\n",
       "    .dataframe tbody tr th {\n",
       "        vertical-align: top;\n",
       "    }\n",
       "\n",
       "    .dataframe thead th {\n",
       "        text-align: right;\n",
       "    }\n",
       "</style>\n",
       "<table border=\"1\" class=\"dataframe\">\n",
       "  <thead>\n",
       "    <tr style=\"text-align: right;\">\n",
       "      <th></th>\n",
       "      <th>random1</th>\n",
       "      <th>random2</th>\n",
       "      <th>random3</th>\n",
       "      <th>random4</th>\n",
       "      <th>random5</th>\n",
       "    </tr>\n",
       "  </thead>\n",
       "  <tbody>\n",
       "    <tr>\n",
       "      <th>0</th>\n",
       "      <td>73.72</td>\n",
       "      <td>66.07</td>\n",
       "      <td>65.72</td>\n",
       "      <td>61.38</td>\n",
       "      <td>66.79</td>\n",
       "    </tr>\n",
       "    <tr>\n",
       "      <th>1</th>\n",
       "      <td>71.48</td>\n",
       "      <td>72.43</td>\n",
       "      <td>68.93</td>\n",
       "      <td>68.99</td>\n",
       "      <td>74.00</td>\n",
       "    </tr>\n",
       "    <tr>\n",
       "      <th>2</th>\n",
       "      <td>72.30</td>\n",
       "      <td>63.01</td>\n",
       "      <td>74.57</td>\n",
       "      <td>60.56</td>\n",
       "      <td>70.98</td>\n",
       "    </tr>\n",
       "    <tr>\n",
       "      <th>3</th>\n",
       "      <td>66.79</td>\n",
       "      <td>75.57</td>\n",
       "      <td>70.16</td>\n",
       "      <td>70.69</td>\n",
       "      <td>66.41</td>\n",
       "    </tr>\n",
       "    <tr>\n",
       "      <th>4</th>\n",
       "      <td>70.95</td>\n",
       "      <td>69.37</td>\n",
       "      <td>69.18</td>\n",
       "      <td>66.41</td>\n",
       "      <td>68.93</td>\n",
       "    </tr>\n",
       "    <tr>\n",
       "      <th>5</th>\n",
       "      <td>69.56</td>\n",
       "      <td>70.19</td>\n",
       "      <td>70.88</td>\n",
       "      <td>72.30</td>\n",
       "      <td>60.65</td>\n",
       "    </tr>\n",
       "    <tr>\n",
       "      <th>6</th>\n",
       "      <td>65.31</td>\n",
       "      <td>69.75</td>\n",
       "      <td>66.10</td>\n",
       "      <td>70.88</td>\n",
       "      <td>72.68</td>\n",
       "    </tr>\n",
       "    <tr>\n",
       "      <th>7</th>\n",
       "      <td>65.69</td>\n",
       "      <td>66.16</td>\n",
       "      <td>64.08</td>\n",
       "      <td>74.09</td>\n",
       "      <td>65.72</td>\n",
       "    </tr>\n",
       "    <tr>\n",
       "      <th>8</th>\n",
       "      <td>63.30</td>\n",
       "      <td>66.73</td>\n",
       "      <td>62.35</td>\n",
       "      <td>68.36</td>\n",
       "      <td>70.54</td>\n",
       "    </tr>\n",
       "    <tr>\n",
       "      <th>9</th>\n",
       "      <td>64.52</td>\n",
       "      <td>70.88</td>\n",
       "      <td>66.73</td>\n",
       "      <td>68.40</td>\n",
       "      <td>65.34</td>\n",
       "    </tr>\n",
       "    <tr>\n",
       "      <th>10</th>\n",
       "      <td>70.16</td>\n",
       "      <td>64.18</td>\n",
       "      <td>70.63</td>\n",
       "      <td>70.19</td>\n",
       "      <td>69.12</td>\n",
       "    </tr>\n",
       "    <tr>\n",
       "      <th>11</th>\n",
       "      <td>60.37</td>\n",
       "      <td>70.88</td>\n",
       "      <td>65.94</td>\n",
       "      <td>62.89</td>\n",
       "      <td>64.08</td>\n",
       "    </tr>\n",
       "    <tr>\n",
       "      <th>12</th>\n",
       "      <td>63.45</td>\n",
       "      <td>70.19</td>\n",
       "      <td>64.97</td>\n",
       "      <td>73.72</td>\n",
       "      <td>65.09</td>\n",
       "    </tr>\n",
       "    <tr>\n",
       "      <th>13</th>\n",
       "      <td>70.54</td>\n",
       "      <td>66.54</td>\n",
       "      <td>65.34</td>\n",
       "      <td>72.05</td>\n",
       "      <td>73.37</td>\n",
       "    </tr>\n",
       "    <tr>\n",
       "      <th>14</th>\n",
       "      <td>62.35</td>\n",
       "      <td>71.36</td>\n",
       "      <td>68.36</td>\n",
       "      <td>62.35</td>\n",
       "      <td>69.18</td>\n",
       "    </tr>\n",
       "    <tr>\n",
       "      <th>15</th>\n",
       "      <td>70.69</td>\n",
       "      <td>66.41</td>\n",
       "      <td>65.72</td>\n",
       "      <td>72.05</td>\n",
       "      <td>66.10</td>\n",
       "    </tr>\n",
       "    <tr>\n",
       "      <th>16</th>\n",
       "      <td>69.59</td>\n",
       "      <td>70.19</td>\n",
       "      <td>68.59</td>\n",
       "      <td>75.57</td>\n",
       "      <td>70.88</td>\n",
       "    </tr>\n",
       "    <tr>\n",
       "      <th>17</th>\n",
       "      <td>66.73</td>\n",
       "      <td>61.69</td>\n",
       "      <td>66.07</td>\n",
       "      <td>74.00</td>\n",
       "      <td>68.14</td>\n",
       "    </tr>\n",
       "    <tr>\n",
       "      <th>18</th>\n",
       "      <td>68.93</td>\n",
       "      <td>73.37</td>\n",
       "      <td>73.34</td>\n",
       "      <td>69.02</td>\n",
       "      <td>65.66</td>\n",
       "    </tr>\n",
       "    <tr>\n",
       "      <th>19</th>\n",
       "      <td>70.88</td>\n",
       "      <td>70.19</td>\n",
       "      <td>74.82</td>\n",
       "      <td>70.63</td>\n",
       "      <td>74.57</td>\n",
       "    </tr>\n",
       "    <tr>\n",
       "      <th>20</th>\n",
       "      <td>60.34</td>\n",
       "      <td>64.30</td>\n",
       "      <td>63.45</td>\n",
       "      <td>62.64</td>\n",
       "      <td>63.01</td>\n",
       "    </tr>\n",
       "    <tr>\n",
       "      <th>21</th>\n",
       "      <td>71.61</td>\n",
       "      <td>68.93</td>\n",
       "      <td>71.48</td>\n",
       "      <td>65.72</td>\n",
       "      <td>67.01</td>\n",
       "    </tr>\n",
       "    <tr>\n",
       "      <th>22</th>\n",
       "      <td>60.75</td>\n",
       "      <td>63.45</td>\n",
       "      <td>68.40</td>\n",
       "      <td>61.50</td>\n",
       "      <td>70.54</td>\n",
       "    </tr>\n",
       "    <tr>\n",
       "      <th>23</th>\n",
       "      <td>66.07</td>\n",
       "      <td>63.01</td>\n",
       "      <td>63.45</td>\n",
       "      <td>63.01</td>\n",
       "      <td>71.61</td>\n",
       "    </tr>\n",
       "    <tr>\n",
       "      <th>24</th>\n",
       "      <td>64.18</td>\n",
       "      <td>63.83</td>\n",
       "      <td>70.69</td>\n",
       "      <td>70.16</td>\n",
       "      <td>68.93</td>\n",
       "    </tr>\n",
       "    <tr>\n",
       "      <th>25</th>\n",
       "      <td>70.54</td>\n",
       "      <td>72.43</td>\n",
       "      <td>66.07</td>\n",
       "      <td>62.89</td>\n",
       "      <td>61.88</td>\n",
       "    </tr>\n",
       "    <tr>\n",
       "      <th>26</th>\n",
       "      <td>65.53</td>\n",
       "      <td>70.88</td>\n",
       "      <td>66.10</td>\n",
       "      <td>74.09</td>\n",
       "      <td>69.56</td>\n",
       "    </tr>\n",
       "    <tr>\n",
       "      <th>27</th>\n",
       "      <td>73.94</td>\n",
       "      <td>66.41</td>\n",
       "      <td>66.10</td>\n",
       "      <td>72.99</td>\n",
       "      <td>68.40</td>\n",
       "    </tr>\n",
       "    <tr>\n",
       "      <th>28</th>\n",
       "      <td>70.69</td>\n",
       "      <td>66.79</td>\n",
       "      <td>66.07</td>\n",
       "      <td>63.45</td>\n",
       "      <td>75.57</td>\n",
       "    </tr>\n",
       "    <tr>\n",
       "      <th>29</th>\n",
       "      <td>68.40</td>\n",
       "      <td>72.43</td>\n",
       "      <td>62.51</td>\n",
       "      <td>74.03</td>\n",
       "      <td>73.34</td>\n",
       "    </tr>\n",
       "  </tbody>\n",
       "</table>\n",
       "</div>"
      ],
      "text/plain": [
       "    random1  random2  random3  random4  random5\n",
       "0     73.72    66.07    65.72    61.38    66.79\n",
       "1     71.48    72.43    68.93    68.99    74.00\n",
       "2     72.30    63.01    74.57    60.56    70.98\n",
       "3     66.79    75.57    70.16    70.69    66.41\n",
       "4     70.95    69.37    69.18    66.41    68.93\n",
       "5     69.56    70.19    70.88    72.30    60.65\n",
       "6     65.31    69.75    66.10    70.88    72.68\n",
       "7     65.69    66.16    64.08    74.09    65.72\n",
       "8     63.30    66.73    62.35    68.36    70.54\n",
       "9     64.52    70.88    66.73    68.40    65.34\n",
       "10    70.16    64.18    70.63    70.19    69.12\n",
       "11    60.37    70.88    65.94    62.89    64.08\n",
       "12    63.45    70.19    64.97    73.72    65.09\n",
       "13    70.54    66.54    65.34    72.05    73.37\n",
       "14    62.35    71.36    68.36    62.35    69.18\n",
       "15    70.69    66.41    65.72    72.05    66.10\n",
       "16    69.59    70.19    68.59    75.57    70.88\n",
       "17    66.73    61.69    66.07    74.00    68.14\n",
       "18    68.93    73.37    73.34    69.02    65.66\n",
       "19    70.88    70.19    74.82    70.63    74.57\n",
       "20    60.34    64.30    63.45    62.64    63.01\n",
       "21    71.61    68.93    71.48    65.72    67.01\n",
       "22    60.75    63.45    68.40    61.50    70.54\n",
       "23    66.07    63.01    63.45    63.01    71.61\n",
       "24    64.18    63.83    70.69    70.16    68.93\n",
       "25    70.54    72.43    66.07    62.89    61.88\n",
       "26    65.53    70.88    66.10    74.09    69.56\n",
       "27    73.94    66.41    66.10    72.99    68.40\n",
       "28    70.69    66.79    66.07    63.45    75.57\n",
       "29    68.40    72.43    62.51    74.03    73.34"
      ]
     },
     "execution_count": 10,
     "metadata": {},
     "output_type": "execute_result"
    }
   ],
   "source": [
    "df_sample['random1'] = random1\n",
    "df_sample['random2'] = random2\n",
    "df_sample['random3'] = random3\n",
    "df_sample['random4'] = random4\n",
    "df_sample['random5'] = random5\n",
    "\n",
    "df_sample"
   ]
  },
  {
   "cell_type": "code",
   "execution_count": 12,
   "metadata": {},
   "outputs": [
    {
     "data": {
      "text/plain": [
       "random1    67.645333\n",
       "random2    68.254000\n",
       "random3    67.560000\n",
       "random4    68.500333\n",
       "random5    68.602667\n",
       "dtype: float64"
      ]
     },
     "execution_count": 12,
     "metadata": {},
     "output_type": "execute_result"
    }
   ],
   "source": [
    "means = df_sample.mean()\n",
    "means"
   ]
  },
  {
   "cell_type": "code",
   "execution_count": 13,
   "metadata": {},
   "outputs": [
    {
     "data": {
      "text/html": [
       "<div>\n",
       "<style scoped>\n",
       "    .dataframe tbody tr th:only-of-type {\n",
       "        vertical-align: middle;\n",
       "    }\n",
       "\n",
       "    .dataframe tbody tr th {\n",
       "        vertical-align: top;\n",
       "    }\n",
       "\n",
       "    .dataframe thead th {\n",
       "        text-align: right;\n",
       "    }\n",
       "</style>\n",
       "<table border=\"1\" class=\"dataframe\">\n",
       "  <thead>\n",
       "    <tr style=\"text-align: right;\">\n",
       "      <th></th>\n",
       "      <th>random1</th>\n",
       "      <th>random2</th>\n",
       "      <th>random3</th>\n",
       "      <th>random4</th>\n",
       "      <th>random5</th>\n",
       "    </tr>\n",
       "  </thead>\n",
       "  <tbody>\n",
       "    <tr>\n",
       "      <th>0</th>\n",
       "      <td>73.720000</td>\n",
       "      <td>66.070</td>\n",
       "      <td>65.72</td>\n",
       "      <td>61.380000</td>\n",
       "      <td>66.790000</td>\n",
       "    </tr>\n",
       "    <tr>\n",
       "      <th>1</th>\n",
       "      <td>71.480000</td>\n",
       "      <td>72.430</td>\n",
       "      <td>68.93</td>\n",
       "      <td>68.990000</td>\n",
       "      <td>74.000000</td>\n",
       "    </tr>\n",
       "    <tr>\n",
       "      <th>2</th>\n",
       "      <td>72.300000</td>\n",
       "      <td>63.010</td>\n",
       "      <td>74.57</td>\n",
       "      <td>60.560000</td>\n",
       "      <td>70.980000</td>\n",
       "    </tr>\n",
       "    <tr>\n",
       "      <th>3</th>\n",
       "      <td>66.790000</td>\n",
       "      <td>75.570</td>\n",
       "      <td>70.16</td>\n",
       "      <td>70.690000</td>\n",
       "      <td>66.410000</td>\n",
       "    </tr>\n",
       "    <tr>\n",
       "      <th>4</th>\n",
       "      <td>70.950000</td>\n",
       "      <td>69.370</td>\n",
       "      <td>69.18</td>\n",
       "      <td>66.410000</td>\n",
       "      <td>68.930000</td>\n",
       "    </tr>\n",
       "    <tr>\n",
       "      <th>5</th>\n",
       "      <td>69.560000</td>\n",
       "      <td>70.190</td>\n",
       "      <td>70.88</td>\n",
       "      <td>72.300000</td>\n",
       "      <td>60.650000</td>\n",
       "    </tr>\n",
       "    <tr>\n",
       "      <th>6</th>\n",
       "      <td>65.310000</td>\n",
       "      <td>69.750</td>\n",
       "      <td>66.10</td>\n",
       "      <td>70.880000</td>\n",
       "      <td>72.680000</td>\n",
       "    </tr>\n",
       "    <tr>\n",
       "      <th>7</th>\n",
       "      <td>65.690000</td>\n",
       "      <td>66.160</td>\n",
       "      <td>64.08</td>\n",
       "      <td>74.090000</td>\n",
       "      <td>65.720000</td>\n",
       "    </tr>\n",
       "    <tr>\n",
       "      <th>8</th>\n",
       "      <td>63.300000</td>\n",
       "      <td>66.730</td>\n",
       "      <td>62.35</td>\n",
       "      <td>68.360000</td>\n",
       "      <td>70.540000</td>\n",
       "    </tr>\n",
       "    <tr>\n",
       "      <th>9</th>\n",
       "      <td>64.520000</td>\n",
       "      <td>70.880</td>\n",
       "      <td>66.73</td>\n",
       "      <td>68.400000</td>\n",
       "      <td>65.340000</td>\n",
       "    </tr>\n",
       "    <tr>\n",
       "      <th>10</th>\n",
       "      <td>70.160000</td>\n",
       "      <td>64.180</td>\n",
       "      <td>70.63</td>\n",
       "      <td>70.190000</td>\n",
       "      <td>69.120000</td>\n",
       "    </tr>\n",
       "    <tr>\n",
       "      <th>11</th>\n",
       "      <td>60.370000</td>\n",
       "      <td>70.880</td>\n",
       "      <td>65.94</td>\n",
       "      <td>62.890000</td>\n",
       "      <td>64.080000</td>\n",
       "    </tr>\n",
       "    <tr>\n",
       "      <th>12</th>\n",
       "      <td>63.450000</td>\n",
       "      <td>70.190</td>\n",
       "      <td>64.97</td>\n",
       "      <td>73.720000</td>\n",
       "      <td>65.090000</td>\n",
       "    </tr>\n",
       "    <tr>\n",
       "      <th>13</th>\n",
       "      <td>70.540000</td>\n",
       "      <td>66.540</td>\n",
       "      <td>65.34</td>\n",
       "      <td>72.050000</td>\n",
       "      <td>73.370000</td>\n",
       "    </tr>\n",
       "    <tr>\n",
       "      <th>14</th>\n",
       "      <td>62.350000</td>\n",
       "      <td>71.360</td>\n",
       "      <td>68.36</td>\n",
       "      <td>62.350000</td>\n",
       "      <td>69.180000</td>\n",
       "    </tr>\n",
       "    <tr>\n",
       "      <th>15</th>\n",
       "      <td>70.690000</td>\n",
       "      <td>66.410</td>\n",
       "      <td>65.72</td>\n",
       "      <td>72.050000</td>\n",
       "      <td>66.100000</td>\n",
       "    </tr>\n",
       "    <tr>\n",
       "      <th>16</th>\n",
       "      <td>69.590000</td>\n",
       "      <td>70.190</td>\n",
       "      <td>68.59</td>\n",
       "      <td>75.570000</td>\n",
       "      <td>70.880000</td>\n",
       "    </tr>\n",
       "    <tr>\n",
       "      <th>17</th>\n",
       "      <td>66.730000</td>\n",
       "      <td>61.690</td>\n",
       "      <td>66.07</td>\n",
       "      <td>74.000000</td>\n",
       "      <td>68.140000</td>\n",
       "    </tr>\n",
       "    <tr>\n",
       "      <th>18</th>\n",
       "      <td>68.930000</td>\n",
       "      <td>73.370</td>\n",
       "      <td>73.34</td>\n",
       "      <td>69.020000</td>\n",
       "      <td>65.660000</td>\n",
       "    </tr>\n",
       "    <tr>\n",
       "      <th>19</th>\n",
       "      <td>70.880000</td>\n",
       "      <td>70.190</td>\n",
       "      <td>74.82</td>\n",
       "      <td>70.630000</td>\n",
       "      <td>74.570000</td>\n",
       "    </tr>\n",
       "    <tr>\n",
       "      <th>20</th>\n",
       "      <td>60.340000</td>\n",
       "      <td>64.300</td>\n",
       "      <td>63.45</td>\n",
       "      <td>62.640000</td>\n",
       "      <td>63.010000</td>\n",
       "    </tr>\n",
       "    <tr>\n",
       "      <th>21</th>\n",
       "      <td>71.610000</td>\n",
       "      <td>68.930</td>\n",
       "      <td>71.48</td>\n",
       "      <td>65.720000</td>\n",
       "      <td>67.010000</td>\n",
       "    </tr>\n",
       "    <tr>\n",
       "      <th>22</th>\n",
       "      <td>60.750000</td>\n",
       "      <td>63.450</td>\n",
       "      <td>68.40</td>\n",
       "      <td>61.500000</td>\n",
       "      <td>70.540000</td>\n",
       "    </tr>\n",
       "    <tr>\n",
       "      <th>23</th>\n",
       "      <td>66.070000</td>\n",
       "      <td>63.010</td>\n",
       "      <td>63.45</td>\n",
       "      <td>63.010000</td>\n",
       "      <td>71.610000</td>\n",
       "    </tr>\n",
       "    <tr>\n",
       "      <th>24</th>\n",
       "      <td>64.180000</td>\n",
       "      <td>63.830</td>\n",
       "      <td>70.69</td>\n",
       "      <td>70.160000</td>\n",
       "      <td>68.930000</td>\n",
       "    </tr>\n",
       "    <tr>\n",
       "      <th>25</th>\n",
       "      <td>70.540000</td>\n",
       "      <td>72.430</td>\n",
       "      <td>66.07</td>\n",
       "      <td>62.890000</td>\n",
       "      <td>61.880000</td>\n",
       "    </tr>\n",
       "    <tr>\n",
       "      <th>26</th>\n",
       "      <td>65.530000</td>\n",
       "      <td>70.880</td>\n",
       "      <td>66.10</td>\n",
       "      <td>74.090000</td>\n",
       "      <td>69.560000</td>\n",
       "    </tr>\n",
       "    <tr>\n",
       "      <th>27</th>\n",
       "      <td>73.940000</td>\n",
       "      <td>66.410</td>\n",
       "      <td>66.10</td>\n",
       "      <td>72.990000</td>\n",
       "      <td>68.400000</td>\n",
       "    </tr>\n",
       "    <tr>\n",
       "      <th>28</th>\n",
       "      <td>70.690000</td>\n",
       "      <td>66.790</td>\n",
       "      <td>66.07</td>\n",
       "      <td>63.450000</td>\n",
       "      <td>75.570000</td>\n",
       "    </tr>\n",
       "    <tr>\n",
       "      <th>29</th>\n",
       "      <td>68.400000</td>\n",
       "      <td>72.430</td>\n",
       "      <td>62.51</td>\n",
       "      <td>74.030000</td>\n",
       "      <td>73.340000</td>\n",
       "    </tr>\n",
       "    <tr>\n",
       "      <th>mean</th>\n",
       "      <td>67.645333</td>\n",
       "      <td>68.254</td>\n",
       "      <td>67.56</td>\n",
       "      <td>68.500333</td>\n",
       "      <td>68.602667</td>\n",
       "    </tr>\n",
       "  </tbody>\n",
       "</table>\n",
       "</div>"
      ],
      "text/plain": [
       "        random1  random2  random3    random4    random5\n",
       "0     73.720000   66.070    65.72  61.380000  66.790000\n",
       "1     71.480000   72.430    68.93  68.990000  74.000000\n",
       "2     72.300000   63.010    74.57  60.560000  70.980000\n",
       "3     66.790000   75.570    70.16  70.690000  66.410000\n",
       "4     70.950000   69.370    69.18  66.410000  68.930000\n",
       "5     69.560000   70.190    70.88  72.300000  60.650000\n",
       "6     65.310000   69.750    66.10  70.880000  72.680000\n",
       "7     65.690000   66.160    64.08  74.090000  65.720000\n",
       "8     63.300000   66.730    62.35  68.360000  70.540000\n",
       "9     64.520000   70.880    66.73  68.400000  65.340000\n",
       "10    70.160000   64.180    70.63  70.190000  69.120000\n",
       "11    60.370000   70.880    65.94  62.890000  64.080000\n",
       "12    63.450000   70.190    64.97  73.720000  65.090000\n",
       "13    70.540000   66.540    65.34  72.050000  73.370000\n",
       "14    62.350000   71.360    68.36  62.350000  69.180000\n",
       "15    70.690000   66.410    65.72  72.050000  66.100000\n",
       "16    69.590000   70.190    68.59  75.570000  70.880000\n",
       "17    66.730000   61.690    66.07  74.000000  68.140000\n",
       "18    68.930000   73.370    73.34  69.020000  65.660000\n",
       "19    70.880000   70.190    74.82  70.630000  74.570000\n",
       "20    60.340000   64.300    63.45  62.640000  63.010000\n",
       "21    71.610000   68.930    71.48  65.720000  67.010000\n",
       "22    60.750000   63.450    68.40  61.500000  70.540000\n",
       "23    66.070000   63.010    63.45  63.010000  71.610000\n",
       "24    64.180000   63.830    70.69  70.160000  68.930000\n",
       "25    70.540000   72.430    66.07  62.890000  61.880000\n",
       "26    65.530000   70.880    66.10  74.090000  69.560000\n",
       "27    73.940000   66.410    66.10  72.990000  68.400000\n",
       "28    70.690000   66.790    66.07  63.450000  75.570000\n",
       "29    68.400000   72.430    62.51  74.030000  73.340000\n",
       "mean  67.645333   68.254    67.56  68.500333  68.602667"
      ]
     },
     "execution_count": 13,
     "metadata": {},
     "output_type": "execute_result"
    }
   ],
   "source": [
    "df_sample = pd.concat([df_sample, means.to_frame().T], ignore_index=True)\n",
    "df_sample.rename(index={30:'mean'}, inplace=True)\n",
    "df_sample"
   ]
  },
  {
   "cell_type": "code",
   "execution_count": 15,
   "metadata": {},
   "outputs": [
    {
     "data": {
      "text/plain": [
       "(0.167, 3.500, 2.917, 1.708)"
      ]
     },
     "execution_count": 15,
     "metadata": {},
     "output_type": "execute_result"
    }
   ],
   "source": [
    "x_set = [1,2,3,4,5,6]\n",
    "\n",
    "def P(X):\n",
    "    if X in x_set:\n",
    "        return 1/6\n",
    "    else:\n",
    "        return 0\n",
    "\n",
    "mu = 0\n",
    "var = 0\n",
    "std = 0\n",
    "\n",
    "for x in x_set:\n",
    "    mu = mu + x * P(x)\n",
    "\n",
    "for x in x_set:\n",
    "    var = var + (x-mu)**2 * P(x)\n",
    "\n",
    "std = np.sqrt(var)\n",
    "\n",
    "P(1), mu, var, std"
   ]
  },
  {
   "attachments": {},
   "cell_type": "markdown",
   "metadata": {},
   "source": [
    "표본분포"
   ]
  },
  {
   "cell_type": "code",
   "execution_count": 18,
   "metadata": {},
   "outputs": [
    {
     "data": {
      "text/plain": [
       "[(1, 1),\n",
       " (1, 2),\n",
       " (1, 3),\n",
       " (1, 4),\n",
       " (1, 5),\n",
       " (1, 6),\n",
       " (2, 1),\n",
       " (2, 2),\n",
       " (2, 3),\n",
       " (2, 4),\n",
       " (2, 5),\n",
       " (2, 6),\n",
       " (3, 1),\n",
       " (3, 2),\n",
       " (3, 3),\n",
       " (3, 4),\n",
       " (3, 5),\n",
       " (3, 6),\n",
       " (4, 1),\n",
       " (4, 2),\n",
       " (4, 3),\n",
       " (4, 4),\n",
       " (4, 5),\n",
       " (4, 6),\n",
       " (5, 1),\n",
       " (5, 2),\n",
       " (5, 3),\n",
       " (5, 4),\n",
       " (5, 5),\n",
       " (5, 6),\n",
       " (6, 1),\n",
       " (6, 2),\n",
       " (6, 3),\n",
       " (6, 4),\n",
       " (6, 5),\n",
       " (6, 6)]"
      ]
     },
     "execution_count": 18,
     "metadata": {},
     "output_type": "execute_result"
    }
   ],
   "source": [
    "dice = product(x_set, repeat=2)\n",
    "samples = list(dice)\n",
    "samples"
   ]
  },
  {
   "cell_type": "code",
   "execution_count": 19,
   "metadata": {},
   "outputs": [
    {
     "data": {
      "text/plain": [
       "(array([1. , 1.5, 2. , 2.5, 3. , 3.5, 1.5, 2. , 2.5, 3. , 3.5, 4. , 2. ,\n",
       "        2.5, 3. , 3.5, 4. , 4.5, 2.5, 3. , 3.5, 4. , 4.5, 5. , 3. , 3.5,\n",
       "        4. , 4.5, 5. , 5.5, 3.5, 4. , 4.5, 5. , 5.5, 6. ]),\n",
       " 36)"
      ]
     },
     "execution_count": 19,
     "metadata": {},
     "output_type": "execute_result"
    }
   ],
   "source": [
    "array_xbar = []\n",
    "\n",
    "for i in np.arange(len(samples)):\n",
    "    xbar = sum(samples[i])/2\n",
    "    array_xbar = np.append(array_xbar, xbar)\n",
    "\n",
    "array_xbar, len(array_xbar)"
   ]
  },
  {
   "cell_type": "code",
   "execution_count": 21,
   "metadata": {},
   "outputs": [
    {
     "data": {
      "text/plain": [
       "3.5    0.166667\n",
       "3.0    0.138889\n",
       "4.0    0.138889\n",
       "2.5    0.111111\n",
       "4.5    0.111111\n",
       "2.0    0.083333\n",
       "5.0    0.083333\n",
       "1.5    0.055556\n",
       "5.5    0.055556\n",
       "1.0    0.027778\n",
       "6.0    0.027778\n",
       "dtype: float64"
      ]
     },
     "execution_count": 21,
     "metadata": {},
     "output_type": "execute_result"
    }
   ],
   "source": [
    "xbar_series = pd.Series(array_xbar).value_counts(sort=True)/len(array_xbar)\n",
    "xbar_series"
   ]
  },
  {
   "cell_type": "code",
   "execution_count": 22,
   "metadata": {},
   "outputs": [
    {
     "data": {
      "text/html": [
       "<div>\n",
       "<style scoped>\n",
       "    .dataframe tbody tr th:only-of-type {\n",
       "        vertical-align: middle;\n",
       "    }\n",
       "\n",
       "    .dataframe tbody tr th {\n",
       "        vertical-align: top;\n",
       "    }\n",
       "\n",
       "    .dataframe thead th {\n",
       "        text-align: right;\n",
       "    }\n",
       "</style>\n",
       "<table border=\"1\" class=\"dataframe\">\n",
       "  <thead>\n",
       "    <tr style=\"text-align: right;\">\n",
       "      <th></th>\n",
       "      <th>prob</th>\n",
       "    </tr>\n",
       "  </thead>\n",
       "  <tbody>\n",
       "    <tr>\n",
       "      <th>1.0</th>\n",
       "      <td>0.027778</td>\n",
       "    </tr>\n",
       "    <tr>\n",
       "      <th>1.5</th>\n",
       "      <td>0.055556</td>\n",
       "    </tr>\n",
       "    <tr>\n",
       "      <th>2.0</th>\n",
       "      <td>0.083333</td>\n",
       "    </tr>\n",
       "    <tr>\n",
       "      <th>2.5</th>\n",
       "      <td>0.111111</td>\n",
       "    </tr>\n",
       "    <tr>\n",
       "      <th>3.0</th>\n",
       "      <td>0.138889</td>\n",
       "    </tr>\n",
       "    <tr>\n",
       "      <th>3.5</th>\n",
       "      <td>0.166667</td>\n",
       "    </tr>\n",
       "    <tr>\n",
       "      <th>4.0</th>\n",
       "      <td>0.138889</td>\n",
       "    </tr>\n",
       "    <tr>\n",
       "      <th>4.5</th>\n",
       "      <td>0.111111</td>\n",
       "    </tr>\n",
       "    <tr>\n",
       "      <th>5.0</th>\n",
       "      <td>0.083333</td>\n",
       "    </tr>\n",
       "    <tr>\n",
       "      <th>5.5</th>\n",
       "      <td>0.055556</td>\n",
       "    </tr>\n",
       "    <tr>\n",
       "      <th>6.0</th>\n",
       "      <td>0.027778</td>\n",
       "    </tr>\n",
       "  </tbody>\n",
       "</table>\n",
       "</div>"
      ],
      "text/plain": [
       "         prob\n",
       "1.0  0.027778\n",
       "1.5  0.055556\n",
       "2.0  0.083333\n",
       "2.5  0.111111\n",
       "3.0  0.138889\n",
       "3.5  0.166667\n",
       "4.0  0.138889\n",
       "4.5  0.111111\n",
       "5.0  0.083333\n",
       "5.5  0.055556\n",
       "6.0  0.027778"
      ]
     },
     "execution_count": 22,
     "metadata": {},
     "output_type": "execute_result"
    }
   ],
   "source": [
    "xbar_df = pd.DataFrame(xbar_series, columns=['prob'])\n",
    "xbar_df.sort_index(inplace=True)\n",
    "xbar_df"
   ]
  },
  {
   "cell_type": "code",
   "execution_count": 24,
   "metadata": {},
   "outputs": [
    {
     "data": {
      "text/plain": [
       "(1.0    0.027778\n",
       " 1.5    0.083333\n",
       " 2.0    0.166667\n",
       " 2.5    0.277778\n",
       " 3.0    0.416667\n",
       " 3.5    0.583333\n",
       " 4.0    0.555556\n",
       " 4.5    0.500000\n",
       " 5.0    0.416667\n",
       " 5.5    0.305556\n",
       " 6.0    0.166667\n",
       " dtype: float64,\n",
       " 3.500)"
      ]
     },
     "execution_count": 24,
     "metadata": {},
     "output_type": "execute_result"
    }
   ],
   "source": [
    "xbar = xbar_df.index\n",
    "prob = xbar_df['prob']\n",
    "\n",
    "x_px = xbar * prob\n",
    "mu_xbar = np.sum(x_px)\n",
    "\n",
    "x_px, mu_xbar"
   ]
  },
  {
   "cell_type": "code",
   "execution_count": 25,
   "metadata": {},
   "outputs": [
    {
     "data": {
      "text/plain": [
       "(1.458, 1.208)"
      ]
     },
     "execution_count": 25,
     "metadata": {},
     "output_type": "execute_result"
    }
   ],
   "source": [
    "var = 0\n",
    "\n",
    "for x in xbar:\n",
    "    var = var + ((x - mu_xbar)**2) * xbar_df.loc[x, 'prob']\n",
    "\n",
    "se = np.sqrt(var)\n",
    "\n",
    "var, se"
   ]
  },
  {
   "attachments": {},
   "cell_type": "markdown",
   "metadata": {},
   "source": [
    "모분포 vs 표본분포"
   ]
  },
  {
   "cell_type": "code",
   "execution_count": 26,
   "metadata": {},
   "outputs": [
    {
     "data": {
      "text/plain": [
       "(1.208, 1.709)"
      ]
     },
     "execution_count": 26,
     "metadata": {},
     "output_type": "execute_result"
    }
   ],
   "source": [
    "se_xbar = np.sqrt(2.92/2)\n",
    "std = np.sqrt(2.92)\n",
    "\n",
    "se_xbar, std"
   ]
  },
  {
   "attachments": {},
   "cell_type": "markdown",
   "metadata": {},
   "source": [
    "중심극한정리"
   ]
  },
  {
   "cell_type": "code",
   "execution_count": 27,
   "metadata": {},
   "outputs": [],
   "source": [
    "dice = [1,2,3,4,5,6]\n",
    "sample = []\n",
    "means = []\n",
    "\n",
    "for k in np.arange(0, 100000):\n",
    "    for i in np.arange(0, 50):\n",
    "        n = np.random.choice(dice)\n",
    "        sample.append(n)\n",
    "    means.append(np.mean(sample))\n",
    "    sample = []\n",
    "\n",
    "means.sort()"
   ]
  },
  {
   "cell_type": "code",
   "execution_count": 28,
   "metadata": {},
   "outputs": [
    {
     "data": {
      "image/png": "[encoded data removed]",
      "text/plain": [
       "<Figure size 640x480 with 1 Axes>"
      ]
     },
     "metadata": {},
     "output_type": "display_data"
    }
   ],
   "source": [
    "hist, edges = np.histogram(means, bins=np.arange(0.85, 7.15, 0.1))\n",
    "dots = edges - 0.05\n",
    "dots = np.delete(dots, 0)\n",
    "\n",
    "plt.plot(dots, hist)\n",
    "plt.hist(means, bins=np.arange(0.85, 7.15, 0.1))\n",
    "plt.show()"
   ]
  },
  {
   "attachments": {},
   "cell_type": "markdown",
   "metadata": {},
   "source": [
    "평균의 표준분포"
   ]
  },
  {
   "cell_type": "code",
   "execution_count": 29,
   "metadata": {},
   "outputs": [
    {
     "data": {
      "text/plain": [
       "730.297"
      ]
     },
     "execution_count": 29,
     "metadata": {},
     "output_type": "execute_result"
    }
   ],
   "source": [
    "n = 30\n",
    "x_bar = 51800\n",
    "std = 4000\n",
    "se = std/np.sqrt(n)\n",
    "\n",
    "se"
   ]
  },
  {
   "cell_type": "code",
   "execution_count": 30,
   "metadata": {},
   "outputs": [
    {
     "data": {
      "text/plain": [
       "(-0.685, 0.685)"
      ]
     },
     "execution_count": 30,
     "metadata": {},
     "output_type": "execute_result"
    }
   ],
   "source": [
    "z_left = -500/se\n",
    "z_right = 500/se\n",
    "\n",
    "z_left, z_right"
   ]
  },
  {
   "cell_type": "code",
   "execution_count": 32,
   "metadata": {},
   "outputs": [
    {
     "data": {
      "text/plain": [
       "(0.247, 0.753)"
      ]
     },
     "execution_count": 32,
     "metadata": {},
     "output_type": "execute_result"
    }
   ],
   "source": [
    "rv = stats.norm(0, 1)\n",
    "rv.cdf(z_left), rv.cdf(z_right)"
   ]
  },
  {
   "cell_type": "code",
   "execution_count": 33,
   "metadata": {},
   "outputs": [
    {
     "data": {
      "text/plain": [
       "0.506"
      ]
     },
     "execution_count": 33,
     "metadata": {},
     "output_type": "execute_result"
    }
   ],
   "source": [
    "rv.cdf(z_right) - rv.cdf(z_left)"
   ]
  },
  {
   "attachments": {},
   "cell_type": "markdown",
   "metadata": {},
   "source": [
    "비율의 표본분포"
   ]
  },
  {
   "cell_type": "code",
   "execution_count": 34,
   "metadata": {},
   "outputs": [
    {
     "data": {
      "text/plain": [
       "(18.000, 12.000, 0.089)"
      ]
     },
     "execution_count": 34,
     "metadata": {},
     "output_type": "execute_result"
    }
   ],
   "source": [
    "p = 1500/2500\n",
    "mu_pbar = p\n",
    "n = 30\n",
    "\n",
    "se = np.sqrt((p*(1-p)/n))\n",
    "\n",
    "n*p, n*(1-p), se"
   ]
  },
  {
   "cell_type": "code",
   "execution_count": 36,
   "metadata": {},
   "outputs": [
    {
     "data": {
      "text/plain": [
       "(0.288, 0.712, 0.424)"
      ]
     },
     "execution_count": 36,
     "metadata": {},
     "output_type": "execute_result"
    }
   ],
   "source": [
    "z_left = -0.05/se\n",
    "z_right = 0.05/se\n",
    "\n",
    "rv.cdf(z_left), rv.cdf(z_right), rv.cdf(z_right)-rv.cdf(z_left)"
   ]
  }
 ],
 "metadata": {
  "kernelspec": {
   "display_name": "Python 3 (ipykernel)",
   "language": "python",
   "name": "python3"
  },
  "language_info": {
   "codemirror_mode": {
    "name": "ipython",
    "version": 3
   },
   "file_extension": ".py",
   "mimetype": "text/x-python",
   "name": "python",
   "nbconvert_exporter": "python",
   "pygments_lexer": "ipython3",
   "version": "3.10.6"
  },
  "orig_nbformat": 4
 },
 "nbformat": 4,
 "nbformat_minor": 2
}
