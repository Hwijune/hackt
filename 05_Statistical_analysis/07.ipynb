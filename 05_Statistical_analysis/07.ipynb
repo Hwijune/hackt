{
 "cells": [
  {
   "cell_type": "code",
   "execution_count": 2,
   "metadata": {},
   "outputs": [
    {
     "data": {
      "text/plain": [
       "'%.3f'"
      ]
     },
     "execution_count": 2,
     "metadata": {},
     "output_type": "execute_result"
    }
   ],
   "source": [
    "import numpy as np\n",
    "import pandas as pd\n",
    "import scipy.stats as stats\n",
    "\n",
    "%precision 3"
   ]
  },
  {
   "attachments": {},
   "cell_type": "markdown",
   "metadata": {},
   "source": [
    "모집단 평균에 대한 가설 검정 : 모집단 분산을 아는 경우"
   ]
  },
  {
   "attachments": {},
   "cell_type": "markdown",
   "metadata": {},
   "source": [
    "윤활유 용량 사례1 : 왼쪽 꼬리 검정"
   ]
  },
  {
   "cell_type": "code",
   "execution_count": 4,
   "metadata": {},
   "outputs": [
    {
     "data": {
      "text/html": [
       "<div>\n",
       "<style scoped>\n",
       "    .dataframe tbody tr th:only-of-type {\n",
       "        vertical-align: middle;\n",
       "    }\n",
       "\n",
       "    .dataframe tbody tr th {\n",
       "        vertical-align: top;\n",
       "    }\n",
       "\n",
       "    .dataframe thead th {\n",
       "        text-align: right;\n",
       "    }\n",
       "</style>\n",
       "<table border=\"1\" class=\"dataframe\">\n",
       "  <thead>\n",
       "    <tr style=\"text-align: right;\">\n",
       "      <th></th>\n",
       "      <th>Volume</th>\n",
       "    </tr>\n",
       "  </thead>\n",
       "  <tbody>\n",
       "    <tr>\n",
       "      <th>0</th>\n",
       "      <td>2.89</td>\n",
       "    </tr>\n",
       "    <tr>\n",
       "      <th>1</th>\n",
       "      <td>2.86</td>\n",
       "    </tr>\n",
       "    <tr>\n",
       "      <th>2</th>\n",
       "      <td>2.94</td>\n",
       "    </tr>\n",
       "    <tr>\n",
       "      <th>3</th>\n",
       "      <td>2.77</td>\n",
       "    </tr>\n",
       "    <tr>\n",
       "      <th>4</th>\n",
       "      <td>2.74</td>\n",
       "    </tr>\n",
       "  </tbody>\n",
       "</table>\n",
       "</div>"
      ],
      "text/plain": [
       "   Volume\n",
       "0    2.89\n",
       "1    2.86\n",
       "2    2.94\n",
       "3    2.77\n",
       "4    2.74"
      ]
     },
     "execution_count": 4,
     "metadata": {},
     "output_type": "execute_result"
    }
   ],
   "source": [
    "lubricant_df = pd.read_excel('./data/lubricant.xlsx')\n",
    "\n",
    "lubricant_df.head()"
   ]
  },
  {
   "cell_type": "code",
   "execution_count": 5,
   "metadata": {},
   "outputs": [
    {
     "data": {
      "text/plain": [
       "(array([2.89, 2.86, 2.94, 2.77, 2.74, 2.82, 2.94, 3.15, 2.91, 2.94, 2.84,\n",
       "        2.9 , 2.86, 2.77, 3.1 , 2.6 , 2.82, 3.21, 3.02, 3.05, 2.54, 3.05,\n",
       "        2.65, 2.76, 3.18, 2.66, 3.11, 3.13, 3.14, 2.95, 2.96, 2.93, 3.18,\n",
       "        2.93, 2.86, 2.96]),\n",
       " 36)"
      ]
     },
     "execution_count": 5,
     "metadata": {},
     "output_type": "execute_result"
    }
   ],
   "source": [
    "volume = np.array(lubricant_df['Volume'])\n",
    "\n",
    "volume, len(volume)"
   ]
  },
  {
   "cell_type": "code",
   "execution_count": 7,
   "metadata": {},
   "outputs": [],
   "source": [
    "n = len(volume)\n",
    "mu_0 = 3\n",
    "x_bar = np.mean(volume)\n",
    "std = 0.18\n",
    "se = std / np.sqrt(n)\n",
    "alpha = 0.05"
   ]
  },
  {
   "attachments": {},
   "cell_type": "markdown",
   "metadata": {},
   "source": [
    "임계값 접근법 Critical Value(검정 통계량) : CV"
   ]
  },
  {
   "cell_type": "code",
   "execution_count": 14,
   "metadata": {},
   "outputs": [],
   "source": [
    "def z_test_cv(n, mu_0, x_bar, std, alpha):\n",
    "    rv_z = stats.norm(0, 1)\n",
    "    se = std / np.sqrt(n)\n",
    "    z = (x_bar - mu_0) / se\n",
    "\n",
    "    cv = rv_z.isf(alpha)\n",
    "\n",
    "    if(abs(z) >= cv):\n",
    "        print(f\"z = {z: .2f}, |z| = {abs(z): .2f} >= cv = {cv: .2f}입니다. \\n 따라서 귀무가설을 기각합니다.\")\n",
    "    else:\n",
    "        print(f\"z = {z: .2f}, |z| = {abs(z): .2f} < cv = {cv: .2f}입니다. \\n 따라서 귀무가설을 기각하지 않습니다.\")"
   ]
  },
  {
   "cell_type": "code",
   "execution_count": 15,
   "metadata": {},
   "outputs": [
    {
     "name": "stdout",
     "output_type": "stream",
     "text": [
      "z = -2.67, |z| =  2.67 >= cv =  1.64입니다. \n",
      " 따라서 귀무가설을 기각합니다.\n"
     ]
    }
   ],
   "source": [
    "z_test_cv(n, mu_0, x_bar, std, alpha)"
   ]
  },
  {
   "attachments": {},
   "cell_type": "markdown",
   "metadata": {},
   "source": [
    "p-값 접근법 : p-value"
   ]
  },
  {
   "cell_type": "code",
   "execution_count": 16,
   "metadata": {},
   "outputs": [
    {
     "name": "stdout",
     "output_type": "stream",
     "text": [
      "p_value =  0.0038 < alpha =  0.05입니다. \n",
      " 따라서 귀무가설을 기각합니다.\n"
     ]
    }
   ],
   "source": [
    "def z_test_p(n, mu_0, x_bar, std, alpha):\n",
    "    rv_z = stats.norm(0, 1)\n",
    "    se = std / np.sqrt(n)\n",
    "    z = (x_bar - mu_0) / se\n",
    "\n",
    "    if(z < 0):\n",
    "        p_value = rv_z.cdf(z)\n",
    "    else:\n",
    "        p_value = rv_z.sf(z)\n",
    "\n",
    "    if p_value < alpha:\n",
    "        print(f\"p_value = {p_value: .4f} < alpha = {alpha : .2f}입니다. \\n 따라서 귀무가설을 기각합니다.\")\n",
    "    else:\n",
    "        print(f\"p_value = {p_value: .4f} < alpha >= {alpha : .2f}입니다. \\n 따라서 귀무가설을 기각하지 않습니다.\")\n",
    "\n",
    "z_test_p(n, mu_0, x_bar, std, alpha)"
   ]
  },
  {
   "attachments": {},
   "cell_type": "markdown",
   "metadata": {},
   "source": [
    "윤활유 용량 사례2 : 양쪽 꼬리 검정\n",
    "\n",
    "임계값 접근법"
   ]
  },
  {
   "cell_type": "code",
   "execution_count": 18,
   "metadata": {},
   "outputs": [
    {
     "name": "stdout",
     "output_type": "stream",
     "text": [
      "z = -2.67 <= cv1 = -1.96입니다. \n",
      " 따라서 귀무가설을 기각합니다.\n"
     ]
    }
   ],
   "source": [
    "def z_test2_cv(n, mu_0, x_bar, std, alpha):\n",
    "    rv_z = stats.norm(0, 1) #평균0, 분산1\n",
    "    se = std / np.sqrt(n)\n",
    "    z = (x_bar - mu_0) / se\n",
    "\n",
    "    if(z < 0):\n",
    "        cv = rv_z.ppf(alpha / 2)\n",
    "    else:\n",
    "        cv = rv_z.isf(alpha / 2)\n",
    "\n",
    "    cv1 = -np.abs(cv)\n",
    "    cv2 = np.abs(cv)\n",
    "    \n",
    "    if(z <= cv1):\n",
    "        print(f\"z = {z: .2f} <= cv1 = {cv: .2f}입니다. \\n 따라서 귀무가설을 기각합니다.\")\n",
    "    elif(z >= cv2):\n",
    "        print(f\"z = {z: .2f} >= cv2 = {cv: .2f}입니다. \\n 따라서 귀무가설을 기각합니다.\")\n",
    "    else:\n",
    "        print(f\"cv1 = {z: .2f} < z = {cv: .2f} < cv2 입니다. \\n 따라서 귀무가설을 기각합니다.\")\n",
    "    # if(-np.abs(cv) >= cv):\n",
    "    #     print(f\"z = {z: .2f}, |z| = {abs(z): .2f} >= cv = {cv: .2f}입니다. \\n 따라서 귀무가설을 기각합니다.\")\n",
    "    # else:\n",
    "    #     print(f\"z = {z: .2f}, |z| = {abs(z): .2f} < cv = {cv: .2f}입니다. \\n 따라서 귀무가설을 기각하지 않습니다.\")\n",
    "\n",
    "z_test2_cv(n, mu_0, x_bar, std, alpha)"
   ]
  },
  {
   "cell_type": "markdown",
   "metadata": {},
   "source": [
    "p-값 접근법"
   ]
  },
  {
   "cell_type": "code",
   "execution_count": 20,
   "metadata": {},
   "outputs": [
    {
     "name": "stdout",
     "output_type": "stream",
     "text": [
      "p_value =  0.0077 < alpha =  0.05입니다. 따라서 귀무가설을 기각합니다.\n"
     ]
    }
   ],
   "source": [
    "def z_test2_p(n, mu_0, x_bar, std, alpha):\n",
    "    rv_z = stats.norm(0, 1) #평균0, 분산1\n",
    "    se = std / np.sqrt(n)\n",
    "    z = (x_bar - mu_0) / se\n",
    "\n",
    "    if(z < 0):\n",
    "        p_value = rv_z.cdf(z) * 2\n",
    "    else:\n",
    "        p_value = rv_z.sf(z) * 2\n",
    "    \n",
    "    if(p_value < alpha):\n",
    "        print(f\"p_value = {p_value: .4f} < alpha = {alpha: .2f}입니다. 따라서 귀무가설을 기각합니다.\")\n",
    "    else:\n",
    "        print(f\"p_value = {p_value: .4f} >= alpha = {alpha: .2f}입니다. 따라서 귀무가설을 기각하지 않습니다.\")\n",
    "\n",
    "\n",
    "z_test2_p(n, mu_0, x_bar, std, alpha)"
   ]
  },
  {
   "cell_type": "code",
   "execution_count": 23,
   "metadata": {},
   "outputs": [
    {
     "data": {
      "text/html": [
       "<div>\n",
       "<style scoped>\n",
       "    .dataframe tbody tr th:only-of-type {\n",
       "        vertical-align: middle;\n",
       "    }\n",
       "\n",
       "    .dataframe tbody tr th {\n",
       "        vertical-align: top;\n",
       "    }\n",
       "\n",
       "    .dataframe thead th {\n",
       "        text-align: right;\n",
       "    }\n",
       "</style>\n",
       "<table border=\"1\" class=\"dataframe\">\n",
       "  <thead>\n",
       "    <tr style=\"text-align: right;\">\n",
       "      <th></th>\n",
       "      <th>Rating</th>\n",
       "    </tr>\n",
       "  </thead>\n",
       "  <tbody>\n",
       "    <tr>\n",
       "      <th>0</th>\n",
       "      <td>8</td>\n",
       "    </tr>\n",
       "    <tr>\n",
       "      <th>1</th>\n",
       "      <td>6</td>\n",
       "    </tr>\n",
       "    <tr>\n",
       "      <th>2</th>\n",
       "      <td>7</td>\n",
       "    </tr>\n",
       "    <tr>\n",
       "      <th>3</th>\n",
       "      <td>7</td>\n",
       "    </tr>\n",
       "    <tr>\n",
       "      <th>4</th>\n",
       "      <td>5</td>\n",
       "    </tr>\n",
       "  </tbody>\n",
       "</table>\n",
       "</div>"
      ],
      "text/plain": [
       "   Rating\n",
       "0       8\n",
       "1       6\n",
       "2       7\n",
       "3       7\n",
       "4       5"
      ]
     },
     "execution_count": 23,
     "metadata": {},
     "output_type": "execute_result"
    }
   ],
   "source": [
    "chatbot_df = pd.read_excel('./data/Chatbot.xlsx')\n",
    "\n",
    "chatbot_df.head()"
   ]
  },
  {
   "cell_type": "code",
   "execution_count": 24,
   "metadata": {},
   "outputs": [
    {
     "data": {
      "text/plain": [
       "(array([ 8,  6,  7,  7,  5,  9,  8, 10,  8,  5,  7,  7,  9,  8,  6,  6,  7,\n",
       "         8,  8,  7,  8,  7,  8,  8,  6,  7,  7,  7,  5,  7,  7,  8,  6,  7,\n",
       "         7,  6,  7,  8,  9,  8,  8,  8,  5,  7,  8,  7,  8,  8,  8,  7,  7,\n",
       "         9,  7,  8,  7,  6,  7,  8,  6,  7]),\n",
       " 60)"
      ]
     },
     "execution_count": 24,
     "metadata": {},
     "output_type": "execute_result"
    }
   ],
   "source": [
    "rating = np.array(chatbot_df['Rating'])\n",
    "\n",
    "rating, len(rating)"
   ]
  },
  {
   "cell_type": "code",
   "execution_count": 25,
   "metadata": {},
   "outputs": [],
   "source": [
    "n = len(rating)\n",
    "\n",
    "rv_t = stats.t(n-1)\n",
    "x_bar = np.mean(rating)\n",
    "sample_std = np.std(rating, ddof=1)\n",
    "mu_0 = 7\n",
    "alpha = 0.01"
   ]
  },
  {
   "attachments": {},
   "cell_type": "markdown",
   "metadata": {},
   "source": [
    "임계값 접근법 cv"
   ]
  },
  {
   "cell_type": "code",
   "execution_count": 27,
   "metadata": {},
   "outputs": [
    {
     "name": "stdout",
     "output_type": "stream",
     "text": [
      "t = 1.84, |t| =  1.84 < cv 2.39입니다. \n",
      "따라서 귀무가설을 기각하지 않습니다.\n"
     ]
    }
   ],
   "source": [
    "def t_test_cv(n, mu_0, x_bar, sample_std, alpha):\n",
    "    rv_t = stats.t(n-1)\n",
    "    t = (x_bar - mu_0) / (sample_std/np.sqrt(n))\n",
    "\n",
    "    cv = rv_t.isf(alpha)\n",
    "\n",
    "    if cv <= abs(t):\n",
    "        print(f\"t = {t:.2f}, |t| = {abs(t): .2f} >= cv {cv:.2f}입니다. \\n따라서 귀무가설을 기각합니다.\")\n",
    "    else:\n",
    "        print(f\"t = {t:.2f}, |t| = {abs(t): .2f} < cv {cv:.2f}입니다. \\n따라서 귀무가설을 기각하지 않습니다.\")\n",
    "\n",
    "t_test_cv(n, mu_0, x_bar, sample_std, alpha)"
   ]
  },
  {
   "attachments": {},
   "cell_type": "markdown",
   "metadata": {},
   "source": [
    "p-값 접근법"
   ]
  },
  {
   "cell_type": "code",
   "execution_count": 28,
   "metadata": {},
   "outputs": [
    {
     "name": "stdout",
     "output_type": "stream",
     "text": [
      "p_value = 0.04 >= alpha =  0.01 \n",
      "따라서 귀무가설을 기각하지 않습니다.\n"
     ]
    }
   ],
   "source": [
    "def t_test_p(n, mu_0, x_bar, sample_std, alpha):\n",
    "    rv_t = stats.t(n-1)\n",
    "    t = (x_bar - mu_0) / (sample_std/np.sqrt(n))\n",
    "\n",
    "    if t < 0:\n",
    "        p_value = rv_t.cdf(t)\n",
    "    else:\n",
    "        p_value = rv_t.sf(t) #survival function\n",
    "\n",
    "    if(p_value < alpha):\n",
    "        print(f\"p_value = {p_value:.2f} < alpha = {alpha: .2f} \\n따라서 귀무가설을 기각합니다.\")\n",
    "    else:\n",
    "        print(f\"p_value = {p_value:.2f} >= alpha = {alpha: .2f} \\n따라서 귀무가설을 기각하지 않습니다.\")\n",
    "\n",
    "t_test_p(n, mu_0, x_bar, sample_std, alpha)"
   ]
  },
  {
   "attachments": {},
   "cell_type": "markdown",
   "metadata": {},
   "source": [
    "모집단 비율에 대한 가설 검정"
   ]
  },
  {
   "cell_type": "code",
   "execution_count": 29,
   "metadata": {},
   "outputs": [
    {
     "data": {
      "text/html": [
       "<div>\n",
       "<style scoped>\n",
       "    .dataframe tbody tr th:only-of-type {\n",
       "        vertical-align: middle;\n",
       "    }\n",
       "\n",
       "    .dataframe tbody tr th {\n",
       "        vertical-align: top;\n",
       "    }\n",
       "\n",
       "    .dataframe thead th {\n",
       "        text-align: right;\n",
       "    }\n",
       "</style>\n",
       "<table border=\"1\" class=\"dataframe\">\n",
       "  <thead>\n",
       "    <tr style=\"text-align: right;\">\n",
       "      <th></th>\n",
       "      <th>Guest</th>\n",
       "    </tr>\n",
       "  </thead>\n",
       "  <tbody>\n",
       "    <tr>\n",
       "      <th>0</th>\n",
       "      <td>Male</td>\n",
       "    </tr>\n",
       "    <tr>\n",
       "      <th>1</th>\n",
       "      <td>Female</td>\n",
       "    </tr>\n",
       "    <tr>\n",
       "      <th>2</th>\n",
       "      <td>Male</td>\n",
       "    </tr>\n",
       "    <tr>\n",
       "      <th>3</th>\n",
       "      <td>Female</td>\n",
       "    </tr>\n",
       "    <tr>\n",
       "      <th>4</th>\n",
       "      <td>Female</td>\n",
       "    </tr>\n",
       "  </tbody>\n",
       "</table>\n",
       "</div>"
      ],
      "text/plain": [
       "    Guest\n",
       "0    Male\n",
       "1  Female\n",
       "2    Male\n",
       "3  Female\n",
       "4  Female"
      ]
     },
     "execution_count": 29,
     "metadata": {},
     "output_type": "execute_result"
    }
   ],
   "source": [
    "hairshop_df = pd.read_excel('./data/Hairshop.xlsx')\n",
    "\n",
    "hairshop_df.head()"
   ]
  },
  {
   "cell_type": "code",
   "execution_count": 30,
   "metadata": {},
   "outputs": [
    {
     "data": {
      "text/plain": [
       "(array(['Male', 'Female', 'Male', 'Female', 'Female', 'Male', 'Male',\n",
       "        'Female', 'Female', 'Female', 'Female', 'Female', 'Female',\n",
       "        'Female', 'Female', 'Female', 'Female', 'Male', 'Female', 'Female',\n",
       "        'Female', 'Female', 'Female', 'Female', 'Male', 'Female', 'Female',\n",
       "        'Female', 'Female', 'Female', 'Male', 'Female', 'Female', 'Female',\n",
       "        'Male', 'Female', 'Male', 'Female', 'Female', 'Female', 'Female',\n",
       "        'Female', 'Female', 'Female', 'Female', 'Female', 'Male', 'Male',\n",
       "        'Female', 'Female', 'Female', 'Female', 'Female', 'Male', 'Female',\n",
       "        'Female', 'Male', 'Female', 'Male', 'Female', 'Male', 'Female',\n",
       "        'Male', 'Female', 'Female', 'Male', 'Female', 'Female', 'Female',\n",
       "        'Female', 'Male', 'Female', 'Male', 'Female', 'Female', 'Female',\n",
       "        'Female', 'Female', 'Female', 'Female', 'Male', 'Male', 'Female',\n",
       "        'Female', 'Female', 'Male', 'Male', 'Female', 'Female', 'Female',\n",
       "        'Female', 'Female', 'Female', 'Female', 'Female', 'Female',\n",
       "        'Female', 'Female', 'Male', 'Female', 'Female', 'Male', 'Female',\n",
       "        'Male', 'Female', 'Female', 'Male', 'Female', 'Female', 'Female',\n",
       "        'Female', 'Female', 'Male', 'Female', 'Female', 'Male', 'Male',\n",
       "        'Female', 'Female', 'Female', 'Female', 'Female', 'Female',\n",
       "        'Female', 'Female', 'Female', 'Male', 'Female', 'Female', 'Female',\n",
       "        'Female', 'Male', 'Female', 'Female', 'Female', 'Female', 'Female',\n",
       "        'Female', 'Female', 'Female', 'Female', 'Female', 'Male', 'Female',\n",
       "        'Female', 'Male', 'Female', 'Female', 'Female', 'Female', 'Female',\n",
       "        'Female', 'Female', 'Male', 'Female', 'Male', 'Female', 'Female',\n",
       "        'Female', 'Female', 'Female', 'Female', 'Female', 'Female',\n",
       "        'Female', 'Male', 'Male', 'Female', 'Female', 'Female', 'Female',\n",
       "        'Female', 'Female', 'Female', 'Female', 'Female', 'Female',\n",
       "        'Female', 'Female', 'Female', 'Female', 'Female', 'Female',\n",
       "        'Female', 'Female', 'Female', 'Female', 'Female', 'Female',\n",
       "        'Female', 'Female', 'Female', 'Male', 'Female', 'Female', 'Male',\n",
       "        'Female', 'Male', 'Female', 'Female', 'Female', 'Female', 'Female',\n",
       "        'Male', 'Female', 'Female', 'Female', 'Female', 'Female', 'Female',\n",
       "        'Female', 'Male', 'Male', 'Female', 'Female', 'Female', 'Female',\n",
       "        'Male', 'Male', 'Female', 'Female', 'Male', 'Female', 'Female',\n",
       "        'Male', 'Female', 'Female', 'Female', 'Male', 'Female', 'Female',\n",
       "        'Female', 'Female', 'Male', 'Male', 'Female', 'Male', 'Female',\n",
       "        'Male', 'Female', 'Female', 'Female', 'Female', 'Female', 'Male',\n",
       "        'Male', 'Female', 'Male', 'Female', 'Female', 'Female', 'Female',\n",
       "        'Female', 'Male', 'Female', 'Female', 'Female', 'Female', 'Male',\n",
       "        'Female', 'Female', 'Female', 'Male', 'Female', 'Female', 'Male',\n",
       "        'Male', 'Female', 'Female', 'Female', 'Female', 'Female', 'Male',\n",
       "        'Female', 'Female', 'Female', 'Male', 'Female', 'Female', 'Female',\n",
       "        'Female', 'Male', 'Male', 'Female', 'Male', 'Female', 'Male',\n",
       "        'Female', 'Female', 'Female', 'Male', 'Female', 'Male', 'Female',\n",
       "        'Female', 'Female', 'Female', 'Female', 'Female', 'Female',\n",
       "        'Female', 'Male', 'Female', 'Male', 'Male', 'Female', 'Female',\n",
       "        'Female', 'Female', 'Female', 'Male', 'Female', 'Female', 'Female',\n",
       "        'Female', 'Female', 'Female', 'Female', 'Male', 'Male', 'Female',\n",
       "        'Female', 'Female', 'Female', 'Female', 'Female', 'Male', 'Female',\n",
       "        'Male', 'Female', 'Male', 'Female', 'Female', 'Male', 'Female',\n",
       "        'Male', 'Male', 'Female', 'Male', 'Female', 'Female', 'Female',\n",
       "        'Female', 'Female', 'Female', 'Female', 'Male', 'Female', 'Female',\n",
       "        'Female', 'Female', 'Male', 'Female', 'Female', 'Female', 'Male',\n",
       "        'Female', 'Female', 'Male', 'Female', 'Male', 'Female', 'Female',\n",
       "        'Female', 'Female', 'Female', 'Female', 'Male', 'Female', 'Female',\n",
       "        'Female', 'Female', 'Female', 'Female', 'Female', 'Male', 'Female',\n",
       "        'Male', 'Female', 'Female', 'Female', 'Female', 'Female', 'Female',\n",
       "        'Female', 'Female', 'Female', 'Female', 'Female', 'Female',\n",
       "        'Female', 'Male', 'Female', 'Male', 'Female', 'Female', 'Female',\n",
       "        'Female', 'Female', 'Female'], dtype=object),\n",
       " 400)"
      ]
     },
     "execution_count": 30,
     "metadata": {},
     "output_type": "execute_result"
    }
   ],
   "source": [
    "guest = np.array(hairshop_df['Guest'])\n",
    "guest.astype('str')\n",
    "\n",
    "guest, len(guest)"
   ]
  },
  {
   "cell_type": "code",
   "execution_count": 32,
   "metadata": {},
   "outputs": [
    {
     "data": {
      "text/plain": [
       "92"
      ]
     },
     "execution_count": 32,
     "metadata": {},
     "output_type": "execute_result"
    }
   ],
   "source": [
    "n = len(guest)\n",
    "alpha = 0.01\n",
    "p_0 = 0.2\n",
    "\n",
    "male = 0\n",
    "female = 0\n",
    "\n",
    "for i in np.arange(n):\n",
    "    if guest[i] == 'Male':\n",
    "        male += 1\n",
    "    else:\n",
    "        female += 1\n",
    "\n",
    "male"
   ]
  },
  {
   "cell_type": "code",
   "execution_count": 42,
   "metadata": {},
   "outputs": [
    {
     "data": {
      "text/plain": [
       "(0.230, 0.020)"
      ]
     },
     "execution_count": 42,
     "metadata": {},
     "output_type": "execute_result"
    }
   ],
   "source": [
    "x = 92\n",
    "p_bar = male / n\n",
    "se = np.sqrt(p_0 * (1-p_0)/n)\n",
    "p_bar, se"
   ]
  },
  {
   "attachments": {},
   "cell_type": "markdown",
   "metadata": {},
   "source": [
    "정규근사 조건 충족 여부"
   ]
  },
  {
   "cell_type": "code",
   "execution_count": 36,
   "metadata": {},
   "outputs": [
    {
     "name": "stdout",
     "output_type": "stream",
     "text": [
      "정규근사조건 충족함\n"
     ]
    }
   ],
   "source": [
    "if(n>=30 and n * p_bar >= 5 and n*(1-p_bar) >= 5):\n",
    "    print(\"정규근사조건 충족함\")\n",
    "else:\n",
    "    print(\"정규근사조건 충족하지 못함\")"
   ]
  },
  {
   "attachments": {},
   "cell_type": "markdown",
   "metadata": {},
   "source": [
    "임계값 접근법"
   ]
  },
  {
   "cell_type": "code",
   "execution_count": 44,
   "metadata": {},
   "outputs": [
    {
     "name": "stdout",
     "output_type": "stream",
     "text": [
      "z =  1.50, |z| =  1.50 < cv = 2.33입니다. \n",
      " 따라서 귀무가설을 기각하지 않습니다.\n"
     ]
    }
   ],
   "source": [
    "def z_test_r_cv(x, n, p_0, alpha):\n",
    "    p_bar = x/n\n",
    "    rv_z = stats.norm(0, 1)\n",
    "    se = np.sqrt(p_0 * (1-p_0)/n)\n",
    "    z = (p_bar - p_0) / se\n",
    "\n",
    "    cv = rv_z.isf(alpha)\n",
    "\n",
    "    if abs(z) >= cv:\n",
    "        print(f\"z = {z: .2f}, |z| = {abs(z): .2f} >= cv = {cv:.2f}입니다. \\n 따라서 귀무가설을 기각합니다.\")\n",
    "    else:\n",
    "        print(f\"z = {z: .2f}, |z| = {abs(z): .2f} < cv = {cv:.2f}입니다. \\n 따라서 귀무가설을 기각하지 않습니다.\")\n",
    "\n",
    "z_test_r_cv(x, n, p_0, alpha)"
   ]
  },
  {
   "attachments": {},
   "cell_type": "markdown",
   "metadata": {},
   "source": [
    "p값 접근법"
   ]
  },
  {
   "cell_type": "code",
   "execution_count": 47,
   "metadata": {},
   "outputs": [
    {
     "name": "stdout",
     "output_type": "stream",
     "text": [
      "p_value =  0.0668 > alpha =  0.01입니다. \n",
      " 따라서 귀무가설을 기각하지 않습니다.\n"
     ]
    }
   ],
   "source": [
    "def z_test_r_p(x, n, p_0, alpha):\n",
    "    p_bar = x/n\n",
    "    rv_z = stats.norm(0, 1)\n",
    "    se = np.sqrt(p_0 * (1-p_0)/n)\n",
    "    z = (p_bar - p_0) / se\n",
    "\n",
    "    if(z < 0):\n",
    "        p_value = rv_z.cdf(z)\n",
    "    else:\n",
    "        p_value = rv_z.sf(z)\n",
    "\n",
    "    if(p_value <= alpha):\n",
    "        print(f\"p_value = {p_value: .4f} <= alpha = {alpha: .2f}입니다. \\n 따라서 귀무가설을 기각합니다.\")\n",
    "    else:\n",
    "        print(f\"p_value = {p_value: .4f} > alpha = {alpha: .2f}입니다. \\n 따라서 귀무가설을 기각하지 않습니다.\")\n",
    "\n",
    "z_test_r_p(x, n, p_0, alpha)"
   ]
  },
  {
   "cell_type": "code",
   "execution_count": 48,
   "metadata": {},
   "outputs": [
    {
     "data": {
      "text/html": [
       "<div>\n",
       "<style scoped>\n",
       "    .dataframe tbody tr th:only-of-type {\n",
       "        vertical-align: middle;\n",
       "    }\n",
       "\n",
       "    .dataframe tbody tr th {\n",
       "        vertical-align: top;\n",
       "    }\n",
       "\n",
       "    .dataframe thead th {\n",
       "        text-align: right;\n",
       "    }\n",
       "</style>\n",
       "<table border=\"1\" class=\"dataframe\">\n",
       "  <thead>\n",
       "    <tr style=\"text-align: right;\">\n",
       "      <th></th>\n",
       "      <th>Fills</th>\n",
       "    </tr>\n",
       "  </thead>\n",
       "  <tbody>\n",
       "    <tr>\n",
       "      <th>0</th>\n",
       "      <td>999.6</td>\n",
       "    </tr>\n",
       "    <tr>\n",
       "      <th>1</th>\n",
       "      <td>1000.5</td>\n",
       "    </tr>\n",
       "    <tr>\n",
       "      <th>2</th>\n",
       "      <td>1001.3</td>\n",
       "    </tr>\n",
       "    <tr>\n",
       "      <th>3</th>\n",
       "      <td>999.5</td>\n",
       "    </tr>\n",
       "    <tr>\n",
       "      <th>4</th>\n",
       "      <td>1000.4</td>\n",
       "    </tr>\n",
       "  </tbody>\n",
       "</table>\n",
       "</div>"
      ],
      "text/plain": [
       "    Fills\n",
       "0   999.6\n",
       "1  1000.5\n",
       "2  1001.3\n",
       "3   999.5\n",
       "4  1000.4"
      ]
     },
     "execution_count": 48,
     "metadata": {},
     "output_type": "execute_result"
    }
   ],
   "source": [
    "syrup_df = pd.read_excel('./data/Syrup.xlsx')\n",
    "syrup_df.head()"
   ]
  },
  {
   "cell_type": "code",
   "execution_count": 49,
   "metadata": {},
   "outputs": [
    {
     "data": {
      "text/plain": [
       "(array([ 999.6, 1000.5, 1001.3,  999.5, 1000.4, 1000.7,  999.7, 1000.7,\n",
       "        1000.1, 1000.1,  999.3,  999.6,  999.4,  998.3, 1000.1, 1000.1,\n",
       "         999.1, 1000. ,  999.2,  999.6,  999.5,  997.8,  998.3,  999.2,\n",
       "         999.9]),\n",
       " 25)"
      ]
     },
     "execution_count": 49,
     "metadata": {},
     "output_type": "execute_result"
    }
   ],
   "source": [
    "fills = np.array(syrup_df['Fills'])\n",
    "fills, len(fills)"
   ]
  },
  {
   "cell_type": "code",
   "execution_count": 50,
   "metadata": {},
   "outputs": [],
   "source": [
    "n = len(fills)\n",
    "alpha = 0.05\n",
    "sample_var = np.var(fills, ddof=1)\n",
    "var_0 = 1"
   ]
  },
  {
   "attachments": {},
   "cell_type": "markdown",
   "metadata": {},
   "source": [
    "임계값 접근법"
   ]
  },
  {
   "cell_type": "code",
   "execution_count": 53,
   "metadata": {},
   "outputs": [
    {
     "name": "stdout",
     "output_type": "stream",
     "text": [
      "chi2 =  15.20 > cv =  13.85입니다. \n",
      " 따라서 귀무가설을 기각하지 않습니다.\n"
     ]
    }
   ],
   "source": [
    "def chi2_test_cv(array, sample_var, var_0, alpha):\n",
    "    n = len(array)\n",
    "    rv_chi2 = stats.chi2(n-1)\n",
    "    chi2 = (n-1) * sample_var / var_0\n",
    "\n",
    "    cv = rv_chi2.isf(1-alpha)\n",
    "\n",
    "    if chi2 <= cv:\n",
    "        print(f\"chi2 = {chi2: .2f} <= cv = {cv: .2f}입니다. \\n 따라서 귀무가설을 기각합니다.\")\n",
    "    else:\n",
    "        print(f\"chi2 = {chi2: .2f} > cv = {cv: .2f}입니다. \\n 따라서 귀무가설을 기각하지 않습니다.\")\n",
    "\n",
    "chi2_test_cv(fills, sample_var, var_0, alpha)"
   ]
  },
  {
   "attachments": {},
   "cell_type": "markdown",
   "metadata": {},
   "source": [
    "p-값 접근법"
   ]
  },
  {
   "cell_type": "code",
   "execution_count": 54,
   "metadata": {},
   "outputs": [
    {
     "name": "stdout",
     "output_type": "stream",
     "text": [
      "p_value =  0.09 >= alpha =  0.05입니다. \n",
      " 따라서 귀무가설을 기각하지 않습니다.\n"
     ]
    }
   ],
   "source": [
    "def chi2_test_p(array, sample_var, var_0, alpha):\n",
    "    n = len(array)\n",
    "    rv_chi2 = stats.chi2(n-1)\n",
    "    chi2 = (n-1) * sample_var / var_0\n",
    "\n",
    "    p_value = rv_chi2.cdf(chi2)\n",
    "\n",
    "    if(p_value < alpha):\n",
    "        print(f\"p_value = {p_value: .2f} < alpha = {alpha: .2f}입니다. \\n 따라서 귀무가설을 기각합니다.\")\n",
    "    else:\n",
    "        print(f\"p_value = {p_value: .2f} >= alpha = {alpha: .2f}입니다. \\n 따라서 귀무가설을 기각하지 않습니다.\")\n",
    "\n",
    "chi2_test_p(fills, sample_var, var_0, alpha)"
   ]
  }
 ],
 "metadata": {
  "kernelspec": {
   "display_name": "Python 3 (ipykernel)",
   "language": "python",
   "name": "python3"
  },
  "orig_nbformat": 4
 },
 "nbformat": 4,
 "nbformat_minor": 2
}
