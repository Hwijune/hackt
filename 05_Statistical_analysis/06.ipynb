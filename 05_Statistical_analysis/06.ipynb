{
 "cells": [
  {
   "cell_type": "code",
   "execution_count": 1,
   "metadata": {},
   "outputs": [
    {
     "data": {
      "text/plain": [
       "'%.3f'"
      ]
     },
     "execution_count": 1,
     "metadata": {},
     "output_type": "execute_result"
    }
   ],
   "source": [
    "import numpy as np\n",
    "import pandas as pd\n",
    "import scipy.stats as stats\n",
    "\n",
    "%precision 3"
   ]
  },
  {
   "attachments": {},
   "cell_type": "markdown",
   "metadata": {},
   "source": [
    "모집단 평균의 추정 with known sigma"
   ]
  },
  {
   "cell_type": "code",
   "execution_count": 3,
   "metadata": {},
   "outputs": [
    {
     "data": {
      "text/plain": [
       "array([ 72,  91,  74, 115,  71, 120,  37,  96,  91, 105, 104,  89,  70,\n",
       "       125,  43,  61, 102,  85,  26,  88,  80,  76,  70,  46,  79,  71,\n",
       "        78,  55, 104,  62,  84,  78,  54,  47, 109, 105,  65, 122, 112,\n",
       "        59, 100,  85,  82,  60,  65,  98,  61,  42, 114,  93, 110,  95,\n",
       "        62, 119,  68,  98,  89, 118,  63,  87,  72,  92,  89,  72,  46,\n",
       "       108,  63,  91,  86,  93,  84, 124,  75,  82,  56,  58,  64,  72,\n",
       "        97,  66,  80,  85,  75,  99, 112,  93,  76,  76,  89,  99, 113,\n",
       "        68,  80,  52,  90,  86,  95,  57,  71,  84])"
      ]
     },
     "execution_count": 3,
     "metadata": {},
     "output_type": "execute_result"
    }
   ],
   "source": [
    "amuse_df = pd.read_excel('./data/Amuse.xlsx')\n",
    "amuse = np.array(amuse_df['Amount Spent'])\n",
    "amuse"
   ]
  },
  {
   "cell_type": "code",
   "execution_count": 8,
   "metadata": {},
   "outputs": [
    {
     "data": {
      "text/plain": [
       "(1.960, 2.000, 3.920, 78.080, 85.920)"
      ]
     },
     "execution_count": 8,
     "metadata": {},
     "output_type": "execute_result"
    }
   ],
   "source": [
    "rv = stats.norm(0,1)\n",
    "std = 20\n",
    "n = len(amuse)\n",
    "xbar = np.mean(amuse)\n",
    "\n",
    "se = std / np.sqrt(n)\n",
    "e = rv.isf(0.025) * std / np.sqrt(n)\n",
    "lcl = xbar - e\n",
    "ucl = xbar + e\n",
    "\n",
    "rv.isf(0.025), se, e, lcl, ucl"
   ]
  },
  {
   "attachments": {},
   "cell_type": "markdown",
   "metadata": {},
   "source": [
    "모집단 평균의 추정 with unknown sigma"
   ]
  },
  {
   "cell_type": "code",
   "execution_count": 10,
   "metadata": {},
   "outputs": [
    {
     "data": {
      "text/plain": [
       "array([52, 44, 55, 44, 45, 59, 50, 54, 62, 46, 54, 42, 60, 62, 43, 42, 48,\n",
       "       55, 57, 56])"
      ]
     },
     "execution_count": 10,
     "metadata": {},
     "output_type": "execute_result"
    }
   ],
   "source": [
    "sales_df = pd.read_excel('./data/SalesDays.xlsx')\n",
    "sales_days = np.array(sales_df['Days'])\n",
    "\n",
    "sales_days"
   ]
  },
  {
   "cell_type": "code",
   "execution_count": 13,
   "metadata": {},
   "outputs": [
    {
     "data": {
      "text/plain": [
       "(51.500, 6.840, 1.530)"
      ]
     },
     "execution_count": 13,
     "metadata": {},
     "output_type": "execute_result"
    }
   ],
   "source": [
    "n = len(sales_days)\n",
    "rv_t = stats.t(df = n-1)\n",
    "xbar = np.mean(sales_days)\n",
    "sample_std = np.std(sales_days, ddof=1)\n",
    "se = sample_std / np.sqrt(n)\n",
    "\n",
    "xbar, sample_std, se"
   ]
  },
  {
   "cell_type": "code",
   "execution_count": 14,
   "metadata": {},
   "outputs": [
    {
     "data": {
      "text/plain": [
       "3.201"
      ]
     },
     "execution_count": 14,
     "metadata": {},
     "output_type": "execute_result"
    }
   ],
   "source": [
    "e = rv_t.isf(0.025) * se\n",
    "e"
   ]
  },
  {
   "cell_type": "code",
   "execution_count": 15,
   "metadata": {},
   "outputs": [
    {
     "data": {
      "text/plain": [
       "(48.299, 54.701)"
      ]
     },
     "execution_count": 15,
     "metadata": {},
     "output_type": "execute_result"
    }
   ],
   "source": [
    "lcl = xbar - e\n",
    "ucl = xbar + e\n",
    "\n",
    "lcl, ucl"
   ]
  },
  {
   "attachments": {},
   "cell_type": "markdown",
   "metadata": {},
   "source": [
    "표본 규모 결정"
   ]
  },
  {
   "cell_type": "code",
   "execution_count": 20,
   "metadata": {},
   "outputs": [
    {
     "data": {
      "text/plain": [
       "(89.432, 90.000)"
      ]
     },
     "execution_count": 20,
     "metadata": {},
     "output_type": "execute_result"
    }
   ],
   "source": [
    "e = 2\n",
    "z = rv.isf(0.025)\n",
    "sample_std = 9.65\n",
    "\n",
    "n = (z**2) * (sample_std**2) / e**2\n",
    "N = (np.ceil(n))\n",
    "\n",
    "n, N"
   ]
  },
  {
   "attachments": {},
   "cell_type": "markdown",
   "metadata": {},
   "source": [
    "모집단 비율 추정\n",
    "(남성 고객 비율의 95% 신뢰구간)"
   ]
  },
  {
   "cell_type": "code",
   "execution_count": 23,
   "metadata": {},
   "outputs": [
    {
     "data": {
      "text/plain": [
       "array(['Male', 'Female', 'Male', 'Female', 'Female', 'Male', 'Male',\n",
       "       'Female', 'Female', 'Female', 'Female', 'Female', 'Female',\n",
       "       'Female', 'Female', 'Female', 'Female', 'Male', 'Female', 'Female',\n",
       "       'Female', 'Female', 'Female', 'Female', 'Male', 'Female', 'Female',\n",
       "       'Female', 'Female', 'Female', 'Male', 'Female', 'Female', 'Female',\n",
       "       'Male', 'Female', 'Male', 'Female', 'Female', 'Female', 'Female',\n",
       "       'Female', 'Female', 'Female', 'Female', 'Female', 'Male', 'Male',\n",
       "       'Female', 'Female', 'Female', 'Female', 'Female', 'Male', 'Female',\n",
       "       'Female', 'Male', 'Female', 'Male', 'Female', 'Male', 'Female',\n",
       "       'Male', 'Female', 'Female', 'Male', 'Female', 'Female', 'Female',\n",
       "       'Female', 'Male', 'Female', 'Male', 'Female', 'Female', 'Female',\n",
       "       'Female', 'Female', 'Female', 'Female', 'Male', 'Male', 'Female',\n",
       "       'Female', 'Female', 'Male', 'Male', 'Female', 'Female', 'Female',\n",
       "       'Female', 'Female', 'Female', 'Female', 'Female', 'Female',\n",
       "       'Female', 'Female', 'Male', 'Female', 'Female', 'Male', 'Female',\n",
       "       'Male', 'Female', 'Female', 'Male', 'Female', 'Female', 'Female',\n",
       "       'Female', 'Female', 'Male', 'Female', 'Female', 'Male', 'Male',\n",
       "       'Female', 'Female', 'Female', 'Female', 'Female', 'Female',\n",
       "       'Female', 'Female', 'Female', 'Male', 'Female', 'Female', 'Female',\n",
       "       'Female', 'Male', 'Female', 'Female', 'Female', 'Female', 'Female',\n",
       "       'Female', 'Female', 'Female', 'Female', 'Female', 'Male', 'Female',\n",
       "       'Female', 'Male', 'Female', 'Female', 'Female', 'Female', 'Female',\n",
       "       'Female', 'Female', 'Male', 'Female', 'Male', 'Female', 'Female',\n",
       "       'Female', 'Female', 'Female', 'Female', 'Female', 'Female',\n",
       "       'Female', 'Male', 'Male', 'Female', 'Female', 'Female', 'Female',\n",
       "       'Female', 'Female', 'Female', 'Female', 'Female', 'Female',\n",
       "       'Female', 'Female', 'Female', 'Female', 'Female', 'Female',\n",
       "       'Female', 'Female', 'Female', 'Female', 'Female', 'Female',\n",
       "       'Female', 'Female', 'Female', 'Male', 'Female', 'Female', 'Male',\n",
       "       'Female', 'Male', 'Female', 'Female', 'Female', 'Female', 'Female',\n",
       "       'Male', 'Female', 'Female', 'Female', 'Female', 'Female', 'Female',\n",
       "       'Female', 'Male', 'Male', 'Female', 'Female', 'Female', 'Female',\n",
       "       'Male', 'Male', 'Female', 'Female', 'Male', 'Female', 'Female',\n",
       "       'Male', 'Female', 'Female', 'Female', 'Male', 'Female', 'Female',\n",
       "       'Female', 'Female', 'Male', 'Male', 'Female', 'Male', 'Female',\n",
       "       'Male', 'Female', 'Female', 'Female', 'Female', 'Female', 'Male',\n",
       "       'Male', 'Female', 'Male', 'Female', 'Female', 'Female', 'Female',\n",
       "       'Female', 'Male', 'Female', 'Female', 'Female', 'Female', 'Male',\n",
       "       'Female', 'Female', 'Female', 'Male', 'Female', 'Female', 'Male',\n",
       "       'Male', 'Female', 'Female', 'Female', 'Female', 'Female', 'Male',\n",
       "       'Female', 'Female', 'Female', 'Male', 'Female', 'Female', 'Female',\n",
       "       'Female', 'Male', 'Male', 'Female', 'Male', 'Female', 'Male',\n",
       "       'Female', 'Female', 'Female', 'Male', 'Female', 'Male', 'Female',\n",
       "       'Female', 'Female', 'Female', 'Female', 'Female', 'Female',\n",
       "       'Female', 'Male', 'Female', 'Male', 'Male', 'Female', 'Female',\n",
       "       'Female', 'Female', 'Female', 'Male', 'Female', 'Female', 'Female',\n",
       "       'Female', 'Female', 'Female', 'Female', 'Male', 'Male', 'Female',\n",
       "       'Female', 'Female', 'Female', 'Female', 'Female', 'Male', 'Female',\n",
       "       'Male', 'Female', 'Male', 'Female', 'Female', 'Male', 'Female',\n",
       "       'Male', 'Male', 'Female', 'Male', 'Female', 'Female', 'Female',\n",
       "       'Female', 'Female', 'Female', 'Female', 'Male', 'Female', 'Female',\n",
       "       'Female', 'Female', 'Male', 'Female', 'Female', 'Female', 'Male',\n",
       "       'Female', 'Female', 'Male', 'Female', 'Male', 'Female', 'Female',\n",
       "       'Female', 'Female', 'Female', 'Female', 'Male', 'Female', 'Female',\n",
       "       'Female', 'Female', 'Female', 'Female', 'Female', 'Male', 'Female',\n",
       "       'Male', 'Female', 'Female', 'Female', 'Female', 'Female', 'Female',\n",
       "       'Female', 'Female', 'Female', 'Female', 'Female', 'Female',\n",
       "       'Female', 'Male', 'Female', 'Male', 'Female', 'Female', 'Female',\n",
       "       'Female', 'Female', 'Female'], dtype='<U6')"
      ]
     },
     "execution_count": 23,
     "metadata": {},
     "output_type": "execute_result"
    }
   ],
   "source": [
    "hairshop_df = pd.read_excel('./data/Hairshop.xlsx')\n",
    "guest = np.array(hairshop_df['Guest'])\n",
    "guest.astype('str')"
   ]
  },
  {
   "cell_type": "code",
   "execution_count": 25,
   "metadata": {},
   "outputs": [
    {
     "data": {
      "text/plain": [
       "(400, 92, 308)"
      ]
     },
     "execution_count": 25,
     "metadata": {},
     "output_type": "execute_result"
    }
   ],
   "source": [
    "n = len(guest)\n",
    "\n",
    "male = 0\n",
    "female = 0\n",
    "\n",
    "for i in np.arange(n):\n",
    "    if guest[i] == 'Male':\n",
    "        male += 1\n",
    "    else:\n",
    "        female += 1\n",
    "\n",
    "n, male, female"
   ]
  },
  {
   "cell_type": "code",
   "execution_count": 26,
   "metadata": {},
   "outputs": [
    {
     "data": {
      "text/plain": [
       "0.230"
      ]
     },
     "execution_count": 26,
     "metadata": {},
     "output_type": "execute_result"
    }
   ],
   "source": [
    "p_bar = male / n\n",
    "\n",
    "p_bar"
   ]
  },
  {
   "cell_type": "code",
   "execution_count": 27,
   "metadata": {},
   "outputs": [
    {
     "data": {
      "text/plain": [
       "0.041"
      ]
     },
     "execution_count": 27,
     "metadata": {},
     "output_type": "execute_result"
    }
   ],
   "source": [
    "e = rv.isf(0.025) * np.sqrt(p_bar * (1 - p_bar) / n)\n",
    "e"
   ]
  },
  {
   "cell_type": "code",
   "execution_count": 28,
   "metadata": {},
   "outputs": [
    {
     "data": {
      "text/plain": [
       "(0.189, 0.271)"
      ]
     },
     "execution_count": 28,
     "metadata": {},
     "output_type": "execute_result"
    }
   ],
   "source": [
    "lcl = p_bar - e\n",
    "ucl = p_bar + e\n",
    "\n",
    "lcl, ucl"
   ]
  },
  {
   "cell_type": "code",
   "execution_count": 29,
   "metadata": {},
   "outputs": [
    {
     "data": {
      "text/plain": [
       "(1088.516, 1089.000)"
      ]
     },
     "execution_count": 29,
     "metadata": {},
     "output_type": "execute_result"
    }
   ],
   "source": [
    "e = 0.025\n",
    "\n",
    "n = rv.isf(0.025) ** 2 * p_bar * (1 - p_bar) / e ** 2\n",
    "N = np.ceil(n)\n",
    "\n",
    "n, N"
   ]
  },
  {
   "attachments": {},
   "cell_type": "markdown",
   "metadata": {},
   "source": [
    "모집단 비율의 구간 추정"
   ]
  },
  {
   "cell_type": "code",
   "execution_count": 31,
   "metadata": {},
   "outputs": [
    {
     "data": {
      "text/plain": [
       "array([ 999.6, 1000.5, 1001.3,  999.5, 1000.4, 1000.7,  999.7, 1000.7,\n",
       "       1000.1, 1000.1,  999.3,  999.6,  999.4,  998.3, 1000.1, 1000.1,\n",
       "        999.1, 1000. ,  999.2,  999.6,  999.5,  997.8,  998.3,  999.2,\n",
       "        999.9])"
      ]
     },
     "execution_count": 31,
     "metadata": {},
     "output_type": "execute_result"
    }
   ],
   "source": [
    "syrup_df = pd.read_excel('./data/Syrup.xlsx')\n",
    "syrup = np.array(syrup_df['Fills'])\n",
    "\n",
    "syrup"
   ]
  },
  {
   "cell_type": "code",
   "execution_count": 33,
   "metadata": {},
   "outputs": [
    {
     "data": {
      "text/plain": [
       "(25, 0.796, 0.633)"
      ]
     },
     "execution_count": 33,
     "metadata": {},
     "output_type": "execute_result"
    }
   ],
   "source": [
    "n = len(syrup)\n",
    "\n",
    "rv_chi2 = stats.chi2(df = n-1)\n",
    "\n",
    "sample_std = np.std(syrup, ddof=1)\n",
    "sample_var = sample_std ** 2\n",
    "\n",
    "n, sample_std, sample_var"
   ]
  },
  {
   "cell_type": "code",
   "execution_count": 34,
   "metadata": {},
   "outputs": [
    {
     "data": {
      "text/plain": [
       "(0.386, 1.226)"
      ]
     },
     "execution_count": 34,
     "metadata": {},
     "output_type": "execute_result"
    }
   ],
   "source": [
    "lcl = (n-1) * sample_var / rv_chi2.isf(0.025)\n",
    "ucl = (n-1) * sample_var / rv_chi2.isf(1-0.025)\n",
    "\n",
    "lcl, ucl"
   ]
  }
 ],
 "metadata": {
  "kernelspec": {
   "display_name": "Python 3 (ipykernel)",
   "language": "python",
   "name": "python3"
  },
  "language_info": {
   "codemirror_mode": {
    "name": "ipython",
    "version": 3
   },
   "file_extension": ".py",
   "mimetype": "text/x-python",
   "name": "python",
   "nbconvert_exporter": "python",
   "pygments_lexer": "ipython3",
   "version": "3.10.6"
  },
  "orig_nbformat": 4
 },
 "nbformat": 4,
 "nbformat_minor": 2
}
