{
 "cells": [
  {
   "cell_type": "code",
   "execution_count": 118,
   "id": "62c3fbac",
   "metadata": {
    "execution": {
     "iopub.execute_input": "2023-02-03T15:33:58.962807Z",
     "iopub.status.busy": "2023-02-03T15:33:58.962277Z",
     "iopub.status.idle": "2023-02-03T15:34:00.176433Z",
     "shell.execute_reply": "2023-02-03T15:34:00.174985Z"
    },
    "papermill": {
     "duration": 1.234316,
     "end_time": "2023-02-03T15:34:00.179579",
     "exception": false,
     "start_time": "2023-02-03T15:33:58.945263",
     "status": "completed"
    },
    "tags": []
   },
   "outputs": [],
   "source": [
    "import pandas as pd\n",
    "import numpy as np\n",
    "from datetime import datetime\n",
    "import matplotlib.pyplot as plt\n",
    "import seaborn as sns\n",
    "np.random.seed(123)\n",
    "sns.set_style('white')\n",
    "plt.rc('font', family='NanumGothic')\n",
    "plt.rc('axes', unicode_minus=False)"
   ]
  },
  {
   "cell_type": "code",
   "execution_count": 119,
   "id": "8c404c5c",
   "metadata": {
    "execution": {
     "iopub.execute_input": "2023-02-03T15:34:00.208643Z",
     "iopub.status.busy": "2023-02-03T15:34:00.208182Z",
     "iopub.status.idle": "2023-02-03T15:34:00.559310Z",
     "shell.execute_reply": "2023-02-03T15:34:00.557899Z"
    },
    "papermill": {
     "duration": 0.370344,
     "end_time": "2023-02-03T15:34:00.563465",
     "exception": false,
     "start_time": "2023-02-03T15:34:00.193121",
     "status": "completed"
    },
    "tags": []
   },
   "outputs": [
    {
     "name": "stdout",
     "output_type": "stream",
     "text": [
      "<class 'pandas.core.frame.DataFrame'>\n",
      "RangeIndex: 4244 entries, 0 to 4243\n",
      "Data columns (total 29 columns):\n",
      " #   Column      Non-Null Count  Dtype  \n",
      "---  ------      --------------  -----  \n",
      " 0   SEQ         4244 non-null   object \n",
      " 1   접수일         4244 non-null   object \n",
      " 2   접수시각        900 non-null    object \n",
      " 3   장기서비스여부     4244 non-null   int64  \n",
      " 4   최초서비스일      4244 non-null   object \n",
      " 5   전체회차        4244 non-null   int64  \n",
      " 6   현재회차        4244 non-null   int64  \n",
      " 7   서비스일자       4244 non-null   object \n",
      " 8   서비스시작시간     4244 non-null   object \n",
      " 9   서비스종료시간     4244 non-null   object \n",
      " 10  기존고객여부      4244 non-null   int64  \n",
      " 11  결재형태        4238 non-null   object \n",
      " 12  서비스주소       4244 non-null   object \n",
      " 13  주거형태        4244 non-null   object \n",
      " 14  평수          2946 non-null   object \n",
      " 15  고객가입일       4084 non-null   object \n",
      " 16  반려동물        3868 non-null   object \n",
      " 17  부재중여부       2946 non-null   float64\n",
      " 18  우선청소        2381 non-null   object \n",
      " 19  쿠폰사용여부      4244 non-null   int64  \n",
      " 20  매니저생년월일     4244 non-null   int64  \n",
      " 21  매니저성별       4244 non-null   int64  \n",
      " 22  매니저사용휴대폰    3814 non-null   object \n",
      " 23  매니저이동방법     4172 non-null   object \n",
      " 24  근무가능지역      4244 non-null   object \n",
      " 25  CS교육이수여부    3815 non-null   float64\n",
      " 26  청소교육이수여부    3815 non-null   float64\n",
      " 27  부재중서비스가능여부  4244 non-null   int64  \n",
      " 28  추천인여부       4244 non-null   int64  \n",
      "dtypes: float64(3), int64(9), object(17)\n",
      "memory usage: 961.7+ KB\n"
     ]
    }
   ],
   "source": [
    "tr = pd.read_csv('data/trainset.csv')\n",
    "te = pd.read_csv('data/testset_final.csv')\n",
    "# tr = pd.read_csv('/kaggle/input/kmu-ml/trainset.csv')\n",
    "# te = pd.read_csv('/kaggle/input/kmu-ml/testset_final.csv')\n",
    "\n",
    "te.info()"
   ]
  },
  {
   "cell_type": "code",
   "execution_count": 120,
   "id": "da962bdf",
   "metadata": {
    "execution": {
     "iopub.execute_input": "2023-02-03T15:34:00.597078Z",
     "iopub.status.busy": "2023-02-03T15:34:00.595970Z",
     "iopub.status.idle": "2023-02-03T15:34:00.713780Z",
     "shell.execute_reply": "2023-02-03T15:34:00.712465Z"
    },
    "papermill": {
     "duration": 0.136119,
     "end_time": "2023-02-03T15:34:00.716297",
     "exception": false,
     "start_time": "2023-02-03T15:34:00.580178",
     "status": "completed"
    },
    "tags": []
   },
   "outputs": [
    {
     "name": "stdout",
     "output_type": "stream",
     "text": [
      "<class 'pandas.core.frame.DataFrame'>\n",
      "Int64Index: 27253 entries, 0 to 4243\n",
      "Data columns (total 33 columns):\n",
      " #   Column      Non-Null Count  Dtype  \n",
      "---  ------      --------------  -----  \n",
      " 0   SEQ         27253 non-null  object \n",
      " 1   접수일         27253 non-null  object \n",
      " 2   접수시각        4013 non-null   object \n",
      " 3   장기서비스여부     27253 non-null  int64  \n",
      " 4   최초서비스일      27253 non-null  object \n",
      " 5   전체회차        27253 non-null  int64  \n",
      " 6   현재회차        27253 non-null  int64  \n",
      " 7   서비스일자       27253 non-null  object \n",
      " 8   서비스시작시간     27253 non-null  object \n",
      " 9   서비스종료시간     27253 non-null  object \n",
      " 10  기존고객여부      27253 non-null  int64  \n",
      " 11  결재형태        27247 non-null  object \n",
      " 12  서비스주소       27253 non-null  object \n",
      " 13  주거형태        27253 non-null  object \n",
      " 14  평수          16802 non-null  object \n",
      " 15  고객가입일       27093 non-null  object \n",
      " 16  반려동물        24102 non-null  object \n",
      " 17  부재중여부       16802 non-null  float64\n",
      " 18  우선청소        13360 non-null  object \n",
      " 19  쿠폰사용여부      27253 non-null  int64  \n",
      " 20  매니저생년월일     27253 non-null  object \n",
      " 21  매니저최초가입일    23009 non-null  object \n",
      " 22  매니저최초서비스일   23009 non-null  object \n",
      " 23  매니저성별       27253 non-null  int64  \n",
      " 24  매니저사용휴대폰    24024 non-null  object \n",
      " 25  매니저주소       23009 non-null  object \n",
      " 26  매니저이동방법     26931 non-null  object \n",
      " 27  근무가능지역      27253 non-null  object \n",
      " 28  CS교육이수여부    24025 non-null  float64\n",
      " 29  청소교육이수여부    24025 non-null  float64\n",
      " 30  부재중서비스가능여부  27253 non-null  int64  \n",
      " 31  추천인여부       27253 non-null  int64  \n",
      " 32  매칭성공여부      23009 non-null  float64\n",
      "dtypes: float64(4), int64(8), object(21)\n",
      "memory usage: 7.1+ MB\n"
     ]
    }
   ],
   "source": [
    "drop_col = ['매니저최초서비스일', '접수시각']\n",
    "tr.매니저생년월일 = tr.매니저생년월일.str[:4]\n",
    "df = pd.concat([tr,te])\n",
    "df.info()\n",
    "df = df.drop(columns=drop_col)"
   ]
  },
  {
   "cell_type": "code",
   "execution_count": 121,
   "id": "f666d290",
   "metadata": {
    "execution": {
     "iopub.execute_input": "2023-02-03T15:34:00.746481Z",
     "iopub.status.busy": "2023-02-03T15:34:00.745563Z",
     "iopub.status.idle": "2023-02-03T15:34:00.785588Z",
     "shell.execute_reply": "2023-02-03T15:34:00.783180Z"
    },
    "papermill": {
     "duration": 0.058808,
     "end_time": "2023-02-03T15:34:00.788659",
     "exception": false,
     "start_time": "2023-02-03T15:34:00.729851",
     "status": "completed"
    },
    "tags": []
   },
   "outputs": [
    {
     "name": "stdout",
     "output_type": "stream",
     "text": [
      "<class 'pandas.core.frame.DataFrame'>\n",
      "Int64Index: 27253 entries, 0 to 4243\n",
      "Data columns (total 31 columns):\n",
      " #   Column      Non-Null Count  Dtype  \n",
      "---  ------      --------------  -----  \n",
      " 0   SEQ         27253 non-null  object \n",
      " 1   접수일         27253 non-null  object \n",
      " 2   장기서비스여부     27253 non-null  int64  \n",
      " 3   최초서비스일      27253 non-null  object \n",
      " 4   전체회차        27253 non-null  int64  \n",
      " 5   현재회차        27253 non-null  int64  \n",
      " 6   서비스일자       27253 non-null  object \n",
      " 7   서비스시작시간     27253 non-null  object \n",
      " 8   서비스종료시간     27253 non-null  object \n",
      " 9   기존고객여부      27253 non-null  int64  \n",
      " 10  결재형태        27247 non-null  object \n",
      " 11  서비스주소       27253 non-null  object \n",
      " 12  주거형태        27253 non-null  object \n",
      " 13  평수          16802 non-null  object \n",
      " 14  고객가입일       27093 non-null  object \n",
      " 15  반려동물        24102 non-null  object \n",
      " 16  부재중여부       16802 non-null  float64\n",
      " 17  우선청소        13360 non-null  object \n",
      " 18  쿠폰사용여부      27253 non-null  int64  \n",
      " 19  매니저생년월일     27253 non-null  object \n",
      " 20  매니저최초가입일    23009 non-null  object \n",
      " 21  매니저성별       27253 non-null  int64  \n",
      " 22  매니저사용휴대폰    24024 non-null  object \n",
      " 23  매니저주소       23009 non-null  object \n",
      " 24  매니저이동방법     26931 non-null  object \n",
      " 25  근무가능지역      27253 non-null  object \n",
      " 26  CS교육이수여부    24025 non-null  float64\n",
      " 27  청소교육이수여부    24025 non-null  float64\n",
      " 28  부재중서비스가능여부  27253 non-null  int64  \n",
      " 29  추천인여부       27253 non-null  int64  \n",
      " 30  매칭성공여부      23009 non-null  float64\n",
      "dtypes: float64(4), int64(8), object(19)\n",
      "memory usage: 6.7+ MB\n"
     ]
    }
   ],
   "source": [
    "df.info()"
   ]
  },
  {
   "cell_type": "code",
   "execution_count": 122,
   "id": "72954ad2",
   "metadata": {
    "execution": {
     "iopub.execute_input": "2023-02-03T15:34:00.818960Z",
     "iopub.status.busy": "2023-02-03T15:34:00.818516Z",
     "iopub.status.idle": "2023-02-03T15:34:00.908852Z",
     "shell.execute_reply": "2023-02-03T15:34:00.907653Z"
    },
    "papermill": {
     "duration": 0.108085,
     "end_time": "2023-02-03T15:34:00.911430",
     "exception": false,
     "start_time": "2023-02-03T15:34:00.803345",
     "status": "completed"
    },
    "tags": []
   },
   "outputs": [],
   "source": [
    "df['접수일'] = pd.to_datetime(df['접수일'])\n",
    "df['최초서비스일'] = pd.to_datetime(df['최초서비스일'])\n",
    "df['서비스일자'] = pd.to_datetime(df['서비스일자'])\n",
    "df['고객가입일'] = pd.to_datetime(df['고객가입일'])\n",
    "df['서비스시작시간'] = pd.to_datetime(df['서비스시작시간'])\n",
    "df['서비스종료시간'] = pd.to_datetime(df['서비스종료시간'])\n",
    "df['매니저최초가입일'] = pd.to_datetime(df['매니저최초가입일']).fillna((datetime.today()))"
   ]
  },
  {
   "cell_type": "code",
   "execution_count": 123,
   "id": "a1399f37",
   "metadata": {
    "execution": {
     "iopub.execute_input": "2023-02-03T15:34:00.941172Z",
     "iopub.status.busy": "2023-02-03T15:34:00.940660Z",
     "iopub.status.idle": "2023-02-03T15:34:01.041468Z",
     "shell.execute_reply": "2023-02-03T15:34:01.040076Z"
    },
    "papermill": {
     "duration": 0.119763,
     "end_time": "2023-02-03T15:34:01.045172",
     "exception": false,
     "start_time": "2023-02-03T15:34:00.925409",
     "status": "completed"
    },
    "tags": []
   },
   "outputs": [
    {
     "name": "stdout",
     "output_type": "stream",
     "text": [
      "<class 'pandas.core.frame.DataFrame'>\n",
      "Int64Index: 27253 entries, 0 to 4243\n",
      "Data columns (total 19 columns):\n",
      " #   Column     Non-Null Count  Dtype  \n",
      "---  ------     --------------  -----  \n",
      " 0   접수년        27253 non-null  int64  \n",
      " 1   접수월        27253 non-null  int64  \n",
      " 2   접수일        27253 non-null  int64  \n",
      " 3   접수분기       27253 non-null  int64  \n",
      " 4   접수요일       27253 non-null  int64  \n",
      " 5   최초서비스차이    27253 non-null  int64  \n",
      " 6   서비스년       27253 non-null  int64  \n",
      " 7   서비스월       27253 non-null  int64  \n",
      " 8   서비스일       27253 non-null  int64  \n",
      " 9   서비스분기      27253 non-null  int64  \n",
      " 10  서비스요일      27253 non-null  int64  \n",
      " 11  접수일서비스일차이  27253 non-null  int64  \n",
      " 12  가입일수       27253 non-null  float64\n",
      " 13  가입년차       27253 non-null  int64  \n",
      " 14  서비스시작시간    27253 non-null  int64  \n",
      " 15  서비스종료시간    27253 non-null  int64  \n",
      " 16  서비스시간      27253 non-null  int64  \n",
      " 17  매니저경력      27253 non-null  int64  \n",
      " 18  매니저연차      27253 non-null  int64  \n",
      "dtypes: float64(1), int64(18)\n",
      "memory usage: 4.2 MB\n"
     ]
    }
   ],
   "source": [
    "my_dict = {}\n",
    "my_dict['접수년'] = df['접수일'].dt.year\n",
    "my_dict['접수월'] = df['접수일'].dt.month\n",
    "my_dict['접수일'] = df['접수일'].dt.day\n",
    "my_dict['접수분기'] = df['접수일'].dt.quarter\n",
    "my_dict['접수요일'] = df['접수일'].dt.weekday\n",
    "my_dict['최초서비스차이'] = (df['최초서비스일']-df['접수일']).dt.days\n",
    "my_dict['서비스년'] = df['서비스일자'].dt.year\n",
    "my_dict['서비스월'] = df['서비스일자'].dt.month\n",
    "my_dict['서비스일'] = df['서비스일자'].dt.day\n",
    "my_dict['서비스분기'] = df['서비스일자'].dt.quarter\n",
    "my_dict['서비스요일'] = df['서비스일자'].dt.weekday\n",
    "my_dict['접수일서비스일차이'] = (df['서비스일자']-df['접수일']).dt.days\n",
    "my_dict['가입일수'] = (datetime.today() - pd.to_datetime(df['고객가입일'])).dt.days.fillna(0)\n",
    "my_dict['가입년차'] = (my_dict['가입일수']/365).astype('int')\n",
    "my_dict['서비스시작시간'] = df['서비스시작시간'].dt.hour\n",
    "my_dict['서비스종료시간'] = df['서비스종료시간'].dt.hour\n",
    "my_dict['서비스시간'] = (my_dict['서비스종료시간'] - my_dict['서비스시작시간'])\n",
    "my_dict['매니저경력'] = (datetime.today() - df['매니저최초가입일']).dt.days.fillna(0)\n",
    "my_dict['매니저연차'] = (my_dict['매니저경력']/365).astype('int')\n",
    "\n",
    "my_dict = pd.DataFrame(my_dict)\n",
    "my_dict.info()"
   ]
  },
  {
   "cell_type": "code",
   "execution_count": 124,
   "id": "dbce631b",
   "metadata": {
    "execution": {
     "iopub.execute_input": "2023-02-03T15:34:01.076806Z",
     "iopub.status.busy": "2023-02-03T15:34:01.075548Z",
     "iopub.status.idle": "2023-02-03T15:34:01.115325Z",
     "shell.execute_reply": "2023-02-03T15:34:01.113883Z"
    },
    "papermill": {
     "duration": 0.057879,
     "end_time": "2023-02-03T15:34:01.118045",
     "exception": false,
     "start_time": "2023-02-03T15:34:01.060166",
     "status": "completed"
    },
    "tags": []
   },
   "outputs": [
    {
     "name": "stdout",
     "output_type": "stream",
     "text": [
      "<class 'pandas.core.frame.DataFrame'>\n",
      "Int64Index: 27253 entries, 0 to 4243\n",
      "Data columns (total 48 columns):\n",
      " #   Column     Non-Null Count  Dtype  \n",
      "---  ------     --------------  -----  \n",
      " 0   접수월        27253 non-null  int64  \n",
      " 1   접수일        27253 non-null  int64  \n",
      " 2   최초서비스차이    27253 non-null  int64  \n",
      " 3   서비스월       27253 non-null  int64  \n",
      " 4   서비스일       27253 non-null  int64  \n",
      " 5   접수일서비스일차이  27253 non-null  int64  \n",
      " 6   가입일수       27253 non-null  float64\n",
      " 7   가입년차       27253 non-null  int64  \n",
      " 8   서비스시작시간    27253 non-null  int64  \n",
      " 9   서비스종료시간    27253 non-null  int64  \n",
      " 10  매니저경력      27253 non-null  int64  \n",
      " 11  매니저연차      27253 non-null  int64  \n",
      " 12  접수년_2019   27253 non-null  uint8  \n",
      " 13  접수년_2020   27253 non-null  uint8  \n",
      " 14  접수년_2021   27253 non-null  uint8  \n",
      " 15  접수분기_1     27253 non-null  uint8  \n",
      " 16  접수분기_2     27253 non-null  uint8  \n",
      " 17  접수분기_3     27253 non-null  uint8  \n",
      " 18  접수분기_4     27253 non-null  uint8  \n",
      " 19  접수요일_0     27253 non-null  uint8  \n",
      " 20  접수요일_1     27253 non-null  uint8  \n",
      " 21  접수요일_2     27253 non-null  uint8  \n",
      " 22  접수요일_3     27253 non-null  uint8  \n",
      " 23  접수요일_4     27253 non-null  uint8  \n",
      " 24  접수요일_5     27253 non-null  uint8  \n",
      " 25  접수요일_6     27253 non-null  uint8  \n",
      " 26  서비스년_2019  27253 non-null  uint8  \n",
      " 27  서비스년_2020  27253 non-null  uint8  \n",
      " 28  서비스년_2021  27253 non-null  uint8  \n",
      " 29  서비스분기_1    27253 non-null  uint8  \n",
      " 30  서비스분기_2    27253 non-null  uint8  \n",
      " 31  서비스분기_3    27253 non-null  uint8  \n",
      " 32  서비스분기_4    27253 non-null  uint8  \n",
      " 33  서비스요일_0    27253 non-null  uint8  \n",
      " 34  서비스요일_1    27253 non-null  uint8  \n",
      " 35  서비스요일_2    27253 non-null  uint8  \n",
      " 36  서비스요일_3    27253 non-null  uint8  \n",
      " 37  서비스요일_4    27253 non-null  uint8  \n",
      " 38  서비스요일_5    27253 non-null  uint8  \n",
      " 39  서비스요일_6    27253 non-null  uint8  \n",
      " 40  서비스시간_2    27253 non-null  uint8  \n",
      " 41  서비스시간_3    27253 non-null  uint8  \n",
      " 42  서비스시간_4    27253 non-null  uint8  \n",
      " 43  서비스시간_5    27253 non-null  uint8  \n",
      " 44  서비스시간_6    27253 non-null  uint8  \n",
      " 45  서비스시간_7    27253 non-null  uint8  \n",
      " 46  서비스시간_8    27253 non-null  uint8  \n",
      " 47  서비스시간_9    27253 non-null  uint8  \n",
      "dtypes: float64(1), int64(11), uint8(36)\n",
      "memory usage: 3.6 MB\n"
     ]
    }
   ],
   "source": [
    "df_dum_class = pd.get_dummies(my_dict, columns = ['접수년', '접수분기', '접수요일', \n",
    "                                                  '서비스년', '서비스분기', '서비스요일', '서비스시간'])\n",
    "df_dum_class.info()"
   ]
  },
  {
   "cell_type": "code",
   "execution_count": 125,
   "id": "64f7c1d9",
   "metadata": {
    "execution": {
     "iopub.execute_input": "2023-02-03T15:34:01.149009Z",
     "iopub.status.busy": "2023-02-03T15:34:01.148520Z",
     "iopub.status.idle": "2023-02-03T15:34:01.163629Z",
     "shell.execute_reply": "2023-02-03T15:34:01.162368Z"
    },
    "papermill": {
     "duration": 0.033588,
     "end_time": "2023-02-03T15:34:01.166196",
     "exception": false,
     "start_time": "2023-02-03T15:34:01.132608",
     "status": "completed"
    },
    "tags": []
   },
   "outputs": [
    {
     "name": "stdout",
     "output_type": "stream",
     "text": [
      "<class 'pandas.core.frame.DataFrame'>\n",
      "Int64Index: 27253 entries, 0 to 4243\n",
      "Data columns (total 3 columns):\n",
      " #   Column  Non-Null Count  Dtype\n",
      "---  ------  --------------  -----\n",
      " 0   접수요일    27253 non-null  int64\n",
      " 1   서비스요일   27253 non-null  int64\n",
      " 2   서비스시간   27253 non-null  int64\n",
      "dtypes: int64(3)\n",
      "memory usage: 851.7 KB\n"
     ]
    }
   ],
   "source": [
    "drop_col = ['접수년', '접수월', '접수일', '접수분기', '서비스년', '서비스월', '서비스일', '서비스분기', \n",
    "'최초서비스차이', '접수일서비스일차이', '가입일수', '가입년차', '서비스시작시간', '서비스종료시간', '매니저경력', '매니저연차']\n",
    "\n",
    "my_dict = my_dict.drop(columns=drop_col)\n",
    "\n",
    "my_dict.info()"
   ]
  },
  {
   "cell_type": "code",
   "execution_count": 126,
   "id": "41f6d038",
   "metadata": {
    "execution": {
     "iopub.execute_input": "2023-02-03T15:34:01.195942Z",
     "iopub.status.busy": "2023-02-03T15:34:01.195531Z",
     "iopub.status.idle": "2023-02-03T15:34:01.218809Z",
     "shell.execute_reply": "2023-02-03T15:34:01.216988Z"
    },
    "papermill": {
     "duration": 0.041719,
     "end_time": "2023-02-03T15:34:01.221880",
     "exception": false,
     "start_time": "2023-02-03T15:34:01.180161",
     "status": "completed"
    },
    "tags": []
   },
   "outputs": [
    {
     "name": "stdout",
     "output_type": "stream",
     "text": [
      "<class 'pandas.core.frame.DataFrame'>\n",
      "Int64Index: 27253 entries, 0 to 4243\n",
      "Data columns (total 51 columns):\n",
      " #   Column     Non-Null Count  Dtype  \n",
      "---  ------     --------------  -----  \n",
      " 0   접수요일       27253 non-null  int64  \n",
      " 1   서비스요일      27253 non-null  int64  \n",
      " 2   서비스시간      27253 non-null  int64  \n",
      " 3   접수월        27253 non-null  int64  \n",
      " 4   접수일        27253 non-null  int64  \n",
      " 5   최초서비스차이    27253 non-null  int64  \n",
      " 6   서비스월       27253 non-null  int64  \n",
      " 7   서비스일       27253 non-null  int64  \n",
      " 8   접수일서비스일차이  27253 non-null  int64  \n",
      " 9   가입일수       27253 non-null  float64\n",
      " 10  가입년차       27253 non-null  int64  \n",
      " 11  서비스시작시간    27253 non-null  int64  \n",
      " 12  서비스종료시간    27253 non-null  int64  \n",
      " 13  매니저경력      27253 non-null  int64  \n",
      " 14  매니저연차      27253 non-null  int64  \n",
      " 15  접수년_2019   27253 non-null  uint8  \n",
      " 16  접수년_2020   27253 non-null  uint8  \n",
      " 17  접수년_2021   27253 non-null  uint8  \n",
      " 18  접수분기_1     27253 non-null  uint8  \n",
      " 19  접수분기_2     27253 non-null  uint8  \n",
      " 20  접수분기_3     27253 non-null  uint8  \n",
      " 21  접수분기_4     27253 non-null  uint8  \n",
      " 22  접수요일_0     27253 non-null  uint8  \n",
      " 23  접수요일_1     27253 non-null  uint8  \n",
      " 24  접수요일_2     27253 non-null  uint8  \n",
      " 25  접수요일_3     27253 non-null  uint8  \n",
      " 26  접수요일_4     27253 non-null  uint8  \n",
      " 27  접수요일_5     27253 non-null  uint8  \n",
      " 28  접수요일_6     27253 non-null  uint8  \n",
      " 29  서비스년_2019  27253 non-null  uint8  \n",
      " 30  서비스년_2020  27253 non-null  uint8  \n",
      " 31  서비스년_2021  27253 non-null  uint8  \n",
      " 32  서비스분기_1    27253 non-null  uint8  \n",
      " 33  서비스분기_2    27253 non-null  uint8  \n",
      " 34  서비스분기_3    27253 non-null  uint8  \n",
      " 35  서비스분기_4    27253 non-null  uint8  \n",
      " 36  서비스요일_0    27253 non-null  uint8  \n",
      " 37  서비스요일_1    27253 non-null  uint8  \n",
      " 38  서비스요일_2    27253 non-null  uint8  \n",
      " 39  서비스요일_3    27253 non-null  uint8  \n",
      " 40  서비스요일_4    27253 non-null  uint8  \n",
      " 41  서비스요일_5    27253 non-null  uint8  \n",
      " 42  서비스요일_6    27253 non-null  uint8  \n",
      " 43  서비스시간_2    27253 non-null  uint8  \n",
      " 44  서비스시간_3    27253 non-null  uint8  \n",
      " 45  서비스시간_4    27253 non-null  uint8  \n",
      " 46  서비스시간_5    27253 non-null  uint8  \n",
      " 47  서비스시간_6    27253 non-null  uint8  \n",
      " 48  서비스시간_7    27253 non-null  uint8  \n",
      " 49  서비스시간_8    27253 non-null  uint8  \n",
      " 50  서비스시간_9    27253 non-null  uint8  \n",
      "dtypes: float64(1), int64(14), uint8(36)\n",
      "memory usage: 4.3 MB\n"
     ]
    }
   ],
   "source": [
    "my_dict = pd.concat([my_dict, df_dum_class], axis=1) # column bind\n",
    "\n",
    "my_dict.info()"
   ]
  },
  {
   "cell_type": "code",
   "execution_count": 127,
   "id": "b866ae64",
   "metadata": {
    "execution": {
     "iopub.execute_input": "2023-02-03T15:34:01.253683Z",
     "iopub.status.busy": "2023-02-03T15:34:01.252966Z",
     "iopub.status.idle": "2023-02-03T15:34:01.281680Z",
     "shell.execute_reply": "2023-02-03T15:34:01.280410Z"
    },
    "papermill": {
     "duration": 0.047757,
     "end_time": "2023-02-03T15:34:01.284331",
     "exception": false,
     "start_time": "2023-02-03T15:34:01.236574",
     "status": "completed"
    },
    "tags": []
   },
   "outputs": [
    {
     "data": {
      "text/html": [
       "<div>\n",
       "<style scoped>\n",
       "    .dataframe tbody tr th:only-of-type {\n",
       "        vertical-align: middle;\n",
       "    }\n",
       "\n",
       "    .dataframe tbody tr th {\n",
       "        vertical-align: top;\n",
       "    }\n",
       "\n",
       "    .dataframe thead th {\n",
       "        text-align: right;\n",
       "    }\n",
       "</style>\n",
       "<table border=\"1\" class=\"dataframe\">\n",
       "  <thead>\n",
       "    <tr style=\"text-align: right;\">\n",
       "      <th></th>\n",
       "      <th>접수요일</th>\n",
       "      <th>서비스요일</th>\n",
       "      <th>서비스시간</th>\n",
       "      <th>접수월</th>\n",
       "      <th>접수일</th>\n",
       "      <th>최초서비스차이</th>\n",
       "      <th>서비스월</th>\n",
       "      <th>서비스일</th>\n",
       "      <th>접수일서비스일차이</th>\n",
       "      <th>가입일수</th>\n",
       "      <th>...</th>\n",
       "      <th>서비스요일_5</th>\n",
       "      <th>서비스요일_6</th>\n",
       "      <th>서비스시간_2</th>\n",
       "      <th>서비스시간_3</th>\n",
       "      <th>서비스시간_4</th>\n",
       "      <th>서비스시간_5</th>\n",
       "      <th>서비스시간_6</th>\n",
       "      <th>서비스시간_7</th>\n",
       "      <th>서비스시간_8</th>\n",
       "      <th>서비스시간_9</th>\n",
       "    </tr>\n",
       "  </thead>\n",
       "  <tbody>\n",
       "    <tr>\n",
       "      <th>0</th>\n",
       "      <td>1</td>\n",
       "      <td>0</td>\n",
       "      <td>4</td>\n",
       "      <td>7</td>\n",
       "      <td>9</td>\n",
       "      <td>6</td>\n",
       "      <td>7</td>\n",
       "      <td>29</td>\n",
       "      <td>20</td>\n",
       "      <td>1384.0</td>\n",
       "      <td>...</td>\n",
       "      <td>0</td>\n",
       "      <td>0</td>\n",
       "      <td>0</td>\n",
       "      <td>0</td>\n",
       "      <td>1</td>\n",
       "      <td>0</td>\n",
       "      <td>0</td>\n",
       "      <td>0</td>\n",
       "      <td>0</td>\n",
       "      <td>0</td>\n",
       "    </tr>\n",
       "    <tr>\n",
       "      <th>1</th>\n",
       "      <td>4</td>\n",
       "      <td>1</td>\n",
       "      <td>6</td>\n",
       "      <td>7</td>\n",
       "      <td>12</td>\n",
       "      <td>3</td>\n",
       "      <td>8</td>\n",
       "      <td>20</td>\n",
       "      <td>39</td>\n",
       "      <td>1355.0</td>\n",
       "      <td>...</td>\n",
       "      <td>0</td>\n",
       "      <td>0</td>\n",
       "      <td>0</td>\n",
       "      <td>0</td>\n",
       "      <td>0</td>\n",
       "      <td>0</td>\n",
       "      <td>1</td>\n",
       "      <td>0</td>\n",
       "      <td>0</td>\n",
       "      <td>0</td>\n",
       "    </tr>\n",
       "    <tr>\n",
       "      <th>2</th>\n",
       "      <td>2</td>\n",
       "      <td>4</td>\n",
       "      <td>4</td>\n",
       "      <td>11</td>\n",
       "      <td>18</td>\n",
       "      <td>5</td>\n",
       "      <td>12</td>\n",
       "      <td>11</td>\n",
       "      <td>23</td>\n",
       "      <td>843.0</td>\n",
       "      <td>...</td>\n",
       "      <td>0</td>\n",
       "      <td>0</td>\n",
       "      <td>0</td>\n",
       "      <td>0</td>\n",
       "      <td>1</td>\n",
       "      <td>0</td>\n",
       "      <td>0</td>\n",
       "      <td>0</td>\n",
       "      <td>0</td>\n",
       "      <td>0</td>\n",
       "    </tr>\n",
       "    <tr>\n",
       "      <th>3</th>\n",
       "      <td>0</td>\n",
       "      <td>0</td>\n",
       "      <td>5</td>\n",
       "      <td>11</td>\n",
       "      <td>9</td>\n",
       "      <td>0</td>\n",
       "      <td>11</td>\n",
       "      <td>30</td>\n",
       "      <td>21</td>\n",
       "      <td>1094.0</td>\n",
       "      <td>...</td>\n",
       "      <td>0</td>\n",
       "      <td>0</td>\n",
       "      <td>0</td>\n",
       "      <td>0</td>\n",
       "      <td>0</td>\n",
       "      <td>1</td>\n",
       "      <td>0</td>\n",
       "      <td>0</td>\n",
       "      <td>0</td>\n",
       "      <td>0</td>\n",
       "    </tr>\n",
       "    <tr>\n",
       "      <th>4</th>\n",
       "      <td>1</td>\n",
       "      <td>1</td>\n",
       "      <td>4</td>\n",
       "      <td>2</td>\n",
       "      <td>25</td>\n",
       "      <td>35</td>\n",
       "      <td>4</td>\n",
       "      <td>7</td>\n",
       "      <td>42</td>\n",
       "      <td>1233.0</td>\n",
       "      <td>...</td>\n",
       "      <td>0</td>\n",
       "      <td>0</td>\n",
       "      <td>0</td>\n",
       "      <td>0</td>\n",
       "      <td>1</td>\n",
       "      <td>0</td>\n",
       "      <td>0</td>\n",
       "      <td>0</td>\n",
       "      <td>0</td>\n",
       "      <td>0</td>\n",
       "    </tr>\n",
       "  </tbody>\n",
       "</table>\n",
       "<p>5 rows × 51 columns</p>\n",
       "</div>"
      ],
      "text/plain": [
       "   접수요일  서비스요일  서비스시간  접수월  접수일  최초서비스차이  서비스월  서비스일  접수일서비스일차이    가입일수  ...  \\\n",
       "0     1      0      4    7    9        6     7    29         20  1384.0  ...   \n",
       "1     4      1      6    7   12        3     8    20         39  1355.0  ...   \n",
       "2     2      4      4   11   18        5    12    11         23   843.0  ...   \n",
       "3     0      0      5   11    9        0    11    30         21  1094.0  ...   \n",
       "4     1      1      4    2   25       35     4     7         42  1233.0  ...   \n",
       "\n",
       "   서비스요일_5  서비스요일_6  서비스시간_2  서비스시간_3  서비스시간_4  서비스시간_5  서비스시간_6  서비스시간_7  \\\n",
       "0        0        0        0        0        1        0        0        0   \n",
       "1        0        0        0        0        0        0        1        0   \n",
       "2        0        0        0        0        1        0        0        0   \n",
       "3        0        0        0        0        0        1        0        0   \n",
       "4        0        0        0        0        1        0        0        0   \n",
       "\n",
       "   서비스시간_8  서비스시간_9  \n",
       "0        0        0  \n",
       "1        0        0  \n",
       "2        0        0  \n",
       "3        0        0  \n",
       "4        0        0  \n",
       "\n",
       "[5 rows x 51 columns]"
      ]
     },
     "execution_count": 127,
     "metadata": {},
     "output_type": "execute_result"
    }
   ],
   "source": [
    "my_dict.head()"
   ]
  },
  {
   "cell_type": "code",
   "execution_count": 128,
   "id": "ab0fd26d",
   "metadata": {
    "execution": {
     "iopub.execute_input": "2023-02-03T15:34:01.315296Z",
     "iopub.status.busy": "2023-02-03T15:34:01.314844Z",
     "iopub.status.idle": "2023-02-03T15:34:01.330435Z",
     "shell.execute_reply": "2023-02-03T15:34:01.329143Z"
    },
    "papermill": {
     "duration": 0.033937,
     "end_time": "2023-02-03T15:34:01.333103",
     "exception": false,
     "start_time": "2023-02-03T15:34:01.299166",
     "status": "completed"
    },
    "tags": []
   },
   "outputs": [],
   "source": [
    "non_col = [0,1,2,3,4]\n",
    "my_dict['서비스평일'] = my_dict.서비스요일.isin(non_col).astype('int')\n",
    "\n",
    "non_col = [5,6]\n",
    "my_dict['서비스주말'] = my_dict.서비스요일.isin(non_col).astype('int')\n",
    "\n",
    "non_col = [0,1,2,3,4]\n",
    "my_dict['접수평일'] = my_dict.접수요일.isin(non_col).astype('int')\n",
    "\n",
    "non_col = [5,6]\n",
    "my_dict['접수주말'] = my_dict.접수요일.isin(non_col).astype('int')\n",
    "\n",
    "my_dict['서비스시간'] = (my_dict['서비스종료시간'] - my_dict['서비스시작시간'])\n",
    "\n"
   ]
  },
  {
   "cell_type": "code",
   "execution_count": 129,
   "id": "2131c15e",
   "metadata": {
    "execution": {
     "iopub.execute_input": "2023-02-03T15:34:01.363704Z",
     "iopub.status.busy": "2023-02-03T15:34:01.363304Z",
     "iopub.status.idle": "2023-02-03T15:34:01.385171Z",
     "shell.execute_reply": "2023-02-03T15:34:01.383724Z"
    },
    "papermill": {
     "duration": 0.041094,
     "end_time": "2023-02-03T15:34:01.388548",
     "exception": false,
     "start_time": "2023-02-03T15:34:01.347454",
     "status": "completed"
    },
    "tags": []
   },
   "outputs": [
    {
     "name": "stdout",
     "output_type": "stream",
     "text": [
      "<class 'pandas.core.frame.DataFrame'>\n",
      "Int64Index: 27253 entries, 0 to 4243\n",
      "Data columns (total 55 columns):\n",
      " #   Column     Non-Null Count  Dtype  \n",
      "---  ------     --------------  -----  \n",
      " 0   접수요일       27253 non-null  int64  \n",
      " 1   서비스요일      27253 non-null  int64  \n",
      " 2   서비스시간      27253 non-null  int64  \n",
      " 3   접수월        27253 non-null  int64  \n",
      " 4   접수일        27253 non-null  int64  \n",
      " 5   최초서비스차이    27253 non-null  int64  \n",
      " 6   서비스월       27253 non-null  int64  \n",
      " 7   서비스일       27253 non-null  int64  \n",
      " 8   접수일서비스일차이  27253 non-null  int64  \n",
      " 9   가입일수       27253 non-null  float64\n",
      " 10  가입년차       27253 non-null  int64  \n",
      " 11  서비스시작시간    27253 non-null  int64  \n",
      " 12  서비스종료시간    27253 non-null  int64  \n",
      " 13  매니저경력      27253 non-null  int64  \n",
      " 14  매니저연차      27253 non-null  int64  \n",
      " 15  접수년_2019   27253 non-null  uint8  \n",
      " 16  접수년_2020   27253 non-null  uint8  \n",
      " 17  접수년_2021   27253 non-null  uint8  \n",
      " 18  접수분기_1     27253 non-null  uint8  \n",
      " 19  접수분기_2     27253 non-null  uint8  \n",
      " 20  접수분기_3     27253 non-null  uint8  \n",
      " 21  접수분기_4     27253 non-null  uint8  \n",
      " 22  접수요일_0     27253 non-null  uint8  \n",
      " 23  접수요일_1     27253 non-null  uint8  \n",
      " 24  접수요일_2     27253 non-null  uint8  \n",
      " 25  접수요일_3     27253 non-null  uint8  \n",
      " 26  접수요일_4     27253 non-null  uint8  \n",
      " 27  접수요일_5     27253 non-null  uint8  \n",
      " 28  접수요일_6     27253 non-null  uint8  \n",
      " 29  서비스년_2019  27253 non-null  uint8  \n",
      " 30  서비스년_2020  27253 non-null  uint8  \n",
      " 31  서비스년_2021  27253 non-null  uint8  \n",
      " 32  서비스분기_1    27253 non-null  uint8  \n",
      " 33  서비스분기_2    27253 non-null  uint8  \n",
      " 34  서비스분기_3    27253 non-null  uint8  \n",
      " 35  서비스분기_4    27253 non-null  uint8  \n",
      " 36  서비스요일_0    27253 non-null  uint8  \n",
      " 37  서비스요일_1    27253 non-null  uint8  \n",
      " 38  서비스요일_2    27253 non-null  uint8  \n",
      " 39  서비스요일_3    27253 non-null  uint8  \n",
      " 40  서비스요일_4    27253 non-null  uint8  \n",
      " 41  서비스요일_5    27253 non-null  uint8  \n",
      " 42  서비스요일_6    27253 non-null  uint8  \n",
      " 43  서비스시간_2    27253 non-null  uint8  \n",
      " 44  서비스시간_3    27253 non-null  uint8  \n",
      " 45  서비스시간_4    27253 non-null  uint8  \n",
      " 46  서비스시간_5    27253 non-null  uint8  \n",
      " 47  서비스시간_6    27253 non-null  uint8  \n",
      " 48  서비스시간_7    27253 non-null  uint8  \n",
      " 49  서비스시간_8    27253 non-null  uint8  \n",
      " 50  서비스시간_9    27253 non-null  uint8  \n",
      " 51  서비스평일      27253 non-null  int64  \n",
      " 52  서비스주말      27253 non-null  int64  \n",
      " 53  접수평일       27253 non-null  int64  \n",
      " 54  접수주말       27253 non-null  int64  \n",
      "dtypes: float64(1), int64(18), uint8(36)\n",
      "memory usage: 5.1 MB\n"
     ]
    }
   ],
   "source": [
    "my_dict.info()"
   ]
  },
  {
   "cell_type": "code",
   "execution_count": 130,
   "id": "9d281d27",
   "metadata": {
    "execution": {
     "iopub.execute_input": "2023-02-03T15:34:01.420147Z",
     "iopub.status.busy": "2023-02-03T15:34:01.419679Z",
     "iopub.status.idle": "2023-02-03T15:34:01.453223Z",
     "shell.execute_reply": "2023-02-03T15:34:01.451764Z"
    },
    "papermill": {
     "duration": 0.05313,
     "end_time": "2023-02-03T15:34:01.456835",
     "exception": false,
     "start_time": "2023-02-03T15:34:01.403705",
     "status": "completed"
    },
    "tags": []
   },
   "outputs": [
    {
     "name": "stdout",
     "output_type": "stream",
     "text": [
      "<class 'pandas.core.frame.DataFrame'>\n",
      "Int64Index: 27253 entries, 0 to 4243\n",
      "Data columns (total 12 columns):\n",
      " #   Column    Non-Null Count  Dtype \n",
      "---  ------    --------------  ----- \n",
      " 0   SEQ       27253 non-null  object\n",
      " 1   결재형태      27247 non-null  object\n",
      " 2   서비스주소     27253 non-null  object\n",
      " 3   주거형태      27253 non-null  object\n",
      " 4   평수        16802 non-null  object\n",
      " 5   반려동물      24102 non-null  object\n",
      " 6   우선청소      13360 non-null  object\n",
      " 7   매니저생년월일   27253 non-null  object\n",
      " 8   매니저사용휴대폰  24024 non-null  object\n",
      " 9   매니저주소     23009 non-null  object\n",
      " 10  매니저이동방법   26931 non-null  object\n",
      " 11  근무가능지역    27253 non-null  object\n",
      "dtypes: object(12)\n",
      "memory usage: 2.7+ MB\n"
     ]
    }
   ],
   "source": [
    "#범주형 데이터\n",
    "df_cat = df.select_dtypes(['object'])\n",
    "df_cat.info()"
   ]
  },
  {
   "cell_type": "code",
   "execution_count": 131,
   "id": "3230c947",
   "metadata": {
    "execution": {
     "iopub.execute_input": "2023-02-03T15:34:01.488599Z",
     "iopub.status.busy": "2023-02-03T15:34:01.488123Z",
     "iopub.status.idle": "2023-02-03T15:34:01.524094Z",
     "shell.execute_reply": "2023-02-03T15:34:01.522633Z"
    },
    "papermill": {
     "duration": 0.05488,
     "end_time": "2023-02-03T15:34:01.526882",
     "exception": false,
     "start_time": "2023-02-03T15:34:01.472002",
     "status": "completed"
    },
    "tags": []
   },
   "outputs": [
    {
     "data": {
      "text/plain": [
       "결재형태         4\n",
       "서비스주소       49\n",
       "주거형태         2\n",
       "평수           4\n",
       "반려동물         7\n",
       "우선청소         5\n",
       "매니저생년월일     70\n",
       "매니저사용휴대폰     3\n",
       "매니저주소       36\n",
       "매니저이동방법      2\n",
       "근무가능지역       8\n",
       "dtype: int64"
      ]
     },
     "execution_count": 131,
     "metadata": {},
     "output_type": "execute_result"
    }
   ],
   "source": [
    "col = ['SEQ']\n",
    "df_cat = df_cat.drop(columns=col)\n",
    "df_cat.nunique()"
   ]
  },
  {
   "cell_type": "code",
   "execution_count": 132,
   "id": "56a6f996",
   "metadata": {
    "execution": {
     "iopub.execute_input": "2023-02-03T15:34:01.558855Z",
     "iopub.status.busy": "2023-02-03T15:34:01.557560Z",
     "iopub.status.idle": "2023-02-03T15:34:01.562526Z",
     "shell.execute_reply": "2023-02-03T15:34:01.561628Z"
    },
    "papermill": {
     "duration": 0.023186,
     "end_time": "2023-02-03T15:34:01.564808",
     "exception": false,
     "start_time": "2023-02-03T15:34:01.541622",
     "status": "completed"
    },
    "tags": []
   },
   "outputs": [],
   "source": [
    "# sns.barplot(x=df_cat.columns, y=df_cat.isnull().sum())\n",
    "# plt.xticks(rotation=90);"
   ]
  },
  {
   "cell_type": "code",
   "execution_count": 133,
   "id": "e3b25903",
   "metadata": {
    "execution": {
     "iopub.execute_input": "2023-02-03T15:34:01.596443Z",
     "iopub.status.busy": "2023-02-03T15:34:01.595642Z",
     "iopub.status.idle": "2023-02-03T15:34:01.638169Z",
     "shell.execute_reply": "2023-02-03T15:34:01.636962Z"
    },
    "papermill": {
     "duration": 0.061241,
     "end_time": "2023-02-03T15:34:01.640651",
     "exception": false,
     "start_time": "2023-02-03T15:34:01.579410",
     "status": "completed"
    },
    "tags": []
   },
   "outputs": [
    {
     "data": {
      "text/plain": [
       "결재형태        0\n",
       "서비스주소       0\n",
       "주거형태        0\n",
       "평수          0\n",
       "반려동물        0\n",
       "우선청소        0\n",
       "매니저생년월일     0\n",
       "매니저사용휴대폰    0\n",
       "매니저주소       0\n",
       "매니저이동방법     0\n",
       "근무가능지역      0\n",
       "dtype: int64"
      ]
     },
     "execution_count": 133,
     "metadata": {},
     "output_type": "execute_result"
    }
   ],
   "source": [
    "#범주형 결측치 others\n",
    "df_cat = df_cat.fillna('OTHERS')\n",
    "df_cat.isnull().sum()"
   ]
  },
  {
   "cell_type": "code",
   "execution_count": 134,
   "id": "8995b2cf",
   "metadata": {
    "execution": {
     "iopub.execute_input": "2023-02-03T15:34:01.672835Z",
     "iopub.status.busy": "2023-02-03T15:34:01.672448Z",
     "iopub.status.idle": "2023-02-03T15:34:01.676673Z",
     "shell.execute_reply": "2023-02-03T15:34:01.675772Z"
    },
    "papermill": {
     "duration": 0.022944,
     "end_time": "2023-02-03T15:34:01.679067",
     "exception": false,
     "start_time": "2023-02-03T15:34:01.656123",
     "status": "completed"
    },
    "tags": []
   },
   "outputs": [],
   "source": [
    "# graph_cols = list(df_cat.columns[(df_cat.nunique()<20).values])\n",
    "# graph_cols\n",
    "\n",
    "# fig, ax = plt.subplots(nrows=len(graph_cols), ncols=1, figsize=(20,30))\n",
    "# for i, a in zip(graph_cols, ax):\n",
    "#     sns.countplot(x=i, data=df_cat, hue=df['매칭성공여부'], ax=a)"
   ]
  },
  {
   "cell_type": "code",
   "execution_count": 135,
   "id": "7e376062",
   "metadata": {
    "execution": {
     "iopub.execute_input": "2023-02-03T15:34:01.711288Z",
     "iopub.status.busy": "2023-02-03T15:34:01.710371Z",
     "iopub.status.idle": "2023-02-03T15:34:01.716476Z",
     "shell.execute_reply": "2023-02-03T15:34:01.715430Z"
    },
    "papermill": {
     "duration": 0.025004,
     "end_time": "2023-02-03T15:34:01.718989",
     "exception": false,
     "start_time": "2023-02-03T15:34:01.693985",
     "status": "completed"
    },
    "tags": []
   },
   "outputs": [],
   "source": [
    "# - 기본 원-핫\n",
    "# - 10개 이상 바이너리 encoding\n",
    "# - 너무 많으면 mean encoding\n",
    "\n",
    "# 결재형태         4\n",
    "# 서비스주소       49 : mean\n",
    "# 주거형태         2\n",
    "# 평수           4\n",
    "# 반려동물         7\n",
    "# 우선청소         5\n",
    "# 매니저생년월일     70 : mean\n",
    "# 매니저사용휴대폰     3\n",
    "# 매니저이동방법      2\n",
    "# 근무가능지역       8\n",
    "#===================================="
   ]
  },
  {
   "cell_type": "code",
   "execution_count": 136,
   "id": "0f0f99f2",
   "metadata": {
    "execution": {
     "iopub.execute_input": "2023-02-03T15:34:01.750760Z",
     "iopub.status.busy": "2023-02-03T15:34:01.750360Z",
     "iopub.status.idle": "2023-02-03T15:34:01.760316Z",
     "shell.execute_reply": "2023-02-03T15:34:01.759133Z"
    },
    "papermill": {
     "duration": 0.02899,
     "end_time": "2023-02-03T15:34:01.762825",
     "exception": false,
     "start_time": "2023-02-03T15:34:01.733835",
     "status": "completed"
    },
    "tags": []
   },
   "outputs": [
    {
     "data": {
      "text/plain": [
       "array(['무통장입금', '신용카드', '가상계좌', '미수', 'OTHERS'], dtype=object)"
      ]
     },
     "execution_count": 136,
     "metadata": {},
     "output_type": "execute_result"
    }
   ],
   "source": [
    "df_cat['결재형태'].unique()"
   ]
  },
  {
   "cell_type": "code",
   "execution_count": 137,
   "id": "be7b0b34",
   "metadata": {
    "execution": {
     "iopub.execute_input": "2023-02-03T15:34:01.794574Z",
     "iopub.status.busy": "2023-02-03T15:34:01.794157Z",
     "iopub.status.idle": "2023-02-03T15:34:01.820107Z",
     "shell.execute_reply": "2023-02-03T15:34:01.818958Z"
    },
    "papermill": {
     "duration": 0.04513,
     "end_time": "2023-02-03T15:34:01.822897",
     "exception": false,
     "start_time": "2023-02-03T15:34:01.777767",
     "status": "completed"
    },
    "tags": []
   },
   "outputs": [],
   "source": [
    "my_dict['신용카드'] = (df_cat['결재형태'] == '신용카드').astype('int')\n",
    "my_dict['무통장입금']  = (df_cat['결재형태'] == '무통장입금').astype('int')\n",
    "my_dict['가상계좌']  = (df_cat['결재형태'] == '가상계좌').astype('int')\n",
    "my_dict['미수']  = (df_cat['결재형태'] == '미수').astype('int')\n",
    "my_dict['결제형태_파악불가']  = (df_cat['결재형태'] == 'OTHERS').astype('int')"
   ]
  },
  {
   "cell_type": "code",
   "execution_count": 138,
   "id": "6383a4f2",
   "metadata": {
    "execution": {
     "iopub.execute_input": "2023-02-03T15:34:01.855680Z",
     "iopub.status.busy": "2023-02-03T15:34:01.855275Z",
     "iopub.status.idle": "2023-02-03T15:34:01.865985Z",
     "shell.execute_reply": "2023-02-03T15:34:01.864552Z"
    },
    "papermill": {
     "duration": 0.029681,
     "end_time": "2023-02-03T15:34:01.868593",
     "exception": false,
     "start_time": "2023-02-03T15:34:01.838912",
     "status": "completed"
    },
    "tags": []
   },
   "outputs": [
    {
     "data": {
      "text/plain": [
       "array(['충남 천안시', '서울 강서구', '충남 아산시', '강원 원주시', '광주 북구', '서울 은평구',\n",
       "       '서울 용산구', '서울 강동구', '서울 강남구', '경기 평택시', '강원 춘천시', '경기 성남시',\n",
       "       '서울 영등포구', '서울 금천구', '광주 남구', '서울 동작구', '부산 강서구', '광주 광산구',\n",
       "       '광주 서구', '서울 동대문구', '서울 관악구', '경기 의정부시', '서울 성동구', '부산 연제구',\n",
       "       '서울 중구', '서울 성북구', '서울 서초구', '경기 안성시', '서울 강북구', '경남 창원시',\n",
       "       '서울 마포구', '부산 해운대구', '광주 동구', '부산 사하구', '서울 서대문구', '서울 종로구',\n",
       "       '서울 도봉구', '부산 동래구', '서울 노원구', '부산 동구', '서울 중랑구', '서울 구로구', '부산 북구',\n",
       "       '경기 화성시', '서울 광진구', '서울 송파구', '부산 부산진구', '부산 금정구', '부산 사상구'],\n",
       "      dtype=object)"
      ]
     },
     "execution_count": 138,
     "metadata": {},
     "output_type": "execute_result"
    }
   ],
   "source": [
    "df_cat['서비스주소'].unique()"
   ]
  },
  {
   "cell_type": "code",
   "execution_count": 139,
   "id": "e937e709",
   "metadata": {
    "execution": {
     "iopub.execute_input": "2023-02-03T15:34:01.900523Z",
     "iopub.status.busy": "2023-02-03T15:34:01.900107Z",
     "iopub.status.idle": "2023-02-03T15:34:01.931050Z",
     "shell.execute_reply": "2023-02-03T15:34:01.929216Z"
    },
    "papermill": {
     "duration": 0.05069,
     "end_time": "2023-02-03T15:34:01.934335",
     "exception": false,
     "start_time": "2023-02-03T15:34:01.883645",
     "status": "completed"
    },
    "tags": []
   },
   "outputs": [
    {
     "name": "stdout",
     "output_type": "stream",
     "text": [
      "<class 'pandas.core.frame.DataFrame'>\n",
      "Int64Index: 27253 entries, 0 to 4243\n",
      "Data columns (total 11 columns):\n",
      " #   Column    Non-Null Count  Dtype \n",
      "---  ------    --------------  ----- \n",
      " 0   결재형태      27253 non-null  object\n",
      " 1   서비스주소     27253 non-null  object\n",
      " 2   주거형태      27253 non-null  object\n",
      " 3   평수        27253 non-null  object\n",
      " 4   반려동물      27253 non-null  object\n",
      " 5   우선청소      27253 non-null  object\n",
      " 6   매니저생년월일   27253 non-null  object\n",
      " 7   매니저사용휴대폰  27253 non-null  object\n",
      " 8   매니저주소     27253 non-null  object\n",
      " 9   매니저이동방법   27253 non-null  object\n",
      " 10  근무가능지역    27253 non-null  object\n",
      "dtypes: object(11)\n",
      "memory usage: 2.5+ MB\n"
     ]
    }
   ],
   "source": [
    "df_cat.info()"
   ]
  },
  {
   "cell_type": "code",
   "execution_count": 140,
   "id": "5e0b5e8a",
   "metadata": {
    "execution": {
     "iopub.execute_input": "2023-02-03T15:34:01.967342Z",
     "iopub.status.busy": "2023-02-03T15:34:01.966864Z",
     "iopub.status.idle": "2023-02-03T15:34:01.972592Z",
     "shell.execute_reply": "2023-02-03T15:34:01.971206Z"
    },
    "papermill": {
     "duration": 0.024949,
     "end_time": "2023-02-03T15:34:01.975097",
     "exception": false,
     "start_time": "2023-02-03T15:34:01.950148",
     "status": "completed"
    },
    "tags": []
   },
   "outputs": [],
   "source": [
    "# df_cat['매칭성공여부'] = df['매칭성공여부']\n",
    "# df_cat.info()"
   ]
  },
  {
   "cell_type": "code",
   "execution_count": 141,
   "id": "2d192197",
   "metadata": {
    "execution": {
     "iopub.execute_input": "2023-02-03T15:34:02.007804Z",
     "iopub.status.busy": "2023-02-03T15:34:02.007400Z",
     "iopub.status.idle": "2023-02-03T15:34:02.022211Z",
     "shell.execute_reply": "2023-02-03T15:34:02.020985Z"
    },
    "papermill": {
     "duration": 0.034861,
     "end_time": "2023-02-03T15:34:02.025093",
     "exception": false,
     "start_time": "2023-02-03T15:34:01.990232",
     "status": "completed"
    },
    "tags": []
   },
   "outputs": [],
   "source": [
    "#주거형태\n",
    "df_cat['주거형태'].unique()\n",
    "\n",
    "my_dict['일반주택'] = (df_cat['주거형태']=='일반주택').astype('int')\n",
    "my_dict['오피스텔/원룸'] = (df_cat['주거형태']=='오피스텔/원룸').astype('int')"
   ]
  },
  {
   "cell_type": "code",
   "execution_count": 142,
   "id": "a512c233",
   "metadata": {
    "execution": {
     "iopub.execute_input": "2023-02-03T15:34:02.058164Z",
     "iopub.status.busy": "2023-02-03T15:34:02.057714Z",
     "iopub.status.idle": "2023-02-03T15:34:02.085245Z",
     "shell.execute_reply": "2023-02-03T15:34:02.083811Z"
    },
    "papermill": {
     "duration": 0.047842,
     "end_time": "2023-02-03T15:34:02.088437",
     "exception": false,
     "start_time": "2023-02-03T15:34:02.040595",
     "status": "completed"
    },
    "tags": []
   },
   "outputs": [],
   "source": [
    "#평수\n",
    "df_cat['평수'].unique()\n",
    "my_dict['10평대'] = (df_cat['평수']=='10평대').astype('int')\n",
    "my_dict['20평대'] = (df_cat['평수']=='20평대').astype('int')\n",
    "my_dict['30평대'] = (df_cat['평수']=='30평대').astype('int')\n",
    "my_dict['40평대이상'] = (df_cat['평수']=='40평대이상').astype('int')\n",
    "my_dict['그외평수'] = (df_cat['평수']=='OTHERS').astype('int')\n",
    "\n",
    "# df_cat.loc[(df_cat['평수']=='OTHERS'),'평수'] = 5\n",
    "# df_cat.loc[(df_cat['평수']=='40평대이상'),'평수'] = 4\n",
    "# df_cat.loc[(df_cat['평수']=='30평대'),'평수'] = 3\n",
    "# df_cat.loc[(df_cat['평수']=='20평대'),'평수'] = 2\n",
    "# df_cat.loc[(df_cat['평수']=='10평대'),'평수'] = 1\n",
    "\n",
    "# my_dict['평수'] = df_cat['평수'].astype('int')"
   ]
  },
  {
   "cell_type": "code",
   "execution_count": 143,
   "id": "39c287e1",
   "metadata": {
    "execution": {
     "iopub.execute_input": "2023-02-03T15:34:02.121242Z",
     "iopub.status.busy": "2023-02-03T15:34:02.120765Z",
     "iopub.status.idle": "2023-02-03T15:34:02.131190Z",
     "shell.execute_reply": "2023-02-03T15:34:02.130049Z"
    },
    "papermill": {
     "duration": 0.030375,
     "end_time": "2023-02-03T15:34:02.134257",
     "exception": false,
     "start_time": "2023-02-03T15:34:02.103882",
     "status": "completed"
    },
    "tags": []
   },
   "outputs": [
    {
     "data": {
      "text/plain": [
       "array(['OTHERS', '없음', '기타', '고양이', '개', '개,고양이', '고양이,기타', '개,기타'],\n",
       "      dtype=object)"
      ]
     },
     "execution_count": 143,
     "metadata": {},
     "output_type": "execute_result"
    }
   ],
   "source": [
    "df_cat['반려동물'].unique()"
   ]
  },
  {
   "cell_type": "code",
   "execution_count": 144,
   "id": "686b9a4d",
   "metadata": {
    "execution": {
     "iopub.execute_input": "2023-02-03T15:34:02.167743Z",
     "iopub.status.busy": "2023-02-03T15:34:02.167336Z",
     "iopub.status.idle": "2023-02-03T15:34:02.207288Z",
     "shell.execute_reply": "2023-02-03T15:34:02.206000Z"
    },
    "papermill": {
     "duration": 0.060376,
     "end_time": "2023-02-03T15:34:02.210175",
     "exception": false,
     "start_time": "2023-02-03T15:34:02.149799",
     "status": "completed"
    },
    "tags": []
   },
   "outputs": [],
   "source": [
    "#반려동물\n",
    "df_cat['반려동물'].unique()\n",
    "my_dict['반려동물없음'] = (df_cat['반려동물']=='없음').astype('int')\n",
    "my_dict['반려동물개'] = (df_cat['반려동물']=='개').astype('int')\n",
    "my_dict['반려동물고양이'] =(df_cat['반려동물']=='고양이').astype('int')\n",
    "my_dict['반려동물기타'] =(df_cat['반려동물']=='기타').astype('int')\n",
    "my_dict['반려동물미응답'] = (df_cat['반려동물']=='OTHERS').astype('int')\n",
    "my_dict['반려동물개고양이'] = (df_cat['반려동물']=='개,고양이').astype('int')\n",
    "my_dict['반려동물고양이,기타'] = (df_cat['반려동물']=='고양이,기타').astype('int')\n",
    "my_dict['반려동물개,기타'] = (df_cat['반려동물']=='개,기타').astype('int')\n",
    "\n",
    "non_col = ['기타', '고양이', '개', '개,고양이', '고양이,기타', '개,기타']\n",
    "my_dict['반려동물있음'] = df_cat.반려동물.isin(non_col).astype('int')"
   ]
  },
  {
   "cell_type": "code",
   "execution_count": 145,
   "id": "d2c0cd37",
   "metadata": {
    "execution": {
     "iopub.execute_input": "2023-02-03T15:34:02.242819Z",
     "iopub.status.busy": "2023-02-03T15:34:02.242428Z",
     "iopub.status.idle": "2023-02-03T15:34:02.273211Z",
     "shell.execute_reply": "2023-02-03T15:34:02.271957Z"
    },
    "papermill": {
     "duration": 0.050624,
     "end_time": "2023-02-03T15:34:02.276196",
     "exception": false,
     "start_time": "2023-02-03T15:34:02.225572",
     "status": "completed"
    },
    "tags": []
   },
   "outputs": [],
   "source": [
    "#우선청소\n",
    "df_cat['우선청소'].unique()\n",
    "my_dict['화장실'] = (df_cat['우선청소']=='화장실').astype('int')\n",
    "my_dict['방'] = (df_cat['우선청소']=='방').astype('int')\n",
    "my_dict['거실'] = (df_cat['우선청소']=='거실').astype('int')\n",
    "my_dict['주방'] = (df_cat['우선청소']=='주방').astype('int')\n",
    "my_dict['베란다'] = (df_cat['우선청소']=='베란다').astype('int')\n",
    "my_dict['이외장소'] = (df_cat['우선청소']=='OTHERS').astype('int') "
   ]
  },
  {
   "cell_type": "code",
   "execution_count": 146,
   "id": "086cd003",
   "metadata": {
    "execution": {
     "iopub.execute_input": "2023-02-03T15:34:02.308740Z",
     "iopub.status.busy": "2023-02-03T15:34:02.308347Z",
     "iopub.status.idle": "2023-02-03T15:34:02.338324Z",
     "shell.execute_reply": "2023-02-03T15:34:02.336406Z"
    },
    "papermill": {
     "duration": 0.049453,
     "end_time": "2023-02-03T15:34:02.341122",
     "exception": false,
     "start_time": "2023-02-03T15:34:02.291669",
     "status": "completed"
    },
    "tags": []
   },
   "outputs": [
    {
     "name": "stdout",
     "output_type": "stream",
     "text": [
      "<class 'pandas.core.frame.DataFrame'>\n",
      "Int64Index: 27253 entries, 0 to 4243\n",
      "Data columns (total 11 columns):\n",
      " #   Column    Non-Null Count  Dtype \n",
      "---  ------    --------------  ----- \n",
      " 0   결재형태      27253 non-null  object\n",
      " 1   서비스주소     27253 non-null  object\n",
      " 2   주거형태      27253 non-null  object\n",
      " 3   평수        27253 non-null  object\n",
      " 4   반려동물      27253 non-null  object\n",
      " 5   우선청소      27253 non-null  object\n",
      " 6   매니저생년월일   27253 non-null  object\n",
      " 7   매니저사용휴대폰  27253 non-null  object\n",
      " 8   매니저주소     27253 non-null  object\n",
      " 9   매니저이동방법   27253 non-null  object\n",
      " 10  근무가능지역    27253 non-null  object\n",
      "dtypes: object(11)\n",
      "memory usage: 2.5+ MB\n"
     ]
    }
   ],
   "source": [
    "df_cat.info()"
   ]
  },
  {
   "cell_type": "code",
   "execution_count": 147,
   "id": "f78479f6",
   "metadata": {
    "execution": {
     "iopub.execute_input": "2023-02-03T15:34:02.374642Z",
     "iopub.status.busy": "2023-02-03T15:34:02.374093Z",
     "iopub.status.idle": "2023-02-03T15:34:02.388147Z",
     "shell.execute_reply": "2023-02-03T15:34:02.387175Z"
    },
    "papermill": {
     "duration": 0.034295,
     "end_time": "2023-02-03T15:34:02.391284",
     "exception": false,
     "start_time": "2023-02-03T15:34:02.356989",
     "status": "completed"
    },
    "tags": []
   },
   "outputs": [
    {
     "name": "stderr",
     "output_type": "stream",
     "text": [
      "/tmp/ipykernel_416/1156595682.py:2: FutureWarning: The pandas.datetime class is deprecated and will be removed from pandas in a future version. Import from datetime module instead.\n",
      "  df_cat['매니저나이'] = (int(pd.datetime.now().year) - df_cat['매니저생년월일'].astype('int'))\n"
     ]
    }
   ],
   "source": [
    "#int(pd.datetime.now().year)\n",
    "df_cat['매니저나이'] = (int(pd.datetime.now().year) - df_cat['매니저생년월일'].astype('int'))\n",
    "my_dict['매니저연령대'] = (df_cat['매니저나이']/10).astype('int')\n",
    "my_dict['매니저나이'] = df_cat['매니저나이']\n",
    "#my_dict['매니저나이'].unique()"
   ]
  },
  {
   "cell_type": "code",
   "execution_count": 148,
   "id": "9012591e",
   "metadata": {
    "execution": {
     "iopub.execute_input": "2023-02-03T15:34:02.425696Z",
     "iopub.status.busy": "2023-02-03T15:34:02.425266Z",
     "iopub.status.idle": "2023-02-03T15:34:02.442082Z",
     "shell.execute_reply": "2023-02-03T15:34:02.440661Z"
    },
    "papermill": {
     "duration": 0.036892,
     "end_time": "2023-02-03T15:34:02.444951",
     "exception": false,
     "start_time": "2023-02-03T15:34:02.408059",
     "status": "completed"
    },
    "tags": []
   },
   "outputs": [],
   "source": [
    "my_dict['안드로이드'] = (df_cat['매니저사용휴대폰']=='안드로이드').astype('int')\n",
    "# my_dict['ios'] = (df_cat['매니저사용휴대폰']=='ios').astype('int')\n",
    "# my_dict['기타'] = (df_cat['매니저사용휴대폰']=='기타').astype('int')\n",
    "my_dict['휴대폰미등록'] = (df_cat['매니저사용휴대폰']=='OTHERS').astype('int')\n",
    "\n",
    "non_col = ['기타', 'ios']\n",
    "my_dict['기타휴대폰'] = df_cat.매니저사용휴대폰.isin(non_col).astype('int')"
   ]
  },
  {
   "cell_type": "code",
   "execution_count": 149,
   "id": "533da289",
   "metadata": {
    "execution": {
     "iopub.execute_input": "2023-02-03T15:34:02.477960Z",
     "iopub.status.busy": "2023-02-03T15:34:02.477512Z",
     "iopub.status.idle": "2023-02-03T15:34:02.508288Z",
     "shell.execute_reply": "2023-02-03T15:34:02.507135Z"
    },
    "papermill": {
     "duration": 0.050301,
     "end_time": "2023-02-03T15:34:02.510960",
     "exception": false,
     "start_time": "2023-02-03T15:34:02.460659",
     "status": "completed"
    },
    "tags": []
   },
   "outputs": [
    {
     "name": "stdout",
     "output_type": "stream",
     "text": [
      "<class 'pandas.core.frame.DataFrame'>\n",
      "Int64Index: 27253 entries, 0 to 4243\n",
      "Data columns (total 87 columns):\n",
      " #   Column      Non-Null Count  Dtype  \n",
      "---  ------      --------------  -----  \n",
      " 0   접수요일        27253 non-null  int64  \n",
      " 1   서비스요일       27253 non-null  int64  \n",
      " 2   서비스시간       27253 non-null  int64  \n",
      " 3   접수월         27253 non-null  int64  \n",
      " 4   접수일         27253 non-null  int64  \n",
      " 5   최초서비스차이     27253 non-null  int64  \n",
      " 6   서비스월        27253 non-null  int64  \n",
      " 7   서비스일        27253 non-null  int64  \n",
      " 8   접수일서비스일차이   27253 non-null  int64  \n",
      " 9   가입일수        27253 non-null  float64\n",
      " 10  가입년차        27253 non-null  int64  \n",
      " 11  서비스시작시간     27253 non-null  int64  \n",
      " 12  서비스종료시간     27253 non-null  int64  \n",
      " 13  매니저경력       27253 non-null  int64  \n",
      " 14  매니저연차       27253 non-null  int64  \n",
      " 15  접수년_2019    27253 non-null  uint8  \n",
      " 16  접수년_2020    27253 non-null  uint8  \n",
      " 17  접수년_2021    27253 non-null  uint8  \n",
      " 18  접수분기_1      27253 non-null  uint8  \n",
      " 19  접수분기_2      27253 non-null  uint8  \n",
      " 20  접수분기_3      27253 non-null  uint8  \n",
      " 21  접수분기_4      27253 non-null  uint8  \n",
      " 22  접수요일_0      27253 non-null  uint8  \n",
      " 23  접수요일_1      27253 non-null  uint8  \n",
      " 24  접수요일_2      27253 non-null  uint8  \n",
      " 25  접수요일_3      27253 non-null  uint8  \n",
      " 26  접수요일_4      27253 non-null  uint8  \n",
      " 27  접수요일_5      27253 non-null  uint8  \n",
      " 28  접수요일_6      27253 non-null  uint8  \n",
      " 29  서비스년_2019   27253 non-null  uint8  \n",
      " 30  서비스년_2020   27253 non-null  uint8  \n",
      " 31  서비스년_2021   27253 non-null  uint8  \n",
      " 32  서비스분기_1     27253 non-null  uint8  \n",
      " 33  서비스분기_2     27253 non-null  uint8  \n",
      " 34  서비스분기_3     27253 non-null  uint8  \n",
      " 35  서비스분기_4     27253 non-null  uint8  \n",
      " 36  서비스요일_0     27253 non-null  uint8  \n",
      " 37  서비스요일_1     27253 non-null  uint8  \n",
      " 38  서비스요일_2     27253 non-null  uint8  \n",
      " 39  서비스요일_3     27253 non-null  uint8  \n",
      " 40  서비스요일_4     27253 non-null  uint8  \n",
      " 41  서비스요일_5     27253 non-null  uint8  \n",
      " 42  서비스요일_6     27253 non-null  uint8  \n",
      " 43  서비스시간_2     27253 non-null  uint8  \n",
      " 44  서비스시간_3     27253 non-null  uint8  \n",
      " 45  서비스시간_4     27253 non-null  uint8  \n",
      " 46  서비스시간_5     27253 non-null  uint8  \n",
      " 47  서비스시간_6     27253 non-null  uint8  \n",
      " 48  서비스시간_7     27253 non-null  uint8  \n",
      " 49  서비스시간_8     27253 non-null  uint8  \n",
      " 50  서비스시간_9     27253 non-null  uint8  \n",
      " 51  서비스평일       27253 non-null  int64  \n",
      " 52  서비스주말       27253 non-null  int64  \n",
      " 53  접수평일        27253 non-null  int64  \n",
      " 54  접수주말        27253 non-null  int64  \n",
      " 55  신용카드        27253 non-null  int64  \n",
      " 56  무통장입금       27253 non-null  int64  \n",
      " 57  가상계좌        27253 non-null  int64  \n",
      " 58  미수          27253 non-null  int64  \n",
      " 59  결제형태_파악불가   27253 non-null  int64  \n",
      " 60  일반주택        27253 non-null  int64  \n",
      " 61  오피스텔/원룸     27253 non-null  int64  \n",
      " 62  10평대        27253 non-null  int64  \n",
      " 63  20평대        27253 non-null  int64  \n",
      " 64  30평대        27253 non-null  int64  \n",
      " 65  40평대이상      27253 non-null  int64  \n",
      " 66  그외평수        27253 non-null  int64  \n",
      " 67  반려동물없음      27253 non-null  int64  \n",
      " 68  반려동물개       27253 non-null  int64  \n",
      " 69  반려동물고양이     27253 non-null  int64  \n",
      " 70  반려동물기타      27253 non-null  int64  \n",
      " 71  반려동물미응답     27253 non-null  int64  \n",
      " 72  반려동물개고양이    27253 non-null  int64  \n",
      " 73  반려동물고양이,기타  27253 non-null  int64  \n",
      " 74  반려동물개,기타    27253 non-null  int64  \n",
      " 75  반려동물있음      27253 non-null  int64  \n",
      " 76  화장실         27253 non-null  int64  \n",
      " 77  방           27253 non-null  int64  \n",
      " 78  거실          27253 non-null  int64  \n",
      " 79  주방          27253 non-null  int64  \n",
      " 80  베란다         27253 non-null  int64  \n",
      " 81  이외장소        27253 non-null  int64  \n",
      " 82  매니저연령대      27253 non-null  int64  \n",
      " 83  매니저나이       27253 non-null  int64  \n",
      " 84  안드로이드       27253 non-null  int64  \n",
      " 85  휴대폰미등록      27253 non-null  int64  \n",
      " 86  기타휴대폰       27253 non-null  int64  \n",
      "dtypes: float64(1), int64(50), uint8(36)\n",
      "memory usage: 11.7 MB\n"
     ]
    }
   ],
   "source": [
    "my_dict.info()"
   ]
  },
  {
   "cell_type": "code",
   "execution_count": 150,
   "id": "805d631f",
   "metadata": {
    "execution": {
     "iopub.execute_input": "2023-02-03T15:34:02.544688Z",
     "iopub.status.busy": "2023-02-03T15:34:02.544280Z",
     "iopub.status.idle": "2023-02-03T15:34:02.561599Z",
     "shell.execute_reply": "2023-02-03T15:34:02.560245Z"
    },
    "papermill": {
     "duration": 0.036906,
     "end_time": "2023-02-03T15:34:02.564176",
     "exception": false,
     "start_time": "2023-02-03T15:34:02.527270",
     "status": "completed"
    },
    "tags": []
   },
   "outputs": [],
   "source": [
    "my_dict['매니저자차'] = (df_cat['매니저이동방법']=='자차').astype('int')\n",
    "my_dict['매니저대중교통'] = (df_cat['매니저이동방법']=='대중교통').astype('int')\n",
    "my_dict['매니저그외교통'] = (df_cat['매니저이동방법']=='OTHERS').astype('int')"
   ]
  },
  {
   "cell_type": "code",
   "execution_count": 151,
   "id": "7af57ede",
   "metadata": {
    "execution": {
     "iopub.execute_input": "2023-02-03T15:34:02.598034Z",
     "iopub.status.busy": "2023-02-03T15:34:02.597558Z",
     "iopub.status.idle": "2023-02-03T15:34:02.608207Z",
     "shell.execute_reply": "2023-02-03T15:34:02.606749Z"
    },
    "papermill": {
     "duration": 0.031024,
     "end_time": "2023-02-03T15:34:02.610910",
     "exception": false,
     "start_time": "2023-02-03T15:34:02.579886",
     "status": "completed"
    },
    "tags": []
   },
   "outputs": [
    {
     "data": {
      "text/plain": [
       "array(['충남 천안시', '서울 강서구', '충남 아산시', '강원 원주시', '광주 북구', '서울 은평구',\n",
       "       '서울 용산구', '서울 강동구', '서울 강남구', '경기 평택시', '강원 춘천시', '경기 성남시',\n",
       "       '서울 영등포구', '서울 금천구', '광주 남구', '서울 동작구', '부산 강서구', '광주 광산구',\n",
       "       '광주 서구', '서울 동대문구', '서울 관악구', '경기 의정부시', '서울 성동구', '부산 연제구',\n",
       "       '서울 중구', '서울 성북구', '서울 서초구', '경기 안성시', '서울 강북구', '경남 창원시',\n",
       "       '서울 마포구', '부산 해운대구', '광주 동구', '부산 사하구', '서울 서대문구', '서울 종로구',\n",
       "       '서울 도봉구', '부산 동래구', '서울 노원구', '부산 동구', '서울 중랑구', '서울 구로구', '부산 북구',\n",
       "       '경기 화성시', '서울 광진구', '서울 송파구', '부산 부산진구', '부산 금정구', '부산 사상구'],\n",
       "      dtype=object)"
      ]
     },
     "execution_count": 151,
     "metadata": {},
     "output_type": "execute_result"
    }
   ],
   "source": [
    "df_cat['서비스주소'].unique()"
   ]
  },
  {
   "cell_type": "code",
   "execution_count": 152,
   "id": "8e3e1cf1",
   "metadata": {
    "execution": {
     "iopub.execute_input": "2023-02-03T15:34:02.645495Z",
     "iopub.status.busy": "2023-02-03T15:34:02.645070Z",
     "iopub.status.idle": "2023-02-03T15:34:02.656143Z",
     "shell.execute_reply": "2023-02-03T15:34:02.654644Z"
    },
    "papermill": {
     "duration": 0.031483,
     "end_time": "2023-02-03T15:34:02.658593",
     "exception": false,
     "start_time": "2023-02-03T15:34:02.627110",
     "status": "completed"
    },
    "tags": []
   },
   "outputs": [
    {
     "data": {
      "text/plain": [
       "array(['서울 양천구', '충남 천안시', '서울 서대문구', '강원 원주시', '충남 아산시', '서울 마포구',\n",
       "       '서울 영등포구', '서울 송파구', '서울 동작구', '경기 평택시', '서울 관악구', '충남 세종시',\n",
       "       '강원 춘천시', '서울 중랑구', '광주 동구', '경기 화성시', '서울 노원구', '부산 해운대구',\n",
       "       '서울 종로구', '서울 강남구', '부산 남구', '서울 서초구', '경기 수원시', '부산 부산진구',\n",
       "       '광주 남구', '부산 사상구', '부산 수영구', '서울 강북구', '광주 서구', '서울 성동구', '서울 금천구',\n",
       "       '서울 강동구', '인천 남동구', '서울 구로구', '경남 창원시', '서울 은평구', 'OTHERS'],\n",
       "      dtype=object)"
      ]
     },
     "execution_count": 152,
     "metadata": {},
     "output_type": "execute_result"
    }
   ],
   "source": [
    "df_cat['매니저주소'].unique()"
   ]
  },
  {
   "cell_type": "code",
   "execution_count": 153,
   "id": "e6d2b2fb",
   "metadata": {
    "execution": {
     "iopub.execute_input": "2023-02-03T15:34:02.692296Z",
     "iopub.status.busy": "2023-02-03T15:34:02.691584Z",
     "iopub.status.idle": "2023-02-03T15:34:04.513668Z",
     "shell.execute_reply": "2023-02-03T15:34:04.512671Z"
    },
    "papermill": {
     "duration": 1.841857,
     "end_time": "2023-02-03T15:34:04.516297",
     "exception": false,
     "start_time": "2023-02-03T15:34:02.674440",
     "status": "completed"
    },
    "tags": []
   },
   "outputs": [],
   "source": [
    "my_dict['충남'] = (df_cat['서비스주소'].str.split(expand=True)[0] == '충남').astype('int')\n",
    "my_dict['서울'] = (df_cat['서비스주소'].str.split(expand=True)[0] == '서울').astype('int')\n",
    "my_dict['강원'] = (df_cat['서비스주소'].str.split(expand=True)[0] == '강원').astype('int')\n",
    "my_dict['부산'] = (df_cat['서비스주소'].str.split(expand=True)[0] == '부산').astype('int')\n",
    "my_dict['광주'] = (df_cat['서비스주소'].str.split(expand=True)[0] == '광주').astype('int')\n",
    "my_dict['경기'] = (df_cat['서비스주소'].str.split(expand=True)[0] == '경기').astype('int')\n",
    "my_dict['경남'] = (df_cat['서비스주소'].str.split(expand=True)[0] == '경남').astype('int')\n",
    "#my_dict['서비스주소'] = df_cat['서비스주소'].map(df_cat.groupby('서비스주소')['매칭성공여부'].mean())\n",
    "\n",
    "# n_size = df_cat.groupby('서비스주소').size()\n",
    "# global_mean = df.매칭성공여부.mean()\n",
    "# alpha = 0.9 # alpha값이 크면 클수록 smooth -> 평균에 가깝게\n",
    "\n",
    "# def smoothing(n_rows, target_mean):\n",
    "#     return (target_mean*n_rows + global_mean*alpha) / (n_rows + alpha)\n",
    "\n",
    "# my_dict['서비스주소'] = df_cat['서비스주소'].map(df_cat.apply(lambda x: smoothing(n_size, df_cat.groupby('서비스주소')['매칭성공여부'].mean()))['서비스주소'])\n",
    "\n",
    "my_dict['m충남'] = (df_cat['매니저주소'].str.split(expand=True)[0] == '충남').astype('int')\n",
    "my_dict['m서울'] = (df_cat['매니저주소'].str.split(expand=True)[0] == '서울').astype('int')\n",
    "my_dict['m강원'] = (df_cat['매니저주소'].str.split(expand=True)[0] == '강원').astype('int')\n",
    "my_dict['m광주'] = (df_cat['매니저주소'].str.split(expand=True)[0] == '광주').astype('int')\n",
    "my_dict['m부산'] = (df_cat['매니저주소'].str.split(expand=True)[0] == '부산').astype('int')\n",
    "my_dict['m경기'] = (df_cat['매니저주소'].str.split(expand=True)[0] == '경기').astype('int')\n",
    "my_dict['m경남'] = (df_cat['매니저주소'].str.split(expand=True)[0] == '경남').astype('int')\n",
    "my_dict['m인천'] = (df_cat['매니저주소'].str.split(expand=True)[0] == '인천').astype('int')\n",
    "\n",
    "my_dict['w천안'] = (df_cat['근무가능지역'].str.split(expand=True)[0] == '천안/아산').astype('int')\n",
    "my_dict['w기타'] = (df_cat['근무가능지역'].str.split(expand=True)[0] == '기타').astype('int')\n",
    "my_dict['w서울'] = (df_cat['근무가능지역'].str.split(expand=True)[0] == '서울').astype('int')\n",
    "my_dict['w원주'] = (df_cat['근무가능지역'].str.split(expand=True)[0] == '원주/춘천').astype('int')\n",
    "my_dict['w부산'] = (df_cat['근무가능지역'].str.split(expand=True)[0] == '부산').astype('int')\n",
    "my_dict['w광주'] = (df_cat['근무가능지역'].str.split(expand=True)[0] == '광주').astype('int')\n",
    "my_dict['w수도권'] = (df_cat['근무가능지역'].str.split(expand=True)[0] == '수도권').astype('int')\n",
    "my_dict['w평택'] = (df_cat['근무가능지역'].str.split(expand=True)[0] == '평택').astype('int')\n",
    "\n",
    "# my_dict['근무가능지역'] = df_cat['근무가능지역'].map(df_cat.apply(lambda x: smoothing(n_size, df_cat.groupby('근무가능지역')['매칭성공여부'].mean()))['근무가능지역'])\n",
    "\n",
    "#my_dict['동일지역거주'] = (df_cat['서비스주소'].str.split(expand=True)[0] == df_cat['매니저주소'].str.split(expand=True)[0]).astype('int')\n",
    "my_dict['충남매칭'] = (my_dict['w천안'] == my_dict['충남']).astype('int')\n",
    "my_dict['서울매칭'] = (my_dict['w서울'] == my_dict['서울']).astype('int')\n",
    "my_dict['강원매칭'] = (my_dict['w원주'] == my_dict['강원']).astype('int')\n",
    "my_dict['부산매칭'] = (my_dict['w부산'] == my_dict['부산']).astype('int')\n",
    "my_dict['광주매칭'] = (my_dict['w광주'] == my_dict['광주']).astype('int')\n",
    "my_dict['경기매칭'] = (my_dict['w평택'] == my_dict['경기']).astype('int')\n",
    "my_dict['수도권매칭'] = (my_dict['w수도권'] == my_dict['경기']).astype('int')\n",
    "my_dict['수도권_서울매칭'] = (my_dict['w수도권'] == my_dict['서울']).astype('int')"
   ]
  },
  {
   "cell_type": "code",
   "execution_count": 154,
   "id": "7719ae5c",
   "metadata": {
    "execution": {
     "iopub.execute_input": "2023-02-03T15:34:04.550059Z",
     "iopub.status.busy": "2023-02-03T15:34:04.549563Z",
     "iopub.status.idle": "2023-02-03T15:34:04.581762Z",
     "shell.execute_reply": "2023-02-03T15:34:04.580554Z"
    },
    "papermill": {
     "duration": 0.052261,
     "end_time": "2023-02-03T15:34:04.584769",
     "exception": false,
     "start_time": "2023-02-03T15:34:04.532508",
     "status": "completed"
    },
    "tags": []
   },
   "outputs": [
    {
     "name": "stdout",
     "output_type": "stream",
     "text": [
      "<class 'pandas.core.frame.DataFrame'>\n",
      "Int64Index: 27253 entries, 0 to 4243\n",
      "Data columns (total 31 columns):\n",
      " #   Column      Non-Null Count  Dtype         \n",
      "---  ------      --------------  -----         \n",
      " 0   SEQ         27253 non-null  object        \n",
      " 1   접수일         27253 non-null  datetime64[ns]\n",
      " 2   장기서비스여부     27253 non-null  int64         \n",
      " 3   최초서비스일      27253 non-null  datetime64[ns]\n",
      " 4   전체회차        27253 non-null  int64         \n",
      " 5   현재회차        27253 non-null  int64         \n",
      " 6   서비스일자       27253 non-null  datetime64[ns]\n",
      " 7   서비스시작시간     27253 non-null  datetime64[ns]\n",
      " 8   서비스종료시간     27253 non-null  datetime64[ns]\n",
      " 9   기존고객여부      27253 non-null  int64         \n",
      " 10  결재형태        27247 non-null  object        \n",
      " 11  서비스주소       27253 non-null  object        \n",
      " 12  주거형태        27253 non-null  object        \n",
      " 13  평수          16802 non-null  object        \n",
      " 14  고객가입일       27093 non-null  datetime64[ns]\n",
      " 15  반려동물        24102 non-null  object        \n",
      " 16  부재중여부       16802 non-null  float64       \n",
      " 17  우선청소        13360 non-null  object        \n",
      " 18  쿠폰사용여부      27253 non-null  int64         \n",
      " 19  매니저생년월일     27253 non-null  object        \n",
      " 20  매니저최초가입일    27253 non-null  datetime64[ns]\n",
      " 21  매니저성별       27253 non-null  int64         \n",
      " 22  매니저사용휴대폰    24024 non-null  object        \n",
      " 23  매니저주소       23009 non-null  object        \n",
      " 24  매니저이동방법     26931 non-null  object        \n",
      " 25  근무가능지역      27253 non-null  object        \n",
      " 26  CS교육이수여부    24025 non-null  float64       \n",
      " 27  청소교육이수여부    24025 non-null  float64       \n",
      " 28  부재중서비스가능여부  27253 non-null  int64         \n",
      " 29  추천인여부       27253 non-null  int64         \n",
      " 30  매칭성공여부      23009 non-null  float64       \n",
      "dtypes: datetime64[ns](7), float64(4), int64(8), object(12)\n",
      "memory usage: 6.7+ MB\n"
     ]
    }
   ],
   "source": [
    "df.info()"
   ]
  },
  {
   "cell_type": "code",
   "execution_count": 155,
   "id": "cf9382a2",
   "metadata": {
    "execution": {
     "iopub.execute_input": "2023-02-03T15:34:04.618260Z",
     "iopub.status.busy": "2023-02-03T15:34:04.617817Z",
     "iopub.status.idle": "2023-02-03T15:34:04.636691Z",
     "shell.execute_reply": "2023-02-03T15:34:04.635393Z"
    },
    "papermill": {
     "duration": 0.038804,
     "end_time": "2023-02-03T15:34:04.639523",
     "exception": false,
     "start_time": "2023-02-03T15:34:04.600719",
     "status": "completed"
    },
    "tags": []
   },
   "outputs": [
    {
     "name": "stdout",
     "output_type": "stream",
     "text": [
      "<class 'pandas.core.frame.DataFrame'>\n",
      "Int64Index: 27253 entries, 0 to 4243\n",
      "Data columns (total 12 columns):\n",
      " #   Column      Non-Null Count  Dtype  \n",
      "---  ------      --------------  -----  \n",
      " 0   장기서비스여부     27253 non-null  int64  \n",
      " 1   전체회차        27253 non-null  int64  \n",
      " 2   현재회차        27253 non-null  int64  \n",
      " 3   기존고객여부      27253 non-null  int64  \n",
      " 4   부재중여부       16802 non-null  float64\n",
      " 5   쿠폰사용여부      27253 non-null  int64  \n",
      " 6   매니저성별       27253 non-null  int64  \n",
      " 7   CS교육이수여부    24025 non-null  float64\n",
      " 8   청소교육이수여부    24025 non-null  float64\n",
      " 9   부재중서비스가능여부  27253 non-null  int64  \n",
      " 10  추천인여부       27253 non-null  int64  \n",
      " 11  매칭성공여부      23009 non-null  float64\n",
      "dtypes: float64(4), int64(8)\n",
      "memory usage: 2.7 MB\n"
     ]
    }
   ],
   "source": [
    "df_num = df.select_dtypes(['float64', 'int64'])\n",
    "df_num.info()"
   ]
  },
  {
   "cell_type": "code",
   "execution_count": 156,
   "id": "e762b128",
   "metadata": {
    "execution": {
     "iopub.execute_input": "2023-02-03T15:34:04.673298Z",
     "iopub.status.busy": "2023-02-03T15:34:04.672797Z",
     "iopub.status.idle": "2023-02-03T15:34:04.689057Z",
     "shell.execute_reply": "2023-02-03T15:34:04.687812Z"
    },
    "papermill": {
     "duration": 0.036252,
     "end_time": "2023-02-03T15:34:04.691899",
     "exception": false,
     "start_time": "2023-02-03T15:34:04.655647",
     "status": "completed"
    },
    "tags": []
   },
   "outputs": [],
   "source": [
    "my_dict['CS교육이수']= (df_num['CS교육이수여부']==1).astype('int')\n",
    "my_dict['CS교육미이수'] = (df_num['CS교육이수여부']==0).astype('int')\n",
    "\n",
    "my_dict['청소교육이수']= (df_num['청소교육이수여부']==1).astype('int')\n",
    "my_dict['청소교육미이수'] = (df_num['청소교육이수여부']==0).astype('int')\n",
    "\n",
    "my_dict['CS교육확인불가'] = (df_num['CS교육이수여부'].isnull()).astype('int')\n",
    "my_dict['청소교육확인불가'] = (df_num['청소교육이수여부'].isnull()).astype('int')"
   ]
  },
  {
   "cell_type": "code",
   "execution_count": 157,
   "id": "ede74fdc",
   "metadata": {
    "execution": {
     "iopub.execute_input": "2023-02-03T15:34:04.727109Z",
     "iopub.status.busy": "2023-02-03T15:34:04.726673Z",
     "iopub.status.idle": "2023-02-03T15:34:04.741257Z",
     "shell.execute_reply": "2023-02-03T15:34:04.739340Z"
    },
    "papermill": {
     "duration": 0.034667,
     "end_time": "2023-02-03T15:34:04.743717",
     "exception": false,
     "start_time": "2023-02-03T15:34:04.709050",
     "status": "completed"
    },
    "tags": []
   },
   "outputs": [
    {
     "name": "stdout",
     "output_type": "stream",
     "text": [
      "<class 'pandas.core.frame.DataFrame'>\n",
      "Int64Index: 27253 entries, 0 to 4243\n",
      "Data columns (total 12 columns):\n",
      " #   Column      Non-Null Count  Dtype  \n",
      "---  ------      --------------  -----  \n",
      " 0   장기서비스여부     27253 non-null  int64  \n",
      " 1   전체회차        27253 non-null  int64  \n",
      " 2   현재회차        27253 non-null  int64  \n",
      " 3   기존고객여부      27253 non-null  int64  \n",
      " 4   부재중여부       16802 non-null  float64\n",
      " 5   쿠폰사용여부      27253 non-null  int64  \n",
      " 6   매니저성별       27253 non-null  int64  \n",
      " 7   CS교육이수여부    24025 non-null  float64\n",
      " 8   청소교육이수여부    24025 non-null  float64\n",
      " 9   부재중서비스가능여부  27253 non-null  int64  \n",
      " 10  추천인여부       27253 non-null  int64  \n",
      " 11  매칭성공여부      23009 non-null  float64\n",
      "dtypes: float64(4), int64(8)\n",
      "memory usage: 2.7 MB\n"
     ]
    }
   ],
   "source": [
    "df_num.info()"
   ]
  },
  {
   "cell_type": "code",
   "execution_count": 158,
   "id": "5e948251",
   "metadata": {
    "execution": {
     "iopub.execute_input": "2023-02-03T15:34:04.778787Z",
     "iopub.status.busy": "2023-02-03T15:34:04.778108Z",
     "iopub.status.idle": "2023-02-03T15:34:04.792260Z",
     "shell.execute_reply": "2023-02-03T15:34:04.791160Z"
    },
    "papermill": {
     "duration": 0.034276,
     "end_time": "2023-02-03T15:34:04.794811",
     "exception": false,
     "start_time": "2023-02-03T15:34:04.760535",
     "status": "completed"
    },
    "tags": []
   },
   "outputs": [],
   "source": [
    "my_dict['SEQ'] = df['SEQ']\n",
    "my_dict['장기서비스여부'] = df_num['장기서비스여부']\n",
    "my_dict['회차'] = df_num['현재회차']/df_num['전체회차']\n",
    "my_dict['기존고객여부'] = df_num['기존고객여부']\n",
    "my_dict['부재중미응답'] = (df_num['부재중여부'].isnull()).astype('int')\n",
    "#my_dict['부재중여부'] = df['부재중여부'].fillna(0).astype('int')\n",
    "my_dict['쿠폰사용여부'] = df_num['쿠폰사용여부']\n",
    "my_dict['매니저성별'] = df_num['매니저성별']\n",
    "my_dict['부재중서비스가능여부'] = df_num['부재중서비스가능여부'].astype('int')\n",
    "my_dict['추천인여부'] = df_num['추천인여부']\n",
    "my_dict['매칭성공여부'] = df_num['매칭성공여부']"
   ]
  },
  {
   "cell_type": "code",
   "execution_count": 159,
   "id": "099a99b2",
   "metadata": {
    "execution": {
     "iopub.execute_input": "2023-02-03T15:34:04.829740Z",
     "iopub.status.busy": "2023-02-03T15:34:04.829109Z",
     "iopub.status.idle": "2023-02-03T15:34:04.843594Z",
     "shell.execute_reply": "2023-02-03T15:34:04.842015Z"
    },
    "papermill": {
     "duration": 0.035256,
     "end_time": "2023-02-03T15:34:04.846123",
     "exception": false,
     "start_time": "2023-02-03T15:34:04.810867",
     "status": "completed"
    },
    "tags": []
   },
   "outputs": [
    {
     "name": "stdout",
     "output_type": "stream",
     "text": [
      "<class 'pandas.core.frame.DataFrame'>\n",
      "Int64Index: 27253 entries, 0 to 4243\n",
      "Columns: 137 entries, 접수요일 to 매칭성공여부\n",
      "dtypes: float64(3), int64(97), object(1), uint8(36)\n",
      "memory usage: 22.1+ MB\n"
     ]
    }
   ],
   "source": [
    "my_dict.info()"
   ]
  },
  {
   "cell_type": "code",
   "execution_count": 160,
   "id": "b8d1b352",
   "metadata": {
    "execution": {
     "iopub.execute_input": "2023-02-03T15:34:04.881461Z",
     "iopub.status.busy": "2023-02-03T15:34:04.880554Z",
     "iopub.status.idle": "2023-02-03T15:34:04.905886Z",
     "shell.execute_reply": "2023-02-03T15:34:04.904725Z"
    },
    "papermill": {
     "duration": 0.045106,
     "end_time": "2023-02-03T15:34:04.908346",
     "exception": false,
     "start_time": "2023-02-03T15:34:04.863240",
     "status": "completed"
    },
    "tags": []
   },
   "outputs": [
    {
     "data": {
      "text/html": [
       "<div>\n",
       "<style scoped>\n",
       "    .dataframe tbody tr th:only-of-type {\n",
       "        vertical-align: middle;\n",
       "    }\n",
       "\n",
       "    .dataframe tbody tr th {\n",
       "        vertical-align: top;\n",
       "    }\n",
       "\n",
       "    .dataframe thead th {\n",
       "        text-align: right;\n",
       "    }\n",
       "</style>\n",
       "<table border=\"1\" class=\"dataframe\">\n",
       "  <thead>\n",
       "    <tr style=\"text-align: right;\">\n",
       "      <th></th>\n",
       "      <th>접수요일</th>\n",
       "      <th>서비스요일</th>\n",
       "      <th>서비스시간</th>\n",
       "      <th>접수월</th>\n",
       "      <th>접수일</th>\n",
       "      <th>최초서비스차이</th>\n",
       "      <th>서비스월</th>\n",
       "      <th>서비스일</th>\n",
       "      <th>접수일서비스일차이</th>\n",
       "      <th>가입일수</th>\n",
       "      <th>...</th>\n",
       "      <th>SEQ</th>\n",
       "      <th>장기서비스여부</th>\n",
       "      <th>회차</th>\n",
       "      <th>기존고객여부</th>\n",
       "      <th>부재중미응답</th>\n",
       "      <th>쿠폰사용여부</th>\n",
       "      <th>매니저성별</th>\n",
       "      <th>부재중서비스가능여부</th>\n",
       "      <th>추천인여부</th>\n",
       "      <th>매칭성공여부</th>\n",
       "    </tr>\n",
       "  </thead>\n",
       "  <tbody>\n",
       "    <tr>\n",
       "      <th>0</th>\n",
       "      <td>1</td>\n",
       "      <td>0</td>\n",
       "      <td>4</td>\n",
       "      <td>7</td>\n",
       "      <td>9</td>\n",
       "      <td>6</td>\n",
       "      <td>7</td>\n",
       "      <td>29</td>\n",
       "      <td>20</td>\n",
       "      <td>1384.0</td>\n",
       "      <td>...</td>\n",
       "      <td>T06420</td>\n",
       "      <td>1</td>\n",
       "      <td>1.000</td>\n",
       "      <td>1</td>\n",
       "      <td>1</td>\n",
       "      <td>0</td>\n",
       "      <td>0</td>\n",
       "      <td>1</td>\n",
       "      <td>0</td>\n",
       "      <td>0.0</td>\n",
       "    </tr>\n",
       "    <tr>\n",
       "      <th>1</th>\n",
       "      <td>4</td>\n",
       "      <td>1</td>\n",
       "      <td>6</td>\n",
       "      <td>7</td>\n",
       "      <td>12</td>\n",
       "      <td>3</td>\n",
       "      <td>8</td>\n",
       "      <td>20</td>\n",
       "      <td>39</td>\n",
       "      <td>1355.0</td>\n",
       "      <td>...</td>\n",
       "      <td>T15430</td>\n",
       "      <td>1</td>\n",
       "      <td>0.750</td>\n",
       "      <td>1</td>\n",
       "      <td>1</td>\n",
       "      <td>0</td>\n",
       "      <td>0</td>\n",
       "      <td>1</td>\n",
       "      <td>0</td>\n",
       "      <td>0.0</td>\n",
       "    </tr>\n",
       "    <tr>\n",
       "      <th>2</th>\n",
       "      <td>2</td>\n",
       "      <td>4</td>\n",
       "      <td>4</td>\n",
       "      <td>11</td>\n",
       "      <td>18</td>\n",
       "      <td>5</td>\n",
       "      <td>12</td>\n",
       "      <td>11</td>\n",
       "      <td>23</td>\n",
       "      <td>843.0</td>\n",
       "      <td>...</td>\n",
       "      <td>T23790</td>\n",
       "      <td>1</td>\n",
       "      <td>0.600</td>\n",
       "      <td>1</td>\n",
       "      <td>0</td>\n",
       "      <td>0</td>\n",
       "      <td>0</td>\n",
       "      <td>0</td>\n",
       "      <td>0</td>\n",
       "      <td>0.0</td>\n",
       "    </tr>\n",
       "    <tr>\n",
       "      <th>3</th>\n",
       "      <td>0</td>\n",
       "      <td>0</td>\n",
       "      <td>5</td>\n",
       "      <td>11</td>\n",
       "      <td>9</td>\n",
       "      <td>0</td>\n",
       "      <td>11</td>\n",
       "      <td>30</td>\n",
       "      <td>21</td>\n",
       "      <td>1094.0</td>\n",
       "      <td>...</td>\n",
       "      <td>T18740</td>\n",
       "      <td>1</td>\n",
       "      <td>1.000</td>\n",
       "      <td>1</td>\n",
       "      <td>0</td>\n",
       "      <td>0</td>\n",
       "      <td>0</td>\n",
       "      <td>1</td>\n",
       "      <td>0</td>\n",
       "      <td>0.0</td>\n",
       "    </tr>\n",
       "    <tr>\n",
       "      <th>4</th>\n",
       "      <td>1</td>\n",
       "      <td>1</td>\n",
       "      <td>4</td>\n",
       "      <td>2</td>\n",
       "      <td>25</td>\n",
       "      <td>35</td>\n",
       "      <td>4</td>\n",
       "      <td>7</td>\n",
       "      <td>42</td>\n",
       "      <td>1233.0</td>\n",
       "      <td>...</td>\n",
       "      <td>T08451</td>\n",
       "      <td>1</td>\n",
       "      <td>1.000</td>\n",
       "      <td>1</td>\n",
       "      <td>1</td>\n",
       "      <td>0</td>\n",
       "      <td>0</td>\n",
       "      <td>1</td>\n",
       "      <td>0</td>\n",
       "      <td>1.0</td>\n",
       "    </tr>\n",
       "    <tr>\n",
       "      <th>5</th>\n",
       "      <td>3</td>\n",
       "      <td>3</td>\n",
       "      <td>4</td>\n",
       "      <td>9</td>\n",
       "      <td>5</td>\n",
       "      <td>14</td>\n",
       "      <td>10</td>\n",
       "      <td>24</td>\n",
       "      <td>49</td>\n",
       "      <td>1325.0</td>\n",
       "      <td>...</td>\n",
       "      <td>T10050</td>\n",
       "      <td>1</td>\n",
       "      <td>0.750</td>\n",
       "      <td>1</td>\n",
       "      <td>1</td>\n",
       "      <td>0</td>\n",
       "      <td>0</td>\n",
       "      <td>1</td>\n",
       "      <td>0</td>\n",
       "      <td>0.0</td>\n",
       "    </tr>\n",
       "    <tr>\n",
       "      <th>6</th>\n",
       "      <td>0</td>\n",
       "      <td>0</td>\n",
       "      <td>4</td>\n",
       "      <td>7</td>\n",
       "      <td>13</td>\n",
       "      <td>7</td>\n",
       "      <td>7</td>\n",
       "      <td>27</td>\n",
       "      <td>14</td>\n",
       "      <td>957.0</td>\n",
       "      <td>...</td>\n",
       "      <td>T06861</td>\n",
       "      <td>1</td>\n",
       "      <td>0.500</td>\n",
       "      <td>1</td>\n",
       "      <td>0</td>\n",
       "      <td>0</td>\n",
       "      <td>0</td>\n",
       "      <td>1</td>\n",
       "      <td>0</td>\n",
       "      <td>0.0</td>\n",
       "    </tr>\n",
       "    <tr>\n",
       "      <th>7</th>\n",
       "      <td>1</td>\n",
       "      <td>0</td>\n",
       "      <td>4</td>\n",
       "      <td>10</td>\n",
       "      <td>15</td>\n",
       "      <td>6</td>\n",
       "      <td>12</td>\n",
       "      <td>9</td>\n",
       "      <td>55</td>\n",
       "      <td>1335.0</td>\n",
       "      <td>...</td>\n",
       "      <td>T21418</td>\n",
       "      <td>1</td>\n",
       "      <td>0.600</td>\n",
       "      <td>1</td>\n",
       "      <td>1</td>\n",
       "      <td>1</td>\n",
       "      <td>0</td>\n",
       "      <td>0</td>\n",
       "      <td>0</td>\n",
       "      <td>0.0</td>\n",
       "    </tr>\n",
       "    <tr>\n",
       "      <th>8</th>\n",
       "      <td>0</td>\n",
       "      <td>3</td>\n",
       "      <td>4</td>\n",
       "      <td>8</td>\n",
       "      <td>5</td>\n",
       "      <td>3</td>\n",
       "      <td>8</td>\n",
       "      <td>8</td>\n",
       "      <td>3</td>\n",
       "      <td>1305.0</td>\n",
       "      <td>...</td>\n",
       "      <td>T01980</td>\n",
       "      <td>0</td>\n",
       "      <td>1.000</td>\n",
       "      <td>1</td>\n",
       "      <td>1</td>\n",
       "      <td>0</td>\n",
       "      <td>0</td>\n",
       "      <td>1</td>\n",
       "      <td>0</td>\n",
       "      <td>0.0</td>\n",
       "    </tr>\n",
       "    <tr>\n",
       "      <th>9</th>\n",
       "      <td>2</td>\n",
       "      <td>2</td>\n",
       "      <td>4</td>\n",
       "      <td>5</td>\n",
       "      <td>27</td>\n",
       "      <td>7</td>\n",
       "      <td>7</td>\n",
       "      <td>1</td>\n",
       "      <td>35</td>\n",
       "      <td>1135.0</td>\n",
       "      <td>...</td>\n",
       "      <td>T14054</td>\n",
       "      <td>1</td>\n",
       "      <td>0.625</td>\n",
       "      <td>1</td>\n",
       "      <td>1</td>\n",
       "      <td>0</td>\n",
       "      <td>0</td>\n",
       "      <td>1</td>\n",
       "      <td>0</td>\n",
       "      <td>0.0</td>\n",
       "    </tr>\n",
       "  </tbody>\n",
       "</table>\n",
       "<p>10 rows × 137 columns</p>\n",
       "</div>"
      ],
      "text/plain": [
       "   접수요일  서비스요일  서비스시간  접수월  접수일  최초서비스차이  서비스월  서비스일  접수일서비스일차이    가입일수  ...  \\\n",
       "0     1      0      4    7    9        6     7    29         20  1384.0  ...   \n",
       "1     4      1      6    7   12        3     8    20         39  1355.0  ...   \n",
       "2     2      4      4   11   18        5    12    11         23   843.0  ...   \n",
       "3     0      0      5   11    9        0    11    30         21  1094.0  ...   \n",
       "4     1      1      4    2   25       35     4     7         42  1233.0  ...   \n",
       "5     3      3      4    9    5       14    10    24         49  1325.0  ...   \n",
       "6     0      0      4    7   13        7     7    27         14   957.0  ...   \n",
       "7     1      0      4   10   15        6    12     9         55  1335.0  ...   \n",
       "8     0      3      4    8    5        3     8     8          3  1305.0  ...   \n",
       "9     2      2      4    5   27        7     7     1         35  1135.0  ...   \n",
       "\n",
       "      SEQ  장기서비스여부     회차  기존고객여부  부재중미응답  쿠폰사용여부  매니저성별  부재중서비스가능여부  추천인여부  \\\n",
       "0  T06420        1  1.000       1       1       0      0           1      0   \n",
       "1  T15430        1  0.750       1       1       0      0           1      0   \n",
       "2  T23790        1  0.600       1       0       0      0           0      0   \n",
       "3  T18740        1  1.000       1       0       0      0           1      0   \n",
       "4  T08451        1  1.000       1       1       0      0           1      0   \n",
       "5  T10050        1  0.750       1       1       0      0           1      0   \n",
       "6  T06861        1  0.500       1       0       0      0           1      0   \n",
       "7  T21418        1  0.600       1       1       1      0           0      0   \n",
       "8  T01980        0  1.000       1       1       0      0           1      0   \n",
       "9  T14054        1  0.625       1       1       0      0           1      0   \n",
       "\n",
       "   매칭성공여부  \n",
       "0     0.0  \n",
       "1     0.0  \n",
       "2     0.0  \n",
       "3     0.0  \n",
       "4     1.0  \n",
       "5     0.0  \n",
       "6     0.0  \n",
       "7     0.0  \n",
       "8     0.0  \n",
       "9     0.0  \n",
       "\n",
       "[10 rows x 137 columns]"
      ]
     },
     "execution_count": 160,
     "metadata": {},
     "output_type": "execute_result"
    }
   ],
   "source": [
    "my_dict.head(10)"
   ]
  },
  {
   "cell_type": "code",
   "execution_count": 161,
   "id": "6b8fc552",
   "metadata": {
    "execution": {
     "iopub.execute_input": "2023-02-03T15:34:04.944238Z",
     "iopub.status.busy": "2023-02-03T15:34:04.943526Z",
     "iopub.status.idle": "2023-02-03T15:34:05.696853Z",
     "shell.execute_reply": "2023-02-03T15:34:05.695572Z"
    },
    "papermill": {
     "duration": 0.774576,
     "end_time": "2023-02-03T15:34:05.699783",
     "exception": false,
     "start_time": "2023-02-03T15:34:04.925207",
     "status": "completed"
    },
    "tags": []
   },
   "outputs": [],
   "source": [
    "my_dict.to_csv('save.csv', index=False)"
   ]
  },
  {
   "cell_type": "code",
   "execution_count": 162,
   "id": "7806ca70",
   "metadata": {
    "execution": {
     "iopub.execute_input": "2023-02-03T15:34:05.735202Z",
     "iopub.status.busy": "2023-02-03T15:34:05.734788Z",
     "iopub.status.idle": "2023-02-03T15:34:06.163391Z",
     "shell.execute_reply": "2023-02-03T15:34:06.162094Z"
    },
    "papermill": {
     "duration": 0.449467,
     "end_time": "2023-02-03T15:34:06.166278",
     "exception": false,
     "start_time": "2023-02-03T15:34:05.716811",
     "status": "completed"
    },
    "tags": []
   },
   "outputs": [
    {
     "data": {
      "text/html": [
       "<div>\n",
       "<style scoped>\n",
       "    .dataframe tbody tr th:only-of-type {\n",
       "        vertical-align: middle;\n",
       "    }\n",
       "\n",
       "    .dataframe tbody tr th {\n",
       "        vertical-align: top;\n",
       "    }\n",
       "\n",
       "    .dataframe thead th {\n",
       "        text-align: right;\n",
       "    }\n",
       "</style>\n",
       "<table border=\"1\" class=\"dataframe\">\n",
       "  <thead>\n",
       "    <tr style=\"text-align: right;\">\n",
       "      <th></th>\n",
       "      <th>접수요일</th>\n",
       "      <th>서비스요일</th>\n",
       "      <th>서비스시간</th>\n",
       "      <th>접수월</th>\n",
       "      <th>접수일</th>\n",
       "      <th>최초서비스차이</th>\n",
       "      <th>서비스월</th>\n",
       "      <th>서비스일</th>\n",
       "      <th>접수일서비스일차이</th>\n",
       "      <th>가입일수</th>\n",
       "      <th>...</th>\n",
       "      <th>장기서비스여부</th>\n",
       "      <th>회차</th>\n",
       "      <th>기존고객여부</th>\n",
       "      <th>부재중미응답</th>\n",
       "      <th>쿠폰사용여부</th>\n",
       "      <th>매니저성별</th>\n",
       "      <th>부재중서비스가능여부</th>\n",
       "      <th>추천인여부</th>\n",
       "      <th>매칭성공여부</th>\n",
       "      <th>SEQ</th>\n",
       "    </tr>\n",
       "  </thead>\n",
       "  <tbody>\n",
       "    <tr>\n",
       "      <th>0</th>\n",
       "      <td>0.166667</td>\n",
       "      <td>0.000000</td>\n",
       "      <td>0.285714</td>\n",
       "      <td>0.545455</td>\n",
       "      <td>0.266667</td>\n",
       "      <td>0.099010</td>\n",
       "      <td>0.545455</td>\n",
       "      <td>0.933333</td>\n",
       "      <td>0.175182</td>\n",
       "      <td>0.990694</td>\n",
       "      <td>...</td>\n",
       "      <td>1.0</td>\n",
       "      <td>1.000000</td>\n",
       "      <td>1.0</td>\n",
       "      <td>1.0</td>\n",
       "      <td>0.0</td>\n",
       "      <td>0.0</td>\n",
       "      <td>1.0</td>\n",
       "      <td>0.0</td>\n",
       "      <td>0.0</td>\n",
       "      <td>T06420</td>\n",
       "    </tr>\n",
       "    <tr>\n",
       "      <th>1</th>\n",
       "      <td>0.666667</td>\n",
       "      <td>0.166667</td>\n",
       "      <td>0.571429</td>\n",
       "      <td>0.545455</td>\n",
       "      <td>0.366667</td>\n",
       "      <td>0.069307</td>\n",
       "      <td>0.636364</td>\n",
       "      <td>0.633333</td>\n",
       "      <td>0.313869</td>\n",
       "      <td>0.969936</td>\n",
       "      <td>...</td>\n",
       "      <td>1.0</td>\n",
       "      <td>0.741379</td>\n",
       "      <td>1.0</td>\n",
       "      <td>1.0</td>\n",
       "      <td>0.0</td>\n",
       "      <td>0.0</td>\n",
       "      <td>1.0</td>\n",
       "      <td>0.0</td>\n",
       "      <td>0.0</td>\n",
       "      <td>T15430</td>\n",
       "    </tr>\n",
       "    <tr>\n",
       "      <th>2</th>\n",
       "      <td>0.333333</td>\n",
       "      <td>0.666667</td>\n",
       "      <td>0.285714</td>\n",
       "      <td>0.909091</td>\n",
       "      <td>0.566667</td>\n",
       "      <td>0.089109</td>\n",
       "      <td>1.000000</td>\n",
       "      <td>0.333333</td>\n",
       "      <td>0.197080</td>\n",
       "      <td>0.603436</td>\n",
       "      <td>...</td>\n",
       "      <td>1.0</td>\n",
       "      <td>0.586207</td>\n",
       "      <td>1.0</td>\n",
       "      <td>0.0</td>\n",
       "      <td>0.0</td>\n",
       "      <td>0.0</td>\n",
       "      <td>0.0</td>\n",
       "      <td>0.0</td>\n",
       "      <td>0.0</td>\n",
       "      <td>T23790</td>\n",
       "    </tr>\n",
       "    <tr>\n",
       "      <th>3</th>\n",
       "      <td>0.000000</td>\n",
       "      <td>0.000000</td>\n",
       "      <td>0.428571</td>\n",
       "      <td>0.909091</td>\n",
       "      <td>0.266667</td>\n",
       "      <td>0.039604</td>\n",
       "      <td>0.909091</td>\n",
       "      <td>0.966667</td>\n",
       "      <td>0.182482</td>\n",
       "      <td>0.783107</td>\n",
       "      <td>...</td>\n",
       "      <td>1.0</td>\n",
       "      <td>1.000000</td>\n",
       "      <td>1.0</td>\n",
       "      <td>0.0</td>\n",
       "      <td>0.0</td>\n",
       "      <td>0.0</td>\n",
       "      <td>1.0</td>\n",
       "      <td>0.0</td>\n",
       "      <td>0.0</td>\n",
       "      <td>T18740</td>\n",
       "    </tr>\n",
       "    <tr>\n",
       "      <th>4</th>\n",
       "      <td>0.166667</td>\n",
       "      <td>0.166667</td>\n",
       "      <td>0.285714</td>\n",
       "      <td>0.090909</td>\n",
       "      <td>0.800000</td>\n",
       "      <td>0.386139</td>\n",
       "      <td>0.272727</td>\n",
       "      <td>0.200000</td>\n",
       "      <td>0.335766</td>\n",
       "      <td>0.882606</td>\n",
       "      <td>...</td>\n",
       "      <td>1.0</td>\n",
       "      <td>1.000000</td>\n",
       "      <td>1.0</td>\n",
       "      <td>1.0</td>\n",
       "      <td>0.0</td>\n",
       "      <td>0.0</td>\n",
       "      <td>1.0</td>\n",
       "      <td>0.0</td>\n",
       "      <td>1.0</td>\n",
       "      <td>T08451</td>\n",
       "    </tr>\n",
       "  </tbody>\n",
       "</table>\n",
       "<p>5 rows × 137 columns</p>\n",
       "</div>"
      ],
      "text/plain": [
       "       접수요일     서비스요일     서비스시간       접수월       접수일   최초서비스차이      서비스월  \\\n",
       "0  0.166667  0.000000  0.285714  0.545455  0.266667  0.099010  0.545455   \n",
       "1  0.666667  0.166667  0.571429  0.545455  0.366667  0.069307  0.636364   \n",
       "2  0.333333  0.666667  0.285714  0.909091  0.566667  0.089109  1.000000   \n",
       "3  0.000000  0.000000  0.428571  0.909091  0.266667  0.039604  0.909091   \n",
       "4  0.166667  0.166667  0.285714  0.090909  0.800000  0.386139  0.272727   \n",
       "\n",
       "       서비스일  접수일서비스일차이      가입일수  ...  장기서비스여부        회차  기존고객여부  부재중미응답  \\\n",
       "0  0.933333   0.175182  0.990694  ...      1.0  1.000000     1.0     1.0   \n",
       "1  0.633333   0.313869  0.969936  ...      1.0  0.741379     1.0     1.0   \n",
       "2  0.333333   0.197080  0.603436  ...      1.0  0.586207     1.0     0.0   \n",
       "3  0.966667   0.182482  0.783107  ...      1.0  1.000000     1.0     0.0   \n",
       "4  0.200000   0.335766  0.882606  ...      1.0  1.000000     1.0     1.0   \n",
       "\n",
       "   쿠폰사용여부  매니저성별  부재중서비스가능여부  추천인여부  매칭성공여부     SEQ  \n",
       "0     0.0    0.0         1.0    0.0     0.0  T06420  \n",
       "1     0.0    0.0         1.0    0.0     0.0  T15430  \n",
       "2     0.0    0.0         0.0    0.0     0.0  T23790  \n",
       "3     0.0    0.0         1.0    0.0     0.0  T18740  \n",
       "4     0.0    0.0         1.0    0.0     1.0  T08451  \n",
       "\n",
       "[5 rows x 137 columns]"
      ]
     },
     "execution_count": 162,
     "metadata": {},
     "output_type": "execute_result"
    }
   ],
   "source": [
    "from sklearn.preprocessing import MinMaxScaler\n",
    "\n",
    "drop_col = ['SEQ']\n",
    "my_dict = my_dict.drop(columns=drop_col)\n",
    "\n",
    "df_norm = (my_dict-my_dict.min())/(my_dict.max()-my_dict.min())\n",
    "df_norm['SEQ'] = df['SEQ']\n",
    "df_norm.head()"
   ]
  },
  {
   "cell_type": "code",
   "execution_count": 163,
   "id": "ee1791a1",
   "metadata": {
    "execution": {
     "iopub.execute_input": "2023-02-03T15:34:06.203614Z",
     "iopub.status.busy": "2023-02-03T15:34:06.203218Z",
     "iopub.status.idle": "2023-02-03T15:34:06.289692Z",
     "shell.execute_reply": "2023-02-03T15:34:06.288318Z"
    },
    "papermill": {
     "duration": 0.108817,
     "end_time": "2023-02-03T15:34:06.292452",
     "exception": false,
     "start_time": "2023-02-03T15:34:06.183635",
     "status": "completed"
    },
    "tags": []
   },
   "outputs": [],
   "source": [
    "# x_train = my_dict[~my_dict['매칭성공여부'].isnull()].drop(columns=['SEQ', '매칭성공여부'])\n",
    "# x_test = my_dict[my_dict['매칭성공여부'].isnull()].drop(columns=['SEQ','매칭성공여부'])\n",
    "# y_train= my_dict[~my_dict['매칭성공여부'].isnull()]['매칭성공여부']\n",
    "\n",
    "x_train = df_norm[~df_norm['매칭성공여부'].isnull()].drop(columns=['SEQ', '매칭성공여부'])\n",
    "x_test = df_norm[df_norm['매칭성공여부'].isnull()].drop(columns=['SEQ','매칭성공여부'])\n",
    "y_train= df_norm[~df_norm['매칭성공여부'].isnull()]['매칭성공여부']"
   ]
  },
  {
   "cell_type": "code",
   "execution_count": 164,
   "id": "45e52284",
   "metadata": {},
   "outputs": [
    {
     "data": {
      "text/html": [
       "<div>\n",
       "<style scoped>\n",
       "    .dataframe tbody tr th:only-of-type {\n",
       "        vertical-align: middle;\n",
       "    }\n",
       "\n",
       "    .dataframe tbody tr th {\n",
       "        vertical-align: top;\n",
       "    }\n",
       "\n",
       "    .dataframe thead th {\n",
       "        text-align: right;\n",
       "    }\n",
       "</style>\n",
       "<table border=\"1\" class=\"dataframe\">\n",
       "  <thead>\n",
       "    <tr style=\"text-align: right;\">\n",
       "      <th></th>\n",
       "      <th>접수요일</th>\n",
       "      <th>서비스요일</th>\n",
       "      <th>서비스시간</th>\n",
       "      <th>접수월</th>\n",
       "      <th>접수일</th>\n",
       "      <th>최초서비스차이</th>\n",
       "      <th>서비스월</th>\n",
       "      <th>서비스일</th>\n",
       "      <th>접수일서비스일차이</th>\n",
       "      <th>가입일수</th>\n",
       "      <th>...</th>\n",
       "      <th>장기서비스여부</th>\n",
       "      <th>회차</th>\n",
       "      <th>기존고객여부</th>\n",
       "      <th>부재중미응답</th>\n",
       "      <th>쿠폰사용여부</th>\n",
       "      <th>매니저성별</th>\n",
       "      <th>부재중서비스가능여부</th>\n",
       "      <th>추천인여부</th>\n",
       "      <th>매칭성공여부</th>\n",
       "      <th>SEQ</th>\n",
       "    </tr>\n",
       "  </thead>\n",
       "  <tbody>\n",
       "    <tr>\n",
       "      <th>0</th>\n",
       "      <td>0.166667</td>\n",
       "      <td>0.000000</td>\n",
       "      <td>0.285714</td>\n",
       "      <td>0.545455</td>\n",
       "      <td>0.266667</td>\n",
       "      <td>0.099010</td>\n",
       "      <td>0.545455</td>\n",
       "      <td>0.933333</td>\n",
       "      <td>0.175182</td>\n",
       "      <td>0.990694</td>\n",
       "      <td>...</td>\n",
       "      <td>1.0</td>\n",
       "      <td>1.000000</td>\n",
       "      <td>1.0</td>\n",
       "      <td>1.0</td>\n",
       "      <td>0.0</td>\n",
       "      <td>0.0</td>\n",
       "      <td>1.0</td>\n",
       "      <td>0.0</td>\n",
       "      <td>0.0</td>\n",
       "      <td>T06420</td>\n",
       "    </tr>\n",
       "    <tr>\n",
       "      <th>1</th>\n",
       "      <td>0.666667</td>\n",
       "      <td>0.166667</td>\n",
       "      <td>0.571429</td>\n",
       "      <td>0.545455</td>\n",
       "      <td>0.366667</td>\n",
       "      <td>0.069307</td>\n",
       "      <td>0.636364</td>\n",
       "      <td>0.633333</td>\n",
       "      <td>0.313869</td>\n",
       "      <td>0.969936</td>\n",
       "      <td>...</td>\n",
       "      <td>1.0</td>\n",
       "      <td>0.741379</td>\n",
       "      <td>1.0</td>\n",
       "      <td>1.0</td>\n",
       "      <td>0.0</td>\n",
       "      <td>0.0</td>\n",
       "      <td>1.0</td>\n",
       "      <td>0.0</td>\n",
       "      <td>0.0</td>\n",
       "      <td>T15430</td>\n",
       "    </tr>\n",
       "    <tr>\n",
       "      <th>2</th>\n",
       "      <td>0.333333</td>\n",
       "      <td>0.666667</td>\n",
       "      <td>0.285714</td>\n",
       "      <td>0.909091</td>\n",
       "      <td>0.566667</td>\n",
       "      <td>0.089109</td>\n",
       "      <td>1.000000</td>\n",
       "      <td>0.333333</td>\n",
       "      <td>0.197080</td>\n",
       "      <td>0.603436</td>\n",
       "      <td>...</td>\n",
       "      <td>1.0</td>\n",
       "      <td>0.586207</td>\n",
       "      <td>1.0</td>\n",
       "      <td>0.0</td>\n",
       "      <td>0.0</td>\n",
       "      <td>0.0</td>\n",
       "      <td>0.0</td>\n",
       "      <td>0.0</td>\n",
       "      <td>0.0</td>\n",
       "      <td>T23790</td>\n",
       "    </tr>\n",
       "    <tr>\n",
       "      <th>3</th>\n",
       "      <td>0.000000</td>\n",
       "      <td>0.000000</td>\n",
       "      <td>0.428571</td>\n",
       "      <td>0.909091</td>\n",
       "      <td>0.266667</td>\n",
       "      <td>0.039604</td>\n",
       "      <td>0.909091</td>\n",
       "      <td>0.966667</td>\n",
       "      <td>0.182482</td>\n",
       "      <td>0.783107</td>\n",
       "      <td>...</td>\n",
       "      <td>1.0</td>\n",
       "      <td>1.000000</td>\n",
       "      <td>1.0</td>\n",
       "      <td>0.0</td>\n",
       "      <td>0.0</td>\n",
       "      <td>0.0</td>\n",
       "      <td>1.0</td>\n",
       "      <td>0.0</td>\n",
       "      <td>0.0</td>\n",
       "      <td>T18740</td>\n",
       "    </tr>\n",
       "    <tr>\n",
       "      <th>4</th>\n",
       "      <td>0.166667</td>\n",
       "      <td>0.166667</td>\n",
       "      <td>0.285714</td>\n",
       "      <td>0.090909</td>\n",
       "      <td>0.800000</td>\n",
       "      <td>0.386139</td>\n",
       "      <td>0.272727</td>\n",
       "      <td>0.200000</td>\n",
       "      <td>0.335766</td>\n",
       "      <td>0.882606</td>\n",
       "      <td>...</td>\n",
       "      <td>1.0</td>\n",
       "      <td>1.000000</td>\n",
       "      <td>1.0</td>\n",
       "      <td>1.0</td>\n",
       "      <td>0.0</td>\n",
       "      <td>0.0</td>\n",
       "      <td>1.0</td>\n",
       "      <td>0.0</td>\n",
       "      <td>1.0</td>\n",
       "      <td>T08451</td>\n",
       "    </tr>\n",
       "    <tr>\n",
       "      <th>...</th>\n",
       "      <td>...</td>\n",
       "      <td>...</td>\n",
       "      <td>...</td>\n",
       "      <td>...</td>\n",
       "      <td>...</td>\n",
       "      <td>...</td>\n",
       "      <td>...</td>\n",
       "      <td>...</td>\n",
       "      <td>...</td>\n",
       "      <td>...</td>\n",
       "      <td>...</td>\n",
       "      <td>...</td>\n",
       "      <td>...</td>\n",
       "      <td>...</td>\n",
       "      <td>...</td>\n",
       "      <td>...</td>\n",
       "      <td>...</td>\n",
       "      <td>...</td>\n",
       "      <td>...</td>\n",
       "      <td>...</td>\n",
       "      <td>...</td>\n",
       "    </tr>\n",
       "    <tr>\n",
       "      <th>95</th>\n",
       "      <td>0.000000</td>\n",
       "      <td>0.166667</td>\n",
       "      <td>0.285714</td>\n",
       "      <td>0.727273</td>\n",
       "      <td>0.900000</td>\n",
       "      <td>0.118812</td>\n",
       "      <td>0.818182</td>\n",
       "      <td>0.400000</td>\n",
       "      <td>0.138686</td>\n",
       "      <td>0.699356</td>\n",
       "      <td>...</td>\n",
       "      <td>1.0</td>\n",
       "      <td>0.482759</td>\n",
       "      <td>1.0</td>\n",
       "      <td>0.0</td>\n",
       "      <td>0.0</td>\n",
       "      <td>0.0</td>\n",
       "      <td>1.0</td>\n",
       "      <td>0.0</td>\n",
       "      <td>0.0</td>\n",
       "      <td>T15572</td>\n",
       "    </tr>\n",
       "    <tr>\n",
       "      <th>96</th>\n",
       "      <td>0.500000</td>\n",
       "      <td>0.000000</td>\n",
       "      <td>0.000000</td>\n",
       "      <td>0.454545</td>\n",
       "      <td>0.100000</td>\n",
       "      <td>0.425743</td>\n",
       "      <td>0.545455</td>\n",
       "      <td>0.633333</td>\n",
       "      <td>0.364964</td>\n",
       "      <td>0.738010</td>\n",
       "      <td>...</td>\n",
       "      <td>1.0</td>\n",
       "      <td>0.482759</td>\n",
       "      <td>1.0</td>\n",
       "      <td>0.0</td>\n",
       "      <td>0.0</td>\n",
       "      <td>0.0</td>\n",
       "      <td>1.0</td>\n",
       "      <td>0.0</td>\n",
       "      <td>0.0</td>\n",
       "      <td>T21161</td>\n",
       "    </tr>\n",
       "    <tr>\n",
       "      <th>97</th>\n",
       "      <td>0.000000</td>\n",
       "      <td>0.166667</td>\n",
       "      <td>0.285714</td>\n",
       "      <td>0.727273</td>\n",
       "      <td>0.733333</td>\n",
       "      <td>0.118812</td>\n",
       "      <td>0.818182</td>\n",
       "      <td>0.466667</td>\n",
       "      <td>0.189781</td>\n",
       "      <td>0.874732</td>\n",
       "      <td>...</td>\n",
       "      <td>1.0</td>\n",
       "      <td>0.586207</td>\n",
       "      <td>0.0</td>\n",
       "      <td>1.0</td>\n",
       "      <td>0.0</td>\n",
       "      <td>0.0</td>\n",
       "      <td>1.0</td>\n",
       "      <td>0.0</td>\n",
       "      <td>1.0</td>\n",
       "      <td>T11364</td>\n",
       "    </tr>\n",
       "    <tr>\n",
       "      <th>98</th>\n",
       "      <td>0.333333</td>\n",
       "      <td>0.166667</td>\n",
       "      <td>0.285714</td>\n",
       "      <td>0.636364</td>\n",
       "      <td>0.900000</td>\n",
       "      <td>0.108911</td>\n",
       "      <td>0.727273</td>\n",
       "      <td>0.766667</td>\n",
       "      <td>0.226277</td>\n",
       "      <td>0.894059</td>\n",
       "      <td>...</td>\n",
       "      <td>1.0</td>\n",
       "      <td>1.000000</td>\n",
       "      <td>0.0</td>\n",
       "      <td>1.0</td>\n",
       "      <td>0.0</td>\n",
       "      <td>0.0</td>\n",
       "      <td>1.0</td>\n",
       "      <td>0.0</td>\n",
       "      <td>0.0</td>\n",
       "      <td>T16144</td>\n",
       "    </tr>\n",
       "    <tr>\n",
       "      <th>99</th>\n",
       "      <td>0.166667</td>\n",
       "      <td>0.333333</td>\n",
       "      <td>0.000000</td>\n",
       "      <td>0.000000</td>\n",
       "      <td>0.133333</td>\n",
       "      <td>0.049505</td>\n",
       "      <td>0.000000</td>\n",
       "      <td>0.633333</td>\n",
       "      <td>0.138686</td>\n",
       "      <td>0.573372</td>\n",
       "      <td>...</td>\n",
       "      <td>1.0</td>\n",
       "      <td>0.741379</td>\n",
       "      <td>1.0</td>\n",
       "      <td>0.0</td>\n",
       "      <td>0.0</td>\n",
       "      <td>0.0</td>\n",
       "      <td>1.0</td>\n",
       "      <td>1.0</td>\n",
       "      <td>0.0</td>\n",
       "      <td>T04972</td>\n",
       "    </tr>\n",
       "  </tbody>\n",
       "</table>\n",
       "<p>100 rows × 137 columns</p>\n",
       "</div>"
      ],
      "text/plain": [
       "        접수요일     서비스요일     서비스시간       접수월       접수일   최초서비스차이      서비스월  \\\n",
       "0   0.166667  0.000000  0.285714  0.545455  0.266667  0.099010  0.545455   \n",
       "1   0.666667  0.166667  0.571429  0.545455  0.366667  0.069307  0.636364   \n",
       "2   0.333333  0.666667  0.285714  0.909091  0.566667  0.089109  1.000000   \n",
       "3   0.000000  0.000000  0.428571  0.909091  0.266667  0.039604  0.909091   \n",
       "4   0.166667  0.166667  0.285714  0.090909  0.800000  0.386139  0.272727   \n",
       "..       ...       ...       ...       ...       ...       ...       ...   \n",
       "95  0.000000  0.166667  0.285714  0.727273  0.900000  0.118812  0.818182   \n",
       "96  0.500000  0.000000  0.000000  0.454545  0.100000  0.425743  0.545455   \n",
       "97  0.000000  0.166667  0.285714  0.727273  0.733333  0.118812  0.818182   \n",
       "98  0.333333  0.166667  0.285714  0.636364  0.900000  0.108911  0.727273   \n",
       "99  0.166667  0.333333  0.000000  0.000000  0.133333  0.049505  0.000000   \n",
       "\n",
       "        서비스일  접수일서비스일차이      가입일수  ...  장기서비스여부        회차  기존고객여부  부재중미응답  \\\n",
       "0   0.933333   0.175182  0.990694  ...      1.0  1.000000     1.0     1.0   \n",
       "1   0.633333   0.313869  0.969936  ...      1.0  0.741379     1.0     1.0   \n",
       "2   0.333333   0.197080  0.603436  ...      1.0  0.586207     1.0     0.0   \n",
       "3   0.966667   0.182482  0.783107  ...      1.0  1.000000     1.0     0.0   \n",
       "4   0.200000   0.335766  0.882606  ...      1.0  1.000000     1.0     1.0   \n",
       "..       ...        ...       ...  ...      ...       ...     ...     ...   \n",
       "95  0.400000   0.138686  0.699356  ...      1.0  0.482759     1.0     0.0   \n",
       "96  0.633333   0.364964  0.738010  ...      1.0  0.482759     1.0     0.0   \n",
       "97  0.466667   0.189781  0.874732  ...      1.0  0.586207     0.0     1.0   \n",
       "98  0.766667   0.226277  0.894059  ...      1.0  1.000000     0.0     1.0   \n",
       "99  0.633333   0.138686  0.573372  ...      1.0  0.741379     1.0     0.0   \n",
       "\n",
       "    쿠폰사용여부  매니저성별  부재중서비스가능여부  추천인여부  매칭성공여부     SEQ  \n",
       "0      0.0    0.0         1.0    0.0     0.0  T06420  \n",
       "1      0.0    0.0         1.0    0.0     0.0  T15430  \n",
       "2      0.0    0.0         0.0    0.0     0.0  T23790  \n",
       "3      0.0    0.0         1.0    0.0     0.0  T18740  \n",
       "4      0.0    0.0         1.0    0.0     1.0  T08451  \n",
       "..     ...    ...         ...    ...     ...     ...  \n",
       "95     0.0    0.0         1.0    0.0     0.0  T15572  \n",
       "96     0.0    0.0         1.0    0.0     0.0  T21161  \n",
       "97     0.0    0.0         1.0    0.0     1.0  T11364  \n",
       "98     0.0    0.0         1.0    0.0     0.0  T16144  \n",
       "99     0.0    0.0         1.0    1.0     0.0  T04972  \n",
       "\n",
       "[100 rows x 137 columns]"
      ]
     },
     "execution_count": 164,
     "metadata": {},
     "output_type": "execute_result"
    }
   ],
   "source": [
    "df_norm.head(100)"
   ]
  },
  {
   "cell_type": "code",
   "execution_count": 165,
   "id": "8e63ca0b",
   "metadata": {
    "execution": {
     "iopub.execute_input": "2023-02-03T15:34:06.328749Z",
     "iopub.status.busy": "2023-02-03T15:34:06.328315Z",
     "iopub.status.idle": "2023-02-03T15:34:06.346163Z",
     "shell.execute_reply": "2023-02-03T15:34:06.344844Z"
    },
    "papermill": {
     "duration": 0.039383,
     "end_time": "2023-02-03T15:34:06.348884",
     "exception": false,
     "start_time": "2023-02-03T15:34:06.309501",
     "status": "completed"
    },
    "tags": []
   },
   "outputs": [
    {
     "name": "stdout",
     "output_type": "stream",
     "text": [
      "<class 'pandas.core.frame.DataFrame'>\n",
      "Int64Index: 23009 entries, 0 to 23008\n",
      "Columns: 135 entries, 접수요일 to 추천인여부\n",
      "dtypes: float64(135)\n",
      "memory usage: 23.9 MB\n"
     ]
    }
   ],
   "source": [
    "x_train.info()"
   ]
  },
  {
   "cell_type": "code",
   "execution_count": 166,
   "id": "722b8969",
   "metadata": {
    "execution": {
     "iopub.execute_input": "2023-02-03T15:34:06.385950Z",
     "iopub.status.busy": "2023-02-03T15:34:06.385529Z",
     "iopub.status.idle": "2023-02-03T15:34:06.390377Z",
     "shell.execute_reply": "2023-02-03T15:34:06.389201Z"
    },
    "papermill": {
     "duration": 0.026619,
     "end_time": "2023-02-03T15:34:06.392840",
     "exception": false,
     "start_time": "2023-02-03T15:34:06.366221",
     "status": "completed"
    },
    "tags": []
   },
   "outputs": [],
   "source": [
    "from imblearn.combine import SMOTETomek \n",
    "\n",
    "oversample = SMOTETomek(random_state=42, (tomek=TomekLinks(sampling_strategy='majority')))\n",
    "x_train_smote, y_train_smote = oversample.fit_resample(x_train, y_train)"
   ]
  },
  {
   "cell_type": "code",
   "execution_count": 167,
   "id": "45f1b152",
   "metadata": {
    "execution": {
     "iopub.execute_input": "2023-02-03T15:34:06.429259Z",
     "iopub.status.busy": "2023-02-03T15:34:06.428838Z",
     "iopub.status.idle": "2023-02-03T15:34:07.846662Z",
     "shell.execute_reply": "2023-02-03T15:34:07.845375Z"
    },
    "papermill": {
     "duration": 1.439814,
     "end_time": "2023-02-03T15:34:07.850103",
     "exception": false,
     "start_time": "2023-02-03T15:34:06.410289",
     "status": "completed"
    },
    "tags": []
   },
   "outputs": [],
   "source": [
    "from sklearn.model_selection import GridSearchCV,RandomizedSearchCV\n",
    "from sklearn.metrics import roc_auc_score\n",
    "from sklearn.metrics import recall_score, precision_score, f1_score, fbeta_score\n",
    "from sklearn.tree import DecisionTreeClassifier\n",
    "from lightgbm import LGBMClassifier # Wrapper-Class\n",
    "from sklearn.ensemble import RandomForestClassifier\n",
    "from xgboost import XGBClassifier"
   ]
  },
  {
   "cell_type": "code",
   "execution_count": 168,
   "id": "01d8dda0",
   "metadata": {
    "execution": {
     "iopub.execute_input": "2023-02-03T15:34:07.892636Z",
     "iopub.status.busy": "2023-02-03T15:34:07.892246Z",
     "iopub.status.idle": "2023-02-03T15:41:21.076165Z",
     "shell.execute_reply": "2023-02-03T15:41:21.074098Z"
    },
    "papermill": {
     "duration": 433.217921,
     "end_time": "2023-02-03T15:41:21.091119",
     "exception": false,
     "start_time": "2023-02-03T15:34:07.873198",
     "status": "completed"
    },
    "tags": []
   },
   "outputs": [
    {
     "name": "stdout",
     "output_type": "stream",
     "text": [
      "Optimum parameters {'subsample': 0.8999999999999999, 'scale_pos_weight': 6, 'reg_lambda': 21, 'reg_alpha': 7, 'n_estimators': 250, 'min_child_weight': 4, 'max_depth': 6, 'learning_rate': 0.08, 'gamma': 0, 'eta': 0.1, 'colsample_bytree': 0.5}\n"
     ]
    }
   ],
   "source": [
    "# colsample_bytree = [0.1, 0.3, 0.4, 0.5, 1.0]\n",
    "# gamma = [0, 0.1, 1]\n",
    "# learning_rate = [0.001, 0.05, 0.08, 0.1]\n",
    "# min_child_weight = [1, 5, 10, 20]\n",
    "# scale_pos_weight = [0.5, 1, 2, 4, 6]\n",
    "# subsample = [0.5, 0.6, 0.7, 0.8, 0.9, 1.0]\n",
    "# n_estimators = [25, 50, 100, 150]\n",
    "# max_depth = [3, 5, 10, 20, 40, 100]\n",
    "\n",
    "# param_distributions = dict(\n",
    "#     colsample_bytree=colsample_bytree,\n",
    "#     gamma=gamma,\n",
    "#     learning_rate=learning_rate,\n",
    "#     min_child_weight=min_child_weight,\n",
    "#     scale_pos_weight=scale_pos_weight,\n",
    "#     subsample=subsample,\n",
    "#     n_estimators=n_estimators,\n",
    "#     max_depth=max_depth,\n",
    "# )\n",
    "\n",
    "max_depth = range(3,10)\n",
    "min_child_weight = range(1,12)\n",
    "gamma = [0,1]\n",
    "subsample = np.arange(0.5, 1, 0.1)#[0.5,0.6,0.7,0.8,0.9,1.0]\n",
    "colsample_bytree = np.arange(0.5, 1, 0.1)#[0.5,0.6,0.7,0.8,0.9,1.0]\n",
    "reg_alpha = range(0,100) #[0,10,20,30,40,50,60,70,80,90,100]\n",
    "reg_lambda = range(0,100) #[0,10,20,30,40,50,60,70,80,90,100]\n",
    "eta =  np.arange(0, 0.3, 0.1) #[0, 0.1, 0.2]\n",
    "##\n",
    "scale_pos_weight = [0.5, 1, 2, 4, 6]\n",
    "n_estimators = [25, 50, 100, 150, 200, 250, 300]\n",
    "learning_rate = [0.001, 0.05, 0.06, 0.07, 0.08, 0.09, 0.1]\n",
    "\n",
    "param_distributions = dict(\n",
    "    colsample_bytree=colsample_bytree,\n",
    "    gamma=gamma,\n",
    "    learning_rate=learning_rate,\n",
    "    min_child_weight=min_child_weight,\n",
    "    scale_pos_weight=scale_pos_weight,\n",
    "    subsample=subsample,\n",
    "    n_estimators=n_estimators,\n",
    "    max_depth=max_depth,\n",
    "    reg_alpha=reg_alpha,\n",
    "    reg_lambda=reg_lambda,\n",
    "    eta=eta\n",
    ")\n",
    "\n",
    "model = XGBClassifier(objective= 'binary:logistic', random_state=1, verbosity=1)\n",
    "\n",
    "grid_search = RandomizedSearchCV(estimator=model,\n",
    "                                 param_distributions=param_distributions,\n",
    "                                 scoring='roc_auc', cv=10, n_jobs=-1\n",
    "                                )\n",
    "grid = grid_search.fit(x_train, y_train)\n",
    "#grid = grid_search.fit(x_train_smote, y_train_smote)\n",
    "print('Optimum parameters', grid.best_params_)"
   ]
  },
  {
   "cell_type": "code",
   "execution_count": 169,
   "id": "7683249b",
   "metadata": {
    "execution": {
     "iopub.execute_input": "2023-02-03T15:41:21.128304Z",
     "iopub.status.busy": "2023-02-03T15:41:21.127836Z",
     "iopub.status.idle": "2023-02-03T15:41:21.136321Z",
     "shell.execute_reply": "2023-02-03T15:41:21.135016Z"
    },
    "papermill": {
     "duration": 0.030111,
     "end_time": "2023-02-03T15:41:21.138697",
     "exception": false,
     "start_time": "2023-02-03T15:41:21.108586",
     "status": "completed"
    },
    "tags": []
   },
   "outputs": [
    {
     "data": {
      "text/plain": [
       "0.9497567919499914"
      ]
     },
     "execution_count": 169,
     "metadata": {},
     "output_type": "execute_result"
    }
   ],
   "source": [
    "grid.best_score_"
   ]
  },
  {
   "cell_type": "code",
   "execution_count": 170,
   "id": "574b0fa6",
   "metadata": {
    "execution": {
     "iopub.execute_input": "2023-02-03T15:41:21.175642Z",
     "iopub.status.busy": "2023-02-03T15:41:21.175245Z",
     "iopub.status.idle": "2023-02-03T15:41:21.189798Z",
     "shell.execute_reply": "2023-02-03T15:41:21.188562Z"
    },
    "papermill": {
     "duration": 0.035751,
     "end_time": "2023-02-03T15:41:21.192176",
     "exception": false,
     "start_time": "2023-02-03T15:41:21.156425",
     "status": "completed"
    },
    "tags": []
   },
   "outputs": [
    {
     "data": {
      "text/html": [
       "<style>#sk-container-id-3 {color: black;background-color: white;}#sk-container-id-3 pre{padding: 0;}#sk-container-id-3 div.sk-toggleable {background-color: white;}#sk-container-id-3 label.sk-toggleable__label {cursor: pointer;display: block;width: 100%;margin-bottom: 0;padding: 0.3em;box-sizing: border-box;text-align: center;}#sk-container-id-3 label.sk-toggleable__label-arrow:before {content: \"▸\";float: left;margin-right: 0.25em;color: #696969;}#sk-container-id-3 label.sk-toggleable__label-arrow:hover:before {color: black;}#sk-container-id-3 div.sk-estimator:hover label.sk-toggleable__label-arrow:before {color: black;}#sk-container-id-3 div.sk-toggleable__content {max-height: 0;max-width: 0;overflow: hidden;text-align: left;background-color: #f0f8ff;}#sk-container-id-3 div.sk-toggleable__content pre {margin: 0.2em;color: black;border-radius: 0.25em;background-color: #f0f8ff;}#sk-container-id-3 input.sk-toggleable__control:checked~div.sk-toggleable__content {max-height: 200px;max-width: 100%;overflow: auto;}#sk-container-id-3 input.sk-toggleable__control:checked~label.sk-toggleable__label-arrow:before {content: \"▾\";}#sk-container-id-3 div.sk-estimator input.sk-toggleable__control:checked~label.sk-toggleable__label {background-color: #d4ebff;}#sk-container-id-3 div.sk-label input.sk-toggleable__control:checked~label.sk-toggleable__label {background-color: #d4ebff;}#sk-container-id-3 input.sk-hidden--visually {border: 0;clip: rect(1px 1px 1px 1px);clip: rect(1px, 1px, 1px, 1px);height: 1px;margin: -1px;overflow: hidden;padding: 0;position: absolute;width: 1px;}#sk-container-id-3 div.sk-estimator {font-family: monospace;background-color: #f0f8ff;border: 1px dotted black;border-radius: 0.25em;box-sizing: border-box;margin-bottom: 0.5em;}#sk-container-id-3 div.sk-estimator:hover {background-color: #d4ebff;}#sk-container-id-3 div.sk-parallel-item::after {content: \"\";width: 100%;border-bottom: 1px solid gray;flex-grow: 1;}#sk-container-id-3 div.sk-label:hover label.sk-toggleable__label {background-color: #d4ebff;}#sk-container-id-3 div.sk-serial::before {content: \"\";position: absolute;border-left: 1px solid gray;box-sizing: border-box;top: 0;bottom: 0;left: 50%;z-index: 0;}#sk-container-id-3 div.sk-serial {display: flex;flex-direction: column;align-items: center;background-color: white;padding-right: 0.2em;padding-left: 0.2em;position: relative;}#sk-container-id-3 div.sk-item {position: relative;z-index: 1;}#sk-container-id-3 div.sk-parallel {display: flex;align-items: stretch;justify-content: center;background-color: white;position: relative;}#sk-container-id-3 div.sk-item::before, #sk-container-id-3 div.sk-parallel-item::before {content: \"\";position: absolute;border-left: 1px solid gray;box-sizing: border-box;top: 0;bottom: 0;left: 50%;z-index: -1;}#sk-container-id-3 div.sk-parallel-item {display: flex;flex-direction: column;z-index: 1;position: relative;background-color: white;}#sk-container-id-3 div.sk-parallel-item:first-child::after {align-self: flex-end;width: 50%;}#sk-container-id-3 div.sk-parallel-item:last-child::after {align-self: flex-start;width: 50%;}#sk-container-id-3 div.sk-parallel-item:only-child::after {width: 0;}#sk-container-id-3 div.sk-dashed-wrapped {border: 1px dashed gray;margin: 0 0.4em 0.5em 0.4em;box-sizing: border-box;padding-bottom: 0.4em;background-color: white;}#sk-container-id-3 div.sk-label label {font-family: monospace;font-weight: bold;display: inline-block;line-height: 1.2em;}#sk-container-id-3 div.sk-label-container {text-align: center;}#sk-container-id-3 div.sk-container {/* jupyter's `normalize.less` sets `[hidden] { display: none; }` but bootstrap.min.css set `[hidden] { display: none !important; }` so we also need the `!important` here to be able to override the default hidden behavior on the sphinx rendered scikit-learn.org. See: https://github.com/scikit-learn/scikit-learn/issues/21755 */display: inline-block !important;position: relative;}#sk-container-id-3 div.sk-text-repr-fallback {display: none;}</style><div id=\"sk-container-id-3\" class=\"sk-top-container\"><div class=\"sk-text-repr-fallback\"><pre>XGBClassifier(base_score=None, booster=None, callbacks=None,\n",
       "              colsample_bylevel=None, colsample_bynode=None,\n",
       "              colsample_bytree=0.5, early_stopping_rounds=None,\n",
       "              enable_categorical=False, eta=0.1, eval_metric=None,\n",
       "              feature_types=None, gamma=0, gpu_id=None, grow_policy=None,\n",
       "              importance_type=None, interaction_constraints=None,\n",
       "              learning_rate=0.08, max_bin=None, max_cat_threshold=None,\n",
       "              max_cat_to_onehot=None, max_delta_step=None, max_depth=6,\n",
       "              max_leaves=None, min_child_weight=4, missing=nan,\n",
       "              monotone_constraints=None, n_estimators=250, n_jobs=None,\n",
       "              num_parallel_tree=None, predictor=None, ...)</pre><b>In a Jupyter environment, please rerun this cell to show the HTML representation or trust the notebook. <br />On GitHub, the HTML representation is unable to render, please try loading this page with nbviewer.org.</b></div><div class=\"sk-container\" hidden><div class=\"sk-item\"><div class=\"sk-estimator sk-toggleable\"><input class=\"sk-toggleable__control sk-hidden--visually\" id=\"sk-estimator-id-3\" type=\"checkbox\" checked><label for=\"sk-estimator-id-3\" class=\"sk-toggleable__label sk-toggleable__label-arrow\">XGBClassifier</label><div class=\"sk-toggleable__content\"><pre>XGBClassifier(base_score=None, booster=None, callbacks=None,\n",
       "              colsample_bylevel=None, colsample_bynode=None,\n",
       "              colsample_bytree=0.5, early_stopping_rounds=None,\n",
       "              enable_categorical=False, eta=0.1, eval_metric=None,\n",
       "              feature_types=None, gamma=0, gpu_id=None, grow_policy=None,\n",
       "              importance_type=None, interaction_constraints=None,\n",
       "              learning_rate=0.08, max_bin=None, max_cat_threshold=None,\n",
       "              max_cat_to_onehot=None, max_delta_step=None, max_depth=6,\n",
       "              max_leaves=None, min_child_weight=4, missing=nan,\n",
       "              monotone_constraints=None, n_estimators=250, n_jobs=None,\n",
       "              num_parallel_tree=None, predictor=None, ...)</pre></div></div></div></div></div>"
      ],
      "text/plain": [
       "XGBClassifier(base_score=None, booster=None, callbacks=None,\n",
       "              colsample_bylevel=None, colsample_bynode=None,\n",
       "              colsample_bytree=0.5, early_stopping_rounds=None,\n",
       "              enable_categorical=False, eta=0.1, eval_metric=None,\n",
       "              feature_types=None, gamma=0, gpu_id=None, grow_policy=None,\n",
       "              importance_type=None, interaction_constraints=None,\n",
       "              learning_rate=0.08, max_bin=None, max_cat_threshold=None,\n",
       "              max_cat_to_onehot=None, max_delta_step=None, max_depth=6,\n",
       "              max_leaves=None, min_child_weight=4, missing=nan,\n",
       "              monotone_constraints=None, n_estimators=250, n_jobs=None,\n",
       "              num_parallel_tree=None, predictor=None, ...)"
      ]
     },
     "execution_count": 170,
     "metadata": {},
     "output_type": "execute_result"
    }
   ],
   "source": [
    "grid.best_estimator_"
   ]
  },
  {
   "cell_type": "code",
   "execution_count": 171,
   "id": "32dbe484",
   "metadata": {
    "execution": {
     "iopub.execute_input": "2023-02-03T15:41:21.230308Z",
     "iopub.status.busy": "2023-02-03T15:41:21.229899Z",
     "iopub.status.idle": "2023-02-03T15:41:21.240782Z",
     "shell.execute_reply": "2023-02-03T15:41:21.239460Z"
    },
    "papermill": {
     "duration": 0.033041,
     "end_time": "2023-02-03T15:41:21.243526",
     "exception": false,
     "start_time": "2023-02-03T15:41:21.210485",
     "status": "completed"
    },
    "tags": []
   },
   "outputs": [
    {
     "data": {
      "text/plain": [
       "array([0.0027674 , 0.00268134, 0.00535966, 0.00267249, 0.00273225,\n",
       "       0.00375931, 0.00280309, 0.00112667, 0.00185576, 0.01050385,\n",
       "       0.00885203, 0.00549709, 0.00536132, 0.01030013, 0.00852867,\n",
       "       0.00873398, 0.00929679, 0.00746723, 0.00260526, 0.00344606,\n",
       "       0.00431812, 0.00232077, 0.00252997, 0.00337245, 0.00261397,\n",
       "       0.00311394, 0.00263358, 0.00387672, 0.00428826, 0.01579096,\n",
       "       0.00291264, 0.0074584 , 0.00303376, 0.00381518, 0.00243963,\n",
       "       0.00211433, 0.004905  , 0.00238678, 0.00346144, 0.00357328,\n",
       "       0.00251263, 0.00213199, 0.        , 0.00542213, 0.00898084,\n",
       "       0.0062218 , 0.0048633 , 0.00325224, 0.        , 0.        ,\n",
       "       0.00280739, 0.00316944, 0.00226825, 0.00172533, 0.00262711,\n",
       "       0.00497714, 0.00356233, 0.0024045 , 0.        , 0.        ,\n",
       "       0.00697582, 0.00757547, 0.00268964, 0.00506771, 0.00305409,\n",
       "       0.00515313, 0.02433508, 0.00580875, 0.00451995, 0.00313786,\n",
       "       0.00577814, 0.0059914 , 0.        , 0.        , 0.        ,\n",
       "       0.00585546, 0.00512574, 0.00445712, 0.00426125, 0.0064764 ,\n",
       "       0.00267925, 0.00827038, 0.00651129, 0.00642806, 0.01484873,\n",
       "       0.00587619, 0.00628055, 0.00526238, 0.00486671, 0.00672225,\n",
       "       0.02498758, 0.00972787, 0.02036091, 0.00790548, 0.01651909,\n",
       "       0.00391386, 0.00639243, 0.01894339, 0.02012928, 0.00961337,\n",
       "       0.0144064 , 0.00975865, 0.00669881, 0.00877552, 0.        ,\n",
       "       0.0095375 , 0.02780805, 0.00388425, 0.00825903, 0.00143118,\n",
       "       0.00776014, 0.00363813, 0.0056806 , 0.08123962, 0.03737307,\n",
       "       0.04122878, 0.03211107, 0.02656819, 0.0057015 , 0.02282819,\n",
       "       0.00512935, 0.00543422, 0.00812345, 0.01188118, 0.0039301 ,\n",
       "       0.00389954, 0.0090569 , 0.00369137, 0.00144022, 0.00238909,\n",
       "       0.01632822, 0.00345742, 0.        , 0.01122081, 0.00259134],\n",
       "      dtype=float32)"
      ]
     },
     "execution_count": 171,
     "metadata": {},
     "output_type": "execute_result"
    }
   ],
   "source": [
    "grid.best_estimator_.feature_importances_"
   ]
  },
  {
   "cell_type": "code",
   "execution_count": 172,
   "id": "a5a1bf9a",
   "metadata": {
    "execution": {
     "iopub.execute_input": "2023-02-03T15:41:21.281120Z",
     "iopub.status.busy": "2023-02-03T15:41:21.280676Z",
     "iopub.status.idle": "2023-02-03T15:41:23.641987Z",
     "shell.execute_reply": "2023-02-03T15:41:23.641021Z"
    },
    "papermill": {
     "duration": 2.383428,
     "end_time": "2023-02-03T15:41:23.644671",
     "exception": false,
     "start_time": "2023-02-03T15:41:21.261243",
     "status": "completed"
    },
    "tags": []
   },
   "outputs": [
    {
     "data": {
      "image/png": "[encoded data removed]",
      "text/plain": [
       "<Figure size 2000x2500 with 1 Axes>"
      ]
     },
     "metadata": {},
     "output_type": "display_data"
    }
   ],
   "source": [
    "from xgboost import plot_importance\n",
    "fig, ax = plt.subplots(figsize=(20,25))\n",
    "plot_importance(grid.best_estimator_, ax=ax);"
   ]
  },
  {
   "cell_type": "code",
   "execution_count": 173,
   "id": "2b689a26",
   "metadata": {
    "execution": {
     "iopub.execute_input": "2023-02-03T15:41:23.688592Z",
     "iopub.status.busy": "2023-02-03T15:41:23.688162Z",
     "iopub.status.idle": "2023-02-03T15:41:23.694476Z",
     "shell.execute_reply": "2023-02-03T15:41:23.693621Z"
    },
    "papermill": {
     "duration": 0.030379,
     "end_time": "2023-02-03T15:41:23.696578",
     "exception": false,
     "start_time": "2023-02-03T15:41:23.666199",
     "status": "completed"
    },
    "tags": []
   },
   "outputs": [
    {
     "data": {
      "text/plain": [
       "4244"
      ]
     },
     "execution_count": 173,
     "metadata": {},
     "output_type": "execute_result"
    }
   ],
   "source": [
    "len(x_test)"
   ]
  },
  {
   "cell_type": "code",
   "execution_count": 174,
   "id": "7d6a03aa",
   "metadata": {
    "execution": {
     "iopub.execute_input": "2023-02-03T15:41:23.740633Z",
     "iopub.status.busy": "2023-02-03T15:41:23.739488Z",
     "iopub.status.idle": "2023-02-03T15:41:23.779993Z",
     "shell.execute_reply": "2023-02-03T15:41:23.778896Z"
    },
    "papermill": {
     "duration": 0.065527,
     "end_time": "2023-02-03T15:41:23.782838",
     "exception": false,
     "start_time": "2023-02-03T15:41:23.717311",
     "status": "completed"
    },
    "tags": []
   },
   "outputs": [
    {
     "data": {
      "text/html": [
       "<div>\n",
       "<style scoped>\n",
       "    .dataframe tbody tr th:only-of-type {\n",
       "        vertical-align: middle;\n",
       "    }\n",
       "\n",
       "    .dataframe tbody tr th {\n",
       "        vertical-align: top;\n",
       "    }\n",
       "\n",
       "    .dataframe thead th {\n",
       "        text-align: right;\n",
       "    }\n",
       "</style>\n",
       "<table border=\"1\" class=\"dataframe\">\n",
       "  <thead>\n",
       "    <tr style=\"text-align: right;\">\n",
       "      <th></th>\n",
       "      <th>SEQ</th>\n",
       "      <th>pred</th>\n",
       "    </tr>\n",
       "  </thead>\n",
       "  <tbody>\n",
       "    <tr>\n",
       "      <th>0</th>\n",
       "      <td>T54370</td>\n",
       "      <td>0.001044</td>\n",
       "    </tr>\n",
       "    <tr>\n",
       "      <th>1</th>\n",
       "      <td>T47892</td>\n",
       "      <td>0.018138</td>\n",
       "    </tr>\n",
       "    <tr>\n",
       "      <th>2</th>\n",
       "      <td>T56637</td>\n",
       "      <td>0.023091</td>\n",
       "    </tr>\n",
       "    <tr>\n",
       "      <th>3</th>\n",
       "      <td>T45487</td>\n",
       "      <td>0.010009</td>\n",
       "    </tr>\n",
       "    <tr>\n",
       "      <th>4</th>\n",
       "      <td>T41995</td>\n",
       "      <td>0.005543</td>\n",
       "    </tr>\n",
       "    <tr>\n",
       "      <th>...</th>\n",
       "      <td>...</td>\n",
       "      <td>...</td>\n",
       "    </tr>\n",
       "    <tr>\n",
       "      <th>4239</th>\n",
       "      <td>T31589</td>\n",
       "      <td>0.054123</td>\n",
       "    </tr>\n",
       "    <tr>\n",
       "      <th>4240</th>\n",
       "      <td>T36236</td>\n",
       "      <td>0.012017</td>\n",
       "    </tr>\n",
       "    <tr>\n",
       "      <th>4241</th>\n",
       "      <td>T34729</td>\n",
       "      <td>0.005540</td>\n",
       "    </tr>\n",
       "    <tr>\n",
       "      <th>4242</th>\n",
       "      <td>T53830</td>\n",
       "      <td>0.005329</td>\n",
       "    </tr>\n",
       "    <tr>\n",
       "      <th>4243</th>\n",
       "      <td>T30681</td>\n",
       "      <td>0.719160</td>\n",
       "    </tr>\n",
       "  </tbody>\n",
       "</table>\n",
       "<p>4244 rows × 2 columns</p>\n",
       "</div>"
      ],
      "text/plain": [
       "         SEQ      pred\n",
       "0     T54370  0.001044\n",
       "1     T47892  0.018138\n",
       "2     T56637  0.023091\n",
       "3     T45487  0.010009\n",
       "4     T41995  0.005543\n",
       "...      ...       ...\n",
       "4239  T31589  0.054123\n",
       "4240  T36236  0.012017\n",
       "4241  T34729  0.005540\n",
       "4242  T53830  0.005329\n",
       "4243  T30681  0.719160\n",
       "\n",
       "[4244 rows x 2 columns]"
      ]
     },
     "execution_count": 174,
     "metadata": {},
     "output_type": "execute_result"
    }
   ],
   "source": [
    "pred = pd.DataFrame({'SEQ':te.SEQ, 'pred': grid.predict_proba(x_test)[:,1]})\n",
    "#pred = pd.DataFrame({'SEQ':te.SEQ, 'pred': grid_lgbm.predict_proba(x_test)[:,1]})\n",
    "pred"
   ]
  },
  {
   "cell_type": "code",
   "execution_count": 175,
   "id": "0f779719",
   "metadata": {
    "execution": {
     "iopub.execute_input": "2023-02-03T15:41:23.826954Z",
     "iopub.status.busy": "2023-02-03T15:41:23.826105Z",
     "iopub.status.idle": "2023-02-03T15:41:23.840804Z",
     "shell.execute_reply": "2023-02-03T15:41:23.839324Z"
    },
    "papermill": {
     "duration": 0.039986,
     "end_time": "2023-02-03T15:41:23.843838",
     "exception": false,
     "start_time": "2023-02-03T15:41:23.803852",
     "status": "completed"
    },
    "tags": []
   },
   "outputs": [],
   "source": [
    "pred.to_csv('submission.csv', index=False)"
   ]
  }
 ],
 "metadata": {
  "kernelspec": {
   "display_name": "Python 3 (ipykernel)",
   "language": "python",
   "name": "python3"
  },
  "language_info": {
   "codemirror_mode": {
    "name": "ipython",
    "version": 3
   },
   "file_extension": ".py",
   "mimetype": "text/x-python",
   "name": "python",
   "nbconvert_exporter": "python",
   "pygments_lexer": "ipython3",
   "version": "3.10.6"
  },
  "papermill": {
   "default_parameters": {},
   "duration": 457.001981,
   "end_time": "2023-02-03T15:41:26.489168",
   "environment_variables": {},
   "exception": null,
   "input_path": "__notebook__.ipynb",
   "output_path": "__notebook__.ipynb",
   "parameters": {},
   "start_time": "2023-02-03T15:33:49.487187",
   "version": "2.3.4"
  }
 },
 "nbformat": 4,
 "nbformat_minor": 5
}
