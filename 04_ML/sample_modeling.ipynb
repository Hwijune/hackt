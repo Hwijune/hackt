{
 "cells": [
  {
   "cell_type": "code",
   "execution_count": 1,
   "id": "2c79f0e4",
   "metadata": {},
   "outputs": [],
   "source": [
    "import pandas as pd\n",
    "import numpy as np\n",
    "from datetime import datetime\n",
    "np.random.seed(123)\n",
    "\n",
    "\n",
    "tr = pd.read_csv('./data/trainset.csv')\n",
    "te = pd.read_csv('./data/testset_final.csv')\n",
    "drop_col = ['매니저최초가입일', '매니저최초서비스일', '매니저주소']\n",
    "tr = tr.drop(columns=drop_col)\n",
    "tr.매니저생년월일 = tr.매니저생년월일.str[:4]\n",
    "df = pd.concat([tr,te])"
   ]
  },
  {
   "cell_type": "code",
   "execution_count": 2,
   "id": "a7a8aaa3",
   "metadata": {},
   "outputs": [
    {
     "name": "stdout",
     "output_type": "stream",
     "text": [
      "<class 'pandas.core.frame.DataFrame'>\n",
      "Int64Index: 27253 entries, 0 to 4243\n",
      "Data columns (total 30 columns):\n",
      " #   Column      Non-Null Count  Dtype  \n",
      "---  ------      --------------  -----  \n",
      " 0   SEQ         27253 non-null  object \n",
      " 1   접수일         27253 non-null  object \n",
      " 2   접수시각        4013 non-null   object \n",
      " 3   장기서비스여부     27253 non-null  int64  \n",
      " 4   최초서비스일      27253 non-null  object \n",
      " 5   전체회차        27253 non-null  int64  \n",
      " 6   현재회차        27253 non-null  int64  \n",
      " 7   서비스일자       27253 non-null  object \n",
      " 8   서비스시작시간     27253 non-null  object \n",
      " 9   서비스종료시간     27253 non-null  object \n",
      " 10  기존고객여부      27253 non-null  int64  \n",
      " 11  결재형태        27247 non-null  object \n",
      " 12  서비스주소       27253 non-null  object \n",
      " 13  주거형태        27253 non-null  object \n",
      " 14  평수          16802 non-null  object \n",
      " 15  고객가입일       27093 non-null  object \n",
      " 16  반려동물        24102 non-null  object \n",
      " 17  부재중여부       16802 non-null  float64\n",
      " 18  우선청소        13360 non-null  object \n",
      " 19  쿠폰사용여부      27253 non-null  int64  \n",
      " 20  매니저생년월일     27253 non-null  object \n",
      " 21  매니저성별       27253 non-null  int64  \n",
      " 22  매니저사용휴대폰    24024 non-null  object \n",
      " 23  매니저이동방법     26931 non-null  object \n",
      " 24  근무가능지역      27253 non-null  object \n",
      " 25  CS교육이수여부    24025 non-null  float64\n",
      " 26  청소교육이수여부    24025 non-null  float64\n",
      " 27  부재중서비스가능여부  27253 non-null  int64  \n",
      " 28  추천인여부       27253 non-null  int64  \n",
      " 29  매칭성공여부      23009 non-null  float64\n",
      "dtypes: float64(4), int64(8), object(18)\n",
      "memory usage: 6.4+ MB\n"
     ]
    }
   ],
   "source": [
    "df.info()"
   ]
  },
  {
   "cell_type": "code",
   "execution_count": 3,
   "id": "8fb8c999",
   "metadata": {},
   "outputs": [
    {
     "name": "stdout",
     "output_type": "stream",
     "text": [
      "<class 'pandas.core.frame.DataFrame'>\n",
      "Int64Index: 27253 entries, 0 to 4243\n",
      "Data columns (total 69 columns):\n",
      " #   Column      Non-Null Count  Dtype  \n",
      "---  ------      --------------  -----  \n",
      " 0   SEQ         27253 non-null  object \n",
      " 1   접수년         27253 non-null  int64  \n",
      " 2   접수월         27253 non-null  int64  \n",
      " 3   접수일         27253 non-null  int64  \n",
      " 4   장기서비스여부     27253 non-null  int64  \n",
      " 5   최초서비스차이     27253 non-null  int64  \n",
      " 6   회차          27253 non-null  float64\n",
      " 7   서비스년        27253 non-null  int64  \n",
      " 8   서비스월        27253 non-null  int64  \n",
      " 9   서비스일        27253 non-null  int64  \n",
      " 10  접수일서비스일차이   27253 non-null  int64  \n",
      " 11  서비스시작시간     27253 non-null  int64  \n",
      " 12  서비스종료시간     27253 non-null  int64  \n",
      " 13  서비스시간       27253 non-null  int64  \n",
      " 14  기존고객여부      27253 non-null  int64  \n",
      " 15  신용카드        27253 non-null  int64  \n",
      " 16  무통장입금       27253 non-null  int64  \n",
      " 17  가상계좌        27253 non-null  int64  \n",
      " 18  충남          27253 non-null  int64  \n",
      " 19  서울          27253 non-null  int64  \n",
      " 20  강원          27253 non-null  int64  \n",
      " 21  부산          27253 non-null  int64  \n",
      " 22  광주          27253 non-null  int64  \n",
      " 23  경기          27253 non-null  int64  \n",
      " 24  경남          27253 non-null  int64  \n",
      " 25  일반주택        27253 non-null  int64  \n",
      " 26  평수          27253 non-null  int64  \n",
      " 27  가입일수        27253 non-null  float64\n",
      " 28  반려동물없음      27253 non-null  int64  \n",
      " 29  반려동물개       27253 non-null  int64  \n",
      " 30  반려동물고양이     27253 non-null  int64  \n",
      " 31  반려동물기타      27253 non-null  int64  \n",
      " 32  반려동물미응답     27253 non-null  int64  \n",
      " 33  부재중여부       27253 non-null  int64  \n",
      " 34  부재중미응답      27253 non-null  int64  \n",
      " 35  화장실         27253 non-null  int64  \n",
      " 36  방           27253 non-null  int64  \n",
      " 37  거실          27253 non-null  int64  \n",
      " 38  주방          27253 non-null  int64  \n",
      " 39  베란다         27253 non-null  int64  \n",
      " 40  쿠폰사용여부      27253 non-null  int64  \n",
      " 41  매니저나이       27253 non-null  object \n",
      " 42  매니저성별       27253 non-null  int64  \n",
      " 43  안드로이드       27253 non-null  int64  \n",
      " 44  ios         27253 non-null  int64  \n",
      " 45  기타          27253 non-null  int64  \n",
      " 46  m충남         27253 non-null  int64  \n",
      " 47  m서울         27253 non-null  int64  \n",
      " 48  m강원         27253 non-null  int64  \n",
      " 49  m광주         27253 non-null  int64  \n",
      " 50  m부산         27253 non-null  int64  \n",
      " 51  m경기         27253 non-null  int64  \n",
      " 52  m경남         27253 non-null  int64  \n",
      " 53  m인천         27253 non-null  int64  \n",
      " 54  매니저자차       27253 non-null  int64  \n",
      " 55  매니저대중교통     27253 non-null  int64  \n",
      " 56  w천안         27253 non-null  int64  \n",
      " 57  w기타         27253 non-null  int64  \n",
      " 58  w서울         27253 non-null  int64  \n",
      " 59  w원주         27253 non-null  int64  \n",
      " 60  w부산         27253 non-null  int64  \n",
      " 61  w광주         27253 non-null  int64  \n",
      " 62  w수도권        27253 non-null  int64  \n",
      " 63  w평택         27253 non-null  int64  \n",
      " 64  CS교육이수여부    27253 non-null  int64  \n",
      " 65  청소교육이수여부    27253 non-null  int64  \n",
      " 66  부재중서비스가능여부  27253 non-null  int64  \n",
      " 67  추천인여부       27253 non-null  int64  \n",
      " 68  매칭성공여부      23009 non-null  float64\n",
      "dtypes: float64(3), int64(64), object(2)\n",
      "memory usage: 14.6+ MB\n"
     ]
    }
   ],
   "source": [
    "my_dict = {}\n",
    "my_dict['SEQ'] = df['SEQ']\n",
    "my_dict['접수년'] = pd.to_datetime(df['접수일']).dt.year\n",
    "my_dict['접수월'] = pd.to_datetime(df['접수일']).dt.month\n",
    "my_dict['접수일'] = pd.to_datetime(df['접수일']).dt.day\n",
    "my_dict['장기서비스여부'] = df['장기서비스여부']\n",
    "my_dict['최초서비스차이'] = (pd.to_datetime(df['최초서비스일'])-pd.to_datetime(df['접수일'])).dt.days\n",
    "my_dict['회차'] = df['현재회차']/df['전체회차']\n",
    "my_dict['서비스년'] = pd.to_datetime(df['서비스일자']).dt.year\n",
    "my_dict['서비스월'] = pd.to_datetime(df['서비스일자']).dt.month\n",
    "my_dict['서비스일'] = pd.to_datetime(df['서비스일자']).dt.day\n",
    "my_dict['접수일서비스일차이'] = (pd.to_datetime(df['서비스일자'])-pd.to_datetime(df['접수일'])).dt.days\n",
    "my_dict['서비스시작시간'] = pd.to_datetime(df['서비스시작시간']).dt.hour\n",
    "my_dict['서비스종료시간'] = pd.to_datetime(df['서비스종료시간']).dt.hour\n",
    "my_dict['서비스시간'] = (my_dict['서비스종료시간'] - my_dict['서비스시작시간'])\n",
    "my_dict['기존고객여부'] = df['기존고객여부']\n",
    "my_dict['신용카드'] = (df['결재형태'] == '신용카드').astype('int')\n",
    "my_dict['무통장입금']  = (df['결재형태'] == '무통장입금').astype('int')\n",
    "my_dict['가상계좌']  = (df['결재형태'] == '가상계좌').astype('int')\n",
    "my_dict['충남'] = (df['서비스주소'].str.split(expand=True)[0] == '충남').astype('int')\n",
    "my_dict['서울'] = (df['서비스주소'].str.split(expand=True)[0] == '서울').astype('int')\n",
    "my_dict['강원'] = (df['서비스주소'].str.split(expand=True)[0] == '강원').astype('int')\n",
    "my_dict['부산'] = (df['서비스주소'].str.split(expand=True)[0] == '부산').astype('int')\n",
    "my_dict['광주'] = (df['서비스주소'].str.split(expand=True)[0] == '광주').astype('int')\n",
    "my_dict['경기'] = (df['서비스주소'].str.split(expand=True)[0] == '경기').astype('int')\n",
    "my_dict['경남'] = (df['서비스주소'].str.split(expand=True)[0] == '경남').astype('int')\n",
    "my_dict['일반주택'] = (df['주거형태']=='일반주택').astype('int')\n",
    "my_dict['평수'] = df['평수'].str[0].fillna(0).astype('int')\n",
    "my_dict['가입일수'] = (datetime.today() - pd.to_datetime(df['고객가입일'])).dt.days.fillna(0)\n",
    "my_dict['반려동물없음'] = (df['반려동물']=='없음').astype('int')\n",
    "my_dict['반려동물개'] = (df['반려동물']=='개').astype('int')\n",
    "my_dict['반려동물고양이'] =(df['반려동물']=='고양이').astype('int')\n",
    "my_dict['반려동물기타'] =(df['반려동물']=='기타').astype('int')\n",
    "my_dict['반려동물미응답'] = (df['반려동물'].isnull()).astype('int')\n",
    "my_dict['부재중여부'] = df['부재중여부'].fillna(0).astype('int')\n",
    "my_dict['부재중미응답'] = (df['부재중여부'].isnull()).astype('int')\n",
    "my_dict['화장실'] = (df['우선청소']=='화장실').astype('int')\n",
    "my_dict['방'] = (df['우선청소']=='방').astype('int')\n",
    "my_dict['거실'] = (df['우선청소']=='거실').astype('int')\n",
    "my_dict['주방'] = (df['우선청소']=='주방').astype('int')\n",
    "my_dict['베란다'] = (df['우선청소']=='베란다').astype('int')\n",
    "my_dict['쿠폰사용여부'] = df['쿠폰사용여부']\n",
    "my_dict['매니저나이'] = df['매니저생년월일']\n",
    "my_dict['매니저성별'] = df['매니저성별']\n",
    "my_dict['안드로이드'] = (df['매니저사용휴대폰']=='안드로이드').astype('int')\n",
    "my_dict['ios'] = (df['매니저사용휴대폰']=='ios').astype('int')\n",
    "my_dict['기타'] = (df['매니저사용휴대폰']=='기타').astype('int')\n",
    "my_dict['m충남'] = (df['근무가능지역'].str.split(expand=True)[0] == '충남').astype('int')\n",
    "my_dict['m서울'] = (df['근무가능지역'].str.split(expand=True)[0] == '서울').astype('int')\n",
    "my_dict['m강원'] = (df['근무가능지역'].str.split(expand=True)[0] == '강원').astype('int')\n",
    "my_dict['m광주'] = (df['근무가능지역'].str.split(expand=True)[0] == '광주').astype('int')\n",
    "my_dict['m부산'] = (df['근무가능지역'].str.split(expand=True)[0] == '부산').astype('int')\n",
    "my_dict['m경기'] = (df['근무가능지역'].str.split(expand=True)[0] == '경기').astype('int')\n",
    "my_dict['m경남'] = (df['근무가능지역'].str.split(expand=True)[0] == '경남').astype('int')\n",
    "my_dict['m인천'] = (df['근무가능지역'].str.split(expand=True)[0] == '인천').astype('int')\n",
    "my_dict['매니저자차'] = (df['매니저이동방법']=='자차').astype('int')\n",
    "my_dict['매니저대중교통'] = (df['매니저이동방법']=='대중교통').astype('int')\n",
    "my_dict['w천안'] = (df['근무가능지역'].str.split(expand=True)[0] == '천안/아산').astype('int')\n",
    "my_dict['w기타'] = (df['근무가능지역'].str.split(expand=True)[0] == '기타').astype('int')\n",
    "my_dict['w서울'] = (df['근무가능지역'].str.split(expand=True)[0] == '서울').astype('int')\n",
    "my_dict['w원주'] = (df['근무가능지역'].str.split(expand=True)[0] == '원주/춘천').astype('int')\n",
    "my_dict['w부산'] = (df['근무가능지역'].str.split(expand=True)[0] == '부산').astype('int')\n",
    "my_dict['w광주'] = (df['근무가능지역'].str.split(expand=True)[0] == '광주').astype('int')\n",
    "my_dict['w수도권'] = (df['근무가능지역'].str.split(expand=True)[0] == '수도권').astype('int')\n",
    "my_dict['w평택'] = (df['근무가능지역'].str.split(expand=True)[0] == '평택').astype('int')\n",
    "my_dict['CS교육이수여부'] = df['CS교육이수여부'].fillna(0).astype('int')\n",
    "my_dict['청소교육이수여부'] = df['청소교육이수여부'].fillna(0).astype('int')\n",
    "my_dict['부재중서비스가능여부'] = df['부재중서비스가능여부'].fillna(0).astype('int')\n",
    "my_dict['추천인여부'] = df['추천인여부']\n",
    "my_dict['매칭성공여부'] = df['매칭성공여부']\n",
    "my_dict = pd.DataFrame(my_dict)\n",
    "#ans = ans.merge(my_dict)\n",
    "my_dict.info()"
   ]
  },
  {
   "cell_type": "code",
   "execution_count": 4,
   "id": "32a731b3",
   "metadata": {},
   "outputs": [],
   "source": [
    "x_train = my_dict[~my_dict['매칭성공여부'].isnull()].drop(columns=['SEQ', '매칭성공여부'])\n",
    "x_test = my_dict[my_dict['매칭성공여부'].isnull()].drop(columns=['SEQ','매칭성공여부'])\n",
    "y_train= my_dict[~my_dict['매칭성공여부'].isnull()]['매칭성공여부']"
   ]
  },
  {
   "cell_type": "code",
   "execution_count": 5,
   "id": "95936923",
   "metadata": {},
   "outputs": [],
   "source": [
    "from sklearn.model_selection import GridSearchCV\n",
    "from sklearn.metrics import roc_auc_score\n",
    "from sklearn.metrics import recall_score, precision_score, f1_score, fbeta_score\n",
    "from sklearn.tree import DecisionTreeClassifier"
   ]
  },
  {
   "cell_type": "code",
   "execution_count": 6,
   "id": "f8c4fad9",
   "metadata": {},
   "outputs": [],
   "source": [
    "param = {'criterion':['gini','entropy'],\n",
    "         'max_depth':np.arange(4,100)}"
   ]
  },
  {
   "cell_type": "code",
   "execution_count": 7,
   "id": "404ace39",
   "metadata": {},
   "outputs": [],
   "source": [
    "dt = DecisionTreeClassifier()"
   ]
  },
  {
   "cell_type": "code",
   "execution_count": 8,
   "id": "8189dd4c",
   "metadata": {},
   "outputs": [
    {
     "data": {
      "text/html": [
       "<style>#sk-container-id-1 {color: black;background-color: white;}#sk-container-id-1 pre{padding: 0;}#sk-container-id-1 div.sk-toggleable {background-color: white;}#sk-container-id-1 label.sk-toggleable__label {cursor: pointer;display: block;width: 100%;margin-bottom: 0;padding: 0.3em;box-sizing: border-box;text-align: center;}#sk-container-id-1 label.sk-toggleable__label-arrow:before {content: \"▸\";float: left;margin-right: 0.25em;color: #696969;}#sk-container-id-1 label.sk-toggleable__label-arrow:hover:before {color: black;}#sk-container-id-1 div.sk-estimator:hover label.sk-toggleable__label-arrow:before {color: black;}#sk-container-id-1 div.sk-toggleable__content {max-height: 0;max-width: 0;overflow: hidden;text-align: left;background-color: #f0f8ff;}#sk-container-id-1 div.sk-toggleable__content pre {margin: 0.2em;color: black;border-radius: 0.25em;background-color: #f0f8ff;}#sk-container-id-1 input.sk-toggleable__control:checked~div.sk-toggleable__content {max-height: 200px;max-width: 100%;overflow: auto;}#sk-container-id-1 input.sk-toggleable__control:checked~label.sk-toggleable__label-arrow:before {content: \"▾\";}#sk-container-id-1 div.sk-estimator input.sk-toggleable__control:checked~label.sk-toggleable__label {background-color: #d4ebff;}#sk-container-id-1 div.sk-label input.sk-toggleable__control:checked~label.sk-toggleable__label {background-color: #d4ebff;}#sk-container-id-1 input.sk-hidden--visually {border: 0;clip: rect(1px 1px 1px 1px);clip: rect(1px, 1px, 1px, 1px);height: 1px;margin: -1px;overflow: hidden;padding: 0;position: absolute;width: 1px;}#sk-container-id-1 div.sk-estimator {font-family: monospace;background-color: #f0f8ff;border: 1px dotted black;border-radius: 0.25em;box-sizing: border-box;margin-bottom: 0.5em;}#sk-container-id-1 div.sk-estimator:hover {background-color: #d4ebff;}#sk-container-id-1 div.sk-parallel-item::after {content: \"\";width: 100%;border-bottom: 1px solid gray;flex-grow: 1;}#sk-container-id-1 div.sk-label:hover label.sk-toggleable__label {background-color: #d4ebff;}#sk-container-id-1 div.sk-serial::before {content: \"\";position: absolute;border-left: 1px solid gray;box-sizing: border-box;top: 0;bottom: 0;left: 50%;z-index: 0;}#sk-container-id-1 div.sk-serial {display: flex;flex-direction: column;align-items: center;background-color: white;padding-right: 0.2em;padding-left: 0.2em;position: relative;}#sk-container-id-1 div.sk-item {position: relative;z-index: 1;}#sk-container-id-1 div.sk-parallel {display: flex;align-items: stretch;justify-content: center;background-color: white;position: relative;}#sk-container-id-1 div.sk-item::before, #sk-container-id-1 div.sk-parallel-item::before {content: \"\";position: absolute;border-left: 1px solid gray;box-sizing: border-box;top: 0;bottom: 0;left: 50%;z-index: -1;}#sk-container-id-1 div.sk-parallel-item {display: flex;flex-direction: column;z-index: 1;position: relative;background-color: white;}#sk-container-id-1 div.sk-parallel-item:first-child::after {align-self: flex-end;width: 50%;}#sk-container-id-1 div.sk-parallel-item:last-child::after {align-self: flex-start;width: 50%;}#sk-container-id-1 div.sk-parallel-item:only-child::after {width: 0;}#sk-container-id-1 div.sk-dashed-wrapped {border: 1px dashed gray;margin: 0 0.4em 0.5em 0.4em;box-sizing: border-box;padding-bottom: 0.4em;background-color: white;}#sk-container-id-1 div.sk-label label {font-family: monospace;font-weight: bold;display: inline-block;line-height: 1.2em;}#sk-container-id-1 div.sk-label-container {text-align: center;}#sk-container-id-1 div.sk-container {/* jupyter's `normalize.less` sets `[hidden] { display: none; }` but bootstrap.min.css set `[hidden] { display: none !important; }` so we also need the `!important` here to be able to override the default hidden behavior on the sphinx rendered scikit-learn.org. See: https://github.com/scikit-learn/scikit-learn/issues/21755 */display: inline-block !important;position: relative;}#sk-container-id-1 div.sk-text-repr-fallback {display: none;}</style><div id=\"sk-container-id-1\" class=\"sk-top-container\"><div class=\"sk-text-repr-fallback\"><pre>GridSearchCV(cv=4, estimator=DecisionTreeClassifier(), n_jobs=-1,\n",
       "             param_grid={&#x27;criterion&#x27;: [&#x27;gini&#x27;, &#x27;entropy&#x27;],\n",
       "                         &#x27;max_depth&#x27;: array([ 4,  5,  6,  7,  8,  9, 10, 11, 12, 13, 14, 15, 16, 17, 18, 19, 20,\n",
       "       21, 22, 23, 24, 25, 26, 27, 28, 29, 30, 31, 32, 33, 34, 35, 36, 37,\n",
       "       38, 39, 40, 41, 42, 43, 44, 45, 46, 47, 48, 49, 50, 51, 52, 53, 54,\n",
       "       55, 56, 57, 58, 59, 60, 61, 62, 63, 64, 65, 66, 67, 68, 69, 70, 71,\n",
       "       72, 73, 74, 75, 76, 77, 78, 79, 80, 81, 82, 83, 84, 85, 86, 87, 88,\n",
       "       89, 90, 91, 92, 93, 94, 95, 96, 97, 98, 99])},\n",
       "             scoring=&#x27;f1&#x27;)</pre><b>In a Jupyter environment, please rerun this cell to show the HTML representation or trust the notebook. <br />On GitHub, the HTML representation is unable to render, please try loading this page with nbviewer.org.</b></div><div class=\"sk-container\" hidden><div class=\"sk-item sk-dashed-wrapped\"><div class=\"sk-label-container\"><div class=\"sk-label sk-toggleable\"><input class=\"sk-toggleable__control sk-hidden--visually\" id=\"sk-estimator-id-1\" type=\"checkbox\" ><label for=\"sk-estimator-id-1\" class=\"sk-toggleable__label sk-toggleable__label-arrow\">GridSearchCV</label><div class=\"sk-toggleable__content\"><pre>GridSearchCV(cv=4, estimator=DecisionTreeClassifier(), n_jobs=-1,\n",
       "             param_grid={&#x27;criterion&#x27;: [&#x27;gini&#x27;, &#x27;entropy&#x27;],\n",
       "                         &#x27;max_depth&#x27;: array([ 4,  5,  6,  7,  8,  9, 10, 11, 12, 13, 14, 15, 16, 17, 18, 19, 20,\n",
       "       21, 22, 23, 24, 25, 26, 27, 28, 29, 30, 31, 32, 33, 34, 35, 36, 37,\n",
       "       38, 39, 40, 41, 42, 43, 44, 45, 46, 47, 48, 49, 50, 51, 52, 53, 54,\n",
       "       55, 56, 57, 58, 59, 60, 61, 62, 63, 64, 65, 66, 67, 68, 69, 70, 71,\n",
       "       72, 73, 74, 75, 76, 77, 78, 79, 80, 81, 82, 83, 84, 85, 86, 87, 88,\n",
       "       89, 90, 91, 92, 93, 94, 95, 96, 97, 98, 99])},\n",
       "             scoring=&#x27;f1&#x27;)</pre></div></div></div><div class=\"sk-parallel\"><div class=\"sk-parallel-item\"><div class=\"sk-item\"><div class=\"sk-label-container\"><div class=\"sk-label sk-toggleable\"><input class=\"sk-toggleable__control sk-hidden--visually\" id=\"sk-estimator-id-2\" type=\"checkbox\" ><label for=\"sk-estimator-id-2\" class=\"sk-toggleable__label sk-toggleable__label-arrow\">estimator: DecisionTreeClassifier</label><div class=\"sk-toggleable__content\"><pre>DecisionTreeClassifier()</pre></div></div></div><div class=\"sk-serial\"><div class=\"sk-item\"><div class=\"sk-estimator sk-toggleable\"><input class=\"sk-toggleable__control sk-hidden--visually\" id=\"sk-estimator-id-3\" type=\"checkbox\" ><label for=\"sk-estimator-id-3\" class=\"sk-toggleable__label sk-toggleable__label-arrow\">DecisionTreeClassifier</label><div class=\"sk-toggleable__content\"><pre>DecisionTreeClassifier()</pre></div></div></div></div></div></div></div></div></div></div>"
      ],
      "text/plain": [
       "GridSearchCV(cv=4, estimator=DecisionTreeClassifier(), n_jobs=-1,\n",
       "             param_grid={'criterion': ['gini', 'entropy'],\n",
       "                         'max_depth': array([ 4,  5,  6,  7,  8,  9, 10, 11, 12, 13, 14, 15, 16, 17, 18, 19, 20,\n",
       "       21, 22, 23, 24, 25, 26, 27, 28, 29, 30, 31, 32, 33, 34, 35, 36, 37,\n",
       "       38, 39, 40, 41, 42, 43, 44, 45, 46, 47, 48, 49, 50, 51, 52, 53, 54,\n",
       "       55, 56, 57, 58, 59, 60, 61, 62, 63, 64, 65, 66, 67, 68, 69, 70, 71,\n",
       "       72, 73, 74, 75, 76, 77, 78, 79, 80, 81, 82, 83, 84, 85, 86, 87, 88,\n",
       "       89, 90, 91, 92, 93, 94, 95, 96, 97, 98, 99])},\n",
       "             scoring='f1')"
      ]
     },
     "execution_count": 8,
     "metadata": {},
     "output_type": "execute_result"
    }
   ],
   "source": [
    "gcv = GridSearchCV(dt, param_grid=param, scoring='f1', n_jobs=-1, cv=4)\n",
    "gcv.fit(x_train, y_train)"
   ]
  },
  {
   "cell_type": "code",
   "execution_count": 9,
   "id": "8e821663",
   "metadata": {
    "scrolled": true
   },
   "outputs": [
    {
     "data": {
      "text/plain": [
       "0.6525652194528655"
      ]
     },
     "execution_count": 9,
     "metadata": {},
     "output_type": "execute_result"
    }
   ],
   "source": [
    "gcv.best_score_"
   ]
  },
  {
   "cell_type": "code",
   "execution_count": 10,
   "id": "ec75a004",
   "metadata": {},
   "outputs": [
    {
     "data": {
      "text/html": [
       "<style>#sk-container-id-2 {color: black;background-color: white;}#sk-container-id-2 pre{padding: 0;}#sk-container-id-2 div.sk-toggleable {background-color: white;}#sk-container-id-2 label.sk-toggleable__label {cursor: pointer;display: block;width: 100%;margin-bottom: 0;padding: 0.3em;box-sizing: border-box;text-align: center;}#sk-container-id-2 label.sk-toggleable__label-arrow:before {content: \"▸\";float: left;margin-right: 0.25em;color: #696969;}#sk-container-id-2 label.sk-toggleable__label-arrow:hover:before {color: black;}#sk-container-id-2 div.sk-estimator:hover label.sk-toggleable__label-arrow:before {color: black;}#sk-container-id-2 div.sk-toggleable__content {max-height: 0;max-width: 0;overflow: hidden;text-align: left;background-color: #f0f8ff;}#sk-container-id-2 div.sk-toggleable__content pre {margin: 0.2em;color: black;border-radius: 0.25em;background-color: #f0f8ff;}#sk-container-id-2 input.sk-toggleable__control:checked~div.sk-toggleable__content {max-height: 200px;max-width: 100%;overflow: auto;}#sk-container-id-2 input.sk-toggleable__control:checked~label.sk-toggleable__label-arrow:before {content: \"▾\";}#sk-container-id-2 div.sk-estimator input.sk-toggleable__control:checked~label.sk-toggleable__label {background-color: #d4ebff;}#sk-container-id-2 div.sk-label input.sk-toggleable__control:checked~label.sk-toggleable__label {background-color: #d4ebff;}#sk-container-id-2 input.sk-hidden--visually {border: 0;clip: rect(1px 1px 1px 1px);clip: rect(1px, 1px, 1px, 1px);height: 1px;margin: -1px;overflow: hidden;padding: 0;position: absolute;width: 1px;}#sk-container-id-2 div.sk-estimator {font-family: monospace;background-color: #f0f8ff;border: 1px dotted black;border-radius: 0.25em;box-sizing: border-box;margin-bottom: 0.5em;}#sk-container-id-2 div.sk-estimator:hover {background-color: #d4ebff;}#sk-container-id-2 div.sk-parallel-item::after {content: \"\";width: 100%;border-bottom: 1px solid gray;flex-grow: 1;}#sk-container-id-2 div.sk-label:hover label.sk-toggleable__label {background-color: #d4ebff;}#sk-container-id-2 div.sk-serial::before {content: \"\";position: absolute;border-left: 1px solid gray;box-sizing: border-box;top: 0;bottom: 0;left: 50%;z-index: 0;}#sk-container-id-2 div.sk-serial {display: flex;flex-direction: column;align-items: center;background-color: white;padding-right: 0.2em;padding-left: 0.2em;position: relative;}#sk-container-id-2 div.sk-item {position: relative;z-index: 1;}#sk-container-id-2 div.sk-parallel {display: flex;align-items: stretch;justify-content: center;background-color: white;position: relative;}#sk-container-id-2 div.sk-item::before, #sk-container-id-2 div.sk-parallel-item::before {content: \"\";position: absolute;border-left: 1px solid gray;box-sizing: border-box;top: 0;bottom: 0;left: 50%;z-index: -1;}#sk-container-id-2 div.sk-parallel-item {display: flex;flex-direction: column;z-index: 1;position: relative;background-color: white;}#sk-container-id-2 div.sk-parallel-item:first-child::after {align-self: flex-end;width: 50%;}#sk-container-id-2 div.sk-parallel-item:last-child::after {align-self: flex-start;width: 50%;}#sk-container-id-2 div.sk-parallel-item:only-child::after {width: 0;}#sk-container-id-2 div.sk-dashed-wrapped {border: 1px dashed gray;margin: 0 0.4em 0.5em 0.4em;box-sizing: border-box;padding-bottom: 0.4em;background-color: white;}#sk-container-id-2 div.sk-label label {font-family: monospace;font-weight: bold;display: inline-block;line-height: 1.2em;}#sk-container-id-2 div.sk-label-container {text-align: center;}#sk-container-id-2 div.sk-container {/* jupyter's `normalize.less` sets `[hidden] { display: none; }` but bootstrap.min.css set `[hidden] { display: none !important; }` so we also need the `!important` here to be able to override the default hidden behavior on the sphinx rendered scikit-learn.org. See: https://github.com/scikit-learn/scikit-learn/issues/21755 */display: inline-block !important;position: relative;}#sk-container-id-2 div.sk-text-repr-fallback {display: none;}</style><div id=\"sk-container-id-2\" class=\"sk-top-container\"><div class=\"sk-text-repr-fallback\"><pre>DecisionTreeClassifier(criterion=&#x27;entropy&#x27;, max_depth=90)</pre><b>In a Jupyter environment, please rerun this cell to show the HTML representation or trust the notebook. <br />On GitHub, the HTML representation is unable to render, please try loading this page with nbviewer.org.</b></div><div class=\"sk-container\" hidden><div class=\"sk-item\"><div class=\"sk-estimator sk-toggleable\"><input class=\"sk-toggleable__control sk-hidden--visually\" id=\"sk-estimator-id-4\" type=\"checkbox\" checked><label for=\"sk-estimator-id-4\" class=\"sk-toggleable__label sk-toggleable__label-arrow\">DecisionTreeClassifier</label><div class=\"sk-toggleable__content\"><pre>DecisionTreeClassifier(criterion=&#x27;entropy&#x27;, max_depth=90)</pre></div></div></div></div></div>"
      ],
      "text/plain": [
       "DecisionTreeClassifier(criterion='entropy', max_depth=90)"
      ]
     },
     "execution_count": 10,
     "metadata": {},
     "output_type": "execute_result"
    }
   ],
   "source": [
    "gcv.best_estimator_"
   ]
  },
  {
   "cell_type": "code",
   "execution_count": 11,
   "id": "485b64b7",
   "metadata": {},
   "outputs": [
    {
     "data": {
      "text/plain": [
       "4244"
      ]
     },
     "execution_count": 11,
     "metadata": {},
     "output_type": "execute_result"
    }
   ],
   "source": [
    "len(x_test)"
   ]
  },
  {
   "cell_type": "code",
   "execution_count": 12,
   "id": "f68a2673",
   "metadata": {},
   "outputs": [
    {
     "data": {
      "text/html": [
       "<div>\n",
       "<style scoped>\n",
       "    .dataframe tbody tr th:only-of-type {\n",
       "        vertical-align: middle;\n",
       "    }\n",
       "\n",
       "    .dataframe tbody tr th {\n",
       "        vertical-align: top;\n",
       "    }\n",
       "\n",
       "    .dataframe thead th {\n",
       "        text-align: right;\n",
       "    }\n",
       "</style>\n",
       "<table border=\"1\" class=\"dataframe\">\n",
       "  <thead>\n",
       "    <tr style=\"text-align: right;\">\n",
       "      <th></th>\n",
       "      <th>SEQ</th>\n",
       "      <th>pred</th>\n",
       "    </tr>\n",
       "  </thead>\n",
       "  <tbody>\n",
       "    <tr>\n",
       "      <th>0</th>\n",
       "      <td>T54370</td>\n",
       "      <td>0.0</td>\n",
       "    </tr>\n",
       "    <tr>\n",
       "      <th>1</th>\n",
       "      <td>T47892</td>\n",
       "      <td>0.0</td>\n",
       "    </tr>\n",
       "    <tr>\n",
       "      <th>2</th>\n",
       "      <td>T56637</td>\n",
       "      <td>1.0</td>\n",
       "    </tr>\n",
       "    <tr>\n",
       "      <th>3</th>\n",
       "      <td>T45487</td>\n",
       "      <td>0.0</td>\n",
       "    </tr>\n",
       "    <tr>\n",
       "      <th>4</th>\n",
       "      <td>T41995</td>\n",
       "      <td>0.0</td>\n",
       "    </tr>\n",
       "    <tr>\n",
       "      <th>...</th>\n",
       "      <td>...</td>\n",
       "      <td>...</td>\n",
       "    </tr>\n",
       "    <tr>\n",
       "      <th>4239</th>\n",
       "      <td>T31589</td>\n",
       "      <td>0.0</td>\n",
       "    </tr>\n",
       "    <tr>\n",
       "      <th>4240</th>\n",
       "      <td>T36236</td>\n",
       "      <td>1.0</td>\n",
       "    </tr>\n",
       "    <tr>\n",
       "      <th>4241</th>\n",
       "      <td>T34729</td>\n",
       "      <td>0.0</td>\n",
       "    </tr>\n",
       "    <tr>\n",
       "      <th>4242</th>\n",
       "      <td>T53830</td>\n",
       "      <td>0.0</td>\n",
       "    </tr>\n",
       "    <tr>\n",
       "      <th>4243</th>\n",
       "      <td>T30681</td>\n",
       "      <td>0.0</td>\n",
       "    </tr>\n",
       "  </tbody>\n",
       "</table>\n",
       "<p>4244 rows × 2 columns</p>\n",
       "</div>"
      ],
      "text/plain": [
       "         SEQ  pred\n",
       "0     T54370   0.0\n",
       "1     T47892   0.0\n",
       "2     T56637   1.0\n",
       "3     T45487   0.0\n",
       "4     T41995   0.0\n",
       "...      ...   ...\n",
       "4239  T31589   0.0\n",
       "4240  T36236   1.0\n",
       "4241  T34729   0.0\n",
       "4242  T53830   0.0\n",
       "4243  T30681   0.0\n",
       "\n",
       "[4244 rows x 2 columns]"
      ]
     },
     "execution_count": 12,
     "metadata": {},
     "output_type": "execute_result"
    }
   ],
   "source": [
    "pred = pd.DataFrame({'SEQ':te.SEQ, 'pred': gcv.predict_proba(x_test)[:,1]})\n",
    "pred"
   ]
  }
 ],
 "metadata": {
  "kernelspec": {
   "display_name": "Python 3 (ipykernel)",
   "language": "python",
   "name": "python3"
  }
 },
 "nbformat": 4,
 "nbformat_minor": 5
}
