{
 "cells": [
  {
   "cell_type": "code",
   "execution_count": 763,
   "id": "2c79f0e4",
   "metadata": {},
   "outputs": [],
   "source": [
    "import pandas as pd\n",
    "import numpy as np\n",
    "from datetime import datetime\n",
    "import matplotlib.pyplot as plt\n",
    "import seaborn as sns\n",
    "np.random.seed(123)\n",
    "sns.set_style('white')\n",
    "plt.rc('font', family='NanumGothic')\n",
    "plt.rc('axes', unicode_minus=False)"
   ]
  },
  {
   "cell_type": "code",
   "execution_count": 766,
   "id": "a7a8aaa3",
   "metadata": {},
   "outputs": [
    {
     "name": "stdout",
     "output_type": "stream",
     "text": [
      "Index(['SEQ', '접수일', '접수시각', '장기서비스여부', '최초서비스일', '전체회차', '현재회차', '서비스일자',\n",
      "       '서비스시작시간', '서비스종료시간', '기존고객여부', '결재형태', '서비스주소', '주거형태', '평수', '고객가입일',\n",
      "       '반려동물', '부재중여부', '우선청소', '쿠폰사용여부', '매니저생년월일', '매니저최초가입일', '매니저최초서비스일',\n",
      "       '매니저성별', '매니저사용휴대폰', '매니저주소', '매니저이동방법', '근무가능지역', 'CS교육이수여부',\n",
      "       '청소교육이수여부', '부재중서비스가능여부', '추천인여부', '매칭성공여부'],\n",
      "      dtype='object')\n"
     ]
    }
   ],
   "source": [
    "tr = pd.read_csv('data/trainset.csv')\n",
    "te = pd.read_csv('data/testset_final.csv')\n",
    "# tr = pd.read_csv('/kaggle/input/kmu-ml/trainset.csv')\n",
    "# te = pd.read_csv('/kaggle/input/kmu-ml/testset_final.csv')\n",
    "\n",
    "drop_col = ['매니저최초가입일', '매니저최초서비스일', '접수시각']\n",
    "tr.매니저생년월일 = tr.매니저생년월일.str[:4]\n",
    "df = pd.concat([tr,te])\n",
    "print(df.columns)\n",
    "df = df.drop(columns=drop_col)"
   ]
  },
  {
   "cell_type": "code",
   "execution_count": 722,
   "id": "db54a408",
   "metadata": {},
   "outputs": [
    {
     "name": "stdout",
     "output_type": "stream",
     "text": [
      "<class 'pandas.core.frame.DataFrame'>\n",
      "Int64Index: 27253 entries, 0 to 4243\n",
      "Data columns (total 30 columns):\n",
      " #   Column      Non-Null Count  Dtype  \n",
      "---  ------      --------------  -----  \n",
      " 0   SEQ         27253 non-null  object \n",
      " 1   접수일         27253 non-null  object \n",
      " 2   장기서비스여부     27253 non-null  int64  \n",
      " 3   최초서비스일      27253 non-null  object \n",
      " 4   전체회차        27253 non-null  int64  \n",
      " 5   현재회차        27253 non-null  int64  \n",
      " 6   서비스일자       27253 non-null  object \n",
      " 7   서비스시작시간     27253 non-null  object \n",
      " 8   서비스종료시간     27253 non-null  object \n",
      " 9   기존고객여부      27253 non-null  int64  \n",
      " 10  결재형태        27247 non-null  object \n",
      " 11  서비스주소       27253 non-null  object \n",
      " 12  주거형태        27253 non-null  object \n",
      " 13  평수          16802 non-null  object \n",
      " 14  고객가입일       27093 non-null  object \n",
      " 15  반려동물        24102 non-null  object \n",
      " 16  부재중여부       16802 non-null  float64\n",
      " 17  우선청소        13360 non-null  object \n",
      " 18  쿠폰사용여부      27253 non-null  int64  \n",
      " 19  매니저생년월일     27253 non-null  object \n",
      " 20  매니저성별       27253 non-null  int64  \n",
      " 21  매니저사용휴대폰    24024 non-null  object \n",
      " 22  매니저주소       23009 non-null  object \n",
      " 23  매니저이동방법     26931 non-null  object \n",
      " 24  근무가능지역      27253 non-null  object \n",
      " 25  CS교육이수여부    24025 non-null  float64\n",
      " 26  청소교육이수여부    24025 non-null  float64\n",
      " 27  부재중서비스가능여부  27253 non-null  int64  \n",
      " 28  추천인여부       27253 non-null  int64  \n",
      " 29  매칭성공여부      23009 non-null  float64\n",
      "dtypes: float64(4), int64(8), object(18)\n",
      "memory usage: 6.4+ MB\n"
     ]
    }
   ],
   "source": [
    "df.info()"
   ]
  },
  {
   "cell_type": "code",
   "execution_count": 723,
   "id": "435e3ee7",
   "metadata": {},
   "outputs": [],
   "source": [
    "df['접수일'] = pd.to_datetime(df['접수일'])\n",
    "df['최초서비스일'] = pd.to_datetime(df['최초서비스일'])\n",
    "df['서비스일자'] = pd.to_datetime(df['서비스일자'])\n",
    "df['고객가입일'] = pd.to_datetime(df['고객가입일'])\n",
    "df['서비스시작시간'] = pd.to_datetime(df['서비스시작시간'])\n",
    "df['서비스종료시간'] = pd.to_datetime(df['서비스종료시간'])"
   ]
  },
  {
   "cell_type": "code",
   "execution_count": 724,
   "id": "9bae1590",
   "metadata": {},
   "outputs": [
    {
     "name": "stdout",
     "output_type": "stream",
     "text": [
      "<class 'pandas.core.frame.DataFrame'>\n",
      "Int64Index: 27253 entries, 0 to 4243\n",
      "Data columns (total 16 columns):\n",
      " #   Column     Non-Null Count  Dtype  \n",
      "---  ------     --------------  -----  \n",
      " 0   접수년        27253 non-null  int64  \n",
      " 1   접수월        27253 non-null  int64  \n",
      " 2   접수일        27253 non-null  int64  \n",
      " 3   접수분기       27253 non-null  int64  \n",
      " 4   접수요일       27253 non-null  int64  \n",
      " 5   최초서비스차이    27253 non-null  int64  \n",
      " 6   서비스년       27253 non-null  int64  \n",
      " 7   서비스월       27253 non-null  int64  \n",
      " 8   서비스일       27253 non-null  int64  \n",
      " 9   서비스분기      27253 non-null  int64  \n",
      " 10  서비스요일      27253 non-null  int64  \n",
      " 11  접수일서비스일차이  27253 non-null  int64  \n",
      " 12  가입일수       27253 non-null  float64\n",
      " 13  서비스시작시간    27253 non-null  int64  \n",
      " 14  서비스종료시간    27253 non-null  int64  \n",
      " 15  서비스시간      27253 non-null  int64  \n",
      "dtypes: float64(1), int64(15)\n",
      "memory usage: 3.5 MB\n"
     ]
    }
   ],
   "source": [
    "my_dict = {}\n",
    "my_dict['접수년'] = df['접수일'].dt.year\n",
    "my_dict['접수월'] = df['접수일'].dt.month\n",
    "my_dict['접수일'] = df['접수일'].dt.day\n",
    "my_dict['접수분기'] = df['접수일'].dt.quarter\n",
    "my_dict['접수요일'] = df['접수일'].dt.weekday\n",
    "my_dict['최초서비스차이'] = (df['최초서비스일']-df['접수일']).dt.days\n",
    "my_dict['서비스년'] = df['서비스일자'].dt.year\n",
    "my_dict['서비스월'] = df['서비스일자'].dt.month\n",
    "my_dict['서비스일'] = df['서비스일자'].dt.day\n",
    "my_dict['서비스분기'] = df['서비스일자'].dt.quarter\n",
    "my_dict['서비스요일'] = df['서비스일자'].dt.weekday\n",
    "my_dict['접수일서비스일차이'] = (df['서비스일자']-df['접수일']).dt.days\n",
    "my_dict['가입일수'] = (datetime.today() - pd.to_datetime(df['고객가입일'])).dt.days.fillna(0)\n",
    "my_dict['서비스시작시간'] = df['서비스시작시간'].dt.hour\n",
    "my_dict['서비스종료시간'] = df['서비스종료시간'].dt.hour\n",
    "my_dict['서비스시간'] = (my_dict['서비스종료시간'] - my_dict['서비스시작시간'])\n",
    "my_dict = pd.DataFrame(my_dict)\n",
    "my_dict.info()"
   ]
  },
  {
   "cell_type": "code",
   "execution_count": 725,
   "id": "b5aca10f",
   "metadata": {},
   "outputs": [
    {
     "name": "stdout",
     "output_type": "stream",
     "text": [
      "<class 'pandas.core.frame.DataFrame'>\n",
      "Int64Index: 27253 entries, 0 to 4243\n",
      "Data columns (total 12 columns):\n",
      " #   Column    Non-Null Count  Dtype \n",
      "---  ------    --------------  ----- \n",
      " 0   SEQ       27253 non-null  object\n",
      " 1   결재형태      27247 non-null  object\n",
      " 2   서비스주소     27253 non-null  object\n",
      " 3   주거형태      27253 non-null  object\n",
      " 4   평수        16802 non-null  object\n",
      " 5   반려동물      24102 non-null  object\n",
      " 6   우선청소      13360 non-null  object\n",
      " 7   매니저생년월일   27253 non-null  object\n",
      " 8   매니저사용휴대폰  24024 non-null  object\n",
      " 9   매니저주소     23009 non-null  object\n",
      " 10  매니저이동방법   26931 non-null  object\n",
      " 11  근무가능지역    27253 non-null  object\n",
      "dtypes: object(12)\n",
      "memory usage: 2.7+ MB\n"
     ]
    }
   ],
   "source": [
    "#범주형 데이터\n",
    "df_cat = df.select_dtypes(['object'])\n",
    "df_cat.info()"
   ]
  },
  {
   "cell_type": "code",
   "execution_count": 726,
   "id": "a60d4fa9",
   "metadata": {},
   "outputs": [
    {
     "data": {
      "text/plain": [
       "결재형태         4\n",
       "서비스주소       49\n",
       "주거형태         2\n",
       "평수           4\n",
       "반려동물         7\n",
       "우선청소         5\n",
       "매니저생년월일     70\n",
       "매니저사용휴대폰     3\n",
       "매니저주소       36\n",
       "매니저이동방법      2\n",
       "근무가능지역       8\n",
       "dtype: int64"
      ]
     },
     "execution_count": 726,
     "metadata": {},
     "output_type": "execute_result"
    }
   ],
   "source": [
    "col = ['SEQ']\n",
    "df_cat = df_cat.drop(columns=col)\n",
    "df_cat.nunique()"
   ]
  },
  {
   "cell_type": "code",
   "execution_count": 727,
   "id": "485cea2b",
   "metadata": {},
   "outputs": [
    {
     "data": {
      "image/png": "[encoded data removed]",
      "text/plain": [
       "<Figure size 640x480 with 1 Axes>"
      ]
     },
     "metadata": {},
     "output_type": "display_data"
    }
   ],
   "source": [
    "sns.barplot(x=df_cat.columns, y=df_cat.isnull().sum())\n",
    "plt.xticks(rotation=90);"
   ]
  },
  {
   "cell_type": "code",
   "execution_count": 728,
   "id": "1682d6d2",
   "metadata": {},
   "outputs": [
    {
     "data": {
      "text/plain": [
       "결재형태        0\n",
       "서비스주소       0\n",
       "주거형태        0\n",
       "평수          0\n",
       "반려동물        0\n",
       "우선청소        0\n",
       "매니저생년월일     0\n",
       "매니저사용휴대폰    0\n",
       "매니저주소       0\n",
       "매니저이동방법     0\n",
       "근무가능지역      0\n",
       "dtype: int64"
      ]
     },
     "execution_count": 728,
     "metadata": {},
     "output_type": "execute_result"
    }
   ],
   "source": [
    "#범주형 결측치 others\n",
    "df_cat = df_cat.fillna('OTHERS')\n",
    "df_cat.isnull().sum()"
   ]
  },
  {
   "cell_type": "code",
   "execution_count": 729,
   "id": "aa762774",
   "metadata": {},
   "outputs": [
    {
     "data": {
      "text/plain": [
       "['결재형태', '주거형태', '평수', '반려동물', '우선청소', '매니저사용휴대폰', '매니저이동방법', '근무가능지역']"
      ]
     },
     "execution_count": 729,
     "metadata": {},
     "output_type": "execute_result"
    }
   ],
   "source": [
    "graph_cols = list(df_cat.columns[(df_cat.nunique()<20).values])\n",
    "graph_cols"
   ]
  },
  {
   "cell_type": "code",
   "execution_count": 730,
   "id": "186374b7",
   "metadata": {},
   "outputs": [
    {
     "data": {
      "image/png": "[encoded data removed]",
      "text/plain": [
       "<Figure size 2000x3000 with 8 Axes>"
      ]
     },
     "metadata": {},
     "output_type": "display_data"
    }
   ],
   "source": [
    "fig, ax = plt.subplots(nrows=len(graph_cols), ncols=1, figsize=(20,30))\n",
    "for i, a in zip(graph_cols, ax):\n",
    "    sns.countplot(x=i, data=df_cat, hue=df['매칭성공여부'], ax=a)"
   ]
  },
  {
   "cell_type": "code",
   "execution_count": 731,
   "id": "d79f430a",
   "metadata": {},
   "outputs": [],
   "source": [
    "# - 기본 원-핫\n",
    "# - 10개 이상 바이너리 encoding\n",
    "# - 너무 많으면 mean encoding\n",
    "\n",
    "# 결재형태         4\n",
    "# 서비스주소       49 : mean\n",
    "# 주거형태         2\n",
    "# 평수           4\n",
    "# 반려동물         7\n",
    "# 우선청소         5\n",
    "# 매니저생년월일     70 : mean\n",
    "# 매니저사용휴대폰     3\n",
    "# 매니저이동방법      2\n",
    "# 근무가능지역       8\n",
    "#===================================="
   ]
  },
  {
   "cell_type": "code",
   "execution_count": 732,
   "id": "77bc842d",
   "metadata": {},
   "outputs": [
    {
     "data": {
      "text/plain": [
       "array(['무통장입금', '신용카드', '가상계좌', '미수', 'OTHERS'], dtype=object)"
      ]
     },
     "execution_count": 732,
     "metadata": {},
     "output_type": "execute_result"
    }
   ],
   "source": [
    "df_cat['결재형태'].unique()"
   ]
  },
  {
   "cell_type": "code",
   "execution_count": 733,
   "id": "7a3f9ec3",
   "metadata": {},
   "outputs": [],
   "source": [
    "my_dict['신용카드'] = (df_cat['결재형태'] == '신용카드').astype('int')\n",
    "my_dict['무통장입금']  = (df_cat['결재형태'] == '무통장입금').astype('int')\n",
    "my_dict['가상계좌']  = (df_cat['결재형태'] == '가상계좌').astype('int')\n",
    "my_dict['미수']  = (df_cat['결재형태'] == '미수').astype('int')\n",
    "my_dict['미수']  = (df_cat['결재형태'] == 'OTHERS').astype('int')"
   ]
  },
  {
   "cell_type": "code",
   "execution_count": 734,
   "id": "89e48afc",
   "metadata": {},
   "outputs": [
    {
     "data": {
      "text/plain": [
       "array(['충남 천안시', '서울 강서구', '충남 아산시', '강원 원주시', '광주 북구', '서울 은평구',\n",
       "       '서울 용산구', '서울 강동구', '서울 강남구', '경기 평택시', '강원 춘천시', '경기 성남시',\n",
       "       '서울 영등포구', '서울 금천구', '광주 남구', '서울 동작구', '부산 강서구', '광주 광산구',\n",
       "       '광주 서구', '서울 동대문구', '서울 관악구', '경기 의정부시', '서울 성동구', '부산 연제구',\n",
       "       '서울 중구', '서울 성북구', '서울 서초구', '경기 안성시', '서울 강북구', '경남 창원시',\n",
       "       '서울 마포구', '부산 해운대구', '광주 동구', '부산 사하구', '서울 서대문구', '서울 종로구',\n",
       "       '서울 도봉구', '부산 동래구', '서울 노원구', '부산 동구', '서울 중랑구', '서울 구로구', '부산 북구',\n",
       "       '경기 화성시', '서울 광진구', '서울 송파구', '부산 부산진구', '부산 금정구', '부산 사상구'],\n",
       "      dtype=object)"
      ]
     },
     "execution_count": 734,
     "metadata": {},
     "output_type": "execute_result"
    }
   ],
   "source": [
    "df_cat['서비스주소'].unique()"
   ]
  },
  {
   "cell_type": "code",
   "execution_count": 735,
   "id": "cade389e",
   "metadata": {},
   "outputs": [
    {
     "name": "stdout",
     "output_type": "stream",
     "text": [
      "<class 'pandas.core.frame.DataFrame'>\n",
      "Int64Index: 27253 entries, 0 to 4243\n",
      "Data columns (total 11 columns):\n",
      " #   Column    Non-Null Count  Dtype \n",
      "---  ------    --------------  ----- \n",
      " 0   결재형태      27253 non-null  object\n",
      " 1   서비스주소     27253 non-null  object\n",
      " 2   주거형태      27253 non-null  object\n",
      " 3   평수        27253 non-null  object\n",
      " 4   반려동물      27253 non-null  object\n",
      " 5   우선청소      27253 non-null  object\n",
      " 6   매니저생년월일   27253 non-null  object\n",
      " 7   매니저사용휴대폰  27253 non-null  object\n",
      " 8   매니저주소     27253 non-null  object\n",
      " 9   매니저이동방법   27253 non-null  object\n",
      " 10  근무가능지역    27253 non-null  object\n",
      "dtypes: object(11)\n",
      "memory usage: 2.5+ MB\n"
     ]
    }
   ],
   "source": [
    "df_cat.info()"
   ]
  },
  {
   "cell_type": "code",
   "execution_count": 736,
   "id": "036e9305",
   "metadata": {},
   "outputs": [
    {
     "name": "stdout",
     "output_type": "stream",
     "text": [
      "<class 'pandas.core.frame.DataFrame'>\n",
      "Int64Index: 27253 entries, 0 to 4243\n",
      "Data columns (total 12 columns):\n",
      " #   Column    Non-Null Count  Dtype  \n",
      "---  ------    --------------  -----  \n",
      " 0   결재형태      27253 non-null  object \n",
      " 1   서비스주소     27253 non-null  object \n",
      " 2   주거형태      27253 non-null  object \n",
      " 3   평수        27253 non-null  object \n",
      " 4   반려동물      27253 non-null  object \n",
      " 5   우선청소      27253 non-null  object \n",
      " 6   매니저생년월일   27253 non-null  object \n",
      " 7   매니저사용휴대폰  27253 non-null  object \n",
      " 8   매니저주소     27253 non-null  object \n",
      " 9   매니저이동방법   27253 non-null  object \n",
      " 10  근무가능지역    27253 non-null  object \n",
      " 11  매칭성공여부    23009 non-null  float64\n",
      "dtypes: float64(1), object(11)\n",
      "memory usage: 2.7+ MB\n"
     ]
    }
   ],
   "source": [
    "df_cat['매칭성공여부'] = df['매칭성공여부']\n",
    "df_cat.info()"
   ]
  },
  {
   "cell_type": "code",
   "execution_count": 737,
   "id": "6c004c61",
   "metadata": {},
   "outputs": [],
   "source": [
    "my_dict['충남'] = (df_cat['서비스주소'].str.split(expand=True)[0] == '충남').astype('int')\n",
    "my_dict['서울'] = (df_cat['서비스주소'].str.split(expand=True)[0] == '서울').astype('int')\n",
    "my_dict['강원'] = (df_cat['서비스주소'].str.split(expand=True)[0] == '강원').astype('int')\n",
    "my_dict['부산'] = (df_cat['서비스주소'].str.split(expand=True)[0] == '부산').astype('int')\n",
    "my_dict['광주'] = (df_cat['서비스주소'].str.split(expand=True)[0] == '광주').astype('int')\n",
    "my_dict['경기'] = (df_cat['서비스주소'].str.split(expand=True)[0] == '경기').astype('int')\n",
    "my_dict['경남'] = (df_cat['서비스주소'].str.split(expand=True)[0] == '경남').astype('int')\n",
    "#my_dict['서비스주소'] = df_cat['서비스주소'].map(df_cat.groupby('서비스주소')['매칭성공여부'].mean())\n",
    "\n",
    "n_size = df_cat.groupby('서비스주소').size()\n",
    "global_mean = df.매칭성공여부.mean()\n",
    "alpha = 0.9 # alpha값이 크면 클수록 smooth -> 평균에 가깝게\n",
    "\n",
    "def smoothing(n_rows, target_mean):\n",
    "    return (target_mean*n_rows + global_mean*alpha) / (n_rows + alpha)\n",
    "\n",
    "my_dict['서비스주소'] = df_cat['서비스주소'].map(df_cat.apply(lambda x: smoothing(n_size, df_cat.groupby('서비스주소')['매칭성공여부'].mean()))['서비스주소'])"
   ]
  },
  {
   "cell_type": "code",
   "execution_count": 738,
   "id": "d9faab37",
   "metadata": {},
   "outputs": [],
   "source": [
    "#주거형태\n",
    "df_cat['주거형태'].unique()\n",
    "\n",
    "my_dict['일반주택'] = (df_cat['주거형태']=='일반주택').astype('int')\n",
    "my_dict['오피스텔/원룸'] = (df_cat['주거형태']=='오피스텔/원룸').astype('int')"
   ]
  },
  {
   "cell_type": "code",
   "execution_count": 739,
   "id": "3128eed2",
   "metadata": {},
   "outputs": [],
   "source": [
    "#평수\n",
    "df_cat['평수'].unique()\n",
    "df_cat.loc[(df_cat['평수']=='OTHERS'),'평수'] = 5\n",
    "df_cat.loc[(df_cat['평수']=='40평대이상'),'평수'] = 4\n",
    "df_cat.loc[(df_cat['평수']=='30평대'),'평수'] = 3\n",
    "df_cat.loc[(df_cat['평수']=='20평대'),'평수'] = 2\n",
    "df_cat.loc[(df_cat['평수']=='10평대'),'평수'] = 1\n",
    "\n",
    "my_dict['평수'] = df_cat['평수'].astype('int')"
   ]
  },
  {
   "cell_type": "code",
   "execution_count": 740,
   "id": "e7bb4184",
   "metadata": {},
   "outputs": [],
   "source": [
    "#반려동물\n",
    "df_cat['반려동물'].unique()\n",
    "my_dict['반려동물없음'] = (df['반려동물']=='없음').astype('int')\n",
    "my_dict['반려동물개'] = (df['반려동물']=='개').astype('int')\n",
    "my_dict['반려동물고양이'] =(df['반려동물']=='고양이').astype('int')\n",
    "my_dict['반려동물기타'] =(df['반려동물']=='기타').astype('int')\n",
    "my_dict['반려동물미응답'] = (df['반려동물'].isnull()).astype('int')"
   ]
  },
  {
   "cell_type": "code",
   "execution_count": 741,
   "id": "16182b72",
   "metadata": {},
   "outputs": [],
   "source": [
    "#우선청소\n",
    "df_cat['우선청소'].unique()\n",
    "my_dict['화장실'] = (df_cat['우선청소']=='화장실').astype('int')\n",
    "my_dict['방'] = (df_cat['우선청소']=='방').astype('int')\n",
    "my_dict['거실'] = (df_cat['우선청소']=='거실').astype('int')\n",
    "my_dict['주방'] = (df_cat['우선청소']=='주방').astype('int')\n",
    "my_dict['베란다'] = (df_cat['우선청소']=='베란다').astype('int')\n",
    "my_dict['이외장소'] = (df_cat['우선청소']=='OTHERS').astype('int') "
   ]
  },
  {
   "cell_type": "code",
   "execution_count": 742,
   "id": "fe3fe562",
   "metadata": {},
   "outputs": [
    {
     "name": "stdout",
     "output_type": "stream",
     "text": [
      "<class 'pandas.core.frame.DataFrame'>\n",
      "Int64Index: 27253 entries, 0 to 4243\n",
      "Data columns (total 12 columns):\n",
      " #   Column    Non-Null Count  Dtype  \n",
      "---  ------    --------------  -----  \n",
      " 0   결재형태      27253 non-null  object \n",
      " 1   서비스주소     27253 non-null  object \n",
      " 2   주거형태      27253 non-null  object \n",
      " 3   평수        27253 non-null  object \n",
      " 4   반려동물      27253 non-null  object \n",
      " 5   우선청소      27253 non-null  object \n",
      " 6   매니저생년월일   27253 non-null  object \n",
      " 7   매니저사용휴대폰  27253 non-null  object \n",
      " 8   매니저주소     27253 non-null  object \n",
      " 9   매니저이동방법   27253 non-null  object \n",
      " 10  근무가능지역    27253 non-null  object \n",
      " 11  매칭성공여부    23009 non-null  float64\n",
      "dtypes: float64(1), object(11)\n",
      "memory usage: 2.7+ MB\n"
     ]
    }
   ],
   "source": [
    "df_cat.info()"
   ]
  },
  {
   "cell_type": "code",
   "execution_count": 743,
   "id": "7db79db5",
   "metadata": {},
   "outputs": [
    {
     "name": "stderr",
     "output_type": "stream",
     "text": [
      "/tmp/ipykernel_10725/2301520415.py:2: FutureWarning: The pandas.datetime class is deprecated and will be removed from pandas in a future version. Import from datetime module instead.\n",
      "  my_dict['매니저나이'] = (int(pd.datetime.now().year) - df_cat['매니저생년월일'].astype('int'))\n"
     ]
    }
   ],
   "source": [
    "#int(pd.datetime.now().year)\n",
    "my_dict['매니저나이'] = (int(pd.datetime.now().year) - df_cat['매니저생년월일'].astype('int'))\n",
    "my_dict['매니저연령대'] = (my_dict['매니저나이']/10).astype('int')\n",
    "#my_dict['매니저나이'].unique()"
   ]
  },
  {
   "cell_type": "code",
   "execution_count": 744,
   "id": "419cb1c0",
   "metadata": {},
   "outputs": [],
   "source": [
    "my_dict['안드로이드'] = (df_cat['매니저사용휴대폰']=='안드로이드').astype('int')\n",
    "my_dict['ios'] = (df_cat['매니저사용휴대폰']=='ios').astype('int')\n",
    "my_dict['기타'] = (df_cat['매니저사용휴대폰']=='기타').astype('int')\n",
    "my_dict['휴대폰미등록'] = (df_cat['매니저사용휴대폰']=='OTHERS').astype('int')"
   ]
  },
  {
   "cell_type": "code",
   "execution_count": 745,
   "id": "ec6b8750",
   "metadata": {},
   "outputs": [
    {
     "name": "stdout",
     "output_type": "stream",
     "text": [
      "<class 'pandas.core.frame.DataFrame'>\n",
      "Int64Index: 27253 entries, 0 to 4243\n",
      "Data columns (total 48 columns):\n",
      " #   Column     Non-Null Count  Dtype  \n",
      "---  ------     --------------  -----  \n",
      " 0   접수년        27253 non-null  int64  \n",
      " 1   접수월        27253 non-null  int64  \n",
      " 2   접수일        27253 non-null  int64  \n",
      " 3   접수분기       27253 non-null  int64  \n",
      " 4   접수요일       27253 non-null  int64  \n",
      " 5   최초서비스차이    27253 non-null  int64  \n",
      " 6   서비스년       27253 non-null  int64  \n",
      " 7   서비스월       27253 non-null  int64  \n",
      " 8   서비스일       27253 non-null  int64  \n",
      " 9   서비스분기      27253 non-null  int64  \n",
      " 10  서비스요일      27253 non-null  int64  \n",
      " 11  접수일서비스일차이  27253 non-null  int64  \n",
      " 12  가입일수       27253 non-null  float64\n",
      " 13  서비스시작시간    27253 non-null  int64  \n",
      " 14  서비스종료시간    27253 non-null  int64  \n",
      " 15  서비스시간      27253 non-null  int64  \n",
      " 16  신용카드       27253 non-null  int64  \n",
      " 17  무통장입금      27253 non-null  int64  \n",
      " 18  가상계좌       27253 non-null  int64  \n",
      " 19  미수         27253 non-null  int64  \n",
      " 20  충남         27253 non-null  int64  \n",
      " 21  서울         27253 non-null  int64  \n",
      " 22  강원         27253 non-null  int64  \n",
      " 23  부산         27253 non-null  int64  \n",
      " 24  광주         27253 non-null  int64  \n",
      " 25  경기         27253 non-null  int64  \n",
      " 26  경남         27253 non-null  int64  \n",
      " 27  서비스주소      27243 non-null  float64\n",
      " 28  일반주택       27253 non-null  int64  \n",
      " 29  오피스텔/원룸    27253 non-null  int64  \n",
      " 30  평수         27253 non-null  int64  \n",
      " 31  반려동물없음     27253 non-null  int64  \n",
      " 32  반려동물개      27253 non-null  int64  \n",
      " 33  반려동물고양이    27253 non-null  int64  \n",
      " 34  반려동물기타     27253 non-null  int64  \n",
      " 35  반려동물미응답    27253 non-null  int64  \n",
      " 36  화장실        27253 non-null  int64  \n",
      " 37  방          27253 non-null  int64  \n",
      " 38  거실         27253 non-null  int64  \n",
      " 39  주방         27253 non-null  int64  \n",
      " 40  베란다        27253 non-null  int64  \n",
      " 41  이외장소       27253 non-null  int64  \n",
      " 42  매니저나이      27253 non-null  int64  \n",
      " 43  매니저연령대     27253 non-null  int64  \n",
      " 44  안드로이드      27253 non-null  int64  \n",
      " 45  ios        27253 non-null  int64  \n",
      " 46  기타         27253 non-null  int64  \n",
      " 47  휴대폰미등록     27253 non-null  int64  \n",
      "dtypes: float64(2), int64(46)\n",
      "memory usage: 10.2 MB\n"
     ]
    }
   ],
   "source": [
    "my_dict.info()"
   ]
  },
  {
   "cell_type": "code",
   "execution_count": 746,
   "id": "92b9495a",
   "metadata": {},
   "outputs": [],
   "source": [
    "my_dict['매니저자차'] = (df_cat['매니저이동방법']=='자차').astype('int')\n",
    "my_dict['매니저대중교통'] = (df_cat['매니저이동방법']=='대중교통').astype('int')\n",
    "my_dict['매니저그외교통'] = (df_cat['매니저이동방법']=='OTHERS').astype('int')"
   ]
  },
  {
   "cell_type": "code",
   "execution_count": 747,
   "id": "21e2c2e5",
   "metadata": {},
   "outputs": [
    {
     "data": {
      "text/plain": [
       "array(['충남 천안시', '서울 강서구', '충남 아산시', '강원 원주시', '광주 북구', '서울 은평구',\n",
       "       '서울 용산구', '서울 강동구', '서울 강남구', '경기 평택시', '강원 춘천시', '경기 성남시',\n",
       "       '서울 영등포구', '서울 금천구', '광주 남구', '서울 동작구', '부산 강서구', '광주 광산구',\n",
       "       '광주 서구', '서울 동대문구', '서울 관악구', '경기 의정부시', '서울 성동구', '부산 연제구',\n",
       "       '서울 중구', '서울 성북구', '서울 서초구', '경기 안성시', '서울 강북구', '경남 창원시',\n",
       "       '서울 마포구', '부산 해운대구', '광주 동구', '부산 사하구', '서울 서대문구', '서울 종로구',\n",
       "       '서울 도봉구', '부산 동래구', '서울 노원구', '부산 동구', '서울 중랑구', '서울 구로구', '부산 북구',\n",
       "       '경기 화성시', '서울 광진구', '서울 송파구', '부산 부산진구', '부산 금정구', '부산 사상구'],\n",
       "      dtype=object)"
      ]
     },
     "execution_count": 747,
     "metadata": {},
     "output_type": "execute_result"
    }
   ],
   "source": [
    "df_cat['서비스주소'].unique()"
   ]
  },
  {
   "cell_type": "code",
   "execution_count": 748,
   "id": "04782f20",
   "metadata": {},
   "outputs": [
    {
     "data": {
      "text/plain": [
       "array(['서울 양천구', '충남 천안시', '서울 서대문구', '강원 원주시', '충남 아산시', '서울 마포구',\n",
       "       '서울 영등포구', '서울 송파구', '서울 동작구', '경기 평택시', '서울 관악구', '충남 세종시',\n",
       "       '강원 춘천시', '서울 중랑구', '광주 동구', '경기 화성시', '서울 노원구', '부산 해운대구',\n",
       "       '서울 종로구', '서울 강남구', '부산 남구', '서울 서초구', '경기 수원시', '부산 부산진구',\n",
       "       '광주 남구', '부산 사상구', '부산 수영구', '서울 강북구', '광주 서구', '서울 성동구', '서울 금천구',\n",
       "       '서울 강동구', '인천 남동구', '서울 구로구', '경남 창원시', '서울 은평구', 'OTHERS'],\n",
       "      dtype=object)"
      ]
     },
     "execution_count": 748,
     "metadata": {},
     "output_type": "execute_result"
    }
   ],
   "source": [
    "df_cat['매니저주소'].unique()"
   ]
  },
  {
   "cell_type": "code",
   "execution_count": 749,
   "id": "861c376b",
   "metadata": {},
   "outputs": [],
   "source": [
    "my_dict['m충남'] = (df_cat['매니저주소'].str.split(expand=True)[0] == '충남').astype('int')\n",
    "my_dict['m서울'] = (df_cat['매니저주소'].str.split(expand=True)[0] == '서울').astype('int')\n",
    "my_dict['m강원'] = (df_cat['매니저주소'].str.split(expand=True)[0] == '강원').astype('int')\n",
    "my_dict['m광주'] = (df_cat['매니저주소'].str.split(expand=True)[0] == '광주').astype('int')\n",
    "my_dict['m부산'] = (df_cat['매니저주소'].str.split(expand=True)[0] == '부산').astype('int')\n",
    "my_dict['m경기'] = (df_cat['매니저주소'].str.split(expand=True)[0] == '경기').astype('int')\n",
    "my_dict['m경남'] = (df_cat['매니저주소'].str.split(expand=True)[0] == '경남').astype('int')\n",
    "my_dict['m인천'] = (df_cat['매니저주소'].str.split(expand=True)[0] == '인천').astype('int')\n",
    "\n",
    "my_dict['w천안'] = (df_cat['근무가능지역'].str.split(expand=True)[0] == '천안/아산').astype('int')\n",
    "my_dict['w기타'] = (df_cat['근무가능지역'].str.split(expand=True)[0] == '기타').astype('int')\n",
    "my_dict['w서울'] = (df_cat['근무가능지역'].str.split(expand=True)[0] == '서울').astype('int')\n",
    "my_dict['w원주'] = (df_cat['근무가능지역'].str.split(expand=True)[0] == '원주/춘천').astype('int')\n",
    "my_dict['w부산'] = (df_cat['근무가능지역'].str.split(expand=True)[0] == '부산').astype('int')\n",
    "my_dict['w광주'] = (df_cat['근무가능지역'].str.split(expand=True)[0] == '광주').astype('int')\n",
    "my_dict['w수도권'] = (df_cat['근무가능지역'].str.split(expand=True)[0] == '수도권').astype('int')\n",
    "my_dict['w평택'] = (df_cat['근무가능지역'].str.split(expand=True)[0] == '평택').astype('int')"
   ]
  },
  {
   "cell_type": "code",
   "execution_count": 750,
   "id": "117f04ec",
   "metadata": {},
   "outputs": [
    {
     "name": "stdout",
     "output_type": "stream",
     "text": [
      "<class 'pandas.core.frame.DataFrame'>\n",
      "Int64Index: 27253 entries, 0 to 4243\n",
      "Data columns (total 30 columns):\n",
      " #   Column      Non-Null Count  Dtype         \n",
      "---  ------      --------------  -----         \n",
      " 0   SEQ         27253 non-null  object        \n",
      " 1   접수일         27253 non-null  datetime64[ns]\n",
      " 2   장기서비스여부     27253 non-null  int64         \n",
      " 3   최초서비스일      27253 non-null  datetime64[ns]\n",
      " 4   전체회차        27253 non-null  int64         \n",
      " 5   현재회차        27253 non-null  int64         \n",
      " 6   서비스일자       27253 non-null  datetime64[ns]\n",
      " 7   서비스시작시간     27253 non-null  datetime64[ns]\n",
      " 8   서비스종료시간     27253 non-null  datetime64[ns]\n",
      " 9   기존고객여부      27253 non-null  int64         \n",
      " 10  결재형태        27247 non-null  object        \n",
      " 11  서비스주소       27253 non-null  object        \n",
      " 12  주거형태        27253 non-null  object        \n",
      " 13  평수          16802 non-null  object        \n",
      " 14  고객가입일       27093 non-null  datetime64[ns]\n",
      " 15  반려동물        24102 non-null  object        \n",
      " 16  부재중여부       16802 non-null  float64       \n",
      " 17  우선청소        13360 non-null  object        \n",
      " 18  쿠폰사용여부      27253 non-null  int64         \n",
      " 19  매니저생년월일     27253 non-null  object        \n",
      " 20  매니저성별       27253 non-null  int64         \n",
      " 21  매니저사용휴대폰    24024 non-null  object        \n",
      " 22  매니저주소       23009 non-null  object        \n",
      " 23  매니저이동방법     26931 non-null  object        \n",
      " 24  근무가능지역      27253 non-null  object        \n",
      " 25  CS교육이수여부    24025 non-null  float64       \n",
      " 26  청소교육이수여부    24025 non-null  float64       \n",
      " 27  부재중서비스가능여부  27253 non-null  int64         \n",
      " 28  추천인여부       27253 non-null  int64         \n",
      " 29  매칭성공여부      23009 non-null  float64       \n",
      "dtypes: datetime64[ns](6), float64(4), int64(8), object(12)\n",
      "memory usage: 6.4+ MB\n"
     ]
    }
   ],
   "source": [
    "#수치형변수\n",
    "df.info()"
   ]
  },
  {
   "cell_type": "code",
   "execution_count": 751,
   "id": "6e108ab2",
   "metadata": {},
   "outputs": [
    {
     "name": "stdout",
     "output_type": "stream",
     "text": [
      "<class 'pandas.core.frame.DataFrame'>\n",
      "Int64Index: 27253 entries, 0 to 4243\n",
      "Data columns (total 12 columns):\n",
      " #   Column      Non-Null Count  Dtype  \n",
      "---  ------      --------------  -----  \n",
      " 0   장기서비스여부     27253 non-null  int64  \n",
      " 1   전체회차        27253 non-null  int64  \n",
      " 2   현재회차        27253 non-null  int64  \n",
      " 3   기존고객여부      27253 non-null  int64  \n",
      " 4   부재중여부       16802 non-null  float64\n",
      " 5   쿠폰사용여부      27253 non-null  int64  \n",
      " 6   매니저성별       27253 non-null  int64  \n",
      " 7   CS교육이수여부    24025 non-null  float64\n",
      " 8   청소교육이수여부    24025 non-null  float64\n",
      " 9   부재중서비스가능여부  27253 non-null  int64  \n",
      " 10  추천인여부       27253 non-null  int64  \n",
      " 11  매칭성공여부      23009 non-null  float64\n",
      "dtypes: float64(4), int64(8)\n",
      "memory usage: 2.7 MB\n"
     ]
    }
   ],
   "source": [
    "df_num = df.select_dtypes(['float64', 'int64'])\n",
    "df_num.info()"
   ]
  },
  {
   "cell_type": "code",
   "execution_count": 752,
   "id": "0bce6c4a",
   "metadata": {},
   "outputs": [
    {
     "data": {
      "text/plain": [
       "0.0    19372\n",
       "1.0     4653\n",
       "Name: CS교육이수여부, dtype: int64"
      ]
     },
     "execution_count": 752,
     "metadata": {},
     "output_type": "execute_result"
    }
   ],
   "source": [
    "df_num['CS교육이수여부'].value_counts()"
   ]
  },
  {
   "cell_type": "code",
   "execution_count": 753,
   "id": "39e492c4",
   "metadata": {},
   "outputs": [],
   "source": [
    "#결측치 처리\n",
    "#df_num['부재중여부'] = df_num['부재중여부'].fillna(-1) 너무 많아서 사용안함\n",
    "df_num['CS교육이수여부'] = df_num['CS교육이수여부'].fillna(-1)\n",
    "df_num['청소교육이수여부'] = df_num['청소교육이수여부'].fillna(-1)"
   ]
  },
  {
   "cell_type": "code",
   "execution_count": 754,
   "id": "0ba0ac4d",
   "metadata": {},
   "outputs": [
    {
     "name": "stdout",
     "output_type": "stream",
     "text": [
      "<class 'pandas.core.frame.DataFrame'>\n",
      "Int64Index: 27253 entries, 0 to 4243\n",
      "Data columns (total 12 columns):\n",
      " #   Column      Non-Null Count  Dtype  \n",
      "---  ------      --------------  -----  \n",
      " 0   장기서비스여부     27253 non-null  int64  \n",
      " 1   전체회차        27253 non-null  int64  \n",
      " 2   현재회차        27253 non-null  int64  \n",
      " 3   기존고객여부      27253 non-null  int64  \n",
      " 4   부재중여부       16802 non-null  float64\n",
      " 5   쿠폰사용여부      27253 non-null  int64  \n",
      " 6   매니저성별       27253 non-null  int64  \n",
      " 7   CS교육이수여부    27253 non-null  float64\n",
      " 8   청소교육이수여부    27253 non-null  float64\n",
      " 9   부재중서비스가능여부  27253 non-null  int64  \n",
      " 10  추천인여부       27253 non-null  int64  \n",
      " 11  매칭성공여부      23009 non-null  float64\n",
      "dtypes: float64(4), int64(8)\n",
      "memory usage: 2.7 MB\n"
     ]
    }
   ],
   "source": [
    "df_num.info()"
   ]
  },
  {
   "cell_type": "code",
   "execution_count": 755,
   "id": "8fb8c999",
   "metadata": {},
   "outputs": [],
   "source": [
    "# IQR = my_df.현재평균이상상태소매가격.quantile(0.75) - my_df.현재평균이상상태소매가격.quantile(0.25)\n",
    "# u_w = my_df.현재평균이상상태소매가격.quantile(0.75) + (1.5*IQR) ##upper wisker\n",
    "# l_w = my_df.현재평균이상상태소매가격.quantile(0.25) - (1.5*IQR)\n",
    "# my_df.현재평균이상상태소매가격 = my_df.현재평균이상상태소매가격.clip(upper=u_w, lower=l_w) ## 큰 값을 upper wisker값으로 처리됨\n",
    "\n",
    "my_dict['SEQ'] = df['SEQ']\n",
    "my_dict['장기서비스여부'] = df_num['장기서비스여부']\n",
    "my_dict['회차'] = df_num['현재회차']/df_num['전체회차']\n",
    "my_dict['기존고객여부'] = df_num['기존고객여부']\n",
    "#my_dict['부재중여부'] = df['부재중여부'].fillna(0).astype('int')\n",
    "my_dict['부재중미응답'] = (df_num['부재중여부'].isnull()).astype('int')\n",
    "my_dict['쿠폰사용여부'] = df_num['쿠폰사용여부']\n",
    "my_dict['매니저성별'] = df_num['매니저성별']\n",
    "my_dict['CS교육이수여부'] = df_num['CS교육이수여부'].astype('int')\n",
    "my_dict['청소교육이수여부'] = df_num['청소교육이수여부'].astype('int')\n",
    "my_dict['부재중서비스가능여부'] = df_num['부재중서비스가능여부'].astype('int')\n",
    "my_dict['추천인여부'] = df_num['추천인여부']\n",
    "my_dict['매칭성공여부'] = df_num['매칭성공여부']"
   ]
  },
  {
   "cell_type": "code",
   "execution_count": 756,
   "id": "cc91cad1",
   "metadata": {},
   "outputs": [
    {
     "name": "stdout",
     "output_type": "stream",
     "text": [
      "<class 'pandas.core.frame.DataFrame'>\n",
      "Int64Index: 27253 entries, 0 to 4243\n",
      "Data columns (total 79 columns):\n",
      " #   Column      Non-Null Count  Dtype  \n",
      "---  ------      --------------  -----  \n",
      " 0   접수년         27253 non-null  int64  \n",
      " 1   접수월         27253 non-null  int64  \n",
      " 2   접수일         27253 non-null  int64  \n",
      " 3   접수분기        27253 non-null  int64  \n",
      " 4   접수요일        27253 non-null  int64  \n",
      " 5   최초서비스차이     27253 non-null  int64  \n",
      " 6   서비스년        27253 non-null  int64  \n",
      " 7   서비스월        27253 non-null  int64  \n",
      " 8   서비스일        27253 non-null  int64  \n",
      " 9   서비스분기       27253 non-null  int64  \n",
      " 10  서비스요일       27253 non-null  int64  \n",
      " 11  접수일서비스일차이   27253 non-null  int64  \n",
      " 12  가입일수        27253 non-null  float64\n",
      " 13  서비스시작시간     27253 non-null  int64  \n",
      " 14  서비스종료시간     27253 non-null  int64  \n",
      " 15  서비스시간       27253 non-null  int64  \n",
      " 16  신용카드        27253 non-null  int64  \n",
      " 17  무통장입금       27253 non-null  int64  \n",
      " 18  가상계좌        27253 non-null  int64  \n",
      " 19  미수          27253 non-null  int64  \n",
      " 20  충남          27253 non-null  int64  \n",
      " 21  서울          27253 non-null  int64  \n",
      " 22  강원          27253 non-null  int64  \n",
      " 23  부산          27253 non-null  int64  \n",
      " 24  광주          27253 non-null  int64  \n",
      " 25  경기          27253 non-null  int64  \n",
      " 26  경남          27253 non-null  int64  \n",
      " 27  서비스주소       27243 non-null  float64\n",
      " 28  일반주택        27253 non-null  int64  \n",
      " 29  오피스텔/원룸     27253 non-null  int64  \n",
      " 30  평수          27253 non-null  int64  \n",
      " 31  반려동물없음      27253 non-null  int64  \n",
      " 32  반려동물개       27253 non-null  int64  \n",
      " 33  반려동물고양이     27253 non-null  int64  \n",
      " 34  반려동물기타      27253 non-null  int64  \n",
      " 35  반려동물미응답     27253 non-null  int64  \n",
      " 36  화장실         27253 non-null  int64  \n",
      " 37  방           27253 non-null  int64  \n",
      " 38  거실          27253 non-null  int64  \n",
      " 39  주방          27253 non-null  int64  \n",
      " 40  베란다         27253 non-null  int64  \n",
      " 41  이외장소        27253 non-null  int64  \n",
      " 42  매니저나이       27253 non-null  int64  \n",
      " 43  매니저연령대      27253 non-null  int64  \n",
      " 44  안드로이드       27253 non-null  int64  \n",
      " 45  ios         27253 non-null  int64  \n",
      " 46  기타          27253 non-null  int64  \n",
      " 47  휴대폰미등록      27253 non-null  int64  \n",
      " 48  매니저자차       27253 non-null  int64  \n",
      " 49  매니저대중교통     27253 non-null  int64  \n",
      " 50  매니저그외교통     27253 non-null  int64  \n",
      " 51  m충남         27253 non-null  int64  \n",
      " 52  m서울         27253 non-null  int64  \n",
      " 53  m강원         27253 non-null  int64  \n",
      " 54  m광주         27253 non-null  int64  \n",
      " 55  m부산         27253 non-null  int64  \n",
      " 56  m경기         27253 non-null  int64  \n",
      " 57  m경남         27253 non-null  int64  \n",
      " 58  m인천         27253 non-null  int64  \n",
      " 59  w천안         27253 non-null  int64  \n",
      " 60  w기타         27253 non-null  int64  \n",
      " 61  w서울         27253 non-null  int64  \n",
      " 62  w원주         27253 non-null  int64  \n",
      " 63  w부산         27253 non-null  int64  \n",
      " 64  w광주         27253 non-null  int64  \n",
      " 65  w수도권        27253 non-null  int64  \n",
      " 66  w평택         27253 non-null  int64  \n",
      " 67  SEQ         27253 non-null  object \n",
      " 68  장기서비스여부     27253 non-null  int64  \n",
      " 69  회차          27253 non-null  float64\n",
      " 70  기존고객여부      27253 non-null  int64  \n",
      " 71  부재중미응답      27253 non-null  int64  \n",
      " 72  쿠폰사용여부      27253 non-null  int64  \n",
      " 73  매니저성별       27253 non-null  int64  \n",
      " 74  CS교육이수여부    27253 non-null  int64  \n",
      " 75  청소교육이수여부    27253 non-null  int64  \n",
      " 76  부재중서비스가능여부  27253 non-null  int64  \n",
      " 77  추천인여부       27253 non-null  int64  \n",
      " 78  매칭성공여부      23009 non-null  float64\n",
      "dtypes: float64(4), int64(74), object(1)\n",
      "memory usage: 16.6+ MB\n"
     ]
    }
   ],
   "source": [
    "my_dict.info()"
   ]
  },
  {
   "cell_type": "code",
   "execution_count": 757,
   "id": "e288253c",
   "metadata": {},
   "outputs": [
    {
     "data": {
      "text/html": [
       "<div>\n",
       "<style scoped>\n",
       "    .dataframe tbody tr th:only-of-type {\n",
       "        vertical-align: middle;\n",
       "    }\n",
       "\n",
       "    .dataframe tbody tr th {\n",
       "        vertical-align: top;\n",
       "    }\n",
       "\n",
       "    .dataframe thead th {\n",
       "        text-align: right;\n",
       "    }\n",
       "</style>\n",
       "<table border=\"1\" class=\"dataframe\">\n",
       "  <thead>\n",
       "    <tr style=\"text-align: right;\">\n",
       "      <th></th>\n",
       "      <th>접수년</th>\n",
       "      <th>접수월</th>\n",
       "      <th>접수일</th>\n",
       "      <th>접수분기</th>\n",
       "      <th>접수요일</th>\n",
       "      <th>최초서비스차이</th>\n",
       "      <th>서비스년</th>\n",
       "      <th>서비스월</th>\n",
       "      <th>서비스일</th>\n",
       "      <th>서비스분기</th>\n",
       "      <th>...</th>\n",
       "      <th>회차</th>\n",
       "      <th>기존고객여부</th>\n",
       "      <th>부재중미응답</th>\n",
       "      <th>쿠폰사용여부</th>\n",
       "      <th>매니저성별</th>\n",
       "      <th>CS교육이수여부</th>\n",
       "      <th>청소교육이수여부</th>\n",
       "      <th>부재중서비스가능여부</th>\n",
       "      <th>추천인여부</th>\n",
       "      <th>매칭성공여부</th>\n",
       "    </tr>\n",
       "  </thead>\n",
       "  <tbody>\n",
       "    <tr>\n",
       "      <th>0</th>\n",
       "      <td>2019</td>\n",
       "      <td>7</td>\n",
       "      <td>9</td>\n",
       "      <td>3</td>\n",
       "      <td>1</td>\n",
       "      <td>6</td>\n",
       "      <td>2019</td>\n",
       "      <td>7</td>\n",
       "      <td>29</td>\n",
       "      <td>3</td>\n",
       "      <td>...</td>\n",
       "      <td>1.000</td>\n",
       "      <td>1</td>\n",
       "      <td>1</td>\n",
       "      <td>0</td>\n",
       "      <td>0</td>\n",
       "      <td>0</td>\n",
       "      <td>0</td>\n",
       "      <td>1</td>\n",
       "      <td>0</td>\n",
       "      <td>0.0</td>\n",
       "    </tr>\n",
       "    <tr>\n",
       "      <th>1</th>\n",
       "      <td>2019</td>\n",
       "      <td>7</td>\n",
       "      <td>12</td>\n",
       "      <td>3</td>\n",
       "      <td>4</td>\n",
       "      <td>3</td>\n",
       "      <td>2019</td>\n",
       "      <td>8</td>\n",
       "      <td>20</td>\n",
       "      <td>3</td>\n",
       "      <td>...</td>\n",
       "      <td>0.750</td>\n",
       "      <td>1</td>\n",
       "      <td>1</td>\n",
       "      <td>0</td>\n",
       "      <td>0</td>\n",
       "      <td>1</td>\n",
       "      <td>1</td>\n",
       "      <td>1</td>\n",
       "      <td>0</td>\n",
       "      <td>0.0</td>\n",
       "    </tr>\n",
       "    <tr>\n",
       "      <th>2</th>\n",
       "      <td>2020</td>\n",
       "      <td>11</td>\n",
       "      <td>18</td>\n",
       "      <td>4</td>\n",
       "      <td>2</td>\n",
       "      <td>5</td>\n",
       "      <td>2020</td>\n",
       "      <td>12</td>\n",
       "      <td>11</td>\n",
       "      <td>4</td>\n",
       "      <td>...</td>\n",
       "      <td>0.600</td>\n",
       "      <td>1</td>\n",
       "      <td>0</td>\n",
       "      <td>0</td>\n",
       "      <td>0</td>\n",
       "      <td>0</td>\n",
       "      <td>0</td>\n",
       "      <td>0</td>\n",
       "      <td>0</td>\n",
       "      <td>0.0</td>\n",
       "    </tr>\n",
       "    <tr>\n",
       "      <th>3</th>\n",
       "      <td>2020</td>\n",
       "      <td>11</td>\n",
       "      <td>9</td>\n",
       "      <td>4</td>\n",
       "      <td>0</td>\n",
       "      <td>0</td>\n",
       "      <td>2020</td>\n",
       "      <td>11</td>\n",
       "      <td>30</td>\n",
       "      <td>4</td>\n",
       "      <td>...</td>\n",
       "      <td>1.000</td>\n",
       "      <td>1</td>\n",
       "      <td>0</td>\n",
       "      <td>0</td>\n",
       "      <td>0</td>\n",
       "      <td>0</td>\n",
       "      <td>0</td>\n",
       "      <td>1</td>\n",
       "      <td>0</td>\n",
       "      <td>0.0</td>\n",
       "    </tr>\n",
       "    <tr>\n",
       "      <th>4</th>\n",
       "      <td>2020</td>\n",
       "      <td>2</td>\n",
       "      <td>25</td>\n",
       "      <td>1</td>\n",
       "      <td>1</td>\n",
       "      <td>35</td>\n",
       "      <td>2020</td>\n",
       "      <td>4</td>\n",
       "      <td>7</td>\n",
       "      <td>2</td>\n",
       "      <td>...</td>\n",
       "      <td>1.000</td>\n",
       "      <td>1</td>\n",
       "      <td>1</td>\n",
       "      <td>0</td>\n",
       "      <td>0</td>\n",
       "      <td>0</td>\n",
       "      <td>0</td>\n",
       "      <td>1</td>\n",
       "      <td>0</td>\n",
       "      <td>1.0</td>\n",
       "    </tr>\n",
       "    <tr>\n",
       "      <th>5</th>\n",
       "      <td>2019</td>\n",
       "      <td>9</td>\n",
       "      <td>5</td>\n",
       "      <td>3</td>\n",
       "      <td>3</td>\n",
       "      <td>14</td>\n",
       "      <td>2019</td>\n",
       "      <td>10</td>\n",
       "      <td>24</td>\n",
       "      <td>4</td>\n",
       "      <td>...</td>\n",
       "      <td>0.750</td>\n",
       "      <td>1</td>\n",
       "      <td>1</td>\n",
       "      <td>0</td>\n",
       "      <td>0</td>\n",
       "      <td>0</td>\n",
       "      <td>0</td>\n",
       "      <td>1</td>\n",
       "      <td>0</td>\n",
       "      <td>0.0</td>\n",
       "    </tr>\n",
       "    <tr>\n",
       "      <th>6</th>\n",
       "      <td>2020</td>\n",
       "      <td>7</td>\n",
       "      <td>13</td>\n",
       "      <td>3</td>\n",
       "      <td>0</td>\n",
       "      <td>7</td>\n",
       "      <td>2020</td>\n",
       "      <td>7</td>\n",
       "      <td>27</td>\n",
       "      <td>3</td>\n",
       "      <td>...</td>\n",
       "      <td>0.500</td>\n",
       "      <td>1</td>\n",
       "      <td>0</td>\n",
       "      <td>0</td>\n",
       "      <td>0</td>\n",
       "      <td>0</td>\n",
       "      <td>0</td>\n",
       "      <td>1</td>\n",
       "      <td>0</td>\n",
       "      <td>0.0</td>\n",
       "    </tr>\n",
       "    <tr>\n",
       "      <th>7</th>\n",
       "      <td>2019</td>\n",
       "      <td>10</td>\n",
       "      <td>15</td>\n",
       "      <td>4</td>\n",
       "      <td>1</td>\n",
       "      <td>6</td>\n",
       "      <td>2019</td>\n",
       "      <td>12</td>\n",
       "      <td>9</td>\n",
       "      <td>4</td>\n",
       "      <td>...</td>\n",
       "      <td>0.600</td>\n",
       "      <td>1</td>\n",
       "      <td>1</td>\n",
       "      <td>1</td>\n",
       "      <td>0</td>\n",
       "      <td>0</td>\n",
       "      <td>0</td>\n",
       "      <td>0</td>\n",
       "      <td>0</td>\n",
       "      <td>0.0</td>\n",
       "    </tr>\n",
       "    <tr>\n",
       "      <th>8</th>\n",
       "      <td>2019</td>\n",
       "      <td>8</td>\n",
       "      <td>5</td>\n",
       "      <td>3</td>\n",
       "      <td>0</td>\n",
       "      <td>3</td>\n",
       "      <td>2019</td>\n",
       "      <td>8</td>\n",
       "      <td>8</td>\n",
       "      <td>3</td>\n",
       "      <td>...</td>\n",
       "      <td>1.000</td>\n",
       "      <td>1</td>\n",
       "      <td>1</td>\n",
       "      <td>0</td>\n",
       "      <td>0</td>\n",
       "      <td>0</td>\n",
       "      <td>0</td>\n",
       "      <td>1</td>\n",
       "      <td>0</td>\n",
       "      <td>0.0</td>\n",
       "    </tr>\n",
       "    <tr>\n",
       "      <th>9</th>\n",
       "      <td>2020</td>\n",
       "      <td>5</td>\n",
       "      <td>27</td>\n",
       "      <td>2</td>\n",
       "      <td>2</td>\n",
       "      <td>7</td>\n",
       "      <td>2020</td>\n",
       "      <td>7</td>\n",
       "      <td>1</td>\n",
       "      <td>3</td>\n",
       "      <td>...</td>\n",
       "      <td>0.625</td>\n",
       "      <td>1</td>\n",
       "      <td>1</td>\n",
       "      <td>0</td>\n",
       "      <td>0</td>\n",
       "      <td>0</td>\n",
       "      <td>0</td>\n",
       "      <td>1</td>\n",
       "      <td>0</td>\n",
       "      <td>0.0</td>\n",
       "    </tr>\n",
       "    <tr>\n",
       "      <th>10</th>\n",
       "      <td>2021</td>\n",
       "      <td>5</td>\n",
       "      <td>13</td>\n",
       "      <td>2</td>\n",
       "      <td>3</td>\n",
       "      <td>7</td>\n",
       "      <td>2021</td>\n",
       "      <td>6</td>\n",
       "      <td>3</td>\n",
       "      <td>2</td>\n",
       "      <td>...</td>\n",
       "      <td>0.600</td>\n",
       "      <td>1</td>\n",
       "      <td>0</td>\n",
       "      <td>0</td>\n",
       "      <td>0</td>\n",
       "      <td>-1</td>\n",
       "      <td>-1</td>\n",
       "      <td>1</td>\n",
       "      <td>0</td>\n",
       "      <td>0.0</td>\n",
       "    </tr>\n",
       "    <tr>\n",
       "      <th>11</th>\n",
       "      <td>2020</td>\n",
       "      <td>3</td>\n",
       "      <td>18</td>\n",
       "      <td>1</td>\n",
       "      <td>2</td>\n",
       "      <td>7</td>\n",
       "      <td>2020</td>\n",
       "      <td>3</td>\n",
       "      <td>25</td>\n",
       "      <td>1</td>\n",
       "      <td>...</td>\n",
       "      <td>0.250</td>\n",
       "      <td>1</td>\n",
       "      <td>1</td>\n",
       "      <td>1</td>\n",
       "      <td>0</td>\n",
       "      <td>0</td>\n",
       "      <td>0</td>\n",
       "      <td>1</td>\n",
       "      <td>0</td>\n",
       "      <td>0.0</td>\n",
       "    </tr>\n",
       "    <tr>\n",
       "      <th>12</th>\n",
       "      <td>2020</td>\n",
       "      <td>12</td>\n",
       "      <td>31</td>\n",
       "      <td>4</td>\n",
       "      <td>3</td>\n",
       "      <td>11</td>\n",
       "      <td>2021</td>\n",
       "      <td>2</td>\n",
       "      <td>4</td>\n",
       "      <td>1</td>\n",
       "      <td>...</td>\n",
       "      <td>0.750</td>\n",
       "      <td>1</td>\n",
       "      <td>0</td>\n",
       "      <td>0</td>\n",
       "      <td>0</td>\n",
       "      <td>0</td>\n",
       "      <td>0</td>\n",
       "      <td>1</td>\n",
       "      <td>0</td>\n",
       "      <td>0.0</td>\n",
       "    </tr>\n",
       "    <tr>\n",
       "      <th>13</th>\n",
       "      <td>2019</td>\n",
       "      <td>8</td>\n",
       "      <td>2</td>\n",
       "      <td>3</td>\n",
       "      <td>4</td>\n",
       "      <td>3</td>\n",
       "      <td>2019</td>\n",
       "      <td>8</td>\n",
       "      <td>5</td>\n",
       "      <td>3</td>\n",
       "      <td>...</td>\n",
       "      <td>1.000</td>\n",
       "      <td>1</td>\n",
       "      <td>1</td>\n",
       "      <td>0</td>\n",
       "      <td>0</td>\n",
       "      <td>-1</td>\n",
       "      <td>-1</td>\n",
       "      <td>1</td>\n",
       "      <td>0</td>\n",
       "      <td>0.0</td>\n",
       "    </tr>\n",
       "    <tr>\n",
       "      <th>14</th>\n",
       "      <td>2020</td>\n",
       "      <td>9</td>\n",
       "      <td>28</td>\n",
       "      <td>3</td>\n",
       "      <td>0</td>\n",
       "      <td>8</td>\n",
       "      <td>2020</td>\n",
       "      <td>10</td>\n",
       "      <td>6</td>\n",
       "      <td>4</td>\n",
       "      <td>...</td>\n",
       "      <td>0.250</td>\n",
       "      <td>1</td>\n",
       "      <td>0</td>\n",
       "      <td>0</td>\n",
       "      <td>0</td>\n",
       "      <td>1</td>\n",
       "      <td>1</td>\n",
       "      <td>1</td>\n",
       "      <td>0</td>\n",
       "      <td>0.0</td>\n",
       "    </tr>\n",
       "    <tr>\n",
       "      <th>15</th>\n",
       "      <td>2021</td>\n",
       "      <td>4</td>\n",
       "      <td>26</td>\n",
       "      <td>2</td>\n",
       "      <td>0</td>\n",
       "      <td>7</td>\n",
       "      <td>2021</td>\n",
       "      <td>5</td>\n",
       "      <td>24</td>\n",
       "      <td>2</td>\n",
       "      <td>...</td>\n",
       "      <td>0.400</td>\n",
       "      <td>1</td>\n",
       "      <td>0</td>\n",
       "      <td>0</td>\n",
       "      <td>0</td>\n",
       "      <td>1</td>\n",
       "      <td>1</td>\n",
       "      <td>1</td>\n",
       "      <td>0</td>\n",
       "      <td>0.0</td>\n",
       "    </tr>\n",
       "    <tr>\n",
       "      <th>16</th>\n",
       "      <td>2021</td>\n",
       "      <td>3</td>\n",
       "      <td>31</td>\n",
       "      <td>1</td>\n",
       "      <td>2</td>\n",
       "      <td>2</td>\n",
       "      <td>2021</td>\n",
       "      <td>4</td>\n",
       "      <td>2</td>\n",
       "      <td>2</td>\n",
       "      <td>...</td>\n",
       "      <td>1.000</td>\n",
       "      <td>0</td>\n",
       "      <td>0</td>\n",
       "      <td>0</td>\n",
       "      <td>0</td>\n",
       "      <td>0</td>\n",
       "      <td>0</td>\n",
       "      <td>0</td>\n",
       "      <td>0</td>\n",
       "      <td>0.0</td>\n",
       "    </tr>\n",
       "    <tr>\n",
       "      <th>17</th>\n",
       "      <td>2019</td>\n",
       "      <td>6</td>\n",
       "      <td>25</td>\n",
       "      <td>2</td>\n",
       "      <td>1</td>\n",
       "      <td>1</td>\n",
       "      <td>2019</td>\n",
       "      <td>7</td>\n",
       "      <td>3</td>\n",
       "      <td>3</td>\n",
       "      <td>...</td>\n",
       "      <td>0.500</td>\n",
       "      <td>1</td>\n",
       "      <td>1</td>\n",
       "      <td>0</td>\n",
       "      <td>0</td>\n",
       "      <td>0</td>\n",
       "      <td>0</td>\n",
       "      <td>1</td>\n",
       "      <td>0</td>\n",
       "      <td>0.0</td>\n",
       "    </tr>\n",
       "    <tr>\n",
       "      <th>18</th>\n",
       "      <td>2019</td>\n",
       "      <td>10</td>\n",
       "      <td>4</td>\n",
       "      <td>4</td>\n",
       "      <td>4</td>\n",
       "      <td>12</td>\n",
       "      <td>2019</td>\n",
       "      <td>10</td>\n",
       "      <td>30</td>\n",
       "      <td>4</td>\n",
       "      <td>...</td>\n",
       "      <td>0.750</td>\n",
       "      <td>1</td>\n",
       "      <td>1</td>\n",
       "      <td>0</td>\n",
       "      <td>0</td>\n",
       "      <td>0</td>\n",
       "      <td>0</td>\n",
       "      <td>1</td>\n",
       "      <td>0</td>\n",
       "      <td>0.0</td>\n",
       "    </tr>\n",
       "    <tr>\n",
       "      <th>19</th>\n",
       "      <td>2019</td>\n",
       "      <td>7</td>\n",
       "      <td>3</td>\n",
       "      <td>3</td>\n",
       "      <td>2</td>\n",
       "      <td>7</td>\n",
       "      <td>2019</td>\n",
       "      <td>7</td>\n",
       "      <td>17</td>\n",
       "      <td>3</td>\n",
       "      <td>...</td>\n",
       "      <td>0.500</td>\n",
       "      <td>1</td>\n",
       "      <td>1</td>\n",
       "      <td>0</td>\n",
       "      <td>0</td>\n",
       "      <td>1</td>\n",
       "      <td>1</td>\n",
       "      <td>0</td>\n",
       "      <td>0</td>\n",
       "      <td>0.0</td>\n",
       "    </tr>\n",
       "  </tbody>\n",
       "</table>\n",
       "<p>20 rows × 79 columns</p>\n",
       "</div>"
      ],
      "text/plain": [
       "     접수년  접수월  접수일  접수분기  접수요일  최초서비스차이  서비스년  서비스월  서비스일  서비스분기  ...     회차  \\\n",
       "0   2019    7    9     3     1        6  2019     7    29      3  ...  1.000   \n",
       "1   2019    7   12     3     4        3  2019     8    20      3  ...  0.750   \n",
       "2   2020   11   18     4     2        5  2020    12    11      4  ...  0.600   \n",
       "3   2020   11    9     4     0        0  2020    11    30      4  ...  1.000   \n",
       "4   2020    2   25     1     1       35  2020     4     7      2  ...  1.000   \n",
       "5   2019    9    5     3     3       14  2019    10    24      4  ...  0.750   \n",
       "6   2020    7   13     3     0        7  2020     7    27      3  ...  0.500   \n",
       "7   2019   10   15     4     1        6  2019    12     9      4  ...  0.600   \n",
       "8   2019    8    5     3     0        3  2019     8     8      3  ...  1.000   \n",
       "9   2020    5   27     2     2        7  2020     7     1      3  ...  0.625   \n",
       "10  2021    5   13     2     3        7  2021     6     3      2  ...  0.600   \n",
       "11  2020    3   18     1     2        7  2020     3    25      1  ...  0.250   \n",
       "12  2020   12   31     4     3       11  2021     2     4      1  ...  0.750   \n",
       "13  2019    8    2     3     4        3  2019     8     5      3  ...  1.000   \n",
       "14  2020    9   28     3     0        8  2020    10     6      4  ...  0.250   \n",
       "15  2021    4   26     2     0        7  2021     5    24      2  ...  0.400   \n",
       "16  2021    3   31     1     2        2  2021     4     2      2  ...  1.000   \n",
       "17  2019    6   25     2     1        1  2019     7     3      3  ...  0.500   \n",
       "18  2019   10    4     4     4       12  2019    10    30      4  ...  0.750   \n",
       "19  2019    7    3     3     2        7  2019     7    17      3  ...  0.500   \n",
       "\n",
       "    기존고객여부  부재중미응답  쿠폰사용여부  매니저성별  CS교육이수여부  청소교육이수여부  부재중서비스가능여부  추천인여부  \\\n",
       "0        1       1       0      0         0         0           1      0   \n",
       "1        1       1       0      0         1         1           1      0   \n",
       "2        1       0       0      0         0         0           0      0   \n",
       "3        1       0       0      0         0         0           1      0   \n",
       "4        1       1       0      0         0         0           1      0   \n",
       "5        1       1       0      0         0         0           1      0   \n",
       "6        1       0       0      0         0         0           1      0   \n",
       "7        1       1       1      0         0         0           0      0   \n",
       "8        1       1       0      0         0         0           1      0   \n",
       "9        1       1       0      0         0         0           1      0   \n",
       "10       1       0       0      0        -1        -1           1      0   \n",
       "11       1       1       1      0         0         0           1      0   \n",
       "12       1       0       0      0         0         0           1      0   \n",
       "13       1       1       0      0        -1        -1           1      0   \n",
       "14       1       0       0      0         1         1           1      0   \n",
       "15       1       0       0      0         1         1           1      0   \n",
       "16       0       0       0      0         0         0           0      0   \n",
       "17       1       1       0      0         0         0           1      0   \n",
       "18       1       1       0      0         0         0           1      0   \n",
       "19       1       1       0      0         1         1           0      0   \n",
       "\n",
       "    매칭성공여부  \n",
       "0      0.0  \n",
       "1      0.0  \n",
       "2      0.0  \n",
       "3      0.0  \n",
       "4      1.0  \n",
       "5      0.0  \n",
       "6      0.0  \n",
       "7      0.0  \n",
       "8      0.0  \n",
       "9      0.0  \n",
       "10     0.0  \n",
       "11     0.0  \n",
       "12     0.0  \n",
       "13     0.0  \n",
       "14     0.0  \n",
       "15     0.0  \n",
       "16     0.0  \n",
       "17     0.0  \n",
       "18     0.0  \n",
       "19     0.0  \n",
       "\n",
       "[20 rows x 79 columns]"
      ]
     },
     "execution_count": 757,
     "metadata": {},
     "output_type": "execute_result"
    }
   ],
   "source": [
    "my_dict.head(20)"
   ]
  },
  {
   "cell_type": "code",
   "execution_count": 758,
   "id": "32a731b3",
   "metadata": {},
   "outputs": [],
   "source": [
    "x_train = my_dict[~my_dict['매칭성공여부'].isnull()].drop(columns=['SEQ', '매칭성공여부'])\n",
    "x_test = my_dict[my_dict['매칭성공여부'].isnull()].drop(columns=['SEQ','매칭성공여부'])\n",
    "y_train= my_dict[~my_dict['매칭성공여부'].isnull()]['매칭성공여부']"
   ]
  },
  {
   "cell_type": "code",
   "execution_count": 759,
   "id": "95936923",
   "metadata": {},
   "outputs": [],
   "source": [
    "from sklearn.model_selection import GridSearchCV\n",
    "from sklearn.metrics import roc_auc_score\n",
    "from sklearn.metrics import recall_score, precision_score, f1_score, fbeta_score\n",
    "from sklearn.tree import DecisionTreeClassifier\n",
    "from lightgbm import LGBMClassifier # Wrapper-Class\n",
    "from sklearn.ensemble import RandomForestClassifier\n",
    "from xgboost import XGBClassifier"
   ]
  },
  {
   "cell_type": "code",
   "execution_count": 760,
   "id": "f8c4fad9",
   "metadata": {},
   "outputs": [],
   "source": [
    "grid_params = {\n",
    "       # 'min_child_weight':[1, 3, 5, 7],\n",
    "       # 'colsample_bytree':[0.1, 0.3, 0.5, 0.75, 1.0],\n",
    "       # 'learning_rate':[0.0001, 0.001, 0.01, 0.1, 0.2, 0.3],\n",
    "       # 'max_depth': range (6, 10, 1),\n",
    "       # 'n_estimators': [300,400,500,600],\n",
    "        'learning_rate':[0.001, 0.01, 0.1],\n",
    "        'max_depth': range (8, 10, 1),\n",
    "        'n_estimators': [300,450,600],\n",
    "}"
   ]
  },
  {
   "cell_type": "code",
   "execution_count": 761,
   "id": "8189dd4c",
   "metadata": {},
   "outputs": [],
   "source": [
    "xgb = XGBClassifier(objective= 'binary:logistic')"
   ]
  },
  {
   "cell_type": "code",
   "execution_count": 762,
   "id": "8e821663",
   "metadata": {
    "scrolled": true
   },
   "outputs": [
    {
     "name": "stdout",
     "output_type": "stream",
     "text": [
      "Fitting 4 folds for each of 18 candidates, totalling 72 fits\n"
     ]
    },
    {
     "ename": "KeyboardInterrupt",
     "evalue": "",
     "output_type": "error",
     "traceback": [
      "\u001b[0;31m---------------------------------------------------------------------------\u001b[0m",
      "\u001b[0;31mKeyboardInterrupt\u001b[0m                         Traceback (most recent call last)",
      "Cell \u001b[0;32mIn[762], line 2\u001b[0m\n\u001b[1;32m      1\u001b[0m grid \u001b[39m=\u001b[39m GridSearchCV(xgb, param_grid\u001b[39m=\u001b[39mgrid_params, verbose\u001b[39m=\u001b[39m\u001b[39m1\u001b[39m, cv\u001b[39m=\u001b[39m\u001b[39m4\u001b[39m, n_jobs\u001b[39m=\u001b[39m\u001b[39m-\u001b[39m\u001b[39m1\u001b[39m)\n\u001b[0;32m----> 2\u001b[0m grid\u001b[39m.\u001b[39;49mfit(x_train, y_train)\n",
      "File \u001b[0;32m~/.local/lib/python3.10/site-packages/sklearn/model_selection/_search.py:875\u001b[0m, in \u001b[0;36mBaseSearchCV.fit\u001b[0;34m(self, X, y, groups, **fit_params)\u001b[0m\n\u001b[1;32m    869\u001b[0m     results \u001b[39m=\u001b[39m \u001b[39mself\u001b[39m\u001b[39m.\u001b[39m_format_results(\n\u001b[1;32m    870\u001b[0m         all_candidate_params, n_splits, all_out, all_more_results\n\u001b[1;32m    871\u001b[0m     )\n\u001b[1;32m    873\u001b[0m     \u001b[39mreturn\u001b[39;00m results\n\u001b[0;32m--> 875\u001b[0m \u001b[39mself\u001b[39;49m\u001b[39m.\u001b[39;49m_run_search(evaluate_candidates)\n\u001b[1;32m    877\u001b[0m \u001b[39m# multimetric is determined here because in the case of a callable\u001b[39;00m\n\u001b[1;32m    878\u001b[0m \u001b[39m# self.scoring the return type is only known after calling\u001b[39;00m\n\u001b[1;32m    879\u001b[0m first_test_score \u001b[39m=\u001b[39m all_out[\u001b[39m0\u001b[39m][\u001b[39m\"\u001b[39m\u001b[39mtest_scores\u001b[39m\u001b[39m\"\u001b[39m]\n",
      "File \u001b[0;32m~/.local/lib/python3.10/site-packages/sklearn/model_selection/_search.py:1389\u001b[0m, in \u001b[0;36mGridSearchCV._run_search\u001b[0;34m(self, evaluate_candidates)\u001b[0m\n\u001b[1;32m   1387\u001b[0m \u001b[39mdef\u001b[39;00m \u001b[39m_run_search\u001b[39m(\u001b[39mself\u001b[39m, evaluate_candidates):\n\u001b[1;32m   1388\u001b[0m     \u001b[39m\"\"\"Search all candidates in param_grid\"\"\"\u001b[39;00m\n\u001b[0;32m-> 1389\u001b[0m     evaluate_candidates(ParameterGrid(\u001b[39mself\u001b[39;49m\u001b[39m.\u001b[39;49mparam_grid))\n",
      "File \u001b[0;32m~/.local/lib/python3.10/site-packages/sklearn/model_selection/_search.py:822\u001b[0m, in \u001b[0;36mBaseSearchCV.fit.<locals>.evaluate_candidates\u001b[0;34m(candidate_params, cv, more_results)\u001b[0m\n\u001b[1;32m    814\u001b[0m \u001b[39mif\u001b[39;00m \u001b[39mself\u001b[39m\u001b[39m.\u001b[39mverbose \u001b[39m>\u001b[39m \u001b[39m0\u001b[39m:\n\u001b[1;32m    815\u001b[0m     \u001b[39mprint\u001b[39m(\n\u001b[1;32m    816\u001b[0m         \u001b[39m\"\u001b[39m\u001b[39mFitting \u001b[39m\u001b[39m{0}\u001b[39;00m\u001b[39m folds for each of \u001b[39m\u001b[39m{1}\u001b[39;00m\u001b[39m candidates,\u001b[39m\u001b[39m\"\u001b[39m\n\u001b[1;32m    817\u001b[0m         \u001b[39m\"\u001b[39m\u001b[39m totalling \u001b[39m\u001b[39m{2}\u001b[39;00m\u001b[39m fits\u001b[39m\u001b[39m\"\u001b[39m\u001b[39m.\u001b[39mformat(\n\u001b[1;32m    818\u001b[0m             n_splits, n_candidates, n_candidates \u001b[39m*\u001b[39m n_splits\n\u001b[1;32m    819\u001b[0m         )\n\u001b[1;32m    820\u001b[0m     )\n\u001b[0;32m--> 822\u001b[0m out \u001b[39m=\u001b[39m parallel(\n\u001b[1;32m    823\u001b[0m     delayed(_fit_and_score)(\n\u001b[1;32m    824\u001b[0m         clone(base_estimator),\n\u001b[1;32m    825\u001b[0m         X,\n\u001b[1;32m    826\u001b[0m         y,\n\u001b[1;32m    827\u001b[0m         train\u001b[39m=\u001b[39;49mtrain,\n\u001b[1;32m    828\u001b[0m         test\u001b[39m=\u001b[39;49mtest,\n\u001b[1;32m    829\u001b[0m         parameters\u001b[39m=\u001b[39;49mparameters,\n\u001b[1;32m    830\u001b[0m         split_progress\u001b[39m=\u001b[39;49m(split_idx, n_splits),\n\u001b[1;32m    831\u001b[0m         candidate_progress\u001b[39m=\u001b[39;49m(cand_idx, n_candidates),\n\u001b[1;32m    832\u001b[0m         \u001b[39m*\u001b[39;49m\u001b[39m*\u001b[39;49mfit_and_score_kwargs,\n\u001b[1;32m    833\u001b[0m     )\n\u001b[1;32m    834\u001b[0m     \u001b[39mfor\u001b[39;49;00m (cand_idx, parameters), (split_idx, (train, test)) \u001b[39min\u001b[39;49;00m product(\n\u001b[1;32m    835\u001b[0m         \u001b[39menumerate\u001b[39;49m(candidate_params), \u001b[39menumerate\u001b[39;49m(cv\u001b[39m.\u001b[39;49msplit(X, y, groups))\n\u001b[1;32m    836\u001b[0m     )\n\u001b[1;32m    837\u001b[0m )\n\u001b[1;32m    839\u001b[0m \u001b[39mif\u001b[39;00m \u001b[39mlen\u001b[39m(out) \u001b[39m<\u001b[39m \u001b[39m1\u001b[39m:\n\u001b[1;32m    840\u001b[0m     \u001b[39mraise\u001b[39;00m \u001b[39mValueError\u001b[39;00m(\n\u001b[1;32m    841\u001b[0m         \u001b[39m\"\u001b[39m\u001b[39mNo fits were performed. \u001b[39m\u001b[39m\"\u001b[39m\n\u001b[1;32m    842\u001b[0m         \u001b[39m\"\u001b[39m\u001b[39mWas the CV iterator empty? \u001b[39m\u001b[39m\"\u001b[39m\n\u001b[1;32m    843\u001b[0m         \u001b[39m\"\u001b[39m\u001b[39mWere there no candidates?\u001b[39m\u001b[39m\"\u001b[39m\n\u001b[1;32m    844\u001b[0m     )\n",
      "File \u001b[0;32m~/.local/lib/python3.10/site-packages/joblib/parallel.py:1098\u001b[0m, in \u001b[0;36mParallel.__call__\u001b[0;34m(self, iterable)\u001b[0m\n\u001b[1;32m   1095\u001b[0m     \u001b[39mself\u001b[39m\u001b[39m.\u001b[39m_iterating \u001b[39m=\u001b[39m \u001b[39mFalse\u001b[39;00m\n\u001b[1;32m   1097\u001b[0m \u001b[39mwith\u001b[39;00m \u001b[39mself\u001b[39m\u001b[39m.\u001b[39m_backend\u001b[39m.\u001b[39mretrieval_context():\n\u001b[0;32m-> 1098\u001b[0m     \u001b[39mself\u001b[39;49m\u001b[39m.\u001b[39;49mretrieve()\n\u001b[1;32m   1099\u001b[0m \u001b[39m# Make sure that we get a last message telling us we are done\u001b[39;00m\n\u001b[1;32m   1100\u001b[0m elapsed_time \u001b[39m=\u001b[39m time\u001b[39m.\u001b[39mtime() \u001b[39m-\u001b[39m \u001b[39mself\u001b[39m\u001b[39m.\u001b[39m_start_time\n",
      "File \u001b[0;32m~/.local/lib/python3.10/site-packages/joblib/parallel.py:975\u001b[0m, in \u001b[0;36mParallel.retrieve\u001b[0;34m(self)\u001b[0m\n\u001b[1;32m    973\u001b[0m \u001b[39mtry\u001b[39;00m:\n\u001b[1;32m    974\u001b[0m     \u001b[39mif\u001b[39;00m \u001b[39mgetattr\u001b[39m(\u001b[39mself\u001b[39m\u001b[39m.\u001b[39m_backend, \u001b[39m'\u001b[39m\u001b[39msupports_timeout\u001b[39m\u001b[39m'\u001b[39m, \u001b[39mFalse\u001b[39;00m):\n\u001b[0;32m--> 975\u001b[0m         \u001b[39mself\u001b[39m\u001b[39m.\u001b[39m_output\u001b[39m.\u001b[39mextend(job\u001b[39m.\u001b[39;49mget(timeout\u001b[39m=\u001b[39;49m\u001b[39mself\u001b[39;49m\u001b[39m.\u001b[39;49mtimeout))\n\u001b[1;32m    976\u001b[0m     \u001b[39melse\u001b[39;00m:\n\u001b[1;32m    977\u001b[0m         \u001b[39mself\u001b[39m\u001b[39m.\u001b[39m_output\u001b[39m.\u001b[39mextend(job\u001b[39m.\u001b[39mget())\n",
      "File \u001b[0;32m~/.local/lib/python3.10/site-packages/joblib/_parallel_backends.py:567\u001b[0m, in \u001b[0;36mLokyBackend.wrap_future_result\u001b[0;34m(future, timeout)\u001b[0m\n\u001b[1;32m    564\u001b[0m \u001b[39m\"\"\"Wrapper for Future.result to implement the same behaviour as\u001b[39;00m\n\u001b[1;32m    565\u001b[0m \u001b[39mAsyncResults.get from multiprocessing.\"\"\"\u001b[39;00m\n\u001b[1;32m    566\u001b[0m \u001b[39mtry\u001b[39;00m:\n\u001b[0;32m--> 567\u001b[0m     \u001b[39mreturn\u001b[39;00m future\u001b[39m.\u001b[39;49mresult(timeout\u001b[39m=\u001b[39;49mtimeout)\n\u001b[1;32m    568\u001b[0m \u001b[39mexcept\u001b[39;00m CfTimeoutError \u001b[39mas\u001b[39;00m e:\n\u001b[1;32m    569\u001b[0m     \u001b[39mraise\u001b[39;00m \u001b[39mTimeoutError\u001b[39;00m \u001b[39mfrom\u001b[39;00m \u001b[39me\u001b[39;00m\n",
      "File \u001b[0;32m/usr/lib/python3.10/concurrent/futures/_base.py:453\u001b[0m, in \u001b[0;36mFuture.result\u001b[0;34m(self, timeout)\u001b[0m\n\u001b[1;32m    450\u001b[0m \u001b[39melif\u001b[39;00m \u001b[39mself\u001b[39m\u001b[39m.\u001b[39m_state \u001b[39m==\u001b[39m FINISHED:\n\u001b[1;32m    451\u001b[0m     \u001b[39mreturn\u001b[39;00m \u001b[39mself\u001b[39m\u001b[39m.\u001b[39m__get_result()\n\u001b[0;32m--> 453\u001b[0m \u001b[39mself\u001b[39;49m\u001b[39m.\u001b[39;49m_condition\u001b[39m.\u001b[39;49mwait(timeout)\n\u001b[1;32m    455\u001b[0m \u001b[39mif\u001b[39;00m \u001b[39mself\u001b[39m\u001b[39m.\u001b[39m_state \u001b[39min\u001b[39;00m [CANCELLED, CANCELLED_AND_NOTIFIED]:\n\u001b[1;32m    456\u001b[0m     \u001b[39mraise\u001b[39;00m CancelledError()\n",
      "File \u001b[0;32m/usr/lib/python3.10/threading.py:320\u001b[0m, in \u001b[0;36mCondition.wait\u001b[0;34m(self, timeout)\u001b[0m\n\u001b[1;32m    318\u001b[0m \u001b[39mtry\u001b[39;00m:    \u001b[39m# restore state no matter what (e.g., KeyboardInterrupt)\u001b[39;00m\n\u001b[1;32m    319\u001b[0m     \u001b[39mif\u001b[39;00m timeout \u001b[39mis\u001b[39;00m \u001b[39mNone\u001b[39;00m:\n\u001b[0;32m--> 320\u001b[0m         waiter\u001b[39m.\u001b[39;49macquire()\n\u001b[1;32m    321\u001b[0m         gotit \u001b[39m=\u001b[39m \u001b[39mTrue\u001b[39;00m\n\u001b[1;32m    322\u001b[0m     \u001b[39melse\u001b[39;00m:\n",
      "\u001b[0;31mKeyboardInterrupt\u001b[0m: "
     ]
    }
   ],
   "source": [
    "grid = GridSearchCV(xgb, param_grid=grid_params, verbose=1, cv=4, n_jobs=-1)\n",
    "grid.fit(x_train, y_train)"
   ]
  },
  {
   "cell_type": "code",
   "execution_count": null,
   "id": "ec75a004",
   "metadata": {},
   "outputs": [
    {
     "data": {
      "text/html": [
       "<style>#sk-container-id-26 {color: black;background-color: white;}#sk-container-id-26 pre{padding: 0;}#sk-container-id-26 div.sk-toggleable {background-color: white;}#sk-container-id-26 label.sk-toggleable__label {cursor: pointer;display: block;width: 100%;margin-bottom: 0;padding: 0.3em;box-sizing: border-box;text-align: center;}#sk-container-id-26 label.sk-toggleable__label-arrow:before {content: \"▸\";float: left;margin-right: 0.25em;color: #696969;}#sk-container-id-26 label.sk-toggleable__label-arrow:hover:before {color: black;}#sk-container-id-26 div.sk-estimator:hover label.sk-toggleable__label-arrow:before {color: black;}#sk-container-id-26 div.sk-toggleable__content {max-height: 0;max-width: 0;overflow: hidden;text-align: left;background-color: #f0f8ff;}#sk-container-id-26 div.sk-toggleable__content pre {margin: 0.2em;color: black;border-radius: 0.25em;background-color: #f0f8ff;}#sk-container-id-26 input.sk-toggleable__control:checked~div.sk-toggleable__content {max-height: 200px;max-width: 100%;overflow: auto;}#sk-container-id-26 input.sk-toggleable__control:checked~label.sk-toggleable__label-arrow:before {content: \"▾\";}#sk-container-id-26 div.sk-estimator input.sk-toggleable__control:checked~label.sk-toggleable__label {background-color: #d4ebff;}#sk-container-id-26 div.sk-label input.sk-toggleable__control:checked~label.sk-toggleable__label {background-color: #d4ebff;}#sk-container-id-26 input.sk-hidden--visually {border: 0;clip: rect(1px 1px 1px 1px);clip: rect(1px, 1px, 1px, 1px);height: 1px;margin: -1px;overflow: hidden;padding: 0;position: absolute;width: 1px;}#sk-container-id-26 div.sk-estimator {font-family: monospace;background-color: #f0f8ff;border: 1px dotted black;border-radius: 0.25em;box-sizing: border-box;margin-bottom: 0.5em;}#sk-container-id-26 div.sk-estimator:hover {background-color: #d4ebff;}#sk-container-id-26 div.sk-parallel-item::after {content: \"\";width: 100%;border-bottom: 1px solid gray;flex-grow: 1;}#sk-container-id-26 div.sk-label:hover label.sk-toggleable__label {background-color: #d4ebff;}#sk-container-id-26 div.sk-serial::before {content: \"\";position: absolute;border-left: 1px solid gray;box-sizing: border-box;top: 0;bottom: 0;left: 50%;z-index: 0;}#sk-container-id-26 div.sk-serial {display: flex;flex-direction: column;align-items: center;background-color: white;padding-right: 0.2em;padding-left: 0.2em;position: relative;}#sk-container-id-26 div.sk-item {position: relative;z-index: 1;}#sk-container-id-26 div.sk-parallel {display: flex;align-items: stretch;justify-content: center;background-color: white;position: relative;}#sk-container-id-26 div.sk-item::before, #sk-container-id-26 div.sk-parallel-item::before {content: \"\";position: absolute;border-left: 1px solid gray;box-sizing: border-box;top: 0;bottom: 0;left: 50%;z-index: -1;}#sk-container-id-26 div.sk-parallel-item {display: flex;flex-direction: column;z-index: 1;position: relative;background-color: white;}#sk-container-id-26 div.sk-parallel-item:first-child::after {align-self: flex-end;width: 50%;}#sk-container-id-26 div.sk-parallel-item:last-child::after {align-self: flex-start;width: 50%;}#sk-container-id-26 div.sk-parallel-item:only-child::after {width: 0;}#sk-container-id-26 div.sk-dashed-wrapped {border: 1px dashed gray;margin: 0 0.4em 0.5em 0.4em;box-sizing: border-box;padding-bottom: 0.4em;background-color: white;}#sk-container-id-26 div.sk-label label {font-family: monospace;font-weight: bold;display: inline-block;line-height: 1.2em;}#sk-container-id-26 div.sk-label-container {text-align: center;}#sk-container-id-26 div.sk-container {/* jupyter's `normalize.less` sets `[hidden] { display: none; }` but bootstrap.min.css set `[hidden] { display: none !important; }` so we also need the `!important` here to be able to override the default hidden behavior on the sphinx rendered scikit-learn.org. See: https://github.com/scikit-learn/scikit-learn/issues/21755 */display: inline-block !important;position: relative;}#sk-container-id-26 div.sk-text-repr-fallback {display: none;}</style><div id=\"sk-container-id-26\" class=\"sk-top-container\"><div class=\"sk-text-repr-fallback\"><pre>LGBMClassifier(num_leaves=16, objective=&#x27;binary&#x27;)</pre><b>In a Jupyter environment, please rerun this cell to show the HTML representation or trust the notebook. <br />On GitHub, the HTML representation is unable to render, please try loading this page with nbviewer.org.</b></div><div class=\"sk-container\" hidden><div class=\"sk-item\"><div class=\"sk-estimator sk-toggleable\"><input class=\"sk-toggleable__control sk-hidden--visually\" id=\"sk-estimator-id-50\" type=\"checkbox\" checked><label for=\"sk-estimator-id-50\" class=\"sk-toggleable__label sk-toggleable__label-arrow\">LGBMClassifier</label><div class=\"sk-toggleable__content\"><pre>LGBMClassifier(num_leaves=16, objective=&#x27;binary&#x27;)</pre></div></div></div></div></div>"
      ],
      "text/plain": [
       "LGBMClassifier(num_leaves=16, objective='binary')"
      ]
     },
     "execution_count": 141,
     "metadata": {},
     "output_type": "execute_result"
    }
   ],
   "source": [
    "grid.best_score_"
   ]
  },
  {
   "cell_type": "code",
   "execution_count": null,
   "id": "ffadccf8",
   "metadata": {},
   "outputs": [],
   "source": [
    "grid.best_estimator_"
   ]
  },
  {
   "cell_type": "code",
   "execution_count": null,
   "id": "006615bf",
   "metadata": {},
   "outputs": [
    {
     "ename": "AttributeError",
     "evalue": "'GridSearchCV' object has no attribute 'feature_importances_'",
     "output_type": "error",
     "traceback": [
      "\u001b[0;31m---------------------------------------------------------------------------\u001b[0m",
      "\u001b[0;31mAttributeError\u001b[0m                            Traceback (most recent call last)",
      "Cell \u001b[0;32mIn[142], line 1\u001b[0m\n\u001b[0;32m----> 1\u001b[0m grid\u001b[39m.\u001b[39;49mfeature_importances_\n",
      "\u001b[0;31mAttributeError\u001b[0m: 'GridSearchCV' object has no attribute 'feature_importances_'"
     ]
    }
   ],
   "source": [
    "grid.feature_importances_"
   ]
  },
  {
   "cell_type": "code",
   "execution_count": null,
   "id": "485b64b7",
   "metadata": {},
   "outputs": [
    {
     "data": {
      "text/plain": [
       "4244"
      ]
     },
     "execution_count": 139,
     "metadata": {},
     "output_type": "execute_result"
    }
   ],
   "source": [
    "len(x_test)"
   ]
  },
  {
   "cell_type": "code",
   "execution_count": null,
   "id": "f68a2673",
   "metadata": {},
   "outputs": [
    {
     "data": {
      "text/html": [
       "<div>\n",
       "<style scoped>\n",
       "    .dataframe tbody tr th:only-of-type {\n",
       "        vertical-align: middle;\n",
       "    }\n",
       "\n",
       "    .dataframe tbody tr th {\n",
       "        vertical-align: top;\n",
       "    }\n",
       "\n",
       "    .dataframe thead th {\n",
       "        text-align: right;\n",
       "    }\n",
       "</style>\n",
       "<table border=\"1\" class=\"dataframe\">\n",
       "  <thead>\n",
       "    <tr style=\"text-align: right;\">\n",
       "      <th></th>\n",
       "      <th>SEQ</th>\n",
       "      <th>pred</th>\n",
       "    </tr>\n",
       "  </thead>\n",
       "  <tbody>\n",
       "    <tr>\n",
       "      <th>0</th>\n",
       "      <td>T54370</td>\n",
       "      <td>0.000000</td>\n",
       "    </tr>\n",
       "    <tr>\n",
       "      <th>1</th>\n",
       "      <td>T47892</td>\n",
       "      <td>0.000000</td>\n",
       "    </tr>\n",
       "    <tr>\n",
       "      <th>2</th>\n",
       "      <td>T56637</td>\n",
       "      <td>1.000000</td>\n",
       "    </tr>\n",
       "    <tr>\n",
       "      <th>3</th>\n",
       "      <td>T45487</td>\n",
       "      <td>0.000000</td>\n",
       "    </tr>\n",
       "    <tr>\n",
       "      <th>4</th>\n",
       "      <td>T41995</td>\n",
       "      <td>0.000000</td>\n",
       "    </tr>\n",
       "    <tr>\n",
       "      <th>...</th>\n",
       "      <td>...</td>\n",
       "      <td>...</td>\n",
       "    </tr>\n",
       "    <tr>\n",
       "      <th>4239</th>\n",
       "      <td>T31589</td>\n",
       "      <td>0.000000</td>\n",
       "    </tr>\n",
       "    <tr>\n",
       "      <th>4240</th>\n",
       "      <td>T36236</td>\n",
       "      <td>0.509804</td>\n",
       "    </tr>\n",
       "    <tr>\n",
       "      <th>4241</th>\n",
       "      <td>T34729</td>\n",
       "      <td>0.000000</td>\n",
       "    </tr>\n",
       "    <tr>\n",
       "      <th>4242</th>\n",
       "      <td>T53830</td>\n",
       "      <td>0.000000</td>\n",
       "    </tr>\n",
       "    <tr>\n",
       "      <th>4243</th>\n",
       "      <td>T30681</td>\n",
       "      <td>0.302326</td>\n",
       "    </tr>\n",
       "  </tbody>\n",
       "</table>\n",
       "<p>4244 rows × 2 columns</p>\n",
       "</div>"
      ],
      "text/plain": [
       "         SEQ      pred\n",
       "0     T54370  0.000000\n",
       "1     T47892  0.000000\n",
       "2     T56637  1.000000\n",
       "3     T45487  0.000000\n",
       "4     T41995  0.000000\n",
       "...      ...       ...\n",
       "4239  T31589  0.000000\n",
       "4240  T36236  0.509804\n",
       "4241  T34729  0.000000\n",
       "4242  T53830  0.000000\n",
       "4243  T30681  0.302326\n",
       "\n",
       "[4244 rows x 2 columns]"
      ]
     },
     "execution_count": 117,
     "metadata": {},
     "output_type": "execute_result"
    }
   ],
   "source": [
    "pred = pd.DataFrame({'SEQ':te.SEQ, 'pred': gcv.predict_proba(x_test)[:,1]})\n",
    "#pred = pd.DataFrame({'SEQ':te.SEQ, 'pred': grid_lgbm.predict_proba(x_test)[:,1]})\n",
    "pred"
   ]
  }
 ],
 "metadata": {
  "kernelspec": {
   "display_name": "Python 3 (ipykernel)",
   "language": "python",
   "name": "python3"
  }
 },
 "nbformat": 4,
 "nbformat_minor": 5
}
