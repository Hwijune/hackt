{
 "cells": [
  {
   "cell_type": "code",
   "execution_count": 1,
   "id": "ebdaa01b",
   "metadata": {},
   "outputs": [],
   "source": [
    "import pandas as pd\n",
    "import numpy as np\n",
    "import matplotlib.pyplot as plt\n",
    "import seaborn as sns"
   ]
  },
  {
   "cell_type": "code",
   "execution_count": 2,
   "id": "617b4562",
   "metadata": {},
   "outputs": [
    {
     "data": {
      "text/html": [
       "<div>\n",
       "<style scoped>\n",
       "    .dataframe tbody tr th:only-of-type {\n",
       "        vertical-align: middle;\n",
       "    }\n",
       "\n",
       "    .dataframe tbody tr th {\n",
       "        vertical-align: top;\n",
       "    }\n",
       "\n",
       "    .dataframe thead th {\n",
       "        text-align: right;\n",
       "    }\n",
       "</style>\n",
       "<table border=\"1\" class=\"dataframe\">\n",
       "  <thead>\n",
       "    <tr style=\"text-align: right;\">\n",
       "      <th></th>\n",
       "      <th>CreditScore</th>\n",
       "      <th>Gender</th>\n",
       "      <th>Age</th>\n",
       "      <th>Tenure</th>\n",
       "      <th>Balance</th>\n",
       "      <th>NumOfProducts</th>\n",
       "      <th>HasCrCard</th>\n",
       "      <th>IsActiveMember</th>\n",
       "      <th>EstimatedSalary</th>\n",
       "      <th>Exited</th>\n",
       "    </tr>\n",
       "  </thead>\n",
       "  <tbody>\n",
       "    <tr>\n",
       "      <th>0</th>\n",
       "      <td>619</td>\n",
       "      <td>0</td>\n",
       "      <td>42</td>\n",
       "      <td>2</td>\n",
       "      <td>0.00</td>\n",
       "      <td>1</td>\n",
       "      <td>1</td>\n",
       "      <td>1</td>\n",
       "      <td>101348.88</td>\n",
       "      <td>1</td>\n",
       "    </tr>\n",
       "    <tr>\n",
       "      <th>1</th>\n",
       "      <td>608</td>\n",
       "      <td>0</td>\n",
       "      <td>41</td>\n",
       "      <td>1</td>\n",
       "      <td>83807.86</td>\n",
       "      <td>1</td>\n",
       "      <td>0</td>\n",
       "      <td>1</td>\n",
       "      <td>112542.58</td>\n",
       "      <td>0</td>\n",
       "    </tr>\n",
       "    <tr>\n",
       "      <th>2</th>\n",
       "      <td>502</td>\n",
       "      <td>0</td>\n",
       "      <td>42</td>\n",
       "      <td>8</td>\n",
       "      <td>159660.80</td>\n",
       "      <td>3</td>\n",
       "      <td>1</td>\n",
       "      <td>0</td>\n",
       "      <td>113931.57</td>\n",
       "      <td>1</td>\n",
       "    </tr>\n",
       "    <tr>\n",
       "      <th>3</th>\n",
       "      <td>699</td>\n",
       "      <td>0</td>\n",
       "      <td>39</td>\n",
       "      <td>1</td>\n",
       "      <td>0.00</td>\n",
       "      <td>2</td>\n",
       "      <td>0</td>\n",
       "      <td>0</td>\n",
       "      <td>93826.63</td>\n",
       "      <td>0</td>\n",
       "    </tr>\n",
       "    <tr>\n",
       "      <th>4</th>\n",
       "      <td>850</td>\n",
       "      <td>0</td>\n",
       "      <td>43</td>\n",
       "      <td>2</td>\n",
       "      <td>125510.82</td>\n",
       "      <td>1</td>\n",
       "      <td>1</td>\n",
       "      <td>1</td>\n",
       "      <td>79084.10</td>\n",
       "      <td>0</td>\n",
       "    </tr>\n",
       "  </tbody>\n",
       "</table>\n",
       "</div>"
      ],
      "text/plain": [
       "   CreditScore  Gender  Age  Tenure    Balance  NumOfProducts  HasCrCard  \\\n",
       "0          619       0   42       2       0.00              1          1   \n",
       "1          608       0   41       1   83807.86              1          0   \n",
       "2          502       0   42       8  159660.80              3          1   \n",
       "3          699       0   39       1       0.00              2          0   \n",
       "4          850       0   43       2  125510.82              1          1   \n",
       "\n",
       "   IsActiveMember  EstimatedSalary  Exited  \n",
       "0               1        101348.88       1  \n",
       "1               1        112542.58       0  \n",
       "2               0        113931.57       1  \n",
       "3               0         93826.63       0  \n",
       "4               1         79084.10       0  "
      ]
     },
     "execution_count": 2,
     "metadata": {},
     "output_type": "execute_result"
    }
   ],
   "source": [
    "churn = pd.read_csv('data/churn_ver02.csv')\n",
    "churn.head()"
   ]
  },
  {
   "cell_type": "code",
   "execution_count": 3,
   "id": "6a567032",
   "metadata": {},
   "outputs": [
    {
     "name": "stdout",
     "output_type": "stream",
     "text": [
      "<class 'pandas.core.frame.DataFrame'>\n",
      "RangeIndex: 10000 entries, 0 to 9999\n",
      "Data columns (total 10 columns):\n",
      " #   Column           Non-Null Count  Dtype  \n",
      "---  ------           --------------  -----  \n",
      " 0   CreditScore      10000 non-null  int64  \n",
      " 1   Gender           10000 non-null  int64  \n",
      " 2   Age              10000 non-null  int64  \n",
      " 3   Tenure           10000 non-null  int64  \n",
      " 4   Balance          10000 non-null  float64\n",
      " 5   NumOfProducts    10000 non-null  int64  \n",
      " 6   HasCrCard        10000 non-null  int64  \n",
      " 7   IsActiveMember   10000 non-null  int64  \n",
      " 8   EstimatedSalary  10000 non-null  float64\n",
      " 9   Exited           10000 non-null  int64  \n",
      "dtypes: float64(2), int64(8)\n",
      "memory usage: 781.4 KB\n"
     ]
    }
   ],
   "source": [
    "churn.info()"
   ]
  },
  {
   "cell_type": "code",
   "execution_count": 4,
   "id": "cd4086df",
   "metadata": {},
   "outputs": [
    {
     "data": {
      "text/plain": [
       "0    7963\n",
       "1    2037\n",
       "Name: Exited, dtype: int64"
      ]
     },
     "execution_count": 4,
     "metadata": {},
     "output_type": "execute_result"
    }
   ],
   "source": [
    "churn.Exited.value_counts()"
   ]
  },
  {
   "cell_type": "code",
   "execution_count": 5,
   "id": "1c161867",
   "metadata": {},
   "outputs": [],
   "source": [
    "np.random.seed(123)\n",
    "from sklearn.model_selection import train_test_split\n",
    "target = churn.Exited\n",
    "churn = churn.drop(columns='Exited')\n",
    "x_train, x_test, y_train, y_test = train_test_split(churn, target, test_size=0.3, stratify=target)"
   ]
  },
  {
   "cell_type": "markdown",
   "id": "67ec2b07",
   "metadata": {},
   "source": [
    "### Voting"
   ]
  },
  {
   "cell_type": "code",
   "execution_count": 32,
   "id": "7716d651",
   "metadata": {},
   "outputs": [],
   "source": [
    "from sklearn.linear_model import LogisticRegression\n",
    "from sklearn.neighbors import KNeighborsClassifier\n",
    "from sklearn.tree import DecisionTreeClassifier"
   ]
  },
  {
   "cell_type": "code",
   "execution_count": 33,
   "id": "41a67749",
   "metadata": {},
   "outputs": [],
   "source": [
    "lr = LogisticRegression()\n",
    "knn = KNeighborsClassifier()\n",
    "dt = DecisionTreeClassifier()"
   ]
  },
  {
   "cell_type": "code",
   "execution_count": 34,
   "id": "6982dc6d",
   "metadata": {},
   "outputs": [
    {
     "data": {
      "text/plain": [
       "DecisionTreeClassifier()"
      ]
     },
     "execution_count": 34,
     "metadata": {},
     "output_type": "execute_result"
    }
   ],
   "source": [
    "lr.fit(x_train, y_train)\n",
    "knn.fit(x_train, y_train)\n",
    "dt.fit(x_train, y_train)"
   ]
  },
  {
   "cell_type": "markdown",
   "id": "d9c29eb4",
   "metadata": {},
   "source": [
    "- Hard Voting"
   ]
  },
  {
   "cell_type": "code",
   "execution_count": 35,
   "id": "444db986",
   "metadata": {},
   "outputs": [
    {
     "data": {
      "text/plain": [
       "array([0, 0, 0, ..., 0, 0, 0])"
      ]
     },
     "execution_count": 35,
     "metadata": {},
     "output_type": "execute_result"
    }
   ],
   "source": [
    "((lr.predict(x_test) + dt.predict(x_test) + knn.predict(x_test)) >= 2).astype('int')"
   ]
  },
  {
   "cell_type": "markdown",
   "id": "a1039848",
   "metadata": {},
   "source": [
    "- Soft Voting"
   ]
  },
  {
   "cell_type": "code",
   "execution_count": 36,
   "id": "d1672d47",
   "metadata": {},
   "outputs": [
    {
     "data": {
      "text/plain": [
       "array([0.44321899, 0.15833298, 0.45859374, ..., 0.1611359 , 0.23933574,\n",
       "       0.18081205])"
      ]
     },
     "execution_count": 36,
     "metadata": {},
     "output_type": "execute_result"
    }
   ],
   "source": [
    "(lr.predict_proba(x_test)[:,1] + dt.predict_proba(x_test)[:,1] + knn.predict_proba(x_test)[:,1])/3"
   ]
  },
  {
   "cell_type": "code",
   "execution_count": 37,
   "id": "acec86bb",
   "metadata": {},
   "outputs": [
    {
     "data": {
      "text/html": [
       "<div>\n",
       "<style scoped>\n",
       "    .dataframe tbody tr th:only-of-type {\n",
       "        vertical-align: middle;\n",
       "    }\n",
       "\n",
       "    .dataframe tbody tr th {\n",
       "        vertical-align: top;\n",
       "    }\n",
       "\n",
       "    .dataframe thead th {\n",
       "        text-align: right;\n",
       "    }\n",
       "</style>\n",
       "<table border=\"1\" class=\"dataframe\">\n",
       "  <thead>\n",
       "    <tr style=\"text-align: right;\">\n",
       "      <th></th>\n",
       "      <th>lr</th>\n",
       "      <th>dt</th>\n",
       "      <th>knn</th>\n",
       "    </tr>\n",
       "  </thead>\n",
       "  <tbody>\n",
       "    <tr>\n",
       "      <th>0</th>\n",
       "      <td>0.129657</td>\n",
       "      <td>1.0</td>\n",
       "      <td>0.2</td>\n",
       "    </tr>\n",
       "    <tr>\n",
       "      <th>1</th>\n",
       "      <td>0.074999</td>\n",
       "      <td>0.0</td>\n",
       "      <td>0.4</td>\n",
       "    </tr>\n",
       "    <tr>\n",
       "      <th>2</th>\n",
       "      <td>0.375781</td>\n",
       "      <td>1.0</td>\n",
       "      <td>0.0</td>\n",
       "    </tr>\n",
       "    <tr>\n",
       "      <th>3</th>\n",
       "      <td>0.080015</td>\n",
       "      <td>0.0</td>\n",
       "      <td>0.0</td>\n",
       "    </tr>\n",
       "    <tr>\n",
       "      <th>4</th>\n",
       "      <td>0.099784</td>\n",
       "      <td>0.0</td>\n",
       "      <td>0.2</td>\n",
       "    </tr>\n",
       "    <tr>\n",
       "      <th>...</th>\n",
       "      <td>...</td>\n",
       "      <td>...</td>\n",
       "      <td>...</td>\n",
       "    </tr>\n",
       "    <tr>\n",
       "      <th>2995</th>\n",
       "      <td>0.130498</td>\n",
       "      <td>0.0</td>\n",
       "      <td>0.2</td>\n",
       "    </tr>\n",
       "    <tr>\n",
       "      <th>2996</th>\n",
       "      <td>0.377430</td>\n",
       "      <td>0.0</td>\n",
       "      <td>0.0</td>\n",
       "    </tr>\n",
       "    <tr>\n",
       "      <th>2997</th>\n",
       "      <td>0.283408</td>\n",
       "      <td>0.0</td>\n",
       "      <td>0.2</td>\n",
       "    </tr>\n",
       "    <tr>\n",
       "      <th>2998</th>\n",
       "      <td>0.718007</td>\n",
       "      <td>0.0</td>\n",
       "      <td>0.0</td>\n",
       "    </tr>\n",
       "    <tr>\n",
       "      <th>2999</th>\n",
       "      <td>0.342436</td>\n",
       "      <td>0.0</td>\n",
       "      <td>0.2</td>\n",
       "    </tr>\n",
       "  </tbody>\n",
       "</table>\n",
       "<p>3000 rows × 3 columns</p>\n",
       "</div>"
      ],
      "text/plain": [
       "            lr   dt  knn\n",
       "0     0.129657  1.0  0.2\n",
       "1     0.074999  0.0  0.4\n",
       "2     0.375781  1.0  0.0\n",
       "3     0.080015  0.0  0.0\n",
       "4     0.099784  0.0  0.2\n",
       "...        ...  ...  ...\n",
       "2995  0.130498  0.0  0.2\n",
       "2996  0.377430  0.0  0.0\n",
       "2997  0.283408  0.0  0.2\n",
       "2998  0.718007  0.0  0.0\n",
       "2999  0.342436  0.0  0.2\n",
       "\n",
       "[3000 rows x 3 columns]"
      ]
     },
     "execution_count": 37,
     "metadata": {},
     "output_type": "execute_result"
    }
   ],
   "source": [
    "pred = pd.DataFrame({'lr': lr.predict_proba(x_test)[:,1],\n",
    "                     'dt': dt.predict_proba(x_test)[:,1], \n",
    "                     'knn':knn.predict_proba(x_test)[:,1]})\n",
    "pred"
   ]
  },
  {
   "cell_type": "code",
   "execution_count": 38,
   "id": "f4702b13",
   "metadata": {},
   "outputs": [
    {
     "data": {
      "text/plain": [
       "0       0.443219\n",
       "1       0.158333\n",
       "2       0.458594\n",
       "3       0.026672\n",
       "4       0.099928\n",
       "          ...   \n",
       "2995    0.110166\n",
       "2996    0.125810\n",
       "2997    0.161136\n",
       "2998    0.239336\n",
       "2999    0.180812\n",
       "Length: 3000, dtype: float64"
      ]
     },
     "execution_count": 38,
     "metadata": {},
     "output_type": "execute_result"
    }
   ],
   "source": [
    "pred.mean(axis=1)"
   ]
  },
  {
   "cell_type": "markdown",
   "id": "288d8d21",
   "metadata": {},
   "source": [
    "- sklearn.voting"
   ]
  },
  {
   "cell_type": "code",
   "execution_count": 39,
   "id": "37a2965f",
   "metadata": {},
   "outputs": [
    {
     "data": {
      "text/plain": [
       "VotingClassifier(estimators=[('LR', LogisticRegression()),\n",
       "                             ('DT', DecisionTreeClassifier()),\n",
       "                             ('KNN', KNeighborsClassifier())],\n",
       "                 voting='soft')"
      ]
     },
     "execution_count": 39,
     "metadata": {},
     "output_type": "execute_result"
    }
   ],
   "source": [
    "from sklearn.ensemble import VotingClassifier\n",
    "models = [('LR', lr),\n",
    "          ('DT', dt),\n",
    "          ('KNN', knn)]\n",
    "\n",
    "hard_vot = VotingClassifier(estimators=models, voting='hard')\n",
    "soft_vot = VotingClassifier(estimators=models, voting='soft')\n",
    "hard_vot.fit(x_train, y_train)\n",
    "soft_vot.fit(x_train, y_train)"
   ]
  },
  {
   "cell_type": "markdown",
   "id": "9274be55",
   "metadata": {},
   "source": [
    "- Evaluation"
   ]
  },
  {
   "cell_type": "code",
   "execution_count": 42,
   "id": "1dbb76c6",
   "metadata": {},
   "outputs": [
    {
     "name": "stdout",
     "output_type": "stream",
     "text": [
      "LogisticRegression ROC-AUC SCORE: 0.6514\n",
      "DecisionTreeClassifier ROC-AUC SCORE: 0.6843\n",
      "KNeighborsClassifier ROC-AUC SCORE: 0.5348\n",
      "VotingClassifier ROC-AUC SCORE: 0.5323\n",
      "VotingClassifier ROC-AUC SCORE: 0.7164\n"
     ]
    }
   ],
   "source": [
    "from sklearn.metrics import roc_auc_score\n",
    "my_models = [lr, dt, knn, hard_vot, soft_vot]\n",
    "for m in my_models:\n",
    "    try:\n",
    "        pred = m.predict_proba(x_test)[:,1]\n",
    "    except:\n",
    "        pred = m.predict(x_test)\n",
    "    name = m.__class__.__name__\n",
    "    score = roc_auc_score(y_test, pred)\n",
    "    print('{0} ROC-AUC SCORE: {1:.4f}'.format(name, score))"
   ]
  },
  {
   "cell_type": "markdown",
   "id": "55619304",
   "metadata": {},
   "source": [
    "### RandomForest"
   ]
  },
  {
   "cell_type": "code",
   "execution_count": 43,
   "id": "1ff4f2f0",
   "metadata": {},
   "outputs": [
    {
     "data": {
      "text/plain": [
       "RandomForestClassifier(max_depth=10)"
      ]
     },
     "execution_count": 43,
     "metadata": {},
     "output_type": "execute_result"
    }
   ],
   "source": [
    "from sklearn.ensemble import RandomForestClassifier\n",
    "rf = RandomForestClassifier(n_estimators=100, max_depth=10)\n",
    "rf.fit(x_train, y_train)"
   ]
  },
  {
   "cell_type": "code",
   "execution_count": 45,
   "id": "7ed99a59",
   "metadata": {},
   "outputs": [
    {
     "data": {
      "text/plain": [
       "VotingClassifier(estimators=[('LR', LogisticRegression()),\n",
       "                             ('DT', DecisionTreeClassifier()),\n",
       "                             ('RF', RandomForestClassifier(max_depth=10))],\n",
       "                 voting='soft')"
      ]
     },
     "execution_count": 45,
     "metadata": {},
     "output_type": "execute_result"
    }
   ],
   "source": [
    "models = [('LR',lr),\n",
    "          ('DT',dt),\n",
    "          ('RF',rf)]\n",
    "soft_vot_rf = VotingClassifier(estimators=models, voting='soft')\n",
    "soft_vot_rf.fit(x_train, y_train)"
   ]
  },
  {
   "cell_type": "code",
   "execution_count": 46,
   "id": "4931cbc5",
   "metadata": {},
   "outputs": [
    {
     "name": "stdout",
     "output_type": "stream",
     "text": [
      "LogisticRegression ROC-AUC SCORE: 0.6514\n",
      "DecisionTreeClassifier ROC-AUC SCORE: 0.6843\n",
      "KNeighborsClassifier ROC-AUC SCORE: 0.5348\n",
      "VotingClassifier ROC-AUC SCORE: 0.7164\n",
      "RandomForestClassifier ROC-AUC SCORE: 0.8568\n",
      "VotingClassifier ROC-AUC SCORE: 0.8112\n"
     ]
    }
   ],
   "source": [
    "my_models = [lr, dt, knn, soft_vot, rf, soft_vot_rf]\n",
    "for m in my_models:\n",
    "    try:\n",
    "        pred = m.predict_proba(x_test)[:,1]\n",
    "    except:\n",
    "        pred = m.predict(x_test)\n",
    "    name = m.__class__.__name__\n",
    "    score = roc_auc_score(y_test, pred)\n",
    "    print('{0} ROC-AUC SCORE: {1:.4f}'.format(name, score))"
   ]
  },
  {
   "cell_type": "code",
   "execution_count": 48,
   "id": "a83ae498",
   "metadata": {},
   "outputs": [
    {
     "data": {
      "text/plain": [
       "Age                0.338442\n",
       "NumOfProducts      0.210449\n",
       "Balance            0.111499\n",
       "CreditScore        0.098475\n",
       "EstimatedSalary    0.091422\n",
       "IsActiveMember     0.069536\n",
       "Tenure             0.049001\n",
       "Gender             0.020137\n",
       "HasCrCard          0.011039\n",
       "dtype: float64"
      ]
     },
     "execution_count": 48,
     "metadata": {},
     "output_type": "execute_result"
    }
   ],
   "source": [
    "pd.Series(rf.feature_importances_, index=x_train.columns).sort_values(ascending=False)"
   ]
  },
  {
   "cell_type": "code",
   "execution_count": 50,
   "id": "a55e2b94",
   "metadata": {},
   "outputs": [
    {
     "data": {
      "image/png": "[encoded data removed]",
      "text/plain": [
       "<Figure size 1008x432 with 2 Axes>"
      ]
     },
     "metadata": {
      "needs_background": "light"
     },
     "output_type": "display_data"
    }
   ],
   "source": [
    "fig, ax = plt.subplots(ncols=2, figsize=(14,6))\n",
    "sns.barplot(x=dt.feature_importances_, y=x_train.columns, ax=ax[0])\n",
    "sns.barplot(x=rf.feature_importances_, y=x_train.columns, ax=ax[1]);"
   ]
  },
  {
   "cell_type": "markdown",
   "id": "74a26a3f",
   "metadata": {},
   "source": [
    "### AdaBoosting"
   ]
  },
  {
   "cell_type": "code",
   "execution_count": 52,
   "id": "20072e6b",
   "metadata": {},
   "outputs": [
    {
     "data": {
      "text/plain": [
       "AdaBoostClassifier(base_estimator=DecisionTreeClassifier(), learning_rate=0.3)"
      ]
     },
     "execution_count": 52,
     "metadata": {},
     "output_type": "execute_result"
    }
   ],
   "source": [
    "from sklearn.ensemble import AdaBoostClassifier\n",
    "ada = AdaBoostClassifier(base_estimator=dt, learning_rate=0.3)\n",
    "ada.fit(x_train, y_train)"
   ]
  },
  {
   "cell_type": "code",
   "execution_count": 53,
   "id": "ae30a5a1",
   "metadata": {},
   "outputs": [
    {
     "name": "stdout",
     "output_type": "stream",
     "text": [
      "LogisticRegression ROC-AUC SCORE: 0.6514\n",
      "DecisionTreeClassifier ROC-AUC SCORE: 0.6843\n",
      "KNeighborsClassifier ROC-AUC SCORE: 0.5348\n",
      "VotingClassifier ROC-AUC SCORE: 0.7164\n",
      "RandomForestClassifier ROC-AUC SCORE: 0.8568\n",
      "VotingClassifier ROC-AUC SCORE: 0.8112\n",
      "AdaBoostClassifier ROC-AUC SCORE: 0.6759\n"
     ]
    }
   ],
   "source": [
    "my_models = [lr, dt, knn, soft_vot, rf, soft_vot_rf, ada]\n",
    "for m in my_models:\n",
    "    try:\n",
    "        pred = m.predict_proba(x_test)[:,1]\n",
    "    except:\n",
    "        pred = m.predict(x_test)\n",
    "    name = m.__class__.__name__\n",
    "    score = roc_auc_score(y_test, pred)\n",
    "    print('{0} ROC-AUC SCORE: {1:.4f}'.format(name, score))"
   ]
  },
  {
   "cell_type": "markdown",
   "id": "3e9f0f96",
   "metadata": {},
   "source": [
    "### GradientBoosting"
   ]
  },
  {
   "cell_type": "code",
   "execution_count": 55,
   "id": "0d9fe22b",
   "metadata": {},
   "outputs": [
    {
     "data": {
      "text/plain": [
       "GradientBoostingClassifier()"
      ]
     },
     "execution_count": 55,
     "metadata": {},
     "output_type": "execute_result"
    }
   ],
   "source": [
    "from sklearn.ensemble import GradientBoostingClassifier\n",
    "gbm = GradientBoostingClassifier()\n",
    "gbm.fit(x_train, y_train)"
   ]
  },
  {
   "cell_type": "code",
   "execution_count": 56,
   "id": "8476ceda",
   "metadata": {},
   "outputs": [
    {
     "name": "stdout",
     "output_type": "stream",
     "text": [
      "LogisticRegression ROC-AUC SCORE: 0.6514\n",
      "DecisionTreeClassifier ROC-AUC SCORE: 0.6843\n",
      "KNeighborsClassifier ROC-AUC SCORE: 0.5348\n",
      "VotingClassifier ROC-AUC SCORE: 0.7164\n",
      "RandomForestClassifier ROC-AUC SCORE: 0.8568\n",
      "VotingClassifier ROC-AUC SCORE: 0.8112\n",
      "AdaBoostClassifier ROC-AUC SCORE: 0.6759\n",
      "GradientBoostingClassifier ROC-AUC SCORE: 0.8622\n"
     ]
    }
   ],
   "source": [
    "my_models = [lr, dt, knn, soft_vot, rf, soft_vot_rf, ada, gbm]\n",
    "for m in my_models:\n",
    "    try:\n",
    "        pred = m.predict_proba(x_test)[:,1]\n",
    "    except:\n",
    "        pred = m.predict(x_test)\n",
    "    name = m.__class__.__name__\n",
    "    score = roc_auc_score(y_test, pred)\n",
    "    print('{0} ROC-AUC SCORE: {1:.4f}'.format(name, score))"
   ]
  }
 ],
 "metadata": {
  "kernelspec": {
   "display_name": "Python 3 (ipykernel)",
   "language": "python",
   "name": "python3"
  },
  "language_info": {
   "codemirror_mode": {
    "name": "ipython",
    "version": 3
   },
   "file_extension": ".py",
   "mimetype": "text/x-python",
   "name": "python",
   "nbconvert_exporter": "python",
   "pygments_lexer": "ipython3",
   "version": "3.9.7"
  }
 },
 "nbformat": 4,
 "nbformat_minor": 5
}
