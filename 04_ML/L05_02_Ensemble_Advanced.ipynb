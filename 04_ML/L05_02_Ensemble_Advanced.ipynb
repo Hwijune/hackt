{
 "cells": [
  {
   "cell_type": "markdown",
   "metadata": {},
   "source": [
    "- LogisticRegression ROC-AUC SCORE:0.6514\n",
    "- DecisionTreeClassifier ROC-AUC SCORE:  0.6788\n",
    "- KNeighborsClassifier ROC-AUC SCORE:  0.5348\n",
    "- VotingClassifier ROC-AUC SCORE:  0.7180\n",
    "- RandomForestClassifier ROC-AUC SCORE:  0.8571\n",
    "- AdaBoostClassifier ROC-AUC SCORE:  0.6767\n",
    "- GradientBoostingClassifier ROC-AUC SCORE:  0.8622"
   ]
  },
  {
   "cell_type": "code",
   "execution_count": 1,
   "metadata": {},
   "outputs": [],
   "source": [
    "import pandas as pd\n",
    "import numpy as np\n",
    "import matplotlib.pyplot as plt\n",
    "import seaborn as sns\n",
    "%matplotlib inline"
   ]
  },
  {
   "cell_type": "code",
   "execution_count": 2,
   "metadata": {},
   "outputs": [],
   "source": [
    "churn = pd.read_csv('data/churn_ver02.csv')\n",
    "np.random.seed(123)\n",
    "target = churn.Exited\n",
    "churn = churn.drop(columns='Exited')\n",
    "from sklearn.model_selection import train_test_split\n",
    "x_train, x_test, y_train, y_test = train_test_split(churn, target, test_size=0.3,\n",
    "                                                   stratify=target)"
   ]
  },
  {
   "cell_type": "markdown",
   "metadata": {},
   "source": [
    "- XGBoost"
   ]
  },
  {
   "cell_type": "code",
   "execution_count": 3,
   "metadata": {},
   "outputs": [],
   "source": [
    "import xgboost as XGB # Native XGB\n",
    "from xgboost import XGBClassifier # Sklearn-Wrapper\n",
    "from xgboost import XGBRegressor "
   ]
  },
  {
   "cell_type": "code",
   "execution_count": 4,
   "metadata": {},
   "outputs": [],
   "source": [
    "xgb = XGBClassifier(n_estimators=300, objective='binary:logistic',\n",
    "                    learning_rate=0.1, max_depth=8)\n",
    "evals = [(x_test, y_test)]"
   ]
  },
  {
   "cell_type": "code",
   "execution_count": 5,
   "metadata": {
    "scrolled": true
   },
   "outputs": [
    {
     "name": "stdout",
     "output_type": "stream",
     "text": [
      "[0]\tvalidation_0-auc:0.84320\n",
      "[1]\tvalidation_0-auc:0.84383\n",
      "[2]\tvalidation_0-auc:0.84433\n",
      "[3]\tvalidation_0-auc:0.84717\n",
      "[4]\tvalidation_0-auc:0.84879\n",
      "[5]\tvalidation_0-auc:0.84674\n",
      "[6]\tvalidation_0-auc:0.84561\n",
      "[7]\tvalidation_0-auc:0.84579\n",
      "[8]\tvalidation_0-auc:0.84664\n",
      "[9]\tvalidation_0-auc:0.84653\n",
      "[10]\tvalidation_0-auc:0.84629\n",
      "[11]\tvalidation_0-auc:0.84575\n",
      "[12]\tvalidation_0-auc:0.84533\n",
      "[13]\tvalidation_0-auc:0.84622\n",
      "[14]\tvalidation_0-auc:0.84654\n",
      "[15]\tvalidation_0-auc:0.84624\n",
      "[16]\tvalidation_0-auc:0.84611\n",
      "[17]\tvalidation_0-auc:0.84618\n",
      "[18]\tvalidation_0-auc:0.84570\n",
      "[19]\tvalidation_0-auc:0.84619\n",
      "[20]\tvalidation_0-auc:0.84549\n",
      "[21]\tvalidation_0-auc:0.84594\n",
      "[22]\tvalidation_0-auc:0.84533\n",
      "[23]\tvalidation_0-auc:0.84519\n",
      "[24]\tvalidation_0-auc:0.84517\n",
      "[25]\tvalidation_0-auc:0.84480\n",
      "[26]\tvalidation_0-auc:0.84515\n",
      "[27]\tvalidation_0-auc:0.84575\n",
      "[28]\tvalidation_0-auc:0.84550\n",
      "[29]\tvalidation_0-auc:0.84554\n",
      "[30]\tvalidation_0-auc:0.84568\n",
      "[31]\tvalidation_0-auc:0.84638\n",
      "[32]\tvalidation_0-auc:0.84669\n",
      "[33]\tvalidation_0-auc:0.84695\n",
      "[34]\tvalidation_0-auc:0.84610\n",
      "[35]\tvalidation_0-auc:0.84623\n",
      "[36]\tvalidation_0-auc:0.84563\n",
      "[37]\tvalidation_0-auc:0.84577\n",
      "[38]\tvalidation_0-auc:0.84592\n",
      "[39]\tvalidation_0-auc:0.84617\n",
      "[40]\tvalidation_0-auc:0.84689\n",
      "[41]\tvalidation_0-auc:0.84715\n",
      "[42]\tvalidation_0-auc:0.84720\n"
     ]
    },
    {
     "name": "stderr",
     "output_type": "stream",
     "text": [
      "C:\\Users\\MOON\\AppData\\Roaming\\Python\\Python38\\site-packages\\xgboost\\sklearn.py:1224: UserWarning: The use of label encoder in XGBClassifier is deprecated and will be removed in a future release. To remove this warning, do the following: 1) Pass option use_label_encoder=False when constructing XGBClassifier object; and 2) Encode your labels (y) as integers starting with 0, i.e. 0, 1, 2, ..., [num_class - 1].\n",
      "  warnings.warn(label_encoder_deprecation_msg, UserWarning)\n"
     ]
    },
    {
     "name": "stdout",
     "output_type": "stream",
     "text": [
      "[43]\tvalidation_0-auc:0.84696\n",
      "[44]\tvalidation_0-auc:0.84700\n",
      "[45]\tvalidation_0-auc:0.84713\n",
      "[46]\tvalidation_0-auc:0.84708\n",
      "[47]\tvalidation_0-auc:0.84718\n",
      "[48]\tvalidation_0-auc:0.84715\n",
      "[49]\tvalidation_0-auc:0.84716\n",
      "[50]\tvalidation_0-auc:0.84720\n",
      "[51]\tvalidation_0-auc:0.84716\n",
      "[52]\tvalidation_0-auc:0.84683\n",
      "[53]\tvalidation_0-auc:0.84642\n",
      "[54]\tvalidation_0-auc:0.84678\n",
      "[55]\tvalidation_0-auc:0.84660\n",
      "[56]\tvalidation_0-auc:0.84649\n",
      "[57]\tvalidation_0-auc:0.84633\n",
      "[58]\tvalidation_0-auc:0.84647\n",
      "[59]\tvalidation_0-auc:0.84666\n",
      "[60]\tvalidation_0-auc:0.84661\n",
      "[61]\tvalidation_0-auc:0.84640\n",
      "[62]\tvalidation_0-auc:0.84640\n",
      "[63]\tvalidation_0-auc:0.84652\n",
      "[64]\tvalidation_0-auc:0.84664\n",
      "[65]\tvalidation_0-auc:0.84678\n",
      "[66]\tvalidation_0-auc:0.84710\n",
      "[67]\tvalidation_0-auc:0.84677\n",
      "[68]\tvalidation_0-auc:0.84674\n",
      "[69]\tvalidation_0-auc:0.84677\n",
      "[70]\tvalidation_0-auc:0.84676\n",
      "[71]\tvalidation_0-auc:0.84672\n",
      "[72]\tvalidation_0-auc:0.84681\n",
      "[73]\tvalidation_0-auc:0.84671\n",
      "[74]\tvalidation_0-auc:0.84682\n",
      "[75]\tvalidation_0-auc:0.84654\n",
      "[76]\tvalidation_0-auc:0.84645\n",
      "[77]\tvalidation_0-auc:0.84654\n",
      "[78]\tvalidation_0-auc:0.84650\n",
      "[79]\tvalidation_0-auc:0.84671\n",
      "[80]\tvalidation_0-auc:0.84666\n",
      "[81]\tvalidation_0-auc:0.84666\n",
      "[82]\tvalidation_0-auc:0.84686\n",
      "[83]\tvalidation_0-auc:0.84687\n",
      "[84]\tvalidation_0-auc:0.84688\n",
      "[85]\tvalidation_0-auc:0.84676\n",
      "[86]\tvalidation_0-auc:0.84689\n",
      "[87]\tvalidation_0-auc:0.84661\n",
      "[88]\tvalidation_0-auc:0.84636\n",
      "[89]\tvalidation_0-auc:0.84623\n",
      "[90]\tvalidation_0-auc:0.84625\n",
      "[91]\tvalidation_0-auc:0.84620\n",
      "[92]\tvalidation_0-auc:0.84639\n",
      "[93]\tvalidation_0-auc:0.84634\n",
      "[94]\tvalidation_0-auc:0.84599\n",
      "[95]\tvalidation_0-auc:0.84627\n",
      "[96]\tvalidation_0-auc:0.84618\n",
      "[97]\tvalidation_0-auc:0.84605\n",
      "[98]\tvalidation_0-auc:0.84600\n",
      "[99]\tvalidation_0-auc:0.84601\n",
      "[100]\tvalidation_0-auc:0.84588\n",
      "[101]\tvalidation_0-auc:0.84580\n",
      "[102]\tvalidation_0-auc:0.84561\n",
      "[103]\tvalidation_0-auc:0.84557\n",
      "[104]\tvalidation_0-auc:0.84523\n"
     ]
    },
    {
     "data": {
      "text/plain": [
       "XGBClassifier(base_score=0.5, booster='gbtree', colsample_bylevel=1,\n",
       "              colsample_bynode=1, colsample_bytree=1, enable_categorical=False,\n",
       "              gamma=0, gpu_id=-1, importance_type=None,\n",
       "              interaction_constraints='', learning_rate=0.1, max_delta_step=0,\n",
       "              max_depth=8, min_child_weight=1, missing=nan,\n",
       "              monotone_constraints='()', n_estimators=300, n_jobs=16,\n",
       "              num_parallel_tree=1, predictor='auto', random_state=0,\n",
       "              reg_alpha=0, reg_lambda=1, scale_pos_weight=1, subsample=1,\n",
       "              tree_method='exact', validate_parameters=1, verbosity=None)"
      ]
     },
     "execution_count": 5,
     "metadata": {},
     "output_type": "execute_result"
    }
   ],
   "source": [
    "xgb.fit(x_train, y_train, eval_metric='auc', eval_set=evals,\n",
    "        early_stopping_rounds=100, verbose=True)"
   ]
  },
  {
   "cell_type": "code",
   "execution_count": 6,
   "metadata": {},
   "outputs": [
    {
     "data": {
      "text/plain": [
       "0.8487934676048637"
      ]
     },
     "execution_count": 6,
     "metadata": {},
     "output_type": "execute_result"
    }
   ],
   "source": [
    "pred = xgb.predict_proba(x_test)[:,1]\n",
    "from sklearn.metrics import roc_auc_score\n",
    "roc_auc_score(y_test, pred)"
   ]
  },
  {
   "cell_type": "code",
   "execution_count": 8,
   "metadata": {},
   "outputs": [
    {
     "data": {
      "text/plain": [
       "array([0.04637682, 0.06089722, 0.156026  , 0.04205977, 0.0627797 ,\n",
       "       0.34215125, 0.04021   , 0.20031066, 0.04918856], dtype=float32)"
      ]
     },
     "execution_count": 8,
     "metadata": {},
     "output_type": "execute_result"
    }
   ],
   "source": [
    "xgb.feature_importances_"
   ]
  },
  {
   "cell_type": "code",
   "execution_count": 7,
   "metadata": {},
   "outputs": [
    {
     "data": {
      "image/png": "[encoded data removed]",
      "text/plain": [
       "<Figure size 720x864 with 1 Axes>"
      ]
     },
     "metadata": {
      "needs_background": "light"
     },
     "output_type": "display_data"
    }
   ],
   "source": [
    "from xgboost import plot_importance\n",
    "fig, ax = plt.subplots(figsize=(10,12))\n",
    "plot_importance(xgb, ax=ax);"
   ]
  },
  {
   "cell_type": "markdown",
   "metadata": {},
   "source": [
    "- LGBM"
   ]
  },
  {
   "cell_type": "code",
   "execution_count": 9,
   "metadata": {},
   "outputs": [],
   "source": [
    "from lightgbm import LGBMClassifier # Wrapper-Class\n",
    "from lightgbm import LGBMRegressor"
   ]
  },
  {
   "cell_type": "code",
   "execution_count": 10,
   "metadata": {},
   "outputs": [
    {
     "name": "stdout",
     "output_type": "stream",
     "text": [
      "[1]\tvalid_0's auc: 0.835543\tvalid_0's binary_logloss: 0.473504\n",
      "[2]\tvalid_0's auc: 0.843721\tvalid_0's binary_logloss: 0.451172\n",
      "[3]\tvalid_0's auc: 0.845975\tvalid_0's binary_logloss: 0.433541\n",
      "[4]\tvalid_0's auc: 0.848559\tvalid_0's binary_logloss: 0.419683\n",
      "[5]\tvalid_0's auc: 0.847577\tvalid_0's binary_logloss: 0.408739\n",
      "[6]\tvalid_0's auc: 0.850182\tvalid_0's binary_logloss: 0.39898\n",
      "[7]\tvalid_0's auc: 0.849925\tvalid_0's binary_logloss: 0.391279\n",
      "[8]\tvalid_0's auc: 0.851725\tvalid_0's binary_logloss: 0.384483\n",
      "[9]\tvalid_0's auc: 0.852526\tvalid_0's binary_logloss: 0.378761\n",
      "[10]\tvalid_0's auc: 0.853291\tvalid_0's binary_logloss: 0.374177\n",
      "[11]\tvalid_0's auc: 0.852543\tvalid_0's binary_logloss: 0.370481\n",
      "[12]\tvalid_0's auc: 0.853208\tvalid_0's binary_logloss: 0.367122\n",
      "[13]\tvalid_0's auc: 0.854002\tvalid_0's binary_logloss: 0.363685\n",
      "[14]\tvalid_0's auc: 0.853152\tvalid_0's binary_logloss: 0.361619\n",
      "[15]\tvalid_0's auc: 0.852958\tvalid_0's binary_logloss: 0.359392\n",
      "[16]\tvalid_0's auc: 0.853137\tvalid_0's binary_logloss: 0.357749\n",
      "[17]\tvalid_0's auc: 0.854355\tvalid_0's binary_logloss: 0.355963\n",
      "[18]\tvalid_0's auc: 0.854842\tvalid_0's binary_logloss: 0.354018\n",
      "[19]\tvalid_0's auc: 0.855424\tvalid_0's binary_logloss: 0.352371\n",
      "[20]\tvalid_0's auc: 0.855102\tvalid_0's binary_logloss: 0.351339\n",
      "[21]\tvalid_0's auc: 0.855552\tvalid_0's binary_logloss: 0.3503\n",
      "[22]\tvalid_0's auc: 0.855647\tvalid_0's binary_logloss: 0.349653\n",
      "[23]\tvalid_0's auc: 0.855554\tvalid_0's binary_logloss: 0.349028\n",
      "[24]\tvalid_0's auc: 0.855568\tvalid_0's binary_logloss: 0.348534\n",
      "[25]\tvalid_0's auc: 0.85588\tvalid_0's binary_logloss: 0.347976\n",
      "[26]\tvalid_0's auc: 0.855425\tvalid_0's binary_logloss: 0.34783\n",
      "[27]\tvalid_0's auc: 0.855449\tvalid_0's binary_logloss: 0.347277\n",
      "[28]\tvalid_0's auc: 0.855497\tvalid_0's binary_logloss: 0.346923\n",
      "[29]\tvalid_0's auc: 0.855196\tvalid_0's binary_logloss: 0.346557\n",
      "[30]\tvalid_0's auc: 0.855078\tvalid_0's binary_logloss: 0.346109\n",
      "[31]\tvalid_0's auc: 0.855451\tvalid_0's binary_logloss: 0.345679\n",
      "[32]\tvalid_0's auc: 0.855215\tvalid_0's binary_logloss: 0.345565\n",
      "[33]\tvalid_0's auc: 0.855693\tvalid_0's binary_logloss: 0.344993\n",
      "[34]\tvalid_0's auc: 0.855469\tvalid_0's binary_logloss: 0.345047\n",
      "[35]\tvalid_0's auc: 0.85558\tvalid_0's binary_logloss: 0.34478\n",
      "[36]\tvalid_0's auc: 0.855341\tvalid_0's binary_logloss: 0.344561\n",
      "[37]\tvalid_0's auc: 0.855461\tvalid_0's binary_logloss: 0.34434\n",
      "[38]\tvalid_0's auc: 0.854782\tvalid_0's binary_logloss: 0.344732\n",
      "[39]\tvalid_0's auc: 0.855211\tvalid_0's binary_logloss: 0.344486\n",
      "[40]\tvalid_0's auc: 0.855617\tvalid_0's binary_logloss: 0.344188\n",
      "[41]\tvalid_0's auc: 0.855371\tvalid_0's binary_logloss: 0.344234\n",
      "[42]\tvalid_0's auc: 0.854884\tvalid_0's binary_logloss: 0.344444\n",
      "[43]\tvalid_0's auc: 0.854948\tvalid_0's binary_logloss: 0.344298\n",
      "[44]\tvalid_0's auc: 0.855239\tvalid_0's binary_logloss: 0.344022\n",
      "[45]\tvalid_0's auc: 0.854926\tvalid_0's binary_logloss: 0.344382\n",
      "[46]\tvalid_0's auc: 0.855011\tvalid_0's binary_logloss: 0.344137\n",
      "[47]\tvalid_0's auc: 0.854861\tvalid_0's binary_logloss: 0.344119\n",
      "[48]\tvalid_0's auc: 0.854785\tvalid_0's binary_logloss: 0.344399\n",
      "[49]\tvalid_0's auc: 0.855033\tvalid_0's binary_logloss: 0.344021\n",
      "[50]\tvalid_0's auc: 0.854906\tvalid_0's binary_logloss: 0.344199\n",
      "[51]\tvalid_0's auc: 0.85476\tvalid_0's binary_logloss: 0.344258\n",
      "[52]\tvalid_0's auc: 0.854598\tvalid_0's binary_logloss: 0.344314\n",
      "[53]\tvalid_0's auc: 0.85448\tvalid_0's binary_logloss: 0.34432\n",
      "[54]\tvalid_0's auc: 0.854023\tvalid_0's binary_logloss: 0.344729\n",
      "[55]\tvalid_0's auc: 0.85404\tvalid_0's binary_logloss: 0.344721\n",
      "[56]\tvalid_0's auc: 0.853697\tvalid_0's binary_logloss: 0.344938\n",
      "[57]\tvalid_0's auc: 0.853584\tvalid_0's binary_logloss: 0.345094\n",
      "[58]\tvalid_0's auc: 0.853477\tvalid_0's binary_logloss: 0.345339\n",
      "[59]\tvalid_0's auc: 0.853912\tvalid_0's binary_logloss: 0.344932\n",
      "[60]\tvalid_0's auc: 0.853796\tvalid_0's binary_logloss: 0.345189\n",
      "[61]\tvalid_0's auc: 0.853791\tvalid_0's binary_logloss: 0.345134\n",
      "[62]\tvalid_0's auc: 0.853643\tvalid_0's binary_logloss: 0.345157\n",
      "[63]\tvalid_0's auc: 0.853329\tvalid_0's binary_logloss: 0.345464\n",
      "[64]\tvalid_0's auc: 0.8531\tvalid_0's binary_logloss: 0.345618\n",
      "[65]\tvalid_0's auc: 0.853133\tvalid_0's binary_logloss: 0.345705\n",
      "[66]\tvalid_0's auc: 0.852885\tvalid_0's binary_logloss: 0.346142\n",
      "[67]\tvalid_0's auc: 0.852764\tvalid_0's binary_logloss: 0.346137\n",
      "[68]\tvalid_0's auc: 0.852128\tvalid_0's binary_logloss: 0.346466\n",
      "[69]\tvalid_0's auc: 0.852409\tvalid_0's binary_logloss: 0.346196\n",
      "[70]\tvalid_0's auc: 0.852398\tvalid_0's binary_logloss: 0.346176\n",
      "[71]\tvalid_0's auc: 0.85215\tvalid_0's binary_logloss: 0.346356\n",
      "[72]\tvalid_0's auc: 0.852034\tvalid_0's binary_logloss: 0.346493\n",
      "[73]\tvalid_0's auc: 0.852152\tvalid_0's binary_logloss: 0.34662\n",
      "[74]\tvalid_0's auc: 0.851817\tvalid_0's binary_logloss: 0.346779\n",
      "[75]\tvalid_0's auc: 0.851748\tvalid_0's binary_logloss: 0.346978\n",
      "[76]\tvalid_0's auc: 0.851774\tvalid_0's binary_logloss: 0.346959\n",
      "[77]\tvalid_0's auc: 0.851534\tvalid_0's binary_logloss: 0.347219\n",
      "[78]\tvalid_0's auc: 0.851439\tvalid_0's binary_logloss: 0.347188\n",
      "[79]\tvalid_0's auc: 0.850823\tvalid_0's binary_logloss: 0.347748\n",
      "[80]\tvalid_0's auc: 0.850544\tvalid_0's binary_logloss: 0.348098\n",
      "[81]\tvalid_0's auc: 0.850404\tvalid_0's binary_logloss: 0.34798\n",
      "[82]\tvalid_0's auc: 0.850233\tvalid_0's binary_logloss: 0.347923\n",
      "[83]\tvalid_0's auc: 0.849651\tvalid_0's binary_logloss: 0.348421\n",
      "[84]\tvalid_0's auc: 0.849759\tvalid_0's binary_logloss: 0.348524\n",
      "[85]\tvalid_0's auc: 0.849747\tvalid_0's binary_logloss: 0.348657\n",
      "[86]\tvalid_0's auc: 0.849512\tvalid_0's binary_logloss: 0.348967\n",
      "[87]\tvalid_0's auc: 0.849662\tvalid_0's binary_logloss: 0.348844\n",
      "[88]\tvalid_0's auc: 0.849672\tvalid_0's binary_logloss: 0.348987\n",
      "[89]\tvalid_0's auc: 0.849502\tvalid_0's binary_logloss: 0.349092\n",
      "[90]\tvalid_0's auc: 0.849273\tvalid_0's binary_logloss: 0.349334\n",
      "[91]\tvalid_0's auc: 0.848741\tvalid_0's binary_logloss: 0.349824\n",
      "[92]\tvalid_0's auc: 0.848556\tvalid_0's binary_logloss: 0.349899\n",
      "[93]\tvalid_0's auc: 0.848405\tvalid_0's binary_logloss: 0.350091\n",
      "[94]\tvalid_0's auc: 0.84818\tvalid_0's binary_logloss: 0.350299\n",
      "[95]\tvalid_0's auc: 0.848019\tvalid_0's binary_logloss: 0.350644\n",
      "[96]\tvalid_0's auc: 0.847682\tvalid_0's binary_logloss: 0.350997\n",
      "[97]\tvalid_0's auc: 0.847645\tvalid_0's binary_logloss: 0.350901\n",
      "[98]\tvalid_0's auc: 0.847149\tvalid_0's binary_logloss: 0.351227\n",
      "[99]\tvalid_0's auc: 0.847396\tvalid_0's binary_logloss: 0.351057\n",
      "[100]\tvalid_0's auc: 0.847192\tvalid_0's binary_logloss: 0.35133\n",
      "[101]\tvalid_0's auc: 0.847397\tvalid_0's binary_logloss: 0.351129\n",
      "[102]\tvalid_0's auc: 0.847711\tvalid_0's binary_logloss: 0.350836\n",
      "[103]\tvalid_0's auc: 0.847531\tvalid_0's binary_logloss: 0.351151\n",
      "[104]\tvalid_0's auc: 0.847386\tvalid_0's binary_logloss: 0.351402\n",
      "[105]\tvalid_0's auc: 0.847305\tvalid_0's binary_logloss: 0.351541\n",
      "[106]\tvalid_0's auc: 0.846987\tvalid_0's binary_logloss: 0.351754\n",
      "[107]\tvalid_0's auc: 0.847013\tvalid_0's binary_logloss: 0.351845\n",
      "[108]\tvalid_0's auc: 0.846852\tvalid_0's binary_logloss: 0.352108\n",
      "[109]\tvalid_0's auc: 0.84695\tvalid_0's binary_logloss: 0.352138\n",
      "[110]\tvalid_0's auc: 0.846927\tvalid_0's binary_logloss: 0.352237\n",
      "[111]\tvalid_0's auc: 0.846537\tvalid_0's binary_logloss: 0.352519\n",
      "[112]\tvalid_0's auc: 0.846526\tvalid_0's binary_logloss: 0.352682\n",
      "[113]\tvalid_0's auc: 0.84633\tvalid_0's binary_logloss: 0.352869\n",
      "[114]\tvalid_0's auc: 0.846234\tvalid_0's binary_logloss: 0.352927\n",
      "[115]\tvalid_0's auc: 0.846038\tvalid_0's binary_logloss: 0.353085\n",
      "[116]\tvalid_0's auc: 0.845841\tvalid_0's binary_logloss: 0.353338\n",
      "[117]\tvalid_0's auc: 0.845526\tvalid_0's binary_logloss: 0.353627\n",
      "[118]\tvalid_0's auc: 0.845331\tvalid_0's binary_logloss: 0.353926\n",
      "[119]\tvalid_0's auc: 0.845189\tvalid_0's binary_logloss: 0.354127\n",
      "[120]\tvalid_0's auc: 0.845254\tvalid_0's binary_logloss: 0.354163\n",
      "[121]\tvalid_0's auc: 0.845106\tvalid_0's binary_logloss: 0.354292\n",
      "[122]\tvalid_0's auc: 0.844666\tvalid_0's binary_logloss: 0.354726\n",
      "[123]\tvalid_0's auc: 0.844857\tvalid_0's binary_logloss: 0.354648\n",
      "[124]\tvalid_0's auc: 0.844899\tvalid_0's binary_logloss: 0.354695\n",
      "[125]\tvalid_0's auc: 0.844794\tvalid_0's binary_logloss: 0.355014\n"
     ]
    },
    {
     "name": "stderr",
     "output_type": "stream",
     "text": [
      "C:\\Users\\MOON\\AppData\\Roaming\\Python\\Python38\\site-packages\\lightgbm\\sklearn.py:726: UserWarning: 'early_stopping_rounds' argument is deprecated and will be removed in a future release of LightGBM. Pass 'early_stopping()' callback via 'callbacks' argument instead.\n",
      "  _log_warning(\"'early_stopping_rounds' argument is deprecated and will be removed in a future release of LightGBM. \"\n",
      "C:\\Users\\MOON\\AppData\\Roaming\\Python\\Python38\\site-packages\\lightgbm\\sklearn.py:736: UserWarning: 'verbose' argument is deprecated and will be removed in a future release of LightGBM. Pass 'log_evaluation()' callback via 'callbacks' argument instead.\n",
      "  _log_warning(\"'verbose' argument is deprecated and will be removed in a future release of LightGBM. \"\n"
     ]
    },
    {
     "data": {
      "text/plain": [
       "LGBMClassifier(max_depth=8, n_estimators=300, objective='binary')"
      ]
     },
     "execution_count": 10,
     "metadata": {},
     "output_type": "execute_result"
    }
   ],
   "source": [
    "lgbm = LGBMClassifier(n_estimators=300, objective='binary',\n",
    "                      learning_rate=0.1, max_depth=8)\n",
    "lgbm.fit(x_train, y_train, eval_metric='auc', eval_set=evals,\n",
    "        early_stopping_rounds=100, verbose=True)"
   ]
  },
  {
   "cell_type": "code",
   "execution_count": 11,
   "metadata": {},
   "outputs": [
    {
     "data": {
      "text/plain": [
       "0.8558799571686652"
      ]
     },
     "execution_count": 11,
     "metadata": {},
     "output_type": "execute_result"
    }
   ],
   "source": [
    "pred = lgbm.predict_proba(x_test)[:,1]\n",
    "roc_auc_score(y_test,pred)"
   ]
  },
  {
   "cell_type": "code",
   "execution_count": 14,
   "metadata": {},
   "outputs": [
    {
     "data": {
      "text/plain": [
       "array([ 91,  44, 141,  38, 180, 116,   4,  46,  90])"
      ]
     },
     "execution_count": 14,
     "metadata": {},
     "output_type": "execute_result"
    }
   ],
   "source": [
    "lgbm.feature_importances_"
   ]
  },
  {
   "cell_type": "code",
   "execution_count": 12,
   "metadata": {},
   "outputs": [
    {
     "data": {
      "image/png": "[encoded data removed]",
      "text/plain": [
       "<Figure size 720x864 with 1 Axes>"
      ]
     },
     "metadata": {
      "needs_background": "light"
     },
     "output_type": "display_data"
    }
   ],
   "source": [
    "from lightgbm import plot_importance\n",
    "fig, ax = plt.subplots(figsize=(10,12))\n",
    "plot_importance(lgbm, ax=ax);"
   ]
  }
 ],
 "metadata": {
  "kernelspec": {
   "display_name": "Python 3 (ipykernel)",
   "language": "python",
   "name": "python3"
  },
  "language_info": {
   "codemirror_mode": {
    "name": "ipython",
    "version": 3
   },
   "file_extension": ".py",
   "mimetype": "text/x-python",
   "name": "python",
   "nbconvert_exporter": "python",
   "pygments_lexer": "ipython3",
   "version": "3.9.7"
  }
 },
 "nbformat": 4,
 "nbformat_minor": 4
}
