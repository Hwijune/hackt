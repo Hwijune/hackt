{
 "cells": [
  {
   "cell_type": "markdown",
   "metadata": {},
   "source": [
    "- LogisticRegression ROC-AUC SCORE:0.6514\n",
    "- DecisionTreeClassifier ROC-AUC SCORE:  0.6788\n",
    "- KNeighborsClassifier ROC-AUC SCORE:  0.5348\n",
    "- VotingClassifier ROC-AUC SCORE:  0.7180\n",
    "- RandomForestClassifier ROC-AUC SCORE:  0.8571\n",
    "- AdaBoostClassifier ROC-AUC SCORE:  0.6767\n",
    "- GradientBoostingClassifier ROC-AUC SCORE:  0.8622"
   ]
  },
  {
   "cell_type": "code",
   "execution_count": 1,
   "metadata": {
    "vscode": {
     "languageId": "python"
    }
   },
   "outputs": [],
   "source": [
    "import pandas as pd\n",
    "import numpy as np\n",
    "import matplotlib.pyplot as plt\n",
    "import seaborn as sns\n",
    "%matplotlib inline"
   ]
  },
  {
   "cell_type": "code",
   "execution_count": 2,
   "metadata": {
    "vscode": {
     "languageId": "python"
    }
   },
   "outputs": [],
   "source": [
    "churn = pd.read_csv('data/churn_ver02.csv')\n",
    "np.random.seed(123)\n",
    "target = churn.Exited\n",
    "churn = churn.drop(columns='Exited')\n",
    "from sklearn.model_selection import train_test_split\n",
    "x_train, x_test, y_train, y_test = train_test_split(churn, target, test_size=0.3,\n",
    "                                                   stratify=target)"
   ]
  },
  {
   "cell_type": "markdown",
   "metadata": {},
   "source": [
    "- XGBoost"
   ]
  },
  {
   "cell_type": "code",
   "execution_count": 4,
   "metadata": {
    "vscode": {
     "languageId": "python"
    }
   },
   "outputs": [
    {
     "name": "stdout",
     "output_type": "stream",
     "text": [
      "Defaulting to user installation because normal site-packages is not writeable\n",
      "Collecting xgboost\n",
      "  Downloading xgboost-1.7.3-py3-none-manylinux2014_x86_64.whl (193.6 MB)\n",
      "\u001b[2K     \u001b[90m━━━━━━━━━━━━━━━━━━━━━━━━━━━━━━━━━━━━━━━\u001b[0m \u001b[32m193.6/193.6 MB\u001b[0m \u001b[31m5.1 MB/s\u001b[0m eta \u001b[36m0:00:00\u001b[0m00:01\u001b[0m00:01\u001b[0m\n",
      "\u001b[?25hRequirement already satisfied: numpy in /home/hwi/.local/lib/python3.10/site-packages (from xgboost) (1.24.1)\n",
      "Requirement already satisfied: scipy in /home/hwi/.local/lib/python3.10/site-packages (from xgboost) (1.9.3)\n",
      "Installing collected packages: xgboost\n",
      "Successfully installed xgboost-1.7.3\n"
     ]
    }
   ],
   "source": [
    "!pip3 install xgboost"
   ]
  },
  {
   "cell_type": "code",
   "execution_count": 5,
   "metadata": {
    "vscode": {
     "languageId": "python"
    }
   },
   "outputs": [],
   "source": [
    "import xgboost as XGB # Native XGB\n",
    "from xgboost import XGBClassifier # Sklearn-Wrapper\n",
    "from xgboost import XGBRegressor "
   ]
  },
  {
   "cell_type": "code",
   "execution_count": 27,
   "metadata": {
    "vscode": {
     "languageId": "python"
    }
   },
   "outputs": [],
   "source": [
    "xgb = XGBClassifier(n_estimators=300, objective='binary:logistic',\n",
    "                    learning_rate=0.01, max_depth=6)\n",
    "evals = [(x_test, y_test)]"
   ]
  },
  {
   "cell_type": "code",
   "execution_count": 30,
   "metadata": {
    "scrolled": true,
    "vscode": {
     "languageId": "python"
    }
   },
   "outputs": [
    {
     "name": "stdout",
     "output_type": "stream",
     "text": [
      "[0]\tvalidation_0-auc:0.84548\n",
      "[1]\tvalidation_0-auc:0.84571\n",
      "[2]\tvalidation_0-auc:0.84587\n",
      "[3]\tvalidation_0-auc:0.84616\n",
      "[4]\tvalidation_0-auc:0.84611\n",
      "[5]\tvalidation_0-auc:0.84921\n",
      "[6]\tvalidation_0-auc:0.84984\n",
      "[7]\tvalidation_0-auc:0.84990\n",
      "[8]\tvalidation_0-auc:0.84984\n",
      "[9]\tvalidation_0-auc:0.84968\n",
      "[10]\tvalidation_0-auc:0.84973\n",
      "[11]\tvalidation_0-auc:0.84967\n",
      "[12]\tvalidation_0-auc:0.84974\n",
      "[13]\tvalidation_0-auc:0.84950\n",
      "[14]\tvalidation_0-auc:0.84802\n",
      "[15]\tvalidation_0-auc:0.84930\n",
      "[16]\tvalidation_0-auc:0.84816\n",
      "[17]\tvalidation_0-auc:0.84887\n",
      "[18]\tvalidation_0-auc:0.84845\n",
      "[19]\tvalidation_0-auc:0.84885\n",
      "[20]\tvalidation_0-auc:0.84852\n",
      "[21]\tvalidation_0-auc:0.84896\n",
      "[22]\tvalidation_0-auc:0.84895\n",
      "[23]\tvalidation_0-auc:0.84898\n",
      "[24]\tvalidation_0-auc:0.84898\n",
      "[25]\tvalidation_0-auc:0.84883\n",
      "[26]\tvalidation_0-auc:0.84891\n",
      "[27]\tvalidation_0-auc:0.84909\n",
      "[28]\tvalidation_0-auc:0.84902\n",
      "[29]\tvalidation_0-auc:0.84917\n",
      "[30]\tvalidation_0-auc:0.84917\n",
      "[31]\tvalidation_0-auc:0.84923\n",
      "[32]\tvalidation_0-auc:0.84931\n",
      "[33]\tvalidation_0-auc:0.84928\n",
      "[34]\tvalidation_0-auc:0.84929\n",
      "[35]\tvalidation_0-auc:0.84930\n",
      "[36]\tvalidation_0-auc:0.84920\n",
      "[37]\tvalidation_0-auc:0.84906\n",
      "[38]\tvalidation_0-auc:0.84926\n",
      "[39]\tvalidation_0-auc:0.84923\n",
      "[40]\tvalidation_0-auc:0.84998\n",
      "[41]\tvalidation_0-auc:0.85014\n",
      "[42]\tvalidation_0-auc:0.85017\n",
      "[43]\tvalidation_0-auc:0.85020\n",
      "[44]\tvalidation_0-auc:0.85010\n",
      "[45]\tvalidation_0-auc:0.85079\n",
      "[46]\tvalidation_0-auc:0.85056\n",
      "[47]\tvalidation_0-auc:0.85077\n",
      "[48]\tvalidation_0-auc:0.85023\n",
      "[49]\tvalidation_0-auc:0.85037\n",
      "[50]\tvalidation_0-auc:0.85004\n",
      "[51]\tvalidation_0-auc:0.85067\n",
      "[52]\tvalidation_0-auc:0.85038\n",
      "[53]\tvalidation_0-auc:0.85058\n",
      "[54]\tvalidation_0-auc:0.85095\n",
      "[55]\tvalidation_0-auc:0.85084\n",
      "[56]\tvalidation_0-auc:0.85089\n",
      "[57]\tvalidation_0-auc:0.85080\n",
      "[58]\tvalidation_0-auc:0.85099\n",
      "[59]\tvalidation_0-auc:0.85096\n",
      "[60]\tvalidation_0-auc:0.85075\n",
      "[61]\tvalidation_0-auc:0.85079\n",
      "[62]\tvalidation_0-auc:0.85086\n",
      "[63]\tvalidation_0-auc:0.85086\n",
      "[64]\tvalidation_0-auc:0.85085\n",
      "[65]\tvalidation_0-auc:0.85083\n",
      "[66]\tvalidation_0-auc:0.85093\n",
      "[67]\tvalidation_0-auc:0.85071\n",
      "[68]\tvalidation_0-auc:0.85058\n",
      "[69]\tvalidation_0-auc:0.85082\n",
      "[70]\tvalidation_0-auc:0.85119\n",
      "[71]\tvalidation_0-auc:0.85110\n",
      "[72]\tvalidation_0-auc:0.85098\n",
      "[73]\tvalidation_0-auc:0.85081\n",
      "[74]\tvalidation_0-auc:0.85081\n",
      "[75]\tvalidation_0-auc:0.85085\n",
      "[76]\tvalidation_0-auc:0.85111\n",
      "[77]\tvalidation_0-auc:0.85148\n",
      "[78]\tvalidation_0-auc:0.85140\n",
      "[79]\tvalidation_0-auc:0.85136\n",
      "[80]\tvalidation_0-auc:0.85137\n",
      "[81]\tvalidation_0-auc:0.85145\n",
      "[82]\tvalidation_0-auc:0.85126\n",
      "[83]\tvalidation_0-auc:0.85135\n",
      "[84]\tvalidation_0-auc:0.85106\n",
      "[85]\tvalidation_0-auc:0.85097\n",
      "[86]\tvalidation_0-auc:0.85089\n",
      "[87]\tvalidation_0-auc:0.85124\n",
      "[88]\tvalidation_0-auc:0.85118\n",
      "[89]\tvalidation_0-auc:0.85131\n",
      "[90]\tvalidation_0-auc:0.85126\n",
      "[91]\tvalidation_0-auc:0.85132\n",
      "[92]\tvalidation_0-auc:0.85129\n",
      "[93]\tvalidation_0-auc:0.85146\n",
      "[94]\tvalidation_0-auc:0.85144\n",
      "[95]\tvalidation_0-auc:0.85127\n",
      "[96]\tvalidation_0-auc:0.85132\n",
      "[97]\tvalidation_0-auc:0.85134\n",
      "[98]\tvalidation_0-auc:0.85115\n",
      "[99]\tvalidation_0-auc:0.85124\n",
      "[100]\tvalidation_0-auc:0.85117\n",
      "[101]\tvalidation_0-auc:0.85127\n",
      "[102]\tvalidation_0-auc:0.85136\n",
      "[103]\tvalidation_0-auc:0.85132\n",
      "[104]\tvalidation_0-auc:0.85150\n",
      "[105]\tvalidation_0-auc:0.85143\n",
      "[106]\tvalidation_0-auc:0.85137\n",
      "[107]\tvalidation_0-auc:0.85141\n",
      "[108]\tvalidation_0-auc:0.85137\n",
      "[109]\tvalidation_0-auc:0.85150\n",
      "[110]\tvalidation_0-auc:0.85153\n",
      "[111]\tvalidation_0-auc:0.85192\n",
      "[112]\tvalidation_0-auc:0.85193\n",
      "[113]\tvalidation_0-auc:0.85206\n",
      "[114]\tvalidation_0-auc:0.85225\n",
      "[115]\tvalidation_0-auc:0.85219\n",
      "[116]\tvalidation_0-auc:0.85212\n",
      "[117]\tvalidation_0-auc:0.85195\n",
      "[118]\tvalidation_0-auc:0.85207\n",
      "[119]\tvalidation_0-auc:0.85213\n",
      "[120]\tvalidation_0-auc:0.85216\n",
      "[121]\tvalidation_0-auc:0.85220\n",
      "[122]\tvalidation_0-auc:0.85219\n",
      "[123]\tvalidation_0-auc:0.85228\n",
      "[124]\tvalidation_0-auc:0.85218\n",
      "[125]\tvalidation_0-auc:0.85225\n",
      "[126]\tvalidation_0-auc:0.85231\n",
      "[127]\tvalidation_0-auc:0.85226\n",
      "[128]\tvalidation_0-auc:0.85232\n",
      "[129]\tvalidation_0-auc:0.85243\n",
      "[130]\tvalidation_0-auc:0.85245\n",
      "[131]\tvalidation_0-auc:0.85244\n",
      "[132]\tvalidation_0-auc:0.85258\n",
      "[133]\tvalidation_0-auc:0.85256\n",
      "[134]\tvalidation_0-auc:0.85258\n",
      "[135]\tvalidation_0-auc:0.85256\n",
      "[136]\tvalidation_0-auc:0.85262\n",
      "[137]\tvalidation_0-auc:0.85270\n",
      "[138]\tvalidation_0-auc:0.85273\n",
      "[139]\tvalidation_0-auc:0.85285\n",
      "[140]\tvalidation_0-auc:0.85284\n",
      "[141]\tvalidation_0-auc:0.85289\n",
      "[142]\tvalidation_0-auc:0.85290\n",
      "[143]\tvalidation_0-auc:0.85275\n",
      "[144]\tvalidation_0-auc:0.85287\n",
      "[145]\tvalidation_0-auc:0.85287\n",
      "[146]\tvalidation_0-auc:0.85295\n",
      "[147]\tvalidation_0-auc:0.85290\n",
      "[148]\tvalidation_0-auc:0.85282\n",
      "[149]\tvalidation_0-auc:0.85286\n",
      "[150]\tvalidation_0-auc:0.85283\n",
      "[151]\tvalidation_0-auc:0.85293\n",
      "[152]\tvalidation_0-auc:0.85287\n",
      "[153]\tvalidation_0-auc:0.85284\n",
      "[154]\tvalidation_0-auc:0.85288\n",
      "[155]\tvalidation_0-auc:0.85279\n",
      "[156]\tvalidation_0-auc:0.85286\n",
      "[157]\tvalidation_0-auc:0.85278\n",
      "[158]\tvalidation_0-auc:0.85281\n",
      "[159]\tvalidation_0-auc:0.85278\n",
      "[160]\tvalidation_0-auc:0.85287\n",
      "[161]\tvalidation_0-auc:0.85289\n",
      "[162]\tvalidation_0-auc:0.85286\n",
      "[163]\tvalidation_0-auc:0.85284\n",
      "[164]\tvalidation_0-auc:0.85282\n",
      "[165]\tvalidation_0-auc:0.85278\n",
      "[166]\tvalidation_0-auc:0.85277\n",
      "[167]\tvalidation_0-auc:0.85270\n",
      "[168]\tvalidation_0-auc:0.85271\n",
      "[169]\tvalidation_0-auc:0.85259\n",
      "[170]\tvalidation_0-auc:0.85260\n",
      "[171]\tvalidation_0-auc:0.85257\n",
      "[172]\tvalidation_0-auc:0.85250\n",
      "[173]\tvalidation_0-auc:0.85254\n",
      "[174]\tvalidation_0-auc:0.85252\n",
      "[175]\tvalidation_0-auc:0.85250\n",
      "[176]\tvalidation_0-auc:0.85251\n",
      "[177]\tvalidation_0-auc:0.85248\n",
      "[178]\tvalidation_0-auc:0.85244\n",
      "[179]\tvalidation_0-auc:0.85256\n",
      "[180]\tvalidation_0-auc:0.85244\n",
      "[181]\tvalidation_0-auc:0.85243\n",
      "[182]\tvalidation_0-auc:0.85245\n",
      "[183]\tvalidation_0-auc:0.85242\n",
      "[184]\tvalidation_0-auc:0.85239\n",
      "[185]\tvalidation_0-auc:0.85239\n",
      "[186]\tvalidation_0-auc:0.85237\n",
      "[187]\tvalidation_0-auc:0.85236\n",
      "[188]\tvalidation_0-auc:0.85235\n",
      "[189]\tvalidation_0-auc:0.85233\n",
      "[190]\tvalidation_0-auc:0.85236\n",
      "[191]\tvalidation_0-auc:0.85235\n",
      "[192]\tvalidation_0-auc:0.85233\n",
      "[193]\tvalidation_0-auc:0.85297\n",
      "[194]\tvalidation_0-auc:0.85295\n",
      "[195]\tvalidation_0-auc:0.85291\n",
      "[196]\tvalidation_0-auc:0.85292\n",
      "[197]\tvalidation_0-auc:0.85286\n",
      "[198]\tvalidation_0-auc:0.85282\n",
      "[199]\tvalidation_0-auc:0.85276\n",
      "[200]\tvalidation_0-auc:0.85273\n",
      "[201]\tvalidation_0-auc:0.85268\n",
      "[202]\tvalidation_0-auc:0.85266\n",
      "[203]\tvalidation_0-auc:0.85270\n",
      "[204]\tvalidation_0-auc:0.85273\n",
      "[205]\tvalidation_0-auc:0.85276\n",
      "[206]\tvalidation_0-auc:0.85274\n",
      "[207]\tvalidation_0-auc:0.85270\n",
      "[208]\tvalidation_0-auc:0.85264\n",
      "[209]\tvalidation_0-auc:0.85264\n",
      "[210]\tvalidation_0-auc:0.85266\n",
      "[211]\tvalidation_0-auc:0.85256\n",
      "[212]\tvalidation_0-auc:0.85257\n",
      "[213]\tvalidation_0-auc:0.85250\n",
      "[214]\tvalidation_0-auc:0.85244\n",
      "[215]\tvalidation_0-auc:0.85248\n",
      "[216]\tvalidation_0-auc:0.85244\n",
      "[217]\tvalidation_0-auc:0.85245\n",
      "[218]\tvalidation_0-auc:0.85241\n",
      "[219]\tvalidation_0-auc:0.85243\n",
      "[220]\tvalidation_0-auc:0.85247\n",
      "[221]\tvalidation_0-auc:0.85242\n",
      "[222]\tvalidation_0-auc:0.85275\n",
      "[223]\tvalidation_0-auc:0.85288\n",
      "[224]\tvalidation_0-auc:0.85297\n",
      "[225]\tvalidation_0-auc:0.85303\n",
      "[226]\tvalidation_0-auc:0.85314\n",
      "[227]\tvalidation_0-auc:0.85315\n",
      "[228]\tvalidation_0-auc:0.85321\n",
      "[229]\tvalidation_0-auc:0.85325\n",
      "[230]\tvalidation_0-auc:0.85324\n",
      "[231]\tvalidation_0-auc:0.85325\n",
      "[232]\tvalidation_0-auc:0.85328\n",
      "[233]\tvalidation_0-auc:0.85332\n",
      "[234]\tvalidation_0-auc:0.85341\n",
      "[235]\tvalidation_0-auc:0.85347\n",
      "[236]\tvalidation_0-auc:0.85346\n",
      "[237]\tvalidation_0-auc:0.85352\n",
      "[238]\tvalidation_0-auc:0.85349\n",
      "[239]\tvalidation_0-auc:0.85352\n",
      "[240]\tvalidation_0-auc:0.85352\n",
      "[241]\tvalidation_0-auc:0.85363\n",
      "[242]\tvalidation_0-auc:0.85362\n",
      "[243]\tvalidation_0-auc:0.85362\n",
      "[244]\tvalidation_0-auc:0.85368\n",
      "[245]\tvalidation_0-auc:0.85368\n",
      "[246]\tvalidation_0-auc:0.85370\n",
      "[247]\tvalidation_0-auc:0.85371\n",
      "[248]\tvalidation_0-auc:0.85379\n",
      "[249]\tvalidation_0-auc:0.85386\n",
      "[250]\tvalidation_0-auc:0.85387\n",
      "[251]\tvalidation_0-auc:0.85395\n",
      "[252]\tvalidation_0-auc:0.85394\n",
      "[253]\tvalidation_0-auc:0.85398\n",
      "[254]\tvalidation_0-auc:0.85404\n",
      "[255]\tvalidation_0-auc:0.85402\n",
      "[256]\tvalidation_0-auc:0.85409\n",
      "[257]\tvalidation_0-auc:0.85407\n",
      "[258]\tvalidation_0-auc:0.85407\n",
      "[259]\tvalidation_0-auc:0.85410\n",
      "[260]\tvalidation_0-auc:0.85409\n",
      "[261]\tvalidation_0-auc:0.85411\n",
      "[262]\tvalidation_0-auc:0.85421\n",
      "[263]\tvalidation_0-auc:0.85428\n",
      "[264]\tvalidation_0-auc:0.85421\n",
      "[265]\tvalidation_0-auc:0.85425\n",
      "[266]\tvalidation_0-auc:0.85431\n",
      "[267]\tvalidation_0-auc:0.85434\n",
      "[268]\tvalidation_0-auc:0.85433\n",
      "[269]\tvalidation_0-auc:0.85435\n",
      "[270]\tvalidation_0-auc:0.85444\n",
      "[271]\tvalidation_0-auc:0.85446\n",
      "[272]\tvalidation_0-auc:0.85455\n",
      "[273]\tvalidation_0-auc:0.85460\n",
      "[274]\tvalidation_0-auc:0.85464\n",
      "[275]\tvalidation_0-auc:0.85466\n",
      "[276]\tvalidation_0-auc:0.85471\n",
      "[277]\tvalidation_0-auc:0.85474\n",
      "[278]\tvalidation_0-auc:0.85479\n",
      "[279]\tvalidation_0-auc:0.85482\n",
      "[280]\tvalidation_0-auc:0.85479\n",
      "[281]\tvalidation_0-auc:0.85479\n",
      "[282]\tvalidation_0-auc:0.85481\n",
      "[283]\tvalidation_0-auc:0.85483\n",
      "[284]\tvalidation_0-auc:0.85485\n",
      "[285]\tvalidation_0-auc:0.85493\n",
      "[286]\tvalidation_0-auc:0.85493\n",
      "[287]\tvalidation_0-auc:0.85497\n",
      "[288]\tvalidation_0-auc:0.85505\n",
      "[289]\tvalidation_0-auc:0.85507\n",
      "[290]\tvalidation_0-auc:0.85509\n",
      "[291]\tvalidation_0-auc:0.85517\n",
      "[292]\tvalidation_0-auc:0.85514\n",
      "[293]\tvalidation_0-auc:0.85512\n",
      "[294]\tvalidation_0-auc:0.85518\n",
      "[295]\tvalidation_0-auc:0.85523\n",
      "[296]\tvalidation_0-auc:0.85530\n",
      "[297]\tvalidation_0-auc:0.85531\n",
      "[298]\tvalidation_0-auc:0.85526\n",
      "[299]\tvalidation_0-auc:0.85530\n"
     ]
    },
    {
     "data": {
      "text/html": [
       "<style>#sk-container-id-9 {color: black;background-color: white;}#sk-container-id-9 pre{padding: 0;}#sk-container-id-9 div.sk-toggleable {background-color: white;}#sk-container-id-9 label.sk-toggleable__label {cursor: pointer;display: block;width: 100%;margin-bottom: 0;padding: 0.3em;box-sizing: border-box;text-align: center;}#sk-container-id-9 label.sk-toggleable__label-arrow:before {content: \"▸\";float: left;margin-right: 0.25em;color: #696969;}#sk-container-id-9 label.sk-toggleable__label-arrow:hover:before {color: black;}#sk-container-id-9 div.sk-estimator:hover label.sk-toggleable__label-arrow:before {color: black;}#sk-container-id-9 div.sk-toggleable__content {max-height: 0;max-width: 0;overflow: hidden;text-align: left;background-color: #f0f8ff;}#sk-container-id-9 div.sk-toggleable__content pre {margin: 0.2em;color: black;border-radius: 0.25em;background-color: #f0f8ff;}#sk-container-id-9 input.sk-toggleable__control:checked~div.sk-toggleable__content {max-height: 200px;max-width: 100%;overflow: auto;}#sk-container-id-9 input.sk-toggleable__control:checked~label.sk-toggleable__label-arrow:before {content: \"▾\";}#sk-container-id-9 div.sk-estimator input.sk-toggleable__control:checked~label.sk-toggleable__label {background-color: #d4ebff;}#sk-container-id-9 div.sk-label input.sk-toggleable__control:checked~label.sk-toggleable__label {background-color: #d4ebff;}#sk-container-id-9 input.sk-hidden--visually {border: 0;clip: rect(1px 1px 1px 1px);clip: rect(1px, 1px, 1px, 1px);height: 1px;margin: -1px;overflow: hidden;padding: 0;position: absolute;width: 1px;}#sk-container-id-9 div.sk-estimator {font-family: monospace;background-color: #f0f8ff;border: 1px dotted black;border-radius: 0.25em;box-sizing: border-box;margin-bottom: 0.5em;}#sk-container-id-9 div.sk-estimator:hover {background-color: #d4ebff;}#sk-container-id-9 div.sk-parallel-item::after {content: \"\";width: 100%;border-bottom: 1px solid gray;flex-grow: 1;}#sk-container-id-9 div.sk-label:hover label.sk-toggleable__label {background-color: #d4ebff;}#sk-container-id-9 div.sk-serial::before {content: \"\";position: absolute;border-left: 1px solid gray;box-sizing: border-box;top: 0;bottom: 0;left: 50%;z-index: 0;}#sk-container-id-9 div.sk-serial {display: flex;flex-direction: column;align-items: center;background-color: white;padding-right: 0.2em;padding-left: 0.2em;position: relative;}#sk-container-id-9 div.sk-item {position: relative;z-index: 1;}#sk-container-id-9 div.sk-parallel {display: flex;align-items: stretch;justify-content: center;background-color: white;position: relative;}#sk-container-id-9 div.sk-item::before, #sk-container-id-9 div.sk-parallel-item::before {content: \"\";position: absolute;border-left: 1px solid gray;box-sizing: border-box;top: 0;bottom: 0;left: 50%;z-index: -1;}#sk-container-id-9 div.sk-parallel-item {display: flex;flex-direction: column;z-index: 1;position: relative;background-color: white;}#sk-container-id-9 div.sk-parallel-item:first-child::after {align-self: flex-end;width: 50%;}#sk-container-id-9 div.sk-parallel-item:last-child::after {align-self: flex-start;width: 50%;}#sk-container-id-9 div.sk-parallel-item:only-child::after {width: 0;}#sk-container-id-9 div.sk-dashed-wrapped {border: 1px dashed gray;margin: 0 0.4em 0.5em 0.4em;box-sizing: border-box;padding-bottom: 0.4em;background-color: white;}#sk-container-id-9 div.sk-label label {font-family: monospace;font-weight: bold;display: inline-block;line-height: 1.2em;}#sk-container-id-9 div.sk-label-container {text-align: center;}#sk-container-id-9 div.sk-container {/* jupyter's `normalize.less` sets `[hidden] { display: none; }` but bootstrap.min.css set `[hidden] { display: none !important; }` so we also need the `!important` here to be able to override the default hidden behavior on the sphinx rendered scikit-learn.org. See: https://github.com/scikit-learn/scikit-learn/issues/21755 */display: inline-block !important;position: relative;}#sk-container-id-9 div.sk-text-repr-fallback {display: none;}</style><div id=\"sk-container-id-9\" class=\"sk-top-container\"><div class=\"sk-text-repr-fallback\"><pre>XGBClassifier(base_score=None, booster=None, callbacks=None,\n",
       "              colsample_bylevel=None, colsample_bynode=None,\n",
       "              colsample_bytree=None, early_stopping_rounds=None,\n",
       "              enable_categorical=False, eval_metric=None, feature_types=None,\n",
       "              gamma=None, gpu_id=None, grow_policy=None, importance_type=None,\n",
       "              interaction_constraints=None, learning_rate=0.01, max_bin=None,\n",
       "              max_cat_threshold=None, max_cat_to_onehot=None,\n",
       "              max_delta_step=None, max_depth=6, max_leaves=None,\n",
       "              min_child_weight=None, missing=nan, monotone_constraints=None,\n",
       "              n_estimators=300, n_jobs=None, num_parallel_tree=None,\n",
       "              predictor=None, random_state=None, ...)</pre><b>In a Jupyter environment, please rerun this cell to show the HTML representation or trust the notebook. <br />On GitHub, the HTML representation is unable to render, please try loading this page with nbviewer.org.</b></div><div class=\"sk-container\" hidden><div class=\"sk-item\"><div class=\"sk-estimator sk-toggleable\"><input class=\"sk-toggleable__control sk-hidden--visually\" id=\"sk-estimator-id-9\" type=\"checkbox\" checked><label for=\"sk-estimator-id-9\" class=\"sk-toggleable__label sk-toggleable__label-arrow\">XGBClassifier</label><div class=\"sk-toggleable__content\"><pre>XGBClassifier(base_score=None, booster=None, callbacks=None,\n",
       "              colsample_bylevel=None, colsample_bynode=None,\n",
       "              colsample_bytree=None, early_stopping_rounds=None,\n",
       "              enable_categorical=False, eval_metric=None, feature_types=None,\n",
       "              gamma=None, gpu_id=None, grow_policy=None, importance_type=None,\n",
       "              interaction_constraints=None, learning_rate=0.01, max_bin=None,\n",
       "              max_cat_threshold=None, max_cat_to_onehot=None,\n",
       "              max_delta_step=None, max_depth=6, max_leaves=None,\n",
       "              min_child_weight=None, missing=nan, monotone_constraints=None,\n",
       "              n_estimators=300, n_jobs=None, num_parallel_tree=None,\n",
       "              predictor=None, random_state=None, ...)</pre></div></div></div></div></div>"
      ],
      "text/plain": [
       "XGBClassifier(base_score=None, booster=None, callbacks=None,\n",
       "              colsample_bylevel=None, colsample_bynode=None,\n",
       "              colsample_bytree=None, early_stopping_rounds=None,\n",
       "              enable_categorical=False, eval_metric=None, feature_types=None,\n",
       "              gamma=None, gpu_id=None, grow_policy=None, importance_type=None,\n",
       "              interaction_constraints=None, learning_rate=0.01, max_bin=None,\n",
       "              max_cat_threshold=None, max_cat_to_onehot=None,\n",
       "              max_delta_step=None, max_depth=6, max_leaves=None,\n",
       "              min_child_weight=None, missing=nan, monotone_constraints=None,\n",
       "              n_estimators=300, n_jobs=None, num_parallel_tree=None,\n",
       "              predictor=None, random_state=None, ...)"
      ]
     },
     "execution_count": 30,
     "metadata": {},
     "output_type": "execute_result"
    }
   ],
   "source": [
    "xgb.fit(x_train, y_train, eval_metric='auc', eval_set=evals,\n",
    "        early_stopping_rounds=100, verbose=True)"
   ]
  },
  {
   "cell_type": "code",
   "execution_count": 31,
   "metadata": {
    "vscode": {
     "languageId": "python"
    }
   },
   "outputs": [
    {
     "data": {
      "text/plain": [
       "0.8553106539177449"
      ]
     },
     "execution_count": 31,
     "metadata": {},
     "output_type": "execute_result"
    }
   ],
   "source": [
    "pred = xgb.predict_proba(x_test)[:,1]\n",
    "from sklearn.metrics import roc_auc_score\n",
    "roc_auc_score(y_test, pred)"
   ]
  },
  {
   "cell_type": "code",
   "execution_count": 22,
   "metadata": {
    "vscode": {
     "languageId": "python"
    }
   },
   "outputs": [
    {
     "data": {
      "text/plain": [
       "array([0.04637681, 0.06089721, 0.15602596, 0.04205977, 0.06277969,\n",
       "       0.34215134, 0.04021   , 0.20031066, 0.04918856], dtype=float32)"
      ]
     },
     "execution_count": 22,
     "metadata": {},
     "output_type": "execute_result"
    }
   ],
   "source": [
    "xgb.feature_importances_"
   ]
  },
  {
   "cell_type": "code",
   "execution_count": 23,
   "metadata": {
    "vscode": {
     "languageId": "python"
    }
   },
   "outputs": [
    {
     "data": {
      "image/png": "[encoded data removed]",
      "text/plain": [
       "<Figure size 1000x1200 with 1 Axes>"
      ]
     },
     "metadata": {},
     "output_type": "display_data"
    }
   ],
   "source": [
    "from xgboost import plot_importance\n",
    "fig, ax = plt.subplots(figsize=(10,12))\n",
    "plot_importance(xgb, ax=ax);"
   ]
  },
  {
   "cell_type": "markdown",
   "metadata": {},
   "source": [
    "- LGBM"
   ]
  },
  {
   "cell_type": "code",
   "execution_count": 33,
   "metadata": {
    "vscode": {
     "languageId": "python"
    }
   },
   "outputs": [
    {
     "name": "stdout",
     "output_type": "stream",
     "text": [
      "Defaulting to user installation because normal site-packages is not writeable\n",
      "Collecting lightgbm\n",
      "  Downloading lightgbm-3.3.5-py3-none-manylinux1_x86_64.whl (2.0 MB)\n",
      "\u001b[2K     \u001b[90m━━━━━━━━━━━━━━━━━━━━━━━━━━━━━━━━━━━━━━━━\u001b[0m \u001b[32m2.0/2.0 MB\u001b[0m \u001b[31m8.0 MB/s\u001b[0m eta \u001b[36m0:00:00\u001b[0m:00:01\u001b[0m00:01\u001b[0m\n",
      "\u001b[?25hRequirement already satisfied: scikit-learn!=0.22.0 in /home/hwi/.local/lib/python3.10/site-packages (from lightgbm) (1.2.0)\n",
      "Requirement already satisfied: wheel in /usr/lib/python3/dist-packages (from lightgbm) (0.37.1)\n",
      "Requirement already satisfied: numpy in /home/hwi/.local/lib/python3.10/site-packages (from lightgbm) (1.24.1)\n",
      "Requirement already satisfied: scipy in /home/hwi/.local/lib/python3.10/site-packages (from lightgbm) (1.9.3)\n",
      "Requirement already satisfied: threadpoolctl>=2.0.0 in /home/hwi/.local/lib/python3.10/site-packages (from scikit-learn!=0.22.0->lightgbm) (3.1.0)\n",
      "Requirement already satisfied: joblib>=1.1.1 in /home/hwi/.local/lib/python3.10/site-packages (from scikit-learn!=0.22.0->lightgbm) (1.2.0)\n",
      "Installing collected packages: lightgbm\n",
      "Successfully installed lightgbm-3.3.5\n"
     ]
    }
   ],
   "source": [
    "!pip3 install lightgbm"
   ]
  },
  {
   "cell_type": "code",
   "execution_count": 34,
   "metadata": {
    "vscode": {
     "languageId": "python"
    }
   },
   "outputs": [],
   "source": [
    "from lightgbm import LGBMClassifier # Wrapper-Class\n",
    "from lightgbm import LGBMRegressor"
   ]
  },
  {
   "cell_type": "code",
   "execution_count": 42,
   "metadata": {
    "vscode": {
     "languageId": "python"
    }
   },
   "outputs": [
    {
     "name": "stderr",
     "output_type": "stream",
     "text": [
      "/home/hwi/.local/lib/python3.10/site-packages/lightgbm/sklearn.py:726: UserWarning: 'early_stopping_rounds' argument is deprecated and will be removed in a future release of LightGBM. Pass 'early_stopping()' callback via 'callbacks' argument instead.\n",
      "  _log_warning(\"'early_stopping_rounds' argument is deprecated and will be removed in a future release of LightGBM. \"\n",
      "/home/hwi/.local/lib/python3.10/site-packages/lightgbm/sklearn.py:736: UserWarning: 'verbose' argument is deprecated and will be removed in a future release of LightGBM. Pass 'log_evaluation()' callback via 'callbacks' argument instead.\n",
      "  _log_warning(\"'verbose' argument is deprecated and will be removed in a future release of LightGBM. \"\n"
     ]
    },
    {
     "name": "stdout",
     "output_type": "stream",
     "text": [
      "[1]\tvalid_0's auc: 0.835543\tvalid_0's binary_logloss: 0.473504\n",
      "[2]\tvalid_0's auc: 0.843721\tvalid_0's binary_logloss: 0.451172\n",
      "[3]\tvalid_0's auc: 0.845975\tvalid_0's binary_logloss: 0.433541\n",
      "[4]\tvalid_0's auc: 0.848559\tvalid_0's binary_logloss: 0.419683\n",
      "[5]\tvalid_0's auc: 0.847577\tvalid_0's binary_logloss: 0.408739\n",
      "[6]\tvalid_0's auc: 0.850182\tvalid_0's binary_logloss: 0.39898\n",
      "[7]\tvalid_0's auc: 0.849925\tvalid_0's binary_logloss: 0.391279\n",
      "[8]\tvalid_0's auc: 0.851725\tvalid_0's binary_logloss: 0.384483\n",
      "[9]\tvalid_0's auc: 0.852526\tvalid_0's binary_logloss: 0.378761\n",
      "[10]\tvalid_0's auc: 0.853291\tvalid_0's binary_logloss: 0.374177\n",
      "[11]\tvalid_0's auc: 0.852543\tvalid_0's binary_logloss: 0.370481\n",
      "[12]\tvalid_0's auc: 0.853208\tvalid_0's binary_logloss: 0.367122\n",
      "[13]\tvalid_0's auc: 0.854002\tvalid_0's binary_logloss: 0.363685\n",
      "[14]\tvalid_0's auc: 0.853152\tvalid_0's binary_logloss: 0.361619\n",
      "[15]\tvalid_0's auc: 0.852958\tvalid_0's binary_logloss: 0.359392\n",
      "[16]\tvalid_0's auc: 0.853137\tvalid_0's binary_logloss: 0.357749\n",
      "[17]\tvalid_0's auc: 0.854355\tvalid_0's binary_logloss: 0.355963\n",
      "[18]\tvalid_0's auc: 0.854842\tvalid_0's binary_logloss: 0.354018\n",
      "[19]\tvalid_0's auc: 0.855424\tvalid_0's binary_logloss: 0.352371\n",
      "[20]\tvalid_0's auc: 0.855102\tvalid_0's binary_logloss: 0.351339\n",
      "[21]\tvalid_0's auc: 0.855552\tvalid_0's binary_logloss: 0.3503\n",
      "[22]\tvalid_0's auc: 0.855647\tvalid_0's binary_logloss: 0.349653\n",
      "[23]\tvalid_0's auc: 0.855554\tvalid_0's binary_logloss: 0.349028\n",
      "[24]\tvalid_0's auc: 0.855568\tvalid_0's binary_logloss: 0.348534\n",
      "[25]\tvalid_0's auc: 0.85588\tvalid_0's binary_logloss: 0.347976\n",
      "[26]\tvalid_0's auc: 0.855425\tvalid_0's binary_logloss: 0.34783\n",
      "[27]\tvalid_0's auc: 0.855449\tvalid_0's binary_logloss: 0.347277\n",
      "[28]\tvalid_0's auc: 0.855497\tvalid_0's binary_logloss: 0.346923\n",
      "[29]\tvalid_0's auc: 0.855196\tvalid_0's binary_logloss: 0.346557\n",
      "[30]\tvalid_0's auc: 0.855078\tvalid_0's binary_logloss: 0.346109\n",
      "[31]\tvalid_0's auc: 0.855451\tvalid_0's binary_logloss: 0.345679\n",
      "[32]\tvalid_0's auc: 0.855215\tvalid_0's binary_logloss: 0.345565\n",
      "[33]\tvalid_0's auc: 0.855693\tvalid_0's binary_logloss: 0.344993\n",
      "[34]\tvalid_0's auc: 0.855469\tvalid_0's binary_logloss: 0.345047\n",
      "[35]\tvalid_0's auc: 0.85558\tvalid_0's binary_logloss: 0.34478\n",
      "[36]\tvalid_0's auc: 0.855341\tvalid_0's binary_logloss: 0.344561\n",
      "[37]\tvalid_0's auc: 0.855461\tvalid_0's binary_logloss: 0.34434\n",
      "[38]\tvalid_0's auc: 0.854782\tvalid_0's binary_logloss: 0.344732\n",
      "[39]\tvalid_0's auc: 0.855211\tvalid_0's binary_logloss: 0.344486\n",
      "[40]\tvalid_0's auc: 0.855617\tvalid_0's binary_logloss: 0.344188\n",
      "[41]\tvalid_0's auc: 0.855371\tvalid_0's binary_logloss: 0.344234\n",
      "[42]\tvalid_0's auc: 0.854884\tvalid_0's binary_logloss: 0.344444\n",
      "[43]\tvalid_0's auc: 0.854948\tvalid_0's binary_logloss: 0.344298\n",
      "[44]\tvalid_0's auc: 0.855239\tvalid_0's binary_logloss: 0.344022\n",
      "[45]\tvalid_0's auc: 0.854926\tvalid_0's binary_logloss: 0.344382\n",
      "[46]\tvalid_0's auc: 0.855011\tvalid_0's binary_logloss: 0.344137\n",
      "[47]\tvalid_0's auc: 0.854861\tvalid_0's binary_logloss: 0.344119\n",
      "[48]\tvalid_0's auc: 0.854785\tvalid_0's binary_logloss: 0.344399\n",
      "[49]\tvalid_0's auc: 0.855033\tvalid_0's binary_logloss: 0.344021\n",
      "[50]\tvalid_0's auc: 0.854906\tvalid_0's binary_logloss: 0.344199\n",
      "[51]\tvalid_0's auc: 0.85476\tvalid_0's binary_logloss: 0.344258\n",
      "[52]\tvalid_0's auc: 0.854598\tvalid_0's binary_logloss: 0.344314\n",
      "[53]\tvalid_0's auc: 0.85448\tvalid_0's binary_logloss: 0.34432\n",
      "[54]\tvalid_0's auc: 0.854023\tvalid_0's binary_logloss: 0.344729\n",
      "[55]\tvalid_0's auc: 0.85404\tvalid_0's binary_logloss: 0.344721\n",
      "[56]\tvalid_0's auc: 0.853697\tvalid_0's binary_logloss: 0.344938\n",
      "[57]\tvalid_0's auc: 0.853584\tvalid_0's binary_logloss: 0.345094\n",
      "[58]\tvalid_0's auc: 0.853477\tvalid_0's binary_logloss: 0.345339\n",
      "[59]\tvalid_0's auc: 0.853912\tvalid_0's binary_logloss: 0.344932\n",
      "[60]\tvalid_0's auc: 0.853796\tvalid_0's binary_logloss: 0.345189\n",
      "[61]\tvalid_0's auc: 0.853791\tvalid_0's binary_logloss: 0.345134\n",
      "[62]\tvalid_0's auc: 0.853643\tvalid_0's binary_logloss: 0.345157\n",
      "[63]\tvalid_0's auc: 0.853329\tvalid_0's binary_logloss: 0.345464\n",
      "[64]\tvalid_0's auc: 0.8531\tvalid_0's binary_logloss: 0.345618\n",
      "[65]\tvalid_0's auc: 0.853133\tvalid_0's binary_logloss: 0.345705\n",
      "[66]\tvalid_0's auc: 0.852885\tvalid_0's binary_logloss: 0.346142\n",
      "[67]\tvalid_0's auc: 0.852764\tvalid_0's binary_logloss: 0.346137\n",
      "[68]\tvalid_0's auc: 0.852128\tvalid_0's binary_logloss: 0.346466\n",
      "[69]\tvalid_0's auc: 0.852409\tvalid_0's binary_logloss: 0.346196\n",
      "[70]\tvalid_0's auc: 0.852398\tvalid_0's binary_logloss: 0.346176\n",
      "[71]\tvalid_0's auc: 0.85215\tvalid_0's binary_logloss: 0.346356\n",
      "[72]\tvalid_0's auc: 0.852034\tvalid_0's binary_logloss: 0.346493\n",
      "[73]\tvalid_0's auc: 0.852152\tvalid_0's binary_logloss: 0.34662\n",
      "[74]\tvalid_0's auc: 0.851817\tvalid_0's binary_logloss: 0.346779\n",
      "[75]\tvalid_0's auc: 0.851748\tvalid_0's binary_logloss: 0.346978\n",
      "[76]\tvalid_0's auc: 0.851774\tvalid_0's binary_logloss: 0.346959\n",
      "[77]\tvalid_0's auc: 0.851534\tvalid_0's binary_logloss: 0.347219\n",
      "[78]\tvalid_0's auc: 0.851439\tvalid_0's binary_logloss: 0.347188\n",
      "[79]\tvalid_0's auc: 0.850823\tvalid_0's binary_logloss: 0.347748\n",
      "[80]\tvalid_0's auc: 0.850544\tvalid_0's binary_logloss: 0.348098\n",
      "[81]\tvalid_0's auc: 0.850404\tvalid_0's binary_logloss: 0.34798\n",
      "[82]\tvalid_0's auc: 0.850233\tvalid_0's binary_logloss: 0.347923\n",
      "[83]\tvalid_0's auc: 0.849651\tvalid_0's binary_logloss: 0.348421\n",
      "[84]\tvalid_0's auc: 0.849759\tvalid_0's binary_logloss: 0.348524\n",
      "[85]\tvalid_0's auc: 0.849747\tvalid_0's binary_logloss: 0.348657\n",
      "[86]\tvalid_0's auc: 0.849512\tvalid_0's binary_logloss: 0.348967\n",
      "[87]\tvalid_0's auc: 0.849662\tvalid_0's binary_logloss: 0.348844\n",
      "[88]\tvalid_0's auc: 0.849672\tvalid_0's binary_logloss: 0.348987\n",
      "[89]\tvalid_0's auc: 0.849502\tvalid_0's binary_logloss: 0.349092\n",
      "[90]\tvalid_0's auc: 0.849273\tvalid_0's binary_logloss: 0.349334\n",
      "[91]\tvalid_0's auc: 0.848741\tvalid_0's binary_logloss: 0.349824\n",
      "[92]\tvalid_0's auc: 0.848556\tvalid_0's binary_logloss: 0.349899\n",
      "[93]\tvalid_0's auc: 0.848405\tvalid_0's binary_logloss: 0.350091\n",
      "[94]\tvalid_0's auc: 0.84818\tvalid_0's binary_logloss: 0.350299\n",
      "[95]\tvalid_0's auc: 0.848019\tvalid_0's binary_logloss: 0.350644\n",
      "[96]\tvalid_0's auc: 0.847682\tvalid_0's binary_logloss: 0.350997\n",
      "[97]\tvalid_0's auc: 0.847645\tvalid_0's binary_logloss: 0.350901\n",
      "[98]\tvalid_0's auc: 0.847149\tvalid_0's binary_logloss: 0.351227\n",
      "[99]\tvalid_0's auc: 0.847396\tvalid_0's binary_logloss: 0.351057\n",
      "[100]\tvalid_0's auc: 0.847192\tvalid_0's binary_logloss: 0.35133\n",
      "[101]\tvalid_0's auc: 0.847397\tvalid_0's binary_logloss: 0.351129\n",
      "[102]\tvalid_0's auc: 0.847711\tvalid_0's binary_logloss: 0.350836\n",
      "[103]\tvalid_0's auc: 0.847531\tvalid_0's binary_logloss: 0.351151\n",
      "[104]\tvalid_0's auc: 0.847386\tvalid_0's binary_logloss: 0.351402\n",
      "[105]\tvalid_0's auc: 0.847305\tvalid_0's binary_logloss: 0.351541\n",
      "[106]\tvalid_0's auc: 0.846987\tvalid_0's binary_logloss: 0.351754\n",
      "[107]\tvalid_0's auc: 0.847013\tvalid_0's binary_logloss: 0.351845\n",
      "[108]\tvalid_0's auc: 0.846852\tvalid_0's binary_logloss: 0.352108\n",
      "[109]\tvalid_0's auc: 0.84695\tvalid_0's binary_logloss: 0.352138\n",
      "[110]\tvalid_0's auc: 0.846927\tvalid_0's binary_logloss: 0.352237\n",
      "[111]\tvalid_0's auc: 0.846537\tvalid_0's binary_logloss: 0.352519\n",
      "[112]\tvalid_0's auc: 0.846526\tvalid_0's binary_logloss: 0.352682\n",
      "[113]\tvalid_0's auc: 0.84633\tvalid_0's binary_logloss: 0.352869\n",
      "[114]\tvalid_0's auc: 0.846234\tvalid_0's binary_logloss: 0.352927\n",
      "[115]\tvalid_0's auc: 0.846038\tvalid_0's binary_logloss: 0.353085\n",
      "[116]\tvalid_0's auc: 0.845841\tvalid_0's binary_logloss: 0.353338\n",
      "[117]\tvalid_0's auc: 0.845526\tvalid_0's binary_logloss: 0.353627\n",
      "[118]\tvalid_0's auc: 0.845331\tvalid_0's binary_logloss: 0.353926\n",
      "[119]\tvalid_0's auc: 0.845189\tvalid_0's binary_logloss: 0.354127\n",
      "[120]\tvalid_0's auc: 0.845254\tvalid_0's binary_logloss: 0.354163\n",
      "[121]\tvalid_0's auc: 0.845106\tvalid_0's binary_logloss: 0.354292\n",
      "[122]\tvalid_0's auc: 0.844666\tvalid_0's binary_logloss: 0.354726\n",
      "[123]\tvalid_0's auc: 0.844857\tvalid_0's binary_logloss: 0.354648\n",
      "[124]\tvalid_0's auc: 0.844899\tvalid_0's binary_logloss: 0.354695\n",
      "[125]\tvalid_0's auc: 0.844794\tvalid_0's binary_logloss: 0.355014\n"
     ]
    },
    {
     "data": {
      "text/html": [
       "<style>#sk-container-id-14 {color: black;background-color: white;}#sk-container-id-14 pre{padding: 0;}#sk-container-id-14 div.sk-toggleable {background-color: white;}#sk-container-id-14 label.sk-toggleable__label {cursor: pointer;display: block;width: 100%;margin-bottom: 0;padding: 0.3em;box-sizing: border-box;text-align: center;}#sk-container-id-14 label.sk-toggleable__label-arrow:before {content: \"▸\";float: left;margin-right: 0.25em;color: #696969;}#sk-container-id-14 label.sk-toggleable__label-arrow:hover:before {color: black;}#sk-container-id-14 div.sk-estimator:hover label.sk-toggleable__label-arrow:before {color: black;}#sk-container-id-14 div.sk-toggleable__content {max-height: 0;max-width: 0;overflow: hidden;text-align: left;background-color: #f0f8ff;}#sk-container-id-14 div.sk-toggleable__content pre {margin: 0.2em;color: black;border-radius: 0.25em;background-color: #f0f8ff;}#sk-container-id-14 input.sk-toggleable__control:checked~div.sk-toggleable__content {max-height: 200px;max-width: 100%;overflow: auto;}#sk-container-id-14 input.sk-toggleable__control:checked~label.sk-toggleable__label-arrow:before {content: \"▾\";}#sk-container-id-14 div.sk-estimator input.sk-toggleable__control:checked~label.sk-toggleable__label {background-color: #d4ebff;}#sk-container-id-14 div.sk-label input.sk-toggleable__control:checked~label.sk-toggleable__label {background-color: #d4ebff;}#sk-container-id-14 input.sk-hidden--visually {border: 0;clip: rect(1px 1px 1px 1px);clip: rect(1px, 1px, 1px, 1px);height: 1px;margin: -1px;overflow: hidden;padding: 0;position: absolute;width: 1px;}#sk-container-id-14 div.sk-estimator {font-family: monospace;background-color: #f0f8ff;border: 1px dotted black;border-radius: 0.25em;box-sizing: border-box;margin-bottom: 0.5em;}#sk-container-id-14 div.sk-estimator:hover {background-color: #d4ebff;}#sk-container-id-14 div.sk-parallel-item::after {content: \"\";width: 100%;border-bottom: 1px solid gray;flex-grow: 1;}#sk-container-id-14 div.sk-label:hover label.sk-toggleable__label {background-color: #d4ebff;}#sk-container-id-14 div.sk-serial::before {content: \"\";position: absolute;border-left: 1px solid gray;box-sizing: border-box;top: 0;bottom: 0;left: 50%;z-index: 0;}#sk-container-id-14 div.sk-serial {display: flex;flex-direction: column;align-items: center;background-color: white;padding-right: 0.2em;padding-left: 0.2em;position: relative;}#sk-container-id-14 div.sk-item {position: relative;z-index: 1;}#sk-container-id-14 div.sk-parallel {display: flex;align-items: stretch;justify-content: center;background-color: white;position: relative;}#sk-container-id-14 div.sk-item::before, #sk-container-id-14 div.sk-parallel-item::before {content: \"\";position: absolute;border-left: 1px solid gray;box-sizing: border-box;top: 0;bottom: 0;left: 50%;z-index: -1;}#sk-container-id-14 div.sk-parallel-item {display: flex;flex-direction: column;z-index: 1;position: relative;background-color: white;}#sk-container-id-14 div.sk-parallel-item:first-child::after {align-self: flex-end;width: 50%;}#sk-container-id-14 div.sk-parallel-item:last-child::after {align-self: flex-start;width: 50%;}#sk-container-id-14 div.sk-parallel-item:only-child::after {width: 0;}#sk-container-id-14 div.sk-dashed-wrapped {border: 1px dashed gray;margin: 0 0.4em 0.5em 0.4em;box-sizing: border-box;padding-bottom: 0.4em;background-color: white;}#sk-container-id-14 div.sk-label label {font-family: monospace;font-weight: bold;display: inline-block;line-height: 1.2em;}#sk-container-id-14 div.sk-label-container {text-align: center;}#sk-container-id-14 div.sk-container {/* jupyter's `normalize.less` sets `[hidden] { display: none; }` but bootstrap.min.css set `[hidden] { display: none !important; }` so we also need the `!important` here to be able to override the default hidden behavior on the sphinx rendered scikit-learn.org. See: https://github.com/scikit-learn/scikit-learn/issues/21755 */display: inline-block !important;position: relative;}#sk-container-id-14 div.sk-text-repr-fallback {display: none;}</style><div id=\"sk-container-id-14\" class=\"sk-top-container\"><div class=\"sk-text-repr-fallback\"><pre>LGBMClassifier(max_depth=8, n_estimators=300, objective=&#x27;binary&#x27;)</pre><b>In a Jupyter environment, please rerun this cell to show the HTML representation or trust the notebook. <br />On GitHub, the HTML representation is unable to render, please try loading this page with nbviewer.org.</b></div><div class=\"sk-container\" hidden><div class=\"sk-item\"><div class=\"sk-estimator sk-toggleable\"><input class=\"sk-toggleable__control sk-hidden--visually\" id=\"sk-estimator-id-14\" type=\"checkbox\" checked><label for=\"sk-estimator-id-14\" class=\"sk-toggleable__label sk-toggleable__label-arrow\">LGBMClassifier</label><div class=\"sk-toggleable__content\"><pre>LGBMClassifier(max_depth=8, n_estimators=300, objective=&#x27;binary&#x27;)</pre></div></div></div></div></div>"
      ],
      "text/plain": [
       "LGBMClassifier(max_depth=8, n_estimators=300, objective='binary')"
      ]
     },
     "execution_count": 42,
     "metadata": {},
     "output_type": "execute_result"
    }
   ],
   "source": [
    "lgbm = LGBMClassifier(n_estimators=300, objective='binary',\n",
    "                      learning_rate=0.1, max_depth=8)\n",
    "lgbm.fit(x_train, y_train, eval_metric='auc', eval_set=evals,\n",
    "        early_stopping_rounds=100, verbose=True)"
   ]
  },
  {
   "cell_type": "code",
   "execution_count": 43,
   "metadata": {
    "vscode": {
     "languageId": "python"
    }
   },
   "outputs": [
    {
     "data": {
      "text/plain": [
       "0.8558799571686652"
      ]
     },
     "execution_count": 43,
     "metadata": {},
     "output_type": "execute_result"
    }
   ],
   "source": [
    "pred = lgbm.predict_proba(x_test)[:,1]\n",
    "roc_auc_score(y_test,pred)"
   ]
  },
  {
   "cell_type": "code",
   "execution_count": 37,
   "metadata": {
    "vscode": {
     "languageId": "python"
    }
   },
   "outputs": [
    {
     "data": {
      "text/plain": [
       "array([ 91,  44, 141,  38, 180, 116,   4,  46,  90], dtype=int32)"
      ]
     },
     "execution_count": 37,
     "metadata": {},
     "output_type": "execute_result"
    }
   ],
   "source": [
    "lgbm.feature_importances_"
   ]
  },
  {
   "cell_type": "code",
   "execution_count": 38,
   "metadata": {
    "vscode": {
     "languageId": "python"
    }
   },
   "outputs": [
    {
     "data": {
      "image/png": "[encoded data removed]",
      "text/plain": [
       "<Figure size 1000x1200 with 1 Axes>"
      ]
     },
     "metadata": {},
     "output_type": "display_data"
    }
   ],
   "source": [
    "from lightgbm import plot_importance\n",
    "fig, ax = plt.subplots(figsize=(10,12))\n",
    "plot_importance(lgbm, ax=ax);"
   ]
  }
 ],
 "metadata": {
  "kernelspec": {
   "display_name": "Python 3 (ipykernel)",
   "language": "python",
   "name": "python3"
  }
 },
 "nbformat": 4,
 "nbformat_minor": 4
}
