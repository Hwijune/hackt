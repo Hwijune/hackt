{
 "cells": [
  {
   "cell_type": "code",
   "execution_count": 2,
   "id": "f41e67be",
   "metadata": {},
   "outputs": [
    {
     "name": "stdout",
     "output_type": "stream",
     "text": [
      "hello\n"
     ]
    }
   ],
   "source": [
    "import numpy as np"
   ]
  },
  {
   "cell_type": "code",
   "execution_count": 3,
   "id": "df28b2e0",
   "metadata": {},
   "outputs": [
    {
     "data": {
      "text/plain": [
       "array([1. , 1.5])"
      ]
     },
     "execution_count": 3,
     "metadata": {},
     "output_type": "execute_result"
    }
   ],
   "source": [
    "alpha = 1/2\n",
    "a = np.array([2,3])\n",
    "alpha * a"
   ]
  },
  {
   "cell_type": "code",
   "execution_count": 4,
   "id": "fcedb66e",
   "metadata": {},
   "outputs": [
    {
     "data": {
      "text/plain": [
       "array([ True,  True])"
      ]
     },
     "execution_count": 4,
     "metadata": {},
     "output_type": "execute_result"
    }
   ],
   "source": [
    "#교환\n",
    "alpha * a == a * alpha"
   ]
  },
  {
   "cell_type": "code",
   "execution_count": 5,
   "id": "7dcc0013",
   "metadata": {},
   "outputs": [
    {
     "data": {
      "text/plain": [
       "array([ True,  True])"
      ]
     },
     "execution_count": 5,
     "metadata": {},
     "output_type": "execute_result"
    }
   ],
   "source": [
    "#분배\n",
    "beta = 0.7\n",
    "(alpha + beta) * a == alpha * a + beta * a"
   ]
  },
  {
   "cell_type": "code",
   "execution_count": 11,
   "id": "2d0d9799",
   "metadata": {},
   "outputs": [
    {
     "name": "stdout",
     "output_type": "stream",
     "text": [
      "[ 1  2  3  4  5  6  7  8  9 10]\n"
     ]
    }
   ],
   "source": [
    "#01\n",
    "#1) 1부터 10까지의 수로 구성된 벡터 생성\n",
    "x = np.arange(1, 11, 1)\n",
    "print(x)"
   ]
  },
  {
   "cell_type": "code",
   "execution_count": 12,
   "id": "6bad5792",
   "metadata": {},
   "outputs": [
    {
     "name": "stdout",
     "output_type": "stream",
     "text": [
      "[0. 0. 0. 0. 0. 0. 1.]\n"
     ]
    }
   ],
   "source": [
    "# 7번째 값만 1이고 나머지는 0인 e7 벡터 생성\n",
    "x = np.zeros(7)\n",
    "x[6] = 1\n",
    "print(x)"
   ]
  },
  {
   "cell_type": "code",
   "execution_count": 20,
   "id": "ca955b35",
   "metadata": {},
   "outputs": [
    {
     "name": "stdout",
     "output_type": "stream",
     "text": [
      "[1.  0.5]\n"
     ]
    }
   ],
   "source": [
    "# [1,3], [3,1] 벡터의 선형 결합으로 [2.5, 3.5] 벡터 생성했을때 B1, B2값\n",
    "A = np.array([[1,3],[3,1]])\n",
    "B = np.array([2.5, 3.5])\n",
    "C = np.linalg.solve(A, B)\n",
    "print(C)"
   ]
  },
  {
   "cell_type": "code",
   "execution_count": null,
   "id": "daf001a4",
   "metadata": {},
   "outputs": [],
   "source": []
  }
 ],
 "metadata": {
  "kernelspec": {
   "display_name": "Python 3 (ipykernel)",
   "language": "python",
   "name": "python3"
  },
  "language_info": {
   "codemirror_mode": {
    "name": "ipython",
    "version": 3
   },
   "file_extension": ".py",
   "mimetype": "text/x-python",
   "name": "python",
   "nbconvert_exporter": "python",
   "pygments_lexer": "ipython3",
   "version": "3.8.10"
  }
 },
 "nbformat": 4,
 "nbformat_minor": 5
}
