{
 "cells": [
  {
   "cell_type": "code",
   "execution_count": 1,
   "id": "955b2383",
   "metadata": {},
   "outputs": [],
   "source": [
    "import numpy as np\n",
    "from scipy import linalg as la"
   ]
  },
  {
   "cell_type": "code",
   "execution_count": 2,
   "id": "8607723a",
   "metadata": {},
   "outputs": [
    {
     "data": {
      "text/plain": [
       "array([-1, -4, 12])"
      ]
     },
     "execution_count": 2,
     "metadata": {},
     "output_type": "execute_result"
    }
   ],
   "source": [
    "#내적 계산\n",
    "a = np.array([-1, 2, 3])\n",
    "b = np.array([1, -2, 4])\n",
    "\n",
    "#원소별 곱 벡터\n",
    "a * b"
   ]
  },
  {
   "cell_type": "code",
   "execution_count": 4,
   "id": "8399418a",
   "metadata": {},
   "outputs": [
    {
     "name": "stdout",
     "output_type": "stream",
     "text": [
      "7\n",
      "7\n",
      "7\n",
      "7\n"
     ]
    }
   ],
   "source": [
    "#원소별 곱 벡터 합\n",
    "print(np.sum(a*b))\n",
    "print(np.inner(a, b))\n",
    "print(np.dot(a,b))\n",
    "print(a.T@b)"
   ]
  },
  {
   "cell_type": "code",
   "execution_count": 6,
   "id": "6d250857",
   "metadata": {},
   "outputs": [],
   "source": [
    "a = np.array([-1,2,3])\n",
    "b = np.array([1,-2,4])\n",
    "c = np.array([1,2,3])\n",
    "alpha = 0.5"
   ]
  },
  {
   "cell_type": "code",
   "execution_count": 12,
   "id": "25cfbd5a",
   "metadata": {},
   "outputs": [
    {
     "name": "stdout",
     "output_type": "stream",
     "text": [
      "True\n",
      "True\n",
      "True\n",
      "True\n"
     ]
    }
   ],
   "source": [
    "#교환 법칙\n",
    "print(np.dot(a,b) == np.dot(b,a))\n",
    "print(a.T @ b == b.T @ a)\n",
    "\n",
    "#결합 법칙\n",
    "print((alpha * a).T @ b == alpha * (a.T @ b))\n",
    "\n",
    "#분배 법칙\n",
    "print((a + b).T @ c == a.T @ c + b.T @ c)"
   ]
  },
  {
   "cell_type": "code",
   "execution_count": 14,
   "id": "13041164",
   "metadata": {},
   "outputs": [
    {
     "data": {
      "text/plain": [
       "6.0"
      ]
     },
     "execution_count": 14,
     "metadata": {},
     "output_type": "execute_result"
    }
   ],
   "source": [
    "# 내적의 활용\n",
    "a = np.array([1,2,3])\n",
    "size = len(a)\n",
    "ones = np.ones(shape=(size,))\n",
    "\n",
    "# 벡터 원소의 합\n",
    "np.dot(ones, a)"
   ]
  },
  {
   "cell_type": "code",
   "execution_count": 15,
   "id": "754df2bb",
   "metadata": {},
   "outputs": [
    {
     "data": {
      "text/plain": [
       "2.0"
      ]
     },
     "execution_count": 15,
     "metadata": {},
     "output_type": "execute_result"
    }
   ],
   "source": [
    "np.dot(ones, a) / len(a)"
   ]
  },
  {
   "cell_type": "code",
   "execution_count": 16,
   "id": "f4d3b736",
   "metadata": {},
   "outputs": [
    {
     "data": {
      "text/plain": [
       "14"
      ]
     },
     "execution_count": 16,
     "metadata": {},
     "output_type": "execute_result"
    }
   ],
   "source": [
    "np.dot(a, a)"
   ]
  },
  {
   "cell_type": "code",
   "execution_count": 6,
   "id": "60e0c26d",
   "metadata": {},
   "outputs": [
    {
     "data": {
      "text/plain": [
       "3.605551275463989"
      ]
     },
     "execution_count": 6,
     "metadata": {},
     "output_type": "execute_result"
    }
   ],
   "source": [
    "#L2 norm, euclidean norm\n",
    "a = np.array([2,3])\n",
    "np.sqrt(np.sum(np.dot(a, a)))"
   ]
  },
  {
   "cell_type": "code",
   "execution_count": 7,
   "id": "4859cdb2",
   "metadata": {},
   "outputs": [
    {
     "data": {
      "text/plain": [
       "3.605551275463989"
      ]
     },
     "execution_count": 7,
     "metadata": {},
     "output_type": "execute_result"
    }
   ],
   "source": [
    "la.norm(a)"
   ]
  },
  {
   "cell_type": "code",
   "execution_count": 18,
   "id": "107fb826",
   "metadata": {},
   "outputs": [
    {
     "name": "stdout",
     "output_type": "stream",
     "text": [
      "[0.18257419 0.36514837 0.54772256 0.73029674]\n"
     ]
    }
   ],
   "source": [
    "#과제 3.1\n",
    "#aT = [1, 2, 3, 4]에 대하여 a / ||a|| 값 구하기\n",
    "\n",
    "#벡터 표준화\n",
    "a = np.array([1,2,3,4])\n",
    "res = a / la.norm(a)\n",
    "print(res)"
   ]
  },
  {
   "cell_type": "code",
   "execution_count": 12,
   "id": "6a70f79a",
   "metadata": {},
   "outputs": [
    {
     "data": {
      "text/plain": [
       "0.9999999999999999"
      ]
     },
     "execution_count": 12,
     "metadata": {},
     "output_type": "execute_result"
    }
   ],
   "source": [
    "#과제 3.2 \n",
    "#a / ||a||에 대하여 || a / || a || ||값 구하기 #시험\n",
    "# normalization\n",
    "# 어떤 벡타가 들어와도 결과는 1\n",
    "la.norm(res)"
   ]
  },
  {
   "cell_type": "code",
   "execution_count": 19,
   "id": "a5e9f1b8",
   "metadata": {},
   "outputs": [
    {
     "data": {
      "text/plain": [
       "True"
      ]
     },
     "execution_count": 19,
     "metadata": {},
     "output_type": "execute_result"
    }
   ],
   "source": [
    "#벡터 노름의 성질\n",
    "a = np.array([-1, 2, 3])\n",
    "b = np.array([1, -2, 4])\n",
    "\n",
    "#스칼라 곱\n",
    "beta = 0.5\n",
    "la.norm(beta * a) == np.abs(beta) * la.norm(a)"
   ]
  },
  {
   "cell_type": "code",
   "execution_count": 4,
   "id": "9a997534",
   "metadata": {},
   "outputs": [
    {
     "data": {
      "text/plain": [
       "True"
      ]
     },
     "execution_count": 4,
     "metadata": {},
     "output_type": "execute_result"
    }
   ],
   "source": [
    "#삼각형의 한 변의 길이는 다른 두변의 길이 합보다 작다.\n",
    "la.norm(a+b) <= la.norm(a) + la.norm(b)"
   ]
  },
  {
   "cell_type": "code",
   "execution_count": 5,
   "id": "3b822647",
   "metadata": {},
   "outputs": [
    {
     "data": {
      "text/plain": [
       "True"
      ]
     },
     "execution_count": 5,
     "metadata": {},
     "output_type": "execute_result"
    }
   ],
   "source": [
    "la.norm(a) >= 0"
   ]
  },
  {
   "cell_type": "code",
   "execution_count": 21,
   "id": "3b020ec9",
   "metadata": {},
   "outputs": [
    {
     "data": {
      "text/plain": [
       "[0.5999999999999999, 53.13010235415599]"
      ]
     },
     "execution_count": 21,
     "metadata": {},
     "output_type": "execute_result"
    }
   ],
   "source": [
    "#코사인 theta 구하기\n",
    "#데이터 구성\n",
    "a = np.array([1,3])\n",
    "b = np.array([3,1])\n",
    "\n",
    "#a.T @ b = ||a|| * ||b|| * cos(theta)\n",
    "cos_theta_rad = np.dot(a,b) / (la.norm(a)*la.norm(b))\n",
    "\n",
    "#theta_rad값 구하기\n",
    "theta_rad = np.arccos(cos_theta_rad)\n",
    "\n",
    "# 각도 전환: pi radian = 180 degree\n",
    "theta = theta_rad * (180/np.pi)\n",
    "[cos_theta_rad, theta]"
   ]
  },
  {
   "cell_type": "code",
   "execution_count": 8,
   "id": "95f9de1e",
   "metadata": {},
   "outputs": [
    {
     "data": {
      "text/plain": [
       "[0.0, 90.0]"
      ]
     },
     "execution_count": 8,
     "metadata": {},
     "output_type": "execute_result"
    }
   ],
   "source": [
    "#과제 4.1\n",
    "#코사인 theta 구하기\n",
    "#데이터 구성\n",
    "a = np.array([0,1])\n",
    "b = np.array([1,0])\n",
    "\n",
    "cos_theta_rad = np.dot(a,b) / (la.norm(a)*la.norm(b))\n",
    "\n",
    "#theta_rad값 구하기\n",
    "theta_rad = np.arccos(cos_theta_rad)\n",
    "\n",
    "# 각도 전환: pi radian = 180 degree\n",
    "theta = theta_rad * (180/np.pi)\n",
    "[cos_theta_rad, theta]"
   ]
  },
  {
   "cell_type": "code",
   "execution_count": 22,
   "id": "43ad4c8d",
   "metadata": {},
   "outputs": [
    {
     "data": {
      "text/plain": [
       "[-0.7071067811865475, 135.0]"
      ]
     },
     "execution_count": 22,
     "metadata": {},
     "output_type": "execute_result"
    }
   ],
   "source": [
    "#과제 4.2\n",
    "#코사인 theta 구하기\n",
    "#데이터 구성\n",
    "a = np.array([-1,-1])\n",
    "b = np.array([1,0])\n",
    "\n",
    "cos_theta_rad = np.dot(a,b) / (la.norm(a)*la.norm(b))\n",
    "\n",
    "#theta_rad값 구하기\n",
    "theta_rad = np.arccos(cos_theta_rad)\n",
    "\n",
    "# 각도 전환: pi radian = 180 degree\n",
    "theta = theta_rad * (180/np.pi)\n",
    "[cos_theta_rad, theta]"
   ]
  },
  {
   "cell_type": "code",
   "execution_count": 67,
   "id": "067ef9d6",
   "metadata": {},
   "outputs": [
    {
     "name": "stdout",
     "output_type": "stream",
     "text": [
      "[ 0. -0. -0.]\n"
     ]
    }
   ],
   "source": [
    "#과제 5.1\n",
    "#구성된 벡터는 서로 독립인지를 확인 해보자.\n",
    "a1 = np.array([1,2,3])\n",
    "a2 = np.array([1,1,2])\n",
    "a3 = np.array([0.5, 2, 1.5])\n",
    "\n",
    "A = np.array([[1,2,3],[1,1,2], [0.5, 2, 1.5]])\n",
    "B = np.array([0,0,0])\n",
    "C = np.linalg.solve(A, B)\n",
    "print(C)"
   ]
  },
  {
   "cell_type": "code",
   "execution_count": 75,
   "id": "26d8466e",
   "metadata": {},
   "outputs": [
    {
     "name": "stdout",
     "output_type": "stream",
     "text": [
      "(2,0), (0,2)\n",
      "(x,0), (0,y) 꼴로 된 벡터는 기저가 될 수 있으며, 평면상 모든 점을 생성할 수 있다.\n"
     ]
    }
   ],
   "source": [
    "#과제 5.2\n",
    "#2차원 즉, 평면에서의 기저를 찾아보자.\n",
    "print(\"(2,0), (0,2)\")\n",
    "print(\"(x,0), (0,y) 꼴로 된 벡터는 기저가 될 수 있으며, 평면상 모든 점을 생성할 수 있다.\")\n"
   ]
  },
  {
   "cell_type": "code",
   "execution_count": 74,
   "id": "df18673b",
   "metadata": {},
   "outputs": [
    {
     "name": "stdout",
     "output_type": "stream",
     "text": [
      "각 벡터의 직교 여부\n",
      "a1.T @ a2 = [[0.]]\n",
      "a1.T @ a3 = [[0.]]\n",
      "a2.T @ a1 = [[0.]]\n",
      "a2.T @ a3 = [[0.]]\n",
      "a3.T @ a1 = [[0.]]\n",
      "a3.T @ a2 = [[0.]]\n",
      "\n",
      "각 벡터의 노름이 1\n",
      "a1 norm : 1.0\n",
      "a2 norm : 0.9999999999999999\n",
      "a3 norm : 0.9999999999999999\n",
      "[[ 1.  0.  0.]\n",
      " [ 0.  1. -0.]\n",
      " [ 0. -0.  1.]]\n"
     ]
    }
   ],
   "source": [
    "#과제 5.3\n",
    "# a1, a2, a3가 서로 직교 정교 벡터임을 확인해보자.\n",
    "\n",
    "#직교정규 벡터 확인\n",
    "a1 = np.array([0,0,1]).reshape(-1, 1)\n",
    "a2 = 1/np.sqrt(2) * np.array([1,1,0]).reshape(-1, 1)\n",
    "a3 = 1/np.sqrt(2) * np.array([1,-1,0]).reshape(-1, 1)\n",
    "\n",
    "#열의 곱 0\n",
    "print('각 벡터의 직교 여부')\n",
    "print(\"a1.T @ a2 =\",np.dot(a1.T,a2))\n",
    "print(\"a1.T @ a3 =\",np.dot(a1.T,a3))\n",
    "print(\"a2.T @ a1 =\",np.dot(a2.T,a1))\n",
    "print(\"a2.T @ a3 =\",np.dot(a2.T,a3))\n",
    "print(\"a3.T @ a1 =\",np.dot(a3.T,a1))\n",
    "print(\"a3.T @ a2 =\",np.dot(a3.T,a2))\n",
    "\n",
    "print()\n",
    "#노름 1\n",
    "print('각 벡터의 노름이 1')\n",
    "print(\"a1 norm :\",la.norm(a1))\n",
    "print(\"a2 norm :\",la.norm(a2))\n",
    "print(\"a3 norm :\",la.norm(a3))\n",
    "\n",
    "A = np.concatenate((a1,a2,a3), axis=1)\n",
    "print(np.round(A.T @ A, 3))"
   ]
  },
  {
   "cell_type": "code",
   "execution_count": null,
   "id": "6cdf1206",
   "metadata": {},
   "outputs": [],
   "source": []
  }
 ],
 "metadata": {
  "kernelspec": {
   "display_name": "Python 3 (ipykernel)",
   "language": "python",
   "name": "python3"
  }
 },
 "nbformat": 4,
 "nbformat_minor": 5
}
