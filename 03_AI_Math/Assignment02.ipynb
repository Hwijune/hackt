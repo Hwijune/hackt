{
 "cells": [
  {
   "cell_type": "code",
   "execution_count": 96,
   "id": "b98a83bf",
   "metadata": {},
   "outputs": [],
   "source": [
    "import numpy as np\n",
    "from scipy import linalg as la"
   ]
  },
  {
   "cell_type": "markdown",
   "id": "dfb71687",
   "metadata": {},
   "source": [
    "### 1) u = a - ||a||e1 값을 구해보자"
   ]
  },
  {
   "cell_type": "code",
   "execution_count": 97,
   "id": "460089b8",
   "metadata": {},
   "outputs": [
    {
     "name": "stdout",
     "output_type": "stream",
     "text": [
      "첫 번째 열벡터 추출\n",
      "[[7]\n",
      " [2]\n",
      " [4]]\n"
     ]
    }
   ],
   "source": [
    "# u 벡터 구하기\n",
    "A = np.array(([7,2,0],\n",
    "              [2,1,3],\n",
    "              [4,8,3]))\n",
    "\n",
    "#첫 번째 열벡터 추출\n",
    "a = A[:,0].reshape(-1, 1)\n",
    "print(\"첫 번째 열벡터 추출\")\n",
    "print(a)"
   ]
  },
  {
   "cell_type": "code",
   "execution_count": 98,
   "id": "3c212ba4",
   "metadata": {},
   "outputs": [
    {
     "name": "stdout",
     "output_type": "stream",
     "text": [
      "u 벡터 결과 값\n",
      "[[-1.30662386]\n",
      " [ 2.        ]\n",
      " [ 4.        ]]\n"
     ]
    }
   ],
   "source": [
    "# 하우스홀더 행렬 Q1 구성\n",
    "size = A.shape[0]\n",
    "e1 = np.identity(n=size)[:,0].reshape(-1,1)\n",
    "\n",
    "#u 벡터 구성\n",
    "u = a - la.norm(a)*e1\n",
    "print(\"u 벡터 결과 값\")\n",
    "print(u)"
   ]
  },
  {
   "cell_type": "markdown",
   "id": "486c4783",
   "metadata": {},
   "source": [
    "### 2) v = u / ||u|| 값을 구해보자"
   ]
  },
  {
   "cell_type": "code",
   "execution_count": 99,
   "id": "7ed68022",
   "metadata": {},
   "outputs": [
    {
     "name": "stdout",
     "output_type": "stream",
     "text": [
      "v 벡터 결과 값\n",
      "[[-0.28044521]\n",
      " [ 0.42926693]\n",
      " [ 0.85853386]]\n"
     ]
    }
   ],
   "source": [
    "# v 벡터 구하기\n",
    "v = u / la.norm(u)\n",
    "print(\"v 벡터 결과 값\")\n",
    "print(v)"
   ]
  },
  {
   "cell_type": "markdown",
   "id": "fc793e07",
   "metadata": {},
   "source": [
    "### 3) Q1 = I3 - 2vvT 값을 구해보자"
   ]
  },
  {
   "cell_type": "code",
   "execution_count": 100,
   "id": "ee79cc4f",
   "metadata": {},
   "outputs": [
    {
     "name": "stdout",
     "output_type": "stream",
     "text": [
      "[[ 0.84  0.24  0.48]\n",
      " [ 0.24  0.63 -0.74]\n",
      " [ 0.48 -0.74 -0.47]]\n"
     ]
    }
   ],
   "source": [
    "Q1 = np.identity(n=size) -2 * v @ v.T\n",
    "print(np.round(Q1,2))"
   ]
  },
  {
   "cell_type": "markdown",
   "id": "de81812e",
   "metadata": {},
   "source": [
    "### 4) 행렬곱 Q1A의 값을 구해보자"
   ]
  },
  {
   "cell_type": "code",
   "execution_count": 101,
   "id": "e57d8f8d",
   "metadata": {},
   "outputs": [
    {
     "name": "stdout",
     "output_type": "stream",
     "text": [
      "Q1A\n",
      "[[ 8.31  5.78  2.17]\n",
      " [-0.   -4.78 -0.32]\n",
      " [-0.   -3.57 -3.63]]\n"
     ]
    }
   ],
   "source": [
    "Q1A = np.round(Q1 @ A, 2)\n",
    "print(\"Q1A\")\n",
    "print(Q1A)"
   ]
  },
  {
   "cell_type": "markdown",
   "id": "b30cd1cf",
   "metadata": {},
   "source": [
    "### 5) A2 = Q1A[1:,1:] 이라고 할 때, A2행렬을 구해보자"
   ]
  },
  {
   "cell_type": "code",
   "execution_count": 103,
   "id": "7f57381b",
   "metadata": {},
   "outputs": [
    {
     "name": "stdout",
     "output_type": "stream",
     "text": [
      "[[-4.78 -0.32]\n",
      " [-3.57 -3.63]]\n"
     ]
    }
   ],
   "source": [
    "A2 = Q1A[1:,1:]\n",
    "print(A2)"
   ]
  },
  {
   "cell_type": "markdown",
   "id": "9b156f68",
   "metadata": {},
   "source": [
    "### 6) A2의 첫번째 열 벡터를 a2이라고 할 때, u2 = a2 - ||a2||e1 값을 구해보자"
   ]
  },
  {
   "cell_type": "code",
   "execution_count": 95,
   "id": "a63362cf",
   "metadata": {},
   "outputs": [
    {
     "name": "stdout",
     "output_type": "stream",
     "text": [
      "첫 번째 열벡터 추출\n",
      "[[-4.78]\n",
      " [-3.57]]\n"
     ]
    }
   ],
   "source": [
    "#첫 번째 열벡터 추출\n",
    "a2 = A2[:,0].reshape(-1, 1)\n",
    "print(\"첫 번째 열벡터 추출\")\n",
    "print(a2)"
   ]
  },
  {
   "cell_type": "code",
   "execution_count": 105,
   "id": "5db873a9",
   "metadata": {},
   "outputs": [
    {
     "name": "stdout",
     "output_type": "stream",
     "text": [
      "u 벡터 결과 값\n",
      "[[-10.74601207]\n",
      " [ -3.57      ]]\n"
     ]
    }
   ],
   "source": [
    "# 하우스홀더 행렬 Q2 구성\n",
    "size = 2\n",
    "e1 = np.identity(n=size)[:,0].reshape(-1,1)\n",
    "\n",
    "#u 벡터 구성\n",
    "u2 = a2 - la.norm(a2)*e1\n",
    "print(\"u 벡터 결과 값\")\n",
    "print(u2)"
   ]
  },
  {
   "cell_type": "markdown",
   "id": "17766f46",
   "metadata": {},
   "source": [
    "### 7) v2 = u2 / ||u2|| 값을 구해보자"
   ]
  },
  {
   "cell_type": "code",
   "execution_count": 106,
   "id": "5316602a",
   "metadata": {},
   "outputs": [
    {
     "name": "stdout",
     "output_type": "stream",
     "text": [
      "v 벡터 결과 값\n",
      "[[-0.94900085]\n",
      " [-0.31527352]]\n"
     ]
    }
   ],
   "source": [
    "# v 벡터 구하기\n",
    "v2 = u2 / la.norm(u2)\n",
    "print(\"v 벡터 결과 값\")\n",
    "print(v2)"
   ]
  },
  {
   "cell_type": "markdown",
   "id": "1e43e7ca",
   "metadata": {},
   "source": [
    "### 8) q2 = I2 - 2v2v2.T 값을 구해보자"
   ]
  },
  {
   "cell_type": "code",
   "execution_count": 107,
   "id": "27173346",
   "metadata": {},
   "outputs": [
    {
     "name": "stdout",
     "output_type": "stream",
     "text": [
      "[[-0.8 -0.6]\n",
      " [-0.6  0.8]]\n"
     ]
    }
   ],
   "source": [
    "q2 = np.identity(n=2) -2 * v2 @ v2.T\n",
    "print(np.round(q2,2))"
   ]
  },
  {
   "cell_type": "markdown",
   "id": "38500937",
   "metadata": {},
   "source": [
    "### 9) Q2를 생성해보자"
   ]
  },
  {
   "cell_type": "code",
   "execution_count": 108,
   "id": "ec6aacba",
   "metadata": {},
   "outputs": [
    {
     "name": "stdout",
     "output_type": "stream",
     "text": [
      "[[ 1.          0.          0.        ]\n",
      " [ 0.         -0.80120522 -0.59838967]\n",
      " [ 0.         -0.59838967  0.80120522]]\n"
     ]
    }
   ],
   "source": [
    "Q2 = np.eye(3)\n",
    "Q2[1:, 1:] = q2\n",
    "print(Q2)"
   ]
  },
  {
   "cell_type": "markdown",
   "id": "015d5b97",
   "metadata": {},
   "source": [
    "### 10) R = Q2Q1A의 행렬 곱을 계산해보자"
   ]
  },
  {
   "cell_type": "code",
   "execution_count": 132,
   "id": "3b646816",
   "metadata": {},
   "outputs": [
    {
     "name": "stdout",
     "output_type": "stream",
     "text": [
      "Q1A\n",
      "[[ 8.31  5.78  2.17]\n",
      " [-0.   -4.78 -0.32]\n",
      " [-0.   -3.57 -3.63]]\n",
      "=======================\n",
      "Q2Q1A\n",
      "[[ 8.31  5.78  2.17]\n",
      " [ 0.    5.97  2.43]\n",
      " [-0.    0.   -2.72]]\n",
      "=======================\n",
      "R은 상삼각행렬이다.\n"
     ]
    }
   ],
   "source": [
    "print(\"Q1A\")\n",
    "print(np.round(Q1@A,2))\n",
    "print(\"=======================\")\n",
    "print(\"Q2Q1A\")\n",
    "R = np.round(Q2@Q1@A, 2)\n",
    "print(R)\n",
    "print(\"=======================\")\n",
    "print(\"R은 상삼각행렬이다.\")"
   ]
  },
  {
   "cell_type": "markdown",
   "id": "0d20cad7",
   "metadata": {},
   "source": [
    "### 11) Q = Q1TQ2T를 계산해보자"
   ]
  },
  {
   "cell_type": "code",
   "execution_count": 133,
   "id": "3e019f93",
   "metadata": {},
   "outputs": [
    {
     "data": {
      "text/plain": [
       "array([[ 0.84, -0.48,  0.24],\n",
       "       [ 0.24, -0.06, -0.97],\n",
       "       [ 0.48,  0.87,  0.06]])"
      ]
     },
     "execution_count": 133,
     "metadata": {},
     "output_type": "execute_result"
    }
   ],
   "source": [
    "Q = np.round(Q1.T @ Q2.T,2)\n",
    "Q"
   ]
  }
 ],
 "metadata": {
  "kernelspec": {
   "display_name": "Python 3 (ipykernel)",
   "language": "python",
   "name": "python3"
  },
  "language_info": {
   "codemirror_mode": {
    "name": "ipython",
    "version": 3
   },
   "file_extension": ".py",
   "mimetype": "text/x-python",
   "name": "python",
   "nbconvert_exporter": "python",
   "pygments_lexer": "ipython3",
   "version": "3.8.10"
  }
 },
 "nbformat": 4,
 "nbformat_minor": 5
}
