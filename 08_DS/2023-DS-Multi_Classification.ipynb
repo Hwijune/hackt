{
 "cells": [
  {
   "cell_type": "code",
   "execution_count": null,
   "metadata": {
    "id": "kRHWEludFY69"
   },
   "outputs": [],
   "source": [
    "import pandas as pd\n",
    "import numpy as np\n",
    "\n",
    "import matplotlib.pyplot as plt\n",
    "plt.rc('axes', unicode_minus=False)\n",
    "%matplotlib inline\n",
    "\n",
    "np.random.seed(123)"
   ]
  },
  {
   "cell_type": "code",
   "execution_count": null,
   "metadata": {
    "id": "_3MJWgfbFY6_",
    "outputId": "6c45de83-940f-4ea7-b15c-eb739e0bdd75"
   },
   "outputs": [
    {
     "name": "stdout",
     "output_type": "stream",
     "text": [
      "<class 'pandas.core.frame.DataFrame'>\n",
      "RangeIndex: 14668 entries, 0 to 14667\n",
      "Columns: 109 entries, STU_ID to X1STU30OCC2\n",
      "dtypes: float64(36), int64(73)\n",
      "memory usage: 12.2 MB\n"
     ]
    }
   ],
   "source": [
    "train = pd.read_csv('data/job_train.csv')\n",
    "test = pd.read_csv('data/job_test.csv')\n",
    "df = pd.concat([train,test])\n",
    "df = df.reset_index(drop=True)\n",
    "df.info()"
   ]
  },
  {
   "cell_type": "code",
   "execution_count": null,
   "metadata": {
    "id": "EcOKqe_9FY7B",
    "outputId": "4178b8a7-4520-4f1a-db19-a8077892e2ac"
   },
   "outputs": [
    {
     "data": {
      "text/plain": [
       "21"
      ]
     },
     "execution_count": 3,
     "metadata": {},
     "output_type": "execute_result"
    }
   ],
   "source": [
    "df.X1STU30OCC2.nunique()"
   ]
  },
  {
   "cell_type": "code",
   "execution_count": null,
   "metadata": {
    "id": "LWevyQoHFY7B",
    "outputId": "4752461f-f4a5-4d47-918f-d8fcec14ce42"
   },
   "outputs": [
    {
     "data": {
      "text/plain": [
       "29.0    3479\n",
       "27.0    2088\n",
       "19.0     844\n",
       "17.0     828\n",
       "23.0     657\n",
       "25.0     616\n",
       "33.0     478\n",
       "55.0     461\n",
       "11.0     369\n",
       "39.0     286\n",
       "15.0     280\n",
       "49.0     254\n",
       "35.0     232\n",
       "13.0     217\n",
       "21.0     165\n",
       "47.0     134\n",
       "53.0     114\n",
       "41.0      88\n",
       "51.0      69\n",
       "31.0      43\n",
       "45.0      38\n",
       "Name: X1STU30OCC2, dtype: int64"
      ]
     },
     "execution_count": 4,
     "metadata": {},
     "output_type": "execute_result"
    }
   ],
   "source": [
    "df.X1STU30OCC2.value_counts()"
   ]
  },
  {
   "cell_type": "code",
   "execution_count": null,
   "metadata": {
    "id": "0_a1bj8gFY7C"
   },
   "outputs": [],
   "source": [
    "df = df.where(~df.isin([-9,-8,-7]), np.nan)\n"
   ]
  },
  {
   "cell_type": "code",
   "execution_count": null,
   "metadata": {
    "id": "3-yyr-BGFY7C"
   },
   "outputs": [],
   "source": [
    "null_check = df.isnull().sum()"
   ]
  },
  {
   "cell_type": "code",
   "execution_count": null,
   "metadata": {
    "id": "wxuXUkEDFY7D"
   },
   "outputs": [],
   "source": [
    "sum_df = df.describe().T.iloc[:,3:]\n",
    "sum_df['null_check'] = null_check\n",
    "sum_df.to_csv('data/sum_df.csv')"
   ]
  },
  {
   "cell_type": "code",
   "execution_count": null,
   "metadata": {
    "id": "tax4VkIsFY7D",
    "outputId": "7bb49396-4090-4a3e-83bf-5a2089ff9a53"
   },
   "outputs": [
    {
     "data": {
      "text/html": [
       "<div>\n",
       "<style scoped>\n",
       "    .dataframe tbody tr th:only-of-type {\n",
       "        vertical-align: middle;\n",
       "    }\n",
       "\n",
       "    .dataframe tbody tr th {\n",
       "        vertical-align: top;\n",
       "    }\n",
       "\n",
       "    .dataframe thead th {\n",
       "        text-align: right;\n",
       "    }\n",
       "</style>\n",
       "<table border=\"1\" class=\"dataframe\">\n",
       "  <thead>\n",
       "    <tr style=\"text-align: right;\">\n",
       "      <th></th>\n",
       "      <th>min</th>\n",
       "      <th>25%</th>\n",
       "      <th>50%</th>\n",
       "      <th>75%</th>\n",
       "      <th>max</th>\n",
       "      <th>null_check</th>\n",
       "    </tr>\n",
       "  </thead>\n",
       "  <tbody>\n",
       "    <tr>\n",
       "      <th>STU_ID</th>\n",
       "      <td>10001.00</td>\n",
       "      <td>16317.75</td>\n",
       "      <td>22661.50</td>\n",
       "      <td>28909.75</td>\n",
       "      <td>35205.00</td>\n",
       "      <td>0</td>\n",
       "    </tr>\n",
       "    <tr>\n",
       "      <th>X1SEX</th>\n",
       "      <td>1.00</td>\n",
       "      <td>1.00</td>\n",
       "      <td>2.00</td>\n",
       "      <td>2.00</td>\n",
       "      <td>2.00</td>\n",
       "      <td>0</td>\n",
       "    </tr>\n",
       "    <tr>\n",
       "      <th>X1RACE</th>\n",
       "      <td>1.00</td>\n",
       "      <td>5.00</td>\n",
       "      <td>8.00</td>\n",
       "      <td>8.00</td>\n",
       "      <td>8.00</td>\n",
       "      <td>0</td>\n",
       "    </tr>\n",
       "    <tr>\n",
       "      <th>X1HISPANIC</th>\n",
       "      <td>0.00</td>\n",
       "      <td>0.00</td>\n",
       "      <td>0.00</td>\n",
       "      <td>0.00</td>\n",
       "      <td>1.00</td>\n",
       "      <td>0</td>\n",
       "    </tr>\n",
       "    <tr>\n",
       "      <th>X1WHITE</th>\n",
       "      <td>0.00</td>\n",
       "      <td>0.00</td>\n",
       "      <td>1.00</td>\n",
       "      <td>1.00</td>\n",
       "      <td>1.00</td>\n",
       "      <td>118</td>\n",
       "    </tr>\n",
       "    <tr>\n",
       "      <th>...</th>\n",
       "      <td>...</td>\n",
       "      <td>...</td>\n",
       "      <td>...</td>\n",
       "      <td>...</td>\n",
       "      <td>...</td>\n",
       "      <td>...</td>\n",
       "    </tr>\n",
       "    <tr>\n",
       "      <th>X1COUPERCOU</th>\n",
       "      <td>-6.43</td>\n",
       "      <td>-0.69</td>\n",
       "      <td>0.26</td>\n",
       "      <td>1.02</td>\n",
       "      <td>1.15</td>\n",
       "      <td>1574</td>\n",
       "    </tr>\n",
       "    <tr>\n",
       "      <th>X1COUPERPRI</th>\n",
       "      <td>-5.51</td>\n",
       "      <td>-0.68</td>\n",
       "      <td>0.20</td>\n",
       "      <td>1.10</td>\n",
       "      <td>1.10</td>\n",
       "      <td>1912</td>\n",
       "    </tr>\n",
       "    <tr>\n",
       "      <th>X1AQSTAT</th>\n",
       "      <td>1.00</td>\n",
       "      <td>1.00</td>\n",
       "      <td>1.00</td>\n",
       "      <td>1.00</td>\n",
       "      <td>8.00</td>\n",
       "      <td>0</td>\n",
       "    </tr>\n",
       "    <tr>\n",
       "      <th>X1AQDATE</th>\n",
       "      <td>200910.00</td>\n",
       "      <td>200911.00</td>\n",
       "      <td>201001.00</td>\n",
       "      <td>201001.00</td>\n",
       "      <td>201001.00</td>\n",
       "      <td>746</td>\n",
       "    </tr>\n",
       "    <tr>\n",
       "      <th>X1STU30OCC2</th>\n",
       "      <td>11.00</td>\n",
       "      <td>23.00</td>\n",
       "      <td>27.00</td>\n",
       "      <td>29.00</td>\n",
       "      <td>55.00</td>\n",
       "      <td>2928</td>\n",
       "    </tr>\n",
       "  </tbody>\n",
       "</table>\n",
       "<p>109 rows × 6 columns</p>\n",
       "</div>"
      ],
      "text/plain": [
       "                   min        25%        50%        75%        max  null_check\n",
       "STU_ID        10001.00   16317.75   22661.50   28909.75   35205.00           0\n",
       "X1SEX             1.00       1.00       2.00       2.00       2.00           0\n",
       "X1RACE            1.00       5.00       8.00       8.00       8.00           0\n",
       "X1HISPANIC        0.00       0.00       0.00       0.00       1.00           0\n",
       "X1WHITE           0.00       0.00       1.00       1.00       1.00         118\n",
       "...                ...        ...        ...        ...        ...         ...\n",
       "X1COUPERCOU      -6.43      -0.69       0.26       1.02       1.15        1574\n",
       "X1COUPERPRI      -5.51      -0.68       0.20       1.10       1.10        1912\n",
       "X1AQSTAT          1.00       1.00       1.00       1.00       8.00           0\n",
       "X1AQDATE     200910.00  200911.00  201001.00  201001.00  201001.00         746\n",
       "X1STU30OCC2      11.00      23.00      27.00      29.00      55.00        2928\n",
       "\n",
       "[109 rows x 6 columns]"
      ]
     },
     "execution_count": 8,
     "metadata": {},
     "output_type": "execute_result"
    }
   ],
   "source": [
    "sum_df "
   ]
  },
  {
   "cell_type": "code",
   "execution_count": null,
   "metadata": {
    "id": "bxWaz1CbFY7D",
    "outputId": "68e014a3-095d-475c-afdf-02600f607096"
   },
   "outputs": [
    {
     "data": {
      "text/plain": [
       "variables\n",
       "STU_ID         0.00\n",
       "X1SEX          0.00\n",
       "X1RACE         0.00\n",
       "X1HISPANIC     0.00\n",
       "X1WHITE        0.00\n",
       "               ... \n",
       "X1COUPERTEA    0.03\n",
       "X1COUPERCOU    0.26\n",
       "X1COUPERPRI    0.20\n",
       "X1AQSTAT       0.00\n",
       "X1STU30OCC2    0.00\n",
       "Name: null_pre, Length: 103, dtype: float64"
      ]
     },
     "execution_count": 9,
     "metadata": {},
     "output_type": "execute_result"
    }
   ],
   "source": [
    "##nullcheck 어떻게 처리할지 정해야함\n",
    "\n",
    "nullp = pd.read_csv('data/null_pre.csv')\n",
    "nullp = nullp.dropna().reset_index(drop=True)\n",
    "nullp = nullp.set_index('variables')['null_pre']\n",
    "nullp"
   ]
  },
  {
   "cell_type": "code",
   "execution_count": null,
   "metadata": {
    "id": "HitGtLJoFY7E"
   },
   "outputs": [],
   "source": [
    "#csv에 작성한 null값을 읽어서 채움\n",
    "df = df[nullp.index]\n",
    "df = df.fillna(nullp)"
   ]
  },
  {
   "cell_type": "code",
   "execution_count": null,
   "metadata": {
    "id": "DDBSRWMBFY7E",
    "outputId": "baa23f50-5181-435f-e013-db06ad723adf"
   },
   "outputs": [
    {
     "data": {
      "text/plain": [
       "0"
      ]
     },
     "execution_count": 11,
     "metadata": {},
     "output_type": "execute_result"
    }
   ],
   "source": [
    "df.isnull().sum().sum()"
   ]
  },
  {
   "cell_type": "code",
   "execution_count": null,
   "metadata": {
    "id": "Z3za0rpyFY7E"
   },
   "outputs": [],
   "source": [
    "df['birthyear'] = (df['X1STDOB']/100).astype('int')\n",
    "df['birthyear'] = (df.birthyear % 1990).astype('int')\n",
    "df['birthmonth'] = (df['X1STDOB']%100).astype('int')"
   ]
  },
  {
   "cell_type": "code",
   "execution_count": null,
   "metadata": {
    "id": "Ja9gqahmFY7E"
   },
   "outputs": [],
   "source": [
    "test = df[df.X1STU30OCC2==0].reset_index(drop=True)\n",
    "test = test.drop(columns = ['X1STU30OCC2'])\n",
    "train = df[df.X1STU30OCC2!=0].reset_index(drop=True)"
   ]
  },
  {
   "cell_type": "code",
   "execution_count": null,
   "metadata": {
    "id": "0sn027SyFY7F"
   },
   "outputs": [],
   "source": [
    "idx2job = train['X1STU30OCC2'].value_counts().reset_index().astype('int')\n",
    "idx2job = idx2job[['index']]\n",
    "idx2job.columns = ['job']\n",
    "idx2job.to_csv('data/idx2job.csv')\n",
    "idx2job = idx2job['job'].to_dict()\n",
    "job2idx = {v:i for i,v in idx2job.items()}"
   ]
  },
  {
   "cell_type": "code",
   "execution_count": null,
   "metadata": {
    "id": "dhf7FFNMFY7F"
   },
   "outputs": [],
   "source": [
    "train['X1STU30OCC2'] = train['X1STU30OCC2'].replace(job2idx).astype('int')"
   ]
  },
  {
   "cell_type": "code",
   "execution_count": null,
   "metadata": {
    "id": "8sHGig6QFY7F"
   },
   "outputs": [],
   "source": [
    "train.to_csv('data/train_ver02.csv', index=False)\n",
    "test.to_csv('data/test_ver02.csv', index=False)"
   ]
  },
  {
   "cell_type": "code",
   "execution_count": null,
   "metadata": {
    "id": "f_gU6LjBFY7F",
    "outputId": "e0125e0d-d5f7-4cfe-9282-030c95b86ee1"
   },
   "outputs": [
    {
     "data": {
      "text/plain": [
       "(11740, 105)"
      ]
     },
     "execution_count": 17,
     "metadata": {},
     "output_type": "execute_result"
    }
   ],
   "source": [
    "train.shape"
   ]
  },
  {
   "cell_type": "code",
   "execution_count": null,
   "metadata": {
    "id": "Yftb7aKvFY7G",
    "outputId": "4fc0308e-274f-4810-c48e-7a87fc97e6ec"
   },
   "outputs": [
    {
     "data": {
      "text/plain": [
       "(2928, 104)"
      ]
     },
     "execution_count": 18,
     "metadata": {},
     "output_type": "execute_result"
    }
   ],
   "source": [
    "test.shape"
   ]
  },
  {
   "cell_type": "code",
   "execution_count": null,
   "metadata": {
    "id": "QOiO7haHHMw5"
   },
   "outputs": [],
   "source": [
    "import pandas as pd\n",
    "import numpy as np\n",
    "from sklearn.ensemble import RandomForestClassifier"
   ]
  },
  {
   "cell_type": "code",
   "execution_count": null,
   "metadata": {
    "id": "NkvRQUi5HMw7",
    "outputId": "38be6e56-0617-48b8-c2a1-3739e7cc9f99"
   },
   "outputs": [
    {
     "data": {
      "text/html": [
       "<div>\n",
       "<style scoped>\n",
       "    .dataframe tbody tr th:only-of-type {\n",
       "        vertical-align: middle;\n",
       "    }\n",
       "\n",
       "    .dataframe tbody tr th {\n",
       "        vertical-align: top;\n",
       "    }\n",
       "\n",
       "    .dataframe thead th {\n",
       "        text-align: right;\n",
       "    }\n",
       "</style>\n",
       "<table border=\"1\" class=\"dataframe\">\n",
       "  <thead>\n",
       "    <tr style=\"text-align: right;\">\n",
       "      <th></th>\n",
       "      <th>X1SEX</th>\n",
       "      <th>X1RACE</th>\n",
       "      <th>X1HISPANIC</th>\n",
       "      <th>X1WHITE</th>\n",
       "      <th>X1BLACK</th>\n",
       "      <th>X1DUALLANG</th>\n",
       "      <th>X1STDOB</th>\n",
       "      <th>X1TXMTH</th>\n",
       "      <th>X1TXMSEM</th>\n",
       "      <th>X1TXMSCR</th>\n",
       "      <th>...</th>\n",
       "      <th>X1LOCALE</th>\n",
       "      <th>X1REGION</th>\n",
       "      <th>X1SCHOOLCLI</th>\n",
       "      <th>X1COUPERTEA</th>\n",
       "      <th>X1COUPERCOU</th>\n",
       "      <th>X1COUPERPRI</th>\n",
       "      <th>X1AQSTAT</th>\n",
       "      <th>X1STU30OCC2</th>\n",
       "      <th>birthyear</th>\n",
       "      <th>birthmonth</th>\n",
       "    </tr>\n",
       "    <tr>\n",
       "      <th>STU_ID</th>\n",
       "      <th></th>\n",
       "      <th></th>\n",
       "      <th></th>\n",
       "      <th></th>\n",
       "      <th></th>\n",
       "      <th></th>\n",
       "      <th></th>\n",
       "      <th></th>\n",
       "      <th></th>\n",
       "      <th></th>\n",
       "      <th></th>\n",
       "      <th></th>\n",
       "      <th></th>\n",
       "      <th></th>\n",
       "      <th></th>\n",
       "      <th></th>\n",
       "      <th></th>\n",
       "      <th></th>\n",
       "      <th></th>\n",
       "      <th></th>\n",
       "      <th></th>\n",
       "    </tr>\n",
       "  </thead>\n",
       "  <tbody>\n",
       "    <tr>\n",
       "      <th>10002</th>\n",
       "      <td>2</td>\n",
       "      <td>8</td>\n",
       "      <td>0</td>\n",
       "      <td>1.0</td>\n",
       "      <td>0.0</td>\n",
       "      <td>1.0</td>\n",
       "      <td>199511.0</td>\n",
       "      <td>-0.2956</td>\n",
       "      <td>0.2696</td>\n",
       "      <td>35.8045</td>\n",
       "      <td>...</td>\n",
       "      <td>4</td>\n",
       "      <td>1</td>\n",
       "      <td>0.32</td>\n",
       "      <td>-0.80</td>\n",
       "      <td>1.15</td>\n",
       "      <td>-1.61</td>\n",
       "      <td>1</td>\n",
       "      <td>0</td>\n",
       "      <td>5</td>\n",
       "      <td>11</td>\n",
       "    </tr>\n",
       "    <tr>\n",
       "      <th>10003</th>\n",
       "      <td>2</td>\n",
       "      <td>3</td>\n",
       "      <td>0</td>\n",
       "      <td>0.0</td>\n",
       "      <td>1.0</td>\n",
       "      <td>1.0</td>\n",
       "      <td>199506.0</td>\n",
       "      <td>1.2997</td>\n",
       "      <td>0.2555</td>\n",
       "      <td>56.0477</td>\n",
       "      <td>...</td>\n",
       "      <td>2</td>\n",
       "      <td>4</td>\n",
       "      <td>-0.61</td>\n",
       "      <td>0.81</td>\n",
       "      <td>-0.15</td>\n",
       "      <td>0.00</td>\n",
       "      <td>1</td>\n",
       "      <td>5</td>\n",
       "      <td>5</td>\n",
       "      <td>6</td>\n",
       "    </tr>\n",
       "    <tr>\n",
       "      <th>10004</th>\n",
       "      <td>2</td>\n",
       "      <td>8</td>\n",
       "      <td>0</td>\n",
       "      <td>1.0</td>\n",
       "      <td>0.0</td>\n",
       "      <td>1.0</td>\n",
       "      <td>199505.0</td>\n",
       "      <td>-0.1427</td>\n",
       "      <td>0.2649</td>\n",
       "      <td>38.0888</td>\n",
       "      <td>...</td>\n",
       "      <td>2</td>\n",
       "      <td>3</td>\n",
       "      <td>-2.14</td>\n",
       "      <td>0.03</td>\n",
       "      <td>0.26</td>\n",
       "      <td>0.20</td>\n",
       "      <td>1</td>\n",
       "      <td>0</td>\n",
       "      <td>5</td>\n",
       "      <td>5</td>\n",
       "    </tr>\n",
       "    <tr>\n",
       "      <th>10005</th>\n",
       "      <td>1</td>\n",
       "      <td>8</td>\n",
       "      <td>0</td>\n",
       "      <td>1.0</td>\n",
       "      <td>0.0</td>\n",
       "      <td>1.0</td>\n",
       "      <td>199505.0</td>\n",
       "      <td>1.1405</td>\n",
       "      <td>0.2312</td>\n",
       "      <td>54.1762</td>\n",
       "      <td>...</td>\n",
       "      <td>1</td>\n",
       "      <td>3</td>\n",
       "      <td>-0.65</td>\n",
       "      <td>-0.25</td>\n",
       "      <td>0.14</td>\n",
       "      <td>0.05</td>\n",
       "      <td>1</td>\n",
       "      <td>10</td>\n",
       "      <td>5</td>\n",
       "      <td>5</td>\n",
       "    </tr>\n",
       "    <tr>\n",
       "      <th>10006</th>\n",
       "      <td>2</td>\n",
       "      <td>8</td>\n",
       "      <td>0</td>\n",
       "      <td>1.0</td>\n",
       "      <td>0.0</td>\n",
       "      <td>1.0</td>\n",
       "      <td>199504.0</td>\n",
       "      <td>0.7106</td>\n",
       "      <td>0.2567</td>\n",
       "      <td>49.0531</td>\n",
       "      <td>...</td>\n",
       "      <td>4</td>\n",
       "      <td>3</td>\n",
       "      <td>-0.31</td>\n",
       "      <td>0.51</td>\n",
       "      <td>-0.90</td>\n",
       "      <td>0.69</td>\n",
       "      <td>1</td>\n",
       "      <td>0</td>\n",
       "      <td>5</td>\n",
       "      <td>4</td>\n",
       "    </tr>\n",
       "  </tbody>\n",
       "</table>\n",
       "<p>5 rows × 104 columns</p>\n",
       "</div>"
      ],
      "text/plain": [
       "        X1SEX  X1RACE  X1HISPANIC  X1WHITE  X1BLACK  X1DUALLANG   X1STDOB  \\\n",
       "STU_ID                                                                      \n",
       "10002       2       8           0      1.0      0.0         1.0  199511.0   \n",
       "10003       2       3           0      0.0      1.0         1.0  199506.0   \n",
       "10004       2       8           0      1.0      0.0         1.0  199505.0   \n",
       "10005       1       8           0      1.0      0.0         1.0  199505.0   \n",
       "10006       2       8           0      1.0      0.0         1.0  199504.0   \n",
       "\n",
       "        X1TXMTH  X1TXMSEM  X1TXMSCR  ...  X1LOCALE  X1REGION  X1SCHOOLCLI  \\\n",
       "STU_ID                               ...                                    \n",
       "10002   -0.2956    0.2696   35.8045  ...         4         1         0.32   \n",
       "10003    1.2997    0.2555   56.0477  ...         2         4        -0.61   \n",
       "10004   -0.1427    0.2649   38.0888  ...         2         3        -2.14   \n",
       "10005    1.1405    0.2312   54.1762  ...         1         3        -0.65   \n",
       "10006    0.7106    0.2567   49.0531  ...         4         3        -0.31   \n",
       "\n",
       "        X1COUPERTEA  X1COUPERCOU  X1COUPERPRI  X1AQSTAT  X1STU30OCC2  \\\n",
       "STU_ID                                                                 \n",
       "10002         -0.80         1.15        -1.61         1            0   \n",
       "10003          0.81        -0.15         0.00         1            5   \n",
       "10004          0.03         0.26         0.20         1            0   \n",
       "10005         -0.25         0.14         0.05         1           10   \n",
       "10006          0.51        -0.90         0.69         1            0   \n",
       "\n",
       "        birthyear  birthmonth  \n",
       "STU_ID                         \n",
       "10002           5          11  \n",
       "10003           5           6  \n",
       "10004           5           5  \n",
       "10005           5           5  \n",
       "10006           5           4  \n",
       "\n",
       "[5 rows x 104 columns]"
      ]
     },
     "execution_count": 2,
     "metadata": {},
     "output_type": "execute_result"
    }
   ],
   "source": [
    "train = pd.read_csv('data/train_ver02.csv', index_col='STU_ID')\n",
    "test = pd.read_csv('data/test_ver02.csv', index_col='STU_ID')\n",
    "idx2job = pd.read_csv('data/idx2job.csv', index_col=0)\n",
    "idx2job = idx2job['job'].to_dict()\n",
    "train.head()"
   ]
  },
  {
   "cell_type": "code",
   "execution_count": null,
   "metadata": {
    "id": "zuxxSPqvHMw9"
   },
   "outputs": [],
   "source": [
    "y = train.X1STU30OCC2\n",
    "x = train.drop(columns='X1STU30OCC2')"
   ]
  },
  {
   "cell_type": "code",
   "execution_count": null,
   "metadata": {
    "id": "GJqs5r8fHMw9",
    "outputId": "20d2927f-b272-436b-e09d-ee7d8ab2e12e"
   },
   "outputs": [
    {
     "data": {
      "text/html": [
       "<style>#sk-container-id-1 {color: black;background-color: white;}#sk-container-id-1 pre{padding: 0;}#sk-container-id-1 div.sk-toggleable {background-color: white;}#sk-container-id-1 label.sk-toggleable__label {cursor: pointer;display: block;width: 100%;margin-bottom: 0;padding: 0.3em;box-sizing: border-box;text-align: center;}#sk-container-id-1 label.sk-toggleable__label-arrow:before {content: \"▸\";float: left;margin-right: 0.25em;color: #696969;}#sk-container-id-1 label.sk-toggleable__label-arrow:hover:before {color: black;}#sk-container-id-1 div.sk-estimator:hover label.sk-toggleable__label-arrow:before {color: black;}#sk-container-id-1 div.sk-toggleable__content {max-height: 0;max-width: 0;overflow: hidden;text-align: left;background-color: #f0f8ff;}#sk-container-id-1 div.sk-toggleable__content pre {margin: 0.2em;color: black;border-radius: 0.25em;background-color: #f0f8ff;}#sk-container-id-1 input.sk-toggleable__control:checked~div.sk-toggleable__content {max-height: 200px;max-width: 100%;overflow: auto;}#sk-container-id-1 input.sk-toggleable__control:checked~label.sk-toggleable__label-arrow:before {content: \"▾\";}#sk-container-id-1 div.sk-estimator input.sk-toggleable__control:checked~label.sk-toggleable__label {background-color: #d4ebff;}#sk-container-id-1 div.sk-label input.sk-toggleable__control:checked~label.sk-toggleable__label {background-color: #d4ebff;}#sk-container-id-1 input.sk-hidden--visually {border: 0;clip: rect(1px 1px 1px 1px);clip: rect(1px, 1px, 1px, 1px);height: 1px;margin: -1px;overflow: hidden;padding: 0;position: absolute;width: 1px;}#sk-container-id-1 div.sk-estimator {font-family: monospace;background-color: #f0f8ff;border: 1px dotted black;border-radius: 0.25em;box-sizing: border-box;margin-bottom: 0.5em;}#sk-container-id-1 div.sk-estimator:hover {background-color: #d4ebff;}#sk-container-id-1 div.sk-parallel-item::after {content: \"\";width: 100%;border-bottom: 1px solid gray;flex-grow: 1;}#sk-container-id-1 div.sk-label:hover label.sk-toggleable__label {background-color: #d4ebff;}#sk-container-id-1 div.sk-serial::before {content: \"\";position: absolute;border-left: 1px solid gray;box-sizing: border-box;top: 0;bottom: 0;left: 50%;z-index: 0;}#sk-container-id-1 div.sk-serial {display: flex;flex-direction: column;align-items: center;background-color: white;padding-right: 0.2em;padding-left: 0.2em;position: relative;}#sk-container-id-1 div.sk-item {position: relative;z-index: 1;}#sk-container-id-1 div.sk-parallel {display: flex;align-items: stretch;justify-content: center;background-color: white;position: relative;}#sk-container-id-1 div.sk-item::before, #sk-container-id-1 div.sk-parallel-item::before {content: \"\";position: absolute;border-left: 1px solid gray;box-sizing: border-box;top: 0;bottom: 0;left: 50%;z-index: -1;}#sk-container-id-1 div.sk-parallel-item {display: flex;flex-direction: column;z-index: 1;position: relative;background-color: white;}#sk-container-id-1 div.sk-parallel-item:first-child::after {align-self: flex-end;width: 50%;}#sk-container-id-1 div.sk-parallel-item:last-child::after {align-self: flex-start;width: 50%;}#sk-container-id-1 div.sk-parallel-item:only-child::after {width: 0;}#sk-container-id-1 div.sk-dashed-wrapped {border: 1px dashed gray;margin: 0 0.4em 0.5em 0.4em;box-sizing: border-box;padding-bottom: 0.4em;background-color: white;}#sk-container-id-1 div.sk-label label {font-family: monospace;font-weight: bold;display: inline-block;line-height: 1.2em;}#sk-container-id-1 div.sk-label-container {text-align: center;}#sk-container-id-1 div.sk-container {/* jupyter's `normalize.less` sets `[hidden] { display: none; }` but bootstrap.min.css set `[hidden] { display: none !important; }` so we also need the `!important` here to be able to override the default hidden behavior on the sphinx rendered scikit-learn.org. See: https://github.com/scikit-learn/scikit-learn/issues/21755 */display: inline-block !important;position: relative;}#sk-container-id-1 div.sk-text-repr-fallback {display: none;}</style><div id=\"sk-container-id-1\" class=\"sk-top-container\"><div class=\"sk-text-repr-fallback\"><pre>RandomForestClassifier(n_estimators=300, n_jobs=-1)</pre><b>In a Jupyter environment, please rerun this cell to show the HTML representation or trust the notebook. <br />On GitHub, the HTML representation is unable to render, please try loading this page with nbviewer.org.</b></div><div class=\"sk-container\" hidden><div class=\"sk-item\"><div class=\"sk-estimator sk-toggleable\"><input class=\"sk-toggleable__control sk-hidden--visually\" id=\"sk-estimator-id-1\" type=\"checkbox\" checked><label for=\"sk-estimator-id-1\" class=\"sk-toggleable__label sk-toggleable__label-arrow\">RandomForestClassifier</label><div class=\"sk-toggleable__content\"><pre>RandomForestClassifier(n_estimators=300, n_jobs=-1)</pre></div></div></div></div></div>"
      ],
      "text/plain": [
       "RandomForestClassifier(n_estimators=300, n_jobs=-1)"
      ]
     },
     "execution_count": 4,
     "metadata": {},
     "output_type": "execute_result"
    }
   ],
   "source": [
    "forest = RandomForestClassifier(n_estimators=300, n_jobs=-1)\n",
    "forest.fit(x,y)"
   ]
  },
  {
   "cell_type": "code",
   "execution_count": null,
   "metadata": {
    "id": "3qZvDJvfHMw9"
   },
   "outputs": [],
   "source": [
    "# 0.37403\n",
    "pred_base = pd.DataFrame({'STU_ID': test.index, 'X1STU30OCC2' : forest.predict(test)})\n",
    "pred_base['X1STU30OCC2'] = pred_base['X1STU30OCC2'].replace(idx2job)\n",
    "pred_base.to_csv('jobrec_baseline.csv', index=False, encoding='utf-8-sig')"
   ]
  },
  {
   "cell_type": "code",
   "execution_count": null,
   "metadata": {
    "id": "XWDM8mdZHMw-",
    "outputId": "3001904c-5cc3-4cdb-8109-7b390fbe3372"
   },
   "outputs": [
    {
     "data": {
      "text/html": [
       "<div>\n",
       "<style scoped>\n",
       "    .dataframe tbody tr th:only-of-type {\n",
       "        vertical-align: middle;\n",
       "    }\n",
       "\n",
       "    .dataframe tbody tr th {\n",
       "        vertical-align: top;\n",
       "    }\n",
       "\n",
       "    .dataframe thead th {\n",
       "        text-align: right;\n",
       "    }\n",
       "</style>\n",
       "<table border=\"1\" class=\"dataframe\">\n",
       "  <thead>\n",
       "    <tr style=\"text-align: right;\">\n",
       "      <th></th>\n",
       "      <th>columns</th>\n",
       "      <th>imp</th>\n",
       "    </tr>\n",
       "  </thead>\n",
       "  <tbody>\n",
       "    <tr>\n",
       "      <th>66</th>\n",
       "      <td>X1STUEDEXPCT</td>\n",
       "      <td>0.023531</td>\n",
       "    </tr>\n",
       "    <tr>\n",
       "      <th>0</th>\n",
       "      <td>X1SEX</td>\n",
       "      <td>0.022778</td>\n",
       "    </tr>\n",
       "    <tr>\n",
       "      <th>8</th>\n",
       "      <td>X1TXMSEM</td>\n",
       "      <td>0.022386</td>\n",
       "    </tr>\n",
       "    <tr>\n",
       "      <th>54</th>\n",
       "      <td>X1SES_U</td>\n",
       "      <td>0.020889</td>\n",
       "    </tr>\n",
       "    <tr>\n",
       "      <th>65</th>\n",
       "      <td>X1SCHOOLENG</td>\n",
       "      <td>0.020816</td>\n",
       "    </tr>\n",
       "    <tr>\n",
       "      <th>...</th>\n",
       "      <td>...</td>\n",
       "      <td>...</td>\n",
       "    </tr>\n",
       "    <tr>\n",
       "      <th>71</th>\n",
       "      <td>X1PQSTAT</td>\n",
       "      <td>0.001097</td>\n",
       "    </tr>\n",
       "    <tr>\n",
       "      <th>17</th>\n",
       "      <td>X1MACC</td>\n",
       "      <td>0.000923</td>\n",
       "    </tr>\n",
       "    <tr>\n",
       "      <th>69</th>\n",
       "      <td>X1TESTSTAT</td>\n",
       "      <td>0.000887</td>\n",
       "    </tr>\n",
       "    <tr>\n",
       "      <th>70</th>\n",
       "      <td>X1SQSTAT</td>\n",
       "      <td>0.000664</td>\n",
       "    </tr>\n",
       "    <tr>\n",
       "      <th>18</th>\n",
       "      <td>X1PARRESP</td>\n",
       "      <td>0.000082</td>\n",
       "    </tr>\n",
       "  </tbody>\n",
       "</table>\n",
       "<p>103 rows × 2 columns</p>\n",
       "</div>"
      ],
      "text/plain": [
       "         columns       imp\n",
       "66  X1STUEDEXPCT  0.023531\n",
       "0          X1SEX  0.022778\n",
       "8       X1TXMSEM  0.022386\n",
       "54       X1SES_U  0.020889\n",
       "65   X1SCHOOLENG  0.020816\n",
       "..           ...       ...\n",
       "71      X1PQSTAT  0.001097\n",
       "17        X1MACC  0.000923\n",
       "69    X1TESTSTAT  0.000887\n",
       "70      X1SQSTAT  0.000664\n",
       "18     X1PARRESP  0.000082\n",
       "\n",
       "[103 rows x 2 columns]"
      ]
     },
     "execution_count": 6,
     "metadata": {},
     "output_type": "execute_result"
    }
   ],
   "source": [
    "imp = forest.feature_importances_\n",
    "idx = np.argsort(imp)[::-1]\n",
    "labels = x.columns\n",
    "pd.DataFrame({'columns':x.columns, 'imp':forest.feature_importances_}).sort_values(by='imp', ascending=False)"
   ]
  },
  {
   "cell_type": "code",
   "execution_count": null,
   "metadata": {
    "id": "4ATJesa4HMw-"
   },
   "outputs": [],
   "source": [
    "x_filter = x[labels[imp>0.01]] #threshold를 줘서 피쳐 줄였음\n",
    "x_filter.shape\n",
    "test_filter = test[x_filter.columns]"
   ]
  },
  {
   "cell_type": "code",
   "execution_count": null,
   "metadata": {
    "id": "Z1bj9F1PHMw_",
    "outputId": "cccb67f8-f1ad-44c2-e2cb-5dcc3965d3c7"
   },
   "outputs": [
    {
     "data": {
      "text/html": [
       "<style>#sk-container-id-2 {color: black;background-color: white;}#sk-container-id-2 pre{padding: 0;}#sk-container-id-2 div.sk-toggleable {background-color: white;}#sk-container-id-2 label.sk-toggleable__label {cursor: pointer;display: block;width: 100%;margin-bottom: 0;padding: 0.3em;box-sizing: border-box;text-align: center;}#sk-container-id-2 label.sk-toggleable__label-arrow:before {content: \"▸\";float: left;margin-right: 0.25em;color: #696969;}#sk-container-id-2 label.sk-toggleable__label-arrow:hover:before {color: black;}#sk-container-id-2 div.sk-estimator:hover label.sk-toggleable__label-arrow:before {color: black;}#sk-container-id-2 div.sk-toggleable__content {max-height: 0;max-width: 0;overflow: hidden;text-align: left;background-color: #f0f8ff;}#sk-container-id-2 div.sk-toggleable__content pre {margin: 0.2em;color: black;border-radius: 0.25em;background-color: #f0f8ff;}#sk-container-id-2 input.sk-toggleable__control:checked~div.sk-toggleable__content {max-height: 200px;max-width: 100%;overflow: auto;}#sk-container-id-2 input.sk-toggleable__control:checked~label.sk-toggleable__label-arrow:before {content: \"▾\";}#sk-container-id-2 div.sk-estimator input.sk-toggleable__control:checked~label.sk-toggleable__label {background-color: #d4ebff;}#sk-container-id-2 div.sk-label input.sk-toggleable__control:checked~label.sk-toggleable__label {background-color: #d4ebff;}#sk-container-id-2 input.sk-hidden--visually {border: 0;clip: rect(1px 1px 1px 1px);clip: rect(1px, 1px, 1px, 1px);height: 1px;margin: -1px;overflow: hidden;padding: 0;position: absolute;width: 1px;}#sk-container-id-2 div.sk-estimator {font-family: monospace;background-color: #f0f8ff;border: 1px dotted black;border-radius: 0.25em;box-sizing: border-box;margin-bottom: 0.5em;}#sk-container-id-2 div.sk-estimator:hover {background-color: #d4ebff;}#sk-container-id-2 div.sk-parallel-item::after {content: \"\";width: 100%;border-bottom: 1px solid gray;flex-grow: 1;}#sk-container-id-2 div.sk-label:hover label.sk-toggleable__label {background-color: #d4ebff;}#sk-container-id-2 div.sk-serial::before {content: \"\";position: absolute;border-left: 1px solid gray;box-sizing: border-box;top: 0;bottom: 0;left: 50%;z-index: 0;}#sk-container-id-2 div.sk-serial {display: flex;flex-direction: column;align-items: center;background-color: white;padding-right: 0.2em;padding-left: 0.2em;position: relative;}#sk-container-id-2 div.sk-item {position: relative;z-index: 1;}#sk-container-id-2 div.sk-parallel {display: flex;align-items: stretch;justify-content: center;background-color: white;position: relative;}#sk-container-id-2 div.sk-item::before, #sk-container-id-2 div.sk-parallel-item::before {content: \"\";position: absolute;border-left: 1px solid gray;box-sizing: border-box;top: 0;bottom: 0;left: 50%;z-index: -1;}#sk-container-id-2 div.sk-parallel-item {display: flex;flex-direction: column;z-index: 1;position: relative;background-color: white;}#sk-container-id-2 div.sk-parallel-item:first-child::after {align-self: flex-end;width: 50%;}#sk-container-id-2 div.sk-parallel-item:last-child::after {align-self: flex-start;width: 50%;}#sk-container-id-2 div.sk-parallel-item:only-child::after {width: 0;}#sk-container-id-2 div.sk-dashed-wrapped {border: 1px dashed gray;margin: 0 0.4em 0.5em 0.4em;box-sizing: border-box;padding-bottom: 0.4em;background-color: white;}#sk-container-id-2 div.sk-label label {font-family: monospace;font-weight: bold;display: inline-block;line-height: 1.2em;}#sk-container-id-2 div.sk-label-container {text-align: center;}#sk-container-id-2 div.sk-container {/* jupyter's `normalize.less` sets `[hidden] { display: none; }` but bootstrap.min.css set `[hidden] { display: none !important; }` so we also need the `!important` here to be able to override the default hidden behavior on the sphinx rendered scikit-learn.org. See: https://github.com/scikit-learn/scikit-learn/issues/21755 */display: inline-block !important;position: relative;}#sk-container-id-2 div.sk-text-repr-fallback {display: none;}</style><div id=\"sk-container-id-2\" class=\"sk-top-container\"><div class=\"sk-text-repr-fallback\"><pre>RandomForestClassifier(n_estimators=300, n_jobs=-1)</pre><b>In a Jupyter environment, please rerun this cell to show the HTML representation or trust the notebook. <br />On GitHub, the HTML representation is unable to render, please try loading this page with nbviewer.org.</b></div><div class=\"sk-container\" hidden><div class=\"sk-item\"><div class=\"sk-estimator sk-toggleable\"><input class=\"sk-toggleable__control sk-hidden--visually\" id=\"sk-estimator-id-2\" type=\"checkbox\" checked><label for=\"sk-estimator-id-2\" class=\"sk-toggleable__label sk-toggleable__label-arrow\">RandomForestClassifier</label><div class=\"sk-toggleable__content\"><pre>RandomForestClassifier(n_estimators=300, n_jobs=-1)</pre></div></div></div></div></div>"
      ],
      "text/plain": [
       "RandomForestClassifier(n_estimators=300, n_jobs=-1)"
      ]
     },
     "execution_count": 8,
     "metadata": {},
     "output_type": "execute_result"
    }
   ],
   "source": [
    "forest_small = RandomForestClassifier(n_estimators=300, n_jobs=-1)\n",
    "forest_small.fit(x_filter,y)"
   ]
  },
  {
   "cell_type": "code",
   "execution_count": null,
   "metadata": {
    "id": "3kMmCzfwHMw_"
   },
   "outputs": [],
   "source": [
    "#0.37959\n",
    "g_small = pd.DataFrame({'STU_ID': test.index, 'X1STU30OCC2' : forest_small.predict(test_filter)})\n",
    "g_small['X1STU30OCC2'] = g_small['X1STU30OCC2'].replace(idx2job)\n",
    "g_small.to_csv('jobrec_small.csv', index=False, encoding='utf-8-sig')"
   ]
  },
  {
   "cell_type": "code",
   "execution_count": null,
   "metadata": {
    "id": "6ZVkxFD_HMw_",
    "outputId": "9a3ec692-08b6-4807-a150-c72c975b5dbd"
   },
   "outputs": [
    {
     "name": "stderr",
     "output_type": "stream",
     "text": [
      "/var/folders/vt/76d2nkdd2msb93lkngc6yv1r0000gn/T/ipykernel_3221/692845606.py:2: SettingWithCopyWarning: \n",
      "A value is trying to be set on a copy of a slice from a DataFrame.\n",
      "Try using .loc[row_indexer,col_indexer] = value instead\n",
      "\n",
      "See the caveats in the documentation: https://pandas.pydata.org/pandas-docs/stable/user_guide/indexing.html#returning-a-view-versus-a-copy\n",
      "  train_new['X1STU30OCC2'] = y.values\n"
     ]
    }
   ],
   "source": [
    "train_new = x_filter\n",
    "train_new['X1STU30OCC2'] = y.values\n",
    "train_new.reset_index().to_csv('data/train_ver03.csv',index=False, encoding='utf-8-sig')\n",
    "test_filter.reset_index().to_csv('data/test_ver03.csv',index=False, encoding='utf-8-sig')"
   ]
  },
  {
   "cell_type": "code",
   "execution_count": 1,
   "metadata": {},
   "outputs": [],
   "source": [
    "import pandas as pd\n",
    "import numpy as np\n",
    "from sklearn.model_selection import train_test_split\n",
    "np.random.seed(123)"
   ]
  },
  {
   "cell_type": "code",
   "execution_count": 2,
   "metadata": {},
   "outputs": [
    {
     "data": {
      "text/html": [
       "<div>\n",
       "<style scoped>\n",
       "    .dataframe tbody tr th:only-of-type {\n",
       "        vertical-align: middle;\n",
       "    }\n",
       "\n",
       "    .dataframe tbody tr th {\n",
       "        vertical-align: top;\n",
       "    }\n",
       "\n",
       "    .dataframe thead th {\n",
       "        text-align: right;\n",
       "    }\n",
       "</style>\n",
       "<table border=\"1\" class=\"dataframe\">\n",
       "  <thead>\n",
       "    <tr style=\"text-align: right;\">\n",
       "      <th></th>\n",
       "      <th>X1SEX</th>\n",
       "      <th>X1STDOB</th>\n",
       "      <th>X1TXMTH</th>\n",
       "      <th>X1TXMSEM</th>\n",
       "      <th>X1TXMSCR</th>\n",
       "      <th>X1TXMTSCOR</th>\n",
       "      <th>X1TXMPROF1</th>\n",
       "      <th>X1TXMPROF2</th>\n",
       "      <th>X1TXMPROF3</th>\n",
       "      <th>X1TXMPROF4</th>\n",
       "      <th>...</th>\n",
       "      <th>X1TSEFF</th>\n",
       "      <th>X1TSEXP</th>\n",
       "      <th>X1TSPRINC</th>\n",
       "      <th>X1TSRESP</th>\n",
       "      <th>X1SCHOOLCLI</th>\n",
       "      <th>X1COUPERTEA</th>\n",
       "      <th>X1COUPERCOU</th>\n",
       "      <th>X1COUPERPRI</th>\n",
       "      <th>birthmonth</th>\n",
       "      <th>X1STU30OCC2</th>\n",
       "    </tr>\n",
       "    <tr>\n",
       "      <th>STU_ID</th>\n",
       "      <th></th>\n",
       "      <th></th>\n",
       "      <th></th>\n",
       "      <th></th>\n",
       "      <th></th>\n",
       "      <th></th>\n",
       "      <th></th>\n",
       "      <th></th>\n",
       "      <th></th>\n",
       "      <th></th>\n",
       "      <th></th>\n",
       "      <th></th>\n",
       "      <th></th>\n",
       "      <th></th>\n",
       "      <th></th>\n",
       "      <th></th>\n",
       "      <th></th>\n",
       "      <th></th>\n",
       "      <th></th>\n",
       "      <th></th>\n",
       "      <th></th>\n",
       "    </tr>\n",
       "  </thead>\n",
       "  <tbody>\n",
       "    <tr>\n",
       "      <th>10002</th>\n",
       "      <td>2</td>\n",
       "      <td>199511.0</td>\n",
       "      <td>-0.2956</td>\n",
       "      <td>0.2696</td>\n",
       "      <td>35.8045</td>\n",
       "      <td>47.6821</td>\n",
       "      <td>0.9714</td>\n",
       "      <td>0.5204</td>\n",
       "      <td>0.1768</td>\n",
       "      <td>0.0582</td>\n",
       "      <td>...</td>\n",
       "      <td>-0.86</td>\n",
       "      <td>0.54</td>\n",
       "      <td>-0.13</td>\n",
       "      <td>-0.13</td>\n",
       "      <td>0.32</td>\n",
       "      <td>-0.80</td>\n",
       "      <td>1.15</td>\n",
       "      <td>-1.61</td>\n",
       "      <td>11</td>\n",
       "      <td>0</td>\n",
       "    </tr>\n",
       "    <tr>\n",
       "      <th>10003</th>\n",
       "      <td>2</td>\n",
       "      <td>199506.0</td>\n",
       "      <td>1.2997</td>\n",
       "      <td>0.2555</td>\n",
       "      <td>56.0477</td>\n",
       "      <td>64.2431</td>\n",
       "      <td>1.0000</td>\n",
       "      <td>0.9914</td>\n",
       "      <td>0.9838</td>\n",
       "      <td>0.6606</td>\n",
       "      <td>...</td>\n",
       "      <td>0.17</td>\n",
       "      <td>0.16</td>\n",
       "      <td>-0.13</td>\n",
       "      <td>-0.13</td>\n",
       "      <td>-0.61</td>\n",
       "      <td>0.81</td>\n",
       "      <td>-0.15</td>\n",
       "      <td>0.00</td>\n",
       "      <td>6</td>\n",
       "      <td>5</td>\n",
       "    </tr>\n",
       "    <tr>\n",
       "      <th>10004</th>\n",
       "      <td>2</td>\n",
       "      <td>199505.0</td>\n",
       "      <td>-0.1427</td>\n",
       "      <td>0.2649</td>\n",
       "      <td>38.0888</td>\n",
       "      <td>49.2690</td>\n",
       "      <td>0.9843</td>\n",
       "      <td>0.6416</td>\n",
       "      <td>0.2459</td>\n",
       "      <td>0.0662</td>\n",
       "      <td>...</td>\n",
       "      <td>0.17</td>\n",
       "      <td>0.16</td>\n",
       "      <td>-0.13</td>\n",
       "      <td>-0.13</td>\n",
       "      <td>-2.14</td>\n",
       "      <td>0.03</td>\n",
       "      <td>0.26</td>\n",
       "      <td>0.20</td>\n",
       "      <td>5</td>\n",
       "      <td>0</td>\n",
       "    </tr>\n",
       "    <tr>\n",
       "      <th>10005</th>\n",
       "      <td>1</td>\n",
       "      <td>199505.0</td>\n",
       "      <td>1.1405</td>\n",
       "      <td>0.2312</td>\n",
       "      <td>54.1762</td>\n",
       "      <td>62.5897</td>\n",
       "      <td>0.9999</td>\n",
       "      <td>0.9863</td>\n",
       "      <td>0.9686</td>\n",
       "      <td>0.5385</td>\n",
       "      <td>...</td>\n",
       "      <td>-0.25</td>\n",
       "      <td>1.37</td>\n",
       "      <td>-0.13</td>\n",
       "      <td>-0.30</td>\n",
       "      <td>-0.65</td>\n",
       "      <td>-0.25</td>\n",
       "      <td>0.14</td>\n",
       "      <td>0.05</td>\n",
       "      <td>5</td>\n",
       "      <td>10</td>\n",
       "    </tr>\n",
       "    <tr>\n",
       "      <th>10006</th>\n",
       "      <td>2</td>\n",
       "      <td>199504.0</td>\n",
       "      <td>0.7106</td>\n",
       "      <td>0.2567</td>\n",
       "      <td>49.0531</td>\n",
       "      <td>58.1268</td>\n",
       "      <td>0.9995</td>\n",
       "      <td>0.9539</td>\n",
       "      <td>0.8469</td>\n",
       "      <td>0.2463</td>\n",
       "      <td>...</td>\n",
       "      <td>-0.86</td>\n",
       "      <td>-1.12</td>\n",
       "      <td>-0.32</td>\n",
       "      <td>-0.13</td>\n",
       "      <td>-0.31</td>\n",
       "      <td>0.51</td>\n",
       "      <td>-0.90</td>\n",
       "      <td>0.69</td>\n",
       "      <td>4</td>\n",
       "      <td>0</td>\n",
       "    </tr>\n",
       "  </tbody>\n",
       "</table>\n",
       "<p>5 rows × 44 columns</p>\n",
       "</div>"
      ],
      "text/plain": [
       "        X1SEX   X1STDOB  X1TXMTH  X1TXMSEM  X1TXMSCR  X1TXMTSCOR  X1TXMPROF1  \\\n",
       "STU_ID                                                                         \n",
       "10002       2  199511.0  -0.2956    0.2696   35.8045     47.6821      0.9714   \n",
       "10003       2  199506.0   1.2997    0.2555   56.0477     64.2431      1.0000   \n",
       "10004       2  199505.0  -0.1427    0.2649   38.0888     49.2690      0.9843   \n",
       "10005       1  199505.0   1.1405    0.2312   54.1762     62.5897      0.9999   \n",
       "10006       2  199504.0   0.7106    0.2567   49.0531     58.1268      0.9995   \n",
       "\n",
       "        X1TXMPROF2  X1TXMPROF3  X1TXMPROF4  ...  X1TSEFF  X1TSEXP  X1TSPRINC  \\\n",
       "STU_ID                                      ...                                \n",
       "10002       0.5204      0.1768      0.0582  ...    -0.86     0.54      -0.13   \n",
       "10003       0.9914      0.9838      0.6606  ...     0.17     0.16      -0.13   \n",
       "10004       0.6416      0.2459      0.0662  ...     0.17     0.16      -0.13   \n",
       "10005       0.9863      0.9686      0.5385  ...    -0.25     1.37      -0.13   \n",
       "10006       0.9539      0.8469      0.2463  ...    -0.86    -1.12      -0.32   \n",
       "\n",
       "        X1TSRESP  X1SCHOOLCLI  X1COUPERTEA  X1COUPERCOU  X1COUPERPRI  \\\n",
       "STU_ID                                                                 \n",
       "10002      -0.13         0.32        -0.80         1.15        -1.61   \n",
       "10003      -0.13        -0.61         0.81        -0.15         0.00   \n",
       "10004      -0.13        -2.14         0.03         0.26         0.20   \n",
       "10005      -0.30        -0.65        -0.25         0.14         0.05   \n",
       "10006      -0.13        -0.31         0.51        -0.90         0.69   \n",
       "\n",
       "        birthmonth  X1STU30OCC2  \n",
       "STU_ID                           \n",
       "10002           11            0  \n",
       "10003            6            5  \n",
       "10004            5            0  \n",
       "10005            5           10  \n",
       "10006            4            0  \n",
       "\n",
       "[5 rows x 44 columns]"
      ]
     },
     "execution_count": 2,
     "metadata": {},
     "output_type": "execute_result"
    }
   ],
   "source": [
    "df = pd.read_csv('data/train_ver03.csv', index_col='STU_ID')\n",
    "df.head()"
   ]
  },
  {
   "cell_type": "code",
   "execution_count": 3,
   "metadata": {},
   "outputs": [],
   "source": [
    "y = df.X1STU30OCC2\n",
    "x = df.drop(columns='X1STU30OCC2')\n",
    "x_train, x_test, y_train, y_test = train_test_split(x, y, stratify=y)"
   ]
  },
  {
   "cell_type": "code",
   "execution_count": 4,
   "metadata": {},
   "outputs": [
    {
     "data": {
      "text/plain": [
       "0     0.296309\n",
       "1     0.177853\n",
       "2     0.071891\n",
       "3     0.070528\n",
       "4     0.055991\n",
       "5     0.052470\n",
       "6     0.040772\n",
       "7     0.039296\n",
       "8     0.031459\n",
       "9     0.024304\n",
       "10    0.023850\n",
       "11    0.021579\n",
       "12    0.019761\n",
       "13    0.018512\n",
       "14    0.014083\n",
       "15    0.011357\n",
       "16    0.009654\n",
       "17    0.007496\n",
       "18    0.005906\n",
       "19    0.003634\n",
       "20    0.003294\n",
       "Name: X1STU30OCC2, dtype: float64"
      ]
     },
     "execution_count": 4,
     "metadata": {},
     "output_type": "execute_result"
    }
   ],
   "source": [
    "y_train.value_counts(normalize=True)"
   ]
  },
  {
   "cell_type": "code",
   "execution_count": 5,
   "metadata": {},
   "outputs": [
    {
     "data": {
      "text/plain": [
       "0     0.296422\n",
       "1     0.177853\n",
       "2     0.071891\n",
       "3     0.070528\n",
       "4     0.055877\n",
       "5     0.052470\n",
       "6     0.040545\n",
       "7     0.039182\n",
       "8     0.031346\n",
       "9     0.024532\n",
       "10    0.023850\n",
       "11    0.021806\n",
       "12    0.019761\n",
       "13    0.018399\n",
       "14    0.013969\n",
       "15    0.011584\n",
       "16    0.009881\n",
       "17    0.007496\n",
       "18    0.005792\n",
       "19    0.003748\n",
       "20    0.003066\n",
       "Name: X1STU30OCC2, dtype: float64"
      ]
     },
     "execution_count": 5,
     "metadata": {},
     "output_type": "execute_result"
    }
   ],
   "source": [
    "y_test.value_counts(normalize=True)"
   ]
  },
  {
   "cell_type": "code",
   "execution_count": 6,
   "metadata": {},
   "outputs": [],
   "source": [
    "import joblib\n",
    "with open('data/my_val.pkl', 'wb') as f:\n",
    "    joblib.dump({'x':x_train,\n",
    "                 'y':y_train,\n",
    "                 'val_x':x_test,\n",
    "                 'val_y':y_test},f)"
   ]
  },
  {
   "cell_type": "code",
   "execution_count": null,
   "metadata": {
    "id": "CWdg85kLIaTJ"
   },
   "outputs": [],
   "source": [
    "import pandas as pd\n",
    "import numpy as np\n",
    "import joblib"
   ]
  },
  {
   "cell_type": "code",
   "execution_count": null,
   "metadata": {
    "id": "3KnIv2lTIaTM",
    "outputId": "eb4a3eed-1af0-4499-fcfc-4ddda10e2c89"
   },
   "outputs": [
    {
     "name": "stdout",
     "output_type": "stream",
     "text": [
      "dict_keys(['x', 'y', 'val_x', 'val_y'])\n"
     ]
    }
   ],
   "source": [
    "with open('data/my_val.pkl', 'rb') as f:\n",
    "    data = joblib.load(f)\n",
    "    print(data.keys())\n",
    "locals().update(data)\n",
    "del data\n",
    "np.random.seed(123)"
   ]
  },
  {
   "cell_type": "code",
   "execution_count": null,
   "metadata": {
    "id": "ZJcrO4QOIaTN",
    "outputId": "c474958b-c1bd-4dab-96b2-fd2cd5ab55a9"
   },
   "outputs": [
    {
     "data": {
      "text/html": [
       "<div>\n",
       "<style scoped>\n",
       "    .dataframe tbody tr th:only-of-type {\n",
       "        vertical-align: middle;\n",
       "    }\n",
       "\n",
       "    .dataframe tbody tr th {\n",
       "        vertical-align: top;\n",
       "    }\n",
       "\n",
       "    .dataframe thead th {\n",
       "        text-align: right;\n",
       "    }\n",
       "</style>\n",
       "<table border=\"1\" class=\"dataframe\">\n",
       "  <thead>\n",
       "    <tr style=\"text-align: right;\">\n",
       "      <th></th>\n",
       "      <th>X1SEX</th>\n",
       "      <th>X1STDOB</th>\n",
       "      <th>X1TXMTH</th>\n",
       "      <th>X1TXMSEM</th>\n",
       "      <th>X1TXMSCR</th>\n",
       "      <th>X1TXMTSCOR</th>\n",
       "      <th>X1TXMPROF1</th>\n",
       "      <th>X1TXMPROF2</th>\n",
       "      <th>X1TXMPROF3</th>\n",
       "      <th>X1TXMPROF4</th>\n",
       "      <th>...</th>\n",
       "      <th>X1TSCOMM</th>\n",
       "      <th>X1TSEFF</th>\n",
       "      <th>X1TSEXP</th>\n",
       "      <th>X1TSPRINC</th>\n",
       "      <th>X1TSRESP</th>\n",
       "      <th>X1SCHOOLCLI</th>\n",
       "      <th>X1COUPERTEA</th>\n",
       "      <th>X1COUPERCOU</th>\n",
       "      <th>X1COUPERPRI</th>\n",
       "      <th>birthmonth</th>\n",
       "    </tr>\n",
       "    <tr>\n",
       "      <th>STU_ID</th>\n",
       "      <th></th>\n",
       "      <th></th>\n",
       "      <th></th>\n",
       "      <th></th>\n",
       "      <th></th>\n",
       "      <th></th>\n",
       "      <th></th>\n",
       "      <th></th>\n",
       "      <th></th>\n",
       "      <th></th>\n",
       "      <th></th>\n",
       "      <th></th>\n",
       "      <th></th>\n",
       "      <th></th>\n",
       "      <th></th>\n",
       "      <th></th>\n",
       "      <th></th>\n",
       "      <th></th>\n",
       "      <th></th>\n",
       "      <th></th>\n",
       "      <th></th>\n",
       "    </tr>\n",
       "  </thead>\n",
       "  <tbody>\n",
       "    <tr>\n",
       "      <th>12424</th>\n",
       "      <td>1</td>\n",
       "      <td>199509.0</td>\n",
       "      <td>-0.1663</td>\n",
       "      <td>0.2511</td>\n",
       "      <td>37.7431</td>\n",
       "      <td>49.0240</td>\n",
       "      <td>0.9827</td>\n",
       "      <td>0.6242</td>\n",
       "      <td>0.2338</td>\n",
       "      <td>0.0648</td>\n",
       "      <td>...</td>\n",
       "      <td>0.01</td>\n",
       "      <td>0.17</td>\n",
       "      <td>0.16</td>\n",
       "      <td>-0.13</td>\n",
       "      <td>-0.13</td>\n",
       "      <td>-1.19</td>\n",
       "      <td>0.16</td>\n",
       "      <td>1.15</td>\n",
       "      <td>1.10</td>\n",
       "      <td>9</td>\n",
       "    </tr>\n",
       "    <tr>\n",
       "      <th>14300</th>\n",
       "      <td>1</td>\n",
       "      <td>199503.0</td>\n",
       "      <td>-0.6779</td>\n",
       "      <td>0.2836</td>\n",
       "      <td>29.9986</td>\n",
       "      <td>43.7132</td>\n",
       "      <td>0.8859</td>\n",
       "      <td>0.2278</td>\n",
       "      <td>0.0824</td>\n",
       "      <td>0.0468</td>\n",
       "      <td>...</td>\n",
       "      <td>1.32</td>\n",
       "      <td>-0.09</td>\n",
       "      <td>0.16</td>\n",
       "      <td>0.56</td>\n",
       "      <td>-0.33</td>\n",
       "      <td>1.00</td>\n",
       "      <td>1.07</td>\n",
       "      <td>-0.02</td>\n",
       "      <td>1.10</td>\n",
       "      <td>3</td>\n",
       "    </tr>\n",
       "    <tr>\n",
       "      <th>29579</th>\n",
       "      <td>1</td>\n",
       "      <td>199508.0</td>\n",
       "      <td>1.1883</td>\n",
       "      <td>0.2463</td>\n",
       "      <td>54.7405</td>\n",
       "      <td>63.0867</td>\n",
       "      <td>0.9999</td>\n",
       "      <td>0.9881</td>\n",
       "      <td>0.9742</td>\n",
       "      <td>0.5761</td>\n",
       "      <td>...</td>\n",
       "      <td>0.01</td>\n",
       "      <td>0.17</td>\n",
       "      <td>0.16</td>\n",
       "      <td>-0.13</td>\n",
       "      <td>-0.13</td>\n",
       "      <td>0.14</td>\n",
       "      <td>0.03</td>\n",
       "      <td>0.26</td>\n",
       "      <td>0.20</td>\n",
       "      <td>8</td>\n",
       "    </tr>\n",
       "    <tr>\n",
       "      <th>28217</th>\n",
       "      <td>1</td>\n",
       "      <td>199502.0</td>\n",
       "      <td>-2.1054</td>\n",
       "      <td>0.3637</td>\n",
       "      <td>17.2372</td>\n",
       "      <td>28.8934</td>\n",
       "      <td>0.0374</td>\n",
       "      <td>0.0174</td>\n",
       "      <td>0.0284</td>\n",
       "      <td>0.0371</td>\n",
       "      <td>...</td>\n",
       "      <td>1.32</td>\n",
       "      <td>-0.09</td>\n",
       "      <td>0.16</td>\n",
       "      <td>0.56</td>\n",
       "      <td>-0.33</td>\n",
       "      <td>1.00</td>\n",
       "      <td>1.07</td>\n",
       "      <td>-0.02</td>\n",
       "      <td>1.10</td>\n",
       "      <td>2</td>\n",
       "    </tr>\n",
       "    <tr>\n",
       "      <th>11561</th>\n",
       "      <td>2</td>\n",
       "      <td>199504.0</td>\n",
       "      <td>0.3538</td>\n",
       "      <td>0.2378</td>\n",
       "      <td>44.6988</td>\n",
       "      <td>54.4230</td>\n",
       "      <td>0.9979</td>\n",
       "      <td>0.8838</td>\n",
       "      <td>0.6065</td>\n",
       "      <td>0.1260</td>\n",
       "      <td>...</td>\n",
       "      <td>0.01</td>\n",
       "      <td>-0.71</td>\n",
       "      <td>-0.64</td>\n",
       "      <td>-0.24</td>\n",
       "      <td>0.22</td>\n",
       "      <td>-1.54</td>\n",
       "      <td>-0.60</td>\n",
       "      <td>-1.38</td>\n",
       "      <td>-1.11</td>\n",
       "      <td>4</td>\n",
       "    </tr>\n",
       "  </tbody>\n",
       "</table>\n",
       "<p>5 rows × 43 columns</p>\n",
       "</div>"
      ],
      "text/plain": [
       "        X1SEX   X1STDOB  X1TXMTH  X1TXMSEM  X1TXMSCR  X1TXMTSCOR  X1TXMPROF1  \\\n",
       "STU_ID                                                                         \n",
       "12424       1  199509.0  -0.1663    0.2511   37.7431     49.0240      0.9827   \n",
       "14300       1  199503.0  -0.6779    0.2836   29.9986     43.7132      0.8859   \n",
       "29579       1  199508.0   1.1883    0.2463   54.7405     63.0867      0.9999   \n",
       "28217       1  199502.0  -2.1054    0.3637   17.2372     28.8934      0.0374   \n",
       "11561       2  199504.0   0.3538    0.2378   44.6988     54.4230      0.9979   \n",
       "\n",
       "        X1TXMPROF2  X1TXMPROF3  X1TXMPROF4  ...  X1TSCOMM  X1TSEFF  X1TSEXP  \\\n",
       "STU_ID                                      ...                               \n",
       "12424       0.6242      0.2338      0.0648  ...      0.01     0.17     0.16   \n",
       "14300       0.2278      0.0824      0.0468  ...      1.32    -0.09     0.16   \n",
       "29579       0.9881      0.9742      0.5761  ...      0.01     0.17     0.16   \n",
       "28217       0.0174      0.0284      0.0371  ...      1.32    -0.09     0.16   \n",
       "11561       0.8838      0.6065      0.1260  ...      0.01    -0.71    -0.64   \n",
       "\n",
       "        X1TSPRINC  X1TSRESP  X1SCHOOLCLI  X1COUPERTEA  X1COUPERCOU  \\\n",
       "STU_ID                                                               \n",
       "12424       -0.13     -0.13        -1.19         0.16         1.15   \n",
       "14300        0.56     -0.33         1.00         1.07        -0.02   \n",
       "29579       -0.13     -0.13         0.14         0.03         0.26   \n",
       "28217        0.56     -0.33         1.00         1.07        -0.02   \n",
       "11561       -0.24      0.22        -1.54        -0.60        -1.38   \n",
       "\n",
       "        X1COUPERPRI  birthmonth  \n",
       "STU_ID                           \n",
       "12424          1.10           9  \n",
       "14300          1.10           3  \n",
       "29579          0.20           8  \n",
       "28217          1.10           2  \n",
       "11561         -1.11           4  \n",
       "\n",
       "[5 rows x 43 columns]"
      ]
     },
     "execution_count": 3,
     "metadata": {},
     "output_type": "execute_result"
    }
   ],
   "source": [
    "test = pd.read_csv('data/test_ver03.csv', index_col='STU_ID')\n",
    "idx2job = pd.read_csv('data/idx2job.csv', index_col=0)\n",
    "idx2job = idx2job['job'].to_dict()\n",
    "test.head()"
   ]
  },
  {
   "cell_type": "markdown",
   "metadata": {
    "id": "70Tl_EyEIaTO"
   },
   "source": [
    "- baseline modeling"
   ]
  },
  {
   "cell_type": "markdown",
   "metadata": {
    "id": "336_hkClIaTa"
   },
   "source": [
    "Pipeline(steps=[('전처리', MinMaxScaler()),\n",
    "                ('알고리즘',\n",
    "                 RandomForestClassifier(max_depth=16, n_estimators=300))])"
   ]
  },
  {
   "cell_type": "code",
   "execution_count": null,
   "metadata": {
    "id": "Ca4g1xcOIaTa"
   },
   "outputs": [],
   "source": [
    "from sklearn.pipeline import Pipeline\n",
    "from sklearn.ensemble import RandomForestClassifier\n",
    "from sklearn.preprocessing import MinMaxScaler\n",
    "pipe = Pipeline([('전처리',MinMaxScaler()), \n",
    "                 ('알고리즘', RandomForestClassifier(max_depth=16, n_estimators=300))])"
   ]
  },
  {
   "cell_type": "code",
   "execution_count": null,
   "metadata": {
    "id": "64q0-XyGIaTb",
    "outputId": "565bdc23-2047-4377-8377-ba31854a64fd"
   },
   "outputs": [
    {
     "data": {
      "text/html": [
       "<style>#sk-container-id-1 {color: black;background-color: white;}#sk-container-id-1 pre{padding: 0;}#sk-container-id-1 div.sk-toggleable {background-color: white;}#sk-container-id-1 label.sk-toggleable__label {cursor: pointer;display: block;width: 100%;margin-bottom: 0;padding: 0.3em;box-sizing: border-box;text-align: center;}#sk-container-id-1 label.sk-toggleable__label-arrow:before {content: \"▸\";float: left;margin-right: 0.25em;color: #696969;}#sk-container-id-1 label.sk-toggleable__label-arrow:hover:before {color: black;}#sk-container-id-1 div.sk-estimator:hover label.sk-toggleable__label-arrow:before {color: black;}#sk-container-id-1 div.sk-toggleable__content {max-height: 0;max-width: 0;overflow: hidden;text-align: left;background-color: #f0f8ff;}#sk-container-id-1 div.sk-toggleable__content pre {margin: 0.2em;color: black;border-radius: 0.25em;background-color: #f0f8ff;}#sk-container-id-1 input.sk-toggleable__control:checked~div.sk-toggleable__content {max-height: 200px;max-width: 100%;overflow: auto;}#sk-container-id-1 input.sk-toggleable__control:checked~label.sk-toggleable__label-arrow:before {content: \"▾\";}#sk-container-id-1 div.sk-estimator input.sk-toggleable__control:checked~label.sk-toggleable__label {background-color: #d4ebff;}#sk-container-id-1 div.sk-label input.sk-toggleable__control:checked~label.sk-toggleable__label {background-color: #d4ebff;}#sk-container-id-1 input.sk-hidden--visually {border: 0;clip: rect(1px 1px 1px 1px);clip: rect(1px, 1px, 1px, 1px);height: 1px;margin: -1px;overflow: hidden;padding: 0;position: absolute;width: 1px;}#sk-container-id-1 div.sk-estimator {font-family: monospace;background-color: #f0f8ff;border: 1px dotted black;border-radius: 0.25em;box-sizing: border-box;margin-bottom: 0.5em;}#sk-container-id-1 div.sk-estimator:hover {background-color: #d4ebff;}#sk-container-id-1 div.sk-parallel-item::after {content: \"\";width: 100%;border-bottom: 1px solid gray;flex-grow: 1;}#sk-container-id-1 div.sk-label:hover label.sk-toggleable__label {background-color: #d4ebff;}#sk-container-id-1 div.sk-serial::before {content: \"\";position: absolute;border-left: 1px solid gray;box-sizing: border-box;top: 0;bottom: 0;left: 50%;z-index: 0;}#sk-container-id-1 div.sk-serial {display: flex;flex-direction: column;align-items: center;background-color: white;padding-right: 0.2em;padding-left: 0.2em;position: relative;}#sk-container-id-1 div.sk-item {position: relative;z-index: 1;}#sk-container-id-1 div.sk-parallel {display: flex;align-items: stretch;justify-content: center;background-color: white;position: relative;}#sk-container-id-1 div.sk-item::before, #sk-container-id-1 div.sk-parallel-item::before {content: \"\";position: absolute;border-left: 1px solid gray;box-sizing: border-box;top: 0;bottom: 0;left: 50%;z-index: -1;}#sk-container-id-1 div.sk-parallel-item {display: flex;flex-direction: column;z-index: 1;position: relative;background-color: white;}#sk-container-id-1 div.sk-parallel-item:first-child::after {align-self: flex-end;width: 50%;}#sk-container-id-1 div.sk-parallel-item:last-child::after {align-self: flex-start;width: 50%;}#sk-container-id-1 div.sk-parallel-item:only-child::after {width: 0;}#sk-container-id-1 div.sk-dashed-wrapped {border: 1px dashed gray;margin: 0 0.4em 0.5em 0.4em;box-sizing: border-box;padding-bottom: 0.4em;background-color: white;}#sk-container-id-1 div.sk-label label {font-family: monospace;font-weight: bold;display: inline-block;line-height: 1.2em;}#sk-container-id-1 div.sk-label-container {text-align: center;}#sk-container-id-1 div.sk-container {/* jupyter's `normalize.less` sets `[hidden] { display: none; }` but bootstrap.min.css set `[hidden] { display: none !important; }` so we also need the `!important` here to be able to override the default hidden behavior on the sphinx rendered scikit-learn.org. See: https://github.com/scikit-learn/scikit-learn/issues/21755 */display: inline-block !important;position: relative;}#sk-container-id-1 div.sk-text-repr-fallback {display: none;}</style><div id=\"sk-container-id-1\" class=\"sk-top-container\"><div class=\"sk-text-repr-fallback\"><pre>Pipeline(steps=[(&#x27;전처리&#x27;, MinMaxScaler()),\n",
       "                (&#x27;알고리즘&#x27;,\n",
       "                 RandomForestClassifier(max_depth=16, n_estimators=300))])</pre><b>In a Jupyter environment, please rerun this cell to show the HTML representation or trust the notebook. <br />On GitHub, the HTML representation is unable to render, please try loading this page with nbviewer.org.</b></div><div class=\"sk-container\" hidden><div class=\"sk-item sk-dashed-wrapped\"><div class=\"sk-label-container\"><div class=\"sk-label sk-toggleable\"><input class=\"sk-toggleable__control sk-hidden--visually\" id=\"sk-estimator-id-1\" type=\"checkbox\" ><label for=\"sk-estimator-id-1\" class=\"sk-toggleable__label sk-toggleable__label-arrow\">Pipeline</label><div class=\"sk-toggleable__content\"><pre>Pipeline(steps=[(&#x27;전처리&#x27;, MinMaxScaler()),\n",
       "                (&#x27;알고리즘&#x27;,\n",
       "                 RandomForestClassifier(max_depth=16, n_estimators=300))])</pre></div></div></div><div class=\"sk-serial\"><div class=\"sk-item\"><div class=\"sk-estimator sk-toggleable\"><input class=\"sk-toggleable__control sk-hidden--visually\" id=\"sk-estimator-id-2\" type=\"checkbox\" ><label for=\"sk-estimator-id-2\" class=\"sk-toggleable__label sk-toggleable__label-arrow\">MinMaxScaler</label><div class=\"sk-toggleable__content\"><pre>MinMaxScaler()</pre></div></div></div><div class=\"sk-item\"><div class=\"sk-estimator sk-toggleable\"><input class=\"sk-toggleable__control sk-hidden--visually\" id=\"sk-estimator-id-3\" type=\"checkbox\" ><label for=\"sk-estimator-id-3\" class=\"sk-toggleable__label sk-toggleable__label-arrow\">RandomForestClassifier</label><div class=\"sk-toggleable__content\"><pre>RandomForestClassifier(max_depth=16, n_estimators=300)</pre></div></div></div></div></div></div></div>"
      ],
      "text/plain": [
       "Pipeline(steps=[('전처리', MinMaxScaler()),\n",
       "                ('알고리즘',\n",
       "                 RandomForestClassifier(max_depth=16, n_estimators=300))])"
      ]
     },
     "execution_count": 5,
     "metadata": {},
     "output_type": "execute_result"
    }
   ],
   "source": [
    "pipe.fit(x,y)"
   ]
  },
  {
   "cell_type": "code",
   "execution_count": null,
   "metadata": {
    "id": "38YVgnRxIaTb",
    "outputId": "758608b8-8b80-4507-93bb-26ada58bec3b"
   },
   "outputs": [
    {
     "data": {
      "text/plain": [
       "0.37103918228279387"
      ]
     },
     "execution_count": 6,
     "metadata": {},
     "output_type": "execute_result"
    }
   ],
   "source": [
    "from sklearn.metrics import accuracy_score\n",
    "accuracy_score(val_y, pipe.predict(val_x))"
   ]
  },
  {
   "cell_type": "code",
   "execution_count": null,
   "metadata": {
    "id": "OFe67uftIaTb"
   },
   "outputs": [],
   "source": [
    "#0.38129\n",
    "pipe_base = pd.DataFrame({'STU_ID': test.index, 'X1STU30OCC2' : pipe.predict(test)})\n",
    "pipe_base['X1STU30OCC2'] = pipe_base['X1STU30OCC2'].replace(idx2job)\n",
    "pipe_base.to_csv('pipe_base.csv', index=False, encoding='utf-8-sig')"
   ]
  },
  {
   "cell_type": "markdown",
   "metadata": {
    "id": "ypjpdUiPIaTb"
   },
   "source": [
    "- one-vs-all modeling"
   ]
  },
  {
   "cell_type": "code",
   "execution_count": null,
   "metadata": {
    "id": "yakKtSTEIaTc",
    "outputId": "0262e60b-db08-4f32-c34c-765f04626322"
   },
   "outputs": [
    {
     "data": {
      "text/plain": [
       "array([ 2, 11,  5,  0,  3,  6, 10,  8,  9, 13, 16,  1, 15,  4,  7, 12, 14,\n",
       "       18, 17, 19, 20])"
      ]
     },
     "execution_count": 8,
     "metadata": {},
     "output_type": "execute_result"
    }
   ],
   "source": [
    "my_class = y.unique()\n",
    "my_class"
   ]
  },
  {
   "cell_type": "code",
   "execution_count": null,
   "metadata": {
    "id": "gwGxrRvPIaTc"
   },
   "outputs": [],
   "source": [
    "my_models = []\n",
    "for s in my_class:\n",
    "    target = x.loc[y[y==s].index]\n",
    "    #non_target = x.loc[y[y!=s].index]\n",
    "    # undersampling코드\n",
    "    non_target = x.loc[y[y!=s].index].sample(len(target))\n",
    "    my_sample = pd.concat([target, non_target])\n",
    "    my_sample = my_sample.sample(len(my_sample))\n",
    "    my_y = pd.concat([pd.Series(1, index=y.loc[target.index].index),\n",
    "                      pd.Series(0, y.loc[non_target.index].index)])\n",
    "    my_y = my_y.loc[my_sample.index]\n",
    "\n",
    "#### 모델 학습해서 my_models에 append, 1을 오바되게 잘 맞추면 점수 잘나옴\n",
    "    pipe = Pipeline([('전처리',MinMaxScaler()), \n",
    "                     ('알고리즘', RandomForestClassifier(max_depth=16, n_estimators=300))])\n",
    "    pipe.fit(my_sample, my_y)\n",
    "####    \n",
    "    my_models.append(pipe)"
   ]
  },
  {
   "cell_type": "markdown",
   "metadata": {
    "id": "qYo9HsEqIaTc"
   },
   "source": [
    "- Undersampling?\n",
    "- Pipeline? 최적모델 탐색"
   ]
  },
  {
   "cell_type": "code",
   "execution_count": null,
   "metadata": {
    "id": "t9IPT3WrIaTd"
   },
   "outputs": [],
   "source": [
    "#21개 모델에 대한 예측 결과 생성(validation)\n",
    "pred = np.zeros((len(val_x), len(my_class)))\n",
    "for i, m in enumerate(my_models):\n",
    "    p = m.predict_proba(val_x)[:,1]\n",
    "    pred[:,i] = p\n",
    "pred_class = [my_class[i] for i in pred.argmax(axis=1)]"
   ]
  },
  {
   "cell_type": "code",
   "execution_count": null,
   "metadata": {
    "id": "aUJc48TfIaTd",
    "outputId": "4957e0b4-2e6c-4d18-b882-7fcd31adfd7b"
   },
   "outputs": [
    {
     "data": {
      "text/plain": [
       "0.36626916524701875"
      ]
     },
     "execution_count": 11,
     "metadata": {},
     "output_type": "execute_result"
    }
   ],
   "source": [
    "accuracy_score(val_y, pred_class)"
   ]
  },
  {
   "cell_type": "code",
   "execution_count": null,
   "metadata": {
    "id": "tOhe-_pRIaTd"
   },
   "outputs": [],
   "source": [
    "#21개 모델에 대한 예측 결과 생성(test) : 0.37532\n",
    "pred = np.zeros((len(test), len(my_class)))\n",
    "for i, m in enumerate(my_models):\n",
    "    p = m.predict_proba(test)[:,1]\n",
    "    pred[:,i] = p\n",
    "pred_class = [my_class[i] for i in pred.argmax(axis=1)]\n",
    "one_vs_all = pd.DataFrame({'STU_ID': test.index, 'X1STU30OCC2' : pred_class})\n",
    "one_vs_all['X1STU30OCC2'] = one_vs_all['X1STU30OCC2'].replace(idx2job)\n",
    "one_vs_all.to_csv('one_vs_all.csv', index=False, encoding='utf-8-sig')"
   ]
  },
  {
   "cell_type": "code",
   "execution_count": null,
   "metadata": {
    "id": "BYUiZubvIaTd"
   },
   "outputs": [],
   "source": [
    "with open('data/one-vs-all.pkl', 'wb') as f:\n",
    "    joblib.dump({'my_models':my_models},f)"
   ]
  }
 ],
 "metadata": {
  "colab": {
   "provenance": []
  },
  "kernelspec": {
   "display_name": "Python 3 (ipykernel)",
   "language": "python",
   "name": "python3"
  },
  "language_info": {
   "codemirror_mode": {
    "name": "ipython",
    "version": 3
   },
   "file_extension": ".py",
   "mimetype": "text/x-python",
   "name": "python",
   "nbconvert_exporter": "python",
   "pygments_lexer": "ipython3",
   "version": "3.10.5"
  }
 },
 "nbformat": 4,
 "nbformat_minor": 0
}
