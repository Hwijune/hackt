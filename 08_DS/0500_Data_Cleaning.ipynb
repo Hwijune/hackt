{
 "cells": [
  {
   "cell_type": "code",
   "execution_count": 1,
   "id": "f10f8c05",
   "metadata": {},
   "outputs": [],
   "source": [
    "import pandas as pd\n",
    "import numpy as np"
   ]
  },
  {
   "cell_type": "code",
   "execution_count": 2,
   "id": "e734a0c1",
   "metadata": {},
   "outputs": [],
   "source": [
    "tr = pd.read_csv('data/acc_train.csv')\n",
    "te = pd.read_csv('data/acc_test.csv')\n",
    "df = pd.concat([tr,te])"
   ]
  },
  {
   "cell_type": "code",
   "execution_count": 3,
   "id": "d09edd7b",
   "metadata": {},
   "outputs": [],
   "source": [
    "df = df.set_index('my_id')"
   ]
  },
  {
   "cell_type": "code",
   "execution_count": 4,
   "id": "ff332aa8",
   "metadata": {},
   "outputs": [
    {
     "name": "stdout",
     "output_type": "stream",
     "text": [
      "<class 'pandas.core.frame.DataFrame'>\n",
      "Index: 74485 entries, A000002 to A020850\n",
      "Data columns (total 20 columns):\n",
      " #   Column     Non-Null Count  Dtype  \n",
      "---  ------     --------------  -----  \n",
      " 0   사고일시       74485 non-null  object \n",
      " 1   사고지역       74485 non-null  object \n",
      " 2   사망자수       74485 non-null  int64  \n",
      " 3   중상자수       74485 non-null  int64  \n",
      " 4   경상자수       74485 non-null  int64  \n",
      " 5   부상신고자수     74485 non-null  int64  \n",
      " 6   사고유형       74485 non-null  object \n",
      " 7   법규위반       74485 non-null  object \n",
      " 8   노면상태       74485 non-null  object \n",
      " 9   기상상태       73575 non-null  object \n",
      " 10  도로형태       74485 non-null  object \n",
      " 11  가해운전자차종    72734 non-null  object \n",
      " 12  가해운전자성별    72738 non-null  object \n",
      " 13  가해운전자연령    72727 non-null  float64\n",
      " 14  가해운전자상해정도  70172 non-null  object \n",
      " 15  피해운전자차종    72225 non-null  object \n",
      " 16  피해운전자성별    72225 non-null  object \n",
      " 17  피해운전자연령    72049 non-null  float64\n",
      " 18  피해운전자상해정도  72225 non-null  object \n",
      " 19  음주운전       59589 non-null  float64\n",
      "dtypes: float64(3), int64(4), object(13)\n",
      "memory usage: 11.9+ MB\n"
     ]
    }
   ],
   "source": [
    "df.info()"
   ]
  },
  {
   "cell_type": "code",
   "execution_count": 5,
   "id": "6c16a4be",
   "metadata": {},
   "outputs": [],
   "source": [
    "df['사고일시'] = pd.to_datetime(df['사고일시'], format=\"%Y년 %m월 %d일 %H시\", errors='coerce')\n",
    "df.insert(0,'사고월', df['사고일시'].dt.month)\n",
    "df.insert(1,'사고일', df['사고일시'].dt.day)\n",
    "df.insert(2,'사고시각', df['사고일시'].dt.hour)\n",
    "df.insert(3,'사고요일', df['사고일시'].dt.weekday)"
   ]
  },
  {
   "cell_type": "code",
   "execution_count": 6,
   "id": "05940857",
   "metadata": {},
   "outputs": [
    {
     "name": "stdout",
     "output_type": "stream",
     "text": [
      "<class 'pandas.core.frame.DataFrame'>\n",
      "Index: 74485 entries, A000002 to A020850\n",
      "Data columns (total 24 columns):\n",
      " #   Column     Non-Null Count  Dtype         \n",
      "---  ------     --------------  -----         \n",
      " 0   사고월        74485 non-null  int64         \n",
      " 1   사고일        74485 non-null  int64         \n",
      " 2   사고시각       74485 non-null  int64         \n",
      " 3   사고요일       74485 non-null  int64         \n",
      " 4   사고일시       74485 non-null  datetime64[ns]\n",
      " 5   사고지역       74485 non-null  object        \n",
      " 6   사망자수       74485 non-null  int64         \n",
      " 7   중상자수       74485 non-null  int64         \n",
      " 8   경상자수       74485 non-null  int64         \n",
      " 9   부상신고자수     74485 non-null  int64         \n",
      " 10  사고유형       74485 non-null  object        \n",
      " 11  법규위반       74485 non-null  object        \n",
      " 12  노면상태       74485 non-null  object        \n",
      " 13  기상상태       73575 non-null  object        \n",
      " 14  도로형태       74485 non-null  object        \n",
      " 15  가해운전자차종    72734 non-null  object        \n",
      " 16  가해운전자성별    72738 non-null  object        \n",
      " 17  가해운전자연령    72727 non-null  float64       \n",
      " 18  가해운전자상해정도  70172 non-null  object        \n",
      " 19  피해운전자차종    72225 non-null  object        \n",
      " 20  피해운전자성별    72225 non-null  object        \n",
      " 21  피해운전자연령    72049 non-null  float64       \n",
      " 22  피해운전자상해정도  72225 non-null  object        \n",
      " 23  음주운전       59589 non-null  float64       \n",
      "dtypes: datetime64[ns](1), float64(3), int64(8), object(12)\n",
      "memory usage: 14.2+ MB\n"
     ]
    }
   ],
   "source": [
    "df.info()"
   ]
  },
  {
   "cell_type": "code",
   "execution_count": 7,
   "id": "f504a3bd",
   "metadata": {},
   "outputs": [
    {
     "data": {
      "text/plain": [
       "사고지역         465\n",
       "사고유형          17\n",
       "법규위반          11\n",
       "노면상태          11\n",
       "기상상태           5\n",
       "도로형태          11\n",
       "가해운전자차종       11\n",
       "가해운전자성별        2\n",
       "가해운전자상해정도      5\n",
       "피해운전자차종       13\n",
       "피해운전자성별        3\n",
       "피해운전자상해정도      6\n",
       "dtype: int64"
      ]
     },
     "execution_count": 7,
     "metadata": {},
     "output_type": "execute_result"
    }
   ],
   "source": [
    "df.select_dtypes('object').nunique()"
   ]
  },
  {
   "cell_type": "code",
   "execution_count": 8,
   "id": "de127343",
   "metadata": {},
   "outputs": [
    {
     "name": "stdout",
     "output_type": "stream",
     "text": [
      "<class 'pandas.core.frame.DataFrame'>\n",
      "Index: 74485 entries, A000002 to A020850\n",
      "Data columns (total 26 columns):\n",
      " #   Column     Non-Null Count  Dtype         \n",
      "---  ------     --------------  -----         \n",
      " 0   사고월        74485 non-null  int64         \n",
      " 1   사고일        74485 non-null  int64         \n",
      " 2   사고시각       74485 non-null  int64         \n",
      " 3   사고요일       74485 non-null  int64         \n",
      " 4   사고일시       74485 non-null  datetime64[ns]\n",
      " 5   사고지역       74485 non-null  object        \n",
      " 6   사망자수       74485 non-null  int64         \n",
      " 7   중상자수       74485 non-null  int64         \n",
      " 8   경상자수       74485 non-null  int64         \n",
      " 9   부상신고자수     74485 non-null  int64         \n",
      " 10  사고유형_대범주   74485 non-null  object        \n",
      " 11  사고유형_소범주   74485 non-null  object        \n",
      " 12  법규위반       74485 non-null  object        \n",
      " 13  노면상태       74485 non-null  object        \n",
      " 14  기상상태       73575 non-null  object        \n",
      " 15  도로형태_대범주   74485 non-null  object        \n",
      " 16  도로형태_소범주   74485 non-null  object        \n",
      " 17  가해운전자차종    72734 non-null  object        \n",
      " 18  가해운전자성별    72738 non-null  object        \n",
      " 19  가해운전자연령    72727 non-null  float64       \n",
      " 20  가해운전자상해정도  70172 non-null  object        \n",
      " 21  피해운전자차종    72225 non-null  object        \n",
      " 22  피해운전자성별    72225 non-null  object        \n",
      " 23  피해운전자연령    72049 non-null  float64       \n",
      " 24  피해운전자상해정도  72225 non-null  object        \n",
      " 25  음주운전       59589 non-null  float64       \n",
      "dtypes: datetime64[ns](1), float64(3), int64(8), object(14)\n",
      "memory usage: 15.3+ MB\n"
     ]
    }
   ],
   "source": [
    "df['사고지역'] = df['사고지역'].str.split().str[0]\n",
    "df.insert(10, '사고유형_대범주', df['사고유형'].str.split(' - ').str[0])\n",
    "df.insert(15, '도로형태_대범주', df['도로형태'].str.split(' - ').str[0])\n",
    "my_dict = {'사고유형':'사고유형_소범주',\n",
    "           '도로형태':'도로형태_소범주'}\n",
    "df = df.rename(columns=my_dict)\n",
    "df.info()"
   ]
  },
  {
   "cell_type": "code",
   "execution_count": 9,
   "id": "7078e102",
   "metadata": {},
   "outputs": [],
   "source": [
    "col = ['사고일시']\n",
    "df = df.drop(columns=col)"
   ]
  },
  {
   "cell_type": "code",
   "execution_count": 10,
   "id": "91cda6f2",
   "metadata": {},
   "outputs": [
    {
     "name": "stdout",
     "output_type": "stream",
     "text": [
      "<class 'pandas.core.frame.DataFrame'>\n",
      "Index: 74485 entries, A000002 to A020850\n",
      "Data columns (total 25 columns):\n",
      " #   Column     Non-Null Count  Dtype  \n",
      "---  ------     --------------  -----  \n",
      " 0   사고월        74485 non-null  int64  \n",
      " 1   사고일        74485 non-null  int64  \n",
      " 2   사고시각       74485 non-null  int64  \n",
      " 3   사고요일       74485 non-null  int64  \n",
      " 4   사고지역       74485 non-null  object \n",
      " 5   사망자수       74485 non-null  int64  \n",
      " 6   중상자수       74485 non-null  int64  \n",
      " 7   경상자수       74485 non-null  int64  \n",
      " 8   부상신고자수     74485 non-null  int64  \n",
      " 9   사고유형_대범주   74485 non-null  object \n",
      " 10  사고유형_소범주   74485 non-null  object \n",
      " 11  법규위반       74485 non-null  object \n",
      " 12  노면상태       74485 non-null  object \n",
      " 13  기상상태       73575 non-null  object \n",
      " 14  도로형태_대범주   74485 non-null  object \n",
      " 15  도로형태_소범주   74485 non-null  object \n",
      " 16  가해운전자차종    72734 non-null  object \n",
      " 17  가해운전자성별    72738 non-null  object \n",
      " 18  가해운전자연령    72727 non-null  float64\n",
      " 19  가해운전자상해정도  70172 non-null  object \n",
      " 20  피해운전자차종    72225 non-null  object \n",
      " 21  피해운전자성별    72225 non-null  object \n",
      " 22  피해운전자연령    72049 non-null  float64\n",
      " 23  피해운전자상해정도  72225 non-null  object \n",
      " 24  음주운전       59589 non-null  float64\n",
      "dtypes: float64(3), int64(8), object(14)\n",
      "memory usage: 14.8+ MB\n"
     ]
    }
   ],
   "source": [
    "df.info()"
   ]
  },
  {
   "cell_type": "code",
   "execution_count": 11,
   "id": "1dcc0199",
   "metadata": {},
   "outputs": [],
   "source": [
    "df.to_pickle('data/acc_raw.pkl')"
   ]
  }
 ],
 "metadata": {
  "kernelspec": {
   "display_name": "Python 3 (ipykernel)",
   "language": "python",
   "name": "python3"
  },
  "language_info": {
   "codemirror_mode": {
    "name": "ipython",
    "version": 3
   },
   "file_extension": ".py",
   "mimetype": "text/x-python",
   "name": "python",
   "nbconvert_exporter": "python",
   "pygments_lexer": "ipython3",
   "version": "3.10.5"
  }
 },
 "nbformat": 4,
 "nbformat_minor": 5
}
