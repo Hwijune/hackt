{
 "cells": [
  {
   "cell_type": "code",
   "execution_count": 1,
   "metadata": {},
   "outputs": [],
   "source": [
    "import pandas as pd\n",
    "import numpy as np\n",
    "import matplotlib.pyplot as plt\n",
    "import seaborn as sns\n",
    "sns.set_theme(style='whitegrid', font_scale=1)\n",
    "sns.set_palette('Set2', n_colors=10)\n",
    "plt.rc('font', family='AppleGothic')\n",
    "plt.rc('axes', unicode_minus=False)\n",
    "\n",
    "df = pd.read_pickle('data/acc_raw.pkl')\n",
    "df = df[~df['음주운전'].isnull()]\n",
    "y_train = df['음주운전']\n",
    "x_train = df.drop(columns='음주운전')\n",
    "cat_list = df.select_dtypes(['object']).columns.tolist()\n",
    "num_list = df.select_dtypes(['number']).drop(columns='음주운전').columns.tolist()\n",
    "x_train[cat_list] = x_train[cat_list].fillna('UNK')"
   ]
  },
  {
   "cell_type": "code",
   "execution_count": 2,
   "metadata": {},
   "outputs": [],
   "source": [
    "from catboost import CatBoostClassifier\n",
    "from sklearn.metrics import average_precision_score\n",
    "from sklearn.model_selection import train_test_split\n",
    "import optuna\n"
   ]
  },
  {
   "cell_type": "code",
   "execution_count": 3,
   "metadata": {},
   "outputs": [],
   "source": [
    "def objective(trial):\n",
    "    X = x_train\n",
    "    Y = y_train\n",
    "    X_train, X_test, Y_train, Y_test = train_test_split(X, Y, test_size=0.35, random_state=1111)\n",
    "    param = {\n",
    "        \"learning_rate\": trial.suggest_float(\"learning_rate\", 0.001, 0.5),\n",
    "        \"colsample_bylevel\": trial.suggest_float(\"colsample_bylevel\", 0.01, 0.1),\n",
    "        \"depth\": trial.suggest_int(\"depth\", 1, 12),\n",
    "        \"boosting_type\": trial.suggest_categorical(\"boosting_type\", [\"Ordered\", \"Plain\"]),\n",
    "        \"bootstrap_type\": trial.suggest_categorical(\n",
    "            \"bootstrap_type\", [\"Bayesian\", \"Bernoulli\", \"MVS\"]\n",
    "        )}\n",
    "\n",
    "    if param[\"bootstrap_type\"] == \"Bayesian\":\n",
    "        param[\"bagging_temperature\"] = trial.suggest_float(\"bagging_temperature\", 0, 10)\n",
    "    elif param[\"bootstrap_type\"] == \"Bernoulli\":\n",
    "        param[\"subsample\"] = trial.suggest_float(\"subsample\", 0.1, 1)\n",
    "\n",
    "    cat_cls = CatBoostClassifier(**param)\n",
    "\n",
    "    cat_cls.fit(X_train, Y_train, eval_set=[(X_test, Y_test)], cat_features=cat_list,verbose=0, early_stopping_rounds=100)\n",
    "\n",
    "    preds = cat_cls.predict_proba(X_test)[:,1]\n",
    "    accuracy = average_precision_score(Y_test, preds)\n",
    "    return accuracy"
   ]
  },
  {
   "cell_type": "code",
   "execution_count": 4,
   "metadata": {},
   "outputs": [
    {
     "name": "stderr",
     "output_type": "stream",
     "text": [
      "\u001b[32m[I 2023-04-22 15:25:06,377]\u001b[0m A new study created in memory with name: no-name-9ba9739f-7c95-4de3-ab17-a94ed7dc1b53\u001b[0m\n",
      "\u001b[32m[I 2023-04-22 15:25:19,719]\u001b[0m Trial 0 finished with value: 0.4857114642072371 and parameters: {'learning_rate': 0.021638482693544184, 'colsample_bylevel': 0.0467770960142275, 'depth': 9, 'boosting_type': 'Plain', 'bootstrap_type': 'Bernoulli', 'subsample': 0.5682996167268485}. Best is trial 0 with value: 0.4857114642072371.\u001b[0m\n",
      "\u001b[32m[I 2023-04-22 15:25:28,722]\u001b[0m Trial 1 finished with value: 0.48260801424246796 and parameters: {'learning_rate': 0.2270893298633922, 'colsample_bylevel': 0.04121237595554739, 'depth': 4, 'boosting_type': 'Plain', 'bootstrap_type': 'Bayesian', 'bagging_temperature': 7.096642028801309}. Best is trial 0 with value: 0.4857114642072371.\u001b[0m\n",
      "\u001b[32m[I 2023-04-22 15:25:38,738]\u001b[0m Trial 2 finished with value: 0.4552423895444777 and parameters: {'learning_rate': 0.0945433797074177, 'colsample_bylevel': 0.05035194445472151, 'depth': 2, 'boosting_type': 'Ordered', 'bootstrap_type': 'Bayesian', 'bagging_temperature': 9.827357127173551}. Best is trial 0 with value: 0.4857114642072371.\u001b[0m\n",
      "\u001b[32m[I 2023-04-22 15:25:50,820]\u001b[0m Trial 3 finished with value: 0.4954691169938987 and parameters: {'learning_rate': 0.10835737078410228, 'colsample_bylevel': 0.03558672210141102, 'depth': 8, 'boosting_type': 'Ordered', 'bootstrap_type': 'MVS'}. Best is trial 3 with value: 0.4954691169938987.\u001b[0m\n",
      "\u001b[32m[I 2023-04-22 15:25:58,585]\u001b[0m Trial 4 finished with value: 0.4805316312634164 and parameters: {'learning_rate': 0.10907215054262907, 'colsample_bylevel': 0.0763998524276613, 'depth': 7, 'boosting_type': 'Plain', 'bootstrap_type': 'Bayesian', 'bagging_temperature': 6.116755912690792}. Best is trial 3 with value: 0.4954691169938987.\u001b[0m\n",
      "\u001b[32m[I 2023-04-22 15:26:06,092]\u001b[0m Trial 5 finished with value: 0.4951514142092151 and parameters: {'learning_rate': 0.28445734030472547, 'colsample_bylevel': 0.0421713051546296, 'depth': 10, 'boosting_type': 'Ordered', 'bootstrap_type': 'MVS'}. Best is trial 3 with value: 0.4954691169938987.\u001b[0m\n",
      "\u001b[32m[I 2023-04-22 15:26:09,063]\u001b[0m Trial 6 finished with value: 0.464084079916309 and parameters: {'learning_rate': 0.4540409630785431, 'colsample_bylevel': 0.08924087222966247, 'depth': 9, 'boosting_type': 'Plain', 'bootstrap_type': 'Bernoulli', 'subsample': 0.346517574665482}. Best is trial 3 with value: 0.4954691169938987.\u001b[0m\n",
      "\u001b[32m[I 2023-04-22 15:26:18,435]\u001b[0m Trial 7 finished with value: 0.49321590960280864 and parameters: {'learning_rate': 0.4661665374049984, 'colsample_bylevel': 0.030042132431172902, 'depth': 6, 'boosting_type': 'Ordered', 'bootstrap_type': 'MVS'}. Best is trial 3 with value: 0.4954691169938987.\u001b[0m\n",
      "\u001b[32m[I 2023-04-22 15:26:27,592]\u001b[0m Trial 8 finished with value: 0.4714709980248588 and parameters: {'learning_rate': 0.23505773779382805, 'colsample_bylevel': 0.020444015605667734, 'depth': 3, 'boosting_type': 'Ordered', 'bootstrap_type': 'MVS'}. Best is trial 3 with value: 0.4954691169938987.\u001b[0m\n",
      "\u001b[32m[I 2023-04-22 15:26:39,186]\u001b[0m Trial 9 finished with value: 0.5002596463056314 and parameters: {'learning_rate': 0.22284374993634803, 'colsample_bylevel': 0.09253654613972763, 'depth': 9, 'boosting_type': 'Ordered', 'bootstrap_type': 'MVS'}. Best is trial 9 with value: 0.5002596463056314.\u001b[0m\n"
     ]
    },
    {
     "name": "stdout",
     "output_type": "stream",
     "text": [
      "Number of finished trials: 10\n",
      "Best trial:\n",
      "  Value: 0.5002596463056314\n",
      "  Params: \n",
      "    learning_rate: 0.22284374993634803\n",
      "    colsample_bylevel: 0.09253654613972763\n",
      "    depth: 9\n",
      "    boosting_type: Ordered\n",
      "    bootstrap_type: MVS\n"
     ]
    }
   ],
   "source": [
    "\n",
    "study = optuna.create_study(direction=\"maximize\")\n",
    "study.optimize(objective, n_trials=10, timeout=600)\n",
    "\n",
    "print(\"Number of finished trials: {}\".format(len(study.trials)))\n",
    "\n",
    "print(\"Best trial:\")\n",
    "trial = study.best_trial\n",
    "\n",
    "print(\"  Value: {}\".format(trial.value))\n",
    "\n",
    "print(\"  Params: \")\n",
    "for key, value in trial.params.items():\n",
    "    print(\"    {}: {}\".format(key, value))"
   ]
  },
  {
   "attachments": {},
   "cell_type": "markdown",
   "metadata": {},
   "source": [
    "# 2. Visulaization\n",
    "## 2.1. Optimization history"
   ]
  },
  {
   "cell_type": "code",
   "execution_count": 5,
   "metadata": {},
   "outputs": [
    {
     "data": {
      "application/vnd.plotly.v1+json": {
       "config": {
        "plotlyServerURL": "https://plot.ly"
       },
       "data": [
        {
         "mode": "markers",
         "name": "Objective Value",
         "type": "scatter",
         "x": [
          0,
          1,
          2,
          3,
          4,
          5,
          6,
          7,
          8,
          9
         ],
         "y": [
          0.4857114642072371,
          0.48260801424246796,
          0.4552423895444777,
          0.4954691169938987,
          0.4805316312634164,
          0.4951514142092151,
          0.464084079916309,
          0.49321590960280864,
          0.4714709980248588,
          0.5002596463056314
         ]
        },
        {
         "name": "Best Value",
         "type": "scatter",
         "x": [
          0,
          1,
          2,
          3,
          4,
          5,
          6,
          7,
          8,
          9
         ],
         "y": [
          0.4857114642072371,
          0.4857114642072371,
          0.4857114642072371,
          0.4954691169938987,
          0.4954691169938987,
          0.4954691169938987,
          0.4954691169938987,
          0.4954691169938987,
          0.4954691169938987,
          0.5002596463056314
         ]
        }
       ],
       "layout": {
        "template": {
         "data": {
          "bar": [
           {
            "error_x": {
             "color": "#2a3f5f"
            },
            "error_y": {
             "color": "#2a3f5f"
            },
            "marker": {
             "line": {
              "color": "#E5ECF6",
              "width": 0.5
             },
             "pattern": {
              "fillmode": "overlay",
              "size": 10,
              "solidity": 0.2
             }
            },
            "type": "bar"
           }
          ],
          "barpolar": [
           {
            "marker": {
             "line": {
              "color": "#E5ECF6",
              "width": 0.5
             },
             "pattern": {
              "fillmode": "overlay",
              "size": 10,
              "solidity": 0.2
             }
            },
            "type": "barpolar"
           }
          ],
          "carpet": [
           {
            "aaxis": {
             "endlinecolor": "#2a3f5f",
             "gridcolor": "white",
             "linecolor": "white",
             "minorgridcolor": "white",
             "startlinecolor": "#2a3f5f"
            },
            "baxis": {
             "endlinecolor": "#2a3f5f",
             "gridcolor": "white",
             "linecolor": "white",
             "minorgridcolor": "white",
             "startlinecolor": "#2a3f5f"
            },
            "type": "carpet"
           }
          ],
          "choropleth": [
           {
            "colorbar": {
             "outlinewidth": 0,
             "ticks": ""
            },
            "type": "choropleth"
           }
          ],
          "contour": [
           {
            "colorbar": {
             "outlinewidth": 0,
             "ticks": ""
            },
            "colorscale": [
             [
              0,
              "#0d0887"
             ],
             [
              0.1111111111111111,
              "#46039f"
             ],
             [
              0.2222222222222222,
              "#7201a8"
             ],
             [
              0.3333333333333333,
              "#9c179e"
             ],
             [
              0.4444444444444444,
              "#bd3786"
             ],
             [
              0.5555555555555556,
              "#d8576b"
             ],
             [
              0.6666666666666666,
              "#ed7953"
             ],
             [
              0.7777777777777778,
              "#fb9f3a"
             ],
             [
              0.8888888888888888,
              "#fdca26"
             ],
             [
              1,
              "#f0f921"
             ]
            ],
            "type": "contour"
           }
          ],
          "contourcarpet": [
           {
            "colorbar": {
             "outlinewidth": 0,
             "ticks": ""
            },
            "type": "contourcarpet"
           }
          ],
          "heatmap": [
           {
            "colorbar": {
             "outlinewidth": 0,
             "ticks": ""
            },
            "colorscale": [
             [
              0,
              "#0d0887"
             ],
             [
              0.1111111111111111,
              "#46039f"
             ],
             [
              0.2222222222222222,
              "#7201a8"
             ],
             [
              0.3333333333333333,
              "#9c179e"
             ],
             [
              0.4444444444444444,
              "#bd3786"
             ],
             [
              0.5555555555555556,
              "#d8576b"
             ],
             [
              0.6666666666666666,
              "#ed7953"
             ],
             [
              0.7777777777777778,
              "#fb9f3a"
             ],
             [
              0.8888888888888888,
              "#fdca26"
             ],
             [
              1,
              "#f0f921"
             ]
            ],
            "type": "heatmap"
           }
          ],
          "heatmapgl": [
           {
            "colorbar": {
             "outlinewidth": 0,
             "ticks": ""
            },
            "colorscale": [
             [
              0,
              "#0d0887"
             ],
             [
              0.1111111111111111,
              "#46039f"
             ],
             [
              0.2222222222222222,
              "#7201a8"
             ],
             [
              0.3333333333333333,
              "#9c179e"
             ],
             [
              0.4444444444444444,
              "#bd3786"
             ],
             [
              0.5555555555555556,
              "#d8576b"
             ],
             [
              0.6666666666666666,
              "#ed7953"
             ],
             [
              0.7777777777777778,
              "#fb9f3a"
             ],
             [
              0.8888888888888888,
              "#fdca26"
             ],
             [
              1,
              "#f0f921"
             ]
            ],
            "type": "heatmapgl"
           }
          ],
          "histogram": [
           {
            "marker": {
             "pattern": {
              "fillmode": "overlay",
              "size": 10,
              "solidity": 0.2
             }
            },
            "type": "histogram"
           }
          ],
          "histogram2d": [
           {
            "colorbar": {
             "outlinewidth": 0,
             "ticks": ""
            },
            "colorscale": [
             [
              0,
              "#0d0887"
             ],
             [
              0.1111111111111111,
              "#46039f"
             ],
             [
              0.2222222222222222,
              "#7201a8"
             ],
             [
              0.3333333333333333,
              "#9c179e"
             ],
             [
              0.4444444444444444,
              "#bd3786"
             ],
             [
              0.5555555555555556,
              "#d8576b"
             ],
             [
              0.6666666666666666,
              "#ed7953"
             ],
             [
              0.7777777777777778,
              "#fb9f3a"
             ],
             [
              0.8888888888888888,
              "#fdca26"
             ],
             [
              1,
              "#f0f921"
             ]
            ],
            "type": "histogram2d"
           }
          ],
          "histogram2dcontour": [
           {
            "colorbar": {
             "outlinewidth": 0,
             "ticks": ""
            },
            "colorscale": [
             [
              0,
              "#0d0887"
             ],
             [
              0.1111111111111111,
              "#46039f"
             ],
             [
              0.2222222222222222,
              "#7201a8"
             ],
             [
              0.3333333333333333,
              "#9c179e"
             ],
             [
              0.4444444444444444,
              "#bd3786"
             ],
             [
              0.5555555555555556,
              "#d8576b"
             ],
             [
              0.6666666666666666,
              "#ed7953"
             ],
             [
              0.7777777777777778,
              "#fb9f3a"
             ],
             [
              0.8888888888888888,
              "#fdca26"
             ],
             [
              1,
              "#f0f921"
             ]
            ],
            "type": "histogram2dcontour"
           }
          ],
          "mesh3d": [
           {
            "colorbar": {
             "outlinewidth": 0,
             "ticks": ""
            },
            "type": "mesh3d"
           }
          ],
          "parcoords": [
           {
            "line": {
             "colorbar": {
              "outlinewidth": 0,
              "ticks": ""
             }
            },
            "type": "parcoords"
           }
          ],
          "pie": [
           {
            "automargin": true,
            "type": "pie"
           }
          ],
          "scatter": [
           {
            "fillpattern": {
             "fillmode": "overlay",
             "size": 10,
             "solidity": 0.2
            },
            "type": "scatter"
           }
          ],
          "scatter3d": [
           {
            "line": {
             "colorbar": {
              "outlinewidth": 0,
              "ticks": ""
             }
            },
            "marker": {
             "colorbar": {
              "outlinewidth": 0,
              "ticks": ""
             }
            },
            "type": "scatter3d"
           }
          ],
          "scattercarpet": [
           {
            "marker": {
             "colorbar": {
              "outlinewidth": 0,
              "ticks": ""
             }
            },
            "type": "scattercarpet"
           }
          ],
          "scattergeo": [
           {
            "marker": {
             "colorbar": {
              "outlinewidth": 0,
              "ticks": ""
             }
            },
            "type": "scattergeo"
           }
          ],
          "scattergl": [
           {
            "marker": {
             "colorbar": {
              "outlinewidth": 0,
              "ticks": ""
             }
            },
            "type": "scattergl"
           }
          ],
          "scattermapbox": [
           {
            "marker": {
             "colorbar": {
              "outlinewidth": 0,
              "ticks": ""
             }
            },
            "type": "scattermapbox"
           }
          ],
          "scatterpolar": [
           {
            "marker": {
             "colorbar": {
              "outlinewidth": 0,
              "ticks": ""
             }
            },
            "type": "scatterpolar"
           }
          ],
          "scatterpolargl": [
           {
            "marker": {
             "colorbar": {
              "outlinewidth": 0,
              "ticks": ""
             }
            },
            "type": "scatterpolargl"
           }
          ],
          "scatterternary": [
           {
            "marker": {
             "colorbar": {
              "outlinewidth": 0,
              "ticks": ""
             }
            },
            "type": "scatterternary"
           }
          ],
          "surface": [
           {
            "colorbar": {
             "outlinewidth": 0,
             "ticks": ""
            },
            "colorscale": [
             [
              0,
              "#0d0887"
             ],
             [
              0.1111111111111111,
              "#46039f"
             ],
             [
              0.2222222222222222,
              "#7201a8"
             ],
             [
              0.3333333333333333,
              "#9c179e"
             ],
             [
              0.4444444444444444,
              "#bd3786"
             ],
             [
              0.5555555555555556,
              "#d8576b"
             ],
             [
              0.6666666666666666,
              "#ed7953"
             ],
             [
              0.7777777777777778,
              "#fb9f3a"
             ],
             [
              0.8888888888888888,
              "#fdca26"
             ],
             [
              1,
              "#f0f921"
             ]
            ],
            "type": "surface"
           }
          ],
          "table": [
           {
            "cells": {
             "fill": {
              "color": "#EBF0F8"
             },
             "line": {
              "color": "white"
             }
            },
            "header": {
             "fill": {
              "color": "#C8D4E3"
             },
             "line": {
              "color": "white"
             }
            },
            "type": "table"
           }
          ]
         },
         "layout": {
          "annotationdefaults": {
           "arrowcolor": "#2a3f5f",
           "arrowhead": 0,
           "arrowwidth": 1
          },
          "autotypenumbers": "strict",
          "coloraxis": {
           "colorbar": {
            "outlinewidth": 0,
            "ticks": ""
           }
          },
          "colorscale": {
           "diverging": [
            [
             0,
             "#8e0152"
            ],
            [
             0.1,
             "#c51b7d"
            ],
            [
             0.2,
             "#de77ae"
            ],
            [
             0.3,
             "#f1b6da"
            ],
            [
             0.4,
             "#fde0ef"
            ],
            [
             0.5,
             "#f7f7f7"
            ],
            [
             0.6,
             "#e6f5d0"
            ],
            [
             0.7,
             "#b8e186"
            ],
            [
             0.8,
             "#7fbc41"
            ],
            [
             0.9,
             "#4d9221"
            ],
            [
             1,
             "#276419"
            ]
           ],
           "sequential": [
            [
             0,
             "#0d0887"
            ],
            [
             0.1111111111111111,
             "#46039f"
            ],
            [
             0.2222222222222222,
             "#7201a8"
            ],
            [
             0.3333333333333333,
             "#9c179e"
            ],
            [
             0.4444444444444444,
             "#bd3786"
            ],
            [
             0.5555555555555556,
             "#d8576b"
            ],
            [
             0.6666666666666666,
             "#ed7953"
            ],
            [
             0.7777777777777778,
             "#fb9f3a"
            ],
            [
             0.8888888888888888,
             "#fdca26"
            ],
            [
             1,
             "#f0f921"
            ]
           ],
           "sequentialminus": [
            [
             0,
             "#0d0887"
            ],
            [
             0.1111111111111111,
             "#46039f"
            ],
            [
             0.2222222222222222,
             "#7201a8"
            ],
            [
             0.3333333333333333,
             "#9c179e"
            ],
            [
             0.4444444444444444,
             "#bd3786"
            ],
            [
             0.5555555555555556,
             "#d8576b"
            ],
            [
             0.6666666666666666,
             "#ed7953"
            ],
            [
             0.7777777777777778,
             "#fb9f3a"
            ],
            [
             0.8888888888888888,
             "#fdca26"
            ],
            [
             1,
             "#f0f921"
            ]
           ]
          },
          "colorway": [
           "#636efa",
           "#EF553B",
           "#00cc96",
           "#ab63fa",
           "#FFA15A",
           "#19d3f3",
           "#FF6692",
           "#B6E880",
           "#FF97FF",
           "#FECB52"
          ],
          "font": {
           "color": "#2a3f5f"
          },
          "geo": {
           "bgcolor": "white",
           "lakecolor": "white",
           "landcolor": "#E5ECF6",
           "showlakes": true,
           "showland": true,
           "subunitcolor": "white"
          },
          "hoverlabel": {
           "align": "left"
          },
          "hovermode": "closest",
          "mapbox": {
           "style": "light"
          },
          "paper_bgcolor": "white",
          "plot_bgcolor": "#E5ECF6",
          "polar": {
           "angularaxis": {
            "gridcolor": "white",
            "linecolor": "white",
            "ticks": ""
           },
           "bgcolor": "#E5ECF6",
           "radialaxis": {
            "gridcolor": "white",
            "linecolor": "white",
            "ticks": ""
           }
          },
          "scene": {
           "xaxis": {
            "backgroundcolor": "#E5ECF6",
            "gridcolor": "white",
            "gridwidth": 2,
            "linecolor": "white",
            "showbackground": true,
            "ticks": "",
            "zerolinecolor": "white"
           },
           "yaxis": {
            "backgroundcolor": "#E5ECF6",
            "gridcolor": "white",
            "gridwidth": 2,
            "linecolor": "white",
            "showbackground": true,
            "ticks": "",
            "zerolinecolor": "white"
           },
           "zaxis": {
            "backgroundcolor": "#E5ECF6",
            "gridcolor": "white",
            "gridwidth": 2,
            "linecolor": "white",
            "showbackground": true,
            "ticks": "",
            "zerolinecolor": "white"
           }
          },
          "shapedefaults": {
           "line": {
            "color": "#2a3f5f"
           }
          },
          "ternary": {
           "aaxis": {
            "gridcolor": "white",
            "linecolor": "white",
            "ticks": ""
           },
           "baxis": {
            "gridcolor": "white",
            "linecolor": "white",
            "ticks": ""
           },
           "bgcolor": "#E5ECF6",
           "caxis": {
            "gridcolor": "white",
            "linecolor": "white",
            "ticks": ""
           }
          },
          "title": {
           "x": 0.05
          },
          "xaxis": {
           "automargin": true,
           "gridcolor": "white",
           "linecolor": "white",
           "ticks": "",
           "title": {
            "standoff": 15
           },
           "zerolinecolor": "white",
           "zerolinewidth": 2
          },
          "yaxis": {
           "automargin": true,
           "gridcolor": "white",
           "linecolor": "white",
           "ticks": "",
           "title": {
            "standoff": 15
           },
           "zerolinecolor": "white",
           "zerolinewidth": 2
          }
         }
        },
        "title": {
         "text": "Optimization History Plot"
        },
        "xaxis": {
         "title": {
          "text": "Trial"
         }
        },
        "yaxis": {
         "title": {
          "text": "Objective Value"
         }
        }
       }
      }
     },
     "metadata": {},
     "output_type": "display_data"
    }
   ],
   "source": [
    "optuna.visualization.plot_optimization_history(study)"
   ]
  },
  {
   "attachments": {},
   "cell_type": "markdown",
   "metadata": {},
   "source": [
    "## 2.2. Slice Plot"
   ]
  },
  {
   "cell_type": "code",
   "execution_count": 6,
   "metadata": {},
   "outputs": [
    {
     "data": {
      "application/vnd.plotly.v1+json": {
       "config": {
        "plotlyServerURL": "https://plot.ly"
       },
       "data": [
        {
         "marker": {
          "color": [
           1,
           2,
           4
          ],
          "colorbar": {
           "title": {
            "text": "Trial"
           },
           "x": 1,
           "xpad": 40
          },
          "colorscale": [
           [
            0,
            "rgb(247,251,255)"
           ],
           [
            0.125,
            "rgb(222,235,247)"
           ],
           [
            0.25,
            "rgb(198,219,239)"
           ],
           [
            0.375,
            "rgb(158,202,225)"
           ],
           [
            0.5,
            "rgb(107,174,214)"
           ],
           [
            0.625,
            "rgb(66,146,198)"
           ],
           [
            0.75,
            "rgb(33,113,181)"
           ],
           [
            0.875,
            "rgb(8,81,156)"
           ],
           [
            1,
            "rgb(8,48,107)"
           ]
          ],
          "line": {
           "color": "Grey",
           "width": 0.5
          },
          "showscale": true
         },
         "mode": "markers",
         "showlegend": false,
         "type": "scatter",
         "x": [
          7.096642028801309,
          9.827357127173551,
          6.116755912690792
         ],
         "xaxis": "x",
         "y": [
          0.48260801424246796,
          0.4552423895444777,
          0.4805316312634164
         ],
         "yaxis": "y"
        },
        {
         "marker": {
          "color": [
           0,
           1,
           2,
           3,
           4,
           5,
           6,
           7,
           8,
           9
          ],
          "colorbar": {
           "title": {
            "text": "Trial"
           },
           "x": 1,
           "xpad": 40
          },
          "colorscale": [
           [
            0,
            "rgb(247,251,255)"
           ],
           [
            0.125,
            "rgb(222,235,247)"
           ],
           [
            0.25,
            "rgb(198,219,239)"
           ],
           [
            0.375,
            "rgb(158,202,225)"
           ],
           [
            0.5,
            "rgb(107,174,214)"
           ],
           [
            0.625,
            "rgb(66,146,198)"
           ],
           [
            0.75,
            "rgb(33,113,181)"
           ],
           [
            0.875,
            "rgb(8,81,156)"
           ],
           [
            1,
            "rgb(8,48,107)"
           ]
          ],
          "line": {
           "color": "Grey",
           "width": 0.5
          },
          "showscale": false
         },
         "mode": "markers",
         "showlegend": false,
         "type": "scatter",
         "x": [
          "Plain",
          "Plain",
          "Ordered",
          "Ordered",
          "Plain",
          "Ordered",
          "Plain",
          "Ordered",
          "Ordered",
          "Ordered"
         ],
         "xaxis": "x2",
         "y": [
          0.4857114642072371,
          0.48260801424246796,
          0.4552423895444777,
          0.4954691169938987,
          0.4805316312634164,
          0.4951514142092151,
          0.464084079916309,
          0.49321590960280864,
          0.4714709980248588,
          0.5002596463056314
         ],
         "yaxis": "y2"
        },
        {
         "marker": {
          "color": [
           0,
           1,
           2,
           3,
           4,
           5,
           6,
           7,
           8,
           9
          ],
          "colorbar": {
           "title": {
            "text": "Trial"
           },
           "x": 1,
           "xpad": 40
          },
          "colorscale": [
           [
            0,
            "rgb(247,251,255)"
           ],
           [
            0.125,
            "rgb(222,235,247)"
           ],
           [
            0.25,
            "rgb(198,219,239)"
           ],
           [
            0.375,
            "rgb(158,202,225)"
           ],
           [
            0.5,
            "rgb(107,174,214)"
           ],
           [
            0.625,
            "rgb(66,146,198)"
           ],
           [
            0.75,
            "rgb(33,113,181)"
           ],
           [
            0.875,
            "rgb(8,81,156)"
           ],
           [
            1,
            "rgb(8,48,107)"
           ]
          ],
          "line": {
           "color": "Grey",
           "width": 0.5
          },
          "showscale": false
         },
         "mode": "markers",
         "showlegend": false,
         "type": "scatter",
         "x": [
          "Bernoulli",
          "Bayesian",
          "Bayesian",
          "MVS",
          "Bayesian",
          "MVS",
          "Bernoulli",
          "MVS",
          "MVS",
          "MVS"
         ],
         "xaxis": "x3",
         "y": [
          0.4857114642072371,
          0.48260801424246796,
          0.4552423895444777,
          0.4954691169938987,
          0.4805316312634164,
          0.4951514142092151,
          0.464084079916309,
          0.49321590960280864,
          0.4714709980248588,
          0.5002596463056314
         ],
         "yaxis": "y3"
        },
        {
         "marker": {
          "color": [
           0,
           1,
           2,
           3,
           4,
           5,
           6,
           7,
           8,
           9
          ],
          "colorbar": {
           "title": {
            "text": "Trial"
           },
           "x": 1,
           "xpad": 40
          },
          "colorscale": [
           [
            0,
            "rgb(247,251,255)"
           ],
           [
            0.125,
            "rgb(222,235,247)"
           ],
           [
            0.25,
            "rgb(198,219,239)"
           ],
           [
            0.375,
            "rgb(158,202,225)"
           ],
           [
            0.5,
            "rgb(107,174,214)"
           ],
           [
            0.625,
            "rgb(66,146,198)"
           ],
           [
            0.75,
            "rgb(33,113,181)"
           ],
           [
            0.875,
            "rgb(8,81,156)"
           ],
           [
            1,
            "rgb(8,48,107)"
           ]
          ],
          "line": {
           "color": "Grey",
           "width": 0.5
          },
          "showscale": false
         },
         "mode": "markers",
         "showlegend": false,
         "type": "scatter",
         "x": [
          0.0467770960142275,
          0.04121237595554739,
          0.05035194445472151,
          0.03558672210141102,
          0.0763998524276613,
          0.0421713051546296,
          0.08924087222966247,
          0.030042132431172902,
          0.020444015605667734,
          0.09253654613972763
         ],
         "xaxis": "x4",
         "y": [
          0.4857114642072371,
          0.48260801424246796,
          0.4552423895444777,
          0.4954691169938987,
          0.4805316312634164,
          0.4951514142092151,
          0.464084079916309,
          0.49321590960280864,
          0.4714709980248588,
          0.5002596463056314
         ],
         "yaxis": "y4"
        },
        {
         "marker": {
          "color": [
           0,
           1,
           2,
           3,
           4,
           5,
           6,
           7,
           8,
           9
          ],
          "colorbar": {
           "title": {
            "text": "Trial"
           },
           "x": 1,
           "xpad": 40
          },
          "colorscale": [
           [
            0,
            "rgb(247,251,255)"
           ],
           [
            0.125,
            "rgb(222,235,247)"
           ],
           [
            0.25,
            "rgb(198,219,239)"
           ],
           [
            0.375,
            "rgb(158,202,225)"
           ],
           [
            0.5,
            "rgb(107,174,214)"
           ],
           [
            0.625,
            "rgb(66,146,198)"
           ],
           [
            0.75,
            "rgb(33,113,181)"
           ],
           [
            0.875,
            "rgb(8,81,156)"
           ],
           [
            1,
            "rgb(8,48,107)"
           ]
          ],
          "line": {
           "color": "Grey",
           "width": 0.5
          },
          "showscale": false
         },
         "mode": "markers",
         "showlegend": false,
         "type": "scatter",
         "x": [
          9,
          4,
          2,
          8,
          7,
          10,
          9,
          6,
          3,
          9
         ],
         "xaxis": "x5",
         "y": [
          0.4857114642072371,
          0.48260801424246796,
          0.4552423895444777,
          0.4954691169938987,
          0.4805316312634164,
          0.4951514142092151,
          0.464084079916309,
          0.49321590960280864,
          0.4714709980248588,
          0.5002596463056314
         ],
         "yaxis": "y5"
        },
        {
         "marker": {
          "color": [
           0,
           1,
           2,
           3,
           4,
           5,
           6,
           7,
           8,
           9
          ],
          "colorbar": {
           "title": {
            "text": "Trial"
           },
           "x": 1,
           "xpad": 40
          },
          "colorscale": [
           [
            0,
            "rgb(247,251,255)"
           ],
           [
            0.125,
            "rgb(222,235,247)"
           ],
           [
            0.25,
            "rgb(198,219,239)"
           ],
           [
            0.375,
            "rgb(158,202,225)"
           ],
           [
            0.5,
            "rgb(107,174,214)"
           ],
           [
            0.625,
            "rgb(66,146,198)"
           ],
           [
            0.75,
            "rgb(33,113,181)"
           ],
           [
            0.875,
            "rgb(8,81,156)"
           ],
           [
            1,
            "rgb(8,48,107)"
           ]
          ],
          "line": {
           "color": "Grey",
           "width": 0.5
          },
          "showscale": false
         },
         "mode": "markers",
         "showlegend": false,
         "type": "scatter",
         "x": [
          0.021638482693544184,
          0.2270893298633922,
          0.0945433797074177,
          0.10835737078410228,
          0.10907215054262907,
          0.28445734030472547,
          0.4540409630785431,
          0.4661665374049984,
          0.23505773779382805,
          0.22284374993634803
         ],
         "xaxis": "x6",
         "y": [
          0.4857114642072371,
          0.48260801424246796,
          0.4552423895444777,
          0.4954691169938987,
          0.4805316312634164,
          0.4951514142092151,
          0.464084079916309,
          0.49321590960280864,
          0.4714709980248588,
          0.5002596463056314
         ],
         "yaxis": "y6"
        },
        {
         "marker": {
          "color": [
           0,
           6
          ],
          "colorbar": {
           "title": {
            "text": "Trial"
           },
           "x": 1,
           "xpad": 40
          },
          "colorscale": [
           [
            0,
            "rgb(247,251,255)"
           ],
           [
            0.125,
            "rgb(222,235,247)"
           ],
           [
            0.25,
            "rgb(198,219,239)"
           ],
           [
            0.375,
            "rgb(158,202,225)"
           ],
           [
            0.5,
            "rgb(107,174,214)"
           ],
           [
            0.625,
            "rgb(66,146,198)"
           ],
           [
            0.75,
            "rgb(33,113,181)"
           ],
           [
            0.875,
            "rgb(8,81,156)"
           ],
           [
            1,
            "rgb(8,48,107)"
           ]
          ],
          "line": {
           "color": "Grey",
           "width": 0.5
          },
          "showscale": false
         },
         "mode": "markers",
         "showlegend": false,
         "type": "scatter",
         "x": [
          0.5682996167268485,
          0.346517574665482
         ],
         "xaxis": "x7",
         "y": [
          0.4857114642072371,
          0.464084079916309
         ],
         "yaxis": "y7"
        }
       ],
       "layout": {
        "template": {
         "data": {
          "bar": [
           {
            "error_x": {
             "color": "#2a3f5f"
            },
            "error_y": {
             "color": "#2a3f5f"
            },
            "marker": {
             "line": {
              "color": "#E5ECF6",
              "width": 0.5
             },
             "pattern": {
              "fillmode": "overlay",
              "size": 10,
              "solidity": 0.2
             }
            },
            "type": "bar"
           }
          ],
          "barpolar": [
           {
            "marker": {
             "line": {
              "color": "#E5ECF6",
              "width": 0.5
             },
             "pattern": {
              "fillmode": "overlay",
              "size": 10,
              "solidity": 0.2
             }
            },
            "type": "barpolar"
           }
          ],
          "carpet": [
           {
            "aaxis": {
             "endlinecolor": "#2a3f5f",
             "gridcolor": "white",
             "linecolor": "white",
             "minorgridcolor": "white",
             "startlinecolor": "#2a3f5f"
            },
            "baxis": {
             "endlinecolor": "#2a3f5f",
             "gridcolor": "white",
             "linecolor": "white",
             "minorgridcolor": "white",
             "startlinecolor": "#2a3f5f"
            },
            "type": "carpet"
           }
          ],
          "choropleth": [
           {
            "colorbar": {
             "outlinewidth": 0,
             "ticks": ""
            },
            "type": "choropleth"
           }
          ],
          "contour": [
           {
            "colorbar": {
             "outlinewidth": 0,
             "ticks": ""
            },
            "colorscale": [
             [
              0,
              "#0d0887"
             ],
             [
              0.1111111111111111,
              "#46039f"
             ],
             [
              0.2222222222222222,
              "#7201a8"
             ],
             [
              0.3333333333333333,
              "#9c179e"
             ],
             [
              0.4444444444444444,
              "#bd3786"
             ],
             [
              0.5555555555555556,
              "#d8576b"
             ],
             [
              0.6666666666666666,
              "#ed7953"
             ],
             [
              0.7777777777777778,
              "#fb9f3a"
             ],
             [
              0.8888888888888888,
              "#fdca26"
             ],
             [
              1,
              "#f0f921"
             ]
            ],
            "type": "contour"
           }
          ],
          "contourcarpet": [
           {
            "colorbar": {
             "outlinewidth": 0,
             "ticks": ""
            },
            "type": "contourcarpet"
           }
          ],
          "heatmap": [
           {
            "colorbar": {
             "outlinewidth": 0,
             "ticks": ""
            },
            "colorscale": [
             [
              0,
              "#0d0887"
             ],
             [
              0.1111111111111111,
              "#46039f"
             ],
             [
              0.2222222222222222,
              "#7201a8"
             ],
             [
              0.3333333333333333,
              "#9c179e"
             ],
             [
              0.4444444444444444,
              "#bd3786"
             ],
             [
              0.5555555555555556,
              "#d8576b"
             ],
             [
              0.6666666666666666,
              "#ed7953"
             ],
             [
              0.7777777777777778,
              "#fb9f3a"
             ],
             [
              0.8888888888888888,
              "#fdca26"
             ],
             [
              1,
              "#f0f921"
             ]
            ],
            "type": "heatmap"
           }
          ],
          "heatmapgl": [
           {
            "colorbar": {
             "outlinewidth": 0,
             "ticks": ""
            },
            "colorscale": [
             [
              0,
              "#0d0887"
             ],
             [
              0.1111111111111111,
              "#46039f"
             ],
             [
              0.2222222222222222,
              "#7201a8"
             ],
             [
              0.3333333333333333,
              "#9c179e"
             ],
             [
              0.4444444444444444,
              "#bd3786"
             ],
             [
              0.5555555555555556,
              "#d8576b"
             ],
             [
              0.6666666666666666,
              "#ed7953"
             ],
             [
              0.7777777777777778,
              "#fb9f3a"
             ],
             [
              0.8888888888888888,
              "#fdca26"
             ],
             [
              1,
              "#f0f921"
             ]
            ],
            "type": "heatmapgl"
           }
          ],
          "histogram": [
           {
            "marker": {
             "pattern": {
              "fillmode": "overlay",
              "size": 10,
              "solidity": 0.2
             }
            },
            "type": "histogram"
           }
          ],
          "histogram2d": [
           {
            "colorbar": {
             "outlinewidth": 0,
             "ticks": ""
            },
            "colorscale": [
             [
              0,
              "#0d0887"
             ],
             [
              0.1111111111111111,
              "#46039f"
             ],
             [
              0.2222222222222222,
              "#7201a8"
             ],
             [
              0.3333333333333333,
              "#9c179e"
             ],
             [
              0.4444444444444444,
              "#bd3786"
             ],
             [
              0.5555555555555556,
              "#d8576b"
             ],
             [
              0.6666666666666666,
              "#ed7953"
             ],
             [
              0.7777777777777778,
              "#fb9f3a"
             ],
             [
              0.8888888888888888,
              "#fdca26"
             ],
             [
              1,
              "#f0f921"
             ]
            ],
            "type": "histogram2d"
           }
          ],
          "histogram2dcontour": [
           {
            "colorbar": {
             "outlinewidth": 0,
             "ticks": ""
            },
            "colorscale": [
             [
              0,
              "#0d0887"
             ],
             [
              0.1111111111111111,
              "#46039f"
             ],
             [
              0.2222222222222222,
              "#7201a8"
             ],
             [
              0.3333333333333333,
              "#9c179e"
             ],
             [
              0.4444444444444444,
              "#bd3786"
             ],
             [
              0.5555555555555556,
              "#d8576b"
             ],
             [
              0.6666666666666666,
              "#ed7953"
             ],
             [
              0.7777777777777778,
              "#fb9f3a"
             ],
             [
              0.8888888888888888,
              "#fdca26"
             ],
             [
              1,
              "#f0f921"
             ]
            ],
            "type": "histogram2dcontour"
           }
          ],
          "mesh3d": [
           {
            "colorbar": {
             "outlinewidth": 0,
             "ticks": ""
            },
            "type": "mesh3d"
           }
          ],
          "parcoords": [
           {
            "line": {
             "colorbar": {
              "outlinewidth": 0,
              "ticks": ""
             }
            },
            "type": "parcoords"
           }
          ],
          "pie": [
           {
            "automargin": true,
            "type": "pie"
           }
          ],
          "scatter": [
           {
            "fillpattern": {
             "fillmode": "overlay",
             "size": 10,
             "solidity": 0.2
            },
            "type": "scatter"
           }
          ],
          "scatter3d": [
           {
            "line": {
             "colorbar": {
              "outlinewidth": 0,
              "ticks": ""
             }
            },
            "marker": {
             "colorbar": {
              "outlinewidth": 0,
              "ticks": ""
             }
            },
            "type": "scatter3d"
           }
          ],
          "scattercarpet": [
           {
            "marker": {
             "colorbar": {
              "outlinewidth": 0,
              "ticks": ""
             }
            },
            "type": "scattercarpet"
           }
          ],
          "scattergeo": [
           {
            "marker": {
             "colorbar": {
              "outlinewidth": 0,
              "ticks": ""
             }
            },
            "type": "scattergeo"
           }
          ],
          "scattergl": [
           {
            "marker": {
             "colorbar": {
              "outlinewidth": 0,
              "ticks": ""
             }
            },
            "type": "scattergl"
           }
          ],
          "scattermapbox": [
           {
            "marker": {
             "colorbar": {
              "outlinewidth": 0,
              "ticks": ""
             }
            },
            "type": "scattermapbox"
           }
          ],
          "scatterpolar": [
           {
            "marker": {
             "colorbar": {
              "outlinewidth": 0,
              "ticks": ""
             }
            },
            "type": "scatterpolar"
           }
          ],
          "scatterpolargl": [
           {
            "marker": {
             "colorbar": {
              "outlinewidth": 0,
              "ticks": ""
             }
            },
            "type": "scatterpolargl"
           }
          ],
          "scatterternary": [
           {
            "marker": {
             "colorbar": {
              "outlinewidth": 0,
              "ticks": ""
             }
            },
            "type": "scatterternary"
           }
          ],
          "surface": [
           {
            "colorbar": {
             "outlinewidth": 0,
             "ticks": ""
            },
            "colorscale": [
             [
              0,
              "#0d0887"
             ],
             [
              0.1111111111111111,
              "#46039f"
             ],
             [
              0.2222222222222222,
              "#7201a8"
             ],
             [
              0.3333333333333333,
              "#9c179e"
             ],
             [
              0.4444444444444444,
              "#bd3786"
             ],
             [
              0.5555555555555556,
              "#d8576b"
             ],
             [
              0.6666666666666666,
              "#ed7953"
             ],
             [
              0.7777777777777778,
              "#fb9f3a"
             ],
             [
              0.8888888888888888,
              "#fdca26"
             ],
             [
              1,
              "#f0f921"
             ]
            ],
            "type": "surface"
           }
          ],
          "table": [
           {
            "cells": {
             "fill": {
              "color": "#EBF0F8"
             },
             "line": {
              "color": "white"
             }
            },
            "header": {
             "fill": {
              "color": "#C8D4E3"
             },
             "line": {
              "color": "white"
             }
            },
            "type": "table"
           }
          ]
         },
         "layout": {
          "annotationdefaults": {
           "arrowcolor": "#2a3f5f",
           "arrowhead": 0,
           "arrowwidth": 1
          },
          "autotypenumbers": "strict",
          "coloraxis": {
           "colorbar": {
            "outlinewidth": 0,
            "ticks": ""
           }
          },
          "colorscale": {
           "diverging": [
            [
             0,
             "#8e0152"
            ],
            [
             0.1,
             "#c51b7d"
            ],
            [
             0.2,
             "#de77ae"
            ],
            [
             0.3,
             "#f1b6da"
            ],
            [
             0.4,
             "#fde0ef"
            ],
            [
             0.5,
             "#f7f7f7"
            ],
            [
             0.6,
             "#e6f5d0"
            ],
            [
             0.7,
             "#b8e186"
            ],
            [
             0.8,
             "#7fbc41"
            ],
            [
             0.9,
             "#4d9221"
            ],
            [
             1,
             "#276419"
            ]
           ],
           "sequential": [
            [
             0,
             "#0d0887"
            ],
            [
             0.1111111111111111,
             "#46039f"
            ],
            [
             0.2222222222222222,
             "#7201a8"
            ],
            [
             0.3333333333333333,
             "#9c179e"
            ],
            [
             0.4444444444444444,
             "#bd3786"
            ],
            [
             0.5555555555555556,
             "#d8576b"
            ],
            [
             0.6666666666666666,
             "#ed7953"
            ],
            [
             0.7777777777777778,
             "#fb9f3a"
            ],
            [
             0.8888888888888888,
             "#fdca26"
            ],
            [
             1,
             "#f0f921"
            ]
           ],
           "sequentialminus": [
            [
             0,
             "#0d0887"
            ],
            [
             0.1111111111111111,
             "#46039f"
            ],
            [
             0.2222222222222222,
             "#7201a8"
            ],
            [
             0.3333333333333333,
             "#9c179e"
            ],
            [
             0.4444444444444444,
             "#bd3786"
            ],
            [
             0.5555555555555556,
             "#d8576b"
            ],
            [
             0.6666666666666666,
             "#ed7953"
            ],
            [
             0.7777777777777778,
             "#fb9f3a"
            ],
            [
             0.8888888888888888,
             "#fdca26"
            ],
            [
             1,
             "#f0f921"
            ]
           ]
          },
          "colorway": [
           "#636efa",
           "#EF553B",
           "#00cc96",
           "#ab63fa",
           "#FFA15A",
           "#19d3f3",
           "#FF6692",
           "#B6E880",
           "#FF97FF",
           "#FECB52"
          ],
          "font": {
           "color": "#2a3f5f"
          },
          "geo": {
           "bgcolor": "white",
           "lakecolor": "white",
           "landcolor": "#E5ECF6",
           "showlakes": true,
           "showland": true,
           "subunitcolor": "white"
          },
          "hoverlabel": {
           "align": "left"
          },
          "hovermode": "closest",
          "mapbox": {
           "style": "light"
          },
          "paper_bgcolor": "white",
          "plot_bgcolor": "#E5ECF6",
          "polar": {
           "angularaxis": {
            "gridcolor": "white",
            "linecolor": "white",
            "ticks": ""
           },
           "bgcolor": "#E5ECF6",
           "radialaxis": {
            "gridcolor": "white",
            "linecolor": "white",
            "ticks": ""
           }
          },
          "scene": {
           "xaxis": {
            "backgroundcolor": "#E5ECF6",
            "gridcolor": "white",
            "gridwidth": 2,
            "linecolor": "white",
            "showbackground": true,
            "ticks": "",
            "zerolinecolor": "white"
           },
           "yaxis": {
            "backgroundcolor": "#E5ECF6",
            "gridcolor": "white",
            "gridwidth": 2,
            "linecolor": "white",
            "showbackground": true,
            "ticks": "",
            "zerolinecolor": "white"
           },
           "zaxis": {
            "backgroundcolor": "#E5ECF6",
            "gridcolor": "white",
            "gridwidth": 2,
            "linecolor": "white",
            "showbackground": true,
            "ticks": "",
            "zerolinecolor": "white"
           }
          },
          "shapedefaults": {
           "line": {
            "color": "#2a3f5f"
           }
          },
          "ternary": {
           "aaxis": {
            "gridcolor": "white",
            "linecolor": "white",
            "ticks": ""
           },
           "baxis": {
            "gridcolor": "white",
            "linecolor": "white",
            "ticks": ""
           },
           "bgcolor": "#E5ECF6",
           "caxis": {
            "gridcolor": "white",
            "linecolor": "white",
            "ticks": ""
           }
          },
          "title": {
           "x": 0.05
          },
          "xaxis": {
           "automargin": true,
           "gridcolor": "white",
           "linecolor": "white",
           "ticks": "",
           "title": {
            "standoff": 15
           },
           "zerolinecolor": "white",
           "zerolinewidth": 2
          },
          "yaxis": {
           "automargin": true,
           "gridcolor": "white",
           "linecolor": "white",
           "ticks": "",
           "title": {
            "standoff": 15
           },
           "zerolinecolor": "white",
           "zerolinewidth": 2
          }
         }
        },
        "title": {
         "text": "Slice Plot"
        },
        "width": 2100,
        "xaxis": {
         "anchor": "y",
         "domain": [
          0,
          0.1183673469387755
         ],
         "title": {
          "text": "bagging_temperature"
         }
        },
        "xaxis2": {
         "anchor": "y2",
         "domain": [
          0.14693877551020407,
          0.26530612244897955
         ],
         "title": {
          "text": "boosting_type"
         }
        },
        "xaxis3": {
         "anchor": "y3",
         "domain": [
          0.29387755102040813,
          0.4122448979591836
         ],
         "title": {
          "text": "bootstrap_type"
         }
        },
        "xaxis4": {
         "anchor": "y4",
         "domain": [
          0.4408163265306122,
          0.5591836734693877
         ],
         "title": {
          "text": "colsample_bylevel"
         }
        },
        "xaxis5": {
         "anchor": "y5",
         "domain": [
          0.5877551020408163,
          0.7061224489795918
         ],
         "title": {
          "text": "depth"
         }
        },
        "xaxis6": {
         "anchor": "y6",
         "domain": [
          0.7346938775510204,
          0.8530612244897959
         ],
         "title": {
          "text": "learning_rate"
         }
        },
        "xaxis7": {
         "anchor": "y7",
         "domain": [
          0.8816326530612244,
          0.9999999999999999
         ],
         "title": {
          "text": "subsample"
         }
        },
        "yaxis": {
         "anchor": "x",
         "domain": [
          0,
          1
         ],
         "title": {
          "text": "Objective Value"
         }
        },
        "yaxis2": {
         "anchor": "x2",
         "domain": [
          0,
          1
         ],
         "matches": "y",
         "showticklabels": false
        },
        "yaxis3": {
         "anchor": "x3",
         "domain": [
          0,
          1
         ],
         "matches": "y",
         "showticklabels": false
        },
        "yaxis4": {
         "anchor": "x4",
         "domain": [
          0,
          1
         ],
         "matches": "y",
         "showticklabels": false
        },
        "yaxis5": {
         "anchor": "x5",
         "domain": [
          0,
          1
         ],
         "matches": "y",
         "showticklabels": false
        },
        "yaxis6": {
         "anchor": "x6",
         "domain": [
          0,
          1
         ],
         "matches": "y",
         "showticklabels": false
        },
        "yaxis7": {
         "anchor": "x7",
         "domain": [
          0,
          1
         ],
         "matches": "y",
         "showticklabels": false
        }
       }
      }
     },
     "metadata": {},
     "output_type": "display_data"
    }
   ],
   "source": [
    "optuna.visualization.plot_slice(study)"
   ]
  },
  {
   "attachments": {},
   "cell_type": "markdown",
   "metadata": {},
   "source": [
    "## 2.3. Contour Plot\n"
   ]
  },
  {
   "cell_type": "code",
   "execution_count": 7,
   "metadata": {},
   "outputs": [
    {
     "data": {
      "application/vnd.plotly.v1+json": {
       "config": {
        "plotlyServerURL": "https://plot.ly"
       },
       "data": [
        {
         "type": "scatter",
         "xaxis": "x",
         "yaxis": "y"
        },
        {
         "colorbar": {
          "title": {
           "text": "Objective Value"
          }
         },
         "colorscale": [
          [
           0,
           "rgb(247,251,255)"
          ],
          [
           0.125,
           "rgb(222,235,247)"
          ],
          [
           0.25,
           "rgb(198,219,239)"
          ],
          [
           0.375,
           "rgb(158,202,225)"
          ],
          [
           0.5,
           "rgb(107,174,214)"
          ],
          [
           0.625,
           "rgb(66,146,198)"
          ],
          [
           0.75,
           "rgb(33,113,181)"
          ],
          [
           0.875,
           "rgb(8,81,156)"
          ],
          [
           1,
           "rgb(8,48,107)"
          ]
         ],
         "connectgaps": true,
         "contours": {
          "coloring": "heatmap"
         },
         "hoverinfo": "none",
         "line": {
          "smoothing": 1.3
         },
         "reversescale": false,
         "showscale": true,
         "type": "contour",
         "x": [
          5.931225851966654,
          6.116755912690792,
          7.096642028801309,
          9.827357127173551,
          10.01288718789769
         ],
         "xaxis": "x8",
         "y": [
          "Ordered",
          "Plain"
         ],
         "yaxis": "y8",
         "z": [
          [
           null,
           null,
           null,
           0.4552423895444777,
           null
          ],
          [
           null,
           0.4805316312634164,
           0.48260801424246796,
           null,
           null
          ]
         ]
        },
        {
         "marker": {
          "color": "black",
          "line": {
           "color": "Grey",
           "width": 2
          }
         },
         "mode": "markers",
         "showlegend": false,
         "type": "scatter",
         "x": [
          7.096642028801309,
          9.827357127173551,
          6.116755912690792
         ],
         "xaxis": "x8",
         "y": [
          "Plain",
          "Ordered",
          "Plain"
         ],
         "yaxis": "y8"
        },
        {
         "colorbar": {
          "title": {
           "text": "Objective Value"
          }
         },
         "colorscale": [
          [
           0,
           "rgb(247,251,255)"
          ],
          [
           0.125,
           "rgb(222,235,247)"
          ],
          [
           0.25,
           "rgb(198,219,239)"
          ],
          [
           0.375,
           "rgb(158,202,225)"
          ],
          [
           0.5,
           "rgb(107,174,214)"
          ],
          [
           0.625,
           "rgb(66,146,198)"
          ],
          [
           0.75,
           "rgb(33,113,181)"
          ],
          [
           0.875,
           "rgb(8,81,156)"
          ],
          [
           1,
           "rgb(8,48,107)"
          ]
         ],
         "connectgaps": true,
         "contours": {
          "coloring": "heatmap"
         },
         "hoverinfo": "none",
         "line": {
          "smoothing": 1.3
         },
         "reversescale": false,
         "showscale": false,
         "type": "contour",
         "x": [
          5.931225851966654,
          6.116755912690792,
          7.096642028801309,
          9.827357127173551,
          10.01288718789769
         ],
         "xaxis": "x15",
         "y": [
          "Bayesian",
          "Bernoulli",
          "MVS"
         ],
         "yaxis": "y15",
         "z": [
          [
           null,
           0.4805316312634164,
           0.48260801424246796,
           0.4552423895444777,
           null
          ],
          [
           null,
           null,
           null,
           null,
           null
          ],
          [
           null,
           null,
           null,
           null,
           null
          ]
         ]
        },
        {
         "marker": {
          "color": "black",
          "line": {
           "color": "Grey",
           "width": 2
          }
         },
         "mode": "markers",
         "showlegend": false,
         "type": "scatter",
         "x": [
          7.096642028801309,
          9.827357127173551,
          6.116755912690792
         ],
         "xaxis": "x15",
         "y": [
          "Bayesian",
          "Bayesian",
          "Bayesian"
         ],
         "yaxis": "y15"
        },
        {
         "colorbar": {
          "title": {
           "text": "Objective Value"
          }
         },
         "colorscale": [
          [
           0,
           "rgb(247,251,255)"
          ],
          [
           0.125,
           "rgb(222,235,247)"
          ],
          [
           0.25,
           "rgb(198,219,239)"
          ],
          [
           0.375,
           "rgb(158,202,225)"
          ],
          [
           0.5,
           "rgb(107,174,214)"
          ],
          [
           0.625,
           "rgb(66,146,198)"
          ],
          [
           0.75,
           "rgb(33,113,181)"
          ],
          [
           0.875,
           "rgb(8,81,156)"
          ],
          [
           1,
           "rgb(8,48,107)"
          ]
         ],
         "connectgaps": true,
         "contours": {
          "coloring": "heatmap"
         },
         "hoverinfo": "none",
         "line": {
          "smoothing": 1.3
         },
         "reversescale": false,
         "showscale": false,
         "type": "contour",
         "x": [
          5.931225851966654,
          6.116755912690792,
          7.096642028801309,
          9.827357127173551,
          10.01288718789769
         ],
         "xaxis": "x22",
         "y": [
          0.01683938907896474,
          0.020444015605667734,
          0.030042132431172902,
          0.03558672210141102,
          0.04121237595554739,
          0.0421713051546296,
          0.0467770960142275,
          0.05035194445472151,
          0.0763998524276613,
          0.08924087222966247,
          0.09253654613972763,
          0.09614117266643063
         ],
         "yaxis": "y22",
         "z": [
          [
           null,
           null,
           null,
           null,
           null
          ],
          [
           null,
           null,
           null,
           null,
           null
          ],
          [
           null,
           null,
           null,
           null,
           null
          ],
          [
           null,
           null,
           null,
           null,
           null
          ],
          [
           null,
           null,
           0.48260801424246796,
           null,
           null
          ],
          [
           null,
           null,
           null,
           null,
           null
          ],
          [
           null,
           null,
           null,
           null,
           null
          ],
          [
           null,
           null,
           null,
           0.4552423895444777,
           null
          ],
          [
           null,
           0.4805316312634164,
           null,
           null,
           null
          ],
          [
           null,
           null,
           null,
           null,
           null
          ],
          [
           null,
           null,
           null,
           null,
           null
          ],
          [
           null,
           null,
           null,
           null,
           null
          ]
         ]
        },
        {
         "marker": {
          "color": "black",
          "line": {
           "color": "Grey",
           "width": 2
          }
         },
         "mode": "markers",
         "showlegend": false,
         "type": "scatter",
         "x": [
          7.096642028801309,
          9.827357127173551,
          6.116755912690792
         ],
         "xaxis": "x22",
         "y": [
          0.04121237595554739,
          0.05035194445472151,
          0.0763998524276613
         ],
         "yaxis": "y22"
        },
        {
         "colorbar": {
          "title": {
           "text": "Objective Value"
          }
         },
         "colorscale": [
          [
           0,
           "rgb(247,251,255)"
          ],
          [
           0.125,
           "rgb(222,235,247)"
          ],
          [
           0.25,
           "rgb(198,219,239)"
          ],
          [
           0.375,
           "rgb(158,202,225)"
          ],
          [
           0.5,
           "rgb(107,174,214)"
          ],
          [
           0.625,
           "rgb(66,146,198)"
          ],
          [
           0.75,
           "rgb(33,113,181)"
          ],
          [
           0.875,
           "rgb(8,81,156)"
          ],
          [
           1,
           "rgb(8,48,107)"
          ]
         ],
         "connectgaps": true,
         "contours": {
          "coloring": "heatmap"
         },
         "hoverinfo": "none",
         "line": {
          "smoothing": 1.3
         },
         "reversescale": false,
         "showscale": false,
         "type": "contour",
         "x": [
          5.931225851966654,
          6.116755912690792,
          7.096642028801309,
          9.827357127173551,
          10.01288718789769
         ],
         "xaxis": "x29",
         "y": [
          1.6,
          2,
          3,
          4,
          6,
          7,
          8,
          9,
          10,
          10.4
         ],
         "yaxis": "y29",
         "z": [
          [
           null,
           null,
           null,
           null,
           null
          ],
          [
           null,
           null,
           null,
           0.4552423895444777,
           null
          ],
          [
           null,
           null,
           null,
           null,
           null
          ],
          [
           null,
           null,
           0.48260801424246796,
           null,
           null
          ],
          [
           null,
           null,
           null,
           null,
           null
          ],
          [
           null,
           0.4805316312634164,
           null,
           null,
           null
          ],
          [
           null,
           null,
           null,
           null,
           null
          ],
          [
           null,
           null,
           null,
           null,
           null
          ],
          [
           null,
           null,
           null,
           null,
           null
          ],
          [
           null,
           null,
           null,
           null,
           null
          ]
         ]
        },
        {
         "marker": {
          "color": "black",
          "line": {
           "color": "Grey",
           "width": 2
          }
         },
         "mode": "markers",
         "showlegend": false,
         "type": "scatter",
         "x": [
          7.096642028801309,
          9.827357127173551,
          6.116755912690792
         ],
         "xaxis": "x29",
         "y": [
          4,
          2,
          7
         ],
         "yaxis": "y29"
        },
        {
         "colorbar": {
          "title": {
           "text": "Objective Value"
          }
         },
         "colorscale": [
          [
           0,
           "rgb(247,251,255)"
          ],
          [
           0.125,
           "rgb(222,235,247)"
          ],
          [
           0.25,
           "rgb(198,219,239)"
          ],
          [
           0.375,
           "rgb(158,202,225)"
          ],
          [
           0.5,
           "rgb(107,174,214)"
          ],
          [
           0.625,
           "rgb(66,146,198)"
          ],
          [
           0.75,
           "rgb(33,113,181)"
          ],
          [
           0.875,
           "rgb(8,81,156)"
          ],
          [
           1,
           "rgb(8,48,107)"
          ]
         ],
         "connectgaps": true,
         "contours": {
          "coloring": "heatmap"
         },
         "hoverinfo": "none",
         "line": {
          "smoothing": 1.3
         },
         "reversescale": false,
         "showscale": false,
         "type": "contour",
         "x": [
          5.931225851966654,
          6.116755912690792,
          7.096642028801309,
          9.827357127173551,
          10.01288718789769
         ],
         "xaxis": "x36",
         "y": [
          -0.0005879200420285287,
          0.021638482693544184,
          0.0945433797074177,
          0.10835737078410228,
          0.10907215054262907,
          0.22284374993634803,
          0.2270893298633922,
          0.23505773779382805,
          0.28445734030472547,
          0.4540409630785431,
          0.4661665374049984,
          0.4883929401405711
         ],
         "yaxis": "y36",
         "z": [
          [
           null,
           null,
           null,
           null,
           null
          ],
          [
           null,
           null,
           null,
           null,
           null
          ],
          [
           null,
           null,
           null,
           0.4552423895444777,
           null
          ],
          [
           null,
           null,
           null,
           null,
           null
          ],
          [
           null,
           0.4805316312634164,
           null,
           null,
           null
          ],
          [
           null,
           null,
           null,
           null,
           null
          ],
          [
           null,
           null,
           0.48260801424246796,
           null,
           null
          ],
          [
           null,
           null,
           null,
           null,
           null
          ],
          [
           null,
           null,
           null,
           null,
           null
          ],
          [
           null,
           null,
           null,
           null,
           null
          ],
          [
           null,
           null,
           null,
           null,
           null
          ],
          [
           null,
           null,
           null,
           null,
           null
          ]
         ]
        },
        {
         "marker": {
          "color": "black",
          "line": {
           "color": "Grey",
           "width": 2
          }
         },
         "mode": "markers",
         "showlegend": false,
         "type": "scatter",
         "x": [
          7.096642028801309,
          9.827357127173551,
          6.116755912690792
         ],
         "xaxis": "x36",
         "y": [
          0.2270893298633922,
          0.0945433797074177,
          0.10907215054262907
         ],
         "yaxis": "y36"
        },
        {
         "colorbar": {
          "title": {
           "text": "Objective Value"
          }
         },
         "colorscale": [
          [
           0,
           "rgb(247,251,255)"
          ],
          [
           0.125,
           "rgb(222,235,247)"
          ],
          [
           0.25,
           "rgb(198,219,239)"
          ],
          [
           0.375,
           "rgb(158,202,225)"
          ],
          [
           0.5,
           "rgb(107,174,214)"
          ],
          [
           0.625,
           "rgb(66,146,198)"
          ],
          [
           0.75,
           "rgb(33,113,181)"
          ],
          [
           0.875,
           "rgb(8,81,156)"
          ],
          [
           1,
           "rgb(8,48,107)"
          ]
         ],
         "connectgaps": true,
         "contours": {
          "coloring": "heatmap"
         },
         "hoverinfo": "none",
         "line": {
          "smoothing": 1.3
         },
         "reversescale": false,
         "showscale": false,
         "type": "contour",
         "x": [
          5.931225851966654,
          6.116755912690792,
          7.096642028801309,
          9.827357127173551,
          10.01288718789769
         ],
         "xaxis": "x43",
         "y": [
          0.33542847256241365,
          0.346517574665482,
          0.5682996167268485,
          0.5793887188299168
         ],
         "yaxis": "y43",
         "z": [
          [
           null,
           null,
           null,
           null,
           null
          ],
          [
           null,
           null,
           null,
           null,
           null
          ],
          [
           null,
           null,
           null,
           null,
           null
          ],
          [
           null,
           null,
           null,
           null,
           null
          ]
         ]
        },
        {
         "marker": {
          "color": "black",
          "line": {
           "color": "Grey",
           "width": 2
          }
         },
         "mode": "markers",
         "showlegend": false,
         "type": "scatter",
         "x": [],
         "xaxis": "x43",
         "y": [],
         "yaxis": "y43"
        },
        {
         "colorbar": {
          "title": {
           "text": "Objective Value"
          }
         },
         "colorscale": [
          [
           0,
           "rgb(247,251,255)"
          ],
          [
           0.125,
           "rgb(222,235,247)"
          ],
          [
           0.25,
           "rgb(198,219,239)"
          ],
          [
           0.375,
           "rgb(158,202,225)"
          ],
          [
           0.5,
           "rgb(107,174,214)"
          ],
          [
           0.625,
           "rgb(66,146,198)"
          ],
          [
           0.75,
           "rgb(33,113,181)"
          ],
          [
           0.875,
           "rgb(8,81,156)"
          ],
          [
           1,
           "rgb(8,48,107)"
          ]
         ],
         "connectgaps": true,
         "contours": {
          "coloring": "heatmap"
         },
         "hoverinfo": "none",
         "line": {
          "smoothing": 1.3
         },
         "reversescale": false,
         "showscale": false,
         "type": "contour",
         "x": [
          "Ordered",
          "Plain"
         ],
         "xaxis": "x2",
         "y": [
          5.931225851966654,
          6.116755912690792,
          7.096642028801309,
          9.827357127173551,
          10.01288718789769
         ],
         "yaxis": "y2",
         "z": [
          [
           null,
           null
          ],
          [
           null,
           0.4805316312634164
          ],
          [
           null,
           0.48260801424246796
          ],
          [
           0.4552423895444777,
           null
          ],
          [
           null,
           null
          ]
         ]
        },
        {
         "marker": {
          "color": "black",
          "line": {
           "color": "Grey",
           "width": 2
          }
         },
         "mode": "markers",
         "showlegend": false,
         "type": "scatter",
         "x": [
          "Plain",
          "Ordered",
          "Plain"
         ],
         "xaxis": "x2",
         "y": [
          7.096642028801309,
          9.827357127173551,
          6.116755912690792
         ],
         "yaxis": "y2"
        },
        {
         "type": "scatter",
         "xaxis": "x9",
         "yaxis": "y9"
        },
        {
         "colorbar": {
          "title": {
           "text": "Objective Value"
          }
         },
         "colorscale": [
          [
           0,
           "rgb(247,251,255)"
          ],
          [
           0.125,
           "rgb(222,235,247)"
          ],
          [
           0.25,
           "rgb(198,219,239)"
          ],
          [
           0.375,
           "rgb(158,202,225)"
          ],
          [
           0.5,
           "rgb(107,174,214)"
          ],
          [
           0.625,
           "rgb(66,146,198)"
          ],
          [
           0.75,
           "rgb(33,113,181)"
          ],
          [
           0.875,
           "rgb(8,81,156)"
          ],
          [
           1,
           "rgb(8,48,107)"
          ]
         ],
         "connectgaps": true,
         "contours": {
          "coloring": "heatmap"
         },
         "hoverinfo": "none",
         "line": {
          "smoothing": 1.3
         },
         "reversescale": false,
         "showscale": false,
         "type": "contour",
         "x": [
          "Ordered",
          "Plain"
         ],
         "xaxis": "x16",
         "y": [
          "Bayesian",
          "Bernoulli",
          "MVS"
         ],
         "yaxis": "y16",
         "z": [
          [
           0.4552423895444777,
           0.4805316312634164
          ],
          [
           null,
           0.464084079916309
          ],
          [
           0.5002596463056314,
           null
          ]
         ]
        },
        {
         "marker": {
          "color": "black",
          "line": {
           "color": "Grey",
           "width": 2
          }
         },
         "mode": "markers",
         "showlegend": false,
         "type": "scatter",
         "x": [
          "Plain",
          "Plain",
          "Ordered",
          "Ordered",
          "Plain",
          "Ordered",
          "Plain",
          "Ordered",
          "Ordered",
          "Ordered"
         ],
         "xaxis": "x16",
         "y": [
          "Bernoulli",
          "Bayesian",
          "Bayesian",
          "MVS",
          "Bayesian",
          "MVS",
          "Bernoulli",
          "MVS",
          "MVS",
          "MVS"
         ],
         "yaxis": "y16"
        },
        {
         "colorbar": {
          "title": {
           "text": "Objective Value"
          }
         },
         "colorscale": [
          [
           0,
           "rgb(247,251,255)"
          ],
          [
           0.125,
           "rgb(222,235,247)"
          ],
          [
           0.25,
           "rgb(198,219,239)"
          ],
          [
           0.375,
           "rgb(158,202,225)"
          ],
          [
           0.5,
           "rgb(107,174,214)"
          ],
          [
           0.625,
           "rgb(66,146,198)"
          ],
          [
           0.75,
           "rgb(33,113,181)"
          ],
          [
           0.875,
           "rgb(8,81,156)"
          ],
          [
           1,
           "rgb(8,48,107)"
          ]
         ],
         "connectgaps": true,
         "contours": {
          "coloring": "heatmap"
         },
         "hoverinfo": "none",
         "line": {
          "smoothing": 1.3
         },
         "reversescale": false,
         "showscale": false,
         "type": "contour",
         "x": [
          "Ordered",
          "Plain"
         ],
         "xaxis": "x23",
         "y": [
          0.01683938907896474,
          0.020444015605667734,
          0.030042132431172902,
          0.03558672210141102,
          0.04121237595554739,
          0.0421713051546296,
          0.0467770960142275,
          0.05035194445472151,
          0.0763998524276613,
          0.08924087222966247,
          0.09253654613972763,
          0.09614117266643063
         ],
         "yaxis": "y23",
         "z": [
          [
           null,
           null
          ],
          [
           0.4714709980248588,
           null
          ],
          [
           0.49321590960280864,
           null
          ],
          [
           0.4954691169938987,
           null
          ],
          [
           null,
           0.48260801424246796
          ],
          [
           0.4951514142092151,
           null
          ],
          [
           null,
           0.4857114642072371
          ],
          [
           0.4552423895444777,
           null
          ],
          [
           null,
           0.4805316312634164
          ],
          [
           null,
           0.464084079916309
          ],
          [
           0.5002596463056314,
           null
          ],
          [
           null,
           null
          ]
         ]
        },
        {
         "marker": {
          "color": "black",
          "line": {
           "color": "Grey",
           "width": 2
          }
         },
         "mode": "markers",
         "showlegend": false,
         "type": "scatter",
         "x": [
          "Plain",
          "Plain",
          "Ordered",
          "Ordered",
          "Plain",
          "Ordered",
          "Plain",
          "Ordered",
          "Ordered",
          "Ordered"
         ],
         "xaxis": "x23",
         "y": [
          0.0467770960142275,
          0.04121237595554739,
          0.05035194445472151,
          0.03558672210141102,
          0.0763998524276613,
          0.0421713051546296,
          0.08924087222966247,
          0.030042132431172902,
          0.020444015605667734,
          0.09253654613972763
         ],
         "yaxis": "y23"
        },
        {
         "colorbar": {
          "title": {
           "text": "Objective Value"
          }
         },
         "colorscale": [
          [
           0,
           "rgb(247,251,255)"
          ],
          [
           0.125,
           "rgb(222,235,247)"
          ],
          [
           0.25,
           "rgb(198,219,239)"
          ],
          [
           0.375,
           "rgb(158,202,225)"
          ],
          [
           0.5,
           "rgb(107,174,214)"
          ],
          [
           0.625,
           "rgb(66,146,198)"
          ],
          [
           0.75,
           "rgb(33,113,181)"
          ],
          [
           0.875,
           "rgb(8,81,156)"
          ],
          [
           1,
           "rgb(8,48,107)"
          ]
         ],
         "connectgaps": true,
         "contours": {
          "coloring": "heatmap"
         },
         "hoverinfo": "none",
         "line": {
          "smoothing": 1.3
         },
         "reversescale": false,
         "showscale": false,
         "type": "contour",
         "x": [
          "Ordered",
          "Plain"
         ],
         "xaxis": "x30",
         "y": [
          1.6,
          2,
          3,
          4,
          6,
          7,
          8,
          9,
          10,
          10.4
         ],
         "yaxis": "y30",
         "z": [
          [
           null,
           null
          ],
          [
           0.4552423895444777,
           null
          ],
          [
           0.4714709980248588,
           null
          ],
          [
           null,
           0.48260801424246796
          ],
          [
           0.49321590960280864,
           null
          ],
          [
           null,
           0.4805316312634164
          ],
          [
           0.4954691169938987,
           null
          ],
          [
           0.5002596463056314,
           0.464084079916309
          ],
          [
           0.4951514142092151,
           null
          ],
          [
           null,
           null
          ]
         ]
        },
        {
         "marker": {
          "color": "black",
          "line": {
           "color": "Grey",
           "width": 2
          }
         },
         "mode": "markers",
         "showlegend": false,
         "type": "scatter",
         "x": [
          "Plain",
          "Plain",
          "Ordered",
          "Ordered",
          "Plain",
          "Ordered",
          "Plain",
          "Ordered",
          "Ordered",
          "Ordered"
         ],
         "xaxis": "x30",
         "y": [
          9,
          4,
          2,
          8,
          7,
          10,
          9,
          6,
          3,
          9
         ],
         "yaxis": "y30"
        },
        {
         "colorbar": {
          "title": {
           "text": "Objective Value"
          }
         },
         "colorscale": [
          [
           0,
           "rgb(247,251,255)"
          ],
          [
           0.125,
           "rgb(222,235,247)"
          ],
          [
           0.25,
           "rgb(198,219,239)"
          ],
          [
           0.375,
           "rgb(158,202,225)"
          ],
          [
           0.5,
           "rgb(107,174,214)"
          ],
          [
           0.625,
           "rgb(66,146,198)"
          ],
          [
           0.75,
           "rgb(33,113,181)"
          ],
          [
           0.875,
           "rgb(8,81,156)"
          ],
          [
           1,
           "rgb(8,48,107)"
          ]
         ],
         "connectgaps": true,
         "contours": {
          "coloring": "heatmap"
         },
         "hoverinfo": "none",
         "line": {
          "smoothing": 1.3
         },
         "reversescale": false,
         "showscale": false,
         "type": "contour",
         "x": [
          "Ordered",
          "Plain"
         ],
         "xaxis": "x37",
         "y": [
          -0.0005879200420285287,
          0.021638482693544184,
          0.0945433797074177,
          0.10835737078410228,
          0.10907215054262907,
          0.22284374993634803,
          0.2270893298633922,
          0.23505773779382805,
          0.28445734030472547,
          0.4540409630785431,
          0.4661665374049984,
          0.4883929401405711
         ],
         "yaxis": "y37",
         "z": [
          [
           null,
           null
          ],
          [
           null,
           0.4857114642072371
          ],
          [
           0.4552423895444777,
           null
          ],
          [
           0.4954691169938987,
           null
          ],
          [
           null,
           0.4805316312634164
          ],
          [
           0.5002596463056314,
           null
          ],
          [
           null,
           0.48260801424246796
          ],
          [
           0.4714709980248588,
           null
          ],
          [
           0.4951514142092151,
           null
          ],
          [
           null,
           0.464084079916309
          ],
          [
           0.49321590960280864,
           null
          ],
          [
           null,
           null
          ]
         ]
        },
        {
         "marker": {
          "color": "black",
          "line": {
           "color": "Grey",
           "width": 2
          }
         },
         "mode": "markers",
         "showlegend": false,
         "type": "scatter",
         "x": [
          "Plain",
          "Plain",
          "Ordered",
          "Ordered",
          "Plain",
          "Ordered",
          "Plain",
          "Ordered",
          "Ordered",
          "Ordered"
         ],
         "xaxis": "x37",
         "y": [
          0.021638482693544184,
          0.2270893298633922,
          0.0945433797074177,
          0.10835737078410228,
          0.10907215054262907,
          0.28445734030472547,
          0.4540409630785431,
          0.4661665374049984,
          0.23505773779382805,
          0.22284374993634803
         ],
         "yaxis": "y37"
        },
        {
         "colorbar": {
          "title": {
           "text": "Objective Value"
          }
         },
         "colorscale": [
          [
           0,
           "rgb(247,251,255)"
          ],
          [
           0.125,
           "rgb(222,235,247)"
          ],
          [
           0.25,
           "rgb(198,219,239)"
          ],
          [
           0.375,
           "rgb(158,202,225)"
          ],
          [
           0.5,
           "rgb(107,174,214)"
          ],
          [
           0.625,
           "rgb(66,146,198)"
          ],
          [
           0.75,
           "rgb(33,113,181)"
          ],
          [
           0.875,
           "rgb(8,81,156)"
          ],
          [
           1,
           "rgb(8,48,107)"
          ]
         ],
         "connectgaps": true,
         "contours": {
          "coloring": "heatmap"
         },
         "hoverinfo": "none",
         "line": {
          "smoothing": 1.3
         },
         "reversescale": false,
         "showscale": false,
         "type": "contour",
         "x": [
          "Ordered",
          "Plain"
         ],
         "xaxis": "x44",
         "y": [
          0.33542847256241365,
          0.346517574665482,
          0.5682996167268485,
          0.5793887188299168
         ],
         "yaxis": "y44",
         "z": [
          [
           null,
           null
          ],
          [
           null,
           0.464084079916309
          ],
          [
           null,
           0.4857114642072371
          ],
          [
           null,
           null
          ]
         ]
        },
        {
         "marker": {
          "color": "black",
          "line": {
           "color": "Grey",
           "width": 2
          }
         },
         "mode": "markers",
         "showlegend": false,
         "type": "scatter",
         "x": [
          "Plain",
          "Plain"
         ],
         "xaxis": "x44",
         "y": [
          0.5682996167268485,
          0.346517574665482
         ],
         "yaxis": "y44"
        },
        {
         "colorbar": {
          "title": {
           "text": "Objective Value"
          }
         },
         "colorscale": [
          [
           0,
           "rgb(247,251,255)"
          ],
          [
           0.125,
           "rgb(222,235,247)"
          ],
          [
           0.25,
           "rgb(198,219,239)"
          ],
          [
           0.375,
           "rgb(158,202,225)"
          ],
          [
           0.5,
           "rgb(107,174,214)"
          ],
          [
           0.625,
           "rgb(66,146,198)"
          ],
          [
           0.75,
           "rgb(33,113,181)"
          ],
          [
           0.875,
           "rgb(8,81,156)"
          ],
          [
           1,
           "rgb(8,48,107)"
          ]
         ],
         "connectgaps": true,
         "contours": {
          "coloring": "heatmap"
         },
         "hoverinfo": "none",
         "line": {
          "smoothing": 1.3
         },
         "reversescale": false,
         "showscale": false,
         "type": "contour",
         "x": [
          "Bayesian",
          "Bernoulli",
          "MVS"
         ],
         "xaxis": "x3",
         "y": [
          5.931225851966654,
          6.116755912690792,
          7.096642028801309,
          9.827357127173551,
          10.01288718789769
         ],
         "yaxis": "y3",
         "z": [
          [
           null,
           null,
           null
          ],
          [
           0.4805316312634164,
           null,
           null
          ],
          [
           0.48260801424246796,
           null,
           null
          ],
          [
           0.4552423895444777,
           null,
           null
          ],
          [
           null,
           null,
           null
          ]
         ]
        },
        {
         "marker": {
          "color": "black",
          "line": {
           "color": "Grey",
           "width": 2
          }
         },
         "mode": "markers",
         "showlegend": false,
         "type": "scatter",
         "x": [
          "Bayesian",
          "Bayesian",
          "Bayesian"
         ],
         "xaxis": "x3",
         "y": [
          7.096642028801309,
          9.827357127173551,
          6.116755912690792
         ],
         "yaxis": "y3"
        },
        {
         "colorbar": {
          "title": {
           "text": "Objective Value"
          }
         },
         "colorscale": [
          [
           0,
           "rgb(247,251,255)"
          ],
          [
           0.125,
           "rgb(222,235,247)"
          ],
          [
           0.25,
           "rgb(198,219,239)"
          ],
          [
           0.375,
           "rgb(158,202,225)"
          ],
          [
           0.5,
           "rgb(107,174,214)"
          ],
          [
           0.625,
           "rgb(66,146,198)"
          ],
          [
           0.75,
           "rgb(33,113,181)"
          ],
          [
           0.875,
           "rgb(8,81,156)"
          ],
          [
           1,
           "rgb(8,48,107)"
          ]
         ],
         "connectgaps": true,
         "contours": {
          "coloring": "heatmap"
         },
         "hoverinfo": "none",
         "line": {
          "smoothing": 1.3
         },
         "reversescale": false,
         "showscale": false,
         "type": "contour",
         "x": [
          "Bayesian",
          "Bernoulli",
          "MVS"
         ],
         "xaxis": "x10",
         "y": [
          "Ordered",
          "Plain"
         ],
         "yaxis": "y10",
         "z": [
          [
           0.4552423895444777,
           null,
           0.5002596463056314
          ],
          [
           0.4805316312634164,
           0.464084079916309,
           null
          ]
         ]
        },
        {
         "marker": {
          "color": "black",
          "line": {
           "color": "Grey",
           "width": 2
          }
         },
         "mode": "markers",
         "showlegend": false,
         "type": "scatter",
         "x": [
          "Bernoulli",
          "Bayesian",
          "Bayesian",
          "MVS",
          "Bayesian",
          "MVS",
          "Bernoulli",
          "MVS",
          "MVS",
          "MVS"
         ],
         "xaxis": "x10",
         "y": [
          "Plain",
          "Plain",
          "Ordered",
          "Ordered",
          "Plain",
          "Ordered",
          "Plain",
          "Ordered",
          "Ordered",
          "Ordered"
         ],
         "yaxis": "y10"
        },
        {
         "type": "scatter",
         "xaxis": "x17",
         "yaxis": "y17"
        },
        {
         "colorbar": {
          "title": {
           "text": "Objective Value"
          }
         },
         "colorscale": [
          [
           0,
           "rgb(247,251,255)"
          ],
          [
           0.125,
           "rgb(222,235,247)"
          ],
          [
           0.25,
           "rgb(198,219,239)"
          ],
          [
           0.375,
           "rgb(158,202,225)"
          ],
          [
           0.5,
           "rgb(107,174,214)"
          ],
          [
           0.625,
           "rgb(66,146,198)"
          ],
          [
           0.75,
           "rgb(33,113,181)"
          ],
          [
           0.875,
           "rgb(8,81,156)"
          ],
          [
           1,
           "rgb(8,48,107)"
          ]
         ],
         "connectgaps": true,
         "contours": {
          "coloring": "heatmap"
         },
         "hoverinfo": "none",
         "line": {
          "smoothing": 1.3
         },
         "reversescale": false,
         "showscale": false,
         "type": "contour",
         "x": [
          "Bayesian",
          "Bernoulli",
          "MVS"
         ],
         "xaxis": "x24",
         "y": [
          0.01683938907896474,
          0.020444015605667734,
          0.030042132431172902,
          0.03558672210141102,
          0.04121237595554739,
          0.0421713051546296,
          0.0467770960142275,
          0.05035194445472151,
          0.0763998524276613,
          0.08924087222966247,
          0.09253654613972763,
          0.09614117266643063
         ],
         "yaxis": "y24",
         "z": [
          [
           null,
           null,
           null
          ],
          [
           null,
           null,
           0.4714709980248588
          ],
          [
           null,
           null,
           0.49321590960280864
          ],
          [
           null,
           null,
           0.4954691169938987
          ],
          [
           0.48260801424246796,
           null,
           null
          ],
          [
           null,
           null,
           0.4951514142092151
          ],
          [
           null,
           0.4857114642072371,
           null
          ],
          [
           0.4552423895444777,
           null,
           null
          ],
          [
           0.4805316312634164,
           null,
           null
          ],
          [
           null,
           0.464084079916309,
           null
          ],
          [
           null,
           null,
           0.5002596463056314
          ],
          [
           null,
           null,
           null
          ]
         ]
        },
        {
         "marker": {
          "color": "black",
          "line": {
           "color": "Grey",
           "width": 2
          }
         },
         "mode": "markers",
         "showlegend": false,
         "type": "scatter",
         "x": [
          "Bernoulli",
          "Bayesian",
          "Bayesian",
          "MVS",
          "Bayesian",
          "MVS",
          "Bernoulli",
          "MVS",
          "MVS",
          "MVS"
         ],
         "xaxis": "x24",
         "y": [
          0.0467770960142275,
          0.04121237595554739,
          0.05035194445472151,
          0.03558672210141102,
          0.0763998524276613,
          0.0421713051546296,
          0.08924087222966247,
          0.030042132431172902,
          0.020444015605667734,
          0.09253654613972763
         ],
         "yaxis": "y24"
        },
        {
         "colorbar": {
          "title": {
           "text": "Objective Value"
          }
         },
         "colorscale": [
          [
           0,
           "rgb(247,251,255)"
          ],
          [
           0.125,
           "rgb(222,235,247)"
          ],
          [
           0.25,
           "rgb(198,219,239)"
          ],
          [
           0.375,
           "rgb(158,202,225)"
          ],
          [
           0.5,
           "rgb(107,174,214)"
          ],
          [
           0.625,
           "rgb(66,146,198)"
          ],
          [
           0.75,
           "rgb(33,113,181)"
          ],
          [
           0.875,
           "rgb(8,81,156)"
          ],
          [
           1,
           "rgb(8,48,107)"
          ]
         ],
         "connectgaps": true,
         "contours": {
          "coloring": "heatmap"
         },
         "hoverinfo": "none",
         "line": {
          "smoothing": 1.3
         },
         "reversescale": false,
         "showscale": false,
         "type": "contour",
         "x": [
          "Bayesian",
          "Bernoulli",
          "MVS"
         ],
         "xaxis": "x31",
         "y": [
          1.6,
          2,
          3,
          4,
          6,
          7,
          8,
          9,
          10,
          10.4
         ],
         "yaxis": "y31",
         "z": [
          [
           null,
           null,
           null
          ],
          [
           0.4552423895444777,
           null,
           null
          ],
          [
           null,
           null,
           0.4714709980248588
          ],
          [
           0.48260801424246796,
           null,
           null
          ],
          [
           null,
           null,
           0.49321590960280864
          ],
          [
           0.4805316312634164,
           null,
           null
          ],
          [
           null,
           null,
           0.4954691169938987
          ],
          [
           null,
           0.464084079916309,
           0.5002596463056314
          ],
          [
           null,
           null,
           0.4951514142092151
          ],
          [
           null,
           null,
           null
          ]
         ]
        },
        {
         "marker": {
          "color": "black",
          "line": {
           "color": "Grey",
           "width": 2
          }
         },
         "mode": "markers",
         "showlegend": false,
         "type": "scatter",
         "x": [
          "Bernoulli",
          "Bayesian",
          "Bayesian",
          "MVS",
          "Bayesian",
          "MVS",
          "Bernoulli",
          "MVS",
          "MVS",
          "MVS"
         ],
         "xaxis": "x31",
         "y": [
          9,
          4,
          2,
          8,
          7,
          10,
          9,
          6,
          3,
          9
         ],
         "yaxis": "y31"
        },
        {
         "colorbar": {
          "title": {
           "text": "Objective Value"
          }
         },
         "colorscale": [
          [
           0,
           "rgb(247,251,255)"
          ],
          [
           0.125,
           "rgb(222,235,247)"
          ],
          [
           0.25,
           "rgb(198,219,239)"
          ],
          [
           0.375,
           "rgb(158,202,225)"
          ],
          [
           0.5,
           "rgb(107,174,214)"
          ],
          [
           0.625,
           "rgb(66,146,198)"
          ],
          [
           0.75,
           "rgb(33,113,181)"
          ],
          [
           0.875,
           "rgb(8,81,156)"
          ],
          [
           1,
           "rgb(8,48,107)"
          ]
         ],
         "connectgaps": true,
         "contours": {
          "coloring": "heatmap"
         },
         "hoverinfo": "none",
         "line": {
          "smoothing": 1.3
         },
         "reversescale": false,
         "showscale": false,
         "type": "contour",
         "x": [
          "Bayesian",
          "Bernoulli",
          "MVS"
         ],
         "xaxis": "x38",
         "y": [
          -0.0005879200420285287,
          0.021638482693544184,
          0.0945433797074177,
          0.10835737078410228,
          0.10907215054262907,
          0.22284374993634803,
          0.2270893298633922,
          0.23505773779382805,
          0.28445734030472547,
          0.4540409630785431,
          0.4661665374049984,
          0.4883929401405711
         ],
         "yaxis": "y38",
         "z": [
          [
           null,
           null,
           null
          ],
          [
           null,
           0.4857114642072371,
           null
          ],
          [
           0.4552423895444777,
           null,
           null
          ],
          [
           null,
           null,
           0.4954691169938987
          ],
          [
           0.4805316312634164,
           null,
           null
          ],
          [
           null,
           null,
           0.5002596463056314
          ],
          [
           0.48260801424246796,
           null,
           null
          ],
          [
           null,
           null,
           0.4714709980248588
          ],
          [
           null,
           null,
           0.4951514142092151
          ],
          [
           null,
           0.464084079916309,
           null
          ],
          [
           null,
           null,
           0.49321590960280864
          ],
          [
           null,
           null,
           null
          ]
         ]
        },
        {
         "marker": {
          "color": "black",
          "line": {
           "color": "Grey",
           "width": 2
          }
         },
         "mode": "markers",
         "showlegend": false,
         "type": "scatter",
         "x": [
          "Bernoulli",
          "Bayesian",
          "Bayesian",
          "MVS",
          "Bayesian",
          "MVS",
          "Bernoulli",
          "MVS",
          "MVS",
          "MVS"
         ],
         "xaxis": "x38",
         "y": [
          0.021638482693544184,
          0.2270893298633922,
          0.0945433797074177,
          0.10835737078410228,
          0.10907215054262907,
          0.28445734030472547,
          0.4540409630785431,
          0.4661665374049984,
          0.23505773779382805,
          0.22284374993634803
         ],
         "yaxis": "y38"
        },
        {
         "colorbar": {
          "title": {
           "text": "Objective Value"
          }
         },
         "colorscale": [
          [
           0,
           "rgb(247,251,255)"
          ],
          [
           0.125,
           "rgb(222,235,247)"
          ],
          [
           0.25,
           "rgb(198,219,239)"
          ],
          [
           0.375,
           "rgb(158,202,225)"
          ],
          [
           0.5,
           "rgb(107,174,214)"
          ],
          [
           0.625,
           "rgb(66,146,198)"
          ],
          [
           0.75,
           "rgb(33,113,181)"
          ],
          [
           0.875,
           "rgb(8,81,156)"
          ],
          [
           1,
           "rgb(8,48,107)"
          ]
         ],
         "connectgaps": true,
         "contours": {
          "coloring": "heatmap"
         },
         "hoverinfo": "none",
         "line": {
          "smoothing": 1.3
         },
         "reversescale": false,
         "showscale": false,
         "type": "contour",
         "x": [
          "Bayesian",
          "Bernoulli",
          "MVS"
         ],
         "xaxis": "x45",
         "y": [
          0.33542847256241365,
          0.346517574665482,
          0.5682996167268485,
          0.5793887188299168
         ],
         "yaxis": "y45",
         "z": [
          [
           null,
           null,
           null
          ],
          [
           null,
           0.464084079916309,
           null
          ],
          [
           null,
           0.4857114642072371,
           null
          ],
          [
           null,
           null,
           null
          ]
         ]
        },
        {
         "marker": {
          "color": "black",
          "line": {
           "color": "Grey",
           "width": 2
          }
         },
         "mode": "markers",
         "showlegend": false,
         "type": "scatter",
         "x": [
          "Bernoulli",
          "Bernoulli"
         ],
         "xaxis": "x45",
         "y": [
          0.5682996167268485,
          0.346517574665482
         ],
         "yaxis": "y45"
        },
        {
         "colorbar": {
          "title": {
           "text": "Objective Value"
          }
         },
         "colorscale": [
          [
           0,
           "rgb(247,251,255)"
          ],
          [
           0.125,
           "rgb(222,235,247)"
          ],
          [
           0.25,
           "rgb(198,219,239)"
          ],
          [
           0.375,
           "rgb(158,202,225)"
          ],
          [
           0.5,
           "rgb(107,174,214)"
          ],
          [
           0.625,
           "rgb(66,146,198)"
          ],
          [
           0.75,
           "rgb(33,113,181)"
          ],
          [
           0.875,
           "rgb(8,81,156)"
          ],
          [
           1,
           "rgb(8,48,107)"
          ]
         ],
         "connectgaps": true,
         "contours": {
          "coloring": "heatmap"
         },
         "hoverinfo": "none",
         "line": {
          "smoothing": 1.3
         },
         "reversescale": false,
         "showscale": false,
         "type": "contour",
         "x": [
          0.01683938907896474,
          0.020444015605667734,
          0.030042132431172902,
          0.03558672210141102,
          0.04121237595554739,
          0.0421713051546296,
          0.0467770960142275,
          0.05035194445472151,
          0.0763998524276613,
          0.08924087222966247,
          0.09253654613972763,
          0.09614117266643063
         ],
         "xaxis": "x4",
         "y": [
          5.931225851966654,
          6.116755912690792,
          7.096642028801309,
          9.827357127173551,
          10.01288718789769
         ],
         "yaxis": "y4",
         "z": [
          [
           null,
           null,
           null,
           null,
           null,
           null,
           null,
           null,
           null,
           null,
           null,
           null
          ],
          [
           null,
           null,
           null,
           null,
           null,
           null,
           null,
           null,
           0.4805316312634164,
           null,
           null,
           null
          ],
          [
           null,
           null,
           null,
           null,
           0.48260801424246796,
           null,
           null,
           null,
           null,
           null,
           null,
           null
          ],
          [
           null,
           null,
           null,
           null,
           null,
           null,
           null,
           0.4552423895444777,
           null,
           null,
           null,
           null
          ],
          [
           null,
           null,
           null,
           null,
           null,
           null,
           null,
           null,
           null,
           null,
           null,
           null
          ]
         ]
        },
        {
         "marker": {
          "color": "black",
          "line": {
           "color": "Grey",
           "width": 2
          }
         },
         "mode": "markers",
         "showlegend": false,
         "type": "scatter",
         "x": [
          0.04121237595554739,
          0.05035194445472151,
          0.0763998524276613
         ],
         "xaxis": "x4",
         "y": [
          7.096642028801309,
          9.827357127173551,
          6.116755912690792
         ],
         "yaxis": "y4"
        },
        {
         "colorbar": {
          "title": {
           "text": "Objective Value"
          }
         },
         "colorscale": [
          [
           0,
           "rgb(247,251,255)"
          ],
          [
           0.125,
           "rgb(222,235,247)"
          ],
          [
           0.25,
           "rgb(198,219,239)"
          ],
          [
           0.375,
           "rgb(158,202,225)"
          ],
          [
           0.5,
           "rgb(107,174,214)"
          ],
          [
           0.625,
           "rgb(66,146,198)"
          ],
          [
           0.75,
           "rgb(33,113,181)"
          ],
          [
           0.875,
           "rgb(8,81,156)"
          ],
          [
           1,
           "rgb(8,48,107)"
          ]
         ],
         "connectgaps": true,
         "contours": {
          "coloring": "heatmap"
         },
         "hoverinfo": "none",
         "line": {
          "smoothing": 1.3
         },
         "reversescale": false,
         "showscale": false,
         "type": "contour",
         "x": [
          0.01683938907896474,
          0.020444015605667734,
          0.030042132431172902,
          0.03558672210141102,
          0.04121237595554739,
          0.0421713051546296,
          0.0467770960142275,
          0.05035194445472151,
          0.0763998524276613,
          0.08924087222966247,
          0.09253654613972763,
          0.09614117266643063
         ],
         "xaxis": "x11",
         "y": [
          "Ordered",
          "Plain"
         ],
         "yaxis": "y11",
         "z": [
          [
           null,
           0.4714709980248588,
           0.49321590960280864,
           0.4954691169938987,
           null,
           0.4951514142092151,
           null,
           0.4552423895444777,
           null,
           null,
           0.5002596463056314,
           null
          ],
          [
           null,
           null,
           null,
           null,
           0.48260801424246796,
           null,
           0.4857114642072371,
           null,
           0.4805316312634164,
           0.464084079916309,
           null,
           null
          ]
         ]
        },
        {
         "marker": {
          "color": "black",
          "line": {
           "color": "Grey",
           "width": 2
          }
         },
         "mode": "markers",
         "showlegend": false,
         "type": "scatter",
         "x": [
          0.0467770960142275,
          0.04121237595554739,
          0.05035194445472151,
          0.03558672210141102,
          0.0763998524276613,
          0.0421713051546296,
          0.08924087222966247,
          0.030042132431172902,
          0.020444015605667734,
          0.09253654613972763
         ],
         "xaxis": "x11",
         "y": [
          "Plain",
          "Plain",
          "Ordered",
          "Ordered",
          "Plain",
          "Ordered",
          "Plain",
          "Ordered",
          "Ordered",
          "Ordered"
         ],
         "yaxis": "y11"
        },
        {
         "colorbar": {
          "title": {
           "text": "Objective Value"
          }
         },
         "colorscale": [
          [
           0,
           "rgb(247,251,255)"
          ],
          [
           0.125,
           "rgb(222,235,247)"
          ],
          [
           0.25,
           "rgb(198,219,239)"
          ],
          [
           0.375,
           "rgb(158,202,225)"
          ],
          [
           0.5,
           "rgb(107,174,214)"
          ],
          [
           0.625,
           "rgb(66,146,198)"
          ],
          [
           0.75,
           "rgb(33,113,181)"
          ],
          [
           0.875,
           "rgb(8,81,156)"
          ],
          [
           1,
           "rgb(8,48,107)"
          ]
         ],
         "connectgaps": true,
         "contours": {
          "coloring": "heatmap"
         },
         "hoverinfo": "none",
         "line": {
          "smoothing": 1.3
         },
         "reversescale": false,
         "showscale": false,
         "type": "contour",
         "x": [
          0.01683938907896474,
          0.020444015605667734,
          0.030042132431172902,
          0.03558672210141102,
          0.04121237595554739,
          0.0421713051546296,
          0.0467770960142275,
          0.05035194445472151,
          0.0763998524276613,
          0.08924087222966247,
          0.09253654613972763,
          0.09614117266643063
         ],
         "xaxis": "x18",
         "y": [
          "Bayesian",
          "Bernoulli",
          "MVS"
         ],
         "yaxis": "y18",
         "z": [
          [
           null,
           null,
           null,
           null,
           0.48260801424246796,
           null,
           null,
           0.4552423895444777,
           0.4805316312634164,
           null,
           null,
           null
          ],
          [
           null,
           null,
           null,
           null,
           null,
           null,
           0.4857114642072371,
           null,
           null,
           0.464084079916309,
           null,
           null
          ],
          [
           null,
           0.4714709980248588,
           0.49321590960280864,
           0.4954691169938987,
           null,
           0.4951514142092151,
           null,
           null,
           null,
           null,
           0.5002596463056314,
           null
          ]
         ]
        },
        {
         "marker": {
          "color": "black",
          "line": {
           "color": "Grey",
           "width": 2
          }
         },
         "mode": "markers",
         "showlegend": false,
         "type": "scatter",
         "x": [
          0.0467770960142275,
          0.04121237595554739,
          0.05035194445472151,
          0.03558672210141102,
          0.0763998524276613,
          0.0421713051546296,
          0.08924087222966247,
          0.030042132431172902,
          0.020444015605667734,
          0.09253654613972763
         ],
         "xaxis": "x18",
         "y": [
          "Bernoulli",
          "Bayesian",
          "Bayesian",
          "MVS",
          "Bayesian",
          "MVS",
          "Bernoulli",
          "MVS",
          "MVS",
          "MVS"
         ],
         "yaxis": "y18"
        },
        {
         "type": "scatter",
         "xaxis": "x25",
         "yaxis": "y25"
        },
        {
         "colorbar": {
          "title": {
           "text": "Objective Value"
          }
         },
         "colorscale": [
          [
           0,
           "rgb(247,251,255)"
          ],
          [
           0.125,
           "rgb(222,235,247)"
          ],
          [
           0.25,
           "rgb(198,219,239)"
          ],
          [
           0.375,
           "rgb(158,202,225)"
          ],
          [
           0.5,
           "rgb(107,174,214)"
          ],
          [
           0.625,
           "rgb(66,146,198)"
          ],
          [
           0.75,
           "rgb(33,113,181)"
          ],
          [
           0.875,
           "rgb(8,81,156)"
          ],
          [
           1,
           "rgb(8,48,107)"
          ]
         ],
         "connectgaps": true,
         "contours": {
          "coloring": "heatmap"
         },
         "hoverinfo": "none",
         "line": {
          "smoothing": 1.3
         },
         "reversescale": false,
         "showscale": false,
         "type": "contour",
         "x": [
          0.01683938907896474,
          0.020444015605667734,
          0.030042132431172902,
          0.03558672210141102,
          0.04121237595554739,
          0.0421713051546296,
          0.0467770960142275,
          0.05035194445472151,
          0.0763998524276613,
          0.08924087222966247,
          0.09253654613972763,
          0.09614117266643063
         ],
         "xaxis": "x32",
         "y": [
          1.6,
          2,
          3,
          4,
          6,
          7,
          8,
          9,
          10,
          10.4
         ],
         "yaxis": "y32",
         "z": [
          [
           null,
           null,
           null,
           null,
           null,
           null,
           null,
           null,
           null,
           null,
           null,
           null
          ],
          [
           null,
           null,
           null,
           null,
           null,
           null,
           null,
           0.4552423895444777,
           null,
           null,
           null,
           null
          ],
          [
           null,
           0.4714709980248588,
           null,
           null,
           null,
           null,
           null,
           null,
           null,
           null,
           null,
           null
          ],
          [
           null,
           null,
           null,
           null,
           0.48260801424246796,
           null,
           null,
           null,
           null,
           null,
           null,
           null
          ],
          [
           null,
           null,
           0.49321590960280864,
           null,
           null,
           null,
           null,
           null,
           null,
           null,
           null,
           null
          ],
          [
           null,
           null,
           null,
           null,
           null,
           null,
           null,
           null,
           0.4805316312634164,
           null,
           null,
           null
          ],
          [
           null,
           null,
           null,
           0.4954691169938987,
           null,
           null,
           null,
           null,
           null,
           null,
           null,
           null
          ],
          [
           null,
           null,
           null,
           null,
           null,
           null,
           0.4857114642072371,
           null,
           null,
           0.464084079916309,
           0.5002596463056314,
           null
          ],
          [
           null,
           null,
           null,
           null,
           null,
           0.4951514142092151,
           null,
           null,
           null,
           null,
           null,
           null
          ],
          [
           null,
           null,
           null,
           null,
           null,
           null,
           null,
           null,
           null,
           null,
           null,
           null
          ]
         ]
        },
        {
         "marker": {
          "color": "black",
          "line": {
           "color": "Grey",
           "width": 2
          }
         },
         "mode": "markers",
         "showlegend": false,
         "type": "scatter",
         "x": [
          0.0467770960142275,
          0.04121237595554739,
          0.05035194445472151,
          0.03558672210141102,
          0.0763998524276613,
          0.0421713051546296,
          0.08924087222966247,
          0.030042132431172902,
          0.020444015605667734,
          0.09253654613972763
         ],
         "xaxis": "x32",
         "y": [
          9,
          4,
          2,
          8,
          7,
          10,
          9,
          6,
          3,
          9
         ],
         "yaxis": "y32"
        },
        {
         "colorbar": {
          "title": {
           "text": "Objective Value"
          }
         },
         "colorscale": [
          [
           0,
           "rgb(247,251,255)"
          ],
          [
           0.125,
           "rgb(222,235,247)"
          ],
          [
           0.25,
           "rgb(198,219,239)"
          ],
          [
           0.375,
           "rgb(158,202,225)"
          ],
          [
           0.5,
           "rgb(107,174,214)"
          ],
          [
           0.625,
           "rgb(66,146,198)"
          ],
          [
           0.75,
           "rgb(33,113,181)"
          ],
          [
           0.875,
           "rgb(8,81,156)"
          ],
          [
           1,
           "rgb(8,48,107)"
          ]
         ],
         "connectgaps": true,
         "contours": {
          "coloring": "heatmap"
         },
         "hoverinfo": "none",
         "line": {
          "smoothing": 1.3
         },
         "reversescale": false,
         "showscale": false,
         "type": "contour",
         "x": [
          0.01683938907896474,
          0.020444015605667734,
          0.030042132431172902,
          0.03558672210141102,
          0.04121237595554739,
          0.0421713051546296,
          0.0467770960142275,
          0.05035194445472151,
          0.0763998524276613,
          0.08924087222966247,
          0.09253654613972763,
          0.09614117266643063
         ],
         "xaxis": "x39",
         "y": [
          -0.0005879200420285287,
          0.021638482693544184,
          0.0945433797074177,
          0.10835737078410228,
          0.10907215054262907,
          0.22284374993634803,
          0.2270893298633922,
          0.23505773779382805,
          0.28445734030472547,
          0.4540409630785431,
          0.4661665374049984,
          0.4883929401405711
         ],
         "yaxis": "y39",
         "z": [
          [
           null,
           null,
           null,
           null,
           null,
           null,
           null,
           null,
           null,
           null,
           null,
           null
          ],
          [
           null,
           null,
           null,
           null,
           null,
           null,
           0.4857114642072371,
           null,
           null,
           null,
           null,
           null
          ],
          [
           null,
           null,
           null,
           null,
           null,
           null,
           null,
           0.4552423895444777,
           null,
           null,
           null,
           null
          ],
          [
           null,
           null,
           null,
           0.4954691169938987,
           null,
           null,
           null,
           null,
           null,
           null,
           null,
           null
          ],
          [
           null,
           null,
           null,
           null,
           null,
           null,
           null,
           null,
           0.4805316312634164,
           null,
           null,
           null
          ],
          [
           null,
           null,
           null,
           null,
           null,
           null,
           null,
           null,
           null,
           null,
           0.5002596463056314,
           null
          ],
          [
           null,
           null,
           null,
           null,
           0.48260801424246796,
           null,
           null,
           null,
           null,
           null,
           null,
           null
          ],
          [
           null,
           0.4714709980248588,
           null,
           null,
           null,
           null,
           null,
           null,
           null,
           null,
           null,
           null
          ],
          [
           null,
           null,
           null,
           null,
           null,
           0.4951514142092151,
           null,
           null,
           null,
           null,
           null,
           null
          ],
          [
           null,
           null,
           null,
           null,
           null,
           null,
           null,
           null,
           null,
           0.464084079916309,
           null,
           null
          ],
          [
           null,
           null,
           0.49321590960280864,
           null,
           null,
           null,
           null,
           null,
           null,
           null,
           null,
           null
          ],
          [
           null,
           null,
           null,
           null,
           null,
           null,
           null,
           null,
           null,
           null,
           null,
           null
          ]
         ]
        },
        {
         "marker": {
          "color": "black",
          "line": {
           "color": "Grey",
           "width": 2
          }
         },
         "mode": "markers",
         "showlegend": false,
         "type": "scatter",
         "x": [
          0.0467770960142275,
          0.04121237595554739,
          0.05035194445472151,
          0.03558672210141102,
          0.0763998524276613,
          0.0421713051546296,
          0.08924087222966247,
          0.030042132431172902,
          0.020444015605667734,
          0.09253654613972763
         ],
         "xaxis": "x39",
         "y": [
          0.021638482693544184,
          0.2270893298633922,
          0.0945433797074177,
          0.10835737078410228,
          0.10907215054262907,
          0.28445734030472547,
          0.4540409630785431,
          0.4661665374049984,
          0.23505773779382805,
          0.22284374993634803
         ],
         "yaxis": "y39"
        },
        {
         "colorbar": {
          "title": {
           "text": "Objective Value"
          }
         },
         "colorscale": [
          [
           0,
           "rgb(247,251,255)"
          ],
          [
           0.125,
           "rgb(222,235,247)"
          ],
          [
           0.25,
           "rgb(198,219,239)"
          ],
          [
           0.375,
           "rgb(158,202,225)"
          ],
          [
           0.5,
           "rgb(107,174,214)"
          ],
          [
           0.625,
           "rgb(66,146,198)"
          ],
          [
           0.75,
           "rgb(33,113,181)"
          ],
          [
           0.875,
           "rgb(8,81,156)"
          ],
          [
           1,
           "rgb(8,48,107)"
          ]
         ],
         "connectgaps": true,
         "contours": {
          "coloring": "heatmap"
         },
         "hoverinfo": "none",
         "line": {
          "smoothing": 1.3
         },
         "reversescale": false,
         "showscale": false,
         "type": "contour",
         "x": [
          0.01683938907896474,
          0.020444015605667734,
          0.030042132431172902,
          0.03558672210141102,
          0.04121237595554739,
          0.0421713051546296,
          0.0467770960142275,
          0.05035194445472151,
          0.0763998524276613,
          0.08924087222966247,
          0.09253654613972763,
          0.09614117266643063
         ],
         "xaxis": "x46",
         "y": [
          0.33542847256241365,
          0.346517574665482,
          0.5682996167268485,
          0.5793887188299168
         ],
         "yaxis": "y46",
         "z": [
          [
           null,
           null,
           null,
           null,
           null,
           null,
           null,
           null,
           null,
           null,
           null,
           null
          ],
          [
           null,
           null,
           null,
           null,
           null,
           null,
           null,
           null,
           null,
           0.464084079916309,
           null,
           null
          ],
          [
           null,
           null,
           null,
           null,
           null,
           null,
           0.4857114642072371,
           null,
           null,
           null,
           null,
           null
          ],
          [
           null,
           null,
           null,
           null,
           null,
           null,
           null,
           null,
           null,
           null,
           null,
           null
          ]
         ]
        },
        {
         "marker": {
          "color": "black",
          "line": {
           "color": "Grey",
           "width": 2
          }
         },
         "mode": "markers",
         "showlegend": false,
         "type": "scatter",
         "x": [
          0.0467770960142275,
          0.08924087222966247
         ],
         "xaxis": "x46",
         "y": [
          0.5682996167268485,
          0.346517574665482
         ],
         "yaxis": "y46"
        },
        {
         "colorbar": {
          "title": {
           "text": "Objective Value"
          }
         },
         "colorscale": [
          [
           0,
           "rgb(247,251,255)"
          ],
          [
           0.125,
           "rgb(222,235,247)"
          ],
          [
           0.25,
           "rgb(198,219,239)"
          ],
          [
           0.375,
           "rgb(158,202,225)"
          ],
          [
           0.5,
           "rgb(107,174,214)"
          ],
          [
           0.625,
           "rgb(66,146,198)"
          ],
          [
           0.75,
           "rgb(33,113,181)"
          ],
          [
           0.875,
           "rgb(8,81,156)"
          ],
          [
           1,
           "rgb(8,48,107)"
          ]
         ],
         "connectgaps": true,
         "contours": {
          "coloring": "heatmap"
         },
         "hoverinfo": "none",
         "line": {
          "smoothing": 1.3
         },
         "reversescale": false,
         "showscale": false,
         "type": "contour",
         "x": [
          1.6,
          2,
          3,
          4,
          6,
          7,
          8,
          9,
          10,
          10.4
         ],
         "xaxis": "x5",
         "y": [
          5.931225851966654,
          6.116755912690792,
          7.096642028801309,
          9.827357127173551,
          10.01288718789769
         ],
         "yaxis": "y5",
         "z": [
          [
           null,
           null,
           null,
           null,
           null,
           null,
           null,
           null,
           null,
           null
          ],
          [
           null,
           null,
           null,
           null,
           null,
           0.4805316312634164,
           null,
           null,
           null,
           null
          ],
          [
           null,
           null,
           null,
           0.48260801424246796,
           null,
           null,
           null,
           null,
           null,
           null
          ],
          [
           null,
           0.4552423895444777,
           null,
           null,
           null,
           null,
           null,
           null,
           null,
           null
          ],
          [
           null,
           null,
           null,
           null,
           null,
           null,
           null,
           null,
           null,
           null
          ]
         ]
        },
        {
         "marker": {
          "color": "black",
          "line": {
           "color": "Grey",
           "width": 2
          }
         },
         "mode": "markers",
         "showlegend": false,
         "type": "scatter",
         "x": [
          4,
          2,
          7
         ],
         "xaxis": "x5",
         "y": [
          7.096642028801309,
          9.827357127173551,
          6.116755912690792
         ],
         "yaxis": "y5"
        },
        {
         "colorbar": {
          "title": {
           "text": "Objective Value"
          }
         },
         "colorscale": [
          [
           0,
           "rgb(247,251,255)"
          ],
          [
           0.125,
           "rgb(222,235,247)"
          ],
          [
           0.25,
           "rgb(198,219,239)"
          ],
          [
           0.375,
           "rgb(158,202,225)"
          ],
          [
           0.5,
           "rgb(107,174,214)"
          ],
          [
           0.625,
           "rgb(66,146,198)"
          ],
          [
           0.75,
           "rgb(33,113,181)"
          ],
          [
           0.875,
           "rgb(8,81,156)"
          ],
          [
           1,
           "rgb(8,48,107)"
          ]
         ],
         "connectgaps": true,
         "contours": {
          "coloring": "heatmap"
         },
         "hoverinfo": "none",
         "line": {
          "smoothing": 1.3
         },
         "reversescale": false,
         "showscale": false,
         "type": "contour",
         "x": [
          1.6,
          2,
          3,
          4,
          6,
          7,
          8,
          9,
          10,
          10.4
         ],
         "xaxis": "x12",
         "y": [
          "Ordered",
          "Plain"
         ],
         "yaxis": "y12",
         "z": [
          [
           null,
           0.4552423895444777,
           0.4714709980248588,
           null,
           0.49321590960280864,
           null,
           0.4954691169938987,
           0.5002596463056314,
           0.4951514142092151,
           null
          ],
          [
           null,
           null,
           null,
           0.48260801424246796,
           null,
           0.4805316312634164,
           null,
           0.464084079916309,
           null,
           null
          ]
         ]
        },
        {
         "marker": {
          "color": "black",
          "line": {
           "color": "Grey",
           "width": 2
          }
         },
         "mode": "markers",
         "showlegend": false,
         "type": "scatter",
         "x": [
          9,
          4,
          2,
          8,
          7,
          10,
          9,
          6,
          3,
          9
         ],
         "xaxis": "x12",
         "y": [
          "Plain",
          "Plain",
          "Ordered",
          "Ordered",
          "Plain",
          "Ordered",
          "Plain",
          "Ordered",
          "Ordered",
          "Ordered"
         ],
         "yaxis": "y12"
        },
        {
         "colorbar": {
          "title": {
           "text": "Objective Value"
          }
         },
         "colorscale": [
          [
           0,
           "rgb(247,251,255)"
          ],
          [
           0.125,
           "rgb(222,235,247)"
          ],
          [
           0.25,
           "rgb(198,219,239)"
          ],
          [
           0.375,
           "rgb(158,202,225)"
          ],
          [
           0.5,
           "rgb(107,174,214)"
          ],
          [
           0.625,
           "rgb(66,146,198)"
          ],
          [
           0.75,
           "rgb(33,113,181)"
          ],
          [
           0.875,
           "rgb(8,81,156)"
          ],
          [
           1,
           "rgb(8,48,107)"
          ]
         ],
         "connectgaps": true,
         "contours": {
          "coloring": "heatmap"
         },
         "hoverinfo": "none",
         "line": {
          "smoothing": 1.3
         },
         "reversescale": false,
         "showscale": false,
         "type": "contour",
         "x": [
          1.6,
          2,
          3,
          4,
          6,
          7,
          8,
          9,
          10,
          10.4
         ],
         "xaxis": "x19",
         "y": [
          "Bayesian",
          "Bernoulli",
          "MVS"
         ],
         "yaxis": "y19",
         "z": [
          [
           null,
           0.4552423895444777,
           null,
           0.48260801424246796,
           null,
           0.4805316312634164,
           null,
           null,
           null,
           null
          ],
          [
           null,
           null,
           null,
           null,
           null,
           null,
           null,
           0.464084079916309,
           null,
           null
          ],
          [
           null,
           null,
           0.4714709980248588,
           null,
           0.49321590960280864,
           null,
           0.4954691169938987,
           0.5002596463056314,
           0.4951514142092151,
           null
          ]
         ]
        },
        {
         "marker": {
          "color": "black",
          "line": {
           "color": "Grey",
           "width": 2
          }
         },
         "mode": "markers",
         "showlegend": false,
         "type": "scatter",
         "x": [
          9,
          4,
          2,
          8,
          7,
          10,
          9,
          6,
          3,
          9
         ],
         "xaxis": "x19",
         "y": [
          "Bernoulli",
          "Bayesian",
          "Bayesian",
          "MVS",
          "Bayesian",
          "MVS",
          "Bernoulli",
          "MVS",
          "MVS",
          "MVS"
         ],
         "yaxis": "y19"
        },
        {
         "colorbar": {
          "title": {
           "text": "Objective Value"
          }
         },
         "colorscale": [
          [
           0,
           "rgb(247,251,255)"
          ],
          [
           0.125,
           "rgb(222,235,247)"
          ],
          [
           0.25,
           "rgb(198,219,239)"
          ],
          [
           0.375,
           "rgb(158,202,225)"
          ],
          [
           0.5,
           "rgb(107,174,214)"
          ],
          [
           0.625,
           "rgb(66,146,198)"
          ],
          [
           0.75,
           "rgb(33,113,181)"
          ],
          [
           0.875,
           "rgb(8,81,156)"
          ],
          [
           1,
           "rgb(8,48,107)"
          ]
         ],
         "connectgaps": true,
         "contours": {
          "coloring": "heatmap"
         },
         "hoverinfo": "none",
         "line": {
          "smoothing": 1.3
         },
         "reversescale": false,
         "showscale": false,
         "type": "contour",
         "x": [
          1.6,
          2,
          3,
          4,
          6,
          7,
          8,
          9,
          10,
          10.4
         ],
         "xaxis": "x26",
         "y": [
          0.01683938907896474,
          0.020444015605667734,
          0.030042132431172902,
          0.03558672210141102,
          0.04121237595554739,
          0.0421713051546296,
          0.0467770960142275,
          0.05035194445472151,
          0.0763998524276613,
          0.08924087222966247,
          0.09253654613972763,
          0.09614117266643063
         ],
         "yaxis": "y26",
         "z": [
          [
           null,
           null,
           null,
           null,
           null,
           null,
           null,
           null,
           null,
           null
          ],
          [
           null,
           null,
           0.4714709980248588,
           null,
           null,
           null,
           null,
           null,
           null,
           null
          ],
          [
           null,
           null,
           null,
           null,
           0.49321590960280864,
           null,
           null,
           null,
           null,
           null
          ],
          [
           null,
           null,
           null,
           null,
           null,
           null,
           0.4954691169938987,
           null,
           null,
           null
          ],
          [
           null,
           null,
           null,
           0.48260801424246796,
           null,
           null,
           null,
           null,
           null,
           null
          ],
          [
           null,
           null,
           null,
           null,
           null,
           null,
           null,
           null,
           0.4951514142092151,
           null
          ],
          [
           null,
           null,
           null,
           null,
           null,
           null,
           null,
           0.4857114642072371,
           null,
           null
          ],
          [
           null,
           0.4552423895444777,
           null,
           null,
           null,
           null,
           null,
           null,
           null,
           null
          ],
          [
           null,
           null,
           null,
           null,
           null,
           0.4805316312634164,
           null,
           null,
           null,
           null
          ],
          [
           null,
           null,
           null,
           null,
           null,
           null,
           null,
           0.464084079916309,
           null,
           null
          ],
          [
           null,
           null,
           null,
           null,
           null,
           null,
           null,
           0.5002596463056314,
           null,
           null
          ],
          [
           null,
           null,
           null,
           null,
           null,
           null,
           null,
           null,
           null,
           null
          ]
         ]
        },
        {
         "marker": {
          "color": "black",
          "line": {
           "color": "Grey",
           "width": 2
          }
         },
         "mode": "markers",
         "showlegend": false,
         "type": "scatter",
         "x": [
          9,
          4,
          2,
          8,
          7,
          10,
          9,
          6,
          3,
          9
         ],
         "xaxis": "x26",
         "y": [
          0.0467770960142275,
          0.04121237595554739,
          0.05035194445472151,
          0.03558672210141102,
          0.0763998524276613,
          0.0421713051546296,
          0.08924087222966247,
          0.030042132431172902,
          0.020444015605667734,
          0.09253654613972763
         ],
         "yaxis": "y26"
        },
        {
         "type": "scatter",
         "xaxis": "x33",
         "yaxis": "y33"
        },
        {
         "colorbar": {
          "title": {
           "text": "Objective Value"
          }
         },
         "colorscale": [
          [
           0,
           "rgb(247,251,255)"
          ],
          [
           0.125,
           "rgb(222,235,247)"
          ],
          [
           0.25,
           "rgb(198,219,239)"
          ],
          [
           0.375,
           "rgb(158,202,225)"
          ],
          [
           0.5,
           "rgb(107,174,214)"
          ],
          [
           0.625,
           "rgb(66,146,198)"
          ],
          [
           0.75,
           "rgb(33,113,181)"
          ],
          [
           0.875,
           "rgb(8,81,156)"
          ],
          [
           1,
           "rgb(8,48,107)"
          ]
         ],
         "connectgaps": true,
         "contours": {
          "coloring": "heatmap"
         },
         "hoverinfo": "none",
         "line": {
          "smoothing": 1.3
         },
         "reversescale": false,
         "showscale": false,
         "type": "contour",
         "x": [
          1.6,
          2,
          3,
          4,
          6,
          7,
          8,
          9,
          10,
          10.4
         ],
         "xaxis": "x40",
         "y": [
          -0.0005879200420285287,
          0.021638482693544184,
          0.0945433797074177,
          0.10835737078410228,
          0.10907215054262907,
          0.22284374993634803,
          0.2270893298633922,
          0.23505773779382805,
          0.28445734030472547,
          0.4540409630785431,
          0.4661665374049984,
          0.4883929401405711
         ],
         "yaxis": "y40",
         "z": [
          [
           null,
           null,
           null,
           null,
           null,
           null,
           null,
           null,
           null,
           null
          ],
          [
           null,
           null,
           null,
           null,
           null,
           null,
           null,
           0.4857114642072371,
           null,
           null
          ],
          [
           null,
           0.4552423895444777,
           null,
           null,
           null,
           null,
           null,
           null,
           null,
           null
          ],
          [
           null,
           null,
           null,
           null,
           null,
           null,
           0.4954691169938987,
           null,
           null,
           null
          ],
          [
           null,
           null,
           null,
           null,
           null,
           0.4805316312634164,
           null,
           null,
           null,
           null
          ],
          [
           null,
           null,
           null,
           null,
           null,
           null,
           null,
           0.5002596463056314,
           null,
           null
          ],
          [
           null,
           null,
           null,
           0.48260801424246796,
           null,
           null,
           null,
           null,
           null,
           null
          ],
          [
           null,
           null,
           0.4714709980248588,
           null,
           null,
           null,
           null,
           null,
           null,
           null
          ],
          [
           null,
           null,
           null,
           null,
           null,
           null,
           null,
           null,
           0.4951514142092151,
           null
          ],
          [
           null,
           null,
           null,
           null,
           null,
           null,
           null,
           0.464084079916309,
           null,
           null
          ],
          [
           null,
           null,
           null,
           null,
           0.49321590960280864,
           null,
           null,
           null,
           null,
           null
          ],
          [
           null,
           null,
           null,
           null,
           null,
           null,
           null,
           null,
           null,
           null
          ]
         ]
        },
        {
         "marker": {
          "color": "black",
          "line": {
           "color": "Grey",
           "width": 2
          }
         },
         "mode": "markers",
         "showlegend": false,
         "type": "scatter",
         "x": [
          9,
          4,
          2,
          8,
          7,
          10,
          9,
          6,
          3,
          9
         ],
         "xaxis": "x40",
         "y": [
          0.021638482693544184,
          0.2270893298633922,
          0.0945433797074177,
          0.10835737078410228,
          0.10907215054262907,
          0.28445734030472547,
          0.4540409630785431,
          0.4661665374049984,
          0.23505773779382805,
          0.22284374993634803
         ],
         "yaxis": "y40"
        },
        {
         "colorbar": {
          "title": {
           "text": "Objective Value"
          }
         },
         "colorscale": [
          [
           0,
           "rgb(247,251,255)"
          ],
          [
           0.125,
           "rgb(222,235,247)"
          ],
          [
           0.25,
           "rgb(198,219,239)"
          ],
          [
           0.375,
           "rgb(158,202,225)"
          ],
          [
           0.5,
           "rgb(107,174,214)"
          ],
          [
           0.625,
           "rgb(66,146,198)"
          ],
          [
           0.75,
           "rgb(33,113,181)"
          ],
          [
           0.875,
           "rgb(8,81,156)"
          ],
          [
           1,
           "rgb(8,48,107)"
          ]
         ],
         "connectgaps": true,
         "contours": {
          "coloring": "heatmap"
         },
         "hoverinfo": "none",
         "line": {
          "smoothing": 1.3
         },
         "reversescale": false,
         "showscale": false,
         "type": "contour",
         "x": [
          1.6,
          2,
          3,
          4,
          6,
          7,
          8,
          9,
          10,
          10.4
         ],
         "xaxis": "x47",
         "y": [
          0.33542847256241365,
          0.346517574665482,
          0.5682996167268485,
          0.5793887188299168
         ],
         "yaxis": "y47",
         "z": [
          [
           null,
           null,
           null,
           null,
           null,
           null,
           null,
           null,
           null,
           null
          ],
          [
           null,
           null,
           null,
           null,
           null,
           null,
           null,
           0.464084079916309,
           null,
           null
          ],
          [
           null,
           null,
           null,
           null,
           null,
           null,
           null,
           0.4857114642072371,
           null,
           null
          ],
          [
           null,
           null,
           null,
           null,
           null,
           null,
           null,
           null,
           null,
           null
          ]
         ]
        },
        {
         "marker": {
          "color": "black",
          "line": {
           "color": "Grey",
           "width": 2
          }
         },
         "mode": "markers",
         "showlegend": false,
         "type": "scatter",
         "x": [
          9,
          9
         ],
         "xaxis": "x47",
         "y": [
          0.5682996167268485,
          0.346517574665482
         ],
         "yaxis": "y47"
        },
        {
         "colorbar": {
          "title": {
           "text": "Objective Value"
          }
         },
         "colorscale": [
          [
           0,
           "rgb(247,251,255)"
          ],
          [
           0.125,
           "rgb(222,235,247)"
          ],
          [
           0.25,
           "rgb(198,219,239)"
          ],
          [
           0.375,
           "rgb(158,202,225)"
          ],
          [
           0.5,
           "rgb(107,174,214)"
          ],
          [
           0.625,
           "rgb(66,146,198)"
          ],
          [
           0.75,
           "rgb(33,113,181)"
          ],
          [
           0.875,
           "rgb(8,81,156)"
          ],
          [
           1,
           "rgb(8,48,107)"
          ]
         ],
         "connectgaps": true,
         "contours": {
          "coloring": "heatmap"
         },
         "hoverinfo": "none",
         "line": {
          "smoothing": 1.3
         },
         "reversescale": false,
         "showscale": false,
         "type": "contour",
         "x": [
          -0.0005879200420285287,
          0.021638482693544184,
          0.0945433797074177,
          0.10835737078410228,
          0.10907215054262907,
          0.22284374993634803,
          0.2270893298633922,
          0.23505773779382805,
          0.28445734030472547,
          0.4540409630785431,
          0.4661665374049984,
          0.4883929401405711
         ],
         "xaxis": "x6",
         "y": [
          5.931225851966654,
          6.116755912690792,
          7.096642028801309,
          9.827357127173551,
          10.01288718789769
         ],
         "yaxis": "y6",
         "z": [
          [
           null,
           null,
           null,
           null,
           null,
           null,
           null,
           null,
           null,
           null,
           null,
           null
          ],
          [
           null,
           null,
           null,
           null,
           0.4805316312634164,
           null,
           null,
           null,
           null,
           null,
           null,
           null
          ],
          [
           null,
           null,
           null,
           null,
           null,
           null,
           0.48260801424246796,
           null,
           null,
           null,
           null,
           null
          ],
          [
           null,
           null,
           0.4552423895444777,
           null,
           null,
           null,
           null,
           null,
           null,
           null,
           null,
           null
          ],
          [
           null,
           null,
           null,
           null,
           null,
           null,
           null,
           null,
           null,
           null,
           null,
           null
          ]
         ]
        },
        {
         "marker": {
          "color": "black",
          "line": {
           "color": "Grey",
           "width": 2
          }
         },
         "mode": "markers",
         "showlegend": false,
         "type": "scatter",
         "x": [
          0.2270893298633922,
          0.0945433797074177,
          0.10907215054262907
         ],
         "xaxis": "x6",
         "y": [
          7.096642028801309,
          9.827357127173551,
          6.116755912690792
         ],
         "yaxis": "y6"
        },
        {
         "colorbar": {
          "title": {
           "text": "Objective Value"
          }
         },
         "colorscale": [
          [
           0,
           "rgb(247,251,255)"
          ],
          [
           0.125,
           "rgb(222,235,247)"
          ],
          [
           0.25,
           "rgb(198,219,239)"
          ],
          [
           0.375,
           "rgb(158,202,225)"
          ],
          [
           0.5,
           "rgb(107,174,214)"
          ],
          [
           0.625,
           "rgb(66,146,198)"
          ],
          [
           0.75,
           "rgb(33,113,181)"
          ],
          [
           0.875,
           "rgb(8,81,156)"
          ],
          [
           1,
           "rgb(8,48,107)"
          ]
         ],
         "connectgaps": true,
         "contours": {
          "coloring": "heatmap"
         },
         "hoverinfo": "none",
         "line": {
          "smoothing": 1.3
         },
         "reversescale": false,
         "showscale": false,
         "type": "contour",
         "x": [
          -0.0005879200420285287,
          0.021638482693544184,
          0.0945433797074177,
          0.10835737078410228,
          0.10907215054262907,
          0.22284374993634803,
          0.2270893298633922,
          0.23505773779382805,
          0.28445734030472547,
          0.4540409630785431,
          0.4661665374049984,
          0.4883929401405711
         ],
         "xaxis": "x13",
         "y": [
          "Ordered",
          "Plain"
         ],
         "yaxis": "y13",
         "z": [
          [
           null,
           null,
           0.4552423895444777,
           0.4954691169938987,
           null,
           0.5002596463056314,
           null,
           0.4714709980248588,
           0.4951514142092151,
           null,
           0.49321590960280864,
           null
          ],
          [
           null,
           0.4857114642072371,
           null,
           null,
           0.4805316312634164,
           null,
           0.48260801424246796,
           null,
           null,
           0.464084079916309,
           null,
           null
          ]
         ]
        },
        {
         "marker": {
          "color": "black",
          "line": {
           "color": "Grey",
           "width": 2
          }
         },
         "mode": "markers",
         "showlegend": false,
         "type": "scatter",
         "x": [
          0.021638482693544184,
          0.2270893298633922,
          0.0945433797074177,
          0.10835737078410228,
          0.10907215054262907,
          0.28445734030472547,
          0.4540409630785431,
          0.4661665374049984,
          0.23505773779382805,
          0.22284374993634803
         ],
         "xaxis": "x13",
         "y": [
          "Plain",
          "Plain",
          "Ordered",
          "Ordered",
          "Plain",
          "Ordered",
          "Plain",
          "Ordered",
          "Ordered",
          "Ordered"
         ],
         "yaxis": "y13"
        },
        {
         "colorbar": {
          "title": {
           "text": "Objective Value"
          }
         },
         "colorscale": [
          [
           0,
           "rgb(247,251,255)"
          ],
          [
           0.125,
           "rgb(222,235,247)"
          ],
          [
           0.25,
           "rgb(198,219,239)"
          ],
          [
           0.375,
           "rgb(158,202,225)"
          ],
          [
           0.5,
           "rgb(107,174,214)"
          ],
          [
           0.625,
           "rgb(66,146,198)"
          ],
          [
           0.75,
           "rgb(33,113,181)"
          ],
          [
           0.875,
           "rgb(8,81,156)"
          ],
          [
           1,
           "rgb(8,48,107)"
          ]
         ],
         "connectgaps": true,
         "contours": {
          "coloring": "heatmap"
         },
         "hoverinfo": "none",
         "line": {
          "smoothing": 1.3
         },
         "reversescale": false,
         "showscale": false,
         "type": "contour",
         "x": [
          -0.0005879200420285287,
          0.021638482693544184,
          0.0945433797074177,
          0.10835737078410228,
          0.10907215054262907,
          0.22284374993634803,
          0.2270893298633922,
          0.23505773779382805,
          0.28445734030472547,
          0.4540409630785431,
          0.4661665374049984,
          0.4883929401405711
         ],
         "xaxis": "x20",
         "y": [
          "Bayesian",
          "Bernoulli",
          "MVS"
         ],
         "yaxis": "y20",
         "z": [
          [
           null,
           null,
           0.4552423895444777,
           null,
           0.4805316312634164,
           null,
           0.48260801424246796,
           null,
           null,
           null,
           null,
           null
          ],
          [
           null,
           0.4857114642072371,
           null,
           null,
           null,
           null,
           null,
           null,
           null,
           0.464084079916309,
           null,
           null
          ],
          [
           null,
           null,
           null,
           0.4954691169938987,
           null,
           0.5002596463056314,
           null,
           0.4714709980248588,
           0.4951514142092151,
           null,
           0.49321590960280864,
           null
          ]
         ]
        },
        {
         "marker": {
          "color": "black",
          "line": {
           "color": "Grey",
           "width": 2
          }
         },
         "mode": "markers",
         "showlegend": false,
         "type": "scatter",
         "x": [
          0.021638482693544184,
          0.2270893298633922,
          0.0945433797074177,
          0.10835737078410228,
          0.10907215054262907,
          0.28445734030472547,
          0.4540409630785431,
          0.4661665374049984,
          0.23505773779382805,
          0.22284374993634803
         ],
         "xaxis": "x20",
         "y": [
          "Bernoulli",
          "Bayesian",
          "Bayesian",
          "MVS",
          "Bayesian",
          "MVS",
          "Bernoulli",
          "MVS",
          "MVS",
          "MVS"
         ],
         "yaxis": "y20"
        },
        {
         "colorbar": {
          "title": {
           "text": "Objective Value"
          }
         },
         "colorscale": [
          [
           0,
           "rgb(247,251,255)"
          ],
          [
           0.125,
           "rgb(222,235,247)"
          ],
          [
           0.25,
           "rgb(198,219,239)"
          ],
          [
           0.375,
           "rgb(158,202,225)"
          ],
          [
           0.5,
           "rgb(107,174,214)"
          ],
          [
           0.625,
           "rgb(66,146,198)"
          ],
          [
           0.75,
           "rgb(33,113,181)"
          ],
          [
           0.875,
           "rgb(8,81,156)"
          ],
          [
           1,
           "rgb(8,48,107)"
          ]
         ],
         "connectgaps": true,
         "contours": {
          "coloring": "heatmap"
         },
         "hoverinfo": "none",
         "line": {
          "smoothing": 1.3
         },
         "reversescale": false,
         "showscale": false,
         "type": "contour",
         "x": [
          -0.0005879200420285287,
          0.021638482693544184,
          0.0945433797074177,
          0.10835737078410228,
          0.10907215054262907,
          0.22284374993634803,
          0.2270893298633922,
          0.23505773779382805,
          0.28445734030472547,
          0.4540409630785431,
          0.4661665374049984,
          0.4883929401405711
         ],
         "xaxis": "x27",
         "y": [
          0.01683938907896474,
          0.020444015605667734,
          0.030042132431172902,
          0.03558672210141102,
          0.04121237595554739,
          0.0421713051546296,
          0.0467770960142275,
          0.05035194445472151,
          0.0763998524276613,
          0.08924087222966247,
          0.09253654613972763,
          0.09614117266643063
         ],
         "yaxis": "y27",
         "z": [
          [
           null,
           null,
           null,
           null,
           null,
           null,
           null,
           null,
           null,
           null,
           null,
           null
          ],
          [
           null,
           null,
           null,
           null,
           null,
           null,
           null,
           0.4714709980248588,
           null,
           null,
           null,
           null
          ],
          [
           null,
           null,
           null,
           null,
           null,
           null,
           null,
           null,
           null,
           null,
           0.49321590960280864,
           null
          ],
          [
           null,
           null,
           null,
           0.4954691169938987,
           null,
           null,
           null,
           null,
           null,
           null,
           null,
           null
          ],
          [
           null,
           null,
           null,
           null,
           null,
           null,
           0.48260801424246796,
           null,
           null,
           null,
           null,
           null
          ],
          [
           null,
           null,
           null,
           null,
           null,
           null,
           null,
           null,
           0.4951514142092151,
           null,
           null,
           null
          ],
          [
           null,
           0.4857114642072371,
           null,
           null,
           null,
           null,
           null,
           null,
           null,
           null,
           null,
           null
          ],
          [
           null,
           null,
           0.4552423895444777,
           null,
           null,
           null,
           null,
           null,
           null,
           null,
           null,
           null
          ],
          [
           null,
           null,
           null,
           null,
           0.4805316312634164,
           null,
           null,
           null,
           null,
           null,
           null,
           null
          ],
          [
           null,
           null,
           null,
           null,
           null,
           null,
           null,
           null,
           null,
           0.464084079916309,
           null,
           null
          ],
          [
           null,
           null,
           null,
           null,
           null,
           0.5002596463056314,
           null,
           null,
           null,
           null,
           null,
           null
          ],
          [
           null,
           null,
           null,
           null,
           null,
           null,
           null,
           null,
           null,
           null,
           null,
           null
          ]
         ]
        },
        {
         "marker": {
          "color": "black",
          "line": {
           "color": "Grey",
           "width": 2
          }
         },
         "mode": "markers",
         "showlegend": false,
         "type": "scatter",
         "x": [
          0.021638482693544184,
          0.2270893298633922,
          0.0945433797074177,
          0.10835737078410228,
          0.10907215054262907,
          0.28445734030472547,
          0.4540409630785431,
          0.4661665374049984,
          0.23505773779382805,
          0.22284374993634803
         ],
         "xaxis": "x27",
         "y": [
          0.0467770960142275,
          0.04121237595554739,
          0.05035194445472151,
          0.03558672210141102,
          0.0763998524276613,
          0.0421713051546296,
          0.08924087222966247,
          0.030042132431172902,
          0.020444015605667734,
          0.09253654613972763
         ],
         "yaxis": "y27"
        },
        {
         "colorbar": {
          "title": {
           "text": "Objective Value"
          }
         },
         "colorscale": [
          [
           0,
           "rgb(247,251,255)"
          ],
          [
           0.125,
           "rgb(222,235,247)"
          ],
          [
           0.25,
           "rgb(198,219,239)"
          ],
          [
           0.375,
           "rgb(158,202,225)"
          ],
          [
           0.5,
           "rgb(107,174,214)"
          ],
          [
           0.625,
           "rgb(66,146,198)"
          ],
          [
           0.75,
           "rgb(33,113,181)"
          ],
          [
           0.875,
           "rgb(8,81,156)"
          ],
          [
           1,
           "rgb(8,48,107)"
          ]
         ],
         "connectgaps": true,
         "contours": {
          "coloring": "heatmap"
         },
         "hoverinfo": "none",
         "line": {
          "smoothing": 1.3
         },
         "reversescale": false,
         "showscale": false,
         "type": "contour",
         "x": [
          -0.0005879200420285287,
          0.021638482693544184,
          0.0945433797074177,
          0.10835737078410228,
          0.10907215054262907,
          0.22284374993634803,
          0.2270893298633922,
          0.23505773779382805,
          0.28445734030472547,
          0.4540409630785431,
          0.4661665374049984,
          0.4883929401405711
         ],
         "xaxis": "x34",
         "y": [
          1.6,
          2,
          3,
          4,
          6,
          7,
          8,
          9,
          10,
          10.4
         ],
         "yaxis": "y34",
         "z": [
          [
           null,
           null,
           null,
           null,
           null,
           null,
           null,
           null,
           null,
           null,
           null,
           null
          ],
          [
           null,
           null,
           0.4552423895444777,
           null,
           null,
           null,
           null,
           null,
           null,
           null,
           null,
           null
          ],
          [
           null,
           null,
           null,
           null,
           null,
           null,
           null,
           0.4714709980248588,
           null,
           null,
           null,
           null
          ],
          [
           null,
           null,
           null,
           null,
           null,
           null,
           0.48260801424246796,
           null,
           null,
           null,
           null,
           null
          ],
          [
           null,
           null,
           null,
           null,
           null,
           null,
           null,
           null,
           null,
           null,
           0.49321590960280864,
           null
          ],
          [
           null,
           null,
           null,
           null,
           0.4805316312634164,
           null,
           null,
           null,
           null,
           null,
           null,
           null
          ],
          [
           null,
           null,
           null,
           0.4954691169938987,
           null,
           null,
           null,
           null,
           null,
           null,
           null,
           null
          ],
          [
           null,
           0.4857114642072371,
           null,
           null,
           null,
           0.5002596463056314,
           null,
           null,
           null,
           0.464084079916309,
           null,
           null
          ],
          [
           null,
           null,
           null,
           null,
           null,
           null,
           null,
           null,
           0.4951514142092151,
           null,
           null,
           null
          ],
          [
           null,
           null,
           null,
           null,
           null,
           null,
           null,
           null,
           null,
           null,
           null,
           null
          ]
         ]
        },
        {
         "marker": {
          "color": "black",
          "line": {
           "color": "Grey",
           "width": 2
          }
         },
         "mode": "markers",
         "showlegend": false,
         "type": "scatter",
         "x": [
          0.021638482693544184,
          0.2270893298633922,
          0.0945433797074177,
          0.10835737078410228,
          0.10907215054262907,
          0.28445734030472547,
          0.4540409630785431,
          0.4661665374049984,
          0.23505773779382805,
          0.22284374993634803
         ],
         "xaxis": "x34",
         "y": [
          9,
          4,
          2,
          8,
          7,
          10,
          9,
          6,
          3,
          9
         ],
         "yaxis": "y34"
        },
        {
         "type": "scatter",
         "xaxis": "x41",
         "yaxis": "y41"
        },
        {
         "colorbar": {
          "title": {
           "text": "Objective Value"
          }
         },
         "colorscale": [
          [
           0,
           "rgb(247,251,255)"
          ],
          [
           0.125,
           "rgb(222,235,247)"
          ],
          [
           0.25,
           "rgb(198,219,239)"
          ],
          [
           0.375,
           "rgb(158,202,225)"
          ],
          [
           0.5,
           "rgb(107,174,214)"
          ],
          [
           0.625,
           "rgb(66,146,198)"
          ],
          [
           0.75,
           "rgb(33,113,181)"
          ],
          [
           0.875,
           "rgb(8,81,156)"
          ],
          [
           1,
           "rgb(8,48,107)"
          ]
         ],
         "connectgaps": true,
         "contours": {
          "coloring": "heatmap"
         },
         "hoverinfo": "none",
         "line": {
          "smoothing": 1.3
         },
         "reversescale": false,
         "showscale": false,
         "type": "contour",
         "x": [
          -0.0005879200420285287,
          0.021638482693544184,
          0.0945433797074177,
          0.10835737078410228,
          0.10907215054262907,
          0.22284374993634803,
          0.2270893298633922,
          0.23505773779382805,
          0.28445734030472547,
          0.4540409630785431,
          0.4661665374049984,
          0.4883929401405711
         ],
         "xaxis": "x48",
         "y": [
          0.33542847256241365,
          0.346517574665482,
          0.5682996167268485,
          0.5793887188299168
         ],
         "yaxis": "y48",
         "z": [
          [
           null,
           null,
           null,
           null,
           null,
           null,
           null,
           null,
           null,
           null,
           null,
           null
          ],
          [
           null,
           null,
           null,
           null,
           null,
           null,
           null,
           null,
           null,
           0.464084079916309,
           null,
           null
          ],
          [
           null,
           0.4857114642072371,
           null,
           null,
           null,
           null,
           null,
           null,
           null,
           null,
           null,
           null
          ],
          [
           null,
           null,
           null,
           null,
           null,
           null,
           null,
           null,
           null,
           null,
           null,
           null
          ]
         ]
        },
        {
         "marker": {
          "color": "black",
          "line": {
           "color": "Grey",
           "width": 2
          }
         },
         "mode": "markers",
         "showlegend": false,
         "type": "scatter",
         "x": [
          0.021638482693544184,
          0.4540409630785431
         ],
         "xaxis": "x48",
         "y": [
          0.5682996167268485,
          0.346517574665482
         ],
         "yaxis": "y48"
        },
        {
         "colorbar": {
          "title": {
           "text": "Objective Value"
          }
         },
         "colorscale": [
          [
           0,
           "rgb(247,251,255)"
          ],
          [
           0.125,
           "rgb(222,235,247)"
          ],
          [
           0.25,
           "rgb(198,219,239)"
          ],
          [
           0.375,
           "rgb(158,202,225)"
          ],
          [
           0.5,
           "rgb(107,174,214)"
          ],
          [
           0.625,
           "rgb(66,146,198)"
          ],
          [
           0.75,
           "rgb(33,113,181)"
          ],
          [
           0.875,
           "rgb(8,81,156)"
          ],
          [
           1,
           "rgb(8,48,107)"
          ]
         ],
         "connectgaps": true,
         "contours": {
          "coloring": "heatmap"
         },
         "hoverinfo": "none",
         "line": {
          "smoothing": 1.3
         },
         "reversescale": false,
         "showscale": false,
         "type": "contour",
         "x": [
          0.33542847256241365,
          0.346517574665482,
          0.5682996167268485,
          0.5793887188299168
         ],
         "xaxis": "x7",
         "y": [
          5.931225851966654,
          6.116755912690792,
          7.096642028801309,
          9.827357127173551,
          10.01288718789769
         ],
         "yaxis": "y7",
         "z": [
          [
           null,
           null,
           null,
           null
          ],
          [
           null,
           null,
           null,
           null
          ],
          [
           null,
           null,
           null,
           null
          ],
          [
           null,
           null,
           null,
           null
          ],
          [
           null,
           null,
           null,
           null
          ]
         ]
        },
        {
         "marker": {
          "color": "black",
          "line": {
           "color": "Grey",
           "width": 2
          }
         },
         "mode": "markers",
         "showlegend": false,
         "type": "scatter",
         "x": [],
         "xaxis": "x7",
         "y": [],
         "yaxis": "y7"
        },
        {
         "colorbar": {
          "title": {
           "text": "Objective Value"
          }
         },
         "colorscale": [
          [
           0,
           "rgb(247,251,255)"
          ],
          [
           0.125,
           "rgb(222,235,247)"
          ],
          [
           0.25,
           "rgb(198,219,239)"
          ],
          [
           0.375,
           "rgb(158,202,225)"
          ],
          [
           0.5,
           "rgb(107,174,214)"
          ],
          [
           0.625,
           "rgb(66,146,198)"
          ],
          [
           0.75,
           "rgb(33,113,181)"
          ],
          [
           0.875,
           "rgb(8,81,156)"
          ],
          [
           1,
           "rgb(8,48,107)"
          ]
         ],
         "connectgaps": true,
         "contours": {
          "coloring": "heatmap"
         },
         "hoverinfo": "none",
         "line": {
          "smoothing": 1.3
         },
         "reversescale": false,
         "showscale": false,
         "type": "contour",
         "x": [
          0.33542847256241365,
          0.346517574665482,
          0.5682996167268485,
          0.5793887188299168
         ],
         "xaxis": "x14",
         "y": [
          "Ordered",
          "Plain"
         ],
         "yaxis": "y14",
         "z": [
          [
           null,
           null,
           null,
           null
          ],
          [
           null,
           0.464084079916309,
           0.4857114642072371,
           null
          ]
         ]
        },
        {
         "marker": {
          "color": "black",
          "line": {
           "color": "Grey",
           "width": 2
          }
         },
         "mode": "markers",
         "showlegend": false,
         "type": "scatter",
         "x": [
          0.5682996167268485,
          0.346517574665482
         ],
         "xaxis": "x14",
         "y": [
          "Plain",
          "Plain"
         ],
         "yaxis": "y14"
        },
        {
         "colorbar": {
          "title": {
           "text": "Objective Value"
          }
         },
         "colorscale": [
          [
           0,
           "rgb(247,251,255)"
          ],
          [
           0.125,
           "rgb(222,235,247)"
          ],
          [
           0.25,
           "rgb(198,219,239)"
          ],
          [
           0.375,
           "rgb(158,202,225)"
          ],
          [
           0.5,
           "rgb(107,174,214)"
          ],
          [
           0.625,
           "rgb(66,146,198)"
          ],
          [
           0.75,
           "rgb(33,113,181)"
          ],
          [
           0.875,
           "rgb(8,81,156)"
          ],
          [
           1,
           "rgb(8,48,107)"
          ]
         ],
         "connectgaps": true,
         "contours": {
          "coloring": "heatmap"
         },
         "hoverinfo": "none",
         "line": {
          "smoothing": 1.3
         },
         "reversescale": false,
         "showscale": false,
         "type": "contour",
         "x": [
          0.33542847256241365,
          0.346517574665482,
          0.5682996167268485,
          0.5793887188299168
         ],
         "xaxis": "x21",
         "y": [
          "Bayesian",
          "Bernoulli",
          "MVS"
         ],
         "yaxis": "y21",
         "z": [
          [
           null,
           null,
           null,
           null
          ],
          [
           null,
           0.464084079916309,
           0.4857114642072371,
           null
          ],
          [
           null,
           null,
           null,
           null
          ]
         ]
        },
        {
         "marker": {
          "color": "black",
          "line": {
           "color": "Grey",
           "width": 2
          }
         },
         "mode": "markers",
         "showlegend": false,
         "type": "scatter",
         "x": [
          0.5682996167268485,
          0.346517574665482
         ],
         "xaxis": "x21",
         "y": [
          "Bernoulli",
          "Bernoulli"
         ],
         "yaxis": "y21"
        },
        {
         "colorbar": {
          "title": {
           "text": "Objective Value"
          }
         },
         "colorscale": [
          [
           0,
           "rgb(247,251,255)"
          ],
          [
           0.125,
           "rgb(222,235,247)"
          ],
          [
           0.25,
           "rgb(198,219,239)"
          ],
          [
           0.375,
           "rgb(158,202,225)"
          ],
          [
           0.5,
           "rgb(107,174,214)"
          ],
          [
           0.625,
           "rgb(66,146,198)"
          ],
          [
           0.75,
           "rgb(33,113,181)"
          ],
          [
           0.875,
           "rgb(8,81,156)"
          ],
          [
           1,
           "rgb(8,48,107)"
          ]
         ],
         "connectgaps": true,
         "contours": {
          "coloring": "heatmap"
         },
         "hoverinfo": "none",
         "line": {
          "smoothing": 1.3
         },
         "reversescale": false,
         "showscale": false,
         "type": "contour",
         "x": [
          0.33542847256241365,
          0.346517574665482,
          0.5682996167268485,
          0.5793887188299168
         ],
         "xaxis": "x28",
         "y": [
          0.01683938907896474,
          0.020444015605667734,
          0.030042132431172902,
          0.03558672210141102,
          0.04121237595554739,
          0.0421713051546296,
          0.0467770960142275,
          0.05035194445472151,
          0.0763998524276613,
          0.08924087222966247,
          0.09253654613972763,
          0.09614117266643063
         ],
         "yaxis": "y28",
         "z": [
          [
           null,
           null,
           null,
           null
          ],
          [
           null,
           null,
           null,
           null
          ],
          [
           null,
           null,
           null,
           null
          ],
          [
           null,
           null,
           null,
           null
          ],
          [
           null,
           null,
           null,
           null
          ],
          [
           null,
           null,
           null,
           null
          ],
          [
           null,
           null,
           0.4857114642072371,
           null
          ],
          [
           null,
           null,
           null,
           null
          ],
          [
           null,
           null,
           null,
           null
          ],
          [
           null,
           0.464084079916309,
           null,
           null
          ],
          [
           null,
           null,
           null,
           null
          ],
          [
           null,
           null,
           null,
           null
          ]
         ]
        },
        {
         "marker": {
          "color": "black",
          "line": {
           "color": "Grey",
           "width": 2
          }
         },
         "mode": "markers",
         "showlegend": false,
         "type": "scatter",
         "x": [
          0.5682996167268485,
          0.346517574665482
         ],
         "xaxis": "x28",
         "y": [
          0.0467770960142275,
          0.08924087222966247
         ],
         "yaxis": "y28"
        },
        {
         "colorbar": {
          "title": {
           "text": "Objective Value"
          }
         },
         "colorscale": [
          [
           0,
           "rgb(247,251,255)"
          ],
          [
           0.125,
           "rgb(222,235,247)"
          ],
          [
           0.25,
           "rgb(198,219,239)"
          ],
          [
           0.375,
           "rgb(158,202,225)"
          ],
          [
           0.5,
           "rgb(107,174,214)"
          ],
          [
           0.625,
           "rgb(66,146,198)"
          ],
          [
           0.75,
           "rgb(33,113,181)"
          ],
          [
           0.875,
           "rgb(8,81,156)"
          ],
          [
           1,
           "rgb(8,48,107)"
          ]
         ],
         "connectgaps": true,
         "contours": {
          "coloring": "heatmap"
         },
         "hoverinfo": "none",
         "line": {
          "smoothing": 1.3
         },
         "reversescale": false,
         "showscale": false,
         "type": "contour",
         "x": [
          0.33542847256241365,
          0.346517574665482,
          0.5682996167268485,
          0.5793887188299168
         ],
         "xaxis": "x35",
         "y": [
          1.6,
          2,
          3,
          4,
          6,
          7,
          8,
          9,
          10,
          10.4
         ],
         "yaxis": "y35",
         "z": [
          [
           null,
           null,
           null,
           null
          ],
          [
           null,
           null,
           null,
           null
          ],
          [
           null,
           null,
           null,
           null
          ],
          [
           null,
           null,
           null,
           null
          ],
          [
           null,
           null,
           null,
           null
          ],
          [
           null,
           null,
           null,
           null
          ],
          [
           null,
           null,
           null,
           null
          ],
          [
           null,
           0.464084079916309,
           0.4857114642072371,
           null
          ],
          [
           null,
           null,
           null,
           null
          ],
          [
           null,
           null,
           null,
           null
          ]
         ]
        },
        {
         "marker": {
          "color": "black",
          "line": {
           "color": "Grey",
           "width": 2
          }
         },
         "mode": "markers",
         "showlegend": false,
         "type": "scatter",
         "x": [
          0.5682996167268485,
          0.346517574665482
         ],
         "xaxis": "x35",
         "y": [
          9,
          9
         ],
         "yaxis": "y35"
        },
        {
         "colorbar": {
          "title": {
           "text": "Objective Value"
          }
         },
         "colorscale": [
          [
           0,
           "rgb(247,251,255)"
          ],
          [
           0.125,
           "rgb(222,235,247)"
          ],
          [
           0.25,
           "rgb(198,219,239)"
          ],
          [
           0.375,
           "rgb(158,202,225)"
          ],
          [
           0.5,
           "rgb(107,174,214)"
          ],
          [
           0.625,
           "rgb(66,146,198)"
          ],
          [
           0.75,
           "rgb(33,113,181)"
          ],
          [
           0.875,
           "rgb(8,81,156)"
          ],
          [
           1,
           "rgb(8,48,107)"
          ]
         ],
         "connectgaps": true,
         "contours": {
          "coloring": "heatmap"
         },
         "hoverinfo": "none",
         "line": {
          "smoothing": 1.3
         },
         "reversescale": false,
         "showscale": false,
         "type": "contour",
         "x": [
          0.33542847256241365,
          0.346517574665482,
          0.5682996167268485,
          0.5793887188299168
         ],
         "xaxis": "x42",
         "y": [
          -0.0005879200420285287,
          0.021638482693544184,
          0.0945433797074177,
          0.10835737078410228,
          0.10907215054262907,
          0.22284374993634803,
          0.2270893298633922,
          0.23505773779382805,
          0.28445734030472547,
          0.4540409630785431,
          0.4661665374049984,
          0.4883929401405711
         ],
         "yaxis": "y42",
         "z": [
          [
           null,
           null,
           null,
           null
          ],
          [
           null,
           null,
           0.4857114642072371,
           null
          ],
          [
           null,
           null,
           null,
           null
          ],
          [
           null,
           null,
           null,
           null
          ],
          [
           null,
           null,
           null,
           null
          ],
          [
           null,
           null,
           null,
           null
          ],
          [
           null,
           null,
           null,
           null
          ],
          [
           null,
           null,
           null,
           null
          ],
          [
           null,
           null,
           null,
           null
          ],
          [
           null,
           0.464084079916309,
           null,
           null
          ],
          [
           null,
           null,
           null,
           null
          ],
          [
           null,
           null,
           null,
           null
          ]
         ]
        },
        {
         "marker": {
          "color": "black",
          "line": {
           "color": "Grey",
           "width": 2
          }
         },
         "mode": "markers",
         "showlegend": false,
         "type": "scatter",
         "x": [
          0.5682996167268485,
          0.346517574665482
         ],
         "xaxis": "x42",
         "y": [
          0.021638482693544184,
          0.4540409630785431
         ],
         "yaxis": "y42"
        },
        {
         "type": "scatter",
         "xaxis": "x49",
         "yaxis": "y49"
        }
       ],
       "layout": {
        "template": {
         "data": {
          "bar": [
           {
            "error_x": {
             "color": "#2a3f5f"
            },
            "error_y": {
             "color": "#2a3f5f"
            },
            "marker": {
             "line": {
              "color": "#E5ECF6",
              "width": 0.5
             },
             "pattern": {
              "fillmode": "overlay",
              "size": 10,
              "solidity": 0.2
             }
            },
            "type": "bar"
           }
          ],
          "barpolar": [
           {
            "marker": {
             "line": {
              "color": "#E5ECF6",
              "width": 0.5
             },
             "pattern": {
              "fillmode": "overlay",
              "size": 10,
              "solidity": 0.2
             }
            },
            "type": "barpolar"
           }
          ],
          "carpet": [
           {
            "aaxis": {
             "endlinecolor": "#2a3f5f",
             "gridcolor": "white",
             "linecolor": "white",
             "minorgridcolor": "white",
             "startlinecolor": "#2a3f5f"
            },
            "baxis": {
             "endlinecolor": "#2a3f5f",
             "gridcolor": "white",
             "linecolor": "white",
             "minorgridcolor": "white",
             "startlinecolor": "#2a3f5f"
            },
            "type": "carpet"
           }
          ],
          "choropleth": [
           {
            "colorbar": {
             "outlinewidth": 0,
             "ticks": ""
            },
            "type": "choropleth"
           }
          ],
          "contour": [
           {
            "colorbar": {
             "outlinewidth": 0,
             "ticks": ""
            },
            "colorscale": [
             [
              0,
              "#0d0887"
             ],
             [
              0.1111111111111111,
              "#46039f"
             ],
             [
              0.2222222222222222,
              "#7201a8"
             ],
             [
              0.3333333333333333,
              "#9c179e"
             ],
             [
              0.4444444444444444,
              "#bd3786"
             ],
             [
              0.5555555555555556,
              "#d8576b"
             ],
             [
              0.6666666666666666,
              "#ed7953"
             ],
             [
              0.7777777777777778,
              "#fb9f3a"
             ],
             [
              0.8888888888888888,
              "#fdca26"
             ],
             [
              1,
              "#f0f921"
             ]
            ],
            "type": "contour"
           }
          ],
          "contourcarpet": [
           {
            "colorbar": {
             "outlinewidth": 0,
             "ticks": ""
            },
            "type": "contourcarpet"
           }
          ],
          "heatmap": [
           {
            "colorbar": {
             "outlinewidth": 0,
             "ticks": ""
            },
            "colorscale": [
             [
              0,
              "#0d0887"
             ],
             [
              0.1111111111111111,
              "#46039f"
             ],
             [
              0.2222222222222222,
              "#7201a8"
             ],
             [
              0.3333333333333333,
              "#9c179e"
             ],
             [
              0.4444444444444444,
              "#bd3786"
             ],
             [
              0.5555555555555556,
              "#d8576b"
             ],
             [
              0.6666666666666666,
              "#ed7953"
             ],
             [
              0.7777777777777778,
              "#fb9f3a"
             ],
             [
              0.8888888888888888,
              "#fdca26"
             ],
             [
              1,
              "#f0f921"
             ]
            ],
            "type": "heatmap"
           }
          ],
          "heatmapgl": [
           {
            "colorbar": {
             "outlinewidth": 0,
             "ticks": ""
            },
            "colorscale": [
             [
              0,
              "#0d0887"
             ],
             [
              0.1111111111111111,
              "#46039f"
             ],
             [
              0.2222222222222222,
              "#7201a8"
             ],
             [
              0.3333333333333333,
              "#9c179e"
             ],
             [
              0.4444444444444444,
              "#bd3786"
             ],
             [
              0.5555555555555556,
              "#d8576b"
             ],
             [
              0.6666666666666666,
              "#ed7953"
             ],
             [
              0.7777777777777778,
              "#fb9f3a"
             ],
             [
              0.8888888888888888,
              "#fdca26"
             ],
             [
              1,
              "#f0f921"
             ]
            ],
            "type": "heatmapgl"
           }
          ],
          "histogram": [
           {
            "marker": {
             "pattern": {
              "fillmode": "overlay",
              "size": 10,
              "solidity": 0.2
             }
            },
            "type": "histogram"
           }
          ],
          "histogram2d": [
           {
            "colorbar": {
             "outlinewidth": 0,
             "ticks": ""
            },
            "colorscale": [
             [
              0,
              "#0d0887"
             ],
             [
              0.1111111111111111,
              "#46039f"
             ],
             [
              0.2222222222222222,
              "#7201a8"
             ],
             [
              0.3333333333333333,
              "#9c179e"
             ],
             [
              0.4444444444444444,
              "#bd3786"
             ],
             [
              0.5555555555555556,
              "#d8576b"
             ],
             [
              0.6666666666666666,
              "#ed7953"
             ],
             [
              0.7777777777777778,
              "#fb9f3a"
             ],
             [
              0.8888888888888888,
              "#fdca26"
             ],
             [
              1,
              "#f0f921"
             ]
            ],
            "type": "histogram2d"
           }
          ],
          "histogram2dcontour": [
           {
            "colorbar": {
             "outlinewidth": 0,
             "ticks": ""
            },
            "colorscale": [
             [
              0,
              "#0d0887"
             ],
             [
              0.1111111111111111,
              "#46039f"
             ],
             [
              0.2222222222222222,
              "#7201a8"
             ],
             [
              0.3333333333333333,
              "#9c179e"
             ],
             [
              0.4444444444444444,
              "#bd3786"
             ],
             [
              0.5555555555555556,
              "#d8576b"
             ],
             [
              0.6666666666666666,
              "#ed7953"
             ],
             [
              0.7777777777777778,
              "#fb9f3a"
             ],
             [
              0.8888888888888888,
              "#fdca26"
             ],
             [
              1,
              "#f0f921"
             ]
            ],
            "type": "histogram2dcontour"
           }
          ],
          "mesh3d": [
           {
            "colorbar": {
             "outlinewidth": 0,
             "ticks": ""
            },
            "type": "mesh3d"
           }
          ],
          "parcoords": [
           {
            "line": {
             "colorbar": {
              "outlinewidth": 0,
              "ticks": ""
             }
            },
            "type": "parcoords"
           }
          ],
          "pie": [
           {
            "automargin": true,
            "type": "pie"
           }
          ],
          "scatter": [
           {
            "fillpattern": {
             "fillmode": "overlay",
             "size": 10,
             "solidity": 0.2
            },
            "type": "scatter"
           }
          ],
          "scatter3d": [
           {
            "line": {
             "colorbar": {
              "outlinewidth": 0,
              "ticks": ""
             }
            },
            "marker": {
             "colorbar": {
              "outlinewidth": 0,
              "ticks": ""
             }
            },
            "type": "scatter3d"
           }
          ],
          "scattercarpet": [
           {
            "marker": {
             "colorbar": {
              "outlinewidth": 0,
              "ticks": ""
             }
            },
            "type": "scattercarpet"
           }
          ],
          "scattergeo": [
           {
            "marker": {
             "colorbar": {
              "outlinewidth": 0,
              "ticks": ""
             }
            },
            "type": "scattergeo"
           }
          ],
          "scattergl": [
           {
            "marker": {
             "colorbar": {
              "outlinewidth": 0,
              "ticks": ""
             }
            },
            "type": "scattergl"
           }
          ],
          "scattermapbox": [
           {
            "marker": {
             "colorbar": {
              "outlinewidth": 0,
              "ticks": ""
             }
            },
            "type": "scattermapbox"
           }
          ],
          "scatterpolar": [
           {
            "marker": {
             "colorbar": {
              "outlinewidth": 0,
              "ticks": ""
             }
            },
            "type": "scatterpolar"
           }
          ],
          "scatterpolargl": [
           {
            "marker": {
             "colorbar": {
              "outlinewidth": 0,
              "ticks": ""
             }
            },
            "type": "scatterpolargl"
           }
          ],
          "scatterternary": [
           {
            "marker": {
             "colorbar": {
              "outlinewidth": 0,
              "ticks": ""
             }
            },
            "type": "scatterternary"
           }
          ],
          "surface": [
           {
            "colorbar": {
             "outlinewidth": 0,
             "ticks": ""
            },
            "colorscale": [
             [
              0,
              "#0d0887"
             ],
             [
              0.1111111111111111,
              "#46039f"
             ],
             [
              0.2222222222222222,
              "#7201a8"
             ],
             [
              0.3333333333333333,
              "#9c179e"
             ],
             [
              0.4444444444444444,
              "#bd3786"
             ],
             [
              0.5555555555555556,
              "#d8576b"
             ],
             [
              0.6666666666666666,
              "#ed7953"
             ],
             [
              0.7777777777777778,
              "#fb9f3a"
             ],
             [
              0.8888888888888888,
              "#fdca26"
             ],
             [
              1,
              "#f0f921"
             ]
            ],
            "type": "surface"
           }
          ],
          "table": [
           {
            "cells": {
             "fill": {
              "color": "#EBF0F8"
             },
             "line": {
              "color": "white"
             }
            },
            "header": {
             "fill": {
              "color": "#C8D4E3"
             },
             "line": {
              "color": "white"
             }
            },
            "type": "table"
           }
          ]
         },
         "layout": {
          "annotationdefaults": {
           "arrowcolor": "#2a3f5f",
           "arrowhead": 0,
           "arrowwidth": 1
          },
          "autotypenumbers": "strict",
          "coloraxis": {
           "colorbar": {
            "outlinewidth": 0,
            "ticks": ""
           }
          },
          "colorscale": {
           "diverging": [
            [
             0,
             "#8e0152"
            ],
            [
             0.1,
             "#c51b7d"
            ],
            [
             0.2,
             "#de77ae"
            ],
            [
             0.3,
             "#f1b6da"
            ],
            [
             0.4,
             "#fde0ef"
            ],
            [
             0.5,
             "#f7f7f7"
            ],
            [
             0.6,
             "#e6f5d0"
            ],
            [
             0.7,
             "#b8e186"
            ],
            [
             0.8,
             "#7fbc41"
            ],
            [
             0.9,
             "#4d9221"
            ],
            [
             1,
             "#276419"
            ]
           ],
           "sequential": [
            [
             0,
             "#0d0887"
            ],
            [
             0.1111111111111111,
             "#46039f"
            ],
            [
             0.2222222222222222,
             "#7201a8"
            ],
            [
             0.3333333333333333,
             "#9c179e"
            ],
            [
             0.4444444444444444,
             "#bd3786"
            ],
            [
             0.5555555555555556,
             "#d8576b"
            ],
            [
             0.6666666666666666,
             "#ed7953"
            ],
            [
             0.7777777777777778,
             "#fb9f3a"
            ],
            [
             0.8888888888888888,
             "#fdca26"
            ],
            [
             1,
             "#f0f921"
            ]
           ],
           "sequentialminus": [
            [
             0,
             "#0d0887"
            ],
            [
             0.1111111111111111,
             "#46039f"
            ],
            [
             0.2222222222222222,
             "#7201a8"
            ],
            [
             0.3333333333333333,
             "#9c179e"
            ],
            [
             0.4444444444444444,
             "#bd3786"
            ],
            [
             0.5555555555555556,
             "#d8576b"
            ],
            [
             0.6666666666666666,
             "#ed7953"
            ],
            [
             0.7777777777777778,
             "#fb9f3a"
            ],
            [
             0.8888888888888888,
             "#fdca26"
            ],
            [
             1,
             "#f0f921"
            ]
           ]
          },
          "colorway": [
           "#636efa",
           "#EF553B",
           "#00cc96",
           "#ab63fa",
           "#FFA15A",
           "#19d3f3",
           "#FF6692",
           "#B6E880",
           "#FF97FF",
           "#FECB52"
          ],
          "font": {
           "color": "#2a3f5f"
          },
          "geo": {
           "bgcolor": "white",
           "lakecolor": "white",
           "landcolor": "#E5ECF6",
           "showlakes": true,
           "showland": true,
           "subunitcolor": "white"
          },
          "hoverlabel": {
           "align": "left"
          },
          "hovermode": "closest",
          "mapbox": {
           "style": "light"
          },
          "paper_bgcolor": "white",
          "plot_bgcolor": "#E5ECF6",
          "polar": {
           "angularaxis": {
            "gridcolor": "white",
            "linecolor": "white",
            "ticks": ""
           },
           "bgcolor": "#E5ECF6",
           "radialaxis": {
            "gridcolor": "white",
            "linecolor": "white",
            "ticks": ""
           }
          },
          "scene": {
           "xaxis": {
            "backgroundcolor": "#E5ECF6",
            "gridcolor": "white",
            "gridwidth": 2,
            "linecolor": "white",
            "showbackground": true,
            "ticks": "",
            "zerolinecolor": "white"
           },
           "yaxis": {
            "backgroundcolor": "#E5ECF6",
            "gridcolor": "white",
            "gridwidth": 2,
            "linecolor": "white",
            "showbackground": true,
            "ticks": "",
            "zerolinecolor": "white"
           },
           "zaxis": {
            "backgroundcolor": "#E5ECF6",
            "gridcolor": "white",
            "gridwidth": 2,
            "linecolor": "white",
            "showbackground": true,
            "ticks": "",
            "zerolinecolor": "white"
           }
          },
          "shapedefaults": {
           "line": {
            "color": "#2a3f5f"
           }
          },
          "ternary": {
           "aaxis": {
            "gridcolor": "white",
            "linecolor": "white",
            "ticks": ""
           },
           "baxis": {
            "gridcolor": "white",
            "linecolor": "white",
            "ticks": ""
           },
           "bgcolor": "#E5ECF6",
           "caxis": {
            "gridcolor": "white",
            "linecolor": "white",
            "ticks": ""
           }
          },
          "title": {
           "x": 0.05
          },
          "xaxis": {
           "automargin": true,
           "gridcolor": "white",
           "linecolor": "white",
           "ticks": "",
           "title": {
            "standoff": 15
           },
           "zerolinecolor": "white",
           "zerolinewidth": 2
          },
          "yaxis": {
           "automargin": true,
           "gridcolor": "white",
           "linecolor": "white",
           "ticks": "",
           "title": {
            "standoff": 15
           },
           "zerolinecolor": "white",
           "zerolinewidth": 2
          }
         }
        },
        "title": {
         "text": "Contour Plot"
        },
        "xaxis": {
         "anchor": "y",
         "domain": [
          0,
          0.1183673469387755
         ],
         "matches": "x43",
         "range": [
          5.931225851966654,
          10.01288718789769
         ],
         "showticklabels": false
        },
        "xaxis10": {
         "anchor": "y10",
         "domain": [
          0.29387755102040813,
          0.4122448979591836
         ],
         "matches": "x45",
         "range": [
          -0.1,
          2.1
         ],
         "showticklabels": false,
         "type": "category"
        },
        "xaxis11": {
         "anchor": "y11",
         "domain": [
          0.4408163265306122,
          0.5591836734693877
         ],
         "matches": "x46",
         "range": [
          0.01683938907896474,
          0.09614117266643063
         ],
         "showticklabels": false
        },
        "xaxis12": {
         "anchor": "y12",
         "domain": [
          0.5877551020408163,
          0.7061224489795918
         ],
         "matches": "x47",
         "range": [
          1.6,
          10.4
         ],
         "showticklabels": false
        },
        "xaxis13": {
         "anchor": "y13",
         "domain": [
          0.7346938775510204,
          0.8530612244897959
         ],
         "matches": "x48",
         "range": [
          -0.0005879200420285287,
          0.4883929401405711
         ],
         "showticklabels": false
        },
        "xaxis14": {
         "anchor": "y14",
         "domain": [
          0.8816326530612244,
          0.9999999999999999
         ],
         "matches": "x49",
         "range": [
          0.33542847256241365,
          0.5793887188299168
         ],
         "showticklabels": false
        },
        "xaxis15": {
         "anchor": "y15",
         "domain": [
          0,
          0.1183673469387755
         ],
         "matches": "x43",
         "range": [
          5.931225851966654,
          10.01288718789769
         ],
         "showticklabels": false
        },
        "xaxis16": {
         "anchor": "y16",
         "domain": [
          0.14693877551020407,
          0.26530612244897955
         ],
         "matches": "x44",
         "range": [
          -0.05,
          1.05
         ],
         "showticklabels": false,
         "type": "category"
        },
        "xaxis17": {
         "anchor": "y17",
         "domain": [
          0.29387755102040813,
          0.4122448979591836
         ],
         "matches": "x45",
         "range": [
          -0.1,
          2.1
         ],
         "showticklabels": false,
         "type": "category"
        },
        "xaxis18": {
         "anchor": "y18",
         "domain": [
          0.4408163265306122,
          0.5591836734693877
         ],
         "matches": "x46",
         "range": [
          0.01683938907896474,
          0.09614117266643063
         ],
         "showticklabels": false
        },
        "xaxis19": {
         "anchor": "y19",
         "domain": [
          0.5877551020408163,
          0.7061224489795918
         ],
         "matches": "x47",
         "range": [
          1.6,
          10.4
         ],
         "showticklabels": false
        },
        "xaxis2": {
         "anchor": "y2",
         "domain": [
          0.14693877551020407,
          0.26530612244897955
         ],
         "matches": "x44",
         "range": [
          -0.05,
          1.05
         ],
         "showticklabels": false,
         "type": "category"
        },
        "xaxis20": {
         "anchor": "y20",
         "domain": [
          0.7346938775510204,
          0.8530612244897959
         ],
         "matches": "x48",
         "range": [
          -0.0005879200420285287,
          0.4883929401405711
         ],
         "showticklabels": false
        },
        "xaxis21": {
         "anchor": "y21",
         "domain": [
          0.8816326530612244,
          0.9999999999999999
         ],
         "matches": "x49",
         "range": [
          0.33542847256241365,
          0.5793887188299168
         ],
         "showticklabels": false
        },
        "xaxis22": {
         "anchor": "y22",
         "domain": [
          0,
          0.1183673469387755
         ],
         "matches": "x43",
         "range": [
          5.931225851966654,
          10.01288718789769
         ],
         "showticklabels": false
        },
        "xaxis23": {
         "anchor": "y23",
         "domain": [
          0.14693877551020407,
          0.26530612244897955
         ],
         "matches": "x44",
         "range": [
          -0.05,
          1.05
         ],
         "showticklabels": false,
         "type": "category"
        },
        "xaxis24": {
         "anchor": "y24",
         "domain": [
          0.29387755102040813,
          0.4122448979591836
         ],
         "matches": "x45",
         "range": [
          -0.1,
          2.1
         ],
         "showticklabels": false,
         "type": "category"
        },
        "xaxis25": {
         "anchor": "y25",
         "domain": [
          0.4408163265306122,
          0.5591836734693877
         ],
         "matches": "x46",
         "range": [
          0.01683938907896474,
          0.09614117266643063
         ],
         "showticklabels": false
        },
        "xaxis26": {
         "anchor": "y26",
         "domain": [
          0.5877551020408163,
          0.7061224489795918
         ],
         "matches": "x47",
         "range": [
          1.6,
          10.4
         ],
         "showticklabels": false
        },
        "xaxis27": {
         "anchor": "y27",
         "domain": [
          0.7346938775510204,
          0.8530612244897959
         ],
         "matches": "x48",
         "range": [
          -0.0005879200420285287,
          0.4883929401405711
         ],
         "showticklabels": false
        },
        "xaxis28": {
         "anchor": "y28",
         "domain": [
          0.8816326530612244,
          0.9999999999999999
         ],
         "matches": "x49",
         "range": [
          0.33542847256241365,
          0.5793887188299168
         ],
         "showticklabels": false
        },
        "xaxis29": {
         "anchor": "y29",
         "domain": [
          0,
          0.1183673469387755
         ],
         "matches": "x43",
         "range": [
          5.931225851966654,
          10.01288718789769
         ],
         "showticklabels": false
        },
        "xaxis3": {
         "anchor": "y3",
         "domain": [
          0.29387755102040813,
          0.4122448979591836
         ],
         "matches": "x45",
         "range": [
          -0.1,
          2.1
         ],
         "showticklabels": false,
         "type": "category"
        },
        "xaxis30": {
         "anchor": "y30",
         "domain": [
          0.14693877551020407,
          0.26530612244897955
         ],
         "matches": "x44",
         "range": [
          -0.05,
          1.05
         ],
         "showticklabels": false,
         "type": "category"
        },
        "xaxis31": {
         "anchor": "y31",
         "domain": [
          0.29387755102040813,
          0.4122448979591836
         ],
         "matches": "x45",
         "range": [
          -0.1,
          2.1
         ],
         "showticklabels": false,
         "type": "category"
        },
        "xaxis32": {
         "anchor": "y32",
         "domain": [
          0.4408163265306122,
          0.5591836734693877
         ],
         "matches": "x46",
         "range": [
          0.01683938907896474,
          0.09614117266643063
         ],
         "showticklabels": false
        },
        "xaxis33": {
         "anchor": "y33",
         "domain": [
          0.5877551020408163,
          0.7061224489795918
         ],
         "matches": "x47",
         "range": [
          1.6,
          10.4
         ],
         "showticklabels": false
        },
        "xaxis34": {
         "anchor": "y34",
         "domain": [
          0.7346938775510204,
          0.8530612244897959
         ],
         "matches": "x48",
         "range": [
          -0.0005879200420285287,
          0.4883929401405711
         ],
         "showticklabels": false
        },
        "xaxis35": {
         "anchor": "y35",
         "domain": [
          0.8816326530612244,
          0.9999999999999999
         ],
         "matches": "x49",
         "range": [
          0.33542847256241365,
          0.5793887188299168
         ],
         "showticklabels": false
        },
        "xaxis36": {
         "anchor": "y36",
         "domain": [
          0,
          0.1183673469387755
         ],
         "matches": "x43",
         "range": [
          5.931225851966654,
          10.01288718789769
         ],
         "showticklabels": false
        },
        "xaxis37": {
         "anchor": "y37",
         "domain": [
          0.14693877551020407,
          0.26530612244897955
         ],
         "matches": "x44",
         "range": [
          -0.05,
          1.05
         ],
         "showticklabels": false,
         "type": "category"
        },
        "xaxis38": {
         "anchor": "y38",
         "domain": [
          0.29387755102040813,
          0.4122448979591836
         ],
         "matches": "x45",
         "range": [
          -0.1,
          2.1
         ],
         "showticklabels": false,
         "type": "category"
        },
        "xaxis39": {
         "anchor": "y39",
         "domain": [
          0.4408163265306122,
          0.5591836734693877
         ],
         "matches": "x46",
         "range": [
          0.01683938907896474,
          0.09614117266643063
         ],
         "showticklabels": false
        },
        "xaxis4": {
         "anchor": "y4",
         "domain": [
          0.4408163265306122,
          0.5591836734693877
         ],
         "matches": "x46",
         "range": [
          0.01683938907896474,
          0.09614117266643063
         ],
         "showticklabels": false
        },
        "xaxis40": {
         "anchor": "y40",
         "domain": [
          0.5877551020408163,
          0.7061224489795918
         ],
         "matches": "x47",
         "range": [
          1.6,
          10.4
         ],
         "showticklabels": false
        },
        "xaxis41": {
         "anchor": "y41",
         "domain": [
          0.7346938775510204,
          0.8530612244897959
         ],
         "matches": "x48",
         "range": [
          -0.0005879200420285287,
          0.4883929401405711
         ],
         "showticklabels": false
        },
        "xaxis42": {
         "anchor": "y42",
         "domain": [
          0.8816326530612244,
          0.9999999999999999
         ],
         "matches": "x49",
         "range": [
          0.33542847256241365,
          0.5793887188299168
         ],
         "showticklabels": false
        },
        "xaxis43": {
         "anchor": "y43",
         "domain": [
          0,
          0.1183673469387755
         ],
         "range": [
          5.931225851966654,
          10.01288718789769
         ],
         "title": {
          "text": "bagging_temperature"
         }
        },
        "xaxis44": {
         "anchor": "y44",
         "domain": [
          0.14693877551020407,
          0.26530612244897955
         ],
         "range": [
          -0.05,
          1.05
         ],
         "title": {
          "text": "boosting_type"
         },
         "type": "category"
        },
        "xaxis45": {
         "anchor": "y45",
         "domain": [
          0.29387755102040813,
          0.4122448979591836
         ],
         "range": [
          -0.1,
          2.1
         ],
         "title": {
          "text": "bootstrap_type"
         },
         "type": "category"
        },
        "xaxis46": {
         "anchor": "y46",
         "domain": [
          0.4408163265306122,
          0.5591836734693877
         ],
         "range": [
          0.01683938907896474,
          0.09614117266643063
         ],
         "title": {
          "text": "colsample_bylevel"
         }
        },
        "xaxis47": {
         "anchor": "y47",
         "domain": [
          0.5877551020408163,
          0.7061224489795918
         ],
         "range": [
          1.6,
          10.4
         ],
         "title": {
          "text": "depth"
         }
        },
        "xaxis48": {
         "anchor": "y48",
         "domain": [
          0.7346938775510204,
          0.8530612244897959
         ],
         "range": [
          -0.0005879200420285287,
          0.4883929401405711
         ],
         "title": {
          "text": "learning_rate"
         }
        },
        "xaxis49": {
         "anchor": "y49",
         "domain": [
          0.8816326530612244,
          0.9999999999999999
         ],
         "range": [
          0.33542847256241365,
          0.5793887188299168
         ],
         "title": {
          "text": "subsample"
         }
        },
        "xaxis5": {
         "anchor": "y5",
         "domain": [
          0.5877551020408163,
          0.7061224489795918
         ],
         "matches": "x47",
         "range": [
          1.6,
          10.4
         ],
         "showticklabels": false
        },
        "xaxis6": {
         "anchor": "y6",
         "domain": [
          0.7346938775510204,
          0.8530612244897959
         ],
         "matches": "x48",
         "range": [
          -0.0005879200420285287,
          0.4883929401405711
         ],
         "showticklabels": false
        },
        "xaxis7": {
         "anchor": "y7",
         "domain": [
          0.8816326530612244,
          0.9999999999999999
         ],
         "matches": "x49",
         "range": [
          0.33542847256241365,
          0.5793887188299168
         ],
         "showticklabels": false
        },
        "xaxis8": {
         "anchor": "y8",
         "domain": [
          0,
          0.1183673469387755
         ],
         "matches": "x43",
         "range": [
          5.931225851966654,
          10.01288718789769
         ],
         "showticklabels": false
        },
        "xaxis9": {
         "anchor": "y9",
         "domain": [
          0.14693877551020407,
          0.26530612244897955
         ],
         "matches": "x44",
         "range": [
          -0.05,
          1.05
         ],
         "showticklabels": false,
         "type": "category"
        },
        "yaxis": {
         "anchor": "x",
         "domain": [
          0.8938775510204082,
          1
         ],
         "range": [
          5.931225851966654,
          10.01288718789769
         ],
         "title": {
          "text": "bagging_temperature"
         }
        },
        "yaxis10": {
         "anchor": "x10",
         "domain": [
          0.7448979591836735,
          0.8510204081632654
         ],
         "matches": "y8",
         "range": [
          -0.05,
          1.05
         ],
         "showticklabels": false,
         "type": "category"
        },
        "yaxis11": {
         "anchor": "x11",
         "domain": [
          0.7448979591836735,
          0.8510204081632654
         ],
         "matches": "y8",
         "range": [
          -0.05,
          1.05
         ],
         "showticklabels": false,
         "type": "category"
        },
        "yaxis12": {
         "anchor": "x12",
         "domain": [
          0.7448979591836735,
          0.8510204081632654
         ],
         "matches": "y8",
         "range": [
          -0.05,
          1.05
         ],
         "showticklabels": false,
         "type": "category"
        },
        "yaxis13": {
         "anchor": "x13",
         "domain": [
          0.7448979591836735,
          0.8510204081632654
         ],
         "matches": "y8",
         "range": [
          -0.05,
          1.05
         ],
         "showticklabels": false,
         "type": "category"
        },
        "yaxis14": {
         "anchor": "x14",
         "domain": [
          0.7448979591836735,
          0.8510204081632654
         ],
         "matches": "y8",
         "range": [
          -0.05,
          1.05
         ],
         "showticklabels": false,
         "type": "category"
        },
        "yaxis15": {
         "anchor": "x15",
         "domain": [
          0.5959183673469388,
          0.7020408163265307
         ],
         "range": [
          -0.1,
          2.1
         ],
         "title": {
          "text": "bootstrap_type"
         },
         "type": "category"
        },
        "yaxis16": {
         "anchor": "x16",
         "domain": [
          0.5959183673469388,
          0.7020408163265307
         ],
         "matches": "y15",
         "range": [
          -0.1,
          2.1
         ],
         "showticklabels": false,
         "type": "category"
        },
        "yaxis17": {
         "anchor": "x17",
         "domain": [
          0.5959183673469388,
          0.7020408163265307
         ],
         "matches": "y15",
         "range": [
          -0.1,
          2.1
         ],
         "showticklabels": false,
         "type": "category"
        },
        "yaxis18": {
         "anchor": "x18",
         "domain": [
          0.5959183673469388,
          0.7020408163265307
         ],
         "matches": "y15",
         "range": [
          -0.1,
          2.1
         ],
         "showticklabels": false,
         "type": "category"
        },
        "yaxis19": {
         "anchor": "x19",
         "domain": [
          0.5959183673469388,
          0.7020408163265307
         ],
         "matches": "y15",
         "range": [
          -0.1,
          2.1
         ],
         "showticklabels": false,
         "type": "category"
        },
        "yaxis2": {
         "anchor": "x2",
         "domain": [
          0.8938775510204082,
          1
         ],
         "matches": "y",
         "range": [
          5.931225851966654,
          10.01288718789769
         ],
         "showticklabels": false
        },
        "yaxis20": {
         "anchor": "x20",
         "domain": [
          0.5959183673469388,
          0.7020408163265307
         ],
         "matches": "y15",
         "range": [
          -0.1,
          2.1
         ],
         "showticklabels": false,
         "type": "category"
        },
        "yaxis21": {
         "anchor": "x21",
         "domain": [
          0.5959183673469388,
          0.7020408163265307
         ],
         "matches": "y15",
         "range": [
          -0.1,
          2.1
         ],
         "showticklabels": false,
         "type": "category"
        },
        "yaxis22": {
         "anchor": "x22",
         "domain": [
          0.4469387755102041,
          0.553061224489796
         ],
         "range": [
          0.01683938907896474,
          0.09614117266643063
         ],
         "title": {
          "text": "colsample_bylevel"
         }
        },
        "yaxis23": {
         "anchor": "x23",
         "domain": [
          0.4469387755102041,
          0.553061224489796
         ],
         "matches": "y22",
         "range": [
          0.01683938907896474,
          0.09614117266643063
         ],
         "showticklabels": false
        },
        "yaxis24": {
         "anchor": "x24",
         "domain": [
          0.4469387755102041,
          0.553061224489796
         ],
         "matches": "y22",
         "range": [
          0.01683938907896474,
          0.09614117266643063
         ],
         "showticklabels": false
        },
        "yaxis25": {
         "anchor": "x25",
         "domain": [
          0.4469387755102041,
          0.553061224489796
         ],
         "matches": "y22",
         "range": [
          0.01683938907896474,
          0.09614117266643063
         ],
         "showticklabels": false
        },
        "yaxis26": {
         "anchor": "x26",
         "domain": [
          0.4469387755102041,
          0.553061224489796
         ],
         "matches": "y22",
         "range": [
          0.01683938907896474,
          0.09614117266643063
         ],
         "showticklabels": false
        },
        "yaxis27": {
         "anchor": "x27",
         "domain": [
          0.4469387755102041,
          0.553061224489796
         ],
         "matches": "y22",
         "range": [
          0.01683938907896474,
          0.09614117266643063
         ],
         "showticklabels": false
        },
        "yaxis28": {
         "anchor": "x28",
         "domain": [
          0.4469387755102041,
          0.553061224489796
         ],
         "matches": "y22",
         "range": [
          0.01683938907896474,
          0.09614117266643063
         ],
         "showticklabels": false
        },
        "yaxis29": {
         "anchor": "x29",
         "domain": [
          0.2979591836734694,
          0.40408163265306124
         ],
         "range": [
          1.6,
          10.4
         ],
         "title": {
          "text": "depth"
         }
        },
        "yaxis3": {
         "anchor": "x3",
         "domain": [
          0.8938775510204082,
          1
         ],
         "matches": "y",
         "range": [
          5.931225851966654,
          10.01288718789769
         ],
         "showticklabels": false
        },
        "yaxis30": {
         "anchor": "x30",
         "domain": [
          0.2979591836734694,
          0.40408163265306124
         ],
         "matches": "y29",
         "range": [
          1.6,
          10.4
         ],
         "showticklabels": false
        },
        "yaxis31": {
         "anchor": "x31",
         "domain": [
          0.2979591836734694,
          0.40408163265306124
         ],
         "matches": "y29",
         "range": [
          1.6,
          10.4
         ],
         "showticklabels": false
        },
        "yaxis32": {
         "anchor": "x32",
         "domain": [
          0.2979591836734694,
          0.40408163265306124
         ],
         "matches": "y29",
         "range": [
          1.6,
          10.4
         ],
         "showticklabels": false
        },
        "yaxis33": {
         "anchor": "x33",
         "domain": [
          0.2979591836734694,
          0.40408163265306124
         ],
         "matches": "y29",
         "range": [
          1.6,
          10.4
         ],
         "showticklabels": false
        },
        "yaxis34": {
         "anchor": "x34",
         "domain": [
          0.2979591836734694,
          0.40408163265306124
         ],
         "matches": "y29",
         "range": [
          1.6,
          10.4
         ],
         "showticklabels": false
        },
        "yaxis35": {
         "anchor": "x35",
         "domain": [
          0.2979591836734694,
          0.40408163265306124
         ],
         "matches": "y29",
         "range": [
          1.6,
          10.4
         ],
         "showticklabels": false
        },
        "yaxis36": {
         "anchor": "x36",
         "domain": [
          0.1489795918367347,
          0.25510204081632654
         ],
         "range": [
          -0.0005879200420285287,
          0.4883929401405711
         ],
         "title": {
          "text": "learning_rate"
         }
        },
        "yaxis37": {
         "anchor": "x37",
         "domain": [
          0.1489795918367347,
          0.25510204081632654
         ],
         "matches": "y36",
         "range": [
          -0.0005879200420285287,
          0.4883929401405711
         ],
         "showticklabels": false
        },
        "yaxis38": {
         "anchor": "x38",
         "domain": [
          0.1489795918367347,
          0.25510204081632654
         ],
         "matches": "y36",
         "range": [
          -0.0005879200420285287,
          0.4883929401405711
         ],
         "showticklabels": false
        },
        "yaxis39": {
         "anchor": "x39",
         "domain": [
          0.1489795918367347,
          0.25510204081632654
         ],
         "matches": "y36",
         "range": [
          -0.0005879200420285287,
          0.4883929401405711
         ],
         "showticklabels": false
        },
        "yaxis4": {
         "anchor": "x4",
         "domain": [
          0.8938775510204082,
          1
         ],
         "matches": "y",
         "range": [
          5.931225851966654,
          10.01288718789769
         ],
         "showticklabels": false
        },
        "yaxis40": {
         "anchor": "x40",
         "domain": [
          0.1489795918367347,
          0.25510204081632654
         ],
         "matches": "y36",
         "range": [
          -0.0005879200420285287,
          0.4883929401405711
         ],
         "showticklabels": false
        },
        "yaxis41": {
         "anchor": "x41",
         "domain": [
          0.1489795918367347,
          0.25510204081632654
         ],
         "matches": "y36",
         "range": [
          -0.0005879200420285287,
          0.4883929401405711
         ],
         "showticklabels": false
        },
        "yaxis42": {
         "anchor": "x42",
         "domain": [
          0.1489795918367347,
          0.25510204081632654
         ],
         "matches": "y36",
         "range": [
          -0.0005879200420285287,
          0.4883929401405711
         ],
         "showticklabels": false
        },
        "yaxis43": {
         "anchor": "x43",
         "domain": [
          0,
          0.10612244897959185
         ],
         "range": [
          0.33542847256241365,
          0.5793887188299168
         ],
         "title": {
          "text": "subsample"
         }
        },
        "yaxis44": {
         "anchor": "x44",
         "domain": [
          0,
          0.10612244897959185
         ],
         "matches": "y43",
         "range": [
          0.33542847256241365,
          0.5793887188299168
         ],
         "showticklabels": false
        },
        "yaxis45": {
         "anchor": "x45",
         "domain": [
          0,
          0.10612244897959185
         ],
         "matches": "y43",
         "range": [
          0.33542847256241365,
          0.5793887188299168
         ],
         "showticklabels": false
        },
        "yaxis46": {
         "anchor": "x46",
         "domain": [
          0,
          0.10612244897959185
         ],
         "matches": "y43",
         "range": [
          0.33542847256241365,
          0.5793887188299168
         ],
         "showticklabels": false
        },
        "yaxis47": {
         "anchor": "x47",
         "domain": [
          0,
          0.10612244897959185
         ],
         "matches": "y43",
         "range": [
          0.33542847256241365,
          0.5793887188299168
         ],
         "showticklabels": false
        },
        "yaxis48": {
         "anchor": "x48",
         "domain": [
          0,
          0.10612244897959185
         ],
         "matches": "y43",
         "range": [
          0.33542847256241365,
          0.5793887188299168
         ],
         "showticklabels": false
        },
        "yaxis49": {
         "anchor": "x49",
         "domain": [
          0,
          0.10612244897959185
         ],
         "matches": "y43",
         "range": [
          0.33542847256241365,
          0.5793887188299168
         ],
         "showticklabels": false
        },
        "yaxis5": {
         "anchor": "x5",
         "domain": [
          0.8938775510204082,
          1
         ],
         "matches": "y",
         "range": [
          5.931225851966654,
          10.01288718789769
         ],
         "showticklabels": false
        },
        "yaxis6": {
         "anchor": "x6",
         "domain": [
          0.8938775510204082,
          1
         ],
         "matches": "y",
         "range": [
          5.931225851966654,
          10.01288718789769
         ],
         "showticklabels": false
        },
        "yaxis7": {
         "anchor": "x7",
         "domain": [
          0.8938775510204082,
          1
         ],
         "matches": "y",
         "range": [
          5.931225851966654,
          10.01288718789769
         ],
         "showticklabels": false
        },
        "yaxis8": {
         "anchor": "x8",
         "domain": [
          0.7448979591836735,
          0.8510204081632654
         ],
         "range": [
          -0.05,
          1.05
         ],
         "title": {
          "text": "boosting_type"
         },
         "type": "category"
        },
        "yaxis9": {
         "anchor": "x9",
         "domain": [
          0.7448979591836735,
          0.8510204081632654
         ],
         "matches": "y8",
         "range": [
          -0.05,
          1.05
         ],
         "showticklabels": false,
         "type": "category"
        }
       }
      }
     },
     "metadata": {},
     "output_type": "display_data"
    }
   ],
   "source": [
    "optuna.visualization.plot_contour(study)"
   ]
  }
 ],
 "metadata": {
  "kernelspec": {
   "display_name": "my_tf",
   "language": "python",
   "name": "python3"
  },
  "language_info": {
   "codemirror_mode": {
    "name": "ipython",
    "version": 3
   },
   "file_extension": ".py",
   "mimetype": "text/x-python",
   "name": "python",
   "nbconvert_exporter": "python",
   "pygments_lexer": "ipython3",
   "version": "3.10.5"
  },
  "orig_nbformat": 4
 },
 "nbformat": 4,
 "nbformat_minor": 2
}
