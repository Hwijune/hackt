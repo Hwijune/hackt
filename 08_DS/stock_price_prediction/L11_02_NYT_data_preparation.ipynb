{
 "cells": [
  {
   "cell_type": "code",
   "execution_count": 1,
   "metadata": {},
   "outputs": [],
   "source": [
    "import pandas as pd\n",
    "import json"
   ]
  },
  {
   "cell_type": "code",
   "execution_count": 2,
   "metadata": {},
   "outputs": [],
   "source": [
    "year = 2007\n",
    "month = 1"
   ]
  },
  {
   "cell_type": "code",
   "execution_count": 3,
   "metadata": {},
   "outputs": [],
   "source": [
    "file_str = 'stock_data/nytimes'+str(year)+'-{:02}'.format(month)+'.json'"
   ]
  },
  {
   "cell_type": "code",
   "execution_count": 4,
   "metadata": {},
   "outputs": [
    {
     "data": {
      "text/plain": [
       "'stock_data/nytimes2007-01.json'"
      ]
     },
     "execution_count": 4,
     "metadata": {},
     "output_type": "execute_result"
    }
   ],
   "source": [
    "file_str"
   ]
  },
  {
   "cell_type": "code",
   "execution_count": 5,
   "metadata": {},
   "outputs": [],
   "source": [
    "NYT_final = pd.DataFrame()\n",
    "years = range(2007,2017)\n",
    "months = range(1,13)\n",
    "\n",
    "for year in years:\n",
    "    for month in months:\n",
    "        file_str = 'stock_data/nytimes'+str(year)+'-{:02}'.format(month)+'.json'\n",
    "\n",
    "        with open(file_str) as f:\n",
    "            NYT = json.load(f)\n",
    "            NYT = NYT['response']['docs']\n",
    "            main_df = pd.DataFrame()\n",
    "            for n in NYT:\n",
    "                try:\n",
    "                    agg_dict = {'headline': [n['headline']['main']],\n",
    "                                'type_of_material': [n['type_of_material']],\n",
    "                                'abstract': [n['abstract'].replace(' [...]','')],\n",
    "                                'pub_date': [n['pub_date']],\n",
    "                                'section' : [n['section_name']]}\n",
    "                except:\n",
    "                    continue\n",
    "                main_df = pd.concat([main_df, pd.DataFrame(agg_dict)])\n",
    "            NYT_final=pd.concat([NYT_final, main_df])"
   ]
  },
  {
   "cell_type": "code",
   "execution_count": 6,
   "metadata": {},
   "outputs": [
    {
     "name": "stdout",
     "output_type": "stream",
     "text": [
      "<class 'pandas.core.frame.DataFrame'>\n",
      "RangeIndex: 620169 entries, 0 to 620168\n",
      "Data columns (total 5 columns):\n",
      " #   Column            Non-Null Count   Dtype         \n",
      "---  ------            --------------   -----         \n",
      " 0   headline          620169 non-null  object        \n",
      " 1   type_of_material  620156 non-null  object        \n",
      " 2   abstract          620169 non-null  object        \n",
      " 3   pub_date          620169 non-null  datetime64[ns]\n",
      " 4   section           605040 non-null  object        \n",
      "dtypes: datetime64[ns](1), object(4)\n",
      "memory usage: 23.7+ MB\n"
     ]
    }
   ],
   "source": [
    "NYT_final = NYT_final.reset_index(drop=True)\n",
    "NYT_final['pub_date'] = pd.to_datetime(NYT_final['pub_date'].str[:10])\n",
    "NYT_final.info()"
   ]
  },
  {
   "cell_type": "code",
   "execution_count": 7,
   "metadata": {},
   "outputs": [
    {
     "data": {
      "text/html": [
       "<div>\n",
       "<style scoped>\n",
       "    .dataframe tbody tr th:only-of-type {\n",
       "        vertical-align: middle;\n",
       "    }\n",
       "\n",
       "    .dataframe tbody tr th {\n",
       "        vertical-align: top;\n",
       "    }\n",
       "\n",
       "    .dataframe thead th {\n",
       "        text-align: right;\n",
       "    }\n",
       "</style>\n",
       "<table border=\"1\" class=\"dataframe\">\n",
       "  <thead>\n",
       "    <tr style=\"text-align: right;\">\n",
       "      <th></th>\n",
       "      <th>headline</th>\n",
       "      <th>type_of_material</th>\n",
       "      <th>abstract</th>\n",
       "      <th>pub_date</th>\n",
       "      <th>section</th>\n",
       "    </tr>\n",
       "  </thead>\n",
       "  <tbody>\n",
       "    <tr>\n",
       "      <th>0</th>\n",
       "      <td>The View From Boston</td>\n",
       "      <td>Blog</td>\n",
       "      <td>The Jets hardly had the most challenging sched...</td>\n",
       "      <td>2007-01-01</td>\n",
       "      <td>Sports</td>\n",
       "    </tr>\n",
       "    <tr>\n",
       "      <th>1</th>\n",
       "      <td>Washington Irving, Political Cudgel</td>\n",
       "      <td>Blog</td>\n",
       "      <td>Governor Spitzer said in his inaugural address...</td>\n",
       "      <td>2007-01-01</td>\n",
       "      <td>N.Y./Region</td>\n",
       "    </tr>\n",
       "    <tr>\n",
       "      <th>2</th>\n",
       "      <td>Out With the Old, In With the New</td>\n",
       "      <td>Blog</td>\n",
       "      <td>Governor Eliot Spitzer and his wife, Silda, cl...</td>\n",
       "      <td>2007-01-01</td>\n",
       "      <td>N.Y./Region</td>\n",
       "    </tr>\n",
       "    <tr>\n",
       "      <th>3</th>\n",
       "      <td>Getting to Work Already</td>\n",
       "      <td>Blog</td>\n",
       "      <td>Governor Eliot Spitzer signed five executive o...</td>\n",
       "      <td>2007-01-01</td>\n",
       "      <td>N.Y./Region</td>\n",
       "    </tr>\n",
       "    <tr>\n",
       "      <th>4</th>\n",
       "      <td>The Eliot Dash</td>\n",
       "      <td>Blog</td>\n",
       "      <td>The sky was pitch black and a steady rain was ...</td>\n",
       "      <td>2007-01-01</td>\n",
       "      <td>N.Y./Region</td>\n",
       "    </tr>\n",
       "    <tr>\n",
       "      <th>...</th>\n",
       "      <td>...</td>\n",
       "      <td>...</td>\n",
       "      <td>...</td>\n",
       "      <td>...</td>\n",
       "      <td>...</td>\n",
       "    </tr>\n",
       "    <tr>\n",
       "      <th>620164</th>\n",
       "      <td>A Long Wait for the Second Avenue Subway, but ...</td>\n",
       "      <td>News</td>\n",
       "      <td>Second Avenue Subway will have its inaugural r...</td>\n",
       "      <td>2016-12-29</td>\n",
       "      <td>N.Y. / Region</td>\n",
       "    </tr>\n",
       "    <tr>\n",
       "      <th>620165</th>\n",
       "      <td>Friday Night Music: Lone Bellow</td>\n",
       "      <td>Blog</td>\n",
       "      <td>A night of Brooklyn country music.</td>\n",
       "      <td>2016-12-30</td>\n",
       "      <td>Opinion</td>\n",
       "    </tr>\n",
       "    <tr>\n",
       "      <th>620166</th>\n",
       "      <td>What We&amp;#8217;re Reading: The Direct Approach</td>\n",
       "      <td>Blog</td>\n",
       "      <td>Get recommendations from New York Times report...</td>\n",
       "      <td>2016-12-30</td>\n",
       "      <td>Blogs</td>\n",
       "    </tr>\n",
       "    <tr>\n",
       "      <th>620167</th>\n",
       "      <td>1966: China&amp;#8217;s First Lady Admits She Plot...</td>\n",
       "      <td>Blog</td>\n",
       "      <td>Liu Shao-chi, the wife of China’s chief of sta...</td>\n",
       "      <td>2016-12-30</td>\n",
       "      <td>World</td>\n",
       "    </tr>\n",
       "    <tr>\n",
       "      <th>620168</th>\n",
       "      <td>Can Psychiatric Drugs Blunt the Mother-Baby Bond?</td>\n",
       "      <td>Blog</td>\n",
       "      <td>Antidepressants and other medications can affe...</td>\n",
       "      <td>2016-12-30</td>\n",
       "      <td>Health</td>\n",
       "    </tr>\n",
       "  </tbody>\n",
       "</table>\n",
       "<p>620169 rows × 5 columns</p>\n",
       "</div>"
      ],
      "text/plain": [
       "                                                 headline type_of_material  \\\n",
       "0                                    The View From Boston             Blog   \n",
       "1                     Washington Irving, Political Cudgel             Blog   \n",
       "2                       Out With the Old, In With the New             Blog   \n",
       "3                                 Getting to Work Already             Blog   \n",
       "4                                          The Eliot Dash             Blog   \n",
       "...                                                   ...              ...   \n",
       "620164  A Long Wait for the Second Avenue Subway, but ...             News   \n",
       "620165                    Friday Night Music: Lone Bellow             Blog   \n",
       "620166      What We&#8217;re Reading: The Direct Approach             Blog   \n",
       "620167  1966: China&#8217;s First Lady Admits She Plot...             Blog   \n",
       "620168  Can Psychiatric Drugs Blunt the Mother-Baby Bond?             Blog   \n",
       "\n",
       "                                                 abstract   pub_date  \\\n",
       "0       The Jets hardly had the most challenging sched... 2007-01-01   \n",
       "1       Governor Spitzer said in his inaugural address... 2007-01-01   \n",
       "2       Governor Eliot Spitzer and his wife, Silda, cl... 2007-01-01   \n",
       "3       Governor Eliot Spitzer signed five executive o... 2007-01-01   \n",
       "4       The sky was pitch black and a steady rain was ... 2007-01-01   \n",
       "...                                                   ...        ...   \n",
       "620164  Second Avenue Subway will have its inaugural r... 2016-12-29   \n",
       "620165                 A night of Brooklyn country music. 2016-12-30   \n",
       "620166  Get recommendations from New York Times report... 2016-12-30   \n",
       "620167  Liu Shao-chi, the wife of China’s chief of sta... 2016-12-30   \n",
       "620168  Antidepressants and other medications can affe... 2016-12-30   \n",
       "\n",
       "              section  \n",
       "0              Sports  \n",
       "1         N.Y./Region  \n",
       "2         N.Y./Region  \n",
       "3         N.Y./Region  \n",
       "4         N.Y./Region  \n",
       "...               ...  \n",
       "620164  N.Y. / Region  \n",
       "620165        Opinion  \n",
       "620166          Blogs  \n",
       "620167          World  \n",
       "620168         Health  \n",
       "\n",
       "[620169 rows x 5 columns]"
      ]
     },
     "execution_count": 7,
     "metadata": {},
     "output_type": "execute_result"
    }
   ],
   "source": [
    "NYT_final"
   ]
  },
  {
   "cell_type": "code",
   "execution_count": 8,
   "metadata": {},
   "outputs": [],
   "source": [
    "NYT_final.to_pickle('stock_data/pickled_NYT.pkl')"
   ]
  }
 ],
 "metadata": {
  "kernelspec": {
   "display_name": "Python 3 (ipykernel)",
   "language": "python",
   "name": "python3"
  },
  "language_info": {
   "codemirror_mode": {
    "name": "ipython",
    "version": 3
   },
   "file_extension": ".py",
   "mimetype": "text/x-python",
   "name": "python",
   "nbconvert_exporter": "python",
   "pygments_lexer": "ipython3",
   "version": "3.10.5"
  }
 },
 "nbformat": 4,
 "nbformat_minor": 4
}
