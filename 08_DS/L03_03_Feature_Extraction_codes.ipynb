{
 "cells": [
  {
   "cell_type": "markdown",
   "metadata": {},
   "source": [
    "# <span style=\"color:#0073e6\">0. 사례준비</span>\n",
    "<style>\n",
    "@media print\n",
    "{\n",
    "h1 {page-break-before:always}\n",
    "}\n",
    "</style>"
   ]
  },
  {
   "cell_type": "markdown",
   "metadata": {},
   "source": [
    "> **Libaray & Environment Settings** "
   ]
  },
  {
   "cell_type": "code",
   "execution_count": null,
   "metadata": {},
   "outputs": [],
   "source": [
    "import pandas as pd\n",
    "import numpy as np\n",
    "import pickle\n",
    "\n",
    "import matplotlib.pyplot as plt\n",
    "import seaborn as sns\n",
    "sns.set_style('whitegrid')\n",
    "plt.rc('axes', unicode_minus=False)\n",
    "np.random.seed(123)\n",
    "%matplotlib inline\n",
    "\n",
    "from tensorflow.keras.models import Model, Sequential\n",
    "from tensorflow.keras.layers import Input, Dense, Conv2D, MaxPooling2D, Dropout, Flatten\n",
    "from tensorflow.keras.utils import to_categorical\n",
    "from tensorflow.keras import regularizers"
   ]
  },
  {
   "cell_type": "markdown",
   "metadata": {},
   "source": [
    "> **MNIST DATA SET LOADING**"
   ]
  },
  {
   "cell_type": "code",
   "execution_count": null,
   "metadata": {},
   "outputs": [],
   "source": [
    "with open('data/mnist.pkl', 'rb') as f:\n",
    "    _, _, t = pickle.load(f, encoding='latin1')\n",
    "x, y = t[0], t[1]\n",
    "del t\n",
    "print(x.shape)\n",
    "print(y.shape)"
   ]
  },
  {
   "cell_type": "markdown",
   "metadata": {},
   "source": [
    "- - -\n",
    "# <span style=\"color:#0073e6\">1. 지도학습을 이용한 특성추출<span>\n",
    "### 1.1. 출력층 바로 앞의 은닉층의 출력 추출\n",
    "> **간단한 CNN 구현을 위한 데이터 준비**<br/>\n",
    ">> `input_shape` = (10000, 28,28,1) <br/>\n",
    ">> `output_shape` = (10000, 10)"
   ]
  },
  {
   "cell_type": "code",
   "execution_count": null,
   "metadata": {},
   "outputs": [],
   "source": [
    "num_class = 10\n",
    "input_shape = (28, 28, 1)\n",
    "num_dim = 100"
   ]
  },
  {
   "cell_type": "code",
   "execution_count": null,
   "metadata": {},
   "outputs": [],
   "source": [
    "x_train = x.reshape(10000,28,28,1)\n",
    "y_train = to_categorical(y, num_class)\n",
    "print(x_train.shape)\n",
    "print(y_train.shape)"
   ]
  },
  {
   "cell_type": "markdown",
   "metadata": {},
   "source": [
    "- - -\n",
    "# <span style=\"color:#2EFE9A\">.</span>\n",
    "\n",
    "> **모델 정의**<br/>"
   ]
  },
  {
   "cell_type": "code",
   "execution_count": null,
   "metadata": {},
   "outputs": [],
   "source": [
    "model = Sequential([\n",
    "        Input(shape=input_shape),\n",
    "        Conv2D(32, kernel_size=(3, 3), activation=\"relu\"),\n",
    "        MaxPooling2D(pool_size=(2, 2)),\n",
    "        Conv2D(64, kernel_size=(3, 3), activation=\"relu\"),\n",
    "        MaxPooling2D(pool_size=(2, 2)),\n",
    "        Flatten(),\n",
    "        Dropout(0.5),\n",
    "        Dense(num_dim, activation=\"sigmoid\"),\n",
    "        Dense(num_class, activation=\"softmax\"),\n",
    "    ])\n",
    "model.summary()"
   ]
  },
  {
   "cell_type": "markdown",
   "metadata": {},
   "source": [
    "- - -\n",
    "# <span style=\"color:#2EFE9A\">.</span>\n",
    "\n",
    "> **모델 학습**<br/>"
   ]
  },
  {
   "cell_type": "code",
   "execution_count": null,
   "metadata": {},
   "outputs": [],
   "source": [
    "batch_size = 128\n",
    "epochs = 15\n",
    "\n",
    "model.compile(loss=\"categorical_crossentropy\", optimizer=\"RMSProp\", metrics=[\"accuracy\"])\n",
    "model.fit(x_train, y_train, batch_size=batch_size, epochs=epochs)"
   ]
  },
  {
   "cell_type": "markdown",
   "metadata": {},
   "source": [
    "- - -\n",
    "# <span style=\"color:#2EFE9A\">.</span>\n",
    "\n",
    "> **마지막 바로 이전 층 출력 추출**"
   ]
  },
  {
   "cell_type": "code",
   "execution_count": null,
   "metadata": {},
   "outputs": [],
   "source": [
    "model.layers"
   ]
  },
  {
   "cell_type": "code",
   "execution_count": null,
   "metadata": {},
   "outputs": [],
   "source": [
    "layer_outputs = [layer.output for layer in model.layers[:7]]\n",
    "activ_model = Model(inputs=model.input, outputs=layer_outputs)\n",
    "activations = activ_model.predict(x_train)\n",
    "cnn = activations[6]"
   ]
  },
  {
   "cell_type": "markdown",
   "metadata": {},
   "source": [
    "### 1.2. 특성 추출 결과의 비교\n",
    "> **PCA와 특성 비교**<br/>\n",
    ">> PCA 학습"
   ]
  },
  {
   "cell_type": "code",
   "execution_count": null,
   "metadata": {},
   "outputs": [],
   "source": [
    "from sklearn.decomposition import PCA\n",
    "pca = PCA(n_components=num_dim, whiten=False)\n",
    "pca.fit(x)\n",
    "x_pca = pca.transform(x)"
   ]
  },
  {
   "cell_type": "markdown",
   "metadata": {},
   "source": [
    "- - -\n",
    "# <span style=\"color:#2EFE9A\">.</span>\n",
    "\n",
    ">> tSNE를 통한 시각화 비교"
   ]
  },
  {
   "cell_type": "code",
   "execution_count": null,
   "metadata": {},
   "outputs": [],
   "source": [
    "from sklearn.manifold import TSNE\n",
    "def t_scatter(x, y, ax):\n",
    "    if x.shape[1]!=2:\n",
    "        t = TSNE(n_components=2, learning_rate=300)\n",
    "        x_t = t.fit_transform(x)\n",
    "    else:\n",
    "        x_t = x\n",
    "    g = pd.DataFrame(x_t, columns=['Vector-1','Vector-2'])\n",
    "    g['Label'] = y\n",
    "    sns.scatterplot(x='Vector-1',y='Vector-2', hue='Label',\n",
    "                           palette=sns.color_palette('Paired', 10), \n",
    "                           data=g, ax=ax)\n",
    "    return x_t"
   ]
  },
  {
   "cell_type": "code",
   "execution_count": null,
   "metadata": {},
   "outputs": [],
   "source": [
    "fig, ax = plt.subplots(ncols=2, figsize=(12,6))\n",
    "\n",
    "pca_t = t_scatter(x_pca, y, ax[0])\n",
    "cnn_t = t_scatter(cnn, y, ax[1])\n",
    "ax[0].set_title('PCA')\n",
    "ax[1].set_title('CNN');"
   ]
  },
  {
   "cell_type": "markdown",
   "metadata": {},
   "source": [
    "- - -\n",
    "# <span style=\"color:#0073e6\">2. AutoEncoder<span>"
   ]
  },
  {
   "cell_type": "markdown",
   "metadata": {},
   "source": [
    "### 2.2. 과소완전(undercomplete) 오토인코더<br/>"
   ]
  },
  {
   "cell_type": "markdown",
   "metadata": {},
   "source": [
    "- - -\n",
    "# <span style=\"color:#2EFE9A\">.</span>\n",
    "\n",
    "> **모델링**\n",
    ">> 선형오토인코더와 비선형오토인코더 비교"
   ]
  },
  {
   "cell_type": "code",
   "execution_count": null,
   "metadata": {},
   "outputs": [],
   "source": [
    "linear_auto = Sequential(\n",
    "    [\n",
    "        Input(shape=(x.shape[1],)), \n",
    "        Dense(num_dim, activation='linear'), \n",
    "        Dense(x.shape[1], activation='linear')\n",
    "    ])\n",
    "linear_auto.summary()"
   ]
  },
  {
   "cell_type": "code",
   "execution_count": null,
   "metadata": {},
   "outputs": [],
   "source": [
    "nonlinear_auto = Sequential(\n",
    "    [\n",
    "        Input(shape=(x.shape[1],)), \n",
    "        Dense(num_dim, activation='relu'), \n",
    "        Dense(x.shape[1], activation='relu')\n",
    "    ])\n",
    "nonlinear_auto.summary()"
   ]
  },
  {
   "cell_type": "markdown",
   "metadata": {},
   "source": [
    "- - -\n",
    "# <span style=\"color:#2EFE9A\">.</span>\n",
    "- 모델 학습"
   ]
  },
  {
   "cell_type": "code",
   "execution_count": null,
   "metadata": {},
   "outputs": [],
   "source": [
    "epochs = 10\n",
    "linear_auto.compile(loss=\"mean_squared_error\", optimizer=\"RMSProp\", metrics=[\"mse\"])\n",
    "linear_auto.fit(x, x, batch_size=batch_size, epochs=epochs)"
   ]
  },
  {
   "cell_type": "code",
   "execution_count": null,
   "metadata": {},
   "outputs": [],
   "source": [
    "nonlinear_auto.compile(loss=\"mean_squared_error\", optimizer=\"RMSProp\", metrics=[\"mse\"])\n",
    "nonlinear_auto.fit(x, x, batch_size=batch_size, epochs=epochs)"
   ]
  },
  {
   "cell_type": "markdown",
   "metadata": {},
   "source": [
    "- - -\n",
    "# <span style=\"color:#2EFE9A\">.</span>"
   ]
  },
  {
   "cell_type": "code",
   "execution_count": null,
   "metadata": {},
   "outputs": [],
   "source": [
    "def outputs(my_auto, encoder_loc):\n",
    "    layer_outputs = [layer.output for layer in my_auto.layers[:encoder_loc]]\n",
    "    activ_model = Model(inputs=my_auto.input, outputs=layer_outputs)\n",
    "    activations = activ_model.predict(x)\n",
    "    if type(activations)==list:\n",
    "        activations = activations[encoder_loc-1]\n",
    "    return activations"
   ]
  },
  {
   "cell_type": "code",
   "execution_count": null,
   "metadata": {},
   "outputs": [],
   "source": [
    "l_auto = outputs(linear_auto, 1)\n",
    "nl_auto = outputs(nonlinear_auto, 1)"
   ]
  },
  {
   "cell_type": "code",
   "execution_count": null,
   "metadata": {},
   "outputs": [],
   "source": [
    "fig, ax = plt.subplots(nrows=2, ncols=2, figsize=(10,9))\n",
    "pca_t = t_scatter(pca_t, y, ax[0,0])\n",
    "cnn_t = t_scatter(cnn_t, y, ax[0,1])\n",
    "linear_t = t_scatter(l_auto, y, ax[1,0])\n",
    "nonlinear_t = t_scatter(nl_auto, y, ax[1,1])\n",
    "ax[0,0].set_title('PCA')\n",
    "ax[0,1].set_title('CNN')\n",
    "ax[1,0].set_title('Liner AutoEncoder')\n",
    "ax[1,1].set_title('NonLiner AutoEncoder');"
   ]
  },
  {
   "cell_type": "markdown",
   "metadata": {},
   "source": [
    "- - -\n",
    "# <span style=\"color:#2EFE9A\">.</span>\n",
    "\n",
    "### 2.3. 과대완전(overcomplete) 오토인코더"
   ]
  },
  {
   "cell_type": "code",
   "execution_count": null,
   "metadata": {},
   "outputs": [],
   "source": [
    "overcomp = Sequential(\n",
    "    [\n",
    "        Input(shape=(x.shape[1],)), \n",
    "        Dense(x.shape[1]*2, activation='relu'), \n",
    "        Dropout(0.1),\n",
    "        Dense(num_dim, activation='relu'), \n",
    "        Dense(x.shape[1], activation='relu')\n",
    "    ])\n",
    "overcomp.summary()"
   ]
  },
  {
   "cell_type": "markdown",
   "metadata": {},
   "source": [
    "- - -\n",
    "# <span style=\"color:#2EFE9A\">.</span>"
   ]
  },
  {
   "cell_type": "code",
   "execution_count": null,
   "metadata": {},
   "outputs": [],
   "source": [
    "overcomp.compile(loss=\"mean_squared_error\", optimizer=\"RMSProp\", metrics=[\"mse\"])\n",
    "overcomp.fit(x, x, batch_size=batch_size, epochs=epochs)"
   ]
  },
  {
   "cell_type": "markdown",
   "metadata": {},
   "source": [
    "- - -\n",
    "# <span style=\"color:#2EFE9A\">.</span>"
   ]
  },
  {
   "cell_type": "code",
   "execution_count": null,
   "metadata": {},
   "outputs": [],
   "source": [
    "overcomp_auto = outputs(overcomp, 3)\n",
    "\n",
    "fig, ax = plt.subplots(nrows=2, ncols=2, figsize=(10,10))\n",
    "\n",
    "pca_t = t_scatter(pca_t, y, ax[0,0])\n",
    "cnn_t = t_scatter(cnn_t, y, ax[0,1])\n",
    "nonlinear_t = t_scatter(nonlinear_t, y, ax[1,0])\n",
    "over_t = t_scatter(overcomp_auto, y, ax[1,1])\n",
    "ax[0,0].set_title('PCA')\n",
    "ax[0,1].set_title('CNN')\n",
    "ax[1,0].set_title('NonLiner AutoEncoder')\n",
    "ax[1,1].set_title('Overcomplete AutoEncoder');"
   ]
  },
  {
   "cell_type": "markdown",
   "metadata": {},
   "source": [
    "- - -\n",
    "# <span style=\"color:#2EFE9A\">.</span>\n",
    "\n",
    "### 2.4. 희소(Sparse) 오토인코더"
   ]
  },
  {
   "cell_type": "code",
   "execution_count": null,
   "metadata": {},
   "outputs": [],
   "source": [
    "sparse_over = Sequential(\n",
    "    [\n",
    "        Input(shape=(x.shape[1],)), \n",
    "        Dense(x.shape[1]*2, activation='relu', \n",
    "             activity_regularizer=regularizers.l1(0.001)), \n",
    "        Dropout(0.1),\n",
    "        Dense(num_dim, activation='relu'), \n",
    "        Dense(x.shape[1], activation='relu')\n",
    "    ])\n",
    "sparse_over.summary()"
   ]
  },
  {
   "cell_type": "markdown",
   "metadata": {},
   "source": [
    "- - -\n",
    "# <span style=\"color:#2EFE9A\">.</span>"
   ]
  },
  {
   "cell_type": "code",
   "execution_count": null,
   "metadata": {},
   "outputs": [],
   "source": [
    "sparse_over.compile(loss=\"mean_squared_error\", optimizer=\"RMSProp\", metrics=[\"mse\"])\n",
    "sparse_over.fit(x, x, batch_size=batch_size, epochs=epochs)"
   ]
  },
  {
   "cell_type": "markdown",
   "metadata": {},
   "source": [
    "- - -\n",
    "# <span style=\"color:#2EFE9A\">.</span>"
   ]
  },
  {
   "cell_type": "code",
   "execution_count": null,
   "metadata": {},
   "outputs": [],
   "source": [
    "sparse_auto = outputs(sparse_over, 3)\n",
    "fig, ax = plt.subplots(nrows=3, ncols=2, figsize=(10,12))\n",
    "pca_t = t_scatter(pca_t, y, ax[0,0])\n",
    "cnn_t = t_scatter(cnn_t, y, ax[0,1])\n",
    "linear_t = t_scatter(linear_t, y, ax[1,0])\n",
    "nonlinear_t = t_scatter(nonlinear_t, y, ax[1,1])\n",
    "over_t = t_scatter(over_t, y, ax[2,0])\n",
    "sparse_t = t_scatter(sparse_auto, y, ax[2,1])\n",
    "ax[0,0].set_title('PCA')\n",
    "ax[0,1].set_title('CNN')\n",
    "ax[1,0].set_title('NonLiner AutoEncoder')\n",
    "ax[1,1].set_title('NonLiner AutoEncoder')\n",
    "ax[2,0].set_title('Overcomplete AutoEncoder')\n",
    "ax[2,1].set_title('Sparse Overcomplete AutoEncoder');"
   ]
  }
 ],
 "metadata": {
  "kernelspec": {
   "display_name": "Python 3 (ipykernel)",
   "language": "python",
   "name": "python3"
  },
  "language_info": {
   "codemirror_mode": {
    "name": "ipython",
    "version": 3
   },
   "file_extension": ".py",
   "mimetype": "text/x-python",
   "name": "python",
   "nbconvert_exporter": "python",
   "pygments_lexer": "ipython3",
   "version": "3.9.7"
  }
 },
 "nbformat": 4,
 "nbformat_minor": 4
}
