{
 "cells": [
  {
   "cell_type": "markdown",
   "id": "9156a207-d67e-4672-a07e-61875ae42ea1",
   "metadata": {
    "tags": []
   },
   "source": [
    "## spacy"
   ]
  },
  {
   "cell_type": "code",
   "execution_count": 1,
   "id": "c31c831e-7402-4305-b86c-66f9bc6dbf70",
   "metadata": {
    "tags": []
   },
   "outputs": [
    {
     "name": "stdout",
     "output_type": "stream",
     "text": [
      "All all DET DT True\n",
      "work work NOUN NN False\n",
      "and and CCONJ CC True\n",
      "no no DET DT True\n",
      "play play NOUN NN False\n",
      "makes make VERB VBZ False\n",
      "Jack Jack PROPN NNP False\n",
      "a a DET DT True\n",
      "dull dull ADJ JJ False\n",
      "boy boy NOUN NN False\n",
      ". . PUNCT . False\n"
     ]
    }
   ],
   "source": [
    "import spacy\n",
    "\n",
    "nlp = spacy.load(\"en_core_web_sm\")\n",
    "\n",
    "text = \"All work and no play makes Jack a dull boy.\"\n",
    "doc = nlp(text)\n",
    "\n",
    "for token in doc:\n",
    "    print(token.text,\n",
    "          token.lemma_,  # 표제어\n",
    "          token.pos_,    # 단어의 품사\n",
    "          token.tag_,    # 자세한 품사\n",
    "          token.is_stop) # 불용어 여부"
   ]
  },
  {
   "cell_type": "code",
   "execution_count": 2,
   "id": "6ae8ddd3-1551-4ade-9e93-a093c9f572fc",
   "metadata": {
    "tags": []
   },
   "outputs": [
    {
     "name": "stdout",
     "output_type": "stream",
     "text": [
      "단무지 단무지 PROPN NNP False\n",
      "빼고 빼고 PROPN NNP False\n",
      "김치랑 김치랑 VERB VBD False\n",
      "밥 밥 PROPN NNP False\n",
      "빼고 빼고 PROPN NNP False\n",
      "양상추 양상추 PROPN NNP False\n"
     ]
    }
   ],
   "source": [
    "import spacy\n",
    "\n",
    "konlp = spacy.load(\"ko_core_news_sm\")\n",
    "\n",
    "text = \"단무지 빼고 김치랑 밥 빼고 양상추\"\n",
    "doc = nlp(text)\n",
    "\n",
    "for token in doc:\n",
    "    print(token.text,\n",
    "          token.lemma_,  # 표제어\n",
    "          token.pos_,    # 단어의 품사\n",
    "          token.tag_,    # 자세한 품사\n",
    "          token.is_stop) # 불용어 여부"
   ]
  },
  {
   "cell_type": "code",
   "execution_count": 3,
   "id": "a3346469-b518-4282-aa89-08ed60c79266",
   "metadata": {
    "tags": []
   },
   "outputs": [
    {
     "data": {
      "text/plain": [
       "'proper noun'"
      ]
     },
     "execution_count": 3,
     "metadata": {},
     "output_type": "execute_result"
    }
   ],
   "source": [
    "spacy.explain('PROPN')"
   ]
  },
  {
   "cell_type": "markdown",
   "id": "156bc2ca-d8ef-4e4f-843e-e0e9f4b9848b",
   "metadata": {},
   "source": [
    "### 문장 구조"
   ]
  },
  {
   "cell_type": "code",
   "execution_count": 4,
   "id": "f414b287-00c4-423e-827a-c8e591ad7bad",
   "metadata": {
    "tags": []
   },
   "outputs": [
    {
     "data": {
      "text/html": [
       "<span class=\"tex2jax_ignore\"><svg xmlns=\"http://www.w3.org/2000/svg\" xmlns:xlink=\"http://www.w3.org/1999/xlink\" xml:lang=\"en\" id=\"52465cd9c5b14ce5af92cd1b845dfdd9-0\" class=\"displacy\" width=\"1100\" height=\"399.5\" direction=\"ltr\" style=\"max-width: none; height: 399.5px; color: #000000; background: #ffffff; font-family: Arial; direction: ltr\">\n",
       "<text class=\"displacy-token\" fill=\"currentColor\" text-anchor=\"middle\" y=\"309.5\">\n",
       "    <tspan class=\"displacy-word\" fill=\"currentColor\" x=\"50\">단무지</tspan>\n",
       "    <tspan class=\"displacy-tag\" dy=\"2em\" fill=\"currentColor\" x=\"50\">PROPN</tspan>\n",
       "</text>\n",
       "\n",
       "<text class=\"displacy-token\" fill=\"currentColor\" text-anchor=\"middle\" y=\"309.5\">\n",
       "    <tspan class=\"displacy-word\" fill=\"currentColor\" x=\"225\">빼고</tspan>\n",
       "    <tspan class=\"displacy-tag\" dy=\"2em\" fill=\"currentColor\" x=\"225\">PROPN</tspan>\n",
       "</text>\n",
       "\n",
       "<text class=\"displacy-token\" fill=\"currentColor\" text-anchor=\"middle\" y=\"309.5\">\n",
       "    <tspan class=\"displacy-word\" fill=\"currentColor\" x=\"400\">김치랑</tspan>\n",
       "    <tspan class=\"displacy-tag\" dy=\"2em\" fill=\"currentColor\" x=\"400\">VERB</tspan>\n",
       "</text>\n",
       "\n",
       "<text class=\"displacy-token\" fill=\"currentColor\" text-anchor=\"middle\" y=\"309.5\">\n",
       "    <tspan class=\"displacy-word\" fill=\"currentColor\" x=\"575\">밥</tspan>\n",
       "    <tspan class=\"displacy-tag\" dy=\"2em\" fill=\"currentColor\" x=\"575\">PROPN</tspan>\n",
       "</text>\n",
       "\n",
       "<text class=\"displacy-token\" fill=\"currentColor\" text-anchor=\"middle\" y=\"309.5\">\n",
       "    <tspan class=\"displacy-word\" fill=\"currentColor\" x=\"750\">빼고</tspan>\n",
       "    <tspan class=\"displacy-tag\" dy=\"2em\" fill=\"currentColor\" x=\"750\">PROPN</tspan>\n",
       "</text>\n",
       "\n",
       "<text class=\"displacy-token\" fill=\"currentColor\" text-anchor=\"middle\" y=\"309.5\">\n",
       "    <tspan class=\"displacy-word\" fill=\"currentColor\" x=\"925\">양상추</tspan>\n",
       "    <tspan class=\"displacy-tag\" dy=\"2em\" fill=\"currentColor\" x=\"925\">PROPN</tspan>\n",
       "</text>\n",
       "\n",
       "<g class=\"displacy-arrow\">\n",
       "    <path class=\"displacy-arc\" id=\"arrow-52465cd9c5b14ce5af92cd1b845dfdd9-0-0\" stroke-width=\"2px\" d=\"M70,264.5 C70,89.5 395.0,89.5 395.0,264.5\" fill=\"none\" stroke=\"currentColor\"/>\n",
       "    <text dy=\"1.25em\" style=\"font-size: 0.8em; letter-spacing: 1px\">\n",
       "        <textPath xlink:href=\"#arrow-52465cd9c5b14ce5af92cd1b845dfdd9-0-0\" class=\"displacy-label\" startOffset=\"50%\" side=\"left\" fill=\"currentColor\" text-anchor=\"middle\">dep</textPath>\n",
       "    </text>\n",
       "    <path class=\"displacy-arrowhead\" d=\"M70,266.5 L62,254.5 78,254.5\" fill=\"currentColor\"/>\n",
       "</g>\n",
       "\n",
       "<g class=\"displacy-arrow\">\n",
       "    <path class=\"displacy-arc\" id=\"arrow-52465cd9c5b14ce5af92cd1b845dfdd9-0-1\" stroke-width=\"2px\" d=\"M245,264.5 C245,177.0 390.0,177.0 390.0,264.5\" fill=\"none\" stroke=\"currentColor\"/>\n",
       "    <text dy=\"1.25em\" style=\"font-size: 0.8em; letter-spacing: 1px\">\n",
       "        <textPath xlink:href=\"#arrow-52465cd9c5b14ce5af92cd1b845dfdd9-0-1\" class=\"displacy-label\" startOffset=\"50%\" side=\"left\" fill=\"currentColor\" text-anchor=\"middle\">nsubj</textPath>\n",
       "    </text>\n",
       "    <path class=\"displacy-arrowhead\" d=\"M245,266.5 L237,254.5 253,254.5\" fill=\"currentColor\"/>\n",
       "</g>\n",
       "\n",
       "<g class=\"displacy-arrow\">\n",
       "    <path class=\"displacy-arc\" id=\"arrow-52465cd9c5b14ce5af92cd1b845dfdd9-0-2\" stroke-width=\"2px\" d=\"M595,264.5 C595,89.5 920.0,89.5 920.0,264.5\" fill=\"none\" stroke=\"currentColor\"/>\n",
       "    <text dy=\"1.25em\" style=\"font-size: 0.8em; letter-spacing: 1px\">\n",
       "        <textPath xlink:href=\"#arrow-52465cd9c5b14ce5af92cd1b845dfdd9-0-2\" class=\"displacy-label\" startOffset=\"50%\" side=\"left\" fill=\"currentColor\" text-anchor=\"middle\">compound</textPath>\n",
       "    </text>\n",
       "    <path class=\"displacy-arrowhead\" d=\"M595,266.5 L587,254.5 603,254.5\" fill=\"currentColor\"/>\n",
       "</g>\n",
       "\n",
       "<g class=\"displacy-arrow\">\n",
       "    <path class=\"displacy-arc\" id=\"arrow-52465cd9c5b14ce5af92cd1b845dfdd9-0-3\" stroke-width=\"2px\" d=\"M770,264.5 C770,177.0 915.0,177.0 915.0,264.5\" fill=\"none\" stroke=\"currentColor\"/>\n",
       "    <text dy=\"1.25em\" style=\"font-size: 0.8em; letter-spacing: 1px\">\n",
       "        <textPath xlink:href=\"#arrow-52465cd9c5b14ce5af92cd1b845dfdd9-0-3\" class=\"displacy-label\" startOffset=\"50%\" side=\"left\" fill=\"currentColor\" text-anchor=\"middle\">compound</textPath>\n",
       "    </text>\n",
       "    <path class=\"displacy-arrowhead\" d=\"M770,266.5 L762,254.5 778,254.5\" fill=\"currentColor\"/>\n",
       "</g>\n",
       "\n",
       "<g class=\"displacy-arrow\">\n",
       "    <path class=\"displacy-arc\" id=\"arrow-52465cd9c5b14ce5af92cd1b845dfdd9-0-4\" stroke-width=\"2px\" d=\"M420,264.5 C420,2.0 925.0,2.0 925.0,264.5\" fill=\"none\" stroke=\"currentColor\"/>\n",
       "    <text dy=\"1.25em\" style=\"font-size: 0.8em; letter-spacing: 1px\">\n",
       "        <textPath xlink:href=\"#arrow-52465cd9c5b14ce5af92cd1b845dfdd9-0-4\" class=\"displacy-label\" startOffset=\"50%\" side=\"left\" fill=\"currentColor\" text-anchor=\"middle\">npadvmod</textPath>\n",
       "    </text>\n",
       "    <path class=\"displacy-arrowhead\" d=\"M925.0,266.5 L933.0,254.5 917.0,254.5\" fill=\"currentColor\"/>\n",
       "</g>\n",
       "</svg></span>"
      ],
      "text/plain": [
       "<IPython.core.display.HTML object>"
      ]
     },
     "metadata": {},
     "output_type": "display_data"
    },
    {
     "data": {
      "text/plain": [
       "<IPython.core.display.SVG object>"
      ]
     },
     "execution_count": 4,
     "metadata": {},
     "output_type": "execute_result"
    }
   ],
   "source": [
    "from IPython.display import SVG\n",
    "SVG(spacy.displacy.render(doc))"
   ]
  },
  {
   "cell_type": "code",
   "execution_count": 5,
   "id": "6a6cebe1-f772-41aa-8593-06af6de6d596",
   "metadata": {
    "tags": []
   },
   "outputs": [
    {
     "name": "stdout",
     "output_type": "stream",
     "text": [
      "단무지 dep 김치랑\n",
      "빼고 nsubj 김치랑\n",
      "김치랑 ROOT 김치랑\n",
      "밥 compound 양상추\n",
      "빼고 compound 양상추\n",
      "양상추 npadvmod 김치랑\n"
     ]
    }
   ],
   "source": [
    "for token in doc:\n",
    "    print(token.text,\n",
    "          token.dep_,   # 의존 관계\n",
    "          token.head)   # 지배소"
   ]
  },
  {
   "cell_type": "markdown",
   "id": "fab4107e-370d-412b-a3d2-91e089027e66",
   "metadata": {
    "tags": []
   },
   "source": [
    "## kiwi 형태소 분석기"
   ]
  },
  {
   "cell_type": "code",
   "execution_count": 6,
   "id": "d33f2599-07da-41c1-a01e-a60d8e2b8c18",
   "metadata": {
    "tags": []
   },
   "outputs": [
    {
     "data": {
      "text/plain": [
       "[Token(form='단무지', tag='NNG', start=0, len=3),\n",
       " Token(form='빼', tag='VV', start=4, len=1),\n",
       " Token(form='고', tag='EC', start=5, len=1),\n",
       " Token(form='김치', tag='NNG', start=7, len=2),\n",
       " Token(form='랑', tag='JC', start=9, len=1),\n",
       " Token(form='밥', tag='NNG', start=11, len=1),\n",
       " Token(form='빼', tag='VV', start=13, len=1),\n",
       " Token(form='고', tag='EF', start=14, len=1),\n",
       " Token(form='양상추', tag='NNG', start=16, len=3)]"
      ]
     },
     "execution_count": 6,
     "metadata": {},
     "output_type": "execute_result"
    }
   ],
   "source": [
    "from kiwipiepy import Kiwi\n",
    "kiwi = Kiwi()\n",
    "\n",
    "text = '단무지 빼고 김치랑 밥 빼고 양상추'\n",
    "result = kiwi.tokenize(text)\n",
    "result"
   ]
  },
  {
   "cell_type": "code",
   "execution_count": 7,
   "id": "3b68b5f7-aebe-4c17-a5e5-38ba35e7fc87",
   "metadata": {},
   "outputs": [
    {
     "data": {
      "text/plain": [
       "['어제', '홍차', '오늘', '커피']"
      ]
     },
     "execution_count": 7,
     "metadata": {},
     "output_type": "execute_result"
    }
   ],
   "source": [
    "def extract_noun(text):\n",
    "    result = kiwi.tokenize(text)\n",
    "    for token in result:\n",
    "        if token.tag in ['NNG', 'NNP']:\n",
    "            yield token.form\n",
    "\n",
    "\n",
    "list(extract_noun('어제는 홍차를 마시고, 오늘은 커피를 마셨다.'))"
   ]
  },
  {
   "cell_type": "markdown",
   "id": "9e90d358-aec3-4e24-942a-b1c97f2e7672",
   "metadata": {},
   "source": [
    "## 한국어 문서 단어 행렬"
   ]
  },
  {
   "cell_type": "code",
   "execution_count": 8,
   "id": "c374f8fe-9402-49e9-8dee-d4e80feb7fca",
   "metadata": {
    "tags": []
   },
   "outputs": [],
   "source": [
    "import pandas as pd\n",
    "df = pd.read_csv('data/news_ai.csv')"
   ]
  },
  {
   "cell_type": "code",
   "execution_count": 9,
   "id": "1cf74278-8d8c-436c-9426-38afe2e314ac",
   "metadata": {
    "tags": []
   },
   "outputs": [
    {
     "data": {
      "text/plain": [
       "False"
      ]
     },
     "execution_count": 9,
     "metadata": {},
     "output_type": "execute_result"
    }
   ],
   "source": [
    "kiwi.add_user_word('인공지능', 'NNP')"
   ]
  },
  {
   "cell_type": "code",
   "execution_count": 10,
   "id": "8e1e060e-dde0-498e-a239-fef45e0e2a04",
   "metadata": {
    "tags": []
   },
   "outputs": [
    {
     "name": "stderr",
     "output_type": "stream",
     "text": [
      "/home/hwi/.local/lib/python3.10/site-packages/sklearn/feature_extraction/text.py:528: UserWarning: The parameter 'token_pattern' will not be used since 'tokenizer' is not None'\n",
      "  warnings.warn(\n"
     ]
    }
   ],
   "source": [
    "from sklearn.feature_extraction.text import CountVectorizer\n",
    "\n",
    "cv = CountVectorizer(\n",
    "    max_features=100,       # 최대 단어 수(빈도 순)\n",
    "    tokenizer=extract_noun) # 토큰화 방법\n",
    "\n",
    "dtm = cv.fit_transform(df['본문'])"
   ]
  },
  {
   "cell_type": "code",
   "execution_count": 11,
   "id": "6b7664d0-4ceb-4d00-a4e9-2e8a4fb19c21",
   "metadata": {
    "tags": []
   },
   "outputs": [
    {
     "data": {
      "text/plain": [
       "array(['가능', '강화', '개발', '게임', '계획', '공개', '과정', '과학', '관련', '교과', '교수',\n",
       "       '교육', '구축', '국내', '국민', '기능', '기반', '기술', '기업', '다양', '대표', '대학',\n",
       "       '데이터', '도시', '디지털', '때', '말', '모집', '문제', '물류', '미국', '미래', '반도체',\n",
       "       '분석', '분야', '빅데이터', '사람', '사업', '사회', '산업', '삼성', '상황', '생각',\n",
       "       '서비스', '서울', '선발', '설계', '세계', '센터', '소득', '스마트', '시간', '시대',\n",
       "       '시스템', '시장', '신설', '업체', '연구', '영상', '예측', '올해', '운영', '융합', '이',\n",
       "       '이번', '이상', '이용', '인간', '인공', '인도', '인재', '일', '자율', '전공', '전형',\n",
       "       '점', '정보', '정부', '정책', '제공', '제도', '지난해', '지능', '지역', '지원', '진행',\n",
       "       '채용', '코로나', '콘텐츠', '투자', '평가', '필요', '학생', '학생부', '학습', '한국',\n",
       "       '혁신', '협력', '환경', '활용'], dtype=object)"
      ]
     },
     "execution_count": 11,
     "metadata": {},
     "output_type": "execute_result"
    }
   ],
   "source": [
    "cv.get_feature_names_out()"
   ]
  },
  {
   "cell_type": "code",
   "execution_count": 12,
   "id": "74955eba-f494-47d7-b89c-660db189f0b1",
   "metadata": {
    "tags": []
   },
   "outputs": [
    {
     "data": {
      "text/html": [
       "<div>\n",
       "<style scoped>\n",
       "    .dataframe tbody tr th:only-of-type {\n",
       "        vertical-align: middle;\n",
       "    }\n",
       "\n",
       "    .dataframe tbody tr th {\n",
       "        vertical-align: top;\n",
       "    }\n",
       "\n",
       "    .dataframe thead th {\n",
       "        text-align: right;\n",
       "    }\n",
       "</style>\n",
       "<table border=\"1\" class=\"dataframe\">\n",
       "  <thead>\n",
       "    <tr style=\"text-align: right;\">\n",
       "      <th></th>\n",
       "      <th>단어</th>\n",
       "      <th>빈도</th>\n",
       "    </tr>\n",
       "  </thead>\n",
       "  <tbody>\n",
       "    <tr>\n",
       "      <th>17</th>\n",
       "      <td>기술</td>\n",
       "      <td>279</td>\n",
       "    </tr>\n",
       "    <tr>\n",
       "      <th>82</th>\n",
       "      <td>지능</td>\n",
       "      <td>252</td>\n",
       "    </tr>\n",
       "    <tr>\n",
       "      <th>68</th>\n",
       "      <td>인공</td>\n",
       "      <td>237</td>\n",
       "    </tr>\n",
       "    <tr>\n",
       "      <th>11</th>\n",
       "      <td>교육</td>\n",
       "      <td>146</td>\n",
       "    </tr>\n",
       "    <tr>\n",
       "      <th>2</th>\n",
       "      <td>개발</td>\n",
       "      <td>144</td>\n",
       "    </tr>\n",
       "  </tbody>\n",
       "</table>\n",
       "</div>"
      ],
      "text/plain": [
       "    단어   빈도\n",
       "17  기술  279\n",
       "82  지능  252\n",
       "68  인공  237\n",
       "11  교육  146\n",
       "2   개발  144"
      ]
     },
     "execution_count": 12,
     "metadata": {},
     "output_type": "execute_result"
    }
   ],
   "source": [
    "word_count = pd.DataFrame({\n",
    "    '단어': cv.get_feature_names_out(),\n",
    "    '빈도': dtm.sum(axis=0).flat\n",
    "})\n",
    "word_count.sort_values('빈도', ascending=False).head()"
   ]
  },
  {
   "cell_type": "markdown",
   "id": "fbe3f715-b312-4c5c-8237-c9ecfadbe07f",
   "metadata": {},
   "source": [
    "### 유니코드 정규화"
   ]
  },
  {
   "cell_type": "code",
   "execution_count": 13,
   "id": "2a046fd3-5e65-46d7-8a3e-6d8dbfe46457",
   "metadata": {
    "tags": []
   },
   "outputs": [],
   "source": [
    "import unicodedata"
   ]
  },
  {
   "cell_type": "code",
   "execution_count": 14,
   "id": "062577d1-f2a1-4629-aafb-2dd91bf10ee8",
   "metadata": {
    "tags": []
   },
   "outputs": [
    {
     "data": {
      "text/plain": [
       "['ᄋ', 'ᅡ', 'ᆫ', 'ᄂ', 'ᅧ', 'ᆼ', 'ᄒ', 'ᅡ', 'ᄉ', 'ᅦ', 'ᄋ', 'ᅭ']"
      ]
     },
     "execution_count": 14,
     "metadata": {},
     "output_type": "execute_result"
    }
   ],
   "source": [
    "unistr = '안녕하세요'\n",
    "\n",
    "list(unicodedata.normalize('NFD', unistr)) #풀어쓰기"
   ]
  },
  {
   "cell_type": "code",
   "execution_count": 15,
   "id": "6dec8eeb-d7c7-446c-a4c9-a969a9bf43c1",
   "metadata": {
    "tags": []
   },
   "outputs": [
    {
     "data": {
      "text/plain": [
       "['안', '녕', '하', '세', '요']"
      ]
     },
     "execution_count": 15,
     "metadata": {},
     "output_type": "execute_result"
    }
   ],
   "source": [
    "list(unicodedata.normalize('NFC', unistr)) #풀어쓰기"
   ]
  },
  {
   "cell_type": "markdown",
   "id": "e39cfc96-43f4-4d89-84f0-d8ff6b9800f2",
   "metadata": {},
   "source": [
    "### 준단어 토큰화(챗봇)"
   ]
  },
  {
   "cell_type": "code",
   "execution_count": 16,
   "id": "02bc31c9-b780-44fc-a04c-9a6579f73543",
   "metadata": {
    "tags": []
   },
   "outputs": [
    {
     "name": "stdout",
     "output_type": "stream",
     "text": [
      "Defaulting to user installation because normal site-packages is not writeable\n",
      "Requirement already satisfied: tokenizers in /home/hwi/.local/lib/python3.10/site-packages (0.13.2)\n"
     ]
    }
   ],
   "source": [
    "!pip install tokenizers"
   ]
  },
  {
   "cell_type": "markdown",
   "id": "30a83f06-413d-49ea-acca-7650e613e819",
   "metadata": {},
   "source": [
    "BPE 토크나이저 초기화 (미등록 어휘는 [UNK]로 표시하도록 설정)"
   ]
  },
  {
   "cell_type": "code",
   "execution_count": 17,
   "id": "dbed87e2-2553-4825-a709-c45b773107f3",
   "metadata": {
    "tags": []
   },
   "outputs": [],
   "source": [
    "from tokenizers import Tokenizer\n",
    "from tokenizers.models import BPE\n",
    "tokenizer = Tokenizer(BPE(unk_token=\"[UNK]\"))"
   ]
  },
  {
   "cell_type": "markdown",
   "id": "b20e3a74-4be7-4c11-a443-158a84668f4a",
   "metadata": {},
   "source": [
    "빈 칸으로 끊어서 전처리하도록 설정"
   ]
  },
  {
   "cell_type": "code",
   "execution_count": 18,
   "id": "fd427ea0-80a5-4570-a031-2eca82d996e2",
   "metadata": {
    "tags": []
   },
   "outputs": [],
   "source": [
    "from tokenizers.pre_tokenizers import Whitespace\n",
    "tokenizer.pre_tokenizer = Whitespace()"
   ]
  },
  {
   "cell_type": "markdown",
   "id": "874d7ccd-0aab-407f-9017-91fde56c3c01",
   "metadata": {},
   "source": [
    "훈련 방법 설정\n",
    "\n"
   ]
  },
  {
   "cell_type": "code",
   "execution_count": 19,
   "id": "d287f06e-326f-4f6a-b711-516f17018fd3",
   "metadata": {
    "tags": []
   },
   "outputs": [],
   "source": [
    "from tokenizers.trainers import BpeTrainer\n",
    "trainer = BpeTrainer(vocab_size=30000,\n",
    "                     special_tokens=[\"[UNK]\"])"
   ]
  },
  {
   "cell_type": "markdown",
   "id": "f97a71ea-5d1a-4b23-96dc-ae29549fb568",
   "metadata": {},
   "source": [
    "데이터 파일"
   ]
  },
  {
   "cell_type": "code",
   "execution_count": 20,
   "id": "e3d5fa5a-21cd-4c97-b523-0e317f48cc4b",
   "metadata": {
    "tags": []
   },
   "outputs": [],
   "source": [
    "import pandas as pd\n",
    "df = pd.read_csv('data/news_ai.csv')"
   ]
  },
  {
   "cell_type": "markdown",
   "id": "a54f79a2-ced6-4a3c-8538-10dabdc82435",
   "metadata": {},
   "source": [
    "훈련"
   ]
  },
  {
   "cell_type": "code",
   "execution_count": 21,
   "id": "cd3f0cfd-628e-43d8-bbad-2c63dd5fecbf",
   "metadata": {
    "tags": []
   },
   "outputs": [
    {
     "name": "stdout",
     "output_type": "stream",
     "text": [
      "\n",
      "\n",
      "\n"
     ]
    }
   ],
   "source": [
    "tokenizer.train_from_iterator(df.본문, trainer=trainer)"
   ]
  },
  {
   "cell_type": "markdown",
   "id": "f60e4786-b69e-49a5-a70a-859c0673d772",
   "metadata": {},
   "source": [
    "적용"
   ]
  },
  {
   "cell_type": "code",
   "execution_count": 22,
   "id": "a3445d99-0011-4f66-a68d-5fd91ef9eefc",
   "metadata": {
    "tags": []
   },
   "outputs": [],
   "source": [
    "enc = tokenizer.encode('자연어 처리는 재밌다')"
   ]
  },
  {
   "cell_type": "markdown",
   "id": "b146b0fd-2d3a-4c21-8f16-83c77ab35544",
   "metadata": {},
   "source": [
    "토큰 아이디 보기\n",
    "\n"
   ]
  },
  {
   "cell_type": "code",
   "execution_count": 23,
   "id": "7e49892a-8427-4c86-8704-87db2e1fd594",
   "metadata": {
    "tags": []
   },
   "outputs": [
    {
     "data": {
      "text/plain": [
       "[2480, 738, 915, 1319, 834, 0, 325]"
      ]
     },
     "execution_count": 23,
     "metadata": {},
     "output_type": "execute_result"
    }
   ],
   "source": [
    "enc.ids"
   ]
  },
  {
   "cell_type": "markdown",
   "id": "424a2219-efca-4e57-9299-dcb2c85c3e31",
   "metadata": {},
   "source": [
    "토큰 보기"
   ]
  },
  {
   "cell_type": "code",
   "execution_count": 24,
   "id": "16d1c129-66e9-40a0-995d-c9e64cc8b19c",
   "metadata": {
    "tags": []
   },
   "outputs": [
    {
     "data": {
      "text/plain": [
       "['자연', '어', '처', '리는', '재', '[UNK]', '다']"
      ]
     },
     "execution_count": 24,
     "metadata": {},
     "output_type": "execute_result"
    }
   ],
   "source": [
    "enc.tokens"
   ]
  },
  {
   "cell_type": "markdown",
   "id": "6ec44f4b-c80d-46d7-8f67-9134cf0d8e4c",
   "metadata": {
    "tags": []
   },
   "source": [
    "저장"
   ]
  },
  {
   "cell_type": "code",
   "execution_count": 25,
   "id": "b940cc21-193c-4fbe-afd7-cbe8665b6e0b",
   "metadata": {
    "tags": []
   },
   "outputs": [],
   "source": [
    "tokenizer.save('save/bpe.json')"
   ]
  },
  {
   "cell_type": "markdown",
   "id": "c5951736-dfc9-4cad-bd9f-2ba94b4acf3d",
   "metadata": {},
   "source": [
    "불러오기"
   ]
  },
  {
   "cell_type": "code",
   "execution_count": 26,
   "id": "f7be090a-6d27-4931-8354-1cf358a26662",
   "metadata": {
    "tags": []
   },
   "outputs": [],
   "source": [
    "tokenizer = Tokenizer.from_file(\"save/bpe.json\")"
   ]
  },
  {
   "cell_type": "markdown",
   "id": "53694663-0a07-4a57-856e-f905aeed2ad1",
   "metadata": {},
   "source": [
    "### 풀어쓰기 + BPE"
   ]
  },
  {
   "cell_type": "code",
   "execution_count": 34,
   "id": "60c98524-9149-4779-a29c-2650b8e8c581",
   "metadata": {
    "tags": []
   },
   "outputs": [],
   "source": [
    "from tokenizers.normalizers import NFD\n",
    "normalizer = NFD()"
   ]
  },
  {
   "cell_type": "code",
   "execution_count": 35,
   "id": "01888d28-271b-4320-994f-0a6362fce039",
   "metadata": {
    "tags": []
   },
   "outputs": [
    {
     "data": {
      "text/plain": [
       "['ᄌ', 'ᅡ', 'ᄋ', 'ᅧ', 'ᆫ', 'ᄋ', 'ᅥ']"
      ]
     },
     "execution_count": 35,
     "metadata": {},
     "output_type": "execute_result"
    }
   ],
   "source": [
    "result = normalizer.normalize_str('자연어')\n",
    "list(result)"
   ]
  },
  {
   "cell_type": "code",
   "execution_count": 36,
   "id": "0d5eed02-a71d-452c-b8d6-a8cd6d1c49cc",
   "metadata": {
    "tags": []
   },
   "outputs": [],
   "source": [
    "tokenizer = Tokenizer(BPE(unk_token=\"[UNK]\"))\n",
    "tokenizer.pre_tokenizer = Whitespace()\n",
    "tokenizer.normalizer = NFD()"
   ]
  },
  {
   "cell_type": "code",
   "execution_count": 37,
   "id": "8462c567-f7a7-4d81-bee7-28888065792d",
   "metadata": {
    "tags": []
   },
   "outputs": [
    {
     "name": "stdout",
     "output_type": "stream",
     "text": [
      "\n",
      "\n",
      "\n"
     ]
    }
   ],
   "source": [
    "trainer = BpeTrainer(vocab_size=30000,\n",
    "                     special_tokens=[\"[UNK]\"])\n",
    "tokenizer.train_from_iterator(df.본문, trainer=trainer)"
   ]
  },
  {
   "cell_type": "code",
   "execution_count": 42,
   "id": "d62acc5d-8bdf-4c3a-83cc-33f0a6a5d85b",
   "metadata": {
    "tags": []
   },
   "outputs": [
    {
     "data": {
      "text/plain": [
       "['자연', '어', '처', '리는', '재미', 'ᆻ다']"
      ]
     },
     "execution_count": 42,
     "metadata": {},
     "output_type": "execute_result"
    }
   ],
   "source": [
    "tokenizer.encode('자연어 처리는 재밌다').tokens"
   ]
  },
  {
   "cell_type": "markdown",
   "id": "990d2190-3f01-4c4b-b06c-9df4e6328c30",
   "metadata": {},
   "source": [
    "### tiktoken (chatGPT)"
   ]
  },
  {
   "cell_type": "code",
   "execution_count": 44,
   "id": "1172bf06-b273-4d65-8e7a-3543f03916aa",
   "metadata": {
    "tags": []
   },
   "outputs": [
    {
     "name": "stdout",
     "output_type": "stream",
     "text": [
      "huggingface/tokenizers: The current process just got forked, after parallelism has already been used. Disabling parallelism to avoid deadlocks...\n",
      "To disable this warning, you can either:\n",
      "\t- Avoid using `tokenizers` before the fork if possible\n",
      "\t- Explicitly set the environment variable TOKENIZERS_PARALLELISM=(true | false)\n",
      "Defaulting to user installation because normal site-packages is not writeable\n",
      "Collecting tiktoken\n",
      "  Downloading tiktoken-0.3.2-cp310-cp310-manylinux_2_17_x86_64.manylinux2014_x86_64.whl (1.7 MB)\n",
      "\u001b[2K     \u001b[90m━━━━━━━━━━━━━━━━━━━━━━━━━━━━━━━━━━━━━━━━\u001b[0m \u001b[32m1.7/1.7 MB\u001b[0m \u001b[31m10.5 MB/s\u001b[0m eta \u001b[36m0:00:00\u001b[0m00:01\u001b[0m0:01\u001b[0m\n",
      "\u001b[?25hRequirement already satisfied: requests>=2.26.0 in /home/hwi/.local/lib/python3.10/site-packages (from tiktoken) (2.28.2)\n",
      "Collecting regex>=2022.1.18\n",
      "  Downloading regex-2023.3.23-cp310-cp310-manylinux_2_17_x86_64.manylinux2014_x86_64.whl (769 kB)\n",
      "\u001b[2K     \u001b[90m━━━━━━━━━━━━━━━━━━━━━━━━━━━━━━━━━━━━━━\u001b[0m \u001b[32m769.6/769.6 KB\u001b[0m \u001b[31m25.1 MB/s\u001b[0m eta \u001b[36m0:00:00\u001b[0m\n",
      "\u001b[?25hRequirement already satisfied: certifi>=2017.4.17 in /home/hwi/.local/lib/python3.10/site-packages (from requests>=2.26.0->tiktoken) (2022.12.7)\n",
      "Requirement already satisfied: urllib3<1.27,>=1.21.1 in /home/hwi/.local/lib/python3.10/site-packages (from requests>=2.26.0->tiktoken) (1.26.15)\n",
      "Requirement already satisfied: idna<4,>=2.5 in /home/hwi/.local/lib/python3.10/site-packages (from requests>=2.26.0->tiktoken) (3.4)\n",
      "Requirement already satisfied: charset-normalizer<4,>=2 in /home/hwi/.local/lib/python3.10/site-packages (from requests>=2.26.0->tiktoken) (3.1.0)\n",
      "Installing collected packages: regex, tiktoken\n",
      "Successfully installed regex-2023.3.23 tiktoken-0.3.2\n"
     ]
    }
   ],
   "source": [
    "!pip3 install tiktoken"
   ]
  },
  {
   "cell_type": "code",
   "execution_count": 46,
   "id": "4f9f5bfc-06a6-45d6-b85d-63d2f7836ffc",
   "metadata": {
    "tags": []
   },
   "outputs": [],
   "source": [
    "import tiktoken\n",
    "euc = tiktoken.encoding_for_model('gpt-4')"
   ]
  },
  {
   "cell_type": "code",
   "execution_count": 47,
   "id": "815efea8-a09f-4d6e-9c3c-1d409c1e26b9",
   "metadata": {
    "tags": []
   },
   "outputs": [
    {
     "data": {
      "text/plain": [
       "[15339, 1917]"
      ]
     },
     "execution_count": 47,
     "metadata": {},
     "output_type": "execute_result"
    }
   ],
   "source": [
    "euc.encode('hello world')"
   ]
  },
  {
   "cell_type": "code",
   "execution_count": 49,
   "id": "77aaee16-c529-4863-b070-34bab68419f6",
   "metadata": {
    "tags": []
   },
   "outputs": [
    {
     "data": {
      "text/plain": [
       "[31495, 230, 75265, 243, 42529, 22783, 226]"
      ]
     },
     "execution_count": 49,
     "metadata": {},
     "output_type": "execute_result"
    }
   ],
   "source": [
    "#영어 보다 훨씬 많은 토큰화\n",
    "#챗지피티는 토큰 n^2 연산함\n",
    "euc.encode('안녕세계')"
   ]
  },
  {
   "cell_type": "code",
   "execution_count": 52,
   "id": "d36c940c-e8a7-496c-9320-09b726019674",
   "metadata": {
    "tags": []
   },
   "outputs": [
    {
     "data": {
      "text/plain": [
       "[79225, 64189]"
      ]
     },
     "execution_count": 52,
     "metadata": {},
     "output_type": "execute_result"
    }
   ],
   "source": [
    "euc.encode('공부')"
   ]
  },
  {
   "cell_type": "markdown",
   "id": "36656d97-172e-4cbc-8da2-bda973fdeeff",
   "metadata": {},
   "source": [
    "### Byte-level BPE"
   ]
  },
  {
   "cell_type": "code",
   "execution_count": 53,
   "id": "663572e7-c974-4072-a07c-54d986fbd7aa",
   "metadata": {
    "tags": []
   },
   "outputs": [
    {
     "name": "stdout",
     "output_type": "stream",
     "text": [
      "\n",
      "\n",
      "\n"
     ]
    }
   ],
   "source": [
    "from tokenizers.pre_tokenizers import Sequence, ByteLevel\n",
    "\n",
    "tokenizer = Tokenizer(BPE(unk_token=\"[UNK]\"))\n",
    "\n",
    "tokenizer.pre_tokenizer = Sequence([\n",
    "    Whitespace(), # 공백으로 분리 후\n",
    "    ByteLevel() # 바이트 단위로 분리\n",
    "])\n",
    "trainer = BpeTrainer(vocab_size=30000,\n",
    "                     special_tokens=[\"[UNK]\"])\n",
    "tokenizer.train_from_iterator(df.본문, trainer=trainer)"
   ]
  },
  {
   "cell_type": "code",
   "execution_count": 54,
   "id": "802f7246-a5f3-4a78-b0c1-93d2365031ff",
   "metadata": {
    "tags": []
   },
   "outputs": [
    {
     "data": {
      "text/plain": [
       "['ĠìŀĲìĹ°', 'ìĸ´', 'Ġì²ĺ', 'ë¦¬ëĬĶ', 'Ġìŀ¬', 'ë°', 'Į', 'ëĭ¤']"
      ]
     },
     "execution_count": 54,
     "metadata": {},
     "output_type": "execute_result"
    }
   ],
   "source": [
    "tokenizer.encode('자연어 처리는 재밌다').tokens"
   ]
  }
 ],
 "metadata": {
  "kernelspec": {
   "display_name": "Python 3 (ipykernel)",
   "language": "python",
   "name": "python3"
  },
  "language_info": {
   "codemirror_mode": {
    "name": "ipython",
    "version": 3
   },
   "file_extension": ".py",
   "mimetype": "text/x-python",
   "name": "python",
   "nbconvert_exporter": "python",
   "pygments_lexer": "ipython3",
   "version": "3.10.6"
  }
 },
 "nbformat": 4,
 "nbformat_minor": 5
}
