{
 "cells": [
  {
   "cell_type": "markdown",
   "id": "9156a207-d67e-4672-a07e-61875ae42ea1",
   "metadata": {
    "tags": []
   },
   "source": [
    "## spacy"
   ]
  },
  {
   "cell_type": "code",
   "execution_count": 2,
   "id": "c31c831e-7402-4305-b86c-66f9bc6dbf70",
   "metadata": {
    "tags": []
   },
   "outputs": [
    {
     "name": "stdout",
     "output_type": "stream",
     "text": [
      "All all DET DT True\n",
      "work work NOUN NN False\n",
      "and and CCONJ CC True\n",
      "no no DET DT True\n",
      "play play NOUN NN False\n",
      "makes make VERB VBZ False\n",
      "Jack Jack PROPN NNP False\n",
      "a a DET DT True\n",
      "dull dull ADJ JJ False\n",
      "boy boy NOUN NN False\n",
      ". . PUNCT . False\n"
     ]
    }
   ],
   "source": [
    "import spacy\n",
    "\n",
    "nlp = spacy.load(\"en_core_web_sm\")\n",
    "\n",
    "text = \"All work and no play makes Jack a dull boy.\"\n",
    "doc = nlp(text)\n",
    "\n",
    "for token in doc:\n",
    "    print(token.text,\n",
    "          token.lemma_,  # 표제어\n",
    "          token.pos_,    # 단어의 품사\n",
    "          token.tag_,    # 자세한 품사\n",
    "          token.is_stop) # 불용어 여부"
   ]
  },
  {
   "cell_type": "code",
   "execution_count": 10,
   "id": "6ae8ddd3-1551-4ade-9e93-a093c9f572fc",
   "metadata": {
    "tags": []
   },
   "outputs": [
    {
     "name": "stdout",
     "output_type": "stream",
     "text": [
      "단무지 단무지 PROPN NNP False\n",
      "빼고 빼고 PROPN NNP False\n",
      "김치랑 김치랑 VERB VBD False\n",
      "밥 밥 PROPN NNP False\n",
      "빼고 빼고 PROPN NNP False\n",
      "양상추 양상추 PROPN NNP False\n"
     ]
    }
   ],
   "source": [
    "import spacy\n",
    "\n",
    "konlp = spacy.load(\"ko_core_news_sm\")\n",
    "\n",
    "text = \"단무지 빼고 김치랑 밥 빼고 양상추\"\n",
    "doc = nlp(text)\n",
    "\n",
    "for token in doc:\n",
    "    print(token.text,\n",
    "          token.lemma_,  # 표제어\n",
    "          token.pos_,    # 단어의 품사\n",
    "          token.tag_,    # 자세한 품사\n",
    "          token.is_stop) # 불용어 여부"
   ]
  },
  {
   "cell_type": "code",
   "execution_count": 11,
   "id": "a3346469-b518-4282-aa89-08ed60c79266",
   "metadata": {
    "tags": []
   },
   "outputs": [
    {
     "data": {
      "text/plain": [
       "'proper noun'"
      ]
     },
     "execution_count": 11,
     "metadata": {},
     "output_type": "execute_result"
    }
   ],
   "source": [
    "spacy.explain('PROPN')"
   ]
  },
  {
   "cell_type": "markdown",
   "id": "156bc2ca-d8ef-4e4f-843e-e0e9f4b9848b",
   "metadata": {},
   "source": [
    "### 문장 구조"
   ]
  },
  {
   "cell_type": "code",
   "execution_count": 12,
   "id": "f414b287-00c4-423e-827a-c8e591ad7bad",
   "metadata": {
    "tags": []
   },
   "outputs": [
    {
     "data": {
      "text/html": [
       "<span class=\"tex2jax_ignore\"><svg xmlns=\"http://www.w3.org/2000/svg\" xmlns:xlink=\"http://www.w3.org/1999/xlink\" xml:lang=\"en\" id=\"aeeae4f6d26a48898b6cd107ac7dac95-0\" class=\"displacy\" width=\"1100\" height=\"399.5\" direction=\"ltr\" style=\"max-width: none; height: 399.5px; color: #000000; background: #ffffff; font-family: Arial; direction: ltr\">\n",
       "<text class=\"displacy-token\" fill=\"currentColor\" text-anchor=\"middle\" y=\"309.5\">\n",
       "    <tspan class=\"displacy-word\" fill=\"currentColor\" x=\"50\">단무지</tspan>\n",
       "    <tspan class=\"displacy-tag\" dy=\"2em\" fill=\"currentColor\" x=\"50\">PROPN</tspan>\n",
       "</text>\n",
       "\n",
       "<text class=\"displacy-token\" fill=\"currentColor\" text-anchor=\"middle\" y=\"309.5\">\n",
       "    <tspan class=\"displacy-word\" fill=\"currentColor\" x=\"225\">빼고</tspan>\n",
       "    <tspan class=\"displacy-tag\" dy=\"2em\" fill=\"currentColor\" x=\"225\">PROPN</tspan>\n",
       "</text>\n",
       "\n",
       "<text class=\"displacy-token\" fill=\"currentColor\" text-anchor=\"middle\" y=\"309.5\">\n",
       "    <tspan class=\"displacy-word\" fill=\"currentColor\" x=\"400\">김치랑</tspan>\n",
       "    <tspan class=\"displacy-tag\" dy=\"2em\" fill=\"currentColor\" x=\"400\">VERB</tspan>\n",
       "</text>\n",
       "\n",
       "<text class=\"displacy-token\" fill=\"currentColor\" text-anchor=\"middle\" y=\"309.5\">\n",
       "    <tspan class=\"displacy-word\" fill=\"currentColor\" x=\"575\">밥</tspan>\n",
       "    <tspan class=\"displacy-tag\" dy=\"2em\" fill=\"currentColor\" x=\"575\">PROPN</tspan>\n",
       "</text>\n",
       "\n",
       "<text class=\"displacy-token\" fill=\"currentColor\" text-anchor=\"middle\" y=\"309.5\">\n",
       "    <tspan class=\"displacy-word\" fill=\"currentColor\" x=\"750\">빼고</tspan>\n",
       "    <tspan class=\"displacy-tag\" dy=\"2em\" fill=\"currentColor\" x=\"750\">PROPN</tspan>\n",
       "</text>\n",
       "\n",
       "<text class=\"displacy-token\" fill=\"currentColor\" text-anchor=\"middle\" y=\"309.5\">\n",
       "    <tspan class=\"displacy-word\" fill=\"currentColor\" x=\"925\">양상추</tspan>\n",
       "    <tspan class=\"displacy-tag\" dy=\"2em\" fill=\"currentColor\" x=\"925\">PROPN</tspan>\n",
       "</text>\n",
       "\n",
       "<g class=\"displacy-arrow\">\n",
       "    <path class=\"displacy-arc\" id=\"arrow-aeeae4f6d26a48898b6cd107ac7dac95-0-0\" stroke-width=\"2px\" d=\"M70,264.5 C70,89.5 395.0,89.5 395.0,264.5\" fill=\"none\" stroke=\"currentColor\"/>\n",
       "    <text dy=\"1.25em\" style=\"font-size: 0.8em; letter-spacing: 1px\">\n",
       "        <textPath xlink:href=\"#arrow-aeeae4f6d26a48898b6cd107ac7dac95-0-0\" class=\"displacy-label\" startOffset=\"50%\" side=\"left\" fill=\"currentColor\" text-anchor=\"middle\">dep</textPath>\n",
       "    </text>\n",
       "    <path class=\"displacy-arrowhead\" d=\"M70,266.5 L62,254.5 78,254.5\" fill=\"currentColor\"/>\n",
       "</g>\n",
       "\n",
       "<g class=\"displacy-arrow\">\n",
       "    <path class=\"displacy-arc\" id=\"arrow-aeeae4f6d26a48898b6cd107ac7dac95-0-1\" stroke-width=\"2px\" d=\"M245,264.5 C245,177.0 390.0,177.0 390.0,264.5\" fill=\"none\" stroke=\"currentColor\"/>\n",
       "    <text dy=\"1.25em\" style=\"font-size: 0.8em; letter-spacing: 1px\">\n",
       "        <textPath xlink:href=\"#arrow-aeeae4f6d26a48898b6cd107ac7dac95-0-1\" class=\"displacy-label\" startOffset=\"50%\" side=\"left\" fill=\"currentColor\" text-anchor=\"middle\">nsubj</textPath>\n",
       "    </text>\n",
       "    <path class=\"displacy-arrowhead\" d=\"M245,266.5 L237,254.5 253,254.5\" fill=\"currentColor\"/>\n",
       "</g>\n",
       "\n",
       "<g class=\"displacy-arrow\">\n",
       "    <path class=\"displacy-arc\" id=\"arrow-aeeae4f6d26a48898b6cd107ac7dac95-0-2\" stroke-width=\"2px\" d=\"M595,264.5 C595,89.5 920.0,89.5 920.0,264.5\" fill=\"none\" stroke=\"currentColor\"/>\n",
       "    <text dy=\"1.25em\" style=\"font-size: 0.8em; letter-spacing: 1px\">\n",
       "        <textPath xlink:href=\"#arrow-aeeae4f6d26a48898b6cd107ac7dac95-0-2\" class=\"displacy-label\" startOffset=\"50%\" side=\"left\" fill=\"currentColor\" text-anchor=\"middle\">compound</textPath>\n",
       "    </text>\n",
       "    <path class=\"displacy-arrowhead\" d=\"M595,266.5 L587,254.5 603,254.5\" fill=\"currentColor\"/>\n",
       "</g>\n",
       "\n",
       "<g class=\"displacy-arrow\">\n",
       "    <path class=\"displacy-arc\" id=\"arrow-aeeae4f6d26a48898b6cd107ac7dac95-0-3\" stroke-width=\"2px\" d=\"M770,264.5 C770,177.0 915.0,177.0 915.0,264.5\" fill=\"none\" stroke=\"currentColor\"/>\n",
       "    <text dy=\"1.25em\" style=\"font-size: 0.8em; letter-spacing: 1px\">\n",
       "        <textPath xlink:href=\"#arrow-aeeae4f6d26a48898b6cd107ac7dac95-0-3\" class=\"displacy-label\" startOffset=\"50%\" side=\"left\" fill=\"currentColor\" text-anchor=\"middle\">compound</textPath>\n",
       "    </text>\n",
       "    <path class=\"displacy-arrowhead\" d=\"M770,266.5 L762,254.5 778,254.5\" fill=\"currentColor\"/>\n",
       "</g>\n",
       "\n",
       "<g class=\"displacy-arrow\">\n",
       "    <path class=\"displacy-arc\" id=\"arrow-aeeae4f6d26a48898b6cd107ac7dac95-0-4\" stroke-width=\"2px\" d=\"M420,264.5 C420,2.0 925.0,2.0 925.0,264.5\" fill=\"none\" stroke=\"currentColor\"/>\n",
       "    <text dy=\"1.25em\" style=\"font-size: 0.8em; letter-spacing: 1px\">\n",
       "        <textPath xlink:href=\"#arrow-aeeae4f6d26a48898b6cd107ac7dac95-0-4\" class=\"displacy-label\" startOffset=\"50%\" side=\"left\" fill=\"currentColor\" text-anchor=\"middle\">npadvmod</textPath>\n",
       "    </text>\n",
       "    <path class=\"displacy-arrowhead\" d=\"M925.0,266.5 L933.0,254.5 917.0,254.5\" fill=\"currentColor\"/>\n",
       "</g>\n",
       "</svg></span>"
      ],
      "text/plain": [
       "<IPython.core.display.HTML object>"
      ]
     },
     "metadata": {},
     "output_type": "display_data"
    },
    {
     "data": {
      "text/plain": [
       "<IPython.core.display.SVG object>"
      ]
     },
     "execution_count": 12,
     "metadata": {},
     "output_type": "execute_result"
    }
   ],
   "source": [
    "from IPython.display import SVG\n",
    "SVG(spacy.displacy.render(doc))"
   ]
  },
  {
   "cell_type": "code",
   "execution_count": 13,
   "id": "6a6cebe1-f772-41aa-8593-06af6de6d596",
   "metadata": {
    "tags": []
   },
   "outputs": [
    {
     "name": "stdout",
     "output_type": "stream",
     "text": [
      "단무지 dep 김치랑\n",
      "빼고 nsubj 김치랑\n",
      "김치랑 ROOT 김치랑\n",
      "밥 compound 양상추\n",
      "빼고 compound 양상추\n",
      "양상추 npadvmod 김치랑\n"
     ]
    }
   ],
   "source": [
    "for token in doc:\n",
    "    print(token.text,\n",
    "          token.dep_,   # 의존 관계\n",
    "          token.head)   # 지배소"
   ]
  },
  {
   "cell_type": "markdown",
   "id": "fab4107e-370d-412b-a3d2-91e089027e66",
   "metadata": {
    "tags": []
   },
   "source": [
    "## kiwi 형태소 분석기"
   ]
  },
  {
   "cell_type": "code",
   "execution_count": 23,
   "id": "d33f2599-07da-41c1-a01e-a60d8e2b8c18",
   "metadata": {
    "tags": []
   },
   "outputs": [
    {
     "data": {
      "text/plain": [
       "[Token(form='단무지', tag='NNG', start=0, len=3),\n",
       " Token(form='빼', tag='VV', start=4, len=1),\n",
       " Token(form='고', tag='EC', start=5, len=1),\n",
       " Token(form='김치', tag='NNG', start=7, len=2),\n",
       " Token(form='랑', tag='JC', start=9, len=1),\n",
       " Token(form='밥', tag='NNG', start=11, len=1),\n",
       " Token(form='빼', tag='VV', start=13, len=1),\n",
       " Token(form='고', tag='EF', start=14, len=1),\n",
       " Token(form='양상추', tag='NNG', start=16, len=3)]"
      ]
     },
     "execution_count": 23,
     "metadata": {},
     "output_type": "execute_result"
    }
   ],
   "source": [
    "from kiwipiepy import Kiwi\n",
    "kiwi = Kiwi()\n",
    "\n",
    "text = '단무지 빼고 김치랑 밥 빼고 양상추'\n",
    "result = kiwi.tokenize(text)\n",
    "result"
   ]
  },
  {
   "cell_type": "code",
   "execution_count": 24,
   "id": "3b68b5f7-aebe-4c17-a5e5-38ba35e7fc87",
   "metadata": {},
   "outputs": [
    {
     "data": {
      "text/plain": [
       "['어제', '홍차', '오늘', '커피']"
      ]
     },
     "execution_count": 24,
     "metadata": {},
     "output_type": "execute_result"
    }
   ],
   "source": [
    "def extract_noun(text):\n",
    "    result = kiwi.tokenize(text)\n",
    "    for token in result:\n",
    "        if token.tag in ['NNG', 'NNP']:\n",
    "            yield token.form\n",
    "\n",
    "\n",
    "list(extract_noun('어제는 홍차를 마시고, 오늘은 커피를 마셨다.'))"
   ]
  },
  {
   "cell_type": "markdown",
   "id": "9e90d358-aec3-4e24-942a-b1c97f2e7672",
   "metadata": {},
   "source": [
    "## 한국어 문서 단어 행렬"
   ]
  },
  {
   "cell_type": "code",
   "execution_count": 25,
   "id": "c374f8fe-9402-49e9-8dee-d4e80feb7fca",
   "metadata": {
    "tags": []
   },
   "outputs": [],
   "source": [
    "import pandas as pd\n",
    "df = pd.read_csv('data/news_ai.csv')"
   ]
  },
  {
   "cell_type": "code",
   "execution_count": 26,
   "id": "1cf74278-8d8c-436c-9426-38afe2e314ac",
   "metadata": {
    "tags": []
   },
   "outputs": [
    {
     "data": {
      "text/plain": [
       "False"
      ]
     },
     "execution_count": 26,
     "metadata": {},
     "output_type": "execute_result"
    }
   ],
   "source": [
    "kiwi.add_user_word('인공지능', 'NNP')"
   ]
  },
  {
   "cell_type": "code",
   "execution_count": 27,
   "id": "8e1e060e-dde0-498e-a239-fef45e0e2a04",
   "metadata": {
    "tags": []
   },
   "outputs": [
    {
     "name": "stderr",
     "output_type": "stream",
     "text": [
      "/home/hwi/.local/lib/python3.10/site-packages/sklearn/feature_extraction/text.py:528: UserWarning: The parameter 'token_pattern' will not be used since 'tokenizer' is not None'\n",
      "  warnings.warn(\n"
     ]
    }
   ],
   "source": [
    "from sklearn.feature_extraction.text import CountVectorizer\n",
    "\n",
    "cv = CountVectorizer(\n",
    "    max_features=100,       # 최대 단어 수(빈도 순)\n",
    "    tokenizer=extract_noun) # 토큰화 방법\n",
    "\n",
    "dtm = cv.fit_transform(df['본문'])"
   ]
  },
  {
   "cell_type": "code",
   "execution_count": 28,
   "id": "6b7664d0-4ceb-4d00-a4e9-2e8a4fb19c21",
   "metadata": {
    "tags": []
   },
   "outputs": [
    {
     "data": {
      "text/plain": [
       "array(['가능', '강화', '개발', '게임', '계획', '공개', '과정', '과학', '관련', '교과', '교수',\n",
       "       '교육', '구축', '국내', '국민', '기능', '기반', '기술', '기업', '다양', '대표', '대학',\n",
       "       '데이터', '도시', '디지털', '때', '말', '모집', '문제', '물류', '미국', '미래', '반도체',\n",
       "       '분석', '분야', '빅데이터', '사람', '사업', '사회', '산업', '삼성', '상황', '생각',\n",
       "       '서비스', '서울', '선발', '설계', '세계', '센터', '소득', '스마트', '시간', '시대',\n",
       "       '시스템', '시장', '신설', '업체', '연구', '영상', '예측', '올해', '운영', '융합', '이',\n",
       "       '이번', '이상', '이용', '인간', '인공', '인도', '인재', '일', '자율', '전공', '전형',\n",
       "       '점', '정보', '정부', '정책', '제공', '제도', '지난해', '지능', '지역', '지원', '진행',\n",
       "       '채용', '코로나', '콘텐츠', '투자', '평가', '필요', '학생', '학생부', '학습', '한국',\n",
       "       '혁신', '협력', '환경', '활용'], dtype=object)"
      ]
     },
     "execution_count": 28,
     "metadata": {},
     "output_type": "execute_result"
    }
   ],
   "source": [
    "cv.get_feature_names_out()"
   ]
  },
  {
   "cell_type": "code",
   "execution_count": 29,
   "id": "74955eba-f494-47d7-b89c-660db189f0b1",
   "metadata": {
    "tags": []
   },
   "outputs": [
    {
     "data": {
      "text/html": [
       "<div>\n",
       "<style scoped>\n",
       "    .dataframe tbody tr th:only-of-type {\n",
       "        vertical-align: middle;\n",
       "    }\n",
       "\n",
       "    .dataframe tbody tr th {\n",
       "        vertical-align: top;\n",
       "    }\n",
       "\n",
       "    .dataframe thead th {\n",
       "        text-align: right;\n",
       "    }\n",
       "</style>\n",
       "<table border=\"1\" class=\"dataframe\">\n",
       "  <thead>\n",
       "    <tr style=\"text-align: right;\">\n",
       "      <th></th>\n",
       "      <th>단어</th>\n",
       "      <th>빈도</th>\n",
       "    </tr>\n",
       "  </thead>\n",
       "  <tbody>\n",
       "    <tr>\n",
       "      <th>17</th>\n",
       "      <td>기술</td>\n",
       "      <td>279</td>\n",
       "    </tr>\n",
       "    <tr>\n",
       "      <th>82</th>\n",
       "      <td>지능</td>\n",
       "      <td>252</td>\n",
       "    </tr>\n",
       "    <tr>\n",
       "      <th>68</th>\n",
       "      <td>인공</td>\n",
       "      <td>237</td>\n",
       "    </tr>\n",
       "    <tr>\n",
       "      <th>11</th>\n",
       "      <td>교육</td>\n",
       "      <td>146</td>\n",
       "    </tr>\n",
       "    <tr>\n",
       "      <th>2</th>\n",
       "      <td>개발</td>\n",
       "      <td>144</td>\n",
       "    </tr>\n",
       "  </tbody>\n",
       "</table>\n",
       "</div>"
      ],
      "text/plain": [
       "    단어   빈도\n",
       "17  기술  279\n",
       "82  지능  252\n",
       "68  인공  237\n",
       "11  교육  146\n",
       "2   개발  144"
      ]
     },
     "execution_count": 29,
     "metadata": {},
     "output_type": "execute_result"
    }
   ],
   "source": [
    "word_count = pd.DataFrame({\n",
    "    '단어': cv.get_feature_names_out(),\n",
    "    '빈도': dtm.sum(axis=0).flat\n",
    "})\n",
    "word_count.sort_values('빈도', ascending=False).head()"
   ]
  }
 ],
 "metadata": {
  "kernelspec": {
   "display_name": "Python 3 (ipykernel)",
   "language": "python",
   "name": "python3"
  },
  "language_info": {
   "codemirror_mode": {
    "name": "ipython",
    "version": 3
   },
   "file_extension": ".py",
   "mimetype": "text/x-python",
   "name": "python",
   "nbconvert_exporter": "python",
   "pygments_lexer": "ipython3",
   "version": "3.10.6"
  }
 },
 "nbformat": 4,
 "nbformat_minor": 5
}
