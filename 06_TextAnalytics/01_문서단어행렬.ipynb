{
 "cells": [
  {
   "cell_type": "code",
   "execution_count": 1,
   "id": "72e0a0af-bc5a-48db-962c-8b2b33abea93",
   "metadata": {},
   "outputs": [
    {
     "data": {
      "text/plain": [
       "True"
      ]
     },
     "execution_count": 1,
     "metadata": {},
     "output_type": "execute_result"
    }
   ],
   "source": [
    "s = 'foo'\n",
    "s in 'That is food for thought.'"
   ]
  },
  {
   "cell_type": "code",
   "execution_count": 2,
   "id": "408f406d-7f31-45d2-bb2d-6aff748a5eee",
   "metadata": {},
   "outputs": [
    {
     "data": {
      "text/plain": [
       "False"
      ]
     },
     "execution_count": 2,
     "metadata": {},
     "output_type": "execute_result"
    }
   ],
   "source": [
    "s in 'That is good for now.'"
   ]
  },
  {
   "cell_type": "code",
   "execution_count": 3,
   "id": "63853bdd-6808-4550-8fee-39e8ae1d4ca3",
   "metadata": {},
   "outputs": [
    {
     "data": {
      "text/plain": [
       "True"
      ]
     },
     "execution_count": 3,
     "metadata": {},
     "output_type": "execute_result"
    }
   ],
   "source": [
    "s not in 'That is good for now.'"
   ]
  },
  {
   "cell_type": "markdown",
   "id": "9fee7115-c863-487e-97cf-606764c811c7",
   "metadata": {},
   "source": [
    "문자열 관련 함수"
   ]
  },
  {
   "cell_type": "code",
   "execution_count": 4,
   "id": "3a50c7c0-5b55-424f-8e82-6addd30980ef",
   "metadata": {},
   "outputs": [
    {
     "data": {
      "text/plain": [
       "97"
      ]
     },
     "execution_count": 4,
     "metadata": {},
     "output_type": "execute_result"
    }
   ],
   "source": [
    "ord('a')"
   ]
  },
  {
   "cell_type": "code",
   "execution_count": 5,
   "id": "7e3ea6d4-ec09-420e-ace8-d982e6dc9bbe",
   "metadata": {},
   "outputs": [
    {
     "data": {
      "text/plain": [
       "'가'"
      ]
     },
     "execution_count": 5,
     "metadata": {},
     "output_type": "execute_result"
    }
   ],
   "source": [
    "chr(44032)"
   ]
  },
  {
   "cell_type": "code",
   "execution_count": 6,
   "id": "dc856aef-f0cc-45e9-9c70-2925e1c48c3a",
   "metadata": {},
   "outputs": [
    {
     "data": {
      "text/plain": [
       "5"
      ]
     },
     "execution_count": 6,
     "metadata": {},
     "output_type": "execute_result"
    }
   ],
   "source": [
    "len('안녕하세요')"
   ]
  },
  {
   "cell_type": "code",
   "execution_count": 7,
   "id": "5bb65181-d183-4c29-9488-df24e016b5a1",
   "metadata": {},
   "outputs": [
    {
     "data": {
      "text/plain": [
       "'42'"
      ]
     },
     "execution_count": 7,
     "metadata": {},
     "output_type": "execute_result"
    }
   ],
   "source": [
    "str(42)"
   ]
  },
  {
   "cell_type": "markdown",
   "id": "2e8e7b4f",
   "metadata": {},
   "source": [
    "문자열 메소드"
   ]
  },
  {
   "cell_type": "code",
   "execution_count": 8,
   "id": "d15a289a",
   "metadata": {},
   "outputs": [],
   "source": [
    "s = 'foobar'"
   ]
  },
  {
   "cell_type": "code",
   "execution_count": 9,
   "id": "a5a8c08f-dbbb-4cd2-adb5-7310e968e1f2",
   "metadata": {},
   "outputs": [
    {
     "data": {
      "text/plain": [
       "2"
      ]
     },
     "execution_count": 9,
     "metadata": {},
     "output_type": "execute_result"
    }
   ],
   "source": [
    "s.count('o')"
   ]
  },
  {
   "cell_type": "code",
   "execution_count": 10,
   "id": "2b123c95-d900-4364-bf26-bbb1d8f34c10",
   "metadata": {},
   "outputs": [
    {
     "data": {
      "text/plain": [
       "3"
      ]
     },
     "execution_count": 10,
     "metadata": {},
     "output_type": "execute_result"
    }
   ],
   "source": [
    "s.find('b')"
   ]
  },
  {
   "cell_type": "code",
   "execution_count": 11,
   "id": "28db2b21-f023-4d57-adb3-97de5187f74e",
   "metadata": {},
   "outputs": [
    {
     "data": {
      "text/plain": [
       "True"
      ]
     },
     "execution_count": 11,
     "metadata": {},
     "output_type": "execute_result"
    }
   ],
   "source": [
    "s.startswith('f')"
   ]
  },
  {
   "cell_type": "code",
   "execution_count": 12,
   "id": "7b3f5079-fbd9-492c-bfa5-8146d5e13a44",
   "metadata": {},
   "outputs": [],
   "source": [
    "x = '    hello   '"
   ]
  },
  {
   "cell_type": "code",
   "execution_count": 13,
   "id": "8ec3123e-ac3c-4f32-b5ed-50a147bcd61f",
   "metadata": {},
   "outputs": [
    {
     "data": {
      "text/plain": [
       "'hello'"
      ]
     },
     "execution_count": 13,
     "metadata": {},
     "output_type": "execute_result"
    }
   ],
   "source": [
    "x.strip()"
   ]
  },
  {
   "cell_type": "markdown",
   "id": "694a841c-9553-47b8-b181-37be5b905ab4",
   "metadata": {},
   "source": [
    "문서 단어 행렬"
   ]
  },
  {
   "cell_type": "code",
   "execution_count": 14,
   "id": "7c91a2cc-c438-4fcb-8378-ba6aa4af52e6",
   "metadata": {},
   "outputs": [],
   "source": [
    "import pandas as pd\n",
    "df = pd.read_excel('data/yelp.xlsx')"
   ]
  },
  {
   "cell_type": "code",
   "execution_count": 15,
   "id": "9207bf9b-c306-4a52-9f34-84502a1aba1d",
   "metadata": {},
   "outputs": [
    {
     "data": {
      "text/html": [
       "<div>\n",
       "<style scoped>\n",
       "    .dataframe tbody tr th:only-of-type {\n",
       "        vertical-align: middle;\n",
       "    }\n",
       "\n",
       "    .dataframe tbody tr th {\n",
       "        vertical-align: top;\n",
       "    }\n",
       "\n",
       "    .dataframe thead th {\n",
       "        text-align: right;\n",
       "    }\n",
       "</style>\n",
       "<table border=\"1\" class=\"dataframe\">\n",
       "  <thead>\n",
       "    <tr style=\"text-align: right;\">\n",
       "      <th></th>\n",
       "      <th>review</th>\n",
       "      <th>sentiment</th>\n",
       "    </tr>\n",
       "  </thead>\n",
       "  <tbody>\n",
       "    <tr>\n",
       "      <th>0</th>\n",
       "      <td>Wow... Loved this place.</td>\n",
       "      <td>1</td>\n",
       "    </tr>\n",
       "    <tr>\n",
       "      <th>1</th>\n",
       "      <td>Crust is not good.</td>\n",
       "      <td>0</td>\n",
       "    </tr>\n",
       "    <tr>\n",
       "      <th>2</th>\n",
       "      <td>Not tasty and the texture was just nasty.</td>\n",
       "      <td>0</td>\n",
       "    </tr>\n",
       "    <tr>\n",
       "      <th>3</th>\n",
       "      <td>Stopped by during the late May bank holiday of...</td>\n",
       "      <td>1</td>\n",
       "    </tr>\n",
       "    <tr>\n",
       "      <th>4</th>\n",
       "      <td>The selection on the menu was great and so wer...</td>\n",
       "      <td>1</td>\n",
       "    </tr>\n",
       "  </tbody>\n",
       "</table>\n",
       "</div>"
      ],
      "text/plain": [
       "                                              review  sentiment\n",
       "0                           Wow... Loved this place.          1\n",
       "1                                 Crust is not good.          0\n",
       "2          Not tasty and the texture was just nasty.          0\n",
       "3  Stopped by during the late May bank holiday of...          1\n",
       "4  The selection on the menu was great and so wer...          1"
      ]
     },
     "execution_count": 15,
     "metadata": {},
     "output_type": "execute_result"
    }
   ],
   "source": [
    "df.head()"
   ]
  },
  {
   "cell_type": "code",
   "execution_count": 16,
   "id": "3c429504-147e-40fa-bf48-9ec4e73a4761",
   "metadata": {},
   "outputs": [
    {
     "data": {
      "text/plain": [
       "(1000, 2)"
      ]
     },
     "execution_count": 16,
     "metadata": {},
     "output_type": "execute_result"
    }
   ],
   "source": [
    "df.shape"
   ]
  },
  {
   "cell_type": "code",
   "execution_count": 17,
   "id": "5b3d8f77-fb58-4ace-a9bc-e0ea1331c233",
   "metadata": {},
   "outputs": [],
   "source": [
    "from sklearn.feature_extraction.text import CountVectorizer\n",
    "cv = CountVectorizer(max_features=500, stop_words='english')"
   ]
  },
  {
   "cell_type": "markdown",
   "id": "8f3c8d7d-0423-4bfa-af9e-ea9379b56c85",
   "metadata": {},
   "source": [
    "불용어"
   ]
  },
  {
   "cell_type": "code",
   "execution_count": 18,
   "id": "fd41b966-295a-420e-ad2d-b9ba17dd6133",
   "metadata": {},
   "outputs": [],
   "source": [
    "from sklearn.feature_extraction.text import ENGLISH_STOP_WORDS\n",
    "#ENGLISH_STOP_WORDS"
   ]
  },
  {
   "cell_type": "code",
   "execution_count": 19,
   "id": "72d4d3f2-bb37-4d28-8d0e-d09f63d72de8",
   "metadata": {},
   "outputs": [],
   "source": [
    "stop_words = ENGLISH_STOP_WORDS | {'my_stop_word'}"
   ]
  },
  {
   "cell_type": "code",
   "execution_count": 20,
   "id": "276607c7-77c1-4dda-a385-a4748563c13b",
   "metadata": {},
   "outputs": [],
   "source": [
    "#stop_words"
   ]
  },
  {
   "cell_type": "code",
   "execution_count": 21,
   "id": "901e63d0-c954-49a0-ae52-43e962b6a7be",
   "metadata": {},
   "outputs": [],
   "source": [
    "dtm = cv.fit_transform(df['review'])"
   ]
  },
  {
   "cell_type": "code",
   "execution_count": 22,
   "id": "085c0446-c06c-404c-a6fa-6e4d425d34fc",
   "metadata": {},
   "outputs": [
    {
     "data": {
      "text/plain": [
       "(1000, 500)"
      ]
     },
     "execution_count": 22,
     "metadata": {},
     "output_type": "execute_result"
    }
   ],
   "source": [
    "dtm.shape"
   ]
  },
  {
   "cell_type": "code",
   "execution_count": 23,
   "id": "8723133a-0cd3-4a8a-b988-0b1812d9fe76",
   "metadata": {},
   "outputs": [
    {
     "data": {
      "text/plain": [
       "array(['10', '100', '12', '20', '30', '35', '40', 'absolutely', 'ago',\n",
       "       'amazing', 'ambiance', 'ambience', 'anytime', 'area', 'arrived',\n",
       "       'ask', 'asked', 'ate', 'atmosphere', 'attentive', 'authentic',\n",
       "       'average', 'avoid', 'away', 'awesome', 'awful', 'bacon', 'bad',\n",
       "       'bar', 'barely', 'basically', 'bathroom', 'batter', 'bay', 'beans',\n",
       "       'beat', 'beautiful', 'beef', 'beer', 'believe', 'belly', 'best',\n",
       "       'better', 'big', 'biscuits', 'bisque', 'bit', 'bite', 'bites',\n",
       "       'black', 'bland', 'boyfriend', 'bread', 'breakfast', 'bring',\n",
       "       'brought', 'brunch', 'buffet', 'burger', 'burgers', 'business',\n",
       "       'busy', 'butter', 'cafe', 'came', 'care', 'check', 'checked',\n",
       "       'cheese', 'chef', 'chewy', 'chicken', 'chips', 'clean', 'close',\n",
       "       'cold', 'come', 'coming', 'considering', 'cooked', 'cool',\n",
       "       'couldn', 'couple', 'course', 'cream', 'customer', 'damn', 'day',\n",
       "       'deal', 'decor', 'definitely', 'delicious', 'delish', 'deserves',\n",
       "       'dessert', 'desserts', 'did', 'didn', 'different', 'dining',\n",
       "       'dinner', 'dirty', 'disappointed', 'disappointing',\n",
       "       'disappointment', 'dish', 'dishes', 'dog', 'don', 'door',\n",
       "       'dressing', 'drink', 'drinks', 'drive', 'dry', 'duck', 'eat',\n",
       "       'eaten', 'eating', 'edible', 'egg', 'enjoy', 'enjoyed', 'equally',\n",
       "       'especially', 'establishment', 'excellent', 'expect', 'expected',\n",
       "       'experience', 'extremely', 'fact', 'family', 'fantastic', 'far',\n",
       "       'fast', 'favorite', 'feel', 'feeling', 'feels', 'fell', 'felt',\n",
       "       'filet', 'filling', 'finally', 'fine', 'finish', 'fish', 'flat',\n",
       "       'flavor', 'flavorful', 'flavorless', 'flower', 'fly', 'focused',\n",
       "       'folks', 'food', 'fresh', 'fried', 'friend', 'friendly', 'friends',\n",
       "       'fries', 'frozen', 'fry', 'fun', 'garlic', 'gave', 'generous',\n",
       "       'getting', 'given', 'glad', 'going', 'gold', 'gone', 'good', 'got',\n",
       "       'grease', 'great', 'greek', 'green', 'greeted', 'grill', 'grilled',\n",
       "       'gross', 'grossed', 'group', 'guess', 'guy', 'gyros', 'half',\n",
       "       'hands', 'happy', 'hard', 'healthy', 'heart', 'helpful', 'high',\n",
       "       'highly', 'hit', 'home', 'homemade', 'honest', 'hope', 'horrible',\n",
       "       'hot', 'hour', 'house', 'huge', 'hummus', 'husband', 'ice',\n",
       "       'immediately', 'impressed', 'incredible', 'inside', 'insulted',\n",
       "       'interesting', 'isn', 'job', 'just', 'kept', 'kind', 'know',\n",
       "       'lacked', 'lacking', 'large', 'leave', 'left', 'let', 'life',\n",
       "       'like', 'liked', 'list', 'literally', 'little', 'live', 'll',\n",
       "       'lobster', 'location', 'long', 'longer', 'look', 'looked',\n",
       "       'looking', 'lot', 'love', 'loved', 'lovely', 'lovers', 'low',\n",
       "       'lukewarm', 'lunch', 'make', 'management', 'manager', 'maybe',\n",
       "       'meal', 'meals', 'meat', 'mediocre', 'melt', 'menu', 'minutes',\n",
       "       'moist', 'mom', 'money', 'mouth', 'music', 'nasty', 'need',\n",
       "       'needs', 'neighborhood', 'new', 'nice', 'nicest', 'night', 'non',\n",
       "       'note', 'offers', 'oh', 'ok', 'old', 'omg', 'opportunity',\n",
       "       'options', 'order', 'ordered', 'orders', 'outside', 'outstanding',\n",
       "       'oven', 'overall', 'overpriced', 'overwhelmed', 'owner', 'owners',\n",
       "       'pace', 'paid', 'pancakes', 'paper', 'par', 'party', 'passed',\n",
       "       'pasta', 'patio', 'pay', 'people', 'perfect', 'perfectly', 'pho',\n",
       "       'phoenix', 'piece', 'pita', 'pizza', 'pizzas', 'place', 'places',\n",
       "       'pleasant', 'pleased', 'point', 'poor', 'pork', 'portions',\n",
       "       'possible', 'potato', 'potatoes', 'pretty', 'price', 'priced',\n",
       "       'prices', 'pricing', 'probably', 'professional', 'promise',\n",
       "       'pulled', 'quality', 'quick', 'quickly', 'quite', 'rare', 'rated',\n",
       "       'real', 'really', 'reasonable', 'received', 'recommend',\n",
       "       'recommendation', 'recommended', 'regular', 'restaurant',\n",
       "       'restaurants', 'return', 'review', 'reviews', 'rice', 'right',\n",
       "       'rolls', 'room', 'rude', 'running', 'sad', 'said', 'salad',\n",
       "       'salads', 'salmon', 'salsa', 'salt', 'sandwich', 'sashimi', 'sat',\n",
       "       'satisfying', 'sauce', 'say', 'scallop', 'seafood', 'seasoned',\n",
       "       'seated', 'seating', 'second', 'seen', 'selection', 'selections',\n",
       "       'seriously', 'serve', 'served', 'server', 'servers', 'serves',\n",
       "       'service', 'services', 'serving', 'setting', 'shower', 'shrimp',\n",
       "       'sick', 'sides', 'slow', 'small', 'soggy', 'soon', 'soup',\n",
       "       'special', 'spicy', 'spot', 'staff', 'stale', 'star', 'stars',\n",
       "       'stay', 'steak', 'steaks', 'stomach', 'stop', 'strip', 'style',\n",
       "       'subway', 'sucked', 'sucks', 'super', 'sure', 'sushi', 'sweet',\n",
       "       'table', 'tables', 'tacos', 'talk', 'taste', 'tasted', 'tasteless',\n",
       "       'tasty', 'tea', 'tell', 'tender', 'terrible', 'texture', 'thai',\n",
       "       'thing', 'things', 'think', 'thought', 'thumbs', 'time', 'times',\n",
       "       'tip', 'today', 'told', 'took', 'total', 'totally', 'town',\n",
       "       'treated', 'tried', 'trip', 'try', 'twice', 'unfortunately',\n",
       "       'unless', 'used', 've', 'vegas', 'vegetables', 'vegetarian',\n",
       "       'vibe', 'vinegrette', 'visit', 'wait', 'waited', 'waiter',\n",
       "       'waiting', 'waitress', 'walked', 'wall', 'want', 'wanted', 'warm',\n",
       "       'wasn', 'waste', 'watched', 'water', 'way', 'went', 'white',\n",
       "       'wife', 'wine', 'wings', 'won', 'wonderful', 'word', 'world',\n",
       "       'worse', 'worst', 'worth', 'wouldn', 'wow', 'wrong', 'year',\n",
       "       'years', 'yummy', 'zero'], dtype=object)"
      ]
     },
     "execution_count": 23,
     "metadata": {},
     "output_type": "execute_result"
    }
   ],
   "source": [
    "cv.get_feature_names_out()"
   ]
  },
  {
   "cell_type": "markdown",
   "id": "260d5ac7-dd0d-463c-8114-ef4890e56acb",
   "metadata": {},
   "source": [
    "단어 빈도"
   ]
  },
  {
   "cell_type": "code",
   "execution_count": 24,
   "id": "10dd7d99-d8f3-48d8-8198-23b7c1ff7b1d",
   "metadata": {},
   "outputs": [
    {
     "data": {
      "text/plain": [
       "matrix([[  5,   2,   2,   4,   5,   3,   4,   8,   3,  24,   7,   3,   5,\n",
       "           7,   3,   4,   5,   3,  11,   7,   6,   4,   5,   5,  12,   3,\n",
       "           5,  18,   7,   5,   2,   3,   2,   4,   3,   4,   3,   5,   8,\n",
       "           3,   2,  30,  16,   3,   2,   2,   8,   2,   2,   2,  11,   3,\n",
       "           5,  10,   5,   3,   3,  11,  12,   4,   4,   3,   3,   3,  20,\n",
       "           3,   7,   3,   3,   4,   3,  17,   7,   9,   4,   9,  11,  10,\n",
       "           4,   7,   3,   3,   3,   3,   4,   6,   4,   9,   7,   3,  19,\n",
       "          23,   3,   3,   5,   3,  22,  13,   3,   8,   6,   4,  19,   5,\n",
       "           4,   8,   9,   3,  26,   3,   3,   4,   4,   4,   4,   3,  19,\n",
       "           5,   8,   3,   3,   6,   5,   3,   3,   4,  10,   5,   3,  20,\n",
       "           5,   4,   7,  12,   7,   5,   3,  11,   2,   2,   2,   8,   2,\n",
       "           2,   2,   3,   2,   5,   3,  13,   3,   2,   2,   2,   2,   4,\n",
       "         126,  14,   5,   5,  27,   4,   9,   3,   2,   4,   2,   4,   3,\n",
       "           8,   2,   2,  18,   2,   3,  95,  18,   2,  70,   3,   3,   2,\n",
       "           2,   2,   2,   2,   2,   3,   2,   2,   3,   3,   8,   6,   3,\n",
       "           4,   4,   4,   4,   5,   5,   3,   3,   3,   6,   9,   6,   4,\n",
       "           5,   3,   4,   5,   3,   8,   4,   7,   3,   3,   3,   4,  35,\n",
       "           5,   4,  11,   3,   3,   4,   4,   6,   3,   2,  46,   3,   3,\n",
       "           3,  10,   4,  13,   3,   4,   5,   2,   4,   2,   2,   7,  19,\n",
       "          10,   2,   2,   2,   2,  10,   8,   6,   4,   3,  11,   3,   9,\n",
       "           6,   3,  15,  19,   3,   3,   6,   3,   3,   3,   3,   4,   2,\n",
       "           5,  25,   2,  12,   2,   2,   2,   3,   3,   5,   2,   2,   4,\n",
       "          11,  14,   2,   5,   3,   2,   8,   7,   2,   4,   4,   2,   2,\n",
       "           2,   2,   3,   3,   2,   5,   3,   4,   9,  10,   3,   6,   4,\n",
       "           4,   3,  15,   3, 106,   5,   3,   3,   3,   6,   4,   5,   4,\n",
       "           6,   3,  20,   7,   3,  10,   2,  10,   2,   2,   3,  14,   5,\n",
       "           3,   8,   4,   2,   5,  36,   5,   3,  11,   3,   3,   3,  25,\n",
       "           3,   5,   3,   3,   4,   9,   3,   3,   8,   4,   4,   8,  15,\n",
       "           2,   4,   3,   3,   9,   3,   5,   2,  10,  16,   2,   5,   2,\n",
       "           5,   3,   3,   2,  10,   2,   7,   2,   6,  13,   5,   2,  85,\n",
       "           2,   2,   3,   2,   6,   5,   3,  11,   6,   3,   9,   4,   7,\n",
       "           8,   8,  19,   3,   3,  15,   3,  14,   4,   3,   3,   3,   3,\n",
       "           3,   4,   3,   7,   8,  13,   5,   9,   5,   4,   5,  13,   8,\n",
       "           5,  11,   4,   6,   6,  10,   3,   5,   8,   5,  16,   5,   4,\n",
       "          42,  13,   3,   4,   3,   8,   3,   3,   7,   3,   7,   4,   8,\n",
       "           6,   4,   3,   3,  23,  22,   4,   3,   3,   2,   4,  14,  10,\n",
       "           7,   5,   8,   3,   3,  13,   3,   7,  13,   5,   3,   3,  15,\n",
       "          13,   3,   3,   4,   4,  19,   7,   2,   3,   3,  15,  10,   3,\n",
       "           3,   5,   2,   3,   4,   5]])"
      ]
     },
     "execution_count": 24,
     "metadata": {},
     "output_type": "execute_result"
    }
   ],
   "source": [
    "dtm.sum(axis=0)"
   ]
  },
  {
   "cell_type": "code",
   "execution_count": 25,
   "id": "a108b607-62cb-4b77-b6e2-697b9502660b",
   "metadata": {},
   "outputs": [],
   "source": [
    "word_count = pd.DataFrame({\n",
    "    '단어': cv.get_feature_names_out(),\n",
    "    '빈도': dtm.sum(axis=0).flat\n",
    "})"
   ]
  },
  {
   "cell_type": "code",
   "execution_count": 26,
   "id": "6ff28567-4ea4-4759-96e1-d98793b20ecb",
   "metadata": {},
   "outputs": [
    {
     "data": {
      "text/html": [
       "<div>\n",
       "<style scoped>\n",
       "    .dataframe tbody tr th:only-of-type {\n",
       "        vertical-align: middle;\n",
       "    }\n",
       "\n",
       "    .dataframe tbody tr th {\n",
       "        vertical-align: top;\n",
       "    }\n",
       "\n",
       "    .dataframe thead th {\n",
       "        text-align: right;\n",
       "    }\n",
       "</style>\n",
       "<table border=\"1\" class=\"dataframe\">\n",
       "  <thead>\n",
       "    <tr style=\"text-align: right;\">\n",
       "      <th></th>\n",
       "      <th>단어</th>\n",
       "      <th>빈도</th>\n",
       "    </tr>\n",
       "  </thead>\n",
       "  <tbody>\n",
       "    <tr>\n",
       "      <th>156</th>\n",
       "      <td>food</td>\n",
       "      <td>126</td>\n",
       "    </tr>\n",
       "    <tr>\n",
       "      <th>316</th>\n",
       "      <td>place</td>\n",
       "      <td>106</td>\n",
       "    </tr>\n",
       "    <tr>\n",
       "      <th>175</th>\n",
       "      <td>good</td>\n",
       "      <td>95</td>\n",
       "    </tr>\n",
       "    <tr>\n",
       "      <th>389</th>\n",
       "      <td>service</td>\n",
       "      <td>85</td>\n",
       "    </tr>\n",
       "    <tr>\n",
       "      <th>178</th>\n",
       "      <td>great</td>\n",
       "      <td>70</td>\n",
       "    </tr>\n",
       "  </tbody>\n",
       "</table>\n",
       "</div>"
      ],
      "text/plain": [
       "          단어   빈도\n",
       "156     food  126\n",
       "316    place  106\n",
       "175     good   95\n",
       "389  service   85\n",
       "178    great   70"
      ]
     },
     "execution_count": 26,
     "metadata": {},
     "output_type": "execute_result"
    }
   ],
   "source": [
    "word_count.sort_values('빈도', ascending=False).head()"
   ]
  },
  {
   "cell_type": "markdown",
   "id": "4ee49f0c-254d-4dfa-9fe6-ed505048589e",
   "metadata": {},
   "source": [
    "## 단어 구름"
   ]
  },
  {
   "cell_type": "code",
   "execution_count": 29,
   "id": "bd9d8062-516a-43bb-968f-ee3f13fde937",
   "metadata": {},
   "outputs": [],
   "source": [
    "from wordcloud import WordCloud"
   ]
  },
  {
   "cell_type": "code",
   "execution_count": 30,
   "id": "344c3ec6-e46f-4151-b7bb-ed7f700f7d1a",
   "metadata": {},
   "outputs": [],
   "source": [
    "wc = WordCloud(\n",
    "  font_path='NanumGothic.ttf', # 글꼴 파일이 있을 경우\n",
    "  background_color='white',    # 배경색\n",
    "  max_words=100,               # 시각화할 단어 개수\n",
    "  width=400,                   # 가로 크기\n",
    "  height=300)                  # 세로 크기"
   ]
  },
  {
   "cell_type": "code",
   "execution_count": 31,
   "id": "1ab88228-350c-48dd-8fc4-6a385ca2b02b",
   "metadata": {},
   "outputs": [],
   "source": [
    "count_dic = dict(zip(word_count.단어, word_count.빈도))"
   ]
  },
  {
   "cell_type": "code",
   "execution_count": 33,
   "id": "a38e4c30-bc5d-44ea-9916-866612622ffc",
   "metadata": {},
   "outputs": [],
   "source": [
    "cloud = wc.fit_words(count_dic)"
   ]
  },
  {
   "cell_type": "code",
   "execution_count": 34,
   "id": "64c07ca0-2df1-4510-ba71-067628aaf23b",
   "metadata": {},
   "outputs": [
    {
     "data": {
      "image/png": "[encoded data removed]",
      "text/plain": [
       "<PIL.Image.Image image mode=RGB size=400x300>"
      ]
     },
     "execution_count": 34,
     "metadata": {},
     "output_type": "execute_result"
    }
   ],
   "source": [
    "cloud.to_image()"
   ]
  },
  {
   "cell_type": "code",
   "execution_count": 35,
   "id": "2b76243e-ef35-46ff-81be-97e3bbb0e483",
   "metadata": {},
   "outputs": [
    {
     "data": {
      "text/plain": [
       "<wordcloud.wordcloud.WordCloud at 0x7fe065c10a30>"
      ]
     },
     "execution_count": 35,
     "metadata": {},
     "output_type": "execute_result"
    }
   ],
   "source": [
    "cloud.to_file('save/cloud.png')"
   ]
  }
 ],
 "metadata": {
  "kernelspec": {
   "display_name": "Python 3 (ipykernel)",
   "language": "python",
   "name": "python3"
  },
  "language_info": {
   "codemirror_mode": {
    "name": "ipython",
    "version": 3
   },
   "file_extension": ".py",
   "mimetype": "text/x-python",
   "name": "python",
   "nbconvert_exporter": "python",
   "pygments_lexer": "ipython3",
   "version": "3.10.6"
  }
 },
 "nbformat": 4,
 "nbformat_minor": 5
}
