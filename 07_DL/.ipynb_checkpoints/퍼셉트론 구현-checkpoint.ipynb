{
 "cells": [
  {
   "cell_type": "markdown",
   "metadata": {
    "id": "ZHcfabSu6Gxf"
   },
   "source": [
    "# 퍼셉트론 구현\n",
    "- 다양한 방식의 퍼셉트론 구현 실습"
   ]
  },
  {
   "cell_type": "markdown",
   "metadata": {
    "id": "p9yhN5iP6RMX"
   },
   "source": [
    "## 순수 Python만 사용하여 구현"
   ]
  },
  {
   "cell_type": "code",
   "execution_count": 1,
   "metadata": {
    "colab": {
     "base_uri": "https://localhost:8080/"
    },
    "executionInfo": {
     "elapsed": 2,
     "status": "ok",
     "timestamp": 1647581885116,
     "user": {
      "displayName": "‍박종혁(교원-AI빅데이터융합경영학과)",
      "photoUrl": "https://lh3.googleusercontent.com/a/default-user=s64",
      "userId": "05107650215573502422"
     },
     "user_tz": -540
    },
    "id": "gjFKzBi85Udz",
    "outputId": "b3cc2965-a737-48f2-a78a-d66cf884a32c",
    "tags": []
   },
   "outputs": [
    {
     "name": "stdout",
     "output_type": "stream",
     "text": [
      "(-1.5, 0)\n",
      "(-0.5, 0)\n",
      "(-0.5, 0)\n",
      "(0.5, 1)\n"
     ]
    }
   ],
   "source": [
    "epsilon = 0.0000001\n",
    "\n",
    "def perceptron(x1, x2):\n",
    "    w1, w2, b = 1.0, 1.0, -1.5\n",
    "    sum = x1*w1+x2*w2+b\n",
    "    # sum = x1*w1 + x2*w2 + w0\n",
    "    if sum > epsilon :\t\t# 부동소수점 오차를 방지하기 위하여\n",
    "        return sum, 1\n",
    "    else :\n",
    "        return sum, 0\n",
    "    \n",
    "print(perceptron(0, 0))\n",
    "print(perceptron(1, 0))\n",
    "print(perceptron(0, 1))\n",
    "print(perceptron(1, 1))"
   ]
  },
  {
   "cell_type": "markdown",
   "metadata": {
    "id": "bnxb1ThA6Yz_"
   },
   "source": [
    "## Numpy 사용하여 구현"
   ]
  },
  {
   "cell_type": "code",
   "execution_count": 2,
   "metadata": {
    "colab": {
     "base_uri": "https://localhost:8080/"
    },
    "executionInfo": {
     "elapsed": 299,
     "status": "ok",
     "timestamp": 1647582085061,
     "user": {
      "displayName": "‍박종혁(교원-AI빅데이터융합경영학과)",
      "photoUrl": "https://lh3.googleusercontent.com/a/default-user=s64",
      "userId": "05107650215573502422"
     },
     "user_tz": -540
    },
    "id": "IeJKRG7t5xAf",
    "outputId": "cd8997ed-adc3-49ae-c83f-7a7080988a8f",
    "tags": []
   },
   "outputs": [
    {
     "name": "stdout",
     "output_type": "stream",
     "text": [
      "0\n",
      "0\n",
      "0\n",
      "1\n"
     ]
    }
   ],
   "source": [
    "import numpy as np\n",
    "epsilon = 0.0000001\n",
    "\n",
    "def perceptron(x1, x2):\n",
    "    X = np.array([x1, x2])\n",
    "    W = np.array([1.0, 1.0])\n",
    "    B = -1.5\n",
    "    sum = np.dot(W, X)+B\n",
    "    if sum > epsilon :\n",
    "        return 1\n",
    "    else :\n",
    "        return 0\n",
    "\n",
    "print(perceptron(0, 0))\n",
    "print(perceptron(1, 0))\n",
    "print(perceptron(0, 1))\n",
    "print(perceptron(1, 1))"
   ]
  },
  {
   "cell_type": "markdown",
   "metadata": {
    "id": "0_yR5wLN6hwK"
   },
   "source": [
    "## Numpy 사용하여 퍼셉트론 학습"
   ]
  },
  {
   "cell_type": "code",
   "execution_count": 3,
   "metadata": {
    "colab": {
     "base_uri": "https://localhost:8080/"
    },
    "executionInfo": {
     "elapsed": 469,
     "status": "ok",
     "timestamp": 1647582909291,
     "user": {
      "displayName": "‍박종혁(교원-AI빅데이터융합경영학과)",
      "photoUrl": "https://lh3.googleusercontent.com/a/default-user=s64",
      "userId": "05107650215573502422"
     },
     "user_tz": -540
    },
    "id": "ylfdYgcS5zA_",
    "outputId": "0fbed921-88bd-4cae-809a-265386903bc2",
    "tags": []
   },
   "outputs": [],
   "source": [
    "import numpy as np\n",
    "\n",
    "def step_func(t):\t\t# 퍼셉트론의 활성화 함수\n",
    "    if t > epsilon: return 1\n",
    "    else: return 0\n",
    "\n",
    "def perceptron_fit(X, Y, epochs=10):\t# 퍼셉트론 학습 알고리즘 구현\n",
    "    global W\n",
    "    eta = 0.2\t\t\t\t# 학습률\n",
    "\n",
    "    for t in range(epochs):\n",
    "        print(\"epoch=\", t+1, \"======================\")\n",
    "        for i in range(len(X)):\n",
    "            predict = step_func(np.dot(X[i], W))\n",
    "            error = Y[i] - predict\t\t# 오차 계산\n",
    "            W += eta * error * X[i]\t\t# 가중치 업데이트\n",
    "            print(\"현재 처리 입력=\",X[i],\"정답=\",Y[i],\"출력=\",predict,\"변경된 가중치=\", W)\n",
    "        print(\"================================\")\n",
    "\n",
    "def perceptron_predict(X, Y):\t\t# 예측\t\n",
    "    global W\n",
    "    for x in X:\n",
    "         print(x[0], x[1], \"->\", step_func(np.dot(x, W)))\n",
    "\n",
    "epsilon = 0.0000001\t\t# 부동소수점 오차 방지\n",
    "\n",
    "X = np.array([\t\t\t# 훈련 데이터 세트\n",
    "    [0, 0, 1],\t\t\t# 맨 끝의 1은 바이어스를 위한 입력 신호 1이다. \n",
    "    [0, 1, 1],\t\t\t# 맨 끝의 1은 바이어스를 위한 입력 신호 1이다. \n",
    "    [1, 0, 1],\t\t\t# 맨 끝의 1은 바이어스를 위한 입력 신호 1이다. \n",
    "    [1, 1, 1]\t\t\t# 맨 끝의 1은 바이어스를 위한 입력 신호 1이다. \n",
    "])\n",
    "\t\n",
    "y = np.array([0, 0, 0, 1])\t# 정답을 저장하는 넘파이 행렬\n",
    "W = np.zeros(len(X[0]))\t# 가중치를 저장하는 넘파이 행렬"
   ]
  },
  {
   "cell_type": "code",
   "execution_count": 4,
   "metadata": {
    "tags": []
   },
   "outputs": [
    {
     "name": "stdout",
     "output_type": "stream",
     "text": [
      "epoch= 1 ======================\n",
      "현재 처리 입력= [0 0 1] 정답= 0 출력= 0 변경된 가중치= [0. 0. 0.]\n",
      "현재 처리 입력= [0 1 1] 정답= 0 출력= 0 변경된 가중치= [0. 0. 0.]\n",
      "현재 처리 입력= [1 0 1] 정답= 0 출력= 0 변경된 가중치= [0. 0. 0.]\n",
      "현재 처리 입력= [1 1 1] 정답= 1 출력= 0 변경된 가중치= [0.2 0.2 0.2]\n",
      "================================\n",
      "epoch= 2 ======================\n",
      "현재 처리 입력= [0 0 1] 정답= 0 출력= 1 변경된 가중치= [0.2 0.2 0. ]\n",
      "현재 처리 입력= [0 1 1] 정답= 0 출력= 1 변경된 가중치= [ 0.2  0.  -0.2]\n",
      "현재 처리 입력= [1 0 1] 정답= 0 출력= 0 변경된 가중치= [ 0.2  0.  -0.2]\n",
      "현재 처리 입력= [1 1 1] 정답= 1 출력= 0 변경된 가중치= [0.4 0.2 0. ]\n",
      "================================\n",
      "epoch= 3 ======================\n",
      "현재 처리 입력= [0 0 1] 정답= 0 출력= 0 변경된 가중치= [0.4 0.2 0. ]\n",
      "현재 처리 입력= [0 1 1] 정답= 0 출력= 1 변경된 가중치= [ 0.4  0.  -0.2]\n",
      "현재 처리 입력= [1 0 1] 정답= 0 출력= 1 변경된 가중치= [ 0.2  0.  -0.4]\n",
      "현재 처리 입력= [1 1 1] 정답= 1 출력= 0 변경된 가중치= [ 0.4  0.2 -0.2]\n",
      "================================\n",
      "epoch= 4 ======================\n",
      "현재 처리 입력= [0 0 1] 정답= 0 출력= 0 변경된 가중치= [ 0.4  0.2 -0.2]\n",
      "현재 처리 입력= [0 1 1] 정답= 0 출력= 0 변경된 가중치= [ 0.4  0.2 -0.2]\n",
      "현재 처리 입력= [1 0 1] 정답= 0 출력= 1 변경된 가중치= [ 0.2  0.2 -0.4]\n",
      "현재 처리 입력= [1 1 1] 정답= 1 출력= 0 변경된 가중치= [ 0.4  0.4 -0.2]\n",
      "================================\n",
      "epoch= 5 ======================\n",
      "현재 처리 입력= [0 0 1] 정답= 0 출력= 0 변경된 가중치= [ 0.4  0.4 -0.2]\n",
      "현재 처리 입력= [0 1 1] 정답= 0 출력= 1 변경된 가중치= [ 0.4  0.2 -0.4]\n",
      "현재 처리 입력= [1 0 1] 정답= 0 출력= 0 변경된 가중치= [ 0.4  0.2 -0.4]\n",
      "현재 처리 입력= [1 1 1] 정답= 1 출력= 1 변경된 가중치= [ 0.4  0.2 -0.4]\n",
      "================================\n",
      "epoch= 6 ======================\n",
      "현재 처리 입력= [0 0 1] 정답= 0 출력= 0 변경된 가중치= [ 0.4  0.2 -0.4]\n",
      "현재 처리 입력= [0 1 1] 정답= 0 출력= 0 변경된 가중치= [ 0.4  0.2 -0.4]\n",
      "현재 처리 입력= [1 0 1] 정답= 0 출력= 0 변경된 가중치= [ 0.4  0.2 -0.4]\n",
      "현재 처리 입력= [1 1 1] 정답= 1 출력= 1 변경된 가중치= [ 0.4  0.2 -0.4]\n",
      "================================\n"
     ]
    }
   ],
   "source": [
    "perceptron_fit(X, y, 6)"
   ]
  },
  {
   "cell_type": "code",
   "execution_count": 5,
   "metadata": {
    "tags": []
   },
   "outputs": [
    {
     "name": "stdout",
     "output_type": "stream",
     "text": [
      "0 0 -> 0\n",
      "0 1 -> 0\n",
      "1 0 -> 0\n",
      "1 1 -> 1\n"
     ]
    }
   ],
   "source": [
    "perceptron_predict(X, y)"
   ]
  },
  {
   "cell_type": "markdown",
   "metadata": {
    "id": "BfTcgcP56up_"
   },
   "source": [
    "# Scikit-learn 사용하여 퍼셉트론 구현 및 학습"
   ]
  },
  {
   "cell_type": "code",
   "execution_count": 8,
   "metadata": {
    "colab": {
     "base_uri": "https://localhost:8080/"
    },
    "executionInfo": {
     "elapsed": 3,
     "status": "ok",
     "timestamp": 1647583247321,
     "user": {
      "displayName": "‍박종혁(교원-AI빅데이터융합경영학과)",
      "photoUrl": "https://lh3.googleusercontent.com/a/default-user=s64",
      "userId": "05107650215573502422"
     },
     "user_tz": -540
    },
    "id": "j1Ts7UyV51K3",
    "outputId": "0f283ea4-9ae7-422a-d5ba-f24b1952aa8f"
   },
   "outputs": [
    {
     "name": "stdout",
     "output_type": "stream",
     "text": [
      "[0 0 0 1]\n"
     ]
    }
   ],
   "source": [
    "from sklearn.linear_model import Perceptron\n",
    "\n",
    "# 논리적 AND 연산 샘플과 정답이다. \n",
    "X = [[0,0],[0,1],[1,0],[1,1]]\t\t# 항상 2차원 배열이어야 한다. \n",
    "# X = [[0],[1],[2],[3]]\t\t# 항상 2차원 배열이어야 한다. \n",
    "y = [0, 0, 0, 1]\n",
    "\n",
    "# 퍼셉트론을 생성한다. tol는 종료 조건이다. random_state는 난수의 시드이다.\n",
    "clf = Perceptron(tol=1e-3, random_state=0)\n",
    "\n",
    "# 학습을 수행한다. \n",
    "clf.fit(X, y)\n",
    "\n",
    "# 테스트를 수행한다. \n",
    "print(clf.predict(X))"
   ]
  },
  {
   "cell_type": "markdown",
   "metadata": {
    "id": "vmb0feCVnV30"
   },
   "source": [
    "## 시각화"
   ]
  },
  {
   "cell_type": "code",
   "execution_count": 14,
   "metadata": {
    "colab": {
     "base_uri": "https://localhost:8080/",
     "height": 297
    },
    "executionInfo": {
     "elapsed": 950,
     "status": "ok",
     "timestamp": 1647583362661,
     "user": {
      "displayName": "‍박종혁(교원-AI빅데이터융합경영학과)",
      "photoUrl": "https://lh3.googleusercontent.com/a/default-user=s64",
      "userId": "05107650215573502422"
     },
     "user_tz": -540
    },
    "id": "9H3XRJJr53YX",
    "outputId": "53110ef8-f948-4a3f-dc45-96a885260b62",
    "tags": []
   },
   "outputs": [
    {
     "name": "stdout",
     "output_type": "stream",
     "text": [
      "1.0\n"
     ]
    },
    {
     "data": {
      "image/png": "[encoded data removed]",
      "text/plain": [
       "<Figure size 640x480 with 1 Axes>"
      ]
     },
     "metadata": {},
     "output_type": "display_data"
    }
   ],
   "source": [
    "from matplotlib import pyplot as plt\n",
    "from sklearn.datasets import make_blobs\n",
    "from sklearn.linear_model import Perceptron\n",
    "import numpy as np\n",
    "\n",
    "# 퍼셉트론을 생성한다. tol는 종료 조건이다. random_state는 난수의 시드이다.\n",
    "clf = Perceptron(tol=1e-3, random_state=0)\n",
    "\n",
    "# 뭉쳐진 데이터를 만든다. 샘플의 개수는 총 100개, 클러스터의 개수는 2개이다. \n",
    "X, y = make_blobs(n_samples=200, centers=2)\n",
    "# print(X)\n",
    "# print(y)\n",
    "clf.fit(X, y)\n",
    "\n",
    "from sklearn.metrics import accuracy_score\n",
    "print(accuracy_score(clf.predict(X), y))\n",
    "\n",
    "# 데이터를 그래프 위에 표시한다. \n",
    "plt.scatter(X[:, 0], X[:, 1], c=y, s=200)\n",
    "plt.xlabel(\"x1\")\n",
    "plt.ylabel(\"x2\")\n",
    "\n",
    "# 데이터에서 최소 좌표와 최대 좌표를 계산한다. \n",
    "x_min, x_max = X[:, 0].min() - 1, X[:, 0].max() + 1\n",
    "y_min, y_max = X[:, 1].min() - 1, X[:, 1].max() + 1\n",
    "\n",
    "# 0.1 간격으로 메쉬 그리드 좌표를 만든다. \n",
    "xx, yy = np.meshgrid(np.arange(x_min, x_max, 0.1), np.arange(y_min, y_max, 0.1))\n",
    "\n",
    "# 메쉬 그리드 데이터에 대하여 예측을 한다. \n",
    "Z = clf.predict(np.c_[xx.ravel(), yy.ravel()]).reshape(xx.shape)\n",
    "\n",
    "# 컨투어를 그린다. \n",
    "plt.contourf(xx, yy, Z, alpha=0.4)\n",
    "plt.show()"
   ]
  }
 ],
 "metadata": {
  "colab": {
   "authorship_tag": "ABX9TyMFBHl8PSmx+J4PuKJ9+R81",
   "collapsed_sections": [],
   "name": "퍼셉트론 구현.ipynb의 사본",
   "provenance": [
    {
     "file_id": "1BBh4bOz6NObuT7XIlhWjervMUyfdJYj-",
     "timestamp": 1647583584624
    },
    {
     "file_id": "1sekZnVERdnu68egVyacaCWWzNAYVobHz",
     "timestamp": 1647571789769
    }
   ]
  },
  "kernelspec": {
   "display_name": "Python 3 (ipykernel)",
   "language": "python",
   "name": "python3"
  },
  "language_info": {
   "codemirror_mode": {
    "name": "ipython",
    "version": 3
   },
   "file_extension": ".py",
   "mimetype": "text/x-python",
   "name": "python",
   "nbconvert_exporter": "python",
   "pygments_lexer": "ipython3",
   "version": "3.10.6"
  }
 },
 "nbformat": 4,
 "nbformat_minor": 4
}
