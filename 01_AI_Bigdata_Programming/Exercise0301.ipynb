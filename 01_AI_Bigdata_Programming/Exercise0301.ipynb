{
 "cells": [
  {
   "cell_type": "markdown",
   "id": "49877851",
   "metadata": {},
   "source": [
    " ## <span style=\"color:#004f9f\"> 1. 거스름돈을 알려주는 프로그램 </span>"
   ]
  },
  {
   "cell_type": "markdown",
   "id": "a8affe3b",
   "metadata": {},
   "source": [
    "- 사용자가 물건의 가격과 지불한 금액을 입력\n",
    "- 물건 가격과 지불한 금액은 100원 단위\n",
    "- 거스름돈을 계산해주되 동전의 개수는 최대한 적게\n",
    "- 거스름돈은 500원, 100원짜리로만 계산"
   ]
  },
  {
   "cell_type": "code",
   "execution_count": 5,
   "id": "3cd04c71",
   "metadata": {},
   "outputs": [
    {
     "name": "stdout",
     "output_type": "stream",
     "text": [
      "물건의 가격을 입력하세요:3300\n",
      "지불한 금액을 입력하세요:7100\n",
      "거스름돈 3800원 -- 500원 7개, 100원 3개\n"
     ]
    }
   ],
   "source": [
    "price = int(input('물건의 가격을 입력하세요:'))\n",
    "pay = int(input('지불한 금액을 입력하세요:'))\n",
    "\n",
    "change_price = pay - price\n",
    "n_500 = int(change_price/500)\n",
    "n_100 = int((change_price % 500)/100)\n",
    "\n",
    "print(\"거스름돈 \" + str(change_price) + \"원 -- 500원 \" + str(n_500) + \"개, 100원 \" + str(n_100) + \"개\")"
   ]
  },
  {
   "cell_type": "markdown",
   "id": "4ccdf38e",
   "metadata": {},
   "source": [
    " ## <span style=\"color:#004f9f\"> 2. 자료구조 인덱싱과 슬라이싱 </span>"
   ]
  },
  {
   "cell_type": "markdown",
   "id": "42a01ee0",
   "metadata": {},
   "source": [
    "- 다음의 (과일이름, 과일개수) 튜플로 구성된 리스트를 활용하여 다음의 문항을 해결하세요"
   ]
  },
  {
   "cell_type": "code",
   "execution_count": 27,
   "id": "b59d8ac6",
   "metadata": {},
   "outputs": [
    {
     "name": "stdout",
     "output_type": "stream",
     "text": [
      "[('apple', 10), ('banana', 9), ('cherry', 4), ('grape', 5), ('orange', 9), ('strawberry', 6), ('melon', 8)]\n"
     ]
    }
   ],
   "source": [
    "import numpy as np\n",
    "\n",
    "fruit = [('apple', np.random.randint(1,11)), \n",
    "         ('banana', np.random.randint(1,11)),\n",
    "         ('cherry', np.random.randint(1,11)),\n",
    "         ('grape', np.random.randint(1,11)),\n",
    "         ('orange', np.random.randint(1,11)),\n",
    "         ('strawberry', np.random.randint(1,11)),\n",
    "         ('melon', np.random.randint(1,11))]\n",
    "\n",
    "print(fruit)"
   ]
  },
  {
   "cell_type": "markdown",
   "id": "2144ac11",
   "metadata": {},
   "source": [
    "**문항1]** fruit의 마지막 두 개 튜플(tuple)을 출력하세요."
   ]
  },
  {
   "cell_type": "code",
   "execution_count": 28,
   "id": "e3006218",
   "metadata": {},
   "outputs": [
    {
     "data": {
      "text/plain": [
       "[('strawberry', 6), ('melon', 8)]"
      ]
     },
     "execution_count": 28,
     "metadata": {},
     "output_type": "execute_result"
    }
   ],
   "source": [
    "fruit[-2:]"
   ]
  },
  {
   "cell_type": "markdown",
   "id": "4d94204e",
   "metadata": {},
   "source": [
    "**문항2]** fruit리스트에서 'cherry'와 그 개수를 각각 출력하세요."
   ]
  },
  {
   "cell_type": "code",
   "execution_count": 31,
   "id": "f3f1c5be",
   "metadata": {},
   "outputs": [
    {
     "name": "stdout",
     "output_type": "stream",
     "text": [
      "cherry 4\n"
     ]
    }
   ],
   "source": [
    "print(\"cherry\", dict(fruit)['cherry'])"
   ]
  },
  {
   "cell_type": "markdown",
   "id": "51433f83",
   "metadata": {},
   "source": [
    "**문항3]** 'melon'이 3개 있는지 확인하세요. 있다면 True, 없다면 False를 출력하세요."
   ]
  },
  {
   "cell_type": "code",
   "execution_count": 32,
   "id": "083072df",
   "metadata": {},
   "outputs": [
    {
     "name": "stdout",
     "output_type": "stream",
     "text": [
      "False\n"
     ]
    }
   ],
   "source": [
    "if(dict(fruit)['melon'] == 3):\n",
    "    print(True)\n",
    "else:\n",
    "    print(False)"
   ]
  },
  {
   "cell_type": "markdown",
   "id": "9e49a2cc",
   "metadata": {},
   "source": [
    " ## <span style=\"color:#004f9f\"> 3. 영한사전 프로그램 </span>"
   ]
  },
  {
   "cell_type": "markdown",
   "id": "89289522",
   "metadata": {},
   "source": [
    "- 다음의 사전을 이용하여 사용자가 영어단어를 입력하면, 맞는 한글단어를 출력하는 프로그램\n",
    "- 사전에 단어가 없다면 '사전에 없는 단어'를 출력"
   ]
  },
  {
   "cell_type": "code",
   "execution_count": 41,
   "id": "1676ab7f",
   "metadata": {},
   "outputs": [
    {
     "name": "stdout",
     "output_type": "stream",
     "text": [
      "영어 단어를 입력하세요:ttttt\n",
      "사전에 없는 단어\n"
     ]
    }
   ],
   "source": [
    "my_dict = {'boy':'소년',\n",
    "           'girl':'소녀',\n",
    "           'milk':'우유',\n",
    "           'pencil':'연필'}\n",
    "\n",
    "dict_eng = input('영어 단어를 입력하세요:')\n",
    "\n",
    "dict_kor = my_dict.get(dict_eng)\n",
    "if(dict_kor == None):\n",
    "    print(\"사전에 없는 단어\")\n",
    "else:\n",
    "    print(dict_kor)"
   ]
  },
  {
   "cell_type": "markdown",
   "id": "ed9cc43b",
   "metadata": {},
   "source": [
    " ## <span style=\"color:#004f9f\"> 4. 편의점 재고 관리 프로그램 </span>"
   ]
  },
  {
   "cell_type": "markdown",
   "id": "a5592df9",
   "metadata": {},
   "source": [
    "- 재고 상황은 다음과 같이 items 변수에 저장\n",
    "- 현재 재고 상황을 출력\n",
    "- 사용자가 판매한 물건명과 수량을 입력하면, 재고 상황에서 해당 물건과 수량만큼 빼준 뒤 판매 후 제고 출력"
   ]
  },
  {
   "cell_type": "code",
   "execution_count": 52,
   "id": "1d04a1d9",
   "metadata": {},
   "outputs": [
    {
     "name": "stdout",
     "output_type": "stream",
     "text": [
      "{'커피': 10, '우유': 5, '라면': 8, '콜라': 4}\n",
      "물건 명을 입력하세요:커피\n",
      "수량을 입력하세요5\n",
      "판매 후 재고 : {'커피': 5, '우유': 5, '라면': 8, '콜라': 4}\n"
     ]
    }
   ],
   "source": [
    "items = {'커피':10,\n",
    "         '우유':5,\n",
    "         '라면':8,\n",
    "         '콜라':4}\n",
    "\n",
    "print(items)\n",
    "\n",
    "item_name = input('물건 명을 입력하세요:')\n",
    "item_num = int(input('수량을 입력하세요'))\n",
    "\n",
    "cur_stock = items.get(item_name)\n",
    "if(cur_stock == None):\n",
    "    print(\"없는 상품\")\n",
    "else:\n",
    "    if(cur_stock >= item_num):\n",
    "        items[item_name] = cur_stock - item_num\n",
    "        print(\"판매 후 재고 :\", items)\n",
    "    else:\n",
    "        print(\"재고 보다 많은 수량을 입력하였습니다.\")"
   ]
  },
  {
   "cell_type": "code",
   "execution_count": null,
   "id": "1113e1d6",
   "metadata": {},
   "outputs": [],
   "source": []
  }
 ],
 "metadata": {
  "kernelspec": {
   "display_name": "Python 3 (ipykernel)",
   "language": "python",
   "name": "python3"
  },
  "language_info": {
   "codemirror_mode": {
    "name": "ipython",
    "version": 3
   },
   "file_extension": ".py",
   "mimetype": "text/x-python",
   "name": "python",
   "nbconvert_exporter": "python",
   "pygments_lexer": "ipython3",
   "version": "3.8.10"
  }
 },
 "nbformat": 4,
 "nbformat_minor": 5
}
