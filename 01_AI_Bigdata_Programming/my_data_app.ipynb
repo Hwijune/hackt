{
 "cells": [
  {
   "cell_type": "code",
   "execution_count": 5,
   "id": "026126a3",
   "metadata": {},
   "outputs": [],
   "source": [
    "import pandas as pd\n",
    "import numpy as np\n",
    "import matplotlib.pyplot as plt\n",
    "import seaborn as sns\n",
    "sns.set_theme(style='whitegrid', font_scale=1.5)\n",
    "sns.set_palette('Set2', n_colors=10)\n",
    "plt.rc('font', family='AppleGothic')\n",
    "plt.rc('axes', unicode_minus=False)\n",
    "\n",
    "import streamlit as st\n",
    "from datetime import date"
   ]
  },
  {
   "cell_type": "code",
   "execution_count": 6,
   "id": "086d3868",
   "metadata": {},
   "outputs": [],
   "source": [
    "df = pd.read_csv('trans_raw.csv', encoding='euc-kr')\n",
    "lat = pd.read_csv('lat.csv', encoding='euc-kr')\n",
    "df['구매일자'] = pd.to_datetime(df['구매일자'])"
   ]
  },
  {
   "cell_type": "code",
   "execution_count": null,
   "id": "620b3983",
   "metadata": {},
   "outputs": [],
   "source": [
    "df.head()"
   ]
  },
  {
   "cell_type": "code",
   "execution_count": null,
   "id": "e1548fd8",
   "metadata": {},
   "outputs": [],
   "source": [
    "st.set_page_config(page_title='Transaction Dashboard', \n",
    "                   page_icon='🐋', layout='wide')\n",
    "st.title(\"Data App Dashboard\")"
   ]
  },
  {
   "cell_type": "code",
   "execution_count": null,
   "id": "fc460bab",
   "metadata": {},
   "outputs": [],
   "source": [
    "if st.button('새로고침'):\n",
    "    st.experimental_rerun()"
   ]
  },
  {
   "cell_type": "code",
   "execution_count": null,
   "id": "8fec62d3",
   "metadata": {},
   "outputs": [],
   "source": [
    "my_df = df\n",
    "st.sidebar.title(\"조건 필터\")\n",
    "st.sidebar.header(\"날짜 조건\")\n",
    "col1, col2 = st.sidebar.columns(2)\n",
    "with col1:\n",
    "    start_date = st.date_input(\"시작일시\", date(2021, 1, 1),\n",
    "                                       min_value=date(2021,1,1),\n",
    "                                       max_value=date(2021,12,30))\n",
    "with col2:\n",
    "    end_date = st.date_input(\"종료일시\", date(2021, 12, 31),\n",
    "                                     min_value=date(2021,1,2),\n",
    "                                     max_value=date(2021,12,31))\n",
    "my_df = my_df[my_df['구매일자'].dt.date.between(start_date, end_date)]\n",
    "\n",
    "option01 = st.sidebar.checkbox('취소거래제외', value=False)\n",
    "if option01:\n",
    "    my_df = my_df[my_df['취소여부']!=1]\n",
    "    \n",
    "st.sidebar.header('상품분류선택')\n",
    "option02 = st.sidebar.multiselect('상품대분류', (my_df.상품대분류명.unique()), default=(my_df.상품대분류명.unique()))\n",
    "my_df = my_df[my_df.상품대분류명.isin(option02)]\n",
    "option03 = st.sidebar.multiselect('상품중분류', (my_df.상품중분류명.unique()), default=(my_df.상품중분류명.unique()))\n",
    "my_df = my_df[my_df.상품중분류명.isin(option03)]"
   ]
  },
  {
   "cell_type": "code",
   "execution_count": null,
   "id": "0a4b010e",
   "metadata": {},
   "outputs": [],
   "source": [
    "st.header('0. Overview')\n",
    "\n",
    "col1, col2, col3 = st.columns(3)\n",
    "col1.metric(label = \"평균 판매액(단위:만원)\", value = round(my_df['구매금액'].mean() / 10000,3), \n",
    "            delta=round(my_df['구매금액'].mean() / 10000 - df['구매금액'].mean() / 10000, 3))\n",
    "col2.metric(label = \"구매 고객수\", value = my_df['ID'].nunique(),\n",
    "            delta=my_df['ID'].nunique() - df['ID'].nunique())\n",
    "col3.metric(label = \"고객 평균 연령\", value = round(my_df.groupby('ID')['연령'].mean().mean(),3),\n",
    "            delta = round(my_df.groupby('ID')['연령'].mean().mean() - df.groupby('ID')['연령'].mean().mean(),3))"
   ]
  },
  {
   "cell_type": "code",
   "execution_count": null,
   "id": "56172074",
   "metadata": {},
   "outputs": [],
   "source": [
    "st.header('1. 매출현황분석')\n",
    "\n",
    "st.subheader('전체')\n",
    "time_frame = st.selectbox(\"월별/주별/요일별\", (\"month\", \"week\",\"weekday\"))\n",
    "whole_values = my_df.groupby(time_frame)[['구매금액']].sum()\n",
    "st.download_button('Download',whole_values.to_csv(encoding='euc-kr'), '매출현황분석.csv')\n",
    "st.area_chart(whole_values, use_container_width=True)"
   ]
  },
  {
   "cell_type": "code",
   "execution_count": null,
   "id": "134fcd16",
   "metadata": {},
   "outputs": [],
   "source": [
    "st.subheader('지역별 비교')\n",
    "\n",
    "city_range = st.radio(label=\"범위선택\", options=(\"시단위\", \"구단위\"), index=0)\n",
    "\n",
    "if city_range=='시단위':\n",
    "    city_range='구매지역_대분류'\n",
    "    small_region=False\n",
    "else:\n",
    "    city_range='구매지역_소분류'\n",
    "    small_region = st.multiselect(\"구선택\", (my_df.구매지역_소분류.unique()), (my_df.구매지역_소분류.unique()))\n",
    "\n",
    "if small_region==False:\n",
    "    city_values = my_df\n",
    "else:\n",
    "    city_values = my_df[my_df['구매지역_소분류'].isin(small_region)]\n",
    "    \n",
    "city_values = pd.pivot_table(city_values, index=time_frame, columns=city_range, \n",
    "                             values='구매금액', aggfunc='sum',fill_value=0)\n",
    "city_values.index.name = None\n",
    "city_values.columns = list(city_values.columns)\n",
    "\n",
    "st.line_chart(city_values, use_container_width=True)"
   ]
  },
  {
   "cell_type": "code",
   "execution_count": null,
   "id": "da958509",
   "metadata": {},
   "outputs": [],
   "source": [
    "st.subheader('Top5 비교')\n",
    "\n",
    "def top5(col_name, top=5):\n",
    "    my_agg = (my_df.groupby(col_name)['구매금액'].sum()/1000000).reset_index().sort_values('구매금액', ascending=False).head(top)\n",
    "    my_agg[col_name] = my_agg[col_name].astype('str')\n",
    "    fig = plt.figure(figsize=(15,10))\n",
    "    ax = sns.barplot(x='구매금액', y=col_name, data=my_agg)\n",
    "    ax.bar_label(ax.containers[0], label_type='center', color='white')\n",
    "    return fig\n",
    "\n",
    "col1, col2, col3 = st.columns(3)\n",
    "with col1:\n",
    "    st.write('Top5 구매지역(단위:백만원)')\n",
    "    st.pyplot(top5('구매지역_소분류'))\n",
    "with col2:\n",
    "    st.write('Top5 구매시간(단위:백만원)')\n",
    "    st.pyplot(top5('구매시간'))\n",
    "with col3:\n",
    "    st.write('Top5 구매상품(단위:백만원)')\n",
    "    st.pyplot(top5('상품중분류명'))"
   ]
  },
  {
   "cell_type": "code",
   "execution_count": null,
   "id": "96038a87",
   "metadata": {},
   "outputs": [],
   "source": [
    "st.header('2. 고객현황분석')"
   ]
  },
  {
   "cell_type": "code",
   "execution_count": null,
   "id": "80f3df2f",
   "metadata": {},
   "outputs": [],
   "source": [
    "st.subheader('성별 현황')\n",
    "st.write('성별 구매건수')\n",
    "gender_count = my_df.groupby([time_frame, '성별'])['구매수량'].sum().unstack()\n",
    "gender_count.columns = ['남성','여성']\n",
    "st.bar_chart(data=gender_count, use_container_width=True)"
   ]
  },
  {
   "cell_type": "code",
   "execution_count": null,
   "id": "67c9871b",
   "metadata": {},
   "outputs": [],
   "source": [
    "st.subheader('연령분포')\n",
    "age_frame = st.selectbox(\"조건화선택\", (\"전체\", \"성별\",\"취소여부\",\"구매지역_대분류\"))\n",
    "if age_frame=='전체':\n",
    "    fig = sns.displot(x='연령', data=my_df, height=7, rug=True, kde=True)\n",
    "else:\n",
    "    fig = sns.displot(x='연령', data=my_df, height=7, rug=True, hue=age_frame, kde=True)\n",
    "st.pyplot(fig)"
   ]
  },
  {
   "cell_type": "code",
   "execution_count": null,
   "id": "85ec164a",
   "metadata": {},
   "outputs": [],
   "source": [
    "st.subheader('지역별분포')\n",
    "lat = lat.rename(columns={'지역':'거주지역'})\n",
    "map_lat = my_df[['거주지역']].merge(lat)\n",
    "jit = np.random.randn(len(map_lat), 2)\n",
    "jit_ratio = 0.01\n",
    "map_lat[['lat','lon']] = map_lat[['lat','lon']] + jit*jit_ratio\n",
    "st.map(map_lat)"
   ]
  }
 ],
 "metadata": {
  "kernelspec": {
   "display_name": "Python 3 (ipykernel)",
   "language": "python",
   "name": "python3"
  }
 },
 "nbformat": 4,
 "nbformat_minor": 5
}
